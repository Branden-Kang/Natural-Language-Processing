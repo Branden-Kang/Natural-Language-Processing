{
  "nbformat": 4,
  "nbformat_minor": 0,
  "metadata": {
    "colab": {
      "provenance": [],
      "authorship_tag": "ABX9TyM4zMXG+1xvDZ1/jW8ak3jo"
    },
    "kernelspec": {
      "name": "python3",
      "display_name": "Python 3"
    },
    "language_info": {
      "name": "python"
    },
    "widgets": {
      "application/vnd.jupyter.widget-state+json": {
        "8c80c909ae2d4bacb5e12ff321f1b195": {
          "model_module": "@jupyter-widgets/controls",
          "model_name": "HBoxModel",
          "model_module_version": "1.5.0",
          "state": {
            "_dom_classes": [],
            "_model_module": "@jupyter-widgets/controls",
            "_model_module_version": "1.5.0",
            "_model_name": "HBoxModel",
            "_view_count": null,
            "_view_module": "@jupyter-widgets/controls",
            "_view_module_version": "1.5.0",
            "_view_name": "HBoxView",
            "box_style": "",
            "children": [
              "IPY_MODEL_687da5195dd34415835e0ddadd364ff9",
              "IPY_MODEL_c026b72d05704514aadb3c55728a177e",
              "IPY_MODEL_e2bf8cd709f84d9a94566bd96b63f6fa"
            ],
            "layout": "IPY_MODEL_d0f24fa064954aae99cbb430616599ab"
          }
        },
        "687da5195dd34415835e0ddadd364ff9": {
          "model_module": "@jupyter-widgets/controls",
          "model_name": "HTMLModel",
          "model_module_version": "1.5.0",
          "state": {
            "_dom_classes": [],
            "_model_module": "@jupyter-widgets/controls",
            "_model_module_version": "1.5.0",
            "_model_name": "HTMLModel",
            "_view_count": null,
            "_view_module": "@jupyter-widgets/controls",
            "_view_module_version": "1.5.0",
            "_view_name": "HTMLView",
            "description": "",
            "description_tooltip": null,
            "layout": "IPY_MODEL_7376b2fb60ba4ac4a50796dcc6590098",
            "placeholder": "​",
            "style": "IPY_MODEL_9d6c792e95924e058544e2b61f0fb5f1",
            "value": "config.json: 100%"
          }
        },
        "c026b72d05704514aadb3c55728a177e": {
          "model_module": "@jupyter-widgets/controls",
          "model_name": "FloatProgressModel",
          "model_module_version": "1.5.0",
          "state": {
            "_dom_classes": [],
            "_model_module": "@jupyter-widgets/controls",
            "_model_module_version": "1.5.0",
            "_model_name": "FloatProgressModel",
            "_view_count": null,
            "_view_module": "@jupyter-widgets/controls",
            "_view_module_version": "1.5.0",
            "_view_name": "ProgressView",
            "bar_style": "success",
            "description": "",
            "description_tooltip": null,
            "layout": "IPY_MODEL_f24b078cfc7541f7a61b27e9b8afc9d9",
            "max": 665,
            "min": 0,
            "orientation": "horizontal",
            "style": "IPY_MODEL_620b1b6bde304a02b38a9781031be0f8",
            "value": 665
          }
        },
        "e2bf8cd709f84d9a94566bd96b63f6fa": {
          "model_module": "@jupyter-widgets/controls",
          "model_name": "HTMLModel",
          "model_module_version": "1.5.0",
          "state": {
            "_dom_classes": [],
            "_model_module": "@jupyter-widgets/controls",
            "_model_module_version": "1.5.0",
            "_model_name": "HTMLModel",
            "_view_count": null,
            "_view_module": "@jupyter-widgets/controls",
            "_view_module_version": "1.5.0",
            "_view_name": "HTMLView",
            "description": "",
            "description_tooltip": null,
            "layout": "IPY_MODEL_371cca6b43fe44b493ec3073434af245",
            "placeholder": "​",
            "style": "IPY_MODEL_7d11692f63074080acf5781f6ba76fda",
            "value": " 665/665 [00:00&lt;00:00, 9.00kB/s]"
          }
        },
        "d0f24fa064954aae99cbb430616599ab": {
          "model_module": "@jupyter-widgets/base",
          "model_name": "LayoutModel",
          "model_module_version": "1.2.0",
          "state": {
            "_model_module": "@jupyter-widgets/base",
            "_model_module_version": "1.2.0",
            "_model_name": "LayoutModel",
            "_view_count": null,
            "_view_module": "@jupyter-widgets/base",
            "_view_module_version": "1.2.0",
            "_view_name": "LayoutView",
            "align_content": null,
            "align_items": null,
            "align_self": null,
            "border": null,
            "bottom": null,
            "display": null,
            "flex": null,
            "flex_flow": null,
            "grid_area": null,
            "grid_auto_columns": null,
            "grid_auto_flow": null,
            "grid_auto_rows": null,
            "grid_column": null,
            "grid_gap": null,
            "grid_row": null,
            "grid_template_areas": null,
            "grid_template_columns": null,
            "grid_template_rows": null,
            "height": null,
            "justify_content": null,
            "justify_items": null,
            "left": null,
            "margin": null,
            "max_height": null,
            "max_width": null,
            "min_height": null,
            "min_width": null,
            "object_fit": null,
            "object_position": null,
            "order": null,
            "overflow": null,
            "overflow_x": null,
            "overflow_y": null,
            "padding": null,
            "right": null,
            "top": null,
            "visibility": null,
            "width": null
          }
        },
        "7376b2fb60ba4ac4a50796dcc6590098": {
          "model_module": "@jupyter-widgets/base",
          "model_name": "LayoutModel",
          "model_module_version": "1.2.0",
          "state": {
            "_model_module": "@jupyter-widgets/base",
            "_model_module_version": "1.2.0",
            "_model_name": "LayoutModel",
            "_view_count": null,
            "_view_module": "@jupyter-widgets/base",
            "_view_module_version": "1.2.0",
            "_view_name": "LayoutView",
            "align_content": null,
            "align_items": null,
            "align_self": null,
            "border": null,
            "bottom": null,
            "display": null,
            "flex": null,
            "flex_flow": null,
            "grid_area": null,
            "grid_auto_columns": null,
            "grid_auto_flow": null,
            "grid_auto_rows": null,
            "grid_column": null,
            "grid_gap": null,
            "grid_row": null,
            "grid_template_areas": null,
            "grid_template_columns": null,
            "grid_template_rows": null,
            "height": null,
            "justify_content": null,
            "justify_items": null,
            "left": null,
            "margin": null,
            "max_height": null,
            "max_width": null,
            "min_height": null,
            "min_width": null,
            "object_fit": null,
            "object_position": null,
            "order": null,
            "overflow": null,
            "overflow_x": null,
            "overflow_y": null,
            "padding": null,
            "right": null,
            "top": null,
            "visibility": null,
            "width": null
          }
        },
        "9d6c792e95924e058544e2b61f0fb5f1": {
          "model_module": "@jupyter-widgets/controls",
          "model_name": "DescriptionStyleModel",
          "model_module_version": "1.5.0",
          "state": {
            "_model_module": "@jupyter-widgets/controls",
            "_model_module_version": "1.5.0",
            "_model_name": "DescriptionStyleModel",
            "_view_count": null,
            "_view_module": "@jupyter-widgets/base",
            "_view_module_version": "1.2.0",
            "_view_name": "StyleView",
            "description_width": ""
          }
        },
        "f24b078cfc7541f7a61b27e9b8afc9d9": {
          "model_module": "@jupyter-widgets/base",
          "model_name": "LayoutModel",
          "model_module_version": "1.2.0",
          "state": {
            "_model_module": "@jupyter-widgets/base",
            "_model_module_version": "1.2.0",
            "_model_name": "LayoutModel",
            "_view_count": null,
            "_view_module": "@jupyter-widgets/base",
            "_view_module_version": "1.2.0",
            "_view_name": "LayoutView",
            "align_content": null,
            "align_items": null,
            "align_self": null,
            "border": null,
            "bottom": null,
            "display": null,
            "flex": null,
            "flex_flow": null,
            "grid_area": null,
            "grid_auto_columns": null,
            "grid_auto_flow": null,
            "grid_auto_rows": null,
            "grid_column": null,
            "grid_gap": null,
            "grid_row": null,
            "grid_template_areas": null,
            "grid_template_columns": null,
            "grid_template_rows": null,
            "height": null,
            "justify_content": null,
            "justify_items": null,
            "left": null,
            "margin": null,
            "max_height": null,
            "max_width": null,
            "min_height": null,
            "min_width": null,
            "object_fit": null,
            "object_position": null,
            "order": null,
            "overflow": null,
            "overflow_x": null,
            "overflow_y": null,
            "padding": null,
            "right": null,
            "top": null,
            "visibility": null,
            "width": null
          }
        },
        "620b1b6bde304a02b38a9781031be0f8": {
          "model_module": "@jupyter-widgets/controls",
          "model_name": "ProgressStyleModel",
          "model_module_version": "1.5.0",
          "state": {
            "_model_module": "@jupyter-widgets/controls",
            "_model_module_version": "1.5.0",
            "_model_name": "ProgressStyleModel",
            "_view_count": null,
            "_view_module": "@jupyter-widgets/base",
            "_view_module_version": "1.2.0",
            "_view_name": "StyleView",
            "bar_color": null,
            "description_width": ""
          }
        },
        "371cca6b43fe44b493ec3073434af245": {
          "model_module": "@jupyter-widgets/base",
          "model_name": "LayoutModel",
          "model_module_version": "1.2.0",
          "state": {
            "_model_module": "@jupyter-widgets/base",
            "_model_module_version": "1.2.0",
            "_model_name": "LayoutModel",
            "_view_count": null,
            "_view_module": "@jupyter-widgets/base",
            "_view_module_version": "1.2.0",
            "_view_name": "LayoutView",
            "align_content": null,
            "align_items": null,
            "align_self": null,
            "border": null,
            "bottom": null,
            "display": null,
            "flex": null,
            "flex_flow": null,
            "grid_area": null,
            "grid_auto_columns": null,
            "grid_auto_flow": null,
            "grid_auto_rows": null,
            "grid_column": null,
            "grid_gap": null,
            "grid_row": null,
            "grid_template_areas": null,
            "grid_template_columns": null,
            "grid_template_rows": null,
            "height": null,
            "justify_content": null,
            "justify_items": null,
            "left": null,
            "margin": null,
            "max_height": null,
            "max_width": null,
            "min_height": null,
            "min_width": null,
            "object_fit": null,
            "object_position": null,
            "order": null,
            "overflow": null,
            "overflow_x": null,
            "overflow_y": null,
            "padding": null,
            "right": null,
            "top": null,
            "visibility": null,
            "width": null
          }
        },
        "7d11692f63074080acf5781f6ba76fda": {
          "model_module": "@jupyter-widgets/controls",
          "model_name": "DescriptionStyleModel",
          "model_module_version": "1.5.0",
          "state": {
            "_model_module": "@jupyter-widgets/controls",
            "_model_module_version": "1.5.0",
            "_model_name": "DescriptionStyleModel",
            "_view_count": null,
            "_view_module": "@jupyter-widgets/base",
            "_view_module_version": "1.2.0",
            "_view_name": "StyleView",
            "description_width": ""
          }
        },
        "a423898996584887ba944225593cddc1": {
          "model_module": "@jupyter-widgets/controls",
          "model_name": "HBoxModel",
          "model_module_version": "1.5.0",
          "state": {
            "_dom_classes": [],
            "_model_module": "@jupyter-widgets/controls",
            "_model_module_version": "1.5.0",
            "_model_name": "HBoxModel",
            "_view_count": null,
            "_view_module": "@jupyter-widgets/controls",
            "_view_module_version": "1.5.0",
            "_view_name": "HBoxView",
            "box_style": "",
            "children": [
              "IPY_MODEL_4ce0d73934ed4ba6897e833b959c871b",
              "IPY_MODEL_a7b503378ad54716b57a799e4b09256f",
              "IPY_MODEL_3def930ec8ce44a8bf9e7252fba3e82f"
            ],
            "layout": "IPY_MODEL_3d4ea5401da94711be92fd1520c8797a"
          }
        },
        "4ce0d73934ed4ba6897e833b959c871b": {
          "model_module": "@jupyter-widgets/controls",
          "model_name": "HTMLModel",
          "model_module_version": "1.5.0",
          "state": {
            "_dom_classes": [],
            "_model_module": "@jupyter-widgets/controls",
            "_model_module_version": "1.5.0",
            "_model_name": "HTMLModel",
            "_view_count": null,
            "_view_module": "@jupyter-widgets/controls",
            "_view_module_version": "1.5.0",
            "_view_name": "HTMLView",
            "description": "",
            "description_tooltip": null,
            "layout": "IPY_MODEL_1c807af449fc4d0fb1072afe38a5ba24",
            "placeholder": "​",
            "style": "IPY_MODEL_d5b1aedc52f2403eb0d7d7b05ed3949b",
            "value": "model.safetensors: 100%"
          }
        },
        "a7b503378ad54716b57a799e4b09256f": {
          "model_module": "@jupyter-widgets/controls",
          "model_name": "FloatProgressModel",
          "model_module_version": "1.5.0",
          "state": {
            "_dom_classes": [],
            "_model_module": "@jupyter-widgets/controls",
            "_model_module_version": "1.5.0",
            "_model_name": "FloatProgressModel",
            "_view_count": null,
            "_view_module": "@jupyter-widgets/controls",
            "_view_module_version": "1.5.0",
            "_view_name": "ProgressView",
            "bar_style": "success",
            "description": "",
            "description_tooltip": null,
            "layout": "IPY_MODEL_b876c6d3ce924066bd90545cda8af078",
            "max": 548105171,
            "min": 0,
            "orientation": "horizontal",
            "style": "IPY_MODEL_9993179688e041d28fd9e20e366fe6d9",
            "value": 548105171
          }
        },
        "3def930ec8ce44a8bf9e7252fba3e82f": {
          "model_module": "@jupyter-widgets/controls",
          "model_name": "HTMLModel",
          "model_module_version": "1.5.0",
          "state": {
            "_dom_classes": [],
            "_model_module": "@jupyter-widgets/controls",
            "_model_module_version": "1.5.0",
            "_model_name": "HTMLModel",
            "_view_count": null,
            "_view_module": "@jupyter-widgets/controls",
            "_view_module_version": "1.5.0",
            "_view_name": "HTMLView",
            "description": "",
            "description_tooltip": null,
            "layout": "IPY_MODEL_ef2c58aa58fa412ca261b02e35b8edc4",
            "placeholder": "​",
            "style": "IPY_MODEL_e88ca73536b249ecb5dceacaa2df5620",
            "value": " 548M/548M [00:08&lt;00:00, 91.2MB/s]"
          }
        },
        "3d4ea5401da94711be92fd1520c8797a": {
          "model_module": "@jupyter-widgets/base",
          "model_name": "LayoutModel",
          "model_module_version": "1.2.0",
          "state": {
            "_model_module": "@jupyter-widgets/base",
            "_model_module_version": "1.2.0",
            "_model_name": "LayoutModel",
            "_view_count": null,
            "_view_module": "@jupyter-widgets/base",
            "_view_module_version": "1.2.0",
            "_view_name": "LayoutView",
            "align_content": null,
            "align_items": null,
            "align_self": null,
            "border": null,
            "bottom": null,
            "display": null,
            "flex": null,
            "flex_flow": null,
            "grid_area": null,
            "grid_auto_columns": null,
            "grid_auto_flow": null,
            "grid_auto_rows": null,
            "grid_column": null,
            "grid_gap": null,
            "grid_row": null,
            "grid_template_areas": null,
            "grid_template_columns": null,
            "grid_template_rows": null,
            "height": null,
            "justify_content": null,
            "justify_items": null,
            "left": null,
            "margin": null,
            "max_height": null,
            "max_width": null,
            "min_height": null,
            "min_width": null,
            "object_fit": null,
            "object_position": null,
            "order": null,
            "overflow": null,
            "overflow_x": null,
            "overflow_y": null,
            "padding": null,
            "right": null,
            "top": null,
            "visibility": null,
            "width": null
          }
        },
        "1c807af449fc4d0fb1072afe38a5ba24": {
          "model_module": "@jupyter-widgets/base",
          "model_name": "LayoutModel",
          "model_module_version": "1.2.0",
          "state": {
            "_model_module": "@jupyter-widgets/base",
            "_model_module_version": "1.2.0",
            "_model_name": "LayoutModel",
            "_view_count": null,
            "_view_module": "@jupyter-widgets/base",
            "_view_module_version": "1.2.0",
            "_view_name": "LayoutView",
            "align_content": null,
            "align_items": null,
            "align_self": null,
            "border": null,
            "bottom": null,
            "display": null,
            "flex": null,
            "flex_flow": null,
            "grid_area": null,
            "grid_auto_columns": null,
            "grid_auto_flow": null,
            "grid_auto_rows": null,
            "grid_column": null,
            "grid_gap": null,
            "grid_row": null,
            "grid_template_areas": null,
            "grid_template_columns": null,
            "grid_template_rows": null,
            "height": null,
            "justify_content": null,
            "justify_items": null,
            "left": null,
            "margin": null,
            "max_height": null,
            "max_width": null,
            "min_height": null,
            "min_width": null,
            "object_fit": null,
            "object_position": null,
            "order": null,
            "overflow": null,
            "overflow_x": null,
            "overflow_y": null,
            "padding": null,
            "right": null,
            "top": null,
            "visibility": null,
            "width": null
          }
        },
        "d5b1aedc52f2403eb0d7d7b05ed3949b": {
          "model_module": "@jupyter-widgets/controls",
          "model_name": "DescriptionStyleModel",
          "model_module_version": "1.5.0",
          "state": {
            "_model_module": "@jupyter-widgets/controls",
            "_model_module_version": "1.5.0",
            "_model_name": "DescriptionStyleModel",
            "_view_count": null,
            "_view_module": "@jupyter-widgets/base",
            "_view_module_version": "1.2.0",
            "_view_name": "StyleView",
            "description_width": ""
          }
        },
        "b876c6d3ce924066bd90545cda8af078": {
          "model_module": "@jupyter-widgets/base",
          "model_name": "LayoutModel",
          "model_module_version": "1.2.0",
          "state": {
            "_model_module": "@jupyter-widgets/base",
            "_model_module_version": "1.2.0",
            "_model_name": "LayoutModel",
            "_view_count": null,
            "_view_module": "@jupyter-widgets/base",
            "_view_module_version": "1.2.0",
            "_view_name": "LayoutView",
            "align_content": null,
            "align_items": null,
            "align_self": null,
            "border": null,
            "bottom": null,
            "display": null,
            "flex": null,
            "flex_flow": null,
            "grid_area": null,
            "grid_auto_columns": null,
            "grid_auto_flow": null,
            "grid_auto_rows": null,
            "grid_column": null,
            "grid_gap": null,
            "grid_row": null,
            "grid_template_areas": null,
            "grid_template_columns": null,
            "grid_template_rows": null,
            "height": null,
            "justify_content": null,
            "justify_items": null,
            "left": null,
            "margin": null,
            "max_height": null,
            "max_width": null,
            "min_height": null,
            "min_width": null,
            "object_fit": null,
            "object_position": null,
            "order": null,
            "overflow": null,
            "overflow_x": null,
            "overflow_y": null,
            "padding": null,
            "right": null,
            "top": null,
            "visibility": null,
            "width": null
          }
        },
        "9993179688e041d28fd9e20e366fe6d9": {
          "model_module": "@jupyter-widgets/controls",
          "model_name": "ProgressStyleModel",
          "model_module_version": "1.5.0",
          "state": {
            "_model_module": "@jupyter-widgets/controls",
            "_model_module_version": "1.5.0",
            "_model_name": "ProgressStyleModel",
            "_view_count": null,
            "_view_module": "@jupyter-widgets/base",
            "_view_module_version": "1.2.0",
            "_view_name": "StyleView",
            "bar_color": null,
            "description_width": ""
          }
        },
        "ef2c58aa58fa412ca261b02e35b8edc4": {
          "model_module": "@jupyter-widgets/base",
          "model_name": "LayoutModel",
          "model_module_version": "1.2.0",
          "state": {
            "_model_module": "@jupyter-widgets/base",
            "_model_module_version": "1.2.0",
            "_model_name": "LayoutModel",
            "_view_count": null,
            "_view_module": "@jupyter-widgets/base",
            "_view_module_version": "1.2.0",
            "_view_name": "LayoutView",
            "align_content": null,
            "align_items": null,
            "align_self": null,
            "border": null,
            "bottom": null,
            "display": null,
            "flex": null,
            "flex_flow": null,
            "grid_area": null,
            "grid_auto_columns": null,
            "grid_auto_flow": null,
            "grid_auto_rows": null,
            "grid_column": null,
            "grid_gap": null,
            "grid_row": null,
            "grid_template_areas": null,
            "grid_template_columns": null,
            "grid_template_rows": null,
            "height": null,
            "justify_content": null,
            "justify_items": null,
            "left": null,
            "margin": null,
            "max_height": null,
            "max_width": null,
            "min_height": null,
            "min_width": null,
            "object_fit": null,
            "object_position": null,
            "order": null,
            "overflow": null,
            "overflow_x": null,
            "overflow_y": null,
            "padding": null,
            "right": null,
            "top": null,
            "visibility": null,
            "width": null
          }
        },
        "e88ca73536b249ecb5dceacaa2df5620": {
          "model_module": "@jupyter-widgets/controls",
          "model_name": "DescriptionStyleModel",
          "model_module_version": "1.5.0",
          "state": {
            "_model_module": "@jupyter-widgets/controls",
            "_model_module_version": "1.5.0",
            "_model_name": "DescriptionStyleModel",
            "_view_count": null,
            "_view_module": "@jupyter-widgets/base",
            "_view_module_version": "1.2.0",
            "_view_name": "StyleView",
            "description_width": ""
          }
        },
        "4e325e3f847643a096f00b0feab7af29": {
          "model_module": "@jupyter-widgets/controls",
          "model_name": "HBoxModel",
          "model_module_version": "1.5.0",
          "state": {
            "_dom_classes": [],
            "_model_module": "@jupyter-widgets/controls",
            "_model_module_version": "1.5.0",
            "_model_name": "HBoxModel",
            "_view_count": null,
            "_view_module": "@jupyter-widgets/controls",
            "_view_module_version": "1.5.0",
            "_view_name": "HBoxView",
            "box_style": "",
            "children": [
              "IPY_MODEL_f06e08c881b6420c90c542ab19dc2084",
              "IPY_MODEL_cd6ac5fa02754dd586f2c483a3573e82",
              "IPY_MODEL_3a8d409952f9409fafd2457135ce2edc"
            ],
            "layout": "IPY_MODEL_f13e9dd6fc504723878bbdb951797f6c"
          }
        },
        "f06e08c881b6420c90c542ab19dc2084": {
          "model_module": "@jupyter-widgets/controls",
          "model_name": "HTMLModel",
          "model_module_version": "1.5.0",
          "state": {
            "_dom_classes": [],
            "_model_module": "@jupyter-widgets/controls",
            "_model_module_version": "1.5.0",
            "_model_name": "HTMLModel",
            "_view_count": null,
            "_view_module": "@jupyter-widgets/controls",
            "_view_module_version": "1.5.0",
            "_view_name": "HTMLView",
            "description": "",
            "description_tooltip": null,
            "layout": "IPY_MODEL_40bb7d7f941d43bcaf7329841f67645f",
            "placeholder": "​",
            "style": "IPY_MODEL_76ea32074ce241118f4c7a6ecf42e601",
            "value": "generation_config.json: 100%"
          }
        },
        "cd6ac5fa02754dd586f2c483a3573e82": {
          "model_module": "@jupyter-widgets/controls",
          "model_name": "FloatProgressModel",
          "model_module_version": "1.5.0",
          "state": {
            "_dom_classes": [],
            "_model_module": "@jupyter-widgets/controls",
            "_model_module_version": "1.5.0",
            "_model_name": "FloatProgressModel",
            "_view_count": null,
            "_view_module": "@jupyter-widgets/controls",
            "_view_module_version": "1.5.0",
            "_view_name": "ProgressView",
            "bar_style": "success",
            "description": "",
            "description_tooltip": null,
            "layout": "IPY_MODEL_023d1d11dfd04d1b9da7f7e5ac558200",
            "max": 124,
            "min": 0,
            "orientation": "horizontal",
            "style": "IPY_MODEL_03ccf9b7b0d2486f833d75a952a44487",
            "value": 124
          }
        },
        "3a8d409952f9409fafd2457135ce2edc": {
          "model_module": "@jupyter-widgets/controls",
          "model_name": "HTMLModel",
          "model_module_version": "1.5.0",
          "state": {
            "_dom_classes": [],
            "_model_module": "@jupyter-widgets/controls",
            "_model_module_version": "1.5.0",
            "_model_name": "HTMLModel",
            "_view_count": null,
            "_view_module": "@jupyter-widgets/controls",
            "_view_module_version": "1.5.0",
            "_view_name": "HTMLView",
            "description": "",
            "description_tooltip": null,
            "layout": "IPY_MODEL_aa072336d4e245e18d7a838f93064258",
            "placeholder": "​",
            "style": "IPY_MODEL_73e9e511246f42bba944a97e9d230582",
            "value": " 124/124 [00:00&lt;00:00, 2.19kB/s]"
          }
        },
        "f13e9dd6fc504723878bbdb951797f6c": {
          "model_module": "@jupyter-widgets/base",
          "model_name": "LayoutModel",
          "model_module_version": "1.2.0",
          "state": {
            "_model_module": "@jupyter-widgets/base",
            "_model_module_version": "1.2.0",
            "_model_name": "LayoutModel",
            "_view_count": null,
            "_view_module": "@jupyter-widgets/base",
            "_view_module_version": "1.2.0",
            "_view_name": "LayoutView",
            "align_content": null,
            "align_items": null,
            "align_self": null,
            "border": null,
            "bottom": null,
            "display": null,
            "flex": null,
            "flex_flow": null,
            "grid_area": null,
            "grid_auto_columns": null,
            "grid_auto_flow": null,
            "grid_auto_rows": null,
            "grid_column": null,
            "grid_gap": null,
            "grid_row": null,
            "grid_template_areas": null,
            "grid_template_columns": null,
            "grid_template_rows": null,
            "height": null,
            "justify_content": null,
            "justify_items": null,
            "left": null,
            "margin": null,
            "max_height": null,
            "max_width": null,
            "min_height": null,
            "min_width": null,
            "object_fit": null,
            "object_position": null,
            "order": null,
            "overflow": null,
            "overflow_x": null,
            "overflow_y": null,
            "padding": null,
            "right": null,
            "top": null,
            "visibility": null,
            "width": null
          }
        },
        "40bb7d7f941d43bcaf7329841f67645f": {
          "model_module": "@jupyter-widgets/base",
          "model_name": "LayoutModel",
          "model_module_version": "1.2.0",
          "state": {
            "_model_module": "@jupyter-widgets/base",
            "_model_module_version": "1.2.0",
            "_model_name": "LayoutModel",
            "_view_count": null,
            "_view_module": "@jupyter-widgets/base",
            "_view_module_version": "1.2.0",
            "_view_name": "LayoutView",
            "align_content": null,
            "align_items": null,
            "align_self": null,
            "border": null,
            "bottom": null,
            "display": null,
            "flex": null,
            "flex_flow": null,
            "grid_area": null,
            "grid_auto_columns": null,
            "grid_auto_flow": null,
            "grid_auto_rows": null,
            "grid_column": null,
            "grid_gap": null,
            "grid_row": null,
            "grid_template_areas": null,
            "grid_template_columns": null,
            "grid_template_rows": null,
            "height": null,
            "justify_content": null,
            "justify_items": null,
            "left": null,
            "margin": null,
            "max_height": null,
            "max_width": null,
            "min_height": null,
            "min_width": null,
            "object_fit": null,
            "object_position": null,
            "order": null,
            "overflow": null,
            "overflow_x": null,
            "overflow_y": null,
            "padding": null,
            "right": null,
            "top": null,
            "visibility": null,
            "width": null
          }
        },
        "76ea32074ce241118f4c7a6ecf42e601": {
          "model_module": "@jupyter-widgets/controls",
          "model_name": "DescriptionStyleModel",
          "model_module_version": "1.5.0",
          "state": {
            "_model_module": "@jupyter-widgets/controls",
            "_model_module_version": "1.5.0",
            "_model_name": "DescriptionStyleModel",
            "_view_count": null,
            "_view_module": "@jupyter-widgets/base",
            "_view_module_version": "1.2.0",
            "_view_name": "StyleView",
            "description_width": ""
          }
        },
        "023d1d11dfd04d1b9da7f7e5ac558200": {
          "model_module": "@jupyter-widgets/base",
          "model_name": "LayoutModel",
          "model_module_version": "1.2.0",
          "state": {
            "_model_module": "@jupyter-widgets/base",
            "_model_module_version": "1.2.0",
            "_model_name": "LayoutModel",
            "_view_count": null,
            "_view_module": "@jupyter-widgets/base",
            "_view_module_version": "1.2.0",
            "_view_name": "LayoutView",
            "align_content": null,
            "align_items": null,
            "align_self": null,
            "border": null,
            "bottom": null,
            "display": null,
            "flex": null,
            "flex_flow": null,
            "grid_area": null,
            "grid_auto_columns": null,
            "grid_auto_flow": null,
            "grid_auto_rows": null,
            "grid_column": null,
            "grid_gap": null,
            "grid_row": null,
            "grid_template_areas": null,
            "grid_template_columns": null,
            "grid_template_rows": null,
            "height": null,
            "justify_content": null,
            "justify_items": null,
            "left": null,
            "margin": null,
            "max_height": null,
            "max_width": null,
            "min_height": null,
            "min_width": null,
            "object_fit": null,
            "object_position": null,
            "order": null,
            "overflow": null,
            "overflow_x": null,
            "overflow_y": null,
            "padding": null,
            "right": null,
            "top": null,
            "visibility": null,
            "width": null
          }
        },
        "03ccf9b7b0d2486f833d75a952a44487": {
          "model_module": "@jupyter-widgets/controls",
          "model_name": "ProgressStyleModel",
          "model_module_version": "1.5.0",
          "state": {
            "_model_module": "@jupyter-widgets/controls",
            "_model_module_version": "1.5.0",
            "_model_name": "ProgressStyleModel",
            "_view_count": null,
            "_view_module": "@jupyter-widgets/base",
            "_view_module_version": "1.2.0",
            "_view_name": "StyleView",
            "bar_color": null,
            "description_width": ""
          }
        },
        "aa072336d4e245e18d7a838f93064258": {
          "model_module": "@jupyter-widgets/base",
          "model_name": "LayoutModel",
          "model_module_version": "1.2.0",
          "state": {
            "_model_module": "@jupyter-widgets/base",
            "_model_module_version": "1.2.0",
            "_model_name": "LayoutModel",
            "_view_count": null,
            "_view_module": "@jupyter-widgets/base",
            "_view_module_version": "1.2.0",
            "_view_name": "LayoutView",
            "align_content": null,
            "align_items": null,
            "align_self": null,
            "border": null,
            "bottom": null,
            "display": null,
            "flex": null,
            "flex_flow": null,
            "grid_area": null,
            "grid_auto_columns": null,
            "grid_auto_flow": null,
            "grid_auto_rows": null,
            "grid_column": null,
            "grid_gap": null,
            "grid_row": null,
            "grid_template_areas": null,
            "grid_template_columns": null,
            "grid_template_rows": null,
            "height": null,
            "justify_content": null,
            "justify_items": null,
            "left": null,
            "margin": null,
            "max_height": null,
            "max_width": null,
            "min_height": null,
            "min_width": null,
            "object_fit": null,
            "object_position": null,
            "order": null,
            "overflow": null,
            "overflow_x": null,
            "overflow_y": null,
            "padding": null,
            "right": null,
            "top": null,
            "visibility": null,
            "width": null
          }
        },
        "73e9e511246f42bba944a97e9d230582": {
          "model_module": "@jupyter-widgets/controls",
          "model_name": "DescriptionStyleModel",
          "model_module_version": "1.5.0",
          "state": {
            "_model_module": "@jupyter-widgets/controls",
            "_model_module_version": "1.5.0",
            "_model_name": "DescriptionStyleModel",
            "_view_count": null,
            "_view_module": "@jupyter-widgets/base",
            "_view_module_version": "1.2.0",
            "_view_name": "StyleView",
            "description_width": ""
          }
        },
        "606d01a84252404bb4f115d035bd20b7": {
          "model_module": "@jupyter-widgets/controls",
          "model_name": "HBoxModel",
          "model_module_version": "1.5.0",
          "state": {
            "_dom_classes": [],
            "_model_module": "@jupyter-widgets/controls",
            "_model_module_version": "1.5.0",
            "_model_name": "HBoxModel",
            "_view_count": null,
            "_view_module": "@jupyter-widgets/controls",
            "_view_module_version": "1.5.0",
            "_view_name": "HBoxView",
            "box_style": "",
            "children": [
              "IPY_MODEL_0c0395d089c04c349183512ccd81a447",
              "IPY_MODEL_ae4acc423276416cac82ff295af3fd14",
              "IPY_MODEL_a251659dca1a4eda953f1bc6638b06eb"
            ],
            "layout": "IPY_MODEL_413ad6fe6c7b430a97293069a88a9dd7"
          }
        },
        "0c0395d089c04c349183512ccd81a447": {
          "model_module": "@jupyter-widgets/controls",
          "model_name": "HTMLModel",
          "model_module_version": "1.5.0",
          "state": {
            "_dom_classes": [],
            "_model_module": "@jupyter-widgets/controls",
            "_model_module_version": "1.5.0",
            "_model_name": "HTMLModel",
            "_view_count": null,
            "_view_module": "@jupyter-widgets/controls",
            "_view_module_version": "1.5.0",
            "_view_name": "HTMLView",
            "description": "",
            "description_tooltip": null,
            "layout": "IPY_MODEL_e42250b40c73421f89ec003a020b5f09",
            "placeholder": "​",
            "style": "IPY_MODEL_bd87888cc90347008607f4f2f88f62f9",
            "value": "tokenizer_config.json: 100%"
          }
        },
        "ae4acc423276416cac82ff295af3fd14": {
          "model_module": "@jupyter-widgets/controls",
          "model_name": "FloatProgressModel",
          "model_module_version": "1.5.0",
          "state": {
            "_dom_classes": [],
            "_model_module": "@jupyter-widgets/controls",
            "_model_module_version": "1.5.0",
            "_model_name": "FloatProgressModel",
            "_view_count": null,
            "_view_module": "@jupyter-widgets/controls",
            "_view_module_version": "1.5.0",
            "_view_name": "ProgressView",
            "bar_style": "success",
            "description": "",
            "description_tooltip": null,
            "layout": "IPY_MODEL_c02a2fec826c4e26a6395413aec17c10",
            "max": 26,
            "min": 0,
            "orientation": "horizontal",
            "style": "IPY_MODEL_3e134b55db704b0b9b2db1eab4a50fe3",
            "value": 26
          }
        },
        "a251659dca1a4eda953f1bc6638b06eb": {
          "model_module": "@jupyter-widgets/controls",
          "model_name": "HTMLModel",
          "model_module_version": "1.5.0",
          "state": {
            "_dom_classes": [],
            "_model_module": "@jupyter-widgets/controls",
            "_model_module_version": "1.5.0",
            "_model_name": "HTMLModel",
            "_view_count": null,
            "_view_module": "@jupyter-widgets/controls",
            "_view_module_version": "1.5.0",
            "_view_name": "HTMLView",
            "description": "",
            "description_tooltip": null,
            "layout": "IPY_MODEL_c614e8d0711c47fea9d6c5b537c31be8",
            "placeholder": "​",
            "style": "IPY_MODEL_df76e6d31db446ceaa9a1e8d788e2d4e",
            "value": " 26.0/26.0 [00:00&lt;00:00, 908B/s]"
          }
        },
        "413ad6fe6c7b430a97293069a88a9dd7": {
          "model_module": "@jupyter-widgets/base",
          "model_name": "LayoutModel",
          "model_module_version": "1.2.0",
          "state": {
            "_model_module": "@jupyter-widgets/base",
            "_model_module_version": "1.2.0",
            "_model_name": "LayoutModel",
            "_view_count": null,
            "_view_module": "@jupyter-widgets/base",
            "_view_module_version": "1.2.0",
            "_view_name": "LayoutView",
            "align_content": null,
            "align_items": null,
            "align_self": null,
            "border": null,
            "bottom": null,
            "display": null,
            "flex": null,
            "flex_flow": null,
            "grid_area": null,
            "grid_auto_columns": null,
            "grid_auto_flow": null,
            "grid_auto_rows": null,
            "grid_column": null,
            "grid_gap": null,
            "grid_row": null,
            "grid_template_areas": null,
            "grid_template_columns": null,
            "grid_template_rows": null,
            "height": null,
            "justify_content": null,
            "justify_items": null,
            "left": null,
            "margin": null,
            "max_height": null,
            "max_width": null,
            "min_height": null,
            "min_width": null,
            "object_fit": null,
            "object_position": null,
            "order": null,
            "overflow": null,
            "overflow_x": null,
            "overflow_y": null,
            "padding": null,
            "right": null,
            "top": null,
            "visibility": null,
            "width": null
          }
        },
        "e42250b40c73421f89ec003a020b5f09": {
          "model_module": "@jupyter-widgets/base",
          "model_name": "LayoutModel",
          "model_module_version": "1.2.0",
          "state": {
            "_model_module": "@jupyter-widgets/base",
            "_model_module_version": "1.2.0",
            "_model_name": "LayoutModel",
            "_view_count": null,
            "_view_module": "@jupyter-widgets/base",
            "_view_module_version": "1.2.0",
            "_view_name": "LayoutView",
            "align_content": null,
            "align_items": null,
            "align_self": null,
            "border": null,
            "bottom": null,
            "display": null,
            "flex": null,
            "flex_flow": null,
            "grid_area": null,
            "grid_auto_columns": null,
            "grid_auto_flow": null,
            "grid_auto_rows": null,
            "grid_column": null,
            "grid_gap": null,
            "grid_row": null,
            "grid_template_areas": null,
            "grid_template_columns": null,
            "grid_template_rows": null,
            "height": null,
            "justify_content": null,
            "justify_items": null,
            "left": null,
            "margin": null,
            "max_height": null,
            "max_width": null,
            "min_height": null,
            "min_width": null,
            "object_fit": null,
            "object_position": null,
            "order": null,
            "overflow": null,
            "overflow_x": null,
            "overflow_y": null,
            "padding": null,
            "right": null,
            "top": null,
            "visibility": null,
            "width": null
          }
        },
        "bd87888cc90347008607f4f2f88f62f9": {
          "model_module": "@jupyter-widgets/controls",
          "model_name": "DescriptionStyleModel",
          "model_module_version": "1.5.0",
          "state": {
            "_model_module": "@jupyter-widgets/controls",
            "_model_module_version": "1.5.0",
            "_model_name": "DescriptionStyleModel",
            "_view_count": null,
            "_view_module": "@jupyter-widgets/base",
            "_view_module_version": "1.2.0",
            "_view_name": "StyleView",
            "description_width": ""
          }
        },
        "c02a2fec826c4e26a6395413aec17c10": {
          "model_module": "@jupyter-widgets/base",
          "model_name": "LayoutModel",
          "model_module_version": "1.2.0",
          "state": {
            "_model_module": "@jupyter-widgets/base",
            "_model_module_version": "1.2.0",
            "_model_name": "LayoutModel",
            "_view_count": null,
            "_view_module": "@jupyter-widgets/base",
            "_view_module_version": "1.2.0",
            "_view_name": "LayoutView",
            "align_content": null,
            "align_items": null,
            "align_self": null,
            "border": null,
            "bottom": null,
            "display": null,
            "flex": null,
            "flex_flow": null,
            "grid_area": null,
            "grid_auto_columns": null,
            "grid_auto_flow": null,
            "grid_auto_rows": null,
            "grid_column": null,
            "grid_gap": null,
            "grid_row": null,
            "grid_template_areas": null,
            "grid_template_columns": null,
            "grid_template_rows": null,
            "height": null,
            "justify_content": null,
            "justify_items": null,
            "left": null,
            "margin": null,
            "max_height": null,
            "max_width": null,
            "min_height": null,
            "min_width": null,
            "object_fit": null,
            "object_position": null,
            "order": null,
            "overflow": null,
            "overflow_x": null,
            "overflow_y": null,
            "padding": null,
            "right": null,
            "top": null,
            "visibility": null,
            "width": null
          }
        },
        "3e134b55db704b0b9b2db1eab4a50fe3": {
          "model_module": "@jupyter-widgets/controls",
          "model_name": "ProgressStyleModel",
          "model_module_version": "1.5.0",
          "state": {
            "_model_module": "@jupyter-widgets/controls",
            "_model_module_version": "1.5.0",
            "_model_name": "ProgressStyleModel",
            "_view_count": null,
            "_view_module": "@jupyter-widgets/base",
            "_view_module_version": "1.2.0",
            "_view_name": "StyleView",
            "bar_color": null,
            "description_width": ""
          }
        },
        "c614e8d0711c47fea9d6c5b537c31be8": {
          "model_module": "@jupyter-widgets/base",
          "model_name": "LayoutModel",
          "model_module_version": "1.2.0",
          "state": {
            "_model_module": "@jupyter-widgets/base",
            "_model_module_version": "1.2.0",
            "_model_name": "LayoutModel",
            "_view_count": null,
            "_view_module": "@jupyter-widgets/base",
            "_view_module_version": "1.2.0",
            "_view_name": "LayoutView",
            "align_content": null,
            "align_items": null,
            "align_self": null,
            "border": null,
            "bottom": null,
            "display": null,
            "flex": null,
            "flex_flow": null,
            "grid_area": null,
            "grid_auto_columns": null,
            "grid_auto_flow": null,
            "grid_auto_rows": null,
            "grid_column": null,
            "grid_gap": null,
            "grid_row": null,
            "grid_template_areas": null,
            "grid_template_columns": null,
            "grid_template_rows": null,
            "height": null,
            "justify_content": null,
            "justify_items": null,
            "left": null,
            "margin": null,
            "max_height": null,
            "max_width": null,
            "min_height": null,
            "min_width": null,
            "object_fit": null,
            "object_position": null,
            "order": null,
            "overflow": null,
            "overflow_x": null,
            "overflow_y": null,
            "padding": null,
            "right": null,
            "top": null,
            "visibility": null,
            "width": null
          }
        },
        "df76e6d31db446ceaa9a1e8d788e2d4e": {
          "model_module": "@jupyter-widgets/controls",
          "model_name": "DescriptionStyleModel",
          "model_module_version": "1.5.0",
          "state": {
            "_model_module": "@jupyter-widgets/controls",
            "_model_module_version": "1.5.0",
            "_model_name": "DescriptionStyleModel",
            "_view_count": null,
            "_view_module": "@jupyter-widgets/base",
            "_view_module_version": "1.2.0",
            "_view_name": "StyleView",
            "description_width": ""
          }
        },
        "d5576e64675d458381ea0847a37357ed": {
          "model_module": "@jupyter-widgets/controls",
          "model_name": "HBoxModel",
          "model_module_version": "1.5.0",
          "state": {
            "_dom_classes": [],
            "_model_module": "@jupyter-widgets/controls",
            "_model_module_version": "1.5.0",
            "_model_name": "HBoxModel",
            "_view_count": null,
            "_view_module": "@jupyter-widgets/controls",
            "_view_module_version": "1.5.0",
            "_view_name": "HBoxView",
            "box_style": "",
            "children": [
              "IPY_MODEL_cacb90f954de45e59d2cb446c4aa14aa",
              "IPY_MODEL_57f1b6dbde6341e4966d198728ec49c8",
              "IPY_MODEL_c0dea44c4ded48a4987470712f688ae6"
            ],
            "layout": "IPY_MODEL_f7c84eb1a68e4b66a1398eed7a3f9c24"
          }
        },
        "cacb90f954de45e59d2cb446c4aa14aa": {
          "model_module": "@jupyter-widgets/controls",
          "model_name": "HTMLModel",
          "model_module_version": "1.5.0",
          "state": {
            "_dom_classes": [],
            "_model_module": "@jupyter-widgets/controls",
            "_model_module_version": "1.5.0",
            "_model_name": "HTMLModel",
            "_view_count": null,
            "_view_module": "@jupyter-widgets/controls",
            "_view_module_version": "1.5.0",
            "_view_name": "HTMLView",
            "description": "",
            "description_tooltip": null,
            "layout": "IPY_MODEL_e9fbe01d2ac0475e8dc68bee3cd65642",
            "placeholder": "​",
            "style": "IPY_MODEL_dae81290e6d2487b985ec62d8bff9f15",
            "value": "vocab.json: 100%"
          }
        },
        "57f1b6dbde6341e4966d198728ec49c8": {
          "model_module": "@jupyter-widgets/controls",
          "model_name": "FloatProgressModel",
          "model_module_version": "1.5.0",
          "state": {
            "_dom_classes": [],
            "_model_module": "@jupyter-widgets/controls",
            "_model_module_version": "1.5.0",
            "_model_name": "FloatProgressModel",
            "_view_count": null,
            "_view_module": "@jupyter-widgets/controls",
            "_view_module_version": "1.5.0",
            "_view_name": "ProgressView",
            "bar_style": "success",
            "description": "",
            "description_tooltip": null,
            "layout": "IPY_MODEL_2d2a60c08b194725a0bffa610d16b359",
            "max": 1042301,
            "min": 0,
            "orientation": "horizontal",
            "style": "IPY_MODEL_7720f8a83c964a2bb9924f39195a20f5",
            "value": 1042301
          }
        },
        "c0dea44c4ded48a4987470712f688ae6": {
          "model_module": "@jupyter-widgets/controls",
          "model_name": "HTMLModel",
          "model_module_version": "1.5.0",
          "state": {
            "_dom_classes": [],
            "_model_module": "@jupyter-widgets/controls",
            "_model_module_version": "1.5.0",
            "_model_name": "HTMLModel",
            "_view_count": null,
            "_view_module": "@jupyter-widgets/controls",
            "_view_module_version": "1.5.0",
            "_view_name": "HTMLView",
            "description": "",
            "description_tooltip": null,
            "layout": "IPY_MODEL_8ab0d6f7df0047f7944504a1cbbe57be",
            "placeholder": "​",
            "style": "IPY_MODEL_d81b7b8ceee74d88bf7fd34a03c498f6",
            "value": " 1.04M/1.04M [00:00&lt;00:00, 8.22MB/s]"
          }
        },
        "f7c84eb1a68e4b66a1398eed7a3f9c24": {
          "model_module": "@jupyter-widgets/base",
          "model_name": "LayoutModel",
          "model_module_version": "1.2.0",
          "state": {
            "_model_module": "@jupyter-widgets/base",
            "_model_module_version": "1.2.0",
            "_model_name": "LayoutModel",
            "_view_count": null,
            "_view_module": "@jupyter-widgets/base",
            "_view_module_version": "1.2.0",
            "_view_name": "LayoutView",
            "align_content": null,
            "align_items": null,
            "align_self": null,
            "border": null,
            "bottom": null,
            "display": null,
            "flex": null,
            "flex_flow": null,
            "grid_area": null,
            "grid_auto_columns": null,
            "grid_auto_flow": null,
            "grid_auto_rows": null,
            "grid_column": null,
            "grid_gap": null,
            "grid_row": null,
            "grid_template_areas": null,
            "grid_template_columns": null,
            "grid_template_rows": null,
            "height": null,
            "justify_content": null,
            "justify_items": null,
            "left": null,
            "margin": null,
            "max_height": null,
            "max_width": null,
            "min_height": null,
            "min_width": null,
            "object_fit": null,
            "object_position": null,
            "order": null,
            "overflow": null,
            "overflow_x": null,
            "overflow_y": null,
            "padding": null,
            "right": null,
            "top": null,
            "visibility": null,
            "width": null
          }
        },
        "e9fbe01d2ac0475e8dc68bee3cd65642": {
          "model_module": "@jupyter-widgets/base",
          "model_name": "LayoutModel",
          "model_module_version": "1.2.0",
          "state": {
            "_model_module": "@jupyter-widgets/base",
            "_model_module_version": "1.2.0",
            "_model_name": "LayoutModel",
            "_view_count": null,
            "_view_module": "@jupyter-widgets/base",
            "_view_module_version": "1.2.0",
            "_view_name": "LayoutView",
            "align_content": null,
            "align_items": null,
            "align_self": null,
            "border": null,
            "bottom": null,
            "display": null,
            "flex": null,
            "flex_flow": null,
            "grid_area": null,
            "grid_auto_columns": null,
            "grid_auto_flow": null,
            "grid_auto_rows": null,
            "grid_column": null,
            "grid_gap": null,
            "grid_row": null,
            "grid_template_areas": null,
            "grid_template_columns": null,
            "grid_template_rows": null,
            "height": null,
            "justify_content": null,
            "justify_items": null,
            "left": null,
            "margin": null,
            "max_height": null,
            "max_width": null,
            "min_height": null,
            "min_width": null,
            "object_fit": null,
            "object_position": null,
            "order": null,
            "overflow": null,
            "overflow_x": null,
            "overflow_y": null,
            "padding": null,
            "right": null,
            "top": null,
            "visibility": null,
            "width": null
          }
        },
        "dae81290e6d2487b985ec62d8bff9f15": {
          "model_module": "@jupyter-widgets/controls",
          "model_name": "DescriptionStyleModel",
          "model_module_version": "1.5.0",
          "state": {
            "_model_module": "@jupyter-widgets/controls",
            "_model_module_version": "1.5.0",
            "_model_name": "DescriptionStyleModel",
            "_view_count": null,
            "_view_module": "@jupyter-widgets/base",
            "_view_module_version": "1.2.0",
            "_view_name": "StyleView",
            "description_width": ""
          }
        },
        "2d2a60c08b194725a0bffa610d16b359": {
          "model_module": "@jupyter-widgets/base",
          "model_name": "LayoutModel",
          "model_module_version": "1.2.0",
          "state": {
            "_model_module": "@jupyter-widgets/base",
            "_model_module_version": "1.2.0",
            "_model_name": "LayoutModel",
            "_view_count": null,
            "_view_module": "@jupyter-widgets/base",
            "_view_module_version": "1.2.0",
            "_view_name": "LayoutView",
            "align_content": null,
            "align_items": null,
            "align_self": null,
            "border": null,
            "bottom": null,
            "display": null,
            "flex": null,
            "flex_flow": null,
            "grid_area": null,
            "grid_auto_columns": null,
            "grid_auto_flow": null,
            "grid_auto_rows": null,
            "grid_column": null,
            "grid_gap": null,
            "grid_row": null,
            "grid_template_areas": null,
            "grid_template_columns": null,
            "grid_template_rows": null,
            "height": null,
            "justify_content": null,
            "justify_items": null,
            "left": null,
            "margin": null,
            "max_height": null,
            "max_width": null,
            "min_height": null,
            "min_width": null,
            "object_fit": null,
            "object_position": null,
            "order": null,
            "overflow": null,
            "overflow_x": null,
            "overflow_y": null,
            "padding": null,
            "right": null,
            "top": null,
            "visibility": null,
            "width": null
          }
        },
        "7720f8a83c964a2bb9924f39195a20f5": {
          "model_module": "@jupyter-widgets/controls",
          "model_name": "ProgressStyleModel",
          "model_module_version": "1.5.0",
          "state": {
            "_model_module": "@jupyter-widgets/controls",
            "_model_module_version": "1.5.0",
            "_model_name": "ProgressStyleModel",
            "_view_count": null,
            "_view_module": "@jupyter-widgets/base",
            "_view_module_version": "1.2.0",
            "_view_name": "StyleView",
            "bar_color": null,
            "description_width": ""
          }
        },
        "8ab0d6f7df0047f7944504a1cbbe57be": {
          "model_module": "@jupyter-widgets/base",
          "model_name": "LayoutModel",
          "model_module_version": "1.2.0",
          "state": {
            "_model_module": "@jupyter-widgets/base",
            "_model_module_version": "1.2.0",
            "_model_name": "LayoutModel",
            "_view_count": null,
            "_view_module": "@jupyter-widgets/base",
            "_view_module_version": "1.2.0",
            "_view_name": "LayoutView",
            "align_content": null,
            "align_items": null,
            "align_self": null,
            "border": null,
            "bottom": null,
            "display": null,
            "flex": null,
            "flex_flow": null,
            "grid_area": null,
            "grid_auto_columns": null,
            "grid_auto_flow": null,
            "grid_auto_rows": null,
            "grid_column": null,
            "grid_gap": null,
            "grid_row": null,
            "grid_template_areas": null,
            "grid_template_columns": null,
            "grid_template_rows": null,
            "height": null,
            "justify_content": null,
            "justify_items": null,
            "left": null,
            "margin": null,
            "max_height": null,
            "max_width": null,
            "min_height": null,
            "min_width": null,
            "object_fit": null,
            "object_position": null,
            "order": null,
            "overflow": null,
            "overflow_x": null,
            "overflow_y": null,
            "padding": null,
            "right": null,
            "top": null,
            "visibility": null,
            "width": null
          }
        },
        "d81b7b8ceee74d88bf7fd34a03c498f6": {
          "model_module": "@jupyter-widgets/controls",
          "model_name": "DescriptionStyleModel",
          "model_module_version": "1.5.0",
          "state": {
            "_model_module": "@jupyter-widgets/controls",
            "_model_module_version": "1.5.0",
            "_model_name": "DescriptionStyleModel",
            "_view_count": null,
            "_view_module": "@jupyter-widgets/base",
            "_view_module_version": "1.2.0",
            "_view_name": "StyleView",
            "description_width": ""
          }
        },
        "f0617be3b1ab4e8ca6395c0cd2357bc0": {
          "model_module": "@jupyter-widgets/controls",
          "model_name": "HBoxModel",
          "model_module_version": "1.5.0",
          "state": {
            "_dom_classes": [],
            "_model_module": "@jupyter-widgets/controls",
            "_model_module_version": "1.5.0",
            "_model_name": "HBoxModel",
            "_view_count": null,
            "_view_module": "@jupyter-widgets/controls",
            "_view_module_version": "1.5.0",
            "_view_name": "HBoxView",
            "box_style": "",
            "children": [
              "IPY_MODEL_04b2630f6b0d4df69596304463e497da",
              "IPY_MODEL_c7f6972565224474a814bf553b16f16f",
              "IPY_MODEL_c529eb359691469894ec871798b14641"
            ],
            "layout": "IPY_MODEL_e61b555157664662aab970ea242af02e"
          }
        },
        "04b2630f6b0d4df69596304463e497da": {
          "model_module": "@jupyter-widgets/controls",
          "model_name": "HTMLModel",
          "model_module_version": "1.5.0",
          "state": {
            "_dom_classes": [],
            "_model_module": "@jupyter-widgets/controls",
            "_model_module_version": "1.5.0",
            "_model_name": "HTMLModel",
            "_view_count": null,
            "_view_module": "@jupyter-widgets/controls",
            "_view_module_version": "1.5.0",
            "_view_name": "HTMLView",
            "description": "",
            "description_tooltip": null,
            "layout": "IPY_MODEL_2326228beffb4f438ae551323ad87b0d",
            "placeholder": "​",
            "style": "IPY_MODEL_09a26eafa15d465a8985d17cc5628804",
            "value": "merges.txt: 100%"
          }
        },
        "c7f6972565224474a814bf553b16f16f": {
          "model_module": "@jupyter-widgets/controls",
          "model_name": "FloatProgressModel",
          "model_module_version": "1.5.0",
          "state": {
            "_dom_classes": [],
            "_model_module": "@jupyter-widgets/controls",
            "_model_module_version": "1.5.0",
            "_model_name": "FloatProgressModel",
            "_view_count": null,
            "_view_module": "@jupyter-widgets/controls",
            "_view_module_version": "1.5.0",
            "_view_name": "ProgressView",
            "bar_style": "success",
            "description": "",
            "description_tooltip": null,
            "layout": "IPY_MODEL_006fe565e023420aa1815a94c4b97965",
            "max": 456318,
            "min": 0,
            "orientation": "horizontal",
            "style": "IPY_MODEL_3f8559f50ee9464c85f2f12b983610f1",
            "value": 456318
          }
        },
        "c529eb359691469894ec871798b14641": {
          "model_module": "@jupyter-widgets/controls",
          "model_name": "HTMLModel",
          "model_module_version": "1.5.0",
          "state": {
            "_dom_classes": [],
            "_model_module": "@jupyter-widgets/controls",
            "_model_module_version": "1.5.0",
            "_model_name": "HTMLModel",
            "_view_count": null,
            "_view_module": "@jupyter-widgets/controls",
            "_view_module_version": "1.5.0",
            "_view_name": "HTMLView",
            "description": "",
            "description_tooltip": null,
            "layout": "IPY_MODEL_e5f987c44f754aba9a16c228dc801bf0",
            "placeholder": "​",
            "style": "IPY_MODEL_ea55d314dc1e45b2a9047c8ecb409060",
            "value": " 456k/456k [00:00&lt;00:00, 5.23MB/s]"
          }
        },
        "e61b555157664662aab970ea242af02e": {
          "model_module": "@jupyter-widgets/base",
          "model_name": "LayoutModel",
          "model_module_version": "1.2.0",
          "state": {
            "_model_module": "@jupyter-widgets/base",
            "_model_module_version": "1.2.0",
            "_model_name": "LayoutModel",
            "_view_count": null,
            "_view_module": "@jupyter-widgets/base",
            "_view_module_version": "1.2.0",
            "_view_name": "LayoutView",
            "align_content": null,
            "align_items": null,
            "align_self": null,
            "border": null,
            "bottom": null,
            "display": null,
            "flex": null,
            "flex_flow": null,
            "grid_area": null,
            "grid_auto_columns": null,
            "grid_auto_flow": null,
            "grid_auto_rows": null,
            "grid_column": null,
            "grid_gap": null,
            "grid_row": null,
            "grid_template_areas": null,
            "grid_template_columns": null,
            "grid_template_rows": null,
            "height": null,
            "justify_content": null,
            "justify_items": null,
            "left": null,
            "margin": null,
            "max_height": null,
            "max_width": null,
            "min_height": null,
            "min_width": null,
            "object_fit": null,
            "object_position": null,
            "order": null,
            "overflow": null,
            "overflow_x": null,
            "overflow_y": null,
            "padding": null,
            "right": null,
            "top": null,
            "visibility": null,
            "width": null
          }
        },
        "2326228beffb4f438ae551323ad87b0d": {
          "model_module": "@jupyter-widgets/base",
          "model_name": "LayoutModel",
          "model_module_version": "1.2.0",
          "state": {
            "_model_module": "@jupyter-widgets/base",
            "_model_module_version": "1.2.0",
            "_model_name": "LayoutModel",
            "_view_count": null,
            "_view_module": "@jupyter-widgets/base",
            "_view_module_version": "1.2.0",
            "_view_name": "LayoutView",
            "align_content": null,
            "align_items": null,
            "align_self": null,
            "border": null,
            "bottom": null,
            "display": null,
            "flex": null,
            "flex_flow": null,
            "grid_area": null,
            "grid_auto_columns": null,
            "grid_auto_flow": null,
            "grid_auto_rows": null,
            "grid_column": null,
            "grid_gap": null,
            "grid_row": null,
            "grid_template_areas": null,
            "grid_template_columns": null,
            "grid_template_rows": null,
            "height": null,
            "justify_content": null,
            "justify_items": null,
            "left": null,
            "margin": null,
            "max_height": null,
            "max_width": null,
            "min_height": null,
            "min_width": null,
            "object_fit": null,
            "object_position": null,
            "order": null,
            "overflow": null,
            "overflow_x": null,
            "overflow_y": null,
            "padding": null,
            "right": null,
            "top": null,
            "visibility": null,
            "width": null
          }
        },
        "09a26eafa15d465a8985d17cc5628804": {
          "model_module": "@jupyter-widgets/controls",
          "model_name": "DescriptionStyleModel",
          "model_module_version": "1.5.0",
          "state": {
            "_model_module": "@jupyter-widgets/controls",
            "_model_module_version": "1.5.0",
            "_model_name": "DescriptionStyleModel",
            "_view_count": null,
            "_view_module": "@jupyter-widgets/base",
            "_view_module_version": "1.2.0",
            "_view_name": "StyleView",
            "description_width": ""
          }
        },
        "006fe565e023420aa1815a94c4b97965": {
          "model_module": "@jupyter-widgets/base",
          "model_name": "LayoutModel",
          "model_module_version": "1.2.0",
          "state": {
            "_model_module": "@jupyter-widgets/base",
            "_model_module_version": "1.2.0",
            "_model_name": "LayoutModel",
            "_view_count": null,
            "_view_module": "@jupyter-widgets/base",
            "_view_module_version": "1.2.0",
            "_view_name": "LayoutView",
            "align_content": null,
            "align_items": null,
            "align_self": null,
            "border": null,
            "bottom": null,
            "display": null,
            "flex": null,
            "flex_flow": null,
            "grid_area": null,
            "grid_auto_columns": null,
            "grid_auto_flow": null,
            "grid_auto_rows": null,
            "grid_column": null,
            "grid_gap": null,
            "grid_row": null,
            "grid_template_areas": null,
            "grid_template_columns": null,
            "grid_template_rows": null,
            "height": null,
            "justify_content": null,
            "justify_items": null,
            "left": null,
            "margin": null,
            "max_height": null,
            "max_width": null,
            "min_height": null,
            "min_width": null,
            "object_fit": null,
            "object_position": null,
            "order": null,
            "overflow": null,
            "overflow_x": null,
            "overflow_y": null,
            "padding": null,
            "right": null,
            "top": null,
            "visibility": null,
            "width": null
          }
        },
        "3f8559f50ee9464c85f2f12b983610f1": {
          "model_module": "@jupyter-widgets/controls",
          "model_name": "ProgressStyleModel",
          "model_module_version": "1.5.0",
          "state": {
            "_model_module": "@jupyter-widgets/controls",
            "_model_module_version": "1.5.0",
            "_model_name": "ProgressStyleModel",
            "_view_count": null,
            "_view_module": "@jupyter-widgets/base",
            "_view_module_version": "1.2.0",
            "_view_name": "StyleView",
            "bar_color": null,
            "description_width": ""
          }
        },
        "e5f987c44f754aba9a16c228dc801bf0": {
          "model_module": "@jupyter-widgets/base",
          "model_name": "LayoutModel",
          "model_module_version": "1.2.0",
          "state": {
            "_model_module": "@jupyter-widgets/base",
            "_model_module_version": "1.2.0",
            "_model_name": "LayoutModel",
            "_view_count": null,
            "_view_module": "@jupyter-widgets/base",
            "_view_module_version": "1.2.0",
            "_view_name": "LayoutView",
            "align_content": null,
            "align_items": null,
            "align_self": null,
            "border": null,
            "bottom": null,
            "display": null,
            "flex": null,
            "flex_flow": null,
            "grid_area": null,
            "grid_auto_columns": null,
            "grid_auto_flow": null,
            "grid_auto_rows": null,
            "grid_column": null,
            "grid_gap": null,
            "grid_row": null,
            "grid_template_areas": null,
            "grid_template_columns": null,
            "grid_template_rows": null,
            "height": null,
            "justify_content": null,
            "justify_items": null,
            "left": null,
            "margin": null,
            "max_height": null,
            "max_width": null,
            "min_height": null,
            "min_width": null,
            "object_fit": null,
            "object_position": null,
            "order": null,
            "overflow": null,
            "overflow_x": null,
            "overflow_y": null,
            "padding": null,
            "right": null,
            "top": null,
            "visibility": null,
            "width": null
          }
        },
        "ea55d314dc1e45b2a9047c8ecb409060": {
          "model_module": "@jupyter-widgets/controls",
          "model_name": "DescriptionStyleModel",
          "model_module_version": "1.5.0",
          "state": {
            "_model_module": "@jupyter-widgets/controls",
            "_model_module_version": "1.5.0",
            "_model_name": "DescriptionStyleModel",
            "_view_count": null,
            "_view_module": "@jupyter-widgets/base",
            "_view_module_version": "1.2.0",
            "_view_name": "StyleView",
            "description_width": ""
          }
        },
        "ab7b4a6c5ce14f8a9b1eaa30a65072b5": {
          "model_module": "@jupyter-widgets/controls",
          "model_name": "HBoxModel",
          "model_module_version": "1.5.0",
          "state": {
            "_dom_classes": [],
            "_model_module": "@jupyter-widgets/controls",
            "_model_module_version": "1.5.0",
            "_model_name": "HBoxModel",
            "_view_count": null,
            "_view_module": "@jupyter-widgets/controls",
            "_view_module_version": "1.5.0",
            "_view_name": "HBoxView",
            "box_style": "",
            "children": [
              "IPY_MODEL_c55b6720f43740d18084394282fc2ff6",
              "IPY_MODEL_c31deda55166403abdc231ac18ceb73f",
              "IPY_MODEL_512862b5c4c0436b818daa6a6e56b372"
            ],
            "layout": "IPY_MODEL_5f06a086884e4753b1ab9d46516108d8"
          }
        },
        "c55b6720f43740d18084394282fc2ff6": {
          "model_module": "@jupyter-widgets/controls",
          "model_name": "HTMLModel",
          "model_module_version": "1.5.0",
          "state": {
            "_dom_classes": [],
            "_model_module": "@jupyter-widgets/controls",
            "_model_module_version": "1.5.0",
            "_model_name": "HTMLModel",
            "_view_count": null,
            "_view_module": "@jupyter-widgets/controls",
            "_view_module_version": "1.5.0",
            "_view_name": "HTMLView",
            "description": "",
            "description_tooltip": null,
            "layout": "IPY_MODEL_20630b7e0353444a8bc8388a29206d1e",
            "placeholder": "​",
            "style": "IPY_MODEL_ec6b124396d844d588e2042f00e1b20f",
            "value": "tokenizer.json: 100%"
          }
        },
        "c31deda55166403abdc231ac18ceb73f": {
          "model_module": "@jupyter-widgets/controls",
          "model_name": "FloatProgressModel",
          "model_module_version": "1.5.0",
          "state": {
            "_dom_classes": [],
            "_model_module": "@jupyter-widgets/controls",
            "_model_module_version": "1.5.0",
            "_model_name": "FloatProgressModel",
            "_view_count": null,
            "_view_module": "@jupyter-widgets/controls",
            "_view_module_version": "1.5.0",
            "_view_name": "ProgressView",
            "bar_style": "success",
            "description": "",
            "description_tooltip": null,
            "layout": "IPY_MODEL_324344dbb59a4a558143fb78fc49c0e4",
            "max": 1355256,
            "min": 0,
            "orientation": "horizontal",
            "style": "IPY_MODEL_59bf665e4d1b4e7295fe7f5eaf7f8faa",
            "value": 1355256
          }
        },
        "512862b5c4c0436b818daa6a6e56b372": {
          "model_module": "@jupyter-widgets/controls",
          "model_name": "HTMLModel",
          "model_module_version": "1.5.0",
          "state": {
            "_dom_classes": [],
            "_model_module": "@jupyter-widgets/controls",
            "_model_module_version": "1.5.0",
            "_model_name": "HTMLModel",
            "_view_count": null,
            "_view_module": "@jupyter-widgets/controls",
            "_view_module_version": "1.5.0",
            "_view_name": "HTMLView",
            "description": "",
            "description_tooltip": null,
            "layout": "IPY_MODEL_a38894f6271b4340ae1ec7cec24aa8ac",
            "placeholder": "​",
            "style": "IPY_MODEL_6805f199a0434507b44cce9a7cede0c2",
            "value": " 1.36M/1.36M [00:00&lt;00:00, 11.1MB/s]"
          }
        },
        "5f06a086884e4753b1ab9d46516108d8": {
          "model_module": "@jupyter-widgets/base",
          "model_name": "LayoutModel",
          "model_module_version": "1.2.0",
          "state": {
            "_model_module": "@jupyter-widgets/base",
            "_model_module_version": "1.2.0",
            "_model_name": "LayoutModel",
            "_view_count": null,
            "_view_module": "@jupyter-widgets/base",
            "_view_module_version": "1.2.0",
            "_view_name": "LayoutView",
            "align_content": null,
            "align_items": null,
            "align_self": null,
            "border": null,
            "bottom": null,
            "display": null,
            "flex": null,
            "flex_flow": null,
            "grid_area": null,
            "grid_auto_columns": null,
            "grid_auto_flow": null,
            "grid_auto_rows": null,
            "grid_column": null,
            "grid_gap": null,
            "grid_row": null,
            "grid_template_areas": null,
            "grid_template_columns": null,
            "grid_template_rows": null,
            "height": null,
            "justify_content": null,
            "justify_items": null,
            "left": null,
            "margin": null,
            "max_height": null,
            "max_width": null,
            "min_height": null,
            "min_width": null,
            "object_fit": null,
            "object_position": null,
            "order": null,
            "overflow": null,
            "overflow_x": null,
            "overflow_y": null,
            "padding": null,
            "right": null,
            "top": null,
            "visibility": null,
            "width": null
          }
        },
        "20630b7e0353444a8bc8388a29206d1e": {
          "model_module": "@jupyter-widgets/base",
          "model_name": "LayoutModel",
          "model_module_version": "1.2.0",
          "state": {
            "_model_module": "@jupyter-widgets/base",
            "_model_module_version": "1.2.0",
            "_model_name": "LayoutModel",
            "_view_count": null,
            "_view_module": "@jupyter-widgets/base",
            "_view_module_version": "1.2.0",
            "_view_name": "LayoutView",
            "align_content": null,
            "align_items": null,
            "align_self": null,
            "border": null,
            "bottom": null,
            "display": null,
            "flex": null,
            "flex_flow": null,
            "grid_area": null,
            "grid_auto_columns": null,
            "grid_auto_flow": null,
            "grid_auto_rows": null,
            "grid_column": null,
            "grid_gap": null,
            "grid_row": null,
            "grid_template_areas": null,
            "grid_template_columns": null,
            "grid_template_rows": null,
            "height": null,
            "justify_content": null,
            "justify_items": null,
            "left": null,
            "margin": null,
            "max_height": null,
            "max_width": null,
            "min_height": null,
            "min_width": null,
            "object_fit": null,
            "object_position": null,
            "order": null,
            "overflow": null,
            "overflow_x": null,
            "overflow_y": null,
            "padding": null,
            "right": null,
            "top": null,
            "visibility": null,
            "width": null
          }
        },
        "ec6b124396d844d588e2042f00e1b20f": {
          "model_module": "@jupyter-widgets/controls",
          "model_name": "DescriptionStyleModel",
          "model_module_version": "1.5.0",
          "state": {
            "_model_module": "@jupyter-widgets/controls",
            "_model_module_version": "1.5.0",
            "_model_name": "DescriptionStyleModel",
            "_view_count": null,
            "_view_module": "@jupyter-widgets/base",
            "_view_module_version": "1.2.0",
            "_view_name": "StyleView",
            "description_width": ""
          }
        },
        "324344dbb59a4a558143fb78fc49c0e4": {
          "model_module": "@jupyter-widgets/base",
          "model_name": "LayoutModel",
          "model_module_version": "1.2.0",
          "state": {
            "_model_module": "@jupyter-widgets/base",
            "_model_module_version": "1.2.0",
            "_model_name": "LayoutModel",
            "_view_count": null,
            "_view_module": "@jupyter-widgets/base",
            "_view_module_version": "1.2.0",
            "_view_name": "LayoutView",
            "align_content": null,
            "align_items": null,
            "align_self": null,
            "border": null,
            "bottom": null,
            "display": null,
            "flex": null,
            "flex_flow": null,
            "grid_area": null,
            "grid_auto_columns": null,
            "grid_auto_flow": null,
            "grid_auto_rows": null,
            "grid_column": null,
            "grid_gap": null,
            "grid_row": null,
            "grid_template_areas": null,
            "grid_template_columns": null,
            "grid_template_rows": null,
            "height": null,
            "justify_content": null,
            "justify_items": null,
            "left": null,
            "margin": null,
            "max_height": null,
            "max_width": null,
            "min_height": null,
            "min_width": null,
            "object_fit": null,
            "object_position": null,
            "order": null,
            "overflow": null,
            "overflow_x": null,
            "overflow_y": null,
            "padding": null,
            "right": null,
            "top": null,
            "visibility": null,
            "width": null
          }
        },
        "59bf665e4d1b4e7295fe7f5eaf7f8faa": {
          "model_module": "@jupyter-widgets/controls",
          "model_name": "ProgressStyleModel",
          "model_module_version": "1.5.0",
          "state": {
            "_model_module": "@jupyter-widgets/controls",
            "_model_module_version": "1.5.0",
            "_model_name": "ProgressStyleModel",
            "_view_count": null,
            "_view_module": "@jupyter-widgets/base",
            "_view_module_version": "1.2.0",
            "_view_name": "StyleView",
            "bar_color": null,
            "description_width": ""
          }
        },
        "a38894f6271b4340ae1ec7cec24aa8ac": {
          "model_module": "@jupyter-widgets/base",
          "model_name": "LayoutModel",
          "model_module_version": "1.2.0",
          "state": {
            "_model_module": "@jupyter-widgets/base",
            "_model_module_version": "1.2.0",
            "_model_name": "LayoutModel",
            "_view_count": null,
            "_view_module": "@jupyter-widgets/base",
            "_view_module_version": "1.2.0",
            "_view_name": "LayoutView",
            "align_content": null,
            "align_items": null,
            "align_self": null,
            "border": null,
            "bottom": null,
            "display": null,
            "flex": null,
            "flex_flow": null,
            "grid_area": null,
            "grid_auto_columns": null,
            "grid_auto_flow": null,
            "grid_auto_rows": null,
            "grid_column": null,
            "grid_gap": null,
            "grid_row": null,
            "grid_template_areas": null,
            "grid_template_columns": null,
            "grid_template_rows": null,
            "height": null,
            "justify_content": null,
            "justify_items": null,
            "left": null,
            "margin": null,
            "max_height": null,
            "max_width": null,
            "min_height": null,
            "min_width": null,
            "object_fit": null,
            "object_position": null,
            "order": null,
            "overflow": null,
            "overflow_x": null,
            "overflow_y": null,
            "padding": null,
            "right": null,
            "top": null,
            "visibility": null,
            "width": null
          }
        },
        "6805f199a0434507b44cce9a7cede0c2": {
          "model_module": "@jupyter-widgets/controls",
          "model_name": "DescriptionStyleModel",
          "model_module_version": "1.5.0",
          "state": {
            "_model_module": "@jupyter-widgets/controls",
            "_model_module_version": "1.5.0",
            "_model_name": "DescriptionStyleModel",
            "_view_count": null,
            "_view_module": "@jupyter-widgets/base",
            "_view_module_version": "1.2.0",
            "_view_name": "StyleView",
            "description_width": ""
          }
        }
      }
    }
  },
  "cells": [
    {
      "cell_type": "markdown",
      "source": [
        "[Reference](https://python.plainenglish.io/101-python-automation-scripts-streamlining-tasks-and-boosting-productivity-part-2-22b3e6a96829)"
      ],
      "metadata": {
        "id": "ZN5V1XvzaA2J"
      }
    },
    {
      "cell_type": "markdown",
      "source": [
        "# Named Entity Recognition (NER)"
      ],
      "metadata": {
        "id": "Hvqj6b_1aKdf"
      }
    },
    {
      "cell_type": "code",
      "execution_count": 1,
      "metadata": {
        "colab": {
          "base_uri": "https://localhost:8080/"
        },
        "id": "nF5leWGLZ-8b",
        "outputId": "f925f7e4-c146-42e3-c5e4-c0d2f14cd742"
      },
      "outputs": [
        {
          "output_type": "stream",
          "name": "stdout",
          "text": [
            "Article: Apple Inc. is planning to launch a new iPhone model next month. The company's CEO, Tim Cook, made the announcement during a press conference in Cupertino, California.\n",
            "Named Entities:\n",
            "- Apple Inc. (ORG)\n",
            "- iPhone (ORG)\n",
            "- next month (DATE)\n",
            "- Tim Cook (PERSON)\n",
            "- Cupertino (GPE)\n",
            "- California (GPE)\n",
            "---\n",
            "Article: The United Nations held a summit on climate change in New York City. Leaders from various countries, including the United States, China, and India, attended the event.\n",
            "Named Entities:\n",
            "- The United Nations (ORG)\n",
            "- New York City (GPE)\n",
            "- the United States (GPE)\n",
            "- China (GPE)\n",
            "- India (GPE)\n",
            "---\n"
          ]
        }
      ],
      "source": [
        "#General script by github.com/tushar2704, please adjust according to you requirements.\n",
        "\n",
        "import spacy\n",
        "# Load the pre-trained English model\n",
        "nlp = spacy.load(\"en_core_web_sm\")\n",
        "# News articles\n",
        "articles = [\n",
        "    \"Apple Inc. is planning to launch a new iPhone model next month. The company's CEO, Tim Cook, made the announcement during a press conference in Cupertino, California.\",\n",
        "    \"The United Nations held a summit on climate change in New York City. Leaders from various countries, including the United States, China, and India, attended the event.\"\n",
        "]\n",
        "# Perform named entity recognition on each article\n",
        "for article in articles:\n",
        "    doc = nlp(article)\n",
        "\n",
        "    print(\"Article:\", article)\n",
        "    print(\"Named Entities:\")\n",
        "    for entity in doc.ents:\n",
        "        print(f\"- {entity.text} ({entity.label_})\")\n",
        "    print(\"---\")"
      ]
    },
    {
      "cell_type": "markdown",
      "source": [
        "# Text Summarization"
      ],
      "metadata": {
        "id": "lauZAM9NaPjG"
      }
    },
    {
      "cell_type": "code",
      "source": [
        "#General script by github.com/tushar2704, please adjust according to you requirements.\n",
        "\n",
        "from gensim.summarization import summarize\n",
        "# News articles\n",
        "articles = [\n",
        "    \"The government announced a new economic stimulus package to boost the country's economy. The package includes tax cuts, infrastructure investments, and support for small businesses. Experts believe that the measures will help create jobs and stimulate economic growth. However, some critics argue that the package may not be sufficient to address the long-term challenges faced by the economy.\",\n",
        "    \"A major technology company unveiled its latest smartphone model at a highly anticipated event. The new device features a larger screen, improved camera capabilities, and enhanced performance. The company claims that the phone will revolutionize the smartphone industry and set new standards for innovation. Pre-orders for the device have already begun, and it is expected to hit the market next month.\"\n",
        "]\n",
        "# Generate a summary for each article\n",
        "for article in articles:\n",
        "    summary = summarize(article, ratio=0.3)\n",
        "\n",
        "    print(\"Article:\", article)\n",
        "    print(\"Summary:\", summary)\n",
        "    print(\"---\")"
      ],
      "metadata": {
        "id": "qQcfW3VQaN4g"
      },
      "execution_count": 2,
      "outputs": []
    },
    {
      "cell_type": "markdown",
      "source": [
        "# Text Classification"
      ],
      "metadata": {
        "id": "OFs4NRVHaiA-"
      }
    },
    {
      "cell_type": "code",
      "source": [
        "#General script by github.com/tushar2704, please adjust according to you requirements.\n",
        "\n",
        "from sklearn.feature_extraction.text import CountVectorizer\n",
        "from sklearn.naive_bayes import MultinomialNB\n",
        "from sklearn.metrics import accuracy_score\n",
        "\n",
        "# Email messages and their labels\n",
        "emails = [\n",
        "    (\"Buy cheap viagra now!\", \"spam\"),\n",
        "    (\"Important meeting tomorrow at 10am\", \"ham\"),\n",
        "    (\"Congratulations! You have won a prize!\", \"spam\"),\n",
        "    (\"Hey, how are you doing?\", \"ham\"),\n",
        "    (\"Get rich quick with this amazing opportunity!\", \"spam\")\n",
        "]\n",
        "# Separate the email messages and labels\n",
        "messages = [email[0] for email in emails]\n",
        "labels = [email[1] for email in emails]\n",
        "# Create a CountVectorizer to convert text into numerical features\n",
        "vectorizer = CountVectorizer()\n",
        "X = vectorizer.fit_transform(messages)\n",
        "# Train a Multinomial Naive Bayes classifier\n",
        "classifier = MultinomialNB()\n",
        "classifier.fit(X, labels)\n",
        "# Test the classifier on new email messages\n",
        "new_emails = [\n",
        "    \"You have been selected for a free gift!\",\n",
        "    \"Please review the attached document\",\n",
        "    \"Lose weight fast with this secret formula!\"\n",
        "]\n",
        "X_new = vectorizer.transform(new_emails)\n",
        "predictions = classifier.predict(X_new)\n",
        "# Print the predictions\n",
        "for email, prediction in zip(new_emails, predictions):\n",
        "    print(\"Email:\", email)\n",
        "    print(\"Prediction:\", prediction)\n",
        "    print(\"---\")"
      ],
      "metadata": {
        "colab": {
          "base_uri": "https://localhost:8080/"
        },
        "id": "O3snhInLaTj1",
        "outputId": "a8bf5b35-778d-41d3-dacd-a5a29b0e667d"
      },
      "execution_count": 3,
      "outputs": [
        {
          "output_type": "stream",
          "name": "stdout",
          "text": [
            "Email: You have been selected for a free gift!\n",
            "Prediction: spam\n",
            "---\n",
            "Email: Please review the attached document\n",
            "Prediction: spam\n",
            "---\n",
            "Email: Lose weight fast with this secret formula!\n",
            "Prediction: spam\n",
            "---\n"
          ]
        }
      ]
    },
    {
      "cell_type": "markdown",
      "source": [
        "# Topic Modeling"
      ],
      "metadata": {
        "id": "gzxvvWzhalwT"
      }
    },
    {
      "cell_type": "code",
      "source": [
        "#General script by github.com/tushar2704, please adjust according to you requirements.\n",
        "\n",
        "from gensim import corpora, models\n",
        "\n",
        "# News articles\n",
        "articles = [\n",
        "    \"The government announced a new economic stimulus package to boost the country's economy.\",\n",
        "    \"A major technology company unveiled its latest smartphone model at a highly anticipated event.\",\n",
        "    \"Scientists discovered a new species of dinosaur in a remote region of South America.\",\n",
        "    \"The stock market experienced significant volatility amid concerns over trade tensions.\",\n",
        "    \"A renowned artist opened a new exhibition showcasing their latest works.\"\n",
        "]\n",
        "# Tokenize the articles\n",
        "tokenized_articles = [article.lower().split() for article in articles]\n",
        "# Create a dictionary and corpus\n",
        "dictionary = corpora.Dictionary(tokenized_articles)\n",
        "corpus = [dictionary.doc2bow(article) for article in tokenized_articles]\n",
        "# Train an LDA model\n",
        "lda_model = models.LdaModel(corpus, num_topics=3, id2word=dictionary, passes=10)\n",
        "# Print the discovered topics\n",
        "for idx, topic in lda_model.print_topics():\n",
        "    print(f\"Topic {idx}: {topic}\")"
      ],
      "metadata": {
        "colab": {
          "base_uri": "https://localhost:8080/"
        },
        "id": "JvKsa_JpakTl",
        "outputId": "11652932-8d02-40ae-d2b5-e6353a77eaeb"
      },
      "execution_count": 4,
      "outputs": [
        {
          "output_type": "stream",
          "name": "stdout",
          "text": [
            "Topic 0: 0.076*\"a\" + 0.075*\"of\" + 0.043*\"new\" + 0.043*\"america.\" + 0.043*\"remote\" + 0.043*\"in\" + 0.043*\"scientists\" + 0.043*\"species\" + 0.043*\"discovered\" + 0.043*\"dinosaur\"\n",
            "Topic 1: 0.060*\"a\" + 0.034*\"works.\" + 0.034*\"showcasing\" + 0.034*\"artist\" + 0.034*\"exhibition\" + 0.034*\"opened\" + 0.034*\"renowned\" + 0.034*\"their\" + 0.034*\"latest\" + 0.034*\"stock\"\n",
            "Topic 2: 0.076*\"a\" + 0.053*\"the\" + 0.030*\"latest\" + 0.030*\"event.\" + 0.030*\"its\" + 0.030*\"model\" + 0.030*\"anticipated\" + 0.030*\"unveiled\" + 0.030*\"major\" + 0.030*\"technology\"\n"
          ]
        }
      ]
    },
    {
      "cell_type": "markdown",
      "source": [
        "# Text Generation"
      ],
      "metadata": {
        "id": "-4vSfERfaob9"
      }
    },
    {
      "cell_type": "code",
      "source": [
        "#General script by github.com/tushar2704, please adjust according to you requirements.\n",
        "\n",
        "from transformers import GPT2LMHeadModel, GPT2Tokenizer\n",
        "# Load the pre-trained GPT-2 model and tokenizer\n",
        "model = GPT2LMHeadModel.from_pretrained(\"gpt2\")\n",
        "tokenizer = GPT2Tokenizer.from_pretrained(\"gpt2\")\n",
        "# Prompt for text generation\n",
        "prompt = \"Once upon a time, in a far-off land\"\n",
        "# Generate text\n",
        "input_ids = tokenizer.encode(prompt, return_tensors=\"pt\")\n",
        "output = model.generate(input_ids, max_length=100, num_return_sequences=1)\n",
        "generated_text = tokenizer.decode(output[0], skip_special_tokens=True)\n",
        "# Print the generated text\n",
        "print(\"Prompt:\", prompt)\n",
        "print(\"Generated Text:\", generated_text)"
      ],
      "metadata": {
        "colab": {
          "base_uri": "https://localhost:8080/",
          "height": 431,
          "referenced_widgets": [
            "8c80c909ae2d4bacb5e12ff321f1b195",
            "687da5195dd34415835e0ddadd364ff9",
            "c026b72d05704514aadb3c55728a177e",
            "e2bf8cd709f84d9a94566bd96b63f6fa",
            "d0f24fa064954aae99cbb430616599ab",
            "7376b2fb60ba4ac4a50796dcc6590098",
            "9d6c792e95924e058544e2b61f0fb5f1",
            "f24b078cfc7541f7a61b27e9b8afc9d9",
            "620b1b6bde304a02b38a9781031be0f8",
            "371cca6b43fe44b493ec3073434af245",
            "7d11692f63074080acf5781f6ba76fda",
            "a423898996584887ba944225593cddc1",
            "4ce0d73934ed4ba6897e833b959c871b",
            "a7b503378ad54716b57a799e4b09256f",
            "3def930ec8ce44a8bf9e7252fba3e82f",
            "3d4ea5401da94711be92fd1520c8797a",
            "1c807af449fc4d0fb1072afe38a5ba24",
            "d5b1aedc52f2403eb0d7d7b05ed3949b",
            "b876c6d3ce924066bd90545cda8af078",
            "9993179688e041d28fd9e20e366fe6d9",
            "ef2c58aa58fa412ca261b02e35b8edc4",
            "e88ca73536b249ecb5dceacaa2df5620",
            "4e325e3f847643a096f00b0feab7af29",
            "f06e08c881b6420c90c542ab19dc2084",
            "cd6ac5fa02754dd586f2c483a3573e82",
            "3a8d409952f9409fafd2457135ce2edc",
            "f13e9dd6fc504723878bbdb951797f6c",
            "40bb7d7f941d43bcaf7329841f67645f",
            "76ea32074ce241118f4c7a6ecf42e601",
            "023d1d11dfd04d1b9da7f7e5ac558200",
            "03ccf9b7b0d2486f833d75a952a44487",
            "aa072336d4e245e18d7a838f93064258",
            "73e9e511246f42bba944a97e9d230582",
            "606d01a84252404bb4f115d035bd20b7",
            "0c0395d089c04c349183512ccd81a447",
            "ae4acc423276416cac82ff295af3fd14",
            "a251659dca1a4eda953f1bc6638b06eb",
            "413ad6fe6c7b430a97293069a88a9dd7",
            "e42250b40c73421f89ec003a020b5f09",
            "bd87888cc90347008607f4f2f88f62f9",
            "c02a2fec826c4e26a6395413aec17c10",
            "3e134b55db704b0b9b2db1eab4a50fe3",
            "c614e8d0711c47fea9d6c5b537c31be8",
            "df76e6d31db446ceaa9a1e8d788e2d4e",
            "d5576e64675d458381ea0847a37357ed",
            "cacb90f954de45e59d2cb446c4aa14aa",
            "57f1b6dbde6341e4966d198728ec49c8",
            "c0dea44c4ded48a4987470712f688ae6",
            "f7c84eb1a68e4b66a1398eed7a3f9c24",
            "e9fbe01d2ac0475e8dc68bee3cd65642",
            "dae81290e6d2487b985ec62d8bff9f15",
            "2d2a60c08b194725a0bffa610d16b359",
            "7720f8a83c964a2bb9924f39195a20f5",
            "8ab0d6f7df0047f7944504a1cbbe57be",
            "d81b7b8ceee74d88bf7fd34a03c498f6",
            "f0617be3b1ab4e8ca6395c0cd2357bc0",
            "04b2630f6b0d4df69596304463e497da",
            "c7f6972565224474a814bf553b16f16f",
            "c529eb359691469894ec871798b14641",
            "e61b555157664662aab970ea242af02e",
            "2326228beffb4f438ae551323ad87b0d",
            "09a26eafa15d465a8985d17cc5628804",
            "006fe565e023420aa1815a94c4b97965",
            "3f8559f50ee9464c85f2f12b983610f1",
            "e5f987c44f754aba9a16c228dc801bf0",
            "ea55d314dc1e45b2a9047c8ecb409060",
            "ab7b4a6c5ce14f8a9b1eaa30a65072b5",
            "c55b6720f43740d18084394282fc2ff6",
            "c31deda55166403abdc231ac18ceb73f",
            "512862b5c4c0436b818daa6a6e56b372",
            "5f06a086884e4753b1ab9d46516108d8",
            "20630b7e0353444a8bc8388a29206d1e",
            "ec6b124396d844d588e2042f00e1b20f",
            "324344dbb59a4a558143fb78fc49c0e4",
            "59bf665e4d1b4e7295fe7f5eaf7f8faa",
            "a38894f6271b4340ae1ec7cec24aa8ac",
            "6805f199a0434507b44cce9a7cede0c2"
          ]
        },
        "id": "jQzy0q_ganVD",
        "outputId": "50026e08-3718-4c8f-87ac-895408b34fad"
      },
      "execution_count": 5,
      "outputs": [
        {
          "output_type": "stream",
          "name": "stderr",
          "text": [
            "/usr/local/lib/python3.10/dist-packages/huggingface_hub/utils/_token.py:89: UserWarning: \n",
            "The secret `HF_TOKEN` does not exist in your Colab secrets.\n",
            "To authenticate with the Hugging Face Hub, create a token in your settings tab (https://huggingface.co/settings/tokens), set it as secret in your Google Colab and restart your session.\n",
            "You will be able to reuse this secret in all of your notebooks.\n",
            "Please note that authentication is recommended but still optional to access public models or datasets.\n",
            "  warnings.warn(\n"
          ]
        },
        {
          "output_type": "display_data",
          "data": {
            "text/plain": [
              "config.json:   0%|          | 0.00/665 [00:00<?, ?B/s]"
            ],
            "application/vnd.jupyter.widget-view+json": {
              "version_major": 2,
              "version_minor": 0,
              "model_id": "8c80c909ae2d4bacb5e12ff321f1b195"
            }
          },
          "metadata": {}
        },
        {
          "output_type": "display_data",
          "data": {
            "text/plain": [
              "model.safetensors:   0%|          | 0.00/548M [00:00<?, ?B/s]"
            ],
            "application/vnd.jupyter.widget-view+json": {
              "version_major": 2,
              "version_minor": 0,
              "model_id": "a423898996584887ba944225593cddc1"
            }
          },
          "metadata": {}
        },
        {
          "output_type": "display_data",
          "data": {
            "text/plain": [
              "generation_config.json:   0%|          | 0.00/124 [00:00<?, ?B/s]"
            ],
            "application/vnd.jupyter.widget-view+json": {
              "version_major": 2,
              "version_minor": 0,
              "model_id": "4e325e3f847643a096f00b0feab7af29"
            }
          },
          "metadata": {}
        },
        {
          "output_type": "display_data",
          "data": {
            "text/plain": [
              "tokenizer_config.json:   0%|          | 0.00/26.0 [00:00<?, ?B/s]"
            ],
            "application/vnd.jupyter.widget-view+json": {
              "version_major": 2,
              "version_minor": 0,
              "model_id": "606d01a84252404bb4f115d035bd20b7"
            }
          },
          "metadata": {}
        },
        {
          "output_type": "display_data",
          "data": {
            "text/plain": [
              "vocab.json:   0%|          | 0.00/1.04M [00:00<?, ?B/s]"
            ],
            "application/vnd.jupyter.widget-view+json": {
              "version_major": 2,
              "version_minor": 0,
              "model_id": "d5576e64675d458381ea0847a37357ed"
            }
          },
          "metadata": {}
        },
        {
          "output_type": "display_data",
          "data": {
            "text/plain": [
              "merges.txt:   0%|          | 0.00/456k [00:00<?, ?B/s]"
            ],
            "application/vnd.jupyter.widget-view+json": {
              "version_major": 2,
              "version_minor": 0,
              "model_id": "f0617be3b1ab4e8ca6395c0cd2357bc0"
            }
          },
          "metadata": {}
        },
        {
          "output_type": "display_data",
          "data": {
            "text/plain": [
              "tokenizer.json:   0%|          | 0.00/1.36M [00:00<?, ?B/s]"
            ],
            "application/vnd.jupyter.widget-view+json": {
              "version_major": 2,
              "version_minor": 0,
              "model_id": "ab7b4a6c5ce14f8a9b1eaa30a65072b5"
            }
          },
          "metadata": {}
        },
        {
          "output_type": "stream",
          "name": "stderr",
          "text": [
            "The attention mask and the pad token id were not set. As a consequence, you may observe unexpected behavior. Please pass your input's `attention_mask` to obtain reliable results.\n",
            "Setting `pad_token_id` to `eos_token_id`:50256 for open-end generation.\n"
          ]
        },
        {
          "output_type": "stream",
          "name": "stdout",
          "text": [
            "Prompt: Once upon a time, in a far-off land\n",
            "Generated Text: Once upon a time, in a far-off land, the world was a place of great beauty and great danger. The world was a place of great danger, and the world was a place of great danger. The world was a place of great danger, and the world was a place of great danger. The world was a place of great danger, and the world was a place of great danger. The world was a place of great danger, and the world was a place of great danger.\n"
          ]
        }
      ]
    },
    {
      "cell_type": "markdown",
      "source": [
        "# Text Similarity"
      ],
      "metadata": {
        "id": "LwrqJ916a9bv"
      }
    },
    {
      "cell_type": "code",
      "source": [
        "#General script by github.com/tushar2704, please adjust according to you requirements.\n",
        "\n",
        "import spacy\n",
        "\n",
        "# Load the pre-trained English model\n",
        "nlp = spacy.load(\"en_core_web_sm\")\n",
        "# Documents\n",
        "documents = [\n",
        "    \"The quick brown fox jumps over the lazy dog.\",\n",
        "    \"A quick brown fox jumps over the lazy dog.\",\n",
        "    \"The quick brown fox jumps over the lazy cat.\",\n",
        "    \"The quick brown fox is jumping over the lazy dog.\"\n",
        "]\n",
        "# Calculate similarity between each pair of documents\n",
        "for i in range(len(documents)):\n",
        "    for j in range(i+1, len(documents)):\n",
        "        doc1 = nlp(documents[i])\n",
        "        doc2 = nlp(documents[j])\n",
        "        similarity = doc1.similarity(doc2)\n",
        "        print(f\"Similarity between Document {i+1} and Document {j+1}: {similarity}\")"
      ],
      "metadata": {
        "colab": {
          "base_uri": "https://localhost:8080/"
        },
        "id": "IVcmS1PZap2T",
        "outputId": "d1d5ae2f-297f-4b04-ae80-2e0b560ec6ad"
      },
      "execution_count": 6,
      "outputs": [
        {
          "output_type": "stream",
          "name": "stderr",
          "text": [
            "<ipython-input-6-86754820b9d6>:19: UserWarning: [W007] The model you're using has no word vectors loaded, so the result of the Doc.similarity method will be based on the tagger, parser and NER, which may not give useful similarity judgements. This may happen if you're using one of the small models, e.g. `en_core_web_sm`, which don't ship with word vectors and only use context-sensitive tensors. You can always add your own word vectors, or use one of the larger models instead if available.\n",
            "  similarity = doc1.similarity(doc2)\n"
          ]
        },
        {
          "output_type": "stream",
          "name": "stdout",
          "text": [
            "Similarity between Document 1 and Document 2: 0.9817835528989932\n",
            "Similarity between Document 1 and Document 3: 0.9599161804997547\n",
            "Similarity between Document 1 and Document 4: 0.910358267963472\n",
            "Similarity between Document 2 and Document 3: 0.9339972411916916\n",
            "Similarity between Document 2 and Document 4: 0.9098910669800276\n",
            "Similarity between Document 3 and Document 4: 0.8651357647978668\n"
          ]
        }
      ]
    },
    {
      "cell_type": "markdown",
      "source": [
        "# Text Clustering"
      ],
      "metadata": {
        "id": "_GKKrxU9bB5v"
      }
    },
    {
      "cell_type": "code",
      "source": [
        "#General script by github.com/tushar2704, please adjust according to you requirements.\n",
        "\n",
        "from sklearn.feature_extraction.text import TfidfVectorizer\n",
        "from sklearn.cluster import KMeans\n",
        "\n",
        "# News articles\n",
        "articles = [\n",
        "    \"The government announced a new economic stimulus package to boost the country's economy.\",\n",
        "    \"A major technology company unveiled its latest smartphone model at a highly anticipated event.\",\n",
        "    \"Scientists discovered a new species of dinosaur in a remote region of South America.\",\n",
        "    \"The stock market experienced significant volatility amid concerns over trade tensions.\",\n",
        "    \"A renowned artist opened a new exhibition showcasing their latest works.\"\n",
        "]\n",
        "# Create a TF-IDF vectorizer\n",
        "vectorizer = TfidfVectorizer()\n",
        "X = vectorizer.fit_transform(articles)\n",
        "# Perform K-means clustering\n",
        "kmeans = KMeans(n_clusters=3, random_state=42)\n",
        "kmeans.fit(X)\n",
        "# Print the cluster assignments\n",
        "for i, label in enumerate(kmeans.labels_):\n",
        "    print(f\"Article {i+1} belongs to Cluster {label+1}\")"
      ],
      "metadata": {
        "colab": {
          "base_uri": "https://localhost:8080/"
        },
        "id": "U7LTuGi8bApL",
        "outputId": "3dc80f3c-509b-4414-ba59-bfbf19ebe0e2"
      },
      "execution_count": 7,
      "outputs": [
        {
          "output_type": "stream",
          "name": "stdout",
          "text": [
            "Article 1 belongs to Cluster 1\n",
            "Article 2 belongs to Cluster 2\n",
            "Article 3 belongs to Cluster 3\n",
            "Article 4 belongs to Cluster 1\n",
            "Article 5 belongs to Cluster 2\n"
          ]
        },
        {
          "output_type": "stream",
          "name": "stderr",
          "text": [
            "/usr/local/lib/python3.10/dist-packages/sklearn/cluster/_kmeans.py:870: FutureWarning: The default value of `n_init` will change from 10 to 'auto' in 1.4. Set the value of `n_init` explicitly to suppress the warning\n",
            "  warnings.warn(\n"
          ]
        }
      ]
    },
    {
      "cell_type": "markdown",
      "source": [
        "# Text Preprocessing"
      ],
      "metadata": {
        "id": "7MBm4wj7bFVY"
      }
    },
    {
      "cell_type": "code",
      "source": [
        "#General script by github.com/tushar2704, please adjust according to you requirements.\n",
        "\n",
        "import nltk\n",
        "from nltk.corpus import stopwords\n",
        "from nltk.stem import WordNetLemmatizer\n",
        "# Download required NLTK data\n",
        "nltk.download('punkt')\n",
        "nltk.download('stopwords')\n",
        "nltk.download('wordnet')\n",
        "#Text document\n",
        "document = \"The quick brown foxes are jumping over the lazy dogs. They are having a great time playing in the park.\"\n",
        "#Tokenize the document\n",
        "tokens = nltk.word_tokenize(document)\n",
        "#Lowercase the tokens\n",
        "tokens = [token.lower() for token in tokens]\n",
        "#Remove stopwords\n",
        "stop_words = set(stopwords.words('english'))\n",
        "tokens = [token for token in tokens if token not in stop_words]\n",
        "#Lemmatize the tokens\n",
        "lemmatizer = WordNetLemmatizer()\n",
        "tokens = [lemmatizer.lemmatize(token) for token in tokens]\n",
        "#Print the preprocessed tokens\n",
        "print(\"Preprocessed Tokens:\", tokens)"
      ],
      "metadata": {
        "colab": {
          "base_uri": "https://localhost:8080/"
        },
        "id": "maRVogDcbDdW",
        "outputId": "a21d533a-3bb1-46be-929c-504ba5c37691"
      },
      "execution_count": 12,
      "outputs": [
        {
          "output_type": "stream",
          "name": "stderr",
          "text": [
            "[nltk_data] Downloading package punkt to /root/nltk_data...\n",
            "[nltk_data]   Unzipping tokenizers/punkt.zip.\n",
            "[nltk_data] Downloading package stopwords to /root/nltk_data...\n",
            "[nltk_data]   Unzipping corpora/stopwords.zip.\n",
            "[nltk_data] Downloading package wordnet to /root/nltk_data...\n"
          ]
        },
        {
          "output_type": "stream",
          "name": "stdout",
          "text": [
            "Preprocessed Tokens: ['quick', 'brown', 'fox', 'jumping', 'lazy', 'dog', '.', 'great', 'time', 'playing', 'park', '.']\n"
          ]
        }
      ]
    },
    {
      "cell_type": "markdown",
      "source": [
        "# Text Translation"
      ],
      "metadata": {
        "id": "Kir2LY6IbST_"
      }
    },
    {
      "cell_type": "code",
      "source": [
        "pip install googletrans"
      ],
      "metadata": {
        "colab": {
          "base_uri": "https://localhost:8080/",
          "height": 932
        },
        "id": "Z8Kq79ySbXKI",
        "outputId": "83f0325e-a23c-4489-f202-0928b4b8aa88"
      },
      "execution_count": 14,
      "outputs": [
        {
          "output_type": "stream",
          "name": "stdout",
          "text": [
            "Collecting googletrans\n",
            "  Downloading googletrans-3.0.0.tar.gz (17 kB)\n",
            "  Preparing metadata (setup.py) ... \u001b[?25l\u001b[?25hdone\n",
            "Collecting httpx==0.13.3 (from googletrans)\n",
            "  Downloading httpx-0.13.3-py3-none-any.whl (55 kB)\n",
            "\u001b[2K     \u001b[90m━━━━━━━━━━━━━━━━━━━━━━━━━━━━━━━━━━━━━━━━\u001b[0m \u001b[32m55.1/55.1 kB\u001b[0m \u001b[31m833.9 kB/s\u001b[0m eta \u001b[36m0:00:00\u001b[0m\n",
            "\u001b[?25hRequirement already satisfied: certifi in /usr/local/lib/python3.10/dist-packages (from httpx==0.13.3->googletrans) (2024.2.2)\n",
            "Collecting hstspreload (from httpx==0.13.3->googletrans)\n",
            "  Downloading hstspreload-2024.5.1-py3-none-any.whl (1.1 MB)\n",
            "\u001b[2K     \u001b[90m━━━━━━━━━━━━━━━━━━━━━━━━━━━━━━━━━━━━━━━━\u001b[0m \u001b[32m1.1/1.1 MB\u001b[0m \u001b[31m15.9 MB/s\u001b[0m eta \u001b[36m0:00:00\u001b[0m\n",
            "\u001b[?25hRequirement already satisfied: sniffio in /usr/local/lib/python3.10/dist-packages (from httpx==0.13.3->googletrans) (1.3.1)\n",
            "Collecting chardet==3.* (from httpx==0.13.3->googletrans)\n",
            "  Downloading chardet-3.0.4-py2.py3-none-any.whl (133 kB)\n",
            "\u001b[2K     \u001b[90m━━━━━━━━━━━━━━━━━━━━━━━━━━━━━━━━━━━━━━━━\u001b[0m \u001b[32m133.4/133.4 kB\u001b[0m \u001b[31m12.8 MB/s\u001b[0m eta \u001b[36m0:00:00\u001b[0m\n",
            "\u001b[?25hCollecting idna==2.* (from httpx==0.13.3->googletrans)\n",
            "  Downloading idna-2.10-py2.py3-none-any.whl (58 kB)\n",
            "\u001b[2K     \u001b[90m━━━━━━━━━━━━━━━━━━━━━━━━━━━━━━━━━━━━━━━━\u001b[0m \u001b[32m58.8/58.8 kB\u001b[0m \u001b[31m3.5 MB/s\u001b[0m eta \u001b[36m0:00:00\u001b[0m\n",
            "\u001b[?25hCollecting rfc3986<2,>=1.3 (from httpx==0.13.3->googletrans)\n",
            "  Downloading rfc3986-1.5.0-py2.py3-none-any.whl (31 kB)\n",
            "Collecting httpcore==0.9.* (from httpx==0.13.3->googletrans)\n",
            "  Downloading httpcore-0.9.1-py3-none-any.whl (42 kB)\n",
            "\u001b[2K     \u001b[90m━━━━━━━━━━━━━━━━━━━━━━━━━━━━━━━━━━━━━━━━\u001b[0m \u001b[32m42.6/42.6 kB\u001b[0m \u001b[31m4.0 MB/s\u001b[0m eta \u001b[36m0:00:00\u001b[0m\n",
            "\u001b[?25hCollecting h11<0.10,>=0.8 (from httpcore==0.9.*->httpx==0.13.3->googletrans)\n",
            "  Downloading h11-0.9.0-py2.py3-none-any.whl (53 kB)\n",
            "\u001b[2K     \u001b[90m━━━━━━━━━━━━━━━━━━━━━━━━━━━━━━━━━━━━━━━━\u001b[0m \u001b[32m53.6/53.6 kB\u001b[0m \u001b[31m5.4 MB/s\u001b[0m eta \u001b[36m0:00:00\u001b[0m\n",
            "\u001b[?25hCollecting h2==3.* (from httpcore==0.9.*->httpx==0.13.3->googletrans)\n",
            "  Downloading h2-3.2.0-py2.py3-none-any.whl (65 kB)\n",
            "\u001b[2K     \u001b[90m━━━━━━━━━━━━━━━━━━━━━━━━━━━━━━━━━━━━━━━━\u001b[0m \u001b[32m65.0/65.0 kB\u001b[0m \u001b[31m6.5 MB/s\u001b[0m eta \u001b[36m0:00:00\u001b[0m\n",
            "\u001b[?25hCollecting hyperframe<6,>=5.2.0 (from h2==3.*->httpcore==0.9.*->httpx==0.13.3->googletrans)\n",
            "  Downloading hyperframe-5.2.0-py2.py3-none-any.whl (12 kB)\n",
            "Collecting hpack<4,>=3.0 (from h2==3.*->httpcore==0.9.*->httpx==0.13.3->googletrans)\n",
            "  Downloading hpack-3.0.0-py2.py3-none-any.whl (38 kB)\n",
            "Building wheels for collected packages: googletrans\n",
            "  Building wheel for googletrans (setup.py) ... \u001b[?25l\u001b[?25hdone\n",
            "  Created wheel for googletrans: filename=googletrans-3.0.0-py3-none-any.whl size=15718 sha256=051b8603ad48ad792e57f082e543814584ba5d4579da2264f11e2b275a021d57\n",
            "  Stored in directory: /root/.cache/pip/wheels/b3/81/ea/8b030407f8ebfc2f857814e086bb22ca2d4fea1a7be63652ab\n",
            "Successfully built googletrans\n",
            "Installing collected packages: rfc3986, hyperframe, hpack, h11, chardet, idna, hstspreload, h2, httpcore, httpx, googletrans\n",
            "  Attempting uninstall: chardet\n",
            "    Found existing installation: chardet 5.2.0\n",
            "    Uninstalling chardet-5.2.0:\n",
            "      Successfully uninstalled chardet-5.2.0\n",
            "  Attempting uninstall: idna\n",
            "    Found existing installation: idna 3.7\n",
            "    Uninstalling idna-3.7:\n",
            "      Successfully uninstalled idna-3.7\n",
            "Successfully installed chardet-3.0.4 googletrans-3.0.0 h11-0.9.0 h2-3.2.0 hpack-3.0.0 hstspreload-2024.5.1 httpcore-0.9.1 httpx-0.13.3 hyperframe-5.2.0 idna-2.10 rfc3986-1.5.0\n"
          ]
        },
        {
          "output_type": "display_data",
          "data": {
            "application/vnd.colab-display-data+json": {
              "pip_warning": {
                "packages": [
                  "chardet",
                  "idna"
                ]
              },
              "id": "7abc5317459f4e50a30d83b3a8cbf418"
            }
          },
          "metadata": {}
        }
      ]
    },
    {
      "cell_type": "code",
      "source": [
        "#General script by github.com/tushar2704, please adjust according to you requirements.\n",
        "\n",
        "from googletrans import Translator\n",
        "# Text to translate\n",
        "text = \"Bonjour, comment allez-vous?\"\n",
        "# Create a translator object\n",
        "translator = Translator()\n",
        "# Translate the text\n",
        "translation = translator.translate(text, dest='en')\n",
        "# Print the translated text\n",
        "print(\"Original Text:\", text)\n",
        "print(\"Translated Text:\", translation.text)"
      ],
      "metadata": {
        "id": "HeUwleSvbHEp"
      },
      "execution_count": 17,
      "outputs": []
    },
    {
      "cell_type": "markdown",
      "source": [
        "# Text Summarization with Extractive Methods"
      ],
      "metadata": {
        "id": "TrBQ4PAubVyD"
      }
    },
    {
      "cell_type": "code",
      "source": [
        "#General script by github.com/tushar2704, please adjust according to you requirements.\n",
        "\n",
        "from sumy.parsers.plaintext import PlaintextParser\n",
        "from sumy.nlp.tokenizers import Tokenizer\n",
        "from sumy.summarizers.lex_rank import LexRankSummarizer\n",
        "\n",
        "# News article\n",
        "article = \"\"\"\n",
        "The government announced a new economic stimulus package to boost the country's economy. The package includes tax cuts, infrastructure investments, and support for small businesses. Experts believe that the measures will help create jobs and stimulate economic growth. However, some critics argue that the package may not be sufficient to address the long-term challenges faced by the economy.\n",
        "The stimulus package comes amid concerns over the slowdown in economic activity due to the ongoing pandemic. The government hopes that the measures will provide a much-needed boost to consumer spending and business confidence. The tax cuts are expected to put more money in the hands of individuals and businesses, while the infrastructure investments aim to create jobs and improve the country's competitiveness.\n",
        "Small businesses, which have been hit hard by the pandemic, will receive additional support through grants and loans. The government recognizes the importance of small businesses in driving economic growth and employment. The package also includes measures to support the tourism and hospitality sectors, which have been severely impacted by travel restrictions.\n",
        "Critics of the stimulus package argue that it may not be enough to address the structural issues facing the economy. They point out that the country's high debt levels and declining productivity growth require long-term solutions. Some economists also warn that the stimulus measures could lead to inflationary pressures if not managed carefully.\n",
        "Despite the concerns, the government remains optimistic about the impact of the stimulus package. They believe that the measures will provide a significant boost to the economy and help the country recover from the pandemic-induced recession. The government has also pledged to continue monitoring the economic situation and take further action if necessary.\n",
        "\"\"\"\n",
        "# Create a plaintext parser\n",
        "parser = PlaintextParser.from_string(article, Tokenizer(\"english\"))\n",
        "# Create a LexRank summarizer\n",
        "summarizer = LexRankSummarizer()\n",
        "# Generate the summary\n",
        "summary = summarizer(parser.document, sentences_count=3)\n",
        "# Print the summary\n",
        "for sentence in summary:\n",
        "    print(sentence)"
      ],
      "metadata": {
        "id": "fP6FZUHkbT-_"
      },
      "execution_count": null,
      "outputs": []
    },
    {
      "cell_type": "markdown",
      "source": [
        "# Text Summarization with Abstractive Methods"
      ],
      "metadata": {
        "id": "29Ic3FtFbbXd"
      }
    },
    {
      "cell_type": "code",
      "source": [
        "#General script by github.com/tushar2704, please adjust according to you requirements.\n",
        "\n",
        "from transformers import T5Tokenizer, T5ForConditionalGeneration\n",
        "\n",
        "# News article\n",
        "article = \"\"\"\n",
        "The government announced a new economic stimulus package to boost the country's economy. The package includes tax cuts, infrastructure investments, and support for small businesses. Experts believe that the measures will help create jobs and stimulate economic growth. However, some critics argue that the package may not be sufficient to address the long-term challenges faced by the economy.\n",
        "The stimulus package comes amid concerns over the slowdown in economic activity due to the ongoing pandemic. The government hopes that the measures will provide a much-needed boost to consumer spending and business confidence. The tax cuts are expected to put more money in the hands of individuals and businesses, while the infrastructure investments aim to create jobs and improve the country's competitiveness.\n",
        "Small businesses, which have been hit hard by the pandemic, will receive additional support through grants and loans. The government recognizes the importance of small businesses in driving economic growth and employment. The package also includes measures to support the tourism and hospitality sectors, which have been severely impacted by travel restrictions.\n",
        "Critics of the stimulus package argue that it may not be enough to address the structural issues facing the economy. They point out that the country's high debt levels and declining productivity growth require long-term solutions. Some economists also warn that the stimulus measures could lead to inflationary pressures if not managed carefully.\n",
        "Despite the concerns, the government remains optimistic about the impact of the stimulus package. They believe that the measures will provide a significant boost to the economy and help the country recover from the pandemic-induced recession. The government has also pledged to continue monitoring the economic situation and take further action if necessary.\n",
        "\"\"\"\n",
        "# Load the T5 tokenizer and model\n",
        "tokenizer = T5Tokenizer.from_pretrained('t5-small')\n",
        "model = T5ForConditionalGeneration.from_pretrained('t5-small')\n",
        "# Prepare the input\n",
        "input_text = \"summarize: \" + article\n",
        "input_ids = tokenizer.encode(input_text, return_tensors='pt', max_length=512, truncation=True)\n",
        "# Generate the summary\n",
        "summary_ids = model.generate(input_ids, num_beams=4, max_length=100, early_stopping=True)\n",
        "summary = tokenizer.decode(summary_ids, skip_special_tokens=True)\n",
        "# Print the summary\n",
        "print(\"Summary:\", summary)"
      ],
      "metadata": {
        "id": "HbnbYMfjbZ7L"
      },
      "execution_count": 20,
      "outputs": []
    },
    {
      "cell_type": "markdown",
      "source": [
        "# Text-to-Speech Conversion\n"
      ],
      "metadata": {
        "id": "lIvGU_rZbmep"
      }
    },
    {
      "cell_type": "code",
      "source": [
        "#General script by github.com/tushar2704, please adjust according to you requirements.\n",
        "\n",
        "from gtts import gTTS\n",
        "import os\n",
        "\n",
        "# Text to convert to speech\n",
        "text = \"Hello, this is an example of text-to-speech conversion using Python.\"\n",
        "# Create a gTTS object\n",
        "tts = gTTS(text=text, lang='en')\n",
        "# Save the speech as an audio file\n",
        "tts.save(\"output.mp3\")\n",
        "# Play the audio file\n",
        "os.system(\"start output.mp3\")"
      ],
      "metadata": {
        "id": "NvvUgillbjCv"
      },
      "execution_count": 21,
      "outputs": []
    },
    {
      "cell_type": "markdown",
      "source": [
        "# Speech-to-Text Conversion"
      ],
      "metadata": {
        "id": "wK1IC-PBbp0a"
      }
    },
    {
      "cell_type": "code",
      "source": [
        "#General script by github.com/tushar2704, please adjust according to you requirements.\n",
        "\n",
        "import speech_recognition as sr\n",
        "# Create a recognizer object\n",
        "recognizer = sr.Recognizer()\n",
        "# Load the audio file\n",
        "with sr.AudioFile(\"audio.wav\") as source:\n",
        "    # Read the audio data\n",
        "    audio = recognizer.record(source)\n",
        "# Perform speech recognition\n",
        "try:\n",
        "    text = recognizer.recognize_google(audio)\n",
        "    print(\"Transcription:\", text)\n",
        "except sr.UnknownValueError:\n",
        "    print(\"Speech recognition could not understand the audio.\")\n",
        "except sr.RequestError as e:\n",
        "    print(\"Could not request results from the speech recognition service; {0}\".format(e))"
      ],
      "metadata": {
        "id": "4BcJkfH3boLb"
      },
      "execution_count": 22,
      "outputs": []
    },
    {
      "cell_type": "markdown",
      "source": [
        "# Language Detection"
      ],
      "metadata": {
        "id": "w8CDnmpQbxJM"
      }
    },
    {
      "cell_type": "code",
      "source": [
        "#General script by github.com/tushar2704, please adjust according to you requirements.\n",
        "\n",
        "from langdetect import detect\n",
        "# Text to detect the language\n",
        "text = \"Bonjour, comment allez-vous?\"\n",
        "# Detect the language\n",
        "language = detect(text)\n",
        "# Print the detected language\n",
        "print(\"Detected Language:\", language)"
      ],
      "metadata": {
        "id": "DEnGkG2rbuor"
      },
      "execution_count": 24,
      "outputs": []
    },
    {
      "cell_type": "markdown",
      "source": [
        "# Model Versioning"
      ],
      "metadata": {
        "id": "B5VmGu7ib1S3"
      }
    },
    {
      "cell_type": "code",
      "source": [
        "#General script by github.com/tushar2704, please adjust according to you requirements.\n",
        "\n",
        "import mlflow\n",
        "from sklearn.ensemble import RandomForestClassifier\n",
        "from sklearn.metrics import accuracy_score\n",
        "\n",
        "# Load the dataset\n",
        "X_train = ...  # Training features\n",
        "y_train = ...  # Training labels\n",
        "X_test = ...  # Testing features\n",
        "y_test = ...  # Testing labels\n",
        "# Set the MLflow tracking URI\n",
        "mlflow.set_tracking_uri(\"http://localhost:5000\")\n",
        "# Create an experiment\n",
        "experiment_name = \"Random Forest Classifier\"\n",
        "mlflow.set_experiment(experiment_name)\n",
        "# Train and evaluate multiple model versions\n",
        "for n_estimators in [50, 100, 200]:\n",
        "    with mlflow.start_run(run_name=f\"RF_{n_estimators}\"):\n",
        "        # Train the model\n",
        "        model = RandomForestClassifier(n_estimators=n_estimators, random_state=42)\n",
        "        model.fit(X_train, y_train)\n",
        "\n",
        "        # Evaluate the model\n",
        "        y_pred = model.predict(X_test)\n",
        "        accuracy = accuracy_score(y_test, y_pred)\n",
        "\n",
        "        # Log the model and metrics\n",
        "        mlflow.log_param(\"n_estimators\", n_estimators)\n",
        "        mlflow.log_metric(\"accuracy\", accuracy)\n",
        "        mlflow.sklearn.log_model(model, \"model\")"
      ],
      "metadata": {
        "id": "knCjNHjBb0H1"
      },
      "execution_count": 26,
      "outputs": []
    },
    {
      "cell_type": "markdown",
      "source": [
        "# Model Interpretability"
      ],
      "metadata": {
        "id": "P7xQU0ZBcMth"
      }
    },
    {
      "cell_type": "code",
      "source": [
        "#General script by github.com/tushar2704, please adjust according to you requirements.\n",
        "\n",
        "from sklearn.ensemble import RandomForestClassifier\n",
        "from sklearn.inspection import permutation_importance\n",
        "\n",
        "# Load the dataset\n",
        "X = ...  # Features\n",
        "y = ...  # Target labels\n",
        "# Train a random forest classifier\n",
        "model = RandomForestClassifier(n_estimators=100, random_state=42)\n",
        "model.fit(X, y)\n",
        "# Calculate permutation importance\n",
        "result = permutation_importance(model, X, y, n_repeats=10, random_state=42)\n",
        "# Get the feature importances\n",
        "importances = result.importances_mean\n",
        "# Print the feature importances\n",
        "for feature, importance in zip(X.columns, importances):\n",
        "    print(f\"{feature}: {importance}\")"
      ],
      "metadata": {
        "id": "It7e6TtTcGLa"
      },
      "execution_count": 27,
      "outputs": []
    },
    {
      "cell_type": "markdown",
      "source": [
        "# Model Fairness"
      ],
      "metadata": {
        "id": "nPlHQvudcTjP"
      }
    },
    {
      "cell_type": "code",
      "source": [
        "#General script by github.com/tushar2704, please adjust according to you requirements.\n",
        "\n",
        "from aequitas.group import Group\n",
        "from aequitas.bias import Bias\n",
        "\n",
        "# Load the dataset and model predictions\n",
        "data = ...  # Dataset with features, target, and sensitive attributes\n",
        "predictions = ...  # Model predictions\n",
        "# Create a group object\n",
        "group = Group()\n",
        "group.fit(data, sensitive_attributes=['race', 'gender'])\n",
        "# Create a bias object\n",
        "bias = Bias()\n",
        "bias.fit(group, predictions)\n",
        "# Calculate fairness metrics\n",
        "fairness_metrics = bias.get_disparity_major_group(group_metrics=['tpr', 'fpr', 'precision', 'recall'])\n",
        "# Print the fairness metrics\n",
        "print(fairness_metrics)"
      ],
      "metadata": {
        "id": "E7WvH27gcPRG"
      },
      "execution_count": 28,
      "outputs": []
    },
    {
      "cell_type": "markdown",
      "source": [
        "# Model Stacking"
      ],
      "metadata": {
        "id": "SvkUsAtmcdHR"
      }
    },
    {
      "cell_type": "code",
      "source": [
        "#General script by github.com/tushar2704, please adjust according to you requirements.\n",
        "\n",
        "from sklearn.linear_model import LogisticRegression\n",
        "from sklearn.tree import DecisionTreeClassifier\n",
        "from sklearn.ensemble import RandomForestClassifier\n",
        "from mlxtend.classifier import StackingClassifier\n",
        "\n",
        "# Load the dataset\n",
        "X_train = ...  # Training features\n",
        "y_train = ...  # Training labels\n",
        "X_test = ...  # Testing features\n",
        "y_test = ...  # Testing labels\n",
        "# Define the base models\n",
        "base_models = [\n",
        "    ('lr', LogisticRegression()),\n",
        "    ('dt', DecisionTreeClassifier()),\n",
        "    ('rf', RandomForestClassifier())\n",
        "]\n",
        "# Define the meta-model\n",
        "meta_model = LogisticRegression()\n",
        "# Create the stacking classifier\n",
        "stacking_classifier = StackingClassifier(classifiers=base_models, meta_classifier=meta_model)\n",
        "# Train the stacking classifier\n",
        "stacking_classifier.fit(X_train, y_train)\n",
        "# Make predictions on the testing data\n",
        "y_pred = stacking_classifier.predict(X_test)\n",
        "# Evaluate the stacking classifier\n",
        "accuracy = accuracy_score(y_test, y_pred)\n",
        "print(f\"Stacking Classifier Accuracy: {accuracy:.3f}\")"
      ],
      "metadata": {
        "id": "ZVD0rw3AcVKj"
      },
      "execution_count": 29,
      "outputs": []
    },
    {
      "cell_type": "markdown",
      "source": [
        "# Model Interpretation with SHAP"
      ],
      "metadata": {
        "id": "7F080wQjc0hQ"
      }
    },
    {
      "cell_type": "code",
      "source": [
        "#General script by github.com/tushar2704, please adjust according to you requirements.\n",
        "\n",
        "import shap\n",
        "from sklearn.ensemble import RandomForestClassifier\n",
        "\n",
        "# Load the dataset\n",
        "X_train = ...  # Training features\n",
        "y_train = ...  # Training labels\n",
        "X_test = ...  # Testing features\n",
        "# Train a random forest classifier\n",
        "rf_classifier = RandomForestClassifier(n_estimators=100, random_state=42)\n",
        "rf_classifier.fit(X_train, y_train)\n",
        "# Create a SHAP explainer\n",
        "explainer = shap.TreeExplainer(rf_classifier)\n",
        "# Calculate SHAP values for the testing data\n",
        "shap_values = explainer.shap_values(X_test)\n",
        "# Visualize the SHAP values\n",
        "shap.summary_plot(shap_values, X_test, plot_type='bar')"
      ],
      "metadata": {
        "id": "wMW2q-swcfdr"
      },
      "execution_count": 30,
      "outputs": []
    },
    {
      "cell_type": "markdown",
      "source": [
        "# Model Interpretation with LIME\n"
      ],
      "metadata": {
        "id": "jUGAE3-wc4Hb"
      }
    },
    {
      "cell_type": "code",
      "source": [
        "#General script by github.com/tushar2704, please adjust according to you requirements.\n",
        "\n",
        "import lime\n",
        "from lime.lime_text import LimeTextExplainer\n",
        "from sklearn.feature_extraction.text import TfidfVectorizer\n",
        "from sklearn.linear_model import LogisticRegression\n",
        "\n",
        "# Load the dataset\n",
        "X_train = ...  # Training text data\n",
        "y_train = ...  # Training labels\n",
        "X_test = ...  # Testing text data\n",
        "# Create a TF-IDF vectorizer\n",
        "vectorizer = TfidfVectorizer()\n",
        "X_train_vectorized = vectorizer.fit_transform(X_train)\n",
        "X_test_vectorized = vectorizer.transform(X_test)\n",
        "# Train a logistic regression classifier\n",
        "lr_classifier = LogisticRegression()\n",
        "lr_classifier.fit(X_train_vectorized, y_train)\n",
        "# Create a LIME explainer\n",
        "explainer = LimeTextExplainer(class_names=['Negative', 'Positive'])\n",
        "# Select an instance to explain\n",
        "instance = X_test\n",
        "# Generate the LIME explanation\n",
        "exp = explainer.explain_instance(instance, lr_classifier.predict_proba, num_features=10)\n",
        "# Visualize the LIME explanation\n",
        "exp.show_in_notebook(text=instance)"
      ],
      "metadata": {
        "id": "qm6x6VmJc20J"
      },
      "execution_count": 31,
      "outputs": []
    },
    {
      "cell_type": "markdown",
      "source": [
        "# Model Interpretation with Partial Dependence Plots"
      ],
      "metadata": {
        "id": "dyZSlqExc9C1"
      }
    },
    {
      "cell_type": "code",
      "source": [
        "#General script by github.com/tushar2704, please adjust according to you requirements.\n",
        "\n",
        "from pdpbox import pdp\n",
        "from sklearn.ensemble import RandomForestRegressor\n",
        "\n",
        "# Load the dataset\n",
        "X_train = ...  # Training features\n",
        "y_train = ...  # Training labels\n",
        "# Train a random forest regressor\n",
        "rf_regressor = RandomForestRegressor(n_estimators=100, random_state=42)\n",
        "rf_regressor.fit(X_train, y_train)\n",
        "# Select the features to visualize\n",
        "features = ['feature1', 'feature2']\n",
        "# Create the partial dependence plots\n",
        "pdp_iso = pdp.pdp_isolate(model=rf_regressor, dataset=X_train, model_features=X_train.columns, feature=features)\n",
        "# Visualize the partial dependence plots\n",
        "fig, axes = pdp.pdp_plot(pdp_iso, features, figsize=(10, 5))"
      ],
      "metadata": {
        "id": "H1gfhth4c7U3"
      },
      "execution_count": 32,
      "outputs": []
    },
    {
      "cell_type": "markdown",
      "source": [
        "# Model Interpretation with Individual Conditional Expectation (ICE) Plots"
      ],
      "metadata": {
        "id": "NBJ1Vx68dE9m"
      }
    },
    {
      "cell_type": "code",
      "source": [
        "#General script by github.com/tushar2704, please adjust according to you requirements.\n",
        "\n",
        "from pdpbox import pdp\n",
        "from sklearn.ensemble import RandomForestRegressor\n",
        "\n",
        "# Load the dataset\n",
        "X_train = ...  # Training features\n",
        "y_train = ...  # Training labels\n",
        "# Train a random forest regressor\n",
        "rf_regressor = RandomForestRegressor(n_estimators=100, random_state=42)\n",
        "rf_regressor.fit(X_train, y_train)\n",
        "# Select the feature to visualize\n",
        "feature = 'feature1'\n",
        "# Create the ICE plots\n",
        "ice = pdp.pdp_isolate(model=rf_regressor, dataset=X_train, model_features=X_train.columns, feature=feature, ice=True)\n",
        "# Visualize the ICE plots\n",
        "fig, ax = pdp.pdp_plot(ice, feature, plot_lines=True, figsize=(10, 5))"
      ],
      "metadata": {
        "id": "Nt0mei32dDGY"
      },
      "execution_count": 33,
      "outputs": []
    }
  ]
}