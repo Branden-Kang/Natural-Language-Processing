{
  "nbformat": 4,
  "nbformat_minor": 0,
  "metadata": {
    "colab": {
      "provenance": [],
      "authorship_tag": "ABX9TyORwI8/dDvsrM6clYwuO6q7"
    },
    "kernelspec": {
      "name": "python3",
      "display_name": "Python 3"
    },
    "language_info": {
      "name": "python"
    }
  },
  "cells": [
    {
      "cell_type": "markdown",
      "source": [
        "[Reference](https://petrkorab.medium.com/arabica-a-python-package-for-exploratory-analysis-of-text-data-3bb8d7379bd7)"
      ],
      "metadata": {
        "id": "ukxeeoGYULn9"
      }
    },
    {
      "cell_type": "markdown",
      "source": [
        "![text](https://miro.medium.com/max/1400/1*jBDsrnaSPjfvwKq-j_88xw.jpeg)"
      ],
      "metadata": {
        "id": "DGe8StpmUPlO"
      }
    },
    {
      "cell_type": "code",
      "source": [
        "pip install arabica"
      ],
      "metadata": {
        "colab": {
          "base_uri": "https://localhost:8080/"
        },
        "id": "BFLYlEZVUImk",
        "outputId": "d15a20d8-ae5c-4fca-db85-ca22dacc5b23"
      },
      "execution_count": 2,
      "outputs": [
        {
          "output_type": "stream",
          "name": "stdout",
          "text": [
            "Looking in indexes: https://pypi.org/simple, https://us-python.pkg.dev/colab-wheels/public/simple/\n",
            "Collecting arabica\n",
            "  Downloading arabica-0.0.5-py3-none-any.whl (6.5 kB)\n",
            "Requirement already satisfied: numpy in /usr/local/lib/python3.7/dist-packages (from arabica) (1.21.6)\n",
            "Requirement already satisfied: pandas in /usr/local/lib/python3.7/dist-packages (from arabica) (1.3.5)\n",
            "Requirement already satisfied: nltk>3.6.1 in /usr/local/lib/python3.7/dist-packages (from arabica) (3.7)\n",
            "Collecting cleantext\n",
            "  Downloading cleantext-1.1.4-py3-none-any.whl (4.9 kB)\n",
            "Requirement already satisfied: regex in /usr/local/lib/python3.7/dist-packages (from arabica) (2022.6.2)\n",
            "Requirement already satisfied: tqdm in /usr/local/lib/python3.7/dist-packages (from nltk>3.6.1->arabica) (4.64.0)\n",
            "Requirement already satisfied: click in /usr/local/lib/python3.7/dist-packages (from nltk>3.6.1->arabica) (7.1.2)\n",
            "Requirement already satisfied: joblib in /usr/local/lib/python3.7/dist-packages (from nltk>3.6.1->arabica) (1.1.0)\n",
            "Requirement already satisfied: pytz>=2017.3 in /usr/local/lib/python3.7/dist-packages (from pandas->arabica) (2022.2.1)\n",
            "Requirement already satisfied: python-dateutil>=2.7.3 in /usr/local/lib/python3.7/dist-packages (from pandas->arabica) (2.8.2)\n",
            "Requirement already satisfied: six>=1.5 in /usr/local/lib/python3.7/dist-packages (from python-dateutil>=2.7.3->pandas->arabica) (1.15.0)\n",
            "Installing collected packages: cleantext, arabica\n",
            "Successfully installed arabica-0.0.5 cleantext-1.1.4\n"
          ]
        }
      ]
    },
    {
      "cell_type": "code",
      "execution_count": 3,
      "metadata": {
        "colab": {
          "base_uri": "https://localhost:8080/",
          "height": 271
        },
        "id": "qKQJ7tR2T92C",
        "outputId": "043d77d7-5d94-42fc-bef0-4b38a5f9a58a"
      },
      "outputs": [
        {
          "output_type": "stream",
          "name": "stderr",
          "text": [
            "[nltk_data] Downloading package stopwords to /root/nltk_data...\n",
            "[nltk_data]   Unzipping corpora/stopwords.zip.\n"
          ]
        },
        {
          "output_type": "execute_result",
          "data": {
            "text/plain": [
              "     period                 unigram                                 bigram  \\\n",
              "0   2013-08  ordering: 1,process: 1    ordering,process: 1,process,easy: 1   \n",
              "1   2013-09         far: 1,seems: 1            far,seems: 1,seems,wrong: 1   \n",
              "14  2014-10  really: 3,excellent: 1  really,really: 2,excellent,service: 1   \n",
              "\n",
              "                                              trigram  \n",
              "0   ordering,process,easy: 1,process,easy,straight: 1  \n",
              "1           far,seems,wrong: 1,seems,wrong,product: 1  \n",
              "14  excellent,service,thank: 1,service,thank,reall...  "
            ],
            "text/html": [
              "\n",
              "  <div id=\"df-22ca96c9-cd81-41be-bd70-86b0c919aaf5\">\n",
              "    <div class=\"colab-df-container\">\n",
              "      <div>\n",
              "<style scoped>\n",
              "    .dataframe tbody tr th:only-of-type {\n",
              "        vertical-align: middle;\n",
              "    }\n",
              "\n",
              "    .dataframe tbody tr th {\n",
              "        vertical-align: top;\n",
              "    }\n",
              "\n",
              "    .dataframe thead th {\n",
              "        text-align: right;\n",
              "    }\n",
              "</style>\n",
              "<table border=\"1\" class=\"dataframe\">\n",
              "  <thead>\n",
              "    <tr style=\"text-align: right;\">\n",
              "      <th></th>\n",
              "      <th>period</th>\n",
              "      <th>unigram</th>\n",
              "      <th>bigram</th>\n",
              "      <th>trigram</th>\n",
              "    </tr>\n",
              "  </thead>\n",
              "  <tbody>\n",
              "    <tr>\n",
              "      <th>0</th>\n",
              "      <td>2013-08</td>\n",
              "      <td>ordering: 1,process: 1</td>\n",
              "      <td>ordering,process: 1,process,easy: 1</td>\n",
              "      <td>ordering,process,easy: 1,process,easy,straight: 1</td>\n",
              "    </tr>\n",
              "    <tr>\n",
              "      <th>1</th>\n",
              "      <td>2013-09</td>\n",
              "      <td>far: 1,seems: 1</td>\n",
              "      <td>far,seems: 1,seems,wrong: 1</td>\n",
              "      <td>far,seems,wrong: 1,seems,wrong,product: 1</td>\n",
              "    </tr>\n",
              "    <tr>\n",
              "      <th>14</th>\n",
              "      <td>2014-10</td>\n",
              "      <td>really: 3,excellent: 1</td>\n",
              "      <td>really,really: 2,excellent,service: 1</td>\n",
              "      <td>excellent,service,thank: 1,service,thank,reall...</td>\n",
              "    </tr>\n",
              "  </tbody>\n",
              "</table>\n",
              "</div>\n",
              "      <button class=\"colab-df-convert\" onclick=\"convertToInteractive('df-22ca96c9-cd81-41be-bd70-86b0c919aaf5')\"\n",
              "              title=\"Convert this dataframe to an interactive table.\"\n",
              "              style=\"display:none;\">\n",
              "        \n",
              "  <svg xmlns=\"http://www.w3.org/2000/svg\" height=\"24px\"viewBox=\"0 0 24 24\"\n",
              "       width=\"24px\">\n",
              "    <path d=\"M0 0h24v24H0V0z\" fill=\"none\"/>\n",
              "    <path d=\"M18.56 5.44l.94 2.06.94-2.06 2.06-.94-2.06-.94-.94-2.06-.94 2.06-2.06.94zm-11 1L8.5 8.5l.94-2.06 2.06-.94-2.06-.94L8.5 2.5l-.94 2.06-2.06.94zm10 10l.94 2.06.94-2.06 2.06-.94-2.06-.94-.94-2.06-.94 2.06-2.06.94z\"/><path d=\"M17.41 7.96l-1.37-1.37c-.4-.4-.92-.59-1.43-.59-.52 0-1.04.2-1.43.59L10.3 9.45l-7.72 7.72c-.78.78-.78 2.05 0 2.83L4 21.41c.39.39.9.59 1.41.59.51 0 1.02-.2 1.41-.59l7.78-7.78 2.81-2.81c.8-.78.8-2.07 0-2.86zM5.41 20L4 18.59l7.72-7.72 1.47 1.35L5.41 20z\"/>\n",
              "  </svg>\n",
              "      </button>\n",
              "      \n",
              "  <style>\n",
              "    .colab-df-container {\n",
              "      display:flex;\n",
              "      flex-wrap:wrap;\n",
              "      gap: 12px;\n",
              "    }\n",
              "\n",
              "    .colab-df-convert {\n",
              "      background-color: #E8F0FE;\n",
              "      border: none;\n",
              "      border-radius: 50%;\n",
              "      cursor: pointer;\n",
              "      display: none;\n",
              "      fill: #1967D2;\n",
              "      height: 32px;\n",
              "      padding: 0 0 0 0;\n",
              "      width: 32px;\n",
              "    }\n",
              "\n",
              "    .colab-df-convert:hover {\n",
              "      background-color: #E2EBFA;\n",
              "      box-shadow: 0px 1px 2px rgba(60, 64, 67, 0.3), 0px 1px 3px 1px rgba(60, 64, 67, 0.15);\n",
              "      fill: #174EA6;\n",
              "    }\n",
              "\n",
              "    [theme=dark] .colab-df-convert {\n",
              "      background-color: #3B4455;\n",
              "      fill: #D2E3FC;\n",
              "    }\n",
              "\n",
              "    [theme=dark] .colab-df-convert:hover {\n",
              "      background-color: #434B5C;\n",
              "      box-shadow: 0px 1px 3px 1px rgba(0, 0, 0, 0.15);\n",
              "      filter: drop-shadow(0px 1px 2px rgba(0, 0, 0, 0.3));\n",
              "      fill: #FFFFFF;\n",
              "    }\n",
              "  </style>\n",
              "\n",
              "      <script>\n",
              "        const buttonEl =\n",
              "          document.querySelector('#df-22ca96c9-cd81-41be-bd70-86b0c919aaf5 button.colab-df-convert');\n",
              "        buttonEl.style.display =\n",
              "          google.colab.kernel.accessAllowed ? 'block' : 'none';\n",
              "\n",
              "        async function convertToInteractive(key) {\n",
              "          const element = document.querySelector('#df-22ca96c9-cd81-41be-bd70-86b0c919aaf5');\n",
              "          const dataTable =\n",
              "            await google.colab.kernel.invokeFunction('convertToInteractive',\n",
              "                                                     [key], {});\n",
              "          if (!dataTable) return;\n",
              "\n",
              "          const docLinkHtml = 'Like what you see? Visit the ' +\n",
              "            '<a target=\"_blank\" href=https://colab.research.google.com/notebooks/data_table.ipynb>data table notebook</a>'\n",
              "            + ' to learn more about interactive tables.';\n",
              "          element.innerHTML = '';\n",
              "          dataTable['output_type'] = 'display_data';\n",
              "          await google.colab.output.renderOutput(dataTable, element);\n",
              "          const docLink = document.createElement('div');\n",
              "          docLink.innerHTML = docLinkHtml;\n",
              "          element.appendChild(docLink);\n",
              "        }\n",
              "      </script>\n",
              "    </div>\n",
              "  </div>\n",
              "  "
            ]
          },
          "metadata": {},
          "execution_count": 3
        }
      ],
      "source": [
        "import pandas as pd\n",
        "from arabica import arabica_freq\n",
        "\n",
        "data = pd.DataFrame({'text': ['The ordering process was very easy & straight forward. They have great customer service and sorted any issues out very quickly.',\n",
        "                              'So far seems to be the wrong product for me :-/',\n",
        "                              'Excellent, service, thank you really, really, really much!!!'],\n",
        "                     'time': ['2013-08-8', '2013-09-8','2014-10-8']})\n",
        "\n",
        "arabica_freq(text= data['text'],time=data['time'],time_freq='M',max_words=2,stopwords='english', numbers = True, punct=True)"
      ]
    },
    {
      "cell_type": "code",
      "source": [
        "arabica_freq(text=data['text'], # Text column\n",
        "        time=data['time'], # Time column\n",
        "        time_freq='Y', # Aggregation period,\n",
        "        max_words=2, # Max number for unigrams, bigrams and trigrams displayed\n",
        "        stopwords=None, # Language for stop words\n",
        "        numbers=False, # Remove all digits\n",
        "        punct=False) # Remove all punctuation"
      ],
      "metadata": {
        "id": "JnCjLFszUVtQ"
      },
      "execution_count": 4,
      "outputs": []
    }
  ]
}