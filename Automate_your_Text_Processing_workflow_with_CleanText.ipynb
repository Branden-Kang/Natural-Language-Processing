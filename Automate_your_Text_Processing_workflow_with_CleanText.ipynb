{
  "nbformat": 4,
  "nbformat_minor": 0,
  "metadata": {
    "colab": {
      "name": "Automate your Text Processing workflow with CleanText.ipynb",
      "provenance": [],
      "authorship_tag": "ABX9TyPYSm/pl5FAlzYypHbaQOos"
    },
    "kernelspec": {
      "name": "python3",
      "display_name": "Python 3"
    },
    "language_info": {
      "name": "python"
    }
  },
  "cells": [
    {
      "cell_type": "markdown",
      "metadata": {
        "id": "RwK72HlDpLuz"
      },
      "source": [
        "[Reference](https://towardsdatascience.com/automate-your-text-processing-workflow-in-a-single-line-of-python-code-e276755e45de)"
      ]
    },
    {
      "cell_type": "code",
      "metadata": {
        "colab": {
          "base_uri": "https://localhost:8080/"
        },
        "id": "HBKptf6WqM1M",
        "outputId": "2312a4a4-f9b9-44dd-f5ad-1cd0bc66c67f"
      },
      "source": [
        "pip install clean-text"
      ],
      "execution_count": 2,
      "outputs": [
        {
          "output_type": "stream",
          "text": [
            "Collecting clean-text\n",
            "  Downloading https://files.pythonhosted.org/packages/b7/f5/f0db7d0185e26f9a85d425fd19d9bd891ff733f2ec0d1ee06791fd7f13b6/clean_text-0.4.0-py3-none-any.whl\n",
            "Collecting ftfy<7.0,>=6.0\n",
            "\u001b[?25l  Downloading https://files.pythonhosted.org/packages/ce/b5/5da463f9c7823e0e575e9908d004e2af4b36efa8d02d3d6dad57094fcb11/ftfy-6.0.1.tar.gz (63kB)\n",
            "\u001b[K     |████████████████████████████████| 71kB 6.9MB/s \n",
            "\u001b[?25hCollecting emoji\n",
            "\u001b[?25l  Downloading https://files.pythonhosted.org/packages/24/fa/b3368f41b95a286f8d300e323449ab4e86b85334c2e0b477e94422b8ed0f/emoji-1.2.0-py3-none-any.whl (131kB)\n",
            "\u001b[K     |████████████████████████████████| 133kB 22.2MB/s \n",
            "\u001b[?25hRequirement already satisfied: wcwidth in /usr/local/lib/python3.7/dist-packages (from ftfy<7.0,>=6.0->clean-text) (0.2.5)\n",
            "Building wheels for collected packages: ftfy\n",
            "  Building wheel for ftfy (setup.py) ... \u001b[?25l\u001b[?25hdone\n",
            "  Created wheel for ftfy: filename=ftfy-6.0.1-cp37-none-any.whl size=41573 sha256=96971e2da3e111db05bc00ce8017b6002bcdf6edbbb7b37cc5814de489f3bac5\n",
            "  Stored in directory: /root/.cache/pip/wheels/ae/73/c7/9056e14b04919e5c262fe80b54133b1a88d73683d05d7ac65c\n",
            "Successfully built ftfy\n",
            "Installing collected packages: ftfy, emoji, clean-text\n",
            "Successfully installed clean-text-0.4.0 emoji-1.2.0 ftfy-6.0.1\n"
          ],
          "name": "stdout"
        }
      ]
    },
    {
      "cell_type": "code",
      "metadata": {
        "colab": {
          "base_uri": "https://localhost:8080/"
        },
        "id": "lBE9PYT9pG1r",
        "outputId": "abd8ec07-8c65-49cf-ae7a-e1c04f51b728"
      },
      "source": [
        "from cleantext import clean"
      ],
      "execution_count": 3,
      "outputs": [
        {
          "output_type": "stream",
          "text": [
            "Since the GPL-licensed package `unidecode` is not installed, using Python's `unicodedata` package which yields worse results.\n"
          ],
          "name": "stderr"
        }
      ]
    },
    {
      "cell_type": "code",
      "metadata": {
        "colab": {
          "base_uri": "https://localhost:8080/",
          "height": 37
        },
        "id": "R5LrJWSxqMKe",
        "outputId": "e7f00ea6-bc83-4674-9429-bb2eac74b687"
      },
      "source": [
        "example1 = 'Yóù àré rïght'\n",
        "clean(example1, fix_unicode=True)"
      ],
      "execution_count": 24,
      "outputs": [
        {
          "output_type": "execute_result",
          "data": {
            "application/vnd.google.colaboratory.intrinsic+json": {
              "type": "string"
            },
            "text/plain": [
              "'you are right'"
            ]
          },
          "metadata": {
            "tags": []
          },
          "execution_count": 24
        }
      ]
    },
    {
      "cell_type": "code",
      "metadata": {
        "colab": {
          "base_uri": "https://localhost:8080/",
          "height": 37
        },
        "id": "0BCzxI-IqUod",
        "outputId": "eab79bf9-8265-4f3c-e8b4-fd8616df4ad0"
      },
      "source": [
        "example2 = \"I have \\\\u2018new\\\\u2019 books\"\n",
        "clean(example2, to_ascii=True)"
      ],
      "execution_count": 23,
      "outputs": [
        {
          "output_type": "execute_result",
          "data": {
            "application/vnd.google.colaboratory.intrinsic+json": {
              "type": "string"
            },
            "text/plain": [
              "\"i have 'new' books\""
            ]
          },
          "metadata": {
            "tags": []
          },
          "execution_count": 23
        }
      ]
    },
    {
      "cell_type": "code",
      "metadata": {
        "colab": {
          "base_uri": "https://localhost:8080/",
          "height": 37
        },
        "id": "TODRCtq1qWu6",
        "outputId": "e601acb6-a75d-4b50-ba1f-66cfeb65abe6"
      },
      "source": [
        "example3 = \"I am Branden\"\n",
        "clean(example3, lower=True)"
      ],
      "execution_count": 9,
      "outputs": [
        {
          "output_type": "execute_result",
          "data": {
            "application/vnd.google.colaboratory.intrinsic+json": {
              "type": "string"
            },
            "text/plain": [
              "'i am branden'"
            ]
          },
          "metadata": {
            "tags": []
          },
          "execution_count": 9
        }
      ]
    },
    {
      "cell_type": "code",
      "metadata": {
        "colab": {
          "base_uri": "https://localhost:8080/",
          "height": 37
        },
        "id": "sN4aS71ZrH96",
        "outputId": "f4c87a5b-11ea-4380-be2f-bdb8ee4a5a03"
      },
      "source": [
        "example4 = \"You can reach me at https://www.naver.com. Please mail me at branden@gmail.com or 298-8908-8902\"\n",
        "clean(example4, no_urls=True, replace_with_url=\"URL\",no_emails=True, replace_with_email=\"EMAIL\",no_phone_numbers=True, replace_with_phone_number=\"PHONE\")"
      ],
      "execution_count": 16,
      "outputs": [
        {
          "output_type": "execute_result",
          "data": {
            "application/vnd.google.colaboratory.intrinsic+json": {
              "type": "string"
            },
            "text/plain": [
              "'you can reach me at url. please mail me at email or phone'"
            ]
          },
          "metadata": {
            "tags": []
          },
          "execution_count": 16
        }
      ]
    },
    {
      "cell_type": "code",
      "metadata": {
        "colab": {
          "base_uri": "https://localhost:8080/",
          "height": 37
        },
        "id": "9ZaxUBoyrl9Y",
        "outputId": "f93c856a-d1df-46d0-e5da-bca4e0f8f3d3"
      },
      "source": [
        "example5 = \"I need $100\"\n",
        "clean(example5, no_currency_symbols = True)"
      ],
      "execution_count": 21,
      "outputs": [
        {
          "output_type": "execute_result",
          "data": {
            "application/vnd.google.colaboratory.intrinsic+json": {
              "type": "string"
            },
            "text/plain": [
              "'i need <cur>100'"
            ]
          },
          "metadata": {
            "tags": []
          },
          "execution_count": 21
        }
      ]
    },
    {
      "cell_type": "code",
      "metadata": {
        "colab": {
          "base_uri": "https://localhost:8080/",
          "height": 37
        },
        "id": "_Ar7-JhjsY-D",
        "outputId": "0946c66d-e950-4ff1-a431-e17dcb086ef2"
      },
      "source": [
        "clean(example5, no_currency_symbols = True, replace_with_currency_symbol=\"dollar\")"
      ],
      "execution_count": 22,
      "outputs": [
        {
          "output_type": "execute_result",
          "data": {
            "application/vnd.google.colaboratory.intrinsic+json": {
              "type": "string"
            },
            "text/plain": [
              "'i need dollar100'"
            ]
          },
          "metadata": {
            "tags": []
          },
          "execution_count": 22
        }
      ]
    },
    {
      "cell_type": "code",
      "metadata": {
        "colab": {
          "base_uri": "https://localhost:8080/",
          "height": 37
        },
        "id": "9PsYBU7tsbwn",
        "outputId": "7305eff5-7fb1-4188-e6cd-f19229ada818"
      },
      "source": [
        "example7 = '12345678abcdefgh'\n",
        "clean(example7, no_digits = True)"
      ],
      "execution_count": 26,
      "outputs": [
        {
          "output_type": "execute_result",
          "data": {
            "application/vnd.google.colaboratory.intrinsic+json": {
              "type": "string"
            },
            "text/plain": [
              "'00000000abcdefgh'"
            ]
          },
          "metadata": {
            "tags": []
          },
          "execution_count": 26
        }
      ]
    },
    {
      "cell_type": "code",
      "metadata": {
        "colab": {
          "base_uri": "https://localhost:8080/",
          "height": 37
        },
        "id": "45xNJwKEtDL_",
        "outputId": "c6ff4886-1301-4563-c822-b695b473a788"
      },
      "source": [
        "clean(example7, no_digits = True, replace_with_digit=\"\")"
      ],
      "execution_count": 27,
      "outputs": [
        {
          "output_type": "execute_result",
          "data": {
            "application/vnd.google.colaboratory.intrinsic+json": {
              "type": "string"
            },
            "text/plain": [
              "'abcdefgh'"
            ]
          },
          "metadata": {
            "tags": []
          },
          "execution_count": 27
        }
      ]
    },
    {
      "cell_type": "code",
      "metadata": {
        "colab": {
          "base_uri": "https://localhost:8080/",
          "height": 37
        },
        "id": "ZRJ1zdGHtEhc",
        "outputId": "604781f3-18a7-4fc1-a919-82047162d7da"
      },
      "source": [
        "s6 = \"I have 10,000 dollars.\"\n",
        "clean(s6, no_punct = True)"
      ],
      "execution_count": 28,
      "outputs": [
        {
          "output_type": "execute_result",
          "data": {
            "application/vnd.google.colaboratory.intrinsic+json": {
              "type": "string"
            },
            "text/plain": [
              "'i have 10000 dollars'"
            ]
          },
          "metadata": {
            "tags": []
          },
          "execution_count": 28
        }
      ]
    },
    {
      "cell_type": "code",
      "metadata": {
        "colab": {
          "base_uri": "https://localhost:8080/"
        },
        "id": "RU_DkGf7tMU-",
        "outputId": "2c767a67-31a4-4cdf-f557-3f263880d6a9"
      },
      "source": [
        "from cleantext import clean\n",
        "\n",
        "final_example = \"\"\"\n",
        "Yóù àré rïght\n",
        "I have \\\\u2018new\\\\u2019 books. I am Branden. \n",
        "I need $100. You can reach me at https://www.naver.com. Please mail me at branden@gmail.com or 298-8908-8902.\n",
        "\"\"\"\n",
        "\n",
        "clean_text = clean(final_example, \n",
        "      fix_unicode=True, \n",
        "      to_ascii=True, \n",
        "      lower=True, \n",
        "      no_line_breaks=True,\n",
        "      no_urls=True, \n",
        "      no_numbers=True, \n",
        "      no_digits=True, \n",
        "      no_currency_symbols=True, \n",
        "      no_punct=True, \n",
        "      replace_with_punct=\"\", \n",
        "      replace_with_url=\"<URL>\", \n",
        "      replace_with_number=\"<NUMBER>\", \n",
        "      replace_with_digit=\"\", \n",
        "      replace_with_currency_symbol=\"<CUR>\",\n",
        "      lang='en')\n",
        "\n",
        "print(clean_text)"
      ],
      "execution_count": 30,
      "outputs": [
        {
          "output_type": "stream",
          "text": [
            "you are right i have new books i am branden i need <cur><number> you can reach me at <url> please mail me at brandengmailcom or <number><number><number>\n"
          ],
          "name": "stdout"
        }
      ]
    }
  ]
}