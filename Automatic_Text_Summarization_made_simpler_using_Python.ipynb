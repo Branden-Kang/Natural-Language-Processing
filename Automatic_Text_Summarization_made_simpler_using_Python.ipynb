{
  "nbformat": 4,
  "nbformat_minor": 0,
  "metadata": {
    "colab": {
      "name": "Automatic Text Summarization made simpler using Python.ipynb",
      "provenance": [],
      "authorship_tag": "ABX9TyOtMATcZ19Y4ZiZRl2Sbk/n"
    },
    "kernelspec": {
      "name": "python3",
      "display_name": "Python 3"
    },
    "language_info": {
      "name": "python"
    }
  },
  "cells": [
    {
      "cell_type": "markdown",
      "metadata": {
        "id": "noHJ_LfgrJch"
      },
      "source": [
        "[Reference](https://medium.com/1-hour-blog-series/automatic-text-summarization-made-simpler-using-python-577e7622c57a)"
      ]
    },
    {
      "cell_type": "markdown",
      "metadata": {
        "id": "NuSNPRUKrZor"
      },
      "source": [
        "# 1 Spacy\n"
      ]
    },
    {
      "cell_type": "code",
      "metadata": {
        "id": "yltEjatmrZTP"
      },
      "source": [
        "import spacy"
      ],
      "execution_count": 1,
      "outputs": []
    },
    {
      "cell_type": "code",
      "metadata": {
        "id": "GnrYh43UrGcr"
      },
      "source": [
        "from spacy.lang.en.stop_words import STOP_WORDS\n",
        "from string import punctuation"
      ],
      "execution_count": 2,
      "outputs": []
    },
    {
      "cell_type": "code",
      "metadata": {
        "id": "RvxtQCuRsFG_"
      },
      "source": [
        "stopwords = list(STOP_WORDS)\n"
      ],
      "execution_count": 3,
      "outputs": []
    },
    {
      "cell_type": "code",
      "metadata": {
        "id": "EPnL-XYosGC4"
      },
      "source": [
        "document1 =\"\"\"Machine learning (ML) is the scientific study of algorithms and statistical models that computer systems use to progressively improve their performance on a specific task. Machine learning algorithms build a mathematical model of sample data, known as “training data”, in order to make predictions or decisions without being explicitly programmed to perform the task. Machine learning algorithms are used in the applications of email filtering, detection of network intruders, and computer vision, where it is infeasible to develop an algorithm of specific instructions for performing the task. Machine learning is closely related to computational statistics, which focuses on making predictions using computers. The study of mathematical optimization delivers methods, theory and application domains to the field of machine learning. Data mining is a field of study within machine learning, and focuses on exploratory data analysis through unsupervised learning.In its application across business problems, machine learning is also referred to as predictive analytics.\"\"\"\n",
        "document2 = \"\"\"Our Father who art in heaven, hallowed be thy name. Thy kingdom come. Thy will be done, on earth as it is in heaven. Give us this day our daily bread; and forgive us our trespasses, as we forgive those who trespass against us; and lead us not into temptation, but deliver us from evil\n",
        "\"\"\"\n",
        "nlp = spacy.load('en')"
      ],
      "execution_count": 4,
      "outputs": []
    },
    {
      "cell_type": "code",
      "metadata": {
        "id": "tzvixAm_sP3Y"
      },
      "source": [
        "docx = nlp(document1)"
      ],
      "execution_count": 5,
      "outputs": []
    },
    {
      "cell_type": "code",
      "metadata": {
        "id": "QqABKBu0sRDr"
      },
      "source": [
        "mytokens = [token.text for token in docx]"
      ],
      "execution_count": 6,
      "outputs": []
    },
    {
      "cell_type": "code",
      "metadata": {
        "colab": {
          "base_uri": "https://localhost:8080/"
        },
        "id": "Ojy_ZLSDsSlW",
        "outputId": "071b1352-a097-4329-c1b8-7a83497d4310"
      },
      "source": [
        "word_frequencies = {}\n",
        "for word in docx:\n",
        "    if word.text not in stopwords:\n",
        "        if word.text not in word_frequencies.keys():\n",
        "            word_frequencies[word.text] = 1\n",
        "        else:\n",
        "            word_frequencies[word.text] += 1\n",
        "word_frequencies"
      ],
      "execution_count": 7,
      "outputs": [
        {
          "output_type": "execute_result",
          "data": {
            "text/plain": [
              "{'(': 1,\n",
              " ')': 1,\n",
              " ',': 9,\n",
              " '.': 7,\n",
              " 'Data': 1,\n",
              " 'In': 1,\n",
              " 'ML': 1,\n",
              " 'Machine': 4,\n",
              " 'The': 1,\n",
              " 'algorithm': 1,\n",
              " 'algorithms': 3,\n",
              " 'analysis': 1,\n",
              " 'analytics': 1,\n",
              " 'application': 2,\n",
              " 'applications': 1,\n",
              " 'build': 1,\n",
              " 'business': 1,\n",
              " 'closely': 1,\n",
              " 'computational': 1,\n",
              " 'computer': 2,\n",
              " 'computers': 1,\n",
              " 'data': 3,\n",
              " 'decisions': 1,\n",
              " 'delivers': 1,\n",
              " 'detection': 1,\n",
              " 'develop': 1,\n",
              " 'domains': 1,\n",
              " 'email': 1,\n",
              " 'explicitly': 1,\n",
              " 'exploratory': 1,\n",
              " 'field': 2,\n",
              " 'filtering': 1,\n",
              " 'focuses': 2,\n",
              " 'improve': 1,\n",
              " 'infeasible': 1,\n",
              " 'instructions': 1,\n",
              " 'intruders': 1,\n",
              " 'known': 1,\n",
              " 'learning': 8,\n",
              " 'machine': 3,\n",
              " 'making': 1,\n",
              " 'mathematical': 2,\n",
              " 'methods': 1,\n",
              " 'mining': 1,\n",
              " 'model': 1,\n",
              " 'models': 1,\n",
              " 'network': 1,\n",
              " 'optimization': 1,\n",
              " 'order': 1,\n",
              " 'perform': 1,\n",
              " 'performance': 1,\n",
              " 'performing': 1,\n",
              " 'predictions': 2,\n",
              " 'predictive': 1,\n",
              " 'problems': 1,\n",
              " 'programmed': 1,\n",
              " 'progressively': 1,\n",
              " 'referred': 1,\n",
              " 'related': 1,\n",
              " 'sample': 1,\n",
              " 'scientific': 1,\n",
              " 'specific': 2,\n",
              " 'statistical': 1,\n",
              " 'statistics': 1,\n",
              " 'study': 3,\n",
              " 'systems': 1,\n",
              " 'task': 3,\n",
              " 'theory': 1,\n",
              " 'training': 1,\n",
              " 'unsupervised': 1,\n",
              " 'use': 1,\n",
              " 'vision': 1,\n",
              " '“': 1,\n",
              " '”': 1}"
            ]
          },
          "metadata": {},
          "execution_count": 7
        }
      ]
    },
    {
      "cell_type": "code",
      "metadata": {
        "id": "pVILDw_0sZK7"
      },
      "source": [
        "maximum_frequency = max(word_frequencies.values())\n",
        "for word in word_frequencies.keys():\n",
        "    word_frequencies[word] = (word_frequencies[word]/maximum_frequency)"
      ],
      "execution_count": 10,
      "outputs": []
    },
    {
      "cell_type": "code",
      "metadata": {
        "colab": {
          "base_uri": "https://localhost:8080/"
        },
        "id": "hpwrYQz5sbZp",
        "outputId": "6088d87b-7d36-4690-87c2-fff046936caa"
      },
      "source": [
        "word_frequencies"
      ],
      "execution_count": 11,
      "outputs": [
        {
          "output_type": "execute_result",
          "data": {
            "text/plain": [
              "{'(': 0.1111111111111111,\n",
              " ')': 0.1111111111111111,\n",
              " ',': 1.0,\n",
              " '.': 0.7777777777777778,\n",
              " 'Data': 0.1111111111111111,\n",
              " 'In': 0.1111111111111111,\n",
              " 'ML': 0.1111111111111111,\n",
              " 'Machine': 0.4444444444444444,\n",
              " 'The': 0.1111111111111111,\n",
              " 'algorithm': 0.1111111111111111,\n",
              " 'algorithms': 0.3333333333333333,\n",
              " 'analysis': 0.1111111111111111,\n",
              " 'analytics': 0.1111111111111111,\n",
              " 'application': 0.2222222222222222,\n",
              " 'applications': 0.1111111111111111,\n",
              " 'build': 0.1111111111111111,\n",
              " 'business': 0.1111111111111111,\n",
              " 'closely': 0.1111111111111111,\n",
              " 'computational': 0.1111111111111111,\n",
              " 'computer': 0.2222222222222222,\n",
              " 'computers': 0.1111111111111111,\n",
              " 'data': 0.3333333333333333,\n",
              " 'decisions': 0.1111111111111111,\n",
              " 'delivers': 0.1111111111111111,\n",
              " 'detection': 0.1111111111111111,\n",
              " 'develop': 0.1111111111111111,\n",
              " 'domains': 0.1111111111111111,\n",
              " 'email': 0.1111111111111111,\n",
              " 'explicitly': 0.1111111111111111,\n",
              " 'exploratory': 0.1111111111111111,\n",
              " 'field': 0.2222222222222222,\n",
              " 'filtering': 0.1111111111111111,\n",
              " 'focuses': 0.2222222222222222,\n",
              " 'improve': 0.1111111111111111,\n",
              " 'infeasible': 0.1111111111111111,\n",
              " 'instructions': 0.1111111111111111,\n",
              " 'intruders': 0.1111111111111111,\n",
              " 'known': 0.1111111111111111,\n",
              " 'learning': 0.8888888888888888,\n",
              " 'machine': 0.3333333333333333,\n",
              " 'making': 0.1111111111111111,\n",
              " 'mathematical': 0.2222222222222222,\n",
              " 'methods': 0.1111111111111111,\n",
              " 'mining': 0.1111111111111111,\n",
              " 'model': 0.1111111111111111,\n",
              " 'models': 0.1111111111111111,\n",
              " 'network': 0.1111111111111111,\n",
              " 'optimization': 0.1111111111111111,\n",
              " 'order': 0.1111111111111111,\n",
              " 'perform': 0.1111111111111111,\n",
              " 'performance': 0.1111111111111111,\n",
              " 'performing': 0.1111111111111111,\n",
              " 'predictions': 0.2222222222222222,\n",
              " 'predictive': 0.1111111111111111,\n",
              " 'problems': 0.1111111111111111,\n",
              " 'programmed': 0.1111111111111111,\n",
              " 'progressively': 0.1111111111111111,\n",
              " 'referred': 0.1111111111111111,\n",
              " 'related': 0.1111111111111111,\n",
              " 'sample': 0.1111111111111111,\n",
              " 'scientific': 0.1111111111111111,\n",
              " 'specific': 0.2222222222222222,\n",
              " 'statistical': 0.1111111111111111,\n",
              " 'statistics': 0.1111111111111111,\n",
              " 'study': 0.3333333333333333,\n",
              " 'systems': 0.1111111111111111,\n",
              " 'task': 0.3333333333333333,\n",
              " 'theory': 0.1111111111111111,\n",
              " 'training': 0.1111111111111111,\n",
              " 'unsupervised': 0.1111111111111111,\n",
              " 'use': 0.1111111111111111,\n",
              " 'vision': 0.1111111111111111,\n",
              " '“': 0.1111111111111111,\n",
              " '”': 0.1111111111111111}"
            ]
          },
          "metadata": {},
          "execution_count": 11
        }
      ]
    },
    {
      "cell_type": "code",
      "metadata": {
        "id": "YjMimibUsfXj"
      },
      "source": [
        "sentence_list = [ sentence for sentence in docx.sents ]"
      ],
      "execution_count": 12,
      "outputs": []
    },
    {
      "cell_type": "code",
      "metadata": {
        "id": "VoeGGHs2shEs"
      },
      "source": [
        "sentence_scores = {}\n",
        "for sent in sentence_list:\n",
        "    for word in sent:\n",
        "        if word.text.lower() in word_frequencies.keys():\n",
        "            if len(sent.text.split(' ')) < 30:\n",
        "                if sent not in sentence_scores.keys():\n",
        "                    sentence_scores[sent] = word_frequencies[word.text.lower()]\n",
        "                else:\n",
        "                    sentence_scores[sent] += word_frequencies[word.text.lower()]"
      ],
      "execution_count": 14,
      "outputs": []
    },
    {
      "cell_type": "code",
      "metadata": {
        "colab": {
          "base_uri": "https://localhost:8080/"
        },
        "id": "f54rho4wsn5u",
        "outputId": "b02cfc20-c3d8-4309-8d0a-e6fa75ab9fb6"
      },
      "source": [
        "print (sentence_scores)"
      ],
      "execution_count": 15,
      "outputs": [
        {
          "output_type": "stream",
          "name": "stdout",
          "text": [
            "{Machine learning (ML) is the scientific study of algorithms and statistical models that computer systems use to progressively improve their performance on a specific task.: 4.555555555555556, Machine learning algorithms build a mathematical model of sample data, known as “training data”, in order to make predictions or decisions without being explicitly programmed to perform the task.: 7.111111111111109, Machine learning is closely related to computational statistics, which focuses on making predictions using computers.: 4.111111111111112, The study of mathematical optimization delivers methods, theory and application domains to the field of machine learning.: 4.555555555555556, Data mining is a field of study within machine learning, and focuses on exploratory data analysis through unsupervised learning.: 5.777777777777778, In its application across business problems, machine learning is also referred to as predictive analytics.: 3.7777777777777777}\n"
          ]
        }
      ]
    },
    {
      "cell_type": "code",
      "metadata": {
        "id": "-iaPRzr2ssUR"
      },
      "source": [
        "# Threshold =0.6\n",
        "# for i in sentence_scores:\n",
        "#     print(i)\n",
        "#     if (i > Threshold):\n",
        "#         print(sent)"
      ],
      "execution_count": 41,
      "outputs": []
    },
    {
      "cell_type": "markdown",
      "metadata": {
        "id": "Mf0-3HdUtc5V"
      },
      "source": [
        "# 2 Gensim\n"
      ]
    },
    {
      "cell_type": "code",
      "metadata": {
        "id": "w24D6nHisxKy"
      },
      "source": [
        "from gensim.summarization.summarizer import summarize\n",
        "from gensim.summarization import keywords"
      ],
      "execution_count": 18,
      "outputs": []
    },
    {
      "cell_type": "code",
      "metadata": {
        "id": "uOEHwzj3tmPY"
      },
      "source": [
        "summary=summarize(document1, word_count=50)"
      ],
      "execution_count": 20,
      "outputs": []
    },
    {
      "cell_type": "code",
      "metadata": {
        "colab": {
          "base_uri": "https://localhost:8080/"
        },
        "id": "_Q2dKn7ltt-G",
        "outputId": "f3901e26-5e5a-4821-a702-8c04f5c66562"
      },
      "source": [
        "print(summary)"
      ],
      "execution_count": 21,
      "outputs": [
        {
          "output_type": "stream",
          "name": "stdout",
          "text": [
            "Machine learning (ML) is the scientific study of algorithms and statistical models that computer systems use to progressively improve their performance on a specific task.\n",
            "Machine learning algorithms build a mathematical model of sample data, known as “training data”, in order to make predictions or decisions without being explicitly programmed to perform the task.\n"
          ]
        }
      ]
    },
    {
      "cell_type": "code",
      "metadata": {
        "colab": {
          "base_uri": "https://localhost:8080/"
        },
        "id": "oo6c0XA9tnaO",
        "outputId": "9ebc2f82-6630-481b-da6a-0d19ecb8f0a8"
      },
      "source": [
        "print(summarize(document1, ratio=0.5))\n"
      ],
      "execution_count": 22,
      "outputs": [
        {
          "output_type": "stream",
          "name": "stdout",
          "text": [
            "Machine learning (ML) is the scientific study of algorithms and statistical models that computer systems use to progressively improve their performance on a specific task.\n",
            "Machine learning algorithms build a mathematical model of sample data, known as “training data”, in order to make predictions or decisions without being explicitly programmed to perform the task.\n",
            "Machine learning is closely related to computational statistics, which focuses on making predictions using computers.\n"
          ]
        }
      ]
    },
    {
      "cell_type": "code",
      "metadata": {
        "colab": {
          "base_uri": "https://localhost:8080/",
          "height": 54
        },
        "id": "NQNn9wIdtxwE",
        "outputId": "20245a55-7121-4242-bcf7-e69ced39afc4"
      },
      "source": [
        "keywords(document1)"
      ],
      "execution_count": 23,
      "outputs": [
        {
          "output_type": "execute_result",
          "data": {
            "application/vnd.google.colaboratory.intrinsic+json": {
              "type": "string"
            },
            "text/plain": [
              "'data\\nmachine learning\\nfiltering\\npredictions\\npredictive\\nmethods\\nstatistics\\nstatistical models\\nspecific\\nmodel'"
            ]
          },
          "metadata": {},
          "execution_count": 23
        }
      ]
    },
    {
      "cell_type": "markdown",
      "metadata": {
        "id": "GVhlCzT1t1sL"
      },
      "source": [
        "# 3 py summarization\n"
      ]
    },
    {
      "cell_type": "code",
      "metadata": {
        "colab": {
          "base_uri": "https://localhost:8080/"
        },
        "id": "p3oj7ecvuEFO",
        "outputId": "e7833019-585b-417f-b3a5-1b08a3708c19"
      },
      "source": [
        "pip install pysummarization"
      ],
      "execution_count": 26,
      "outputs": [
        {
          "output_type": "stream",
          "name": "stdout",
          "text": [
            "Collecting pysummarization\n",
            "  Downloading pysummarization-1.1.8.tar.gz (51 kB)\n",
            "\u001b[?25l\r\u001b[K     |██████▍                         | 10 kB 20.6 MB/s eta 0:00:01\r\u001b[K     |████████████▊                   | 20 kB 10.5 MB/s eta 0:00:01\r\u001b[K     |███████████████████             | 30 kB 8.4 MB/s eta 0:00:01\r\u001b[K     |█████████████████████████▌      | 40 kB 7.7 MB/s eta 0:00:01\r\u001b[K     |███████████████████████████████▉| 51 kB 4.2 MB/s eta 0:00:01\r\u001b[K     |████████████████████████████████| 51 kB 193 kB/s \n",
            "\u001b[?25hRequirement already satisfied: numpy in /usr/local/lib/python3.7/dist-packages (from pysummarization) (1.19.5)\n",
            "Requirement already satisfied: nltk in /usr/local/lib/python3.7/dist-packages (from pysummarization) (3.2.5)\n",
            "Requirement already satisfied: six in /usr/local/lib/python3.7/dist-packages (from nltk->pysummarization) (1.15.0)\n",
            "Building wheels for collected packages: pysummarization\n",
            "  Building wheel for pysummarization (setup.py) ... \u001b[?25l\u001b[?25hdone\n",
            "  Created wheel for pysummarization: filename=pysummarization-1.1.8-py3-none-any.whl size=59453 sha256=134c1c3c578986d364a7d58f064b5101514e5ad4ae2c686b2285769397c3a1b0\n",
            "  Stored in directory: /root/.cache/pip/wheels/da/14/3e/02d15001af23ca877c5149b66280a605e5cdbbe76972598afa\n",
            "Successfully built pysummarization\n",
            "Installing collected packages: pysummarization\n",
            "Successfully installed pysummarization-1.1.8\n"
          ]
        }
      ]
    },
    {
      "cell_type": "code",
      "metadata": {
        "id": "TBsYnrC_t0vg"
      },
      "source": [
        "from pysummarization.nlpbase.auto_abstractor import AutoAbstractor\n",
        "from pysummarization.tokenizabledoc.simple_tokenizer import SimpleTokenizer\n",
        "from pysummarization.abstractabledoc.top_n_rank_abstractor import TopNRankAbstractor"
      ],
      "execution_count": 28,
      "outputs": []
    },
    {
      "cell_type": "code",
      "metadata": {
        "id": "9guDVjATuAhG"
      },
      "source": [
        "document = \"Natural language generation (NLG) is the natural language processing task of generating natural language from a machine representation system such as a knowledge base or a logical form. Psycholinguists prefer the term language production when such formal representations are interpreted as models for mental representations.\"\n",
        "\n",
        "# Object of automatic summarization.\n",
        "auto_abstractor = AutoAbstractor()\n",
        "# Set tokenizer.\n",
        "auto_abstractor.tokenizable_doc = SimpleTokenizer()\n",
        "# Set delimiter for making a list of sentence.\n",
        "auto_abstractor.delimiter_list = [\".\", \"\\n\"]\n",
        "# Object of abstracting and filtering document.\n",
        "abstractable_doc = TopNRankAbstractor()\n",
        "# Summarize document.\n",
        "result_dict = auto_abstractor.summarize(document, abstractable_doc)"
      ],
      "execution_count": 32,
      "outputs": []
    },
    {
      "cell_type": "code",
      "metadata": {
        "colab": {
          "base_uri": "https://localhost:8080/"
        },
        "id": "UDqWefITuVk6",
        "outputId": "8de35870-42a6-4b8b-d869-9dae135cec1a"
      },
      "source": [
        "for sentence in result_dict[\"summarize_result\"]:\n",
        "    print(sentence)"
      ],
      "execution_count": 33,
      "outputs": [
        {
          "output_type": "stream",
          "name": "stdout",
          "text": [
            "Natural language generation (NLG) is the natural language processing task of generating natural language from a machine representation system such as a knowledge base or a logical form.\n",
            "\n",
            " Psycholinguists prefer the term language production when such formal representations are interpreted as models for mental representations.\n",
            "\n"
          ]
        }
      ]
    }
  ]
}