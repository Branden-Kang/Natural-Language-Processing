{
  "nbformat": 4,
  "nbformat_minor": 0,
  "metadata": {
    "colab": {
      "name": "Build Real-Time Streaming Sentiment Analysis pipeline using Python.ipynb",
      "provenance": [],
      "authorship_tag": "ABX9TyNDVhBo+okmykl8Mfmjxxhx"
    },
    "kernelspec": {
      "name": "python3",
      "display_name": "Python 3"
    },
    "language_info": {
      "name": "python"
    }
  },
  "cells": [
    {
      "cell_type": "markdown",
      "metadata": {
        "id": "-iin_0S-GZAY"
      },
      "source": [
        "[Reference](https://medium.com/@nadaelazab123321/build-real-time-streaming-sentiment-analysis-pipeline-using-python-67e8bdb50cc0)"
      ]
    },
    {
      "cell_type": "code",
      "metadata": {
        "colab": {
          "base_uri": "https://localhost:8080/"
        },
        "id": "vsWDROTGGV_W",
        "outputId": "2582a92c-2176-4e05-ceb9-ae37b14e08f6"
      },
      "source": [
        "import pandas as pd\n",
        "import re\n",
        "import nltk\n",
        "from nltk.corpus import stopwords\n",
        "from nltk.stem.porter import PorterStemmer\n",
        "from sklearn.feature_extraction.text import TfidfVectorizer\n",
        "from sklearn.model_selection import train_test_split\n",
        "from sklearn import svm, metrics\n",
        "nltk.download('stopwords')\n",
        "pd.options.mode.chained_assignment = None"
      ],
      "execution_count": 1,
      "outputs": [
        {
          "output_type": "stream",
          "name": "stdout",
          "text": [
            "[nltk_data] Downloading package stopwords to /root/nltk_data...\n",
            "[nltk_data]   Unzipping corpora/stopwords.zip.\n"
          ]
        }
      ]
    },
    {
      "cell_type": "code",
      "metadata": {
        "id": "qhU3RvLqGkEf"
      },
      "source": [
        "class TweetsClassifier:\n",
        "    # body of the constructor\n",
        "    def __init__(self):\n",
        "        self.__load_data() # read the dataset and delete the stopping words from it\n",
        "        self.__train_model() # split the dataset to training and testing, then use the training data to train the SVM model\n",
        "        self.__evaluate_mode() # use the testing dataset to evaluate the model and print its accuracy\n",
        "\n",
        "    def __load_data(self):\n",
        "        column_names = [\"target\", \"ids\", \"date\", \"flag\", \"user\", \"text\"]\n",
        "        self.dataset = pd.read_csv(file_path,\n",
        "                                   header=None,\n",
        "                                   encoding='ISO-8859-1',\n",
        "                                   names=column_names,\n",
        "                                   skiprows=795000,\n",
        "                                   nrows=10000)\n",
        "        df = self.dataset[['text', 'target']]\n",
        "        df['target'] = df['target'].replace(4, 1)\n",
        "        self.corpus = []\n",
        "        for i in range(0, int(df.shape[0])):\n",
        "            text = re.sub('[^a-zA-z]', ' ', df['text'][i])\n",
        "            text = text.lower()\n",
        "            text = text.split()\n",
        "            ps = PorterStemmer()\n",
        "            all_stopwords = stopwords.words('english')\n",
        "            all_stopwords.remove('not')\n",
        "            text = [ps.stem(word) for word in text if not word in set(all_stopwords)]\n",
        "            text = ' '.join(text)\n",
        "            self.corpus.append(text)\n",
        "        self.target = df['target']\n",
        "        pass\n",
        "\n",
        "    def __train_model(self):\n",
        "        self.x_train, self.x_test, self.y_train, self.y_test = train_test_split(self.corpus, self.target)\n",
        "\n",
        "        self.Tfidf_Vectorizer = TfidfVectorizer(use_idf=True, stop_words='english')\n",
        "        tfs_training = self.Tfidf_Vectorizer.fit_transform(self.x_train).astype('float64')\n",
        "\n",
        "        # Create a svm Classifier\n",
        "        self.svm_classifier = svm.SVC(kernel='linear')  # Linear Kernel\n",
        "\n",
        "        # Train the model using the training sets\n",
        "        self.svm_classifier.fit(tfs_training, self.y_train)\n",
        "        pass\n",
        "\n",
        "    def __evaluate_mode(self):\n",
        "        # Predict the response for test dataset\n",
        "        tfs_testing = self.Tfidf_Vectorizer.transform(self.x_test).astype('float64').todense()\n",
        "        self.y_predected = self.svm_classifier.predict(tfs_testing)\n",
        "        self.accuracy_score = metrics.accuracy_score(self.y_test, self.y_predected)\n",
        "\n",
        "        print(\"Accuracy:\", self.accuracy_score)\n",
        "        pass\n",
        "\n",
        "    def classify(self, list_of_tweets_text):\n",
        "        tweets_vectors = self.Tfidf_Vectorizer.transform(list_of_tweets_text).astype('float64')\n",
        "\n",
        "        return self.svm_classifier.predict(tweets_vectors)"
      ],
      "execution_count": 2,
      "outputs": []
    },
    {
      "cell_type": "code",
      "metadata": {
        "id": "_QIZfEEWGm03"
      },
      "source": [
        "classifier = TweetsClassifier() # build the classifier model and print its Accuracy\n",
        "print(classifier.classify([\"iam so sad\" , \"Hello, Its a good day\" , \"what a bad day\"])) # test the classifier"
      ],
      "execution_count": 6,
      "outputs": []
    },
    {
      "cell_type": "code",
      "metadata": {
        "id": "fSpAx5cCGozq"
      },
      "source": [
        "!apt-get install openjdk-8-jdk-headless -qq > /dev/null\n",
        "!wget -q https://archive.apache.org/dist/spark/spark-3.1.2/spark-3.1.2-bin-hadoop3.2.tgz\n",
        "!tar xf spark-3.1.2-bin-hadoop3.2.tgz\n",
        "!pip install -q findspark"
      ],
      "execution_count": 4,
      "outputs": []
    },
    {
      "cell_type": "code",
      "metadata": {
        "id": "m3UlfUwAHC8T"
      },
      "source": [
        "import os\n",
        "os.environ[\"JAVA_HOME\"] = \"/usr/lib/jvm/java-8-openjdk-amd64\"\n",
        "os.environ[\"SPARK_HOME\"] = \"/content/spark-3.1.2-bin-hadoop3.2\"\n",
        "import findspark\n",
        "findspark.init()"
      ],
      "execution_count": 5,
      "outputs": []
    }
  ]
}