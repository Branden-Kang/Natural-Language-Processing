{
  "nbformat": 4,
  "nbformat_minor": 0,
  "metadata": {
    "colab": {
      "name": "ChatBot using Python in 15mins!.ipynb",
      "provenance": [],
      "authorship_tag": "ABX9TyN43YeRNN0tL2Zu6hqUlhKY"
    },
    "kernelspec": {
      "name": "python3",
      "display_name": "Python 3"
    },
    "language_info": {
      "name": "python"
    }
  },
  "cells": [
    {
      "cell_type": "markdown",
      "metadata": {
        "id": "w3qnPl6mauI-"
      },
      "source": [
        "[Reference](https://medium.com/nerd-for-tech/chatbot-in-15mins-using-python-88b13b75f4af)"
      ]
    },
    {
      "cell_type": "code",
      "metadata": {
        "colab": {
          "base_uri": "https://localhost:8080/"
        },
        "id": "KGrOld7wWv_f",
        "outputId": "af3e55a4-241a-4dda-92e7-7aacd261f776"
      },
      "source": [
        "pip install chatterbot"
      ],
      "execution_count": 1,
      "outputs": [
        {
          "output_type": "stream",
          "text": [
            "Collecting chatterbot\n",
            "  Downloading ChatterBot-1.0.8-py2.py3-none-any.whl (63 kB)\n",
            "\u001b[?25l\r\u001b[K     |█████▏                          | 10 kB 19.6 MB/s eta 0:00:01\r\u001b[K     |██████████▎                     | 20 kB 23.9 MB/s eta 0:00:01\r\u001b[K     |███████████████▌                | 30 kB 28.4 MB/s eta 0:00:01\r\u001b[K     |████████████████████▋           | 40 kB 32.4 MB/s eta 0:00:01\r\u001b[K     |█████████████████████████▊      | 51 kB 35.2 MB/s eta 0:00:01\r\u001b[K     |███████████████████████████████ | 61 kB 38.3 MB/s eta 0:00:01\r\u001b[K     |████████████████████████████████| 63 kB 2.2 MB/s \n",
            "\u001b[?25hCollecting mathparse<0.2,>=0.1\n",
            "  Downloading mathparse-0.1.2-py3-none-any.whl (7.2 kB)\n",
            "Requirement already satisfied: python-dateutil<2.9,>=2.8 in /usr/local/lib/python3.7/dist-packages (from chatterbot) (2.8.2)\n",
            "Collecting sqlalchemy<1.4,>=1.3\n",
            "  Downloading SQLAlchemy-1.3.24-cp37-cp37m-manylinux2010_x86_64.whl (1.3 MB)\n",
            "\u001b[K     |████████████████████████████████| 1.3 MB 38.2 MB/s \n",
            "\u001b[?25hRequirement already satisfied: pytz in /usr/local/lib/python3.7/dist-packages (from chatterbot) (2018.9)\n",
            "Requirement already satisfied: six>=1.5 in /usr/local/lib/python3.7/dist-packages (from python-dateutil<2.9,>=2.8->chatterbot) (1.15.0)\n",
            "Installing collected packages: sqlalchemy, mathparse, chatterbot\n",
            "  Attempting uninstall: sqlalchemy\n",
            "    Found existing installation: SQLAlchemy 1.4.22\n",
            "    Uninstalling SQLAlchemy-1.4.22:\n",
            "      Successfully uninstalled SQLAlchemy-1.4.22\n",
            "Successfully installed chatterbot-1.0.8 mathparse-0.1.2 sqlalchemy-1.3.24\n"
          ],
          "name": "stdout"
        }
      ]
    },
    {
      "cell_type": "code",
      "metadata": {
        "colab": {
          "base_uri": "https://localhost:8080/"
        },
        "id": "S2CSzOB_arcR",
        "outputId": "fba61f27-1434-4b9f-fc5d-993ee154d1dd"
      },
      "source": [
        "pip install chatterbot_corpus"
      ],
      "execution_count": 2,
      "outputs": [
        {
          "output_type": "stream",
          "text": [
            "Collecting chatterbot_corpus\n",
            "  Downloading chatterbot_corpus-1.2.0-py2.py3-none-any.whl (117 kB)\n",
            "\u001b[?25l\r\u001b[K     |██▉                             | 10 kB 20.9 MB/s eta 0:00:01\r\u001b[K     |█████▋                          | 20 kB 24.7 MB/s eta 0:00:01\r\u001b[K     |████████▍                       | 30 kB 30.0 MB/s eta 0:00:01\r\u001b[K     |███████████▏                    | 40 kB 34.6 MB/s eta 0:00:01\r\u001b[K     |██████████████                  | 51 kB 36.9 MB/s eta 0:00:01\r\u001b[K     |████████████████▊               | 61 kB 31.5 MB/s eta 0:00:01\r\u001b[K     |███████████████████▋            | 71 kB 32.9 MB/s eta 0:00:01\r\u001b[K     |██████████████████████▍         | 81 kB 32.7 MB/s eta 0:00:01\r\u001b[K     |█████████████████████████▏      | 92 kB 33.3 MB/s eta 0:00:01\r\u001b[K     |████████████████████████████    | 102 kB 35.0 MB/s eta 0:00:01\r\u001b[K     |██████████████████████████████▊ | 112 kB 35.0 MB/s eta 0:00:01\r\u001b[K     |████████████████████████████████| 117 kB 35.0 MB/s \n",
            "\u001b[?25hRequirement already satisfied: PyYAML<4.0,>=3.12 in /usr/local/lib/python3.7/dist-packages (from chatterbot_corpus) (3.13)\n",
            "Installing collected packages: chatterbot-corpus\n",
            "Successfully installed chatterbot-corpus-1.2.0\n"
          ],
          "name": "stdout"
        }
      ]
    },
    {
      "cell_type": "code",
      "metadata": {
        "id": "ccQkf_h3asg-"
      },
      "source": [
        "from chatterbot import ChatBot"
      ],
      "execution_count": 3,
      "outputs": []
    },
    {
      "cell_type": "code",
      "metadata": {
        "id": "dJF9vPZyayUm"
      },
      "source": [
        "from chatterbot.trainers import ListTrainer"
      ],
      "execution_count": 4,
      "outputs": []
    },
    {
      "cell_type": "code",
      "metadata": {
        "id": "3jBgpUsuaznH"
      },
      "source": [
        "bot=ChatBot('Lilly')"
      ],
      "execution_count": 6,
      "outputs": []
    },
    {
      "cell_type": "code",
      "metadata": {
        "id": "cvp3Seh7bAlK"
      },
      "source": [
        "bot=ChatBot('Lily', logic_adapters=['chatterbot.logic.BestMatch', 'chatterbot.logic.MathematicalEvaluation'])"
      ],
      "execution_count": 9,
      "outputs": []
    },
    {
      "cell_type": "code",
      "metadata": {
        "id": "tiyiziOVbDMa"
      },
      "source": [
        "trainer = ListTrainer(bot)"
      ],
      "execution_count": 10,
      "outputs": []
    },
    {
      "cell_type": "code",
      "metadata": {
        "colab": {
          "base_uri": "https://localhost:8080/"
        },
        "id": "tPkn2dP1bSYD",
        "outputId": "65b69ab5-9bdc-4ccb-ef29-4b6bbfbb5812"
      },
      "source": [
        "trainer.train(['Hi','Hey','How are you?','I am good.How about you?','My name is Lara!','How can I help you?''Please elaborate, your concern','Okay Thanks','No Problem! Have a Good Day!'])"
      ],
      "execution_count": 13,
      "outputs": [
        {
          "output_type": "stream",
          "text": [
            "List Trainer: [####################] 100%\n"
          ],
          "name": "stdout"
        }
      ]
    },
    {
      "cell_type": "code",
      "metadata": {
        "colab": {
          "base_uri": "https://localhost:8080/"
        },
        "id": "2olG3aaObZWx",
        "outputId": "80cc6884-eda4-463a-c1aa-ae0ad46b7743"
      },
      "source": [
        "print(bot.get_response('Hi'))"
      ],
      "execution_count": 15,
      "outputs": [
        {
          "output_type": "stream",
          "text": [
            "Hey\n"
          ],
          "name": "stdout"
        }
      ]
    },
    {
      "cell_type": "code",
      "metadata": {
        "colab": {
          "base_uri": "https://localhost:8080/"
        },
        "id": "7ji3a-dYbq4U",
        "outputId": "f2746405-b477-49f3-f62f-1d2ee035b9c4"
      },
      "source": [
        "print(bot.get_response('Hi'))"
      ],
      "execution_count": 16,
      "outputs": [
        {
          "output_type": "stream",
          "text": [
            "Hey\n"
          ],
          "name": "stdout"
        }
      ]
    }
  ]
}