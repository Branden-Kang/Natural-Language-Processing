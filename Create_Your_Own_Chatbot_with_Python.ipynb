{
  "nbformat": 4,
  "nbformat_minor": 0,
  "metadata": {
    "colab": {
      "name": "Create Your Own Chatbot with Python.ipynb",
      "provenance": [],
      "authorship_tag": "ABX9TyNgBjpHlscBHrfJxKVG9CjM"
    },
    "kernelspec": {
      "name": "python3",
      "display_name": "Python 3"
    },
    "language_info": {
      "name": "python"
    }
  },
  "cells": [
    {
      "cell_type": "markdown",
      "metadata": {
        "id": "jgy5KjTW8kTs"
      },
      "source": [
        "[Reference](https://python.plainenglish.io/creating-your-very-own-chatbot-in-python-ef2847a87bba)"
      ]
    },
    {
      "cell_type": "code",
      "metadata": {
        "colab": {
          "base_uri": "https://localhost:8080/"
        },
        "id": "j2-ddfeK8HLT",
        "outputId": "d1668132-7b2b-4d03-f60c-4c9b28e65906"
      },
      "source": [
        "!pip install chatterbot\n",
        "!pip install chatterbot_corpus"
      ],
      "execution_count": 4,
      "outputs": [
        {
          "output_type": "stream",
          "text": [
            "Requirement already satisfied: chatterbot in /usr/local/lib/python3.7/dist-packages (1.0.8)\n",
            "Requirement already satisfied: pytz in /usr/local/lib/python3.7/dist-packages (from chatterbot) (2018.9)\n",
            "Requirement already satisfied: sqlalchemy<1.4,>=1.3 in /usr/local/lib/python3.7/dist-packages (from chatterbot) (1.3.24)\n",
            "Requirement already satisfied: python-dateutil<2.9,>=2.8 in /usr/local/lib/python3.7/dist-packages (from chatterbot) (2.8.1)\n",
            "Requirement already satisfied: mathparse<0.2,>=0.1 in /usr/local/lib/python3.7/dist-packages (from chatterbot) (0.1.2)\n",
            "Requirement already satisfied: six>=1.5 in /usr/local/lib/python3.7/dist-packages (from python-dateutil<2.9,>=2.8->chatterbot) (1.15.0)\n",
            "Requirement already satisfied: chatterbot_corpus in /usr/local/lib/python3.7/dist-packages (1.2.0)\n",
            "Requirement already satisfied: PyYAML<4.0,>=3.12 in /usr/local/lib/python3.7/dist-packages (from chatterbot_corpus) (3.13)\n"
          ],
          "name": "stdout"
        }
      ]
    },
    {
      "cell_type": "code",
      "metadata": {
        "id": "2veSI1Q08tvc"
      },
      "source": [
        "from chatterbot import Chatbot\n",
        "from chatterbot.trainers import ListTrainer"
      ],
      "execution_count": 7,
      "outputs": []
    },
    {
      "cell_type": "code",
      "metadata": {
        "id": "rm_Y-tu38xW-"
      },
      "source": [
        "newbot = ChatBot(name='PyBot', read_only=False, logic_adapters=['chatterbot.logic.MathmaticalEvalutation','chatterbot.logic.BestMatch'])"
      ],
      "execution_count": 6,
      "outputs": []
    },
    {
      "cell_type": "code",
      "metadata": {
        "id": "IcOjSqd09HoQ"
      },
      "source": [
        "small_talk = ['hi there', 'how are you']\n",
        "\n",
        "talk_math1 = ['Euclidean distance']\n",
        "talk_math2 = ['Circumference of a circle']"
      ],
      "execution_count": 8,
      "outputs": []
    },
    {
      "cell_type": "code",
      "metadata": {
        "id": "8n4gCIQD9KzN"
      },
      "source": [
        "list_trainer = ListTrainer(newbot)\n",
        "\n",
        "for item in (small_talk, talk_math1, talk_math2):\n",
        "    list_trainer.train(item)"
      ],
      "execution_count": 9,
      "outputs": []
    },
    {
      "cell_type": "code",
      "metadata": {
        "id": "lTCZOjJm9Kuz"
      },
      "source": [
        "print(newbot.get_response(\"Hi\"))"
      ],
      "execution_count": 10,
      "outputs": []
    }
  ]
}