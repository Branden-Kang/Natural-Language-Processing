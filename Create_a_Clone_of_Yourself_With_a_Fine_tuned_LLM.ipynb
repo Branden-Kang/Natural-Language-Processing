{
  "nbformat": 4,
  "nbformat_minor": 0,
  "metadata": {
    "colab": {
      "provenance": [],
      "authorship_tag": "ABX9TyOaCtUeL32MLimsYEir1O91"
    },
    "kernelspec": {
      "name": "python3",
      "display_name": "Python 3"
    },
    "language_info": {
      "name": "python"
    }
  },
  "cells": [
    {
      "cell_type": "markdown",
      "source": [
        "[Reference](https://betterprogramming.pub/unleash-your-digital-twin-how-fine-tuning-llm-can-create-your-perfect-doppelganger-b5913e7dda2e)"
      ],
      "metadata": {
        "id": "xa9KuoAL4LiN"
      }
    },
    {
      "cell_type": "code",
      "execution_count": 1,
      "metadata": {
        "id": "gaehrKaI3gb0"
      },
      "outputs": [],
      "source": [
        "from telethon.sync import TelegramClient\n",
        "\n",
        "client = TelegramClient(PHONE_NUMBER, TELEGRAM_APP_ID, TELEGRAM_APP_HASH)\n",
        "client.start()\n",
        "\n",
        "def get_dialogs(limit: int | None = 100) -> list[Dialog]:\n",
        "    \"\"\"Get all dialogs from the Telegram.\"\"\"\n",
        "    dialogs: list[Dialog] = client.get_dialogs(limit=limit)\n",
        "    dialogs = [dialog for dialog in dialogs if dialog.is_user]  # remove groups or channels\n",
        "    logger.info(f\"Found {len(dialogs)} dialogs\")\n",
        "    return dialogs\n",
        "\n",
        "def parse_messages(dialog: Dialog, limit: int = 1000) -> list[dict]:\n",
        "    \"\"\"Get all messages from the dialog.\"\"\"\n",
        "    all_messages_list = []\n",
        "    offset_id = 0\n",
        "\n",
        "    while True:\n",
        "        messages: list[Message] = client(\n",
        "            GetHistoryRequest(\n",
        "                peer=dialog,\n",
        "                offset_id=offset_id,\n",
        "                offset_date=None,\n",
        "                add_offset=0,\n",
        "                limit=limit,\n",
        "                max_id=0,\n",
        "                min_id=0,\n",
        "                hash=0,\n",
        "            )\n",
        "        ).messages\n",
        "        if not messages:\n",
        "            break\n",
        "\n",
        "        all_messages_list.extend(\n",
        "            {\n",
        "                \"date\": message.date.isoformat(),\n",
        "                \"message\": message.message,\n",
        "                \"out\": message.out,\n",
        "            }\n",
        "            for message in messages\n",
        "            # Filter audio or video content\n",
        "            if message.message and not message.is_bot\n",
        "        )\n",
        "        offset_id = offset_id = messages[-1].id\n",
        "    return all_messages_list"
      ]
    }
  ]
}