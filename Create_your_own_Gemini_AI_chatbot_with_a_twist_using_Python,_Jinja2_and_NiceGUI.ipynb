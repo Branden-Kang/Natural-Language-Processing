{
  "nbformat": 4,
  "nbformat_minor": 0,
  "metadata": {
    "colab": {
      "provenance": [],
      "authorship_tag": "ABX9TyMscsCzfbJuo/o6gJWM7KRe"
    },
    "kernelspec": {
      "name": "python3",
      "display_name": "Python 3"
    },
    "language_info": {
      "name": "python"
    }
  },
  "cells": [
    {
      "cell_type": "markdown",
      "source": [
        "[Reference](https://blog.det.life/create-your-own-gemini-ai-chatbot-with-a-twist-using-python-jinja2-and-nicegui-7d35ac981a63)"
      ],
      "metadata": {
        "id": "oVIRUvSuVXBm"
      }
    },
    {
      "cell_type": "code",
      "execution_count": 2,
      "metadata": {
        "id": "sWisnYPeU2t-"
      },
      "outputs": [],
      "source": [
        "from nicegui import ui\n",
        "\n",
        "with ui.grid(columns=16).classes(\"w-3/4 place-self-center gap-4\"):\n",
        "    ui.markdown(\"# 🚀 My Gemini Chatbot\").classes(\"col-span-full\")\n",
        "    ui.input(label=\"Prompt\").classes(\"col-span-10\")\n",
        "    ui.select(\n",
        "        options=[\"Default\", \"Santa Claus\"],\n",
        "        value=\"Default\",\n",
        "        label=\"Personality\"\n",
        "    ).classes(\"col-span-6\")\n",
        "    ui.button(\"Send to Gemini\").classes(\"col-span-full\")\n",
        "\n",
        "    with ui.card().classes(\"col-span-full\"):\n",
        "        ui.markdown(\"## Gemini Response\")\n",
        "        ui.separator()\n",
        "        ui.label(\"Send your prompt to Gemini and see the response here.\")\n",
        "\n",
        "ui.run()"
      ]
    },
    {
      "cell_type": "code",
      "source": [
        "import vertexai\n",
        "from google.oauth2 import service_account\n",
        "from jinja2 import Environment, PackageLoader, select_autoescape\n",
        "from nicegui import ui, app\n",
        "from vertexai.generative_models import GenerativeModel\n",
        "\n",
        "credentials = service_account.Credentials.from_service_account_file(\n",
        "    \"../gcp-vojay-gemini.json\"\n",
        ")\n",
        "vertexai.init(project=\"vojay-329716\", location=\"us-central1\", credentials=credentials)\n",
        "\n",
        "env = Environment(\n",
        "    loader=PackageLoader(\"my_gemini_chatbot\"),\n",
        "    autoescape=select_autoescape()\n",
        ")\n",
        "\n",
        "model = GenerativeModel(\"gemini-pro\")\n",
        "\n",
        "\n",
        "def get_chat_response(chat, prompt):\n",
        "    text_response = []\n",
        "    responses = chat.send_message(prompt, stream=True)\n",
        "    for chunk in responses:\n",
        "        text_response.append(chunk.text)\n",
        "    return ''.join(text_response)\n",
        "\n",
        "\n",
        "def get_personality_file(value):\n",
        "    match value:\n",
        "        case \"Default\":\n",
        "            return \"default.jinja\"\n",
        "        case \"Santa Claus\":\n",
        "            return \"santaclaus.jinja\"\n",
        "        case \"Dad Jokes\":\n",
        "            return \"dadjokes.jinja\"\n",
        "        case _:\n",
        "            return \"default.jinja\"\n",
        "\n",
        "\n",
        "def send():\n",
        "    user_prompt = app.storage.client.get(\"prompt\")\n",
        "    personality = app.storage.client.get(\"personality\")\n",
        "\n",
        "    personality_template = env.get_template(get_personality_file(personality))\n",
        "    prompt_template = env.get_template(\"prompt.jinja\")\n",
        "\n",
        "    prompt = prompt_template.render(\n",
        "        prompt=user_prompt,\n",
        "        personality=personality_template.render()\n",
        "    )\n",
        "\n",
        "    ui.notify(\"Sending to Gemini...\", type=\"info\")\n",
        "    chat = model.start_chat()\n",
        "    response = get_chat_response(chat, prompt)\n",
        "    ui.notify(\"Received response...\", type=\"info\")\n",
        "\n",
        "    app.storage.client[\"response\"] = response\n",
        "\n",
        "\n",
        "@ui.page('/')\n",
        "def index():\n",
        "    with ui.grid(columns=16).classes(\"w-3/4 place-self-center gap-4\"):\n",
        "        ui.markdown(\"# 🚀 My Gemini Chatbot\").classes(\"col-span-full\")\n",
        "        ui.input(label=\"Prompt\").bind_value(app.storage.client, \"prompt\").classes(\"col-span-10\")\n",
        "        ui.select(\n",
        "            options=[\"Default\", \"Santa Claus\", \"Dad Jokes\"],\n",
        "            value=\"Default\",\n",
        "            label=\"Personality\"\n",
        "        ).bind_value(app.storage.client, \"personality\").classes(\"col-span-6\")\n",
        "\n",
        "        ui.button(\"Send to Gemini\", on_click=send).classes(\"col-span-8\")\n",
        "\n",
        "        dark = ui.dark_mode()\n",
        "        ui.button(\"Light UI\", on_click=dark.disable).classes(\"col-span-4\")\n",
        "        ui.button(\"Dark UI\", on_click=dark.enable).classes(\"col-span-4\")\n",
        "\n",
        "        with ui.card().classes(\"col-span-full\"):\n",
        "            ui.markdown(\"## Gemini Response\")\n",
        "            ui.separator()\n",
        "            ui.label().bind_text(app.storage.client, \"response\")\n",
        "\n",
        "\n",
        "ui.run()"
      ],
      "metadata": {
        "id": "HpPmeJQPVojf"
      },
      "execution_count": 1,
      "outputs": []
    }
  ]
}