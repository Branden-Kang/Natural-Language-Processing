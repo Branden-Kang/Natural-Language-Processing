{
  "nbformat": 4,
  "nbformat_minor": 0,
  "metadata": {
    "colab": {
      "name": "Detecting Headline Sarcasm with Machine Learning.ipynb",
      "provenance": [],
      "authorship_tag": "ABX9TyMdXaGhcqWFMxrQLFSRwBP2"
    },
    "kernelspec": {
      "name": "python3",
      "display_name": "Python 3"
    },
    "language_info": {
      "name": "python"
    }
  },
  "cells": [
    {
      "cell_type": "markdown",
      "metadata": {
        "id": "kOhsH5a3SlEL"
      },
      "source": [
        "[Reference](https://medium.com/m2mtechconnect/detecting-headline-sarcasm-with-machine-learning-4c3523104cdf)"
      ]
    },
    {
      "cell_type": "code",
      "metadata": {
        "id": "-g9s8TjVSQgS"
      },
      "source": [
        "import numpy as np\n",
        "import pandas as pd\n",
        "import matplotlib.pyplot as plt\n",
        "import seaborn as sns\n",
        "from sklearn.model_selection import train_test_split\n",
        "from sklearn.feature_extraction.text import CountVectorizer\n",
        "from sklearn.feature_extraction.text import TfidfVectorizer\n",
        "from sklearn.feature_selection import SelectKBest\n",
        "from sklearn.feature_selection import f_classif"
      ],
      "execution_count": 1,
      "outputs": []
    },
    {
      "cell_type": "code",
      "metadata": {
        "colab": {
          "base_uri": "https://localhost:8080/",
          "height": 204
        },
        "id": "R1BYGHkGSq1e",
        "outputId": "1c776106-f6df-4a6d-88b3-536937c0324e"
      },
      "source": [
        "df = pd.read_json(r'https://raw.githubusercontent.com/Branden-Kang/Natural-Language-Processing/master/Data/Sarcasm_Headlines_Dataset.json', lines=True)\n",
        "df = df.drop(['article_link'], axis=1)\n",
        "df.head()"
      ],
      "execution_count": 2,
      "outputs": [
        {
          "output_type": "execute_result",
          "data": {
            "text/html": [
              "<div>\n",
              "<style scoped>\n",
              "    .dataframe tbody tr th:only-of-type {\n",
              "        vertical-align: middle;\n",
              "    }\n",
              "\n",
              "    .dataframe tbody tr th {\n",
              "        vertical-align: top;\n",
              "    }\n",
              "\n",
              "    .dataframe thead th {\n",
              "        text-align: right;\n",
              "    }\n",
              "</style>\n",
              "<table border=\"1\" class=\"dataframe\">\n",
              "  <thead>\n",
              "    <tr style=\"text-align: right;\">\n",
              "      <th></th>\n",
              "      <th>headline</th>\n",
              "      <th>is_sarcastic</th>\n",
              "    </tr>\n",
              "  </thead>\n",
              "  <tbody>\n",
              "    <tr>\n",
              "      <th>0</th>\n",
              "      <td>former versace store clerk sues over secret 'b...</td>\n",
              "      <td>0</td>\n",
              "    </tr>\n",
              "    <tr>\n",
              "      <th>1</th>\n",
              "      <td>the 'roseanne' revival catches up to our thorn...</td>\n",
              "      <td>0</td>\n",
              "    </tr>\n",
              "    <tr>\n",
              "      <th>2</th>\n",
              "      <td>mom starting to fear son's web series closest ...</td>\n",
              "      <td>1</td>\n",
              "    </tr>\n",
              "    <tr>\n",
              "      <th>3</th>\n",
              "      <td>boehner just wants wife to listen, not come up...</td>\n",
              "      <td>1</td>\n",
              "    </tr>\n",
              "    <tr>\n",
              "      <th>4</th>\n",
              "      <td>j.k. rowling wishes snape happy birthday in th...</td>\n",
              "      <td>0</td>\n",
              "    </tr>\n",
              "  </tbody>\n",
              "</table>\n",
              "</div>"
            ],
            "text/plain": [
              "                                            headline  is_sarcastic\n",
              "0  former versace store clerk sues over secret 'b...             0\n",
              "1  the 'roseanne' revival catches up to our thorn...             0\n",
              "2  mom starting to fear son's web series closest ...             1\n",
              "3  boehner just wants wife to listen, not come up...             1\n",
              "4  j.k. rowling wishes snape happy birthday in th...             0"
            ]
          },
          "metadata": {},
          "execution_count": 2
        }
      ]
    },
    {
      "cell_type": "code",
      "metadata": {
        "colab": {
          "base_uri": "https://localhost:8080/"
        },
        "id": "0oC5fRXrSvuK",
        "outputId": "a507d49a-8191-434b-8ec9-478c8d2f01cf"
      },
      "source": [
        "# first 5 headlines\n",
        "for i in range(0, 5):\n",
        "    print(df.iloc[i]['headline'], '\\n')"
      ],
      "execution_count": 3,
      "outputs": [
        {
          "output_type": "stream",
          "name": "stdout",
          "text": [
            "former versace store clerk sues over secret 'black code' for minority shoppers \n",
            "\n",
            "the 'roseanne' revival catches up to our thorny political mood, for better and worse \n",
            "\n",
            "mom starting to fear son's web series closest thing she will have to grandchild \n",
            "\n",
            "boehner just wants wife to listen, not come up with alternative debt-reduction ideas \n",
            "\n",
            "j.k. rowling wishes snape happy birthday in the most magical way \n",
            "\n"
          ]
        }
      ]
    },
    {
      "cell_type": "markdown",
      "metadata": {
        "id": "tTtTe69ES0Mh"
      },
      "source": [
        "# Exploratory Data Analysis\n"
      ]
    },
    {
      "cell_type": "code",
      "metadata": {
        "colab": {
          "base_uri": "https://localhost:8080/"
        },
        "id": "PR2bHJNWSzIA",
        "outputId": "0529270a-8a7f-4733-fd0b-eeae8646f4e1"
      },
      "source": [
        "# check for missing values\n",
        "df.info()"
      ],
      "execution_count": 4,
      "outputs": [
        {
          "output_type": "stream",
          "name": "stdout",
          "text": [
            "<class 'pandas.core.frame.DataFrame'>\n",
            "RangeIndex: 26709 entries, 0 to 26708\n",
            "Data columns (total 2 columns):\n",
            " #   Column        Non-Null Count  Dtype \n",
            "---  ------        --------------  ----- \n",
            " 0   headline      26709 non-null  object\n",
            " 1   is_sarcastic  26709 non-null  int64 \n",
            "dtypes: int64(1), object(1)\n",
            "memory usage: 417.5+ KB\n"
          ]
        }
      ]
    },
    {
      "cell_type": "code",
      "metadata": {
        "colab": {
          "base_uri": "https://localhost:8080/"
        },
        "id": "7fXAZB3ZS1hE",
        "outputId": "38ca4e9d-a603-40df-de88-d2cb005239ac"
      },
      "source": [
        "# check that there are only 2 labels \n",
        "df['is_sarcastic'].unique()"
      ],
      "execution_count": 5,
      "outputs": [
        {
          "output_type": "execute_result",
          "data": {
            "text/plain": [
              "array([0, 1])"
            ]
          },
          "metadata": {},
          "execution_count": 5
        }
      ]
    },
    {
      "cell_type": "code",
      "metadata": {
        "id": "eyYgyRlQS2n9"
      },
      "source": [
        "# group df by class for further analysis\n",
        "groups = df.groupby('is_sarcastic')"
      ],
      "execution_count": 6,
      "outputs": []
    },
    {
      "cell_type": "code",
      "metadata": {
        "colab": {
          "base_uri": "https://localhost:8080/",
          "height": 419
        },
        "id": "Jn9iTzG1S4Zi",
        "outputId": "ac078f4a-4bbc-4f24-a919-ecc7c43e8958"
      },
      "source": [
        "groups.get_group(0)"
      ],
      "execution_count": 7,
      "outputs": [
        {
          "output_type": "execute_result",
          "data": {
            "text/html": [
              "<div>\n",
              "<style scoped>\n",
              "    .dataframe tbody tr th:only-of-type {\n",
              "        vertical-align: middle;\n",
              "    }\n",
              "\n",
              "    .dataframe tbody tr th {\n",
              "        vertical-align: top;\n",
              "    }\n",
              "\n",
              "    .dataframe thead th {\n",
              "        text-align: right;\n",
              "    }\n",
              "</style>\n",
              "<table border=\"1\" class=\"dataframe\">\n",
              "  <thead>\n",
              "    <tr style=\"text-align: right;\">\n",
              "      <th></th>\n",
              "      <th>headline</th>\n",
              "      <th>is_sarcastic</th>\n",
              "    </tr>\n",
              "  </thead>\n",
              "  <tbody>\n",
              "    <tr>\n",
              "      <th>0</th>\n",
              "      <td>former versace store clerk sues over secret 'b...</td>\n",
              "      <td>0</td>\n",
              "    </tr>\n",
              "    <tr>\n",
              "      <th>1</th>\n",
              "      <td>the 'roseanne' revival catches up to our thorn...</td>\n",
              "      <td>0</td>\n",
              "    </tr>\n",
              "    <tr>\n",
              "      <th>4</th>\n",
              "      <td>j.k. rowling wishes snape happy birthday in th...</td>\n",
              "      <td>0</td>\n",
              "    </tr>\n",
              "    <tr>\n",
              "      <th>5</th>\n",
              "      <td>advancing the world's women</td>\n",
              "      <td>0</td>\n",
              "    </tr>\n",
              "    <tr>\n",
              "      <th>6</th>\n",
              "      <td>the fascinating case for eating lab-grown meat</td>\n",
              "      <td>0</td>\n",
              "    </tr>\n",
              "    <tr>\n",
              "      <th>...</th>\n",
              "      <td>...</td>\n",
              "      <td>...</td>\n",
              "    </tr>\n",
              "    <tr>\n",
              "      <th>26704</th>\n",
              "      <td>american politics in moral free-fall</td>\n",
              "      <td>0</td>\n",
              "    </tr>\n",
              "    <tr>\n",
              "      <th>26705</th>\n",
              "      <td>america's best 20 hikes</td>\n",
              "      <td>0</td>\n",
              "    </tr>\n",
              "    <tr>\n",
              "      <th>26706</th>\n",
              "      <td>reparations and obama</td>\n",
              "      <td>0</td>\n",
              "    </tr>\n",
              "    <tr>\n",
              "      <th>26707</th>\n",
              "      <td>israeli ban targeting boycott supporters raise...</td>\n",
              "      <td>0</td>\n",
              "    </tr>\n",
              "    <tr>\n",
              "      <th>26708</th>\n",
              "      <td>gourmet gifts for the foodie 2014</td>\n",
              "      <td>0</td>\n",
              "    </tr>\n",
              "  </tbody>\n",
              "</table>\n",
              "<p>14985 rows × 2 columns</p>\n",
              "</div>"
            ],
            "text/plain": [
              "                                                headline  is_sarcastic\n",
              "0      former versace store clerk sues over secret 'b...             0\n",
              "1      the 'roseanne' revival catches up to our thorn...             0\n",
              "4      j.k. rowling wishes snape happy birthday in th...             0\n",
              "5                            advancing the world's women             0\n",
              "6         the fascinating case for eating lab-grown meat             0\n",
              "...                                                  ...           ...\n",
              "26704               american politics in moral free-fall             0\n",
              "26705                            america's best 20 hikes             0\n",
              "26706                              reparations and obama             0\n",
              "26707  israeli ban targeting boycott supporters raise...             0\n",
              "26708                  gourmet gifts for the foodie 2014             0\n",
              "\n",
              "[14985 rows x 2 columns]"
            ]
          },
          "metadata": {},
          "execution_count": 7
        }
      ]
    },
    {
      "cell_type": "code",
      "metadata": {
        "colab": {
          "base_uri": "https://localhost:8080/"
        },
        "id": "rB3RRF2wS5IV",
        "outputId": "2abf8b5c-7f43-4228-aa7b-82ebf729851e"
      },
      "source": [
        "# number of samples per class\n",
        "num_sarcastic = len(groups.get_group(1))\n",
        "num_nonsarcastic = len(groups.get_group(0))\n",
        "print(\"Number of sarcastic samples: \", num_sarcastic)\n",
        "print(\"Number of nonsarcastic samples: \", num_nonsarcastic)"
      ],
      "execution_count": 8,
      "outputs": [
        {
          "output_type": "stream",
          "name": "stdout",
          "text": [
            "Number of sarcastic samples:  11724\n",
            "Number of nonsarcastic samples:  14985\n"
          ]
        }
      ]
    },
    {
      "cell_type": "code",
      "metadata": {
        "colab": {
          "base_uri": "https://localhost:8080/"
        },
        "id": "s8NRx8n4S7xo",
        "outputId": "007e3c8e-67ba-4996-c9b2-e3ca742ddc34"
      },
      "source": [
        "def get_median_num_words(df):\n",
        "    \"\"\"Returns the median number of words in headline per row given dataframe\n",
        "\n",
        "    # Arguments\n",
        "        df: dataframe, contains headlines and their labels\n",
        "    \n",
        "    # Returns\n",
        "        int, median number of words per headline\n",
        "    \"\"\"\n",
        "    num_words = [len(s.split()) for s in df.headline]\n",
        "    return np.median(num_words)\n",
        "\n",
        "# median number of words per sample\n",
        "num_words_sarcastic = get_median_num_words(groups.get_group(1))\n",
        "num_words_nonsarcastic = get_median_num_words(groups.get_group(0))\n",
        "print(\"Median number of words in sarcastic samples: \", num_words_sarcastic)\n",
        "print(\"Median number of words in nonsarcastic samples: \", num_words_nonsarcastic)"
      ],
      "execution_count": 9,
      "outputs": [
        {
          "output_type": "stream",
          "name": "stdout",
          "text": [
            "Median number of words in sarcastic samples:  10.0\n",
            "Median number of words in nonsarcastic samples:  10.0\n"
          ]
        }
      ]
    },
    {
      "cell_type": "code",
      "metadata": {
        "id": "Po1tUslIS9XQ"
      },
      "source": [
        "def plot_sample_length_distribution(df):\n",
        "    \"\"\"Plots the headline length distribution\n",
        "\n",
        "    # Arguments\n",
        "        df: dataframe, contains headlines and their labels\n",
        "    \"\"\"\n",
        "    plt.hist([len(s) for s in df.headline], bins=50)\n",
        "    plt.xlabel('Length of a sample')\n",
        "    plt.ylabel('Number of samples')\n",
        "    plt.title('Sample length distribution')\n",
        "    plt.show()"
      ],
      "execution_count": 10,
      "outputs": []
    },
    {
      "cell_type": "code",
      "metadata": {
        "colab": {
          "base_uri": "https://localhost:8080/",
          "height": 295
        },
        "id": "va7qUoJGTAFV",
        "outputId": "6ecdf076-01d5-4253-868e-f4f5a5c9e06f"
      },
      "source": [
        "# plot length distribution of sarcastic headlines\n",
        "plot_sample_length_distribution(groups.get_group(1))"
      ],
      "execution_count": 11,
      "outputs": [
        {
          "output_type": "display_data",
          "data": {
            "image/png": "[encoded data removed]",
            "text/plain": [
              "<Figure size 432x288 with 1 Axes>"
            ]
          },
          "metadata": {
            "needs_background": "light"
          }
        }
      ]
    },
    {
      "cell_type": "code",
      "metadata": {
        "colab": {
          "base_uri": "https://localhost:8080/",
          "height": 295
        },
        "id": "efR1MWJ1TBVW",
        "outputId": "6c8c4938-1560-484b-c49d-589019fd3545"
      },
      "source": [
        "# plot length distribution of nonsarcastic headlines\n",
        "plot_sample_length_distribution(groups.get_group(0))"
      ],
      "execution_count": 12,
      "outputs": [
        {
          "output_type": "display_data",
          "data": {
            "image/png": "[encoded data removed]",
            "text/plain": [
              "<Figure size 432x288 with 1 Axes>"
            ]
          },
          "metadata": {
            "needs_background": "light"
          }
        }
      ]
    },
    {
      "cell_type": "code",
      "metadata": {
        "id": "XbhbHHyZTCpm"
      },
      "source": [
        "def plot_frequency_distribution_of_ngrams(headlines,\n",
        "                                          ngram_range=(1, 2),\n",
        "                                          num_ngrams=50):\n",
        "    \"\"\"Plots the frequency distribution of n-grams.\n",
        "    # Arguments\n",
        "        headlines: pandas series, headlines.\n",
        "        ngram_range: tuple (min, mplt), The range of n-gram values to consider.\n",
        "            Min and mplt are the lower and upper bound values for the range.\n",
        "        num_ngrams: int, number of n-grams to plot.\n",
        "            Top `num_ngrams` frequent n-grams will be plotted.\n",
        "    \"\"\"\n",
        "    # Create args required for vectorizing.\n",
        "    kwargs = {\n",
        "            'ngram_range': (1, 1),\n",
        "            'dtype': 'int32',\n",
        "            'strip_accents': 'unicode',\n",
        "            'decode_error': 'replace',\n",
        "            'analyzer': 'word',  # Split text into word tokens.\n",
        "    }\n",
        "    vectorizer = CountVectorizer(**kwargs)\n",
        "\n",
        "    # This creates a vocabulary (dict, where keys are n-grams and values are\n",
        "    # idxices). This also converts every text to an array the length of\n",
        "    # vocabulary, where every element idxicates the count of the n-gram\n",
        "    # corresponding at that idxex in vocabulary.\n",
        "    vectorized_texts = vectorizer.fit_transform(headlines)\n",
        "\n",
        "    # This is the list of all n-grams in the index order from the vocabulary.\n",
        "    all_ngrams = list(vectorizer.get_feature_names())\n",
        "    num_ngrams = min(num_ngrams, len(all_ngrams))\n",
        "    # ngrams = all_ngrams[:num_ngrams]\n",
        "\n",
        "    # Add up the counts per n-gram ie. column-wise\n",
        "    all_counts = vectorized_texts.sum(axis=0).tolist()[0]\n",
        "\n",
        "    # Sort n-grams and counts by frequency and get top `num_ngrams` ngrams.\n",
        "    all_counts, all_ngrams = zip(*[(c, n) for c, n in sorted(\n",
        "        zip(all_counts, all_ngrams), reverse=True)])\n",
        "    ngrams = list(all_ngrams)[:num_ngrams]\n",
        "    counts = list(all_counts)[:num_ngrams]\n",
        "\n",
        "    idx = np.arange(num_ngrams)\n",
        "    plt.figure(figsize=(20,5))\n",
        "    plt.rcParams.update({'font.size': 15})\n",
        "    plt.bar(idx, counts, width=0.8, color='b')\n",
        "    plt.xlabel('N-grams')\n",
        "    plt.ylabel('Frequencies')\n",
        "    plt.title('Frequency distribution of n-grams')\n",
        "    plt.xticks(idx, ngrams, rotation=45)\n",
        "    plt.show()"
      ],
      "execution_count": 13,
      "outputs": []
    },
    {
      "cell_type": "code",
      "metadata": {
        "colab": {
          "base_uri": "https://localhost:8080/",
          "height": 218
        },
        "id": "oH0pY6skTGV_",
        "outputId": "d811e45a-e0bc-4298-b502-5a5954db5e2f"
      },
      "source": [
        "\n",
        "# plot ngram freq distribution of sarcastic headlines\n",
        "plot_frequency_distribution_of_ngrams(groups.get_group(1).headline)"
      ],
      "execution_count": 14,
      "outputs": [
        {
          "output_type": "display_data",
          "data": {
            "image/png": "[encoded data removed]",
            "text/plain": [
              "<Figure size 1440x360 with 1 Axes>"
            ]
          },
          "metadata": {
            "needs_background": "light"
          }
        }
      ]
    },
    {
      "cell_type": "code",
      "metadata": {
        "colab": {
          "base_uri": "https://localhost:8080/",
          "height": 218
        },
        "id": "1dtdQZ-YTHrJ",
        "outputId": "ff258040-7014-43da-849b-b2aedc2cde58"
      },
      "source": [
        "# plot ngram freq distribution of nonsarcastic headlines\n",
        "plot_frequency_distribution_of_ngrams(groups.get_group(0).headline)"
      ],
      "execution_count": 15,
      "outputs": [
        {
          "output_type": "display_data",
          "data": {
            "image/png": "[encoded data removed]",
            "text/plain": [
              "<Figure size 1440x360 with 1 Axes>"
            ]
          },
          "metadata": {
            "needs_background": "light"
          }
        }
      ]
    },
    {
      "cell_type": "markdown",
      "metadata": {
        "id": "2dsst8dmTKEv"
      },
      "source": [
        "# Data Preprocessing\n"
      ]
    },
    {
      "cell_type": "code",
      "metadata": {
        "colab": {
          "base_uri": "https://localhost:8080/"
        },
        "id": "U4X_qji-TIve",
        "outputId": "29975ef3-0bb2-41dc-88c3-3f4d42198eef"
      },
      "source": [
        "# number of samples/number of words per sample ratio\n",
        "print('Number of samples/number of words per sample ratio in sarcastic samples: ', \n",
        "      num_sarcastic/num_words_sarcastic)\n",
        "print('Number of samples/number of words per sample ratio in nonsarcastic samples: ', \n",
        "      num_nonsarcastic/num_words_nonsarcastic)"
      ],
      "execution_count": 16,
      "outputs": [
        {
          "output_type": "stream",
          "name": "stdout",
          "text": [
            "Number of samples/number of words per sample ratio in sarcastic samples:  1172.4\n",
            "Number of samples/number of words per sample ratio in nonsarcastic samples:  1498.5\n"
          ]
        }
      ]
    },
    {
      "cell_type": "code",
      "metadata": {
        "id": "0Ka_ZDkqTLuW"
      },
      "source": [
        "X = np.array(df.headline)\n",
        "y = np.array(df.is_sarcastic)\n",
        "train_texts, val_texts, train_labels, val_labels = train_test_split(X, y, test_size=0.2, random_state=8)"
      ],
      "execution_count": 17,
      "outputs": []
    },
    {
      "cell_type": "code",
      "metadata": {
        "id": "hdrzIVc6TOD-"
      },
      "source": [
        "# Vectorization parameters\n",
        "# Range (inclusive) of n-gram sizes for tokenizing text.\n",
        "NGRAM_RANGE = (1, 2)\n",
        "\n",
        "# Limit on the number of features. We use the top 20K features.\n",
        "TOP_K = 20000\n",
        "\n",
        "# Whether text should be split into word or character n-grams.\n",
        "# One of 'word', 'char'.\n",
        "TOKEN_MODE = 'word'\n",
        "\n",
        "# Minimum document/corpus frequency below which a token will be discarded.\n",
        "MIN_DOCUMENT_FREQUENCY = 2\n",
        "\n",
        "def ngram_vectorize(train_texts, train_labels, val_texts):\n",
        "    \"\"\"Vectorizes texts as n-gram vectors.\n",
        "\n",
        "    1 text = 1 tf-idf vector the length of vocabulary of unigrams + bigrams.\n",
        "\n",
        "    # Arguments\n",
        "        train_texts: list, training text strings.\n",
        "        train_labels: np.ndarray, training labels.\n",
        "        val_texts: list, validation text strings.\n",
        "\n",
        "    # Returns\n",
        "        x_train, x_val: vectorized training and validation texts\n",
        "    \"\"\"\n",
        "    # Create keyword arguments to pass to the 'tf-idf' vectorizer.\n",
        "    kwargs = {\n",
        "            'ngram_range': NGRAM_RANGE,  # Use 1-grams + 2-grams.\n",
        "            'dtype': 'int32',\n",
        "            'strip_accents': 'unicode',\n",
        "            'decode_error': 'replace',\n",
        "            'analyzer': TOKEN_MODE,  # Split text into word tokens.\n",
        "            'min_df': MIN_DOCUMENT_FREQUENCY,\n",
        "    }\n",
        "    vectorizer = TfidfVectorizer(**kwargs)\n",
        "\n",
        "    # Learn vocabulary from training texts and vectorize training texts.\n",
        "    x_train = vectorizer.fit_transform(train_texts)\n",
        "\n",
        "    # Vectorize validation texts.\n",
        "    x_val = vectorizer.transform(val_texts)\n",
        "\n",
        "    # Select top 'k' of the vectorized features.\n",
        "    selector = SelectKBest(f_classif, k=min(TOP_K, x_train.shape[1]))\n",
        "    selector.fit(x_train, train_labels)\n",
        "    x_train = selector.transform(x_train).astype('float32')\n",
        "    x_val = selector.transform(x_val).astype('float32')\n",
        "    return x_train, x_val"
      ],
      "execution_count": 18,
      "outputs": []
    },
    {
      "cell_type": "code",
      "metadata": {
        "colab": {
          "base_uri": "https://localhost:8080/"
        },
        "id": "y1dWVqAvTQLB",
        "outputId": "cdfa3c88-d964-4c2e-c33d-6d2ffdd64195"
      },
      "source": [
        "x_train, x_val = ngram_vectorize(train_texts, train_labels, val_texts)"
      ],
      "execution_count": 19,
      "outputs": [
        {
          "output_type": "stream",
          "name": "stderr",
          "text": [
            "/usr/local/lib/python3.7/dist-packages/sklearn/feature_extraction/text.py:1817: UserWarning: Only (<class 'numpy.float64'>, <class 'numpy.float32'>, <class 'numpy.float16'>) 'dtype' should be used. int32 'dtype' will be converted to np.float64.\n",
            "  UserWarning)\n"
          ]
        }
      ]
    },
    {
      "cell_type": "markdown",
      "metadata": {
        "id": "Cq2MJa63TSwp"
      },
      "source": [
        "# Training the Model\n"
      ]
    },
    {
      "cell_type": "markdown",
      "metadata": {
        "id": "N8tYuNTLTUUo"
      },
      "source": [
        "## Linear Support Vector Classification"
      ]
    },
    {
      "cell_type": "code",
      "metadata": {
        "colab": {
          "base_uri": "https://localhost:8080/"
        },
        "id": "SCQi-JV8TSBX",
        "outputId": "bb256b60-a5e3-4bda-a0e7-b8304003a00b"
      },
      "source": [
        "from sklearn import svm\n",
        "\n",
        "clf = svm.LinearSVC()\n",
        "clf.fit(x_train, train_labels)"
      ],
      "execution_count": 20,
      "outputs": [
        {
          "output_type": "execute_result",
          "data": {
            "text/plain": [
              "LinearSVC(C=1.0, class_weight=None, dual=True, fit_intercept=True,\n",
              "          intercept_scaling=1, loss='squared_hinge', max_iter=1000,\n",
              "          multi_class='ovr', penalty='l2', random_state=None, tol=0.0001,\n",
              "          verbose=0)"
            ]
          },
          "metadata": {},
          "execution_count": 20
        }
      ]
    },
    {
      "cell_type": "code",
      "metadata": {
        "colab": {
          "base_uri": "https://localhost:8080/"
        },
        "id": "cClYAmivTYFU",
        "outputId": "4c6f92dc-5640-432b-fd17-6a6113a6b041"
      },
      "source": [
        "from sklearn.metrics import accuracy_score\n",
        "\n",
        "val_pred = clf.predict(x_val)\n",
        "print('Accuracy:', accuracy_score(val_labels, val_pred))"
      ],
      "execution_count": 21,
      "outputs": [
        {
          "output_type": "stream",
          "name": "stdout",
          "text": [
            "Accuracy: 0.8584799700486709\n"
          ]
        }
      ]
    },
    {
      "cell_type": "code",
      "metadata": {
        "colab": {
          "base_uri": "https://localhost:8080/",
          "height": 289
        },
        "id": "pbHmW-u-TZNa",
        "outputId": "346a660e-43e9-4cb4-c0bd-65bfc468f567"
      },
      "source": [
        "from sklearn.metrics import plot_confusion_matrix\n",
        "\n",
        "plot_confusion_matrix(clf, x_val, val_labels, cmap='pink')  \n",
        "plt.show()"
      ],
      "execution_count": 22,
      "outputs": [
        {
          "output_type": "display_data",
          "data": {
            "image/png": "[encoded data removed]",
            "text/plain": [
              "<Figure size 432x288 with 2 Axes>"
            ]
          },
          "metadata": {
            "needs_background": "light"
          }
        }
      ]
    },
    {
      "cell_type": "markdown",
      "metadata": {
        "id": "ekrzogtCTdCp"
      },
      "source": [
        "## Complement Naive Bayes"
      ]
    },
    {
      "cell_type": "code",
      "metadata": {
        "colab": {
          "base_uri": "https://localhost:8080/"
        },
        "id": "xSn1unkeTa2o",
        "outputId": "940b3f16-ba29-45de-bb86-c49517cc6547"
      },
      "source": [
        "from sklearn.naive_bayes import ComplementNB\n",
        "\n",
        "clf = ComplementNB()\n",
        "clf.fit(x_train, train_labels)"
      ],
      "execution_count": 23,
      "outputs": [
        {
          "output_type": "execute_result",
          "data": {
            "text/plain": [
              "ComplementNB(alpha=1.0, class_prior=None, fit_prior=True, norm=False)"
            ]
          },
          "metadata": {},
          "execution_count": 23
        }
      ]
    },
    {
      "cell_type": "code",
      "metadata": {
        "colab": {
          "base_uri": "https://localhost:8080/",
          "height": 306
        },
        "id": "u3m3kqvZTeYZ",
        "outputId": "ed4f6c8e-8fce-4bcb-a27f-6d446b0347d9"
      },
      "source": [
        "val_pred = clf.predict(x_val)\n",
        "print('Accuracy:', accuracy_score(val_labels, val_pred))\n",
        "plot_confusion_matrix(clf, x_val, val_labels, cmap='pink')  \n",
        "plt.show()"
      ],
      "execution_count": 24,
      "outputs": [
        {
          "output_type": "stream",
          "name": "stdout",
          "text": [
            "Accuracy: 0.8532384874578809\n"
          ]
        },
        {
          "output_type": "display_data",
          "data": {
            "image/png": "[encoded data removed]",
            "text/plain": [
              "<Figure size 432x288 with 2 Axes>"
            ]
          },
          "metadata": {
            "needs_background": "light"
          }
        }
      ]
    },
    {
      "cell_type": "markdown",
      "metadata": {
        "id": "8bmYtngFTgt5"
      },
      "source": [
        "# Multilayer Perceptron"
      ]
    },
    {
      "cell_type": "code",
      "metadata": {
        "id": "QOkcuypkTfQb"
      },
      "source": [
        "import tensorflow as tf\n",
        "from tensorflow.keras import models\n",
        "from tensorflow.keras import layers\n",
        "from tensorflow.keras import regularizers"
      ],
      "execution_count": 25,
      "outputs": []
    },
    {
      "cell_type": "code",
      "metadata": {
        "colab": {
          "base_uri": "https://localhost:8080/"
        },
        "id": "4JBYbdchTiKR",
        "outputId": "a6b73cab-7989-462b-ac79-b3db7db0e695"
      },
      "source": [
        "model = models.Sequential([\n",
        "    layers.Dense(units=32, activation='relu', \n",
        "                 kernel_regularizer=regularizers.l2(0.001), \n",
        "                 input_shape=x_train.shape[1:]),\n",
        "    layers.Dropout(rate=0.5),\n",
        "    layers.Dense(units=32, activation='relu',\n",
        "                 kernel_regularizer=regularizers.l2(0.001)),\n",
        "    layers.Dropout(rate=0.5),\n",
        "    layers.Dense(units=1, activation='sigmoid')\n",
        "])\n",
        "\n",
        "model.summary()"
      ],
      "execution_count": 26,
      "outputs": [
        {
          "output_type": "stream",
          "name": "stdout",
          "text": [
            "Model: \"sequential\"\n",
            "_________________________________________________________________\n",
            "Layer (type)                 Output Shape              Param #   \n",
            "=================================================================\n",
            "dense (Dense)                (None, 32)                640032    \n",
            "_________________________________________________________________\n",
            "dropout (Dropout)            (None, 32)                0         \n",
            "_________________________________________________________________\n",
            "dense_1 (Dense)              (None, 32)                1056      \n",
            "_________________________________________________________________\n",
            "dropout_1 (Dropout)          (None, 32)                0         \n",
            "_________________________________________________________________\n",
            "dense_2 (Dense)              (None, 1)                 33        \n",
            "=================================================================\n",
            "Total params: 641,121\n",
            "Trainable params: 641,121\n",
            "Non-trainable params: 0\n",
            "_________________________________________________________________\n"
          ]
        }
      ]
    },
    {
      "cell_type": "code",
      "metadata": {
        "colab": {
          "base_uri": "https://localhost:8080/"
        },
        "id": "r8mb7MrlTqu2",
        "outputId": "261a0e39-a617-4b8d-fdc3-d04bea248275"
      },
      "source": [
        "optimizer = tf.keras.optimizers.Adam(lr=1e-3)\n",
        "model.compile(optimizer=optimizer, loss='binary_crossentropy', metrics=['acc'])"
      ],
      "execution_count": 27,
      "outputs": [
        {
          "output_type": "stream",
          "name": "stderr",
          "text": [
            "/usr/local/lib/python3.7/dist-packages/keras/optimizer_v2/optimizer_v2.py:356: UserWarning: The `lr` argument is deprecated, use `learning_rate` instead.\n",
            "  \"The `lr` argument is deprecated, use `learning_rate` instead.\")\n"
          ]
        }
      ]
    },
    {
      "cell_type": "code",
      "metadata": {
        "colab": {
          "base_uri": "https://localhost:8080/"
        },
        "id": "hjPJvvOkTsQ3",
        "outputId": "05cc0b1b-800d-4f92-82c4-d7b104f099c7"
      },
      "source": [
        "callbacks = [tf.keras.callbacks.EarlyStopping(monitor='val_loss', patience=1)]\n",
        "\n",
        "history = model.fit(\n",
        "    x_train,\n",
        "    train_labels,\n",
        "    epochs=100,\n",
        "    callbacks=callbacks,\n",
        "    validation_data=(x_val, val_labels),\n",
        "    verbose=2,\n",
        "    batch_size=512\n",
        ")"
      ],
      "execution_count": 28,
      "outputs": [
        {
          "output_type": "stream",
          "name": "stdout",
          "text": [
            "Epoch 1/100\n"
          ]
        },
        {
          "output_type": "stream",
          "name": "stderr",
          "text": [
            "/usr/local/lib/python3.7/dist-packages/tensorflow/python/framework/indexed_slices.py:449: UserWarning: Converting sparse IndexedSlices(IndexedSlices(indices=Tensor(\"gradient_tape/sequential/dense/embedding_lookup_sparse/Reshape_1:0\", shape=(None,), dtype=int32), values=Tensor(\"gradient_tape/sequential/dense/embedding_lookup_sparse/Reshape:0\", shape=(None, 32), dtype=float32), dense_shape=Tensor(\"gradient_tape/sequential/dense/embedding_lookup_sparse/Cast:0\", shape=(2,), dtype=int32))) to a dense Tensor of unknown shape. This may consume a large amount of memory.\n",
            "  \"shape. This may consume a large amount of memory.\" % value)\n"
          ]
        },
        {
          "output_type": "stream",
          "name": "stdout",
          "text": [
            "42/42 - 2s - loss: 0.7174 - acc: 0.5635 - val_loss: 0.6850 - val_acc: 0.5520\n",
            "Epoch 2/100\n",
            "42/42 - 1s - loss: 0.6519 - acc: 0.6598 - val_loss: 0.6142 - val_acc: 0.7265\n",
            "Epoch 3/100\n",
            "42/42 - 1s - loss: 0.5733 - acc: 0.8039 - val_loss: 0.5382 - val_acc: 0.8330\n",
            "Epoch 4/100\n",
            "42/42 - 1s - loss: 0.5034 - acc: 0.8605 - val_loss: 0.4945 - val_acc: 0.8523\n",
            "Epoch 5/100\n",
            "42/42 - 1s - loss: 0.4596 - acc: 0.8823 - val_loss: 0.4769 - val_acc: 0.8570\n",
            "Epoch 6/100\n",
            "42/42 - 1s - loss: 0.4289 - acc: 0.8980 - val_loss: 0.4713 - val_acc: 0.8587\n",
            "Epoch 7/100\n",
            "42/42 - 1s - loss: 0.4052 - acc: 0.9110 - val_loss: 0.4699 - val_acc: 0.8581\n",
            "Epoch 8/100\n",
            "42/42 - 1s - loss: 0.3944 - acc: 0.9177 - val_loss: 0.4772 - val_acc: 0.8579\n"
          ]
        }
      ]
    },
    {
      "cell_type": "code",
      "metadata": {
        "colab": {
          "base_uri": "https://localhost:8080/",
          "height": 270
        },
        "id": "HacVUMauTvVT",
        "outputId": "ca8c14f4-2fe9-44ff-9884-f3bac4a8951b"
      },
      "source": [
        "metrics = history.history\n",
        "plt.plot(history.epoch, metrics['loss'], metrics['val_loss'])\n",
        "plt.legend(['loss', 'val_loss'])\n",
        "plt.show()"
      ],
      "execution_count": 29,
      "outputs": [
        {
          "output_type": "display_data",
          "data": {
            "image/png": "[encoded data removed]",
            "text/plain": [
              "<Figure size 432x288 with 1 Axes>"
            ]
          },
          "metadata": {
            "needs_background": "light"
          }
        }
      ]
    },
    {
      "cell_type": "code",
      "metadata": {
        "colab": {
          "base_uri": "https://localhost:8080/",
          "height": 270
        },
        "id": "VWF9psqGTyJz",
        "outputId": "793881ca-66f8-4d58-d5e7-88942c838862"
      },
      "source": [
        "metrics = history.history\n",
        "plt.plot(history.epoch, metrics['acc'], metrics['val_acc'])\n",
        "plt.legend(['acc', 'val_acc'])\n",
        "plt.show()"
      ],
      "execution_count": 30,
      "outputs": [
        {
          "output_type": "display_data",
          "data": {
            "image/png": "[encoded data removed]",
            "text/plain": [
              "<Figure size 432x288 with 1 Axes>"
            ]
          },
          "metadata": {
            "needs_background": "light"
          }
        }
      ]
    },
    {
      "cell_type": "code",
      "metadata": {
        "colab": {
          "base_uri": "https://localhost:8080/",
          "height": 507
        },
        "id": "lXTHGsX0TzPS",
        "outputId": "dbfdd83f-bd94-4baa-a18c-21814599b057"
      },
      "source": [
        "# get model predictions for validation set\n",
        "val_pred = model.predict(x_val)\n",
        "val_pred = [1 if n >= 0.5 else 0 for n in val_pred]\n",
        "\n",
        "# confusion matrix for validation predictions\n",
        "confusion_mtx = tf.math.confusion_matrix(val_labels, val_pred, num_classes=2) \n",
        "plt.figure(figsize=(10, 8))\n",
        "sns.heatmap(confusion_mtx, annot=True, fmt='g')\n",
        "plt.xlabel('Prediction')\n",
        "plt.ylabel('Label')\n",
        "plt.show()"
      ],
      "execution_count": 31,
      "outputs": [
        {
          "output_type": "display_data",
          "data": {
            "image/png": "[encoded data removed]",
            "text/plain": [
              "<Figure size 720x576 with 2 Axes>"
            ]
          },
          "metadata": {
            "needs_background": "light"
          }
        }
      ]
    }
  ]
}