{
  "nbformat": 4,
  "nbformat_minor": 0,
  "metadata": {
    "colab": {
      "provenance": [],
      "authorship_tag": "ABX9TyPXZJbfSlB58XSo74SDi7Ll"
    },
    "kernelspec": {
      "name": "python3",
      "display_name": "Python 3"
    },
    "language_info": {
      "name": "python"
    }
  },
  "cells": [
    {
      "cell_type": "markdown",
      "source": [
        "[Reference](https://blog.devgenius.io/extract-text-from-pdf-using-python-d0f831b3245f)"
      ],
      "metadata": {
        "id": "8rN0QNI1RVRz"
      }
    },
    {
      "cell_type": "code",
      "execution_count": 1,
      "metadata": {
        "colab": {
          "base_uri": "https://localhost:8080/"
        },
        "id": "-zCCchQPQ9fb",
        "outputId": "5d7b1698-8a89-4b7d-aa97-8503465d51af"
      },
      "outputs": [
        {
          "output_type": "stream",
          "name": "stdout",
          "text": [
            "Looking in indexes: https://pypi.org/simple, https://us-python.pkg.dev/colab-wheels/public/simple/\n",
            "Collecting PyPDF2\n",
            "  Downloading pypdf2-3.0.1-py3-none-any.whl (232 kB)\n",
            "\u001b[2K     \u001b[90m━━━━━━━━━━━━━━━━━━━━━━━━━━━━━━━━━━━━━━━\u001b[0m \u001b[32m232.6/232.6 KB\u001b[0m \u001b[31m3.1 MB/s\u001b[0m eta \u001b[36m0:00:00\u001b[0m\n",
            "\u001b[?25hRequirement already satisfied: typing_extensions>=3.10.0.0 in /usr/local/lib/python3.8/dist-packages (from PyPDF2) (4.4.0)\n",
            "Installing collected packages: PyPDF2\n",
            "Successfully installed PyPDF2-3.0.1\n"
          ]
        }
      ],
      "source": [
        "pip install PyPDF2"
      ]
    },
    {
      "cell_type": "code",
      "source": [
        "from PyPDF2 import PdfFileReader\n",
        "\n",
        "#Define path to PDF file\n",
        "pdf_file_name = 'sample_file.pdf'\n",
        "\n",
        "#Open the file in binary mode for reading\n",
        "with open(pdf_file_name, 'rb') as pdf_file:\n",
        "    #Read the PDF file\n",
        "    pdf_reader = PdfFileReader(pdf_file)\n",
        "    #Get number of pages in the PDF file\n",
        "    page_nums = pdf_reader.numPages\n",
        "    #Iterate over each page number\n",
        "    for page_num in range(page_nums):\n",
        "        #Read the given PDF file page\n",
        "        page = pdf_reader.getPage(page_num)\n",
        "        #Extract text from the given PDF file page\n",
        "        text = page.extractText()\n",
        "        #Print text\n",
        "        print(text)"
      ],
      "metadata": {
        "id": "FmPPCaCORRvg"
      },
      "execution_count": 2,
      "outputs": []
    }
  ]
}