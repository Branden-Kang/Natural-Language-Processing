{
  "nbformat": 4,
  "nbformat_minor": 0,
  "metadata": {
    "colab": {
      "provenance": [],
      "authorship_tag": "ABX9TyPgdg3ZAuvBkoX7w3ojDdE+"
    },
    "kernelspec": {
      "name": "python3",
      "display_name": "Python 3"
    },
    "language_info": {
      "name": "python"
    }
  },
  "cells": [
    {
      "cell_type": "markdown",
      "source": [
        "[Reference](https://python.plainenglish.io/gpt4all-how-to-run-a-chatgpt-alternative-for-free-in-your-python-scripts-2a0a4754967c)"
      ],
      "metadata": {
        "id": "E0jUuMXx0YId"
      }
    },
    {
      "cell_type": "code",
      "execution_count": 1,
      "metadata": {
        "colab": {
          "base_uri": "https://localhost:8080/"
        },
        "id": "w5cO2lDN0U-y",
        "outputId": "2df94329-e88f-4ed1-b084-2e6fb8dd724d"
      },
      "outputs": [
        {
          "output_type": "stream",
          "name": "stdout",
          "text": [
            "Looking in indexes: https://pypi.org/simple, https://us-python.pkg.dev/colab-wheels/public/simple/\n",
            "Collecting gpt4all\n",
            "  Downloading gpt4all-0.2.3-py3-none-manylinux1_x86_64.whl (329 kB)\n",
            "\u001b[2K     \u001b[90m━━━━━━━━━━━━━━━━━━━━━━━━━━━━━━━━━━━━━━━\u001b[0m \u001b[32m329.1/329.1 kB\u001b[0m \u001b[31m5.9 MB/s\u001b[0m eta \u001b[36m0:00:00\u001b[0m\n",
            "\u001b[?25hRequirement already satisfied: requests in /usr/local/lib/python3.10/dist-packages (from gpt4all) (2.27.1)\n",
            "Requirement already satisfied: tqdm in /usr/local/lib/python3.10/dist-packages (from gpt4all) (4.65.0)\n",
            "Requirement already satisfied: urllib3<1.27,>=1.21.1 in /usr/local/lib/python3.10/dist-packages (from requests->gpt4all) (1.26.15)\n",
            "Requirement already satisfied: certifi>=2017.4.17 in /usr/local/lib/python3.10/dist-packages (from requests->gpt4all) (2022.12.7)\n",
            "Requirement already satisfied: charset-normalizer~=2.0.0 in /usr/local/lib/python3.10/dist-packages (from requests->gpt4all) (2.0.12)\n",
            "Requirement already satisfied: idna<4,>=2.5 in /usr/local/lib/python3.10/dist-packages (from requests->gpt4all) (3.4)\n",
            "Installing collected packages: gpt4all\n",
            "Successfully installed gpt4all-0.2.3\n"
          ]
        }
      ],
      "source": [
        "pip install gpt4all"
      ]
    },
    {
      "cell_type": "code",
      "source": [
        "import gpt4all"
      ],
      "metadata": {
        "id": "du2-suuN0a4X"
      },
      "execution_count": 2,
      "outputs": []
    },
    {
      "cell_type": "code",
      "source": [
        "gptj = gpt4all.GPT4All(\n",
        "    model_name=\"ggml-gpt4all-j-v1.3-groovy\"\n",
        ")"
      ],
      "metadata": {
        "colab": {
          "base_uri": "https://localhost:8080/"
        },
        "id": "0JI_dkOc0csR",
        "outputId": "463e47e0-b972-44da-b79c-8f9cbae54d8c"
      },
      "execution_count": 3,
      "outputs": [
        {
          "output_type": "stream",
          "name": "stderr",
          "text": [
            "100%|██████████| 3.79G/3.79G [01:13<00:00, 51.2MiB/s]\n"
          ]
        },
        {
          "output_type": "stream",
          "name": "stdout",
          "text": [
            "Model downloaded at: /root/.cache/gpt4all/ggml-gpt4all-j-v1.3-groovy.bin\n"
          ]
        }
      ]
    },
    {
      "cell_type": "code",
      "source": [
        "messages = [{\"role\": \"user\", \"content\": \"Write a poem about Data Science\"}]\n",
        "\n",
        "res = gptj.chat_completion(messages)\n",
        "res"
      ],
      "metadata": {
        "colab": {
          "base_uri": "https://localhost:8080/"
        },
        "id": "8ePCyr3C0c4k",
        "outputId": "5b5cd608-905c-41fb-9722-bd9945c9c962"
      },
      "execution_count": 4,
      "outputs": [
        {
          "output_type": "stream",
          "name": "stdout",
          "text": [
            "### Instruction: \n",
            "            The prompt below is a question to answer, a task to complete, or a conversation \n",
            "            to respond to; decide which and write an appropriate response.\n",
            "            \n",
            "### Prompt: \n",
            "Write a poem about Data Science\n",
            "### Response:\n",
            " Data science is a field that's always changing, It involves the study of data and its arrangement. It's a field that requires knowledge and skill, And it's a field that can make you feel like an ill. Data science is a field that's always evolving, It involves the study of data and its evolution. It's a field that requires knowledge and skill, And it's a field that can make you feel like an ill. Data science is a field that's always changing, It involves the study of data and its changing.\n"
          ]
        },
        {
          "output_type": "execute_result",
          "data": {
            "text/plain": [
              "{'model': 'ggml-gpt4all-j-v1.3-groovy',\n",
              " 'usage': {'prompt_tokens': 257,\n",
              "  'completion_tokens': 494,\n",
              "  'total_tokens': 751},\n",
              " 'choices': [{'message': {'role': 'assistant',\n",
              "    'content': \" Data science is a field that's always changing, It involves the study of data and its arrangement. It's a field that requires knowledge and skill, And it's a field that can make you feel like an ill. Data science is a field that's always evolving, It involves the study of data and its evolution. It's a field that requires knowledge and skill, And it's a field that can make you feel like an ill. Data science is a field that's always changing, It involves the study of data and its changing.\"}}]}"
            ]
          },
          "metadata": {},
          "execution_count": 4
        }
      ]
    },
    {
      "cell_type": "code",
      "source": [
        "print(res[\"choices\"][0][\"message\"][\"content\"])"
      ],
      "metadata": {
        "colab": {
          "base_uri": "https://localhost:8080/"
        },
        "id": "X6TBpl2U0elc",
        "outputId": "3381eaeb-1108-4766-c94f-1f42e457e6bd"
      },
      "execution_count": 5,
      "outputs": [
        {
          "output_type": "stream",
          "name": "stdout",
          "text": [
            " Data science is a field that's always changing, It involves the study of data and its arrangement. It's a field that requires knowledge and skill, And it's a field that can make you feel like an ill. Data science is a field that's always evolving, It involves the study of data and its evolution. It's a field that requires knowledge and skill, And it's a field that can make you feel like an ill. Data science is a field that's always changing, It involves the study of data and its changing.\n"
          ]
        }
      ]
    },
    {
      "cell_type": "code",
      "source": [
        "messages = [{\"role\": \"user\", \"content\": \"What is linear regression?\"}]\n",
        "\n",
        "res = gptj.chat_completion(messages)"
      ],
      "metadata": {
        "id": "jiHvfbBI0gSj"
      },
      "execution_count": null,
      "outputs": []
    }
  ]
}