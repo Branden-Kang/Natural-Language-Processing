{
  "nbformat": 4,
  "nbformat_minor": 0,
  "metadata": {
    "colab": {
      "name": "How to find similarity between items in your data.ipynb",
      "provenance": [],
      "authorship_tag": "ABX9TyMgzzTasC5HUKUdD23AKTRC"
    },
    "kernelspec": {
      "name": "python3",
      "display_name": "Python 3"
    },
    "language_info": {
      "name": "python"
    }
  },
  "cells": [
    {
      "cell_type": "markdown",
      "source": [
        "[Reference](https://aravind-krishnan.medium.com/how-to-find-similarity-within-items-in-your-data-e231b2c56637)"
      ],
      "metadata": {
        "id": "0uTC6xKW9FdA"
      }
    },
    {
      "cell_type": "markdown",
      "source": [
        "# Jaccard Similarity"
      ],
      "metadata": {
        "id": "JSVlS9OR9ije"
      }
    },
    {
      "cell_type": "markdown",
      "source": [
        "![jaccard](https://miro.medium.com/max/1010/1*pqectE2PvT-Yy1d6L-Yx0A.png)"
      ],
      "metadata": {
        "id": "aBtwZ63x9kNH"
      }
    },
    {
      "cell_type": "code",
      "execution_count": 1,
      "metadata": {
        "colab": {
          "base_uri": "https://localhost:8080/"
        },
        "id": "uqBW5rQv8qWk",
        "outputId": "d43e138f-0f72-4963-dd2e-a9ff9dd1cc04"
      },
      "outputs": [
        {
          "output_type": "stream",
          "name": "stdout",
          "text": [
            "********************************\n",
            "First set:  {'python', 'golang', 'rust', 'java'}\n",
            "Second set:  {'python', 'rust', 'cpp', 'golang'}\n",
            "********************************\n",
            "Number of elements intersecting:  3\n",
            "Number of elements in the union:  5\n",
            "Jaccard Similarity:  0.6\n"
          ]
        }
      ],
      "source": [
        "def jaccard_Similarity(set_1,set_2):\n",
        "    # finding the intersection of the two sets\n",
        "    intersection=len(set_1.intersection(set_2))\n",
        "    print(\"Number of elements intersecting: \",intersection)\n",
        "    # finding the union of the two sets\n",
        "    union=len(set_1.union(set_2)) \n",
        "    print(\"Number of elements in the union: \",union)\n",
        "    return float(intersection)/union\n",
        "   \n",
        "def calculate():\n",
        "    print(\"********************************\")\n",
        "    # displaying elements of sets\n",
        "    print(\"First set: \", set_1) \n",
        "    print(\"Second set: \", set_2)\n",
        "    print(\"********************************\")\n",
        "    # calculating Jaccard Similarity\n",
        "    js=jaccard_Similarity(set_1,set_2) \n",
        "    # rounding up the value and printing the result\n",
        "    print(\"Jaccard Similarity: \", round(js,2))\n",
        "    \n",
        "set_1={\"java\",\"rust\",\"python\",\"golang\"}\n",
        "set_2={\"rust\",\"cpp\",\"python\",\"golang\"}\n",
        "calculate() # running the code"
      ]
    },
    {
      "cell_type": "markdown",
      "source": [
        "# Shingling"
      ],
      "metadata": {
        "id": "RR85Q0im9nST"
      }
    },
    {
      "cell_type": "code",
      "source": [
        "import re\n",
        "def shingling(text,k):\n",
        "    text=text.replace(\" \",\"\") # replace blank space\n",
        "    output=[]\n",
        "    shingle=\"\"\n",
        "    for i in range(len(text)):\n",
        "        if i+k<=len(text):\n",
        "            shingle=text[i:i+k]\n",
        "        else:\n",
        "            shingle=text[i:]\n",
        "            rem=k-len(shingle)\n",
        "            shingle=shingle+text[:rem]\n",
        "        output.append(shingle)          \n",
        "    return output\n",
        "text=\"The sky is blue\" \n",
        "k=3 # number of characters in each shingle\n",
        "print(text)\n",
        "print(set(shingling(text,k)))"
      ],
      "metadata": {
        "colab": {
          "base_uri": "https://localhost:8080/"
        },
        "id": "9pi3AobM9gPi",
        "outputId": "9b7c906d-2183-4db0-afbc-da97efb1defe"
      },
      "execution_count": 2,
      "outputs": [
        {
          "output_type": "stream",
          "name": "stdout",
          "text": [
            "The sky is blue\n",
            "{'lue', 'ueT', 'kyi', 'eTh', 'sky', 'blu', 'sbl', 'esk', 'hes', 'yis', 'isb', 'The'}\n"
          ]
        }
      ]
    },
    {
      "cell_type": "code",
      "source": [
        "def word_shingling(text,k):\n",
        "    list_of_words=text.split(\" \")\n",
        "    output=[]\n",
        "    for i in range(len(list_of_words)):\n",
        "        if i+k<len(list_of_words):\n",
        "            shingle= \" \".join(list_of_words[i:i+k])\n",
        "        else:\n",
        "            temp=list_of_words[i:]\n",
        "            rem=k-len(temp)\n",
        "            shingle=\" \".join(temp+list_of_words[:rem])\n",
        "        output.append(shingle)         \n",
        "    return output\n",
        "    \n",
        "text=\"The sky is blue\" \n",
        "k=3 # number of characters in each shingle\n",
        "print(text)\n",
        "print(set(word_shingling(text,k)))"
      ],
      "metadata": {
        "colab": {
          "base_uri": "https://localhost:8080/"
        },
        "id": "NFUOZQmJ9pCQ",
        "outputId": "eaa6ea68-d3b5-4dc9-cb90-0731b8b18689"
      },
      "execution_count": 3,
      "outputs": [
        {
          "output_type": "stream",
          "name": "stdout",
          "text": [
            "The sky is blue\n",
            "{'sky is blue', 'is blue The', 'blue The sky', 'The sky is'}\n"
          ]
        }
      ]
    }
  ]
}