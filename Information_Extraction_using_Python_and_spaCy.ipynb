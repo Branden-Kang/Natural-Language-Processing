{
  "nbformat": 4,
  "nbformat_minor": 0,
  "metadata": {
    "colab": {
      "name": "Information Extraction using Python and spaCy.ipynb",
      "provenance": [],
      "authorship_tag": "ABX9TyNi7F6sVvjg1T4VsjySswtX"
    },
    "kernelspec": {
      "name": "python3",
      "display_name": "Python 3"
    }
  },
  "cells": [
    {
      "cell_type": "markdown",
      "metadata": {
        "id": "KdTcgNEquFgE",
        "colab_type": "text"
      },
      "source": [
        "# Information Extraction using Python and spaCy\n",
        "- [Reference](https://www.analyticsvidhya.com/blog/2019/09/introduction-information-extraction-python-spacy/?utm_source=blog&utm_medium=how-to-build-knowledge-graph-text-using-spacy)"
      ]
    },
    {
      "cell_type": "markdown",
      "metadata": {
        "id": "RWA97IHavNe6",
        "colab_type": "text"
      },
      "source": [
        "# 1. spaCy’s Rule-Based Matching"
      ]
    },
    {
      "cell_type": "code",
      "metadata": {
        "id": "hek-OwU_t1Y6",
        "colab_type": "code",
        "colab": {}
      },
      "source": [
        "import re \n",
        "import string \n",
        "import nltk \n",
        "import spacy \n",
        "import pandas as pd \n",
        "import numpy as np \n",
        "import math \n",
        "from tqdm import tqdm \n",
        "\n",
        "from spacy.matcher import Matcher \n",
        "from spacy.tokens import Span \n",
        "from spacy import displacy \n",
        "\n",
        "pd.set_option('display.max_colwidth', 200)"
      ],
      "execution_count": 0,
      "outputs": []
    },
    {
      "cell_type": "code",
      "metadata": {
        "id": "8oNiLv2auTrj",
        "colab_type": "code",
        "colab": {}
      },
      "source": [
        "# load spaCy model\n",
        "nlp = spacy.load(\"en_core_web_sm\")"
      ],
      "execution_count": 0,
      "outputs": []
    },
    {
      "cell_type": "markdown",
      "metadata": {
        "id": "UT1mNrsXu6tk",
        "colab_type": "text"
      },
      "source": [
        "# Pattern: X such as Y"
      ]
    },
    {
      "cell_type": "code",
      "metadata": {
        "id": "0jeW8-CPuVxM",
        "colab_type": "code",
        "colab": {}
      },
      "source": [
        "# sample text \n",
        "text = \"GDP in developing countries such as Vietnam will continue growing at a high rate.\" \n",
        "\n",
        "# create a spaCy object \n",
        "doc = nlp(text)"
      ],
      "execution_count": 0,
      "outputs": []
    },
    {
      "cell_type": "code",
      "metadata": {
        "id": "fmo8HR7CuXzR",
        "colab_type": "code",
        "colab": {
          "base_uri": "https://localhost:8080/",
          "height": 272
        },
        "outputId": "8c293729-da10-46e8-cd3f-691eef973932"
      },
      "source": [
        "# print token, dependency, POS tag \n",
        "for tok in doc: \n",
        "  print(tok.text, \"-->\",tok.dep_,\"-->\", tok.pos_)"
      ],
      "execution_count": 4,
      "outputs": [
        {
          "output_type": "stream",
          "text": [
            "GDP --> nsubj --> NOUN\n",
            "in --> prep --> ADP\n",
            "developing --> amod --> VERB\n",
            "countries --> pobj --> NOUN\n",
            "such --> amod --> ADJ\n",
            "as --> prep --> SCONJ\n",
            "Vietnam --> pobj --> PROPN\n",
            "will --> aux --> VERB\n",
            "continue --> ROOT --> VERB\n",
            "growing --> xcomp --> VERB\n",
            "at --> prep --> ADP\n",
            "a --> det --> DET\n",
            "high --> amod --> ADJ\n",
            "rate --> pobj --> NOUN\n",
            ". --> punct --> PUNCT\n"
          ],
          "name": "stdout"
        }
      ]
    },
    {
      "cell_type": "code",
      "metadata": {
        "id": "kqr5qwGouabh",
        "colab_type": "code",
        "colab": {}
      },
      "source": [
        "#define the pattern \n",
        "pattern = [{'POS':'NOUN'}, \n",
        "           {'LOWER': 'such'}, \n",
        "           {'LOWER': 'as'}, \n",
        "           {'POS': 'PROPN'} ]"
      ],
      "execution_count": 0,
      "outputs": []
    },
    {
      "cell_type": "code",
      "metadata": {
        "id": "pp4VVr-Zud2h",
        "colab_type": "code",
        "colab": {
          "base_uri": "https://localhost:8080/",
          "height": 34
        },
        "outputId": "3d7c0447-b887-4b6b-d3a6-5c7588e4cd3d"
      },
      "source": [
        "# Matcher class object \n",
        "matcher = Matcher(nlp.vocab) \n",
        "matcher.add(\"matching_1\", None, pattern) \n",
        "\n",
        "matches = matcher(doc) \n",
        "span = doc[matches[0][1]:matches[0][2]] \n",
        "\n",
        "print(span.text)"
      ],
      "execution_count": 7,
      "outputs": [
        {
          "output_type": "stream",
          "text": [
            "countries such as Vietnam\n"
          ],
          "name": "stdout"
        }
      ]
    },
    {
      "cell_type": "code",
      "metadata": {
        "id": "oY4omPpNuhTp",
        "colab_type": "code",
        "colab": {
          "base_uri": "https://localhost:8080/",
          "height": 34
        },
        "outputId": "0a555310-d5b3-4022-e4a3-a303d963e064"
      },
      "source": [
        "# Matcher class object\n",
        "matcher = Matcher(nlp.vocab)\n",
        "\n",
        "#define the pattern\n",
        "pattern = [{'DEP':'amod', 'OP':\"?\"}, # adjectival modifier\n",
        "           {'POS':'NOUN'},\n",
        "           {'LOWER': 'such'},\n",
        "           {'LOWER': 'as'},\n",
        "           {'POS': 'PROPN'}]\n",
        "\n",
        "matcher.add(\"matching_1\", None, pattern)\n",
        "matches = matcher(doc)\n",
        "\n",
        "span = doc[matches[0][1]:matches[0][2]]\n",
        "print(span.text)"
      ],
      "execution_count": 8,
      "outputs": [
        {
          "output_type": "stream",
          "text": [
            "developing countries such as Vietnam\n"
          ],
          "name": "stdout"
        }
      ]
    },
    {
      "cell_type": "markdown",
      "metadata": {
        "id": "01TTDhAou4F_",
        "colab_type": "text"
      },
      "source": [
        "# Pattern: X and/or Y"
      ]
    },
    {
      "cell_type": "code",
      "metadata": {
        "id": "WyC8Mn-IukmD",
        "colab_type": "code",
        "colab": {
          "base_uri": "https://localhost:8080/",
          "height": 238
        },
        "outputId": "8087ff75-8437-4b67-e04f-95275d0d1cd0"
      },
      "source": [
        "doc = nlp(\"Here is how you can keep your car and other vehicles clean.\") \n",
        "\n",
        "# print dependency tags and POS tags\n",
        "for tok in doc: \n",
        "  print(tok.text, \"-->\",tok.dep_, \"-->\",tok.pos_)"
      ],
      "execution_count": 9,
      "outputs": [
        {
          "output_type": "stream",
          "text": [
            "Here --> advmod --> ADV\n",
            "is --> ROOT --> AUX\n",
            "how --> advmod --> ADV\n",
            "you --> nsubj --> PRON\n",
            "can --> aux --> VERB\n",
            "keep --> ccomp --> VERB\n",
            "your --> poss --> DET\n",
            "car --> dobj --> NOUN\n",
            "and --> cc --> CCONJ\n",
            "other --> amod --> ADJ\n",
            "vehicles --> conj --> NOUN\n",
            "clean --> oprd --> ADJ\n",
            ". --> punct --> PUNCT\n"
          ],
          "name": "stdout"
        }
      ]
    },
    {
      "cell_type": "code",
      "metadata": {
        "id": "VjNW7P6aunB_",
        "colab_type": "code",
        "colab": {
          "base_uri": "https://localhost:8080/",
          "height": 34
        },
        "outputId": "27c78bd7-256d-46ed-f0b1-2f3a2f164aec"
      },
      "source": [
        "# Matcher class object \n",
        "matcher = Matcher(nlp.vocab) \n",
        "\n",
        "#define the pattern \n",
        "pattern = [{'DEP':'amod', 'OP':\"?\"}, \n",
        "           {'POS':'NOUN'}, \n",
        "           {'LOWER': 'and', 'OP':\"?\"}, \n",
        "           {'LOWER': 'or', 'OP':\"?\"}, \n",
        "           {'LOWER': 'other'}, \n",
        "           {'POS': 'NOUN'}] \n",
        "           \n",
        "matcher.add(\"matching_1\", None, pattern) \n",
        "\n",
        "matches = matcher(doc) \n",
        "span = doc[matches[0][1]:matches[0][2]] \n",
        "print(span.text)"
      ],
      "execution_count": 10,
      "outputs": [
        {
          "output_type": "stream",
          "text": [
            "car and other vehicles\n"
          ],
          "name": "stdout"
        }
      ]
    },
    {
      "cell_type": "code",
      "metadata": {
        "id": "xPwIX11nusCY",
        "colab_type": "code",
        "colab": {}
      },
      "source": [
        "# replaced 'and' with 'or'\n",
        "doc = nlp(\"Here is how you can keep your car or other vehicles clean.\")"
      ],
      "execution_count": 0,
      "outputs": []
    },
    {
      "cell_type": "code",
      "metadata": {
        "id": "slwxLeEbuvyG",
        "colab_type": "code",
        "colab": {
          "base_uri": "https://localhost:8080/",
          "height": 34
        },
        "outputId": "e7aa1090-bc54-4e5d-8d55-ccd35e35463f"
      },
      "source": [
        "# Matcher class object \n",
        "matcher = Matcher(nlp.vocab) \n",
        "\n",
        "#define the pattern \n",
        "pattern = [{'DEP':'amod', 'OP':\"?\"}, \n",
        "           {'POS':'NOUN'}, \n",
        "           {'LOWER': 'and', 'OP':\"?\"}, \n",
        "           {'LOWER': 'or', 'OP':\"?\"}, \n",
        "           {'LOWER': 'other'}, \n",
        "           {'POS': 'NOUN'}] \n",
        "           \n",
        "matcher.add(\"matching_1\", None, pattern) \n",
        "\n",
        "matches = matcher(doc) \n",
        "span = doc[matches[0][1]:matches[0][2]] \n",
        "print(span.text)"
      ],
      "execution_count": 12,
      "outputs": [
        {
          "output_type": "stream",
          "text": [
            "car or other vehicles\n"
          ],
          "name": "stdout"
        }
      ]
    },
    {
      "cell_type": "markdown",
      "metadata": {
        "id": "hSPVQi7Mu0w-",
        "colab_type": "text"
      },
      "source": [
        "# Pattern: X, including Y"
      ]
    },
    {
      "cell_type": "code",
      "metadata": {
        "id": "0g6BQ4sPuxwj",
        "colab_type": "code",
        "colab": {
          "base_uri": "https://localhost:8080/",
          "height": 221
        },
        "outputId": "2a442025-7705-450b-b7e5-8f87df72bd5e"
      },
      "source": [
        "doc = nlp(\"Eight people, including two children, were injured in the explosion\") \n",
        "\n",
        "for tok in doc: \n",
        "  print(tok.text, \"-->\",tok.dep_, \"-->\",tok.pos_)"
      ],
      "execution_count": 13,
      "outputs": [
        {
          "output_type": "stream",
          "text": [
            "Eight --> nummod --> NUM\n",
            "people --> nsubjpass --> NOUN\n",
            ", --> punct --> PUNCT\n",
            "including --> prep --> VERB\n",
            "two --> nummod --> NUM\n",
            "children --> pobj --> NOUN\n",
            ", --> punct --> PUNCT\n",
            "were --> auxpass --> AUX\n",
            "injured --> ROOT --> VERB\n",
            "in --> prep --> ADP\n",
            "the --> det --> DET\n",
            "explosion --> pobj --> NOUN\n"
          ],
          "name": "stdout"
        }
      ]
    },
    {
      "cell_type": "code",
      "metadata": {
        "id": "Y09mqPl8uzpq",
        "colab_type": "code",
        "colab": {
          "base_uri": "https://localhost:8080/",
          "height": 34
        },
        "outputId": "fa0537a0-ca31-4c27-8dc7-dd89e04270ce"
      },
      "source": [
        "# Matcher class object \n",
        "matcher = Matcher(nlp.vocab) \n",
        "\n",
        "#define the pattern \n",
        "pattern = [{'DEP':'nummod','OP':\"?\"}, # numeric modifier \n",
        "           {'DEP':'amod','OP':\"?\"}, # adjectival modifier \n",
        "           {'POS':'NOUN'}, \n",
        "           {'IS_PUNCT': True}, \n",
        "           {'LOWER': 'including'}, \n",
        "           {'DEP':'nummod','OP':\"?\"}, \n",
        "           {'DEP':'amod','OP':\"?\"}, \n",
        "           {'POS':'NOUN'}] \n",
        "                               \n",
        "matcher.add(\"matching_1\", None, pattern) \n",
        "\n",
        "matches = matcher(doc) \n",
        "span = doc[matches[0][1]:matches[0][2]] \n",
        "print(span.text)"
      ],
      "execution_count": 14,
      "outputs": [
        {
          "output_type": "stream",
          "text": [
            "Eight people, including two children\n"
          ],
          "name": "stdout"
        }
      ]
    },
    {
      "cell_type": "markdown",
      "metadata": {
        "id": "5tkKydJivBD-",
        "colab_type": "text"
      },
      "source": [
        "# Pattern: X, especially Y"
      ]
    },
    {
      "cell_type": "code",
      "metadata": {
        "id": "XxGJD7aXu_Cr",
        "colab_type": "code",
        "colab": {
          "base_uri": "https://localhost:8080/",
          "height": 204
        },
        "outputId": "961a2272-2d20-4f60-8ce8-96ecf2b93f11"
      },
      "source": [
        "doc = nlp(\"A healthy eating pattern includes fruits, especially whole fruits.\") \n",
        "\n",
        "for tok in doc: \n",
        "  print(tok.text,  \"-->\", tok.dep_,  \"-->\", tok.pos_)"
      ],
      "execution_count": 16,
      "outputs": [
        {
          "output_type": "stream",
          "text": [
            "A --> det --> DET\n",
            "healthy --> amod --> ADJ\n",
            "eating --> amod --> VERB\n",
            "pattern --> nsubj --> NOUN\n",
            "includes --> ROOT --> VERB\n",
            "fruits --> dobj --> NOUN\n",
            ", --> punct --> PUNCT\n",
            "especially --> advmod --> ADV\n",
            "whole --> amod --> ADJ\n",
            "fruits --> appos --> NOUN\n",
            ". --> punct --> PUNCT\n"
          ],
          "name": "stdout"
        }
      ]
    },
    {
      "cell_type": "code",
      "metadata": {
        "id": "1AF-4cM3vCjh",
        "colab_type": "code",
        "colab": {
          "base_uri": "https://localhost:8080/",
          "height": 34
        },
        "outputId": "751327e9-0282-4f3c-af9d-66886cced05f"
      },
      "source": [
        "# Matcher class object \n",
        "matcher = Matcher(nlp.vocab)\n",
        "\n",
        "#define the pattern \n",
        "pattern = [{'DEP':'nummod','OP':\"?\"}, \n",
        "           {'DEP':'amod','OP':\"?\"}, \n",
        "           {'POS':'NOUN'}, \n",
        "           {'IS_PUNCT':True}, \n",
        "           {'LOWER': 'especially'}, \n",
        "           {'DEP':'nummod','OP':\"?\"}, \n",
        "           {'DEP':'amod','OP':\"?\"}, \n",
        "           {'POS':'NOUN'}] \n",
        "           \n",
        "matcher.add(\"matching_1\", None, pattern) \n",
        "\n",
        "matches = matcher(doc) \n",
        "span = doc[matches[0][1]:matches[0][2]] \n",
        "print(span.text)"
      ],
      "execution_count": 17,
      "outputs": [
        {
          "output_type": "stream",
          "text": [
            "fruits, especially whole fruits\n"
          ],
          "name": "stdout"
        }
      ]
    },
    {
      "cell_type": "markdown",
      "metadata": {
        "id": "s36dWI7TvQFy",
        "colab_type": "text"
      },
      "source": [
        "# 2. Subtree Matching for Relation Extraction"
      ]
    },
    {
      "cell_type": "code",
      "metadata": {
        "id": "-lRGdI7DvKCq",
        "colab_type": "code",
        "colab": {
          "base_uri": "https://localhost:8080/",
          "height": 440
        },
        "outputId": "e36fcbe6-678b-4693-dd30-39bbc825d896"
      },
      "source": [
        "text = \"Tableau was recently acquired by Salesforce.\" \n",
        "\n",
        "# Plot the dependency graph \n",
        "doc = nlp(text) \n",
        "displacy.render(doc, style='dep',jupyter=True)"
      ],
      "execution_count": 18,
      "outputs": [
        {
          "output_type": "display_data",
          "data": {
            "text/html": [
              "<span class=\"tex2jax_ignore\"><svg xmlns=\"http://www.w3.org/2000/svg\" xmlns:xlink=\"http://www.w3.org/1999/xlink\" xml:lang=\"en\" id=\"9385971aa5d14b2f9aafb0a7e4181537-0\" class=\"displacy\" width=\"1100\" height=\"399.5\" direction=\"ltr\" style=\"max-width: none; height: 399.5px; color: #000000; background: #ffffff; font-family: Arial; direction: ltr\">\n",
              "<text class=\"displacy-token\" fill=\"currentColor\" text-anchor=\"middle\" y=\"309.5\">\n",
              "    <tspan class=\"displacy-word\" fill=\"currentColor\" x=\"50\">Tableau</tspan>\n",
              "    <tspan class=\"displacy-tag\" dy=\"2em\" fill=\"currentColor\" x=\"50\">PROPN</tspan>\n",
              "</text>\n",
              "\n",
              "<text class=\"displacy-token\" fill=\"currentColor\" text-anchor=\"middle\" y=\"309.5\">\n",
              "    <tspan class=\"displacy-word\" fill=\"currentColor\" x=\"225\">was</tspan>\n",
              "    <tspan class=\"displacy-tag\" dy=\"2em\" fill=\"currentColor\" x=\"225\">AUX</tspan>\n",
              "</text>\n",
              "\n",
              "<text class=\"displacy-token\" fill=\"currentColor\" text-anchor=\"middle\" y=\"309.5\">\n",
              "    <tspan class=\"displacy-word\" fill=\"currentColor\" x=\"400\">recently</tspan>\n",
              "    <tspan class=\"displacy-tag\" dy=\"2em\" fill=\"currentColor\" x=\"400\">ADV</tspan>\n",
              "</text>\n",
              "\n",
              "<text class=\"displacy-token\" fill=\"currentColor\" text-anchor=\"middle\" y=\"309.5\">\n",
              "    <tspan class=\"displacy-word\" fill=\"currentColor\" x=\"575\">acquired</tspan>\n",
              "    <tspan class=\"displacy-tag\" dy=\"2em\" fill=\"currentColor\" x=\"575\">VERB</tspan>\n",
              "</text>\n",
              "\n",
              "<text class=\"displacy-token\" fill=\"currentColor\" text-anchor=\"middle\" y=\"309.5\">\n",
              "    <tspan class=\"displacy-word\" fill=\"currentColor\" x=\"750\">by</tspan>\n",
              "    <tspan class=\"displacy-tag\" dy=\"2em\" fill=\"currentColor\" x=\"750\">ADP</tspan>\n",
              "</text>\n",
              "\n",
              "<text class=\"displacy-token\" fill=\"currentColor\" text-anchor=\"middle\" y=\"309.5\">\n",
              "    <tspan class=\"displacy-word\" fill=\"currentColor\" x=\"925\">Salesforce.</tspan>\n",
              "    <tspan class=\"displacy-tag\" dy=\"2em\" fill=\"currentColor\" x=\"925\">PROPN</tspan>\n",
              "</text>\n",
              "\n",
              "<g class=\"displacy-arrow\">\n",
              "    <path class=\"displacy-arc\" id=\"arrow-9385971aa5d14b2f9aafb0a7e4181537-0-0\" stroke-width=\"2px\" d=\"M70,264.5 C70,2.0 575.0,2.0 575.0,264.5\" fill=\"none\" stroke=\"currentColor\"/>\n",
              "    <text dy=\"1.25em\" style=\"font-size: 0.8em; letter-spacing: 1px\">\n",
              "        <textPath xlink:href=\"#arrow-9385971aa5d14b2f9aafb0a7e4181537-0-0\" class=\"displacy-label\" startOffset=\"50%\" side=\"left\" fill=\"currentColor\" text-anchor=\"middle\">nsubjpass</textPath>\n",
              "    </text>\n",
              "    <path class=\"displacy-arrowhead\" d=\"M70,266.5 L62,254.5 78,254.5\" fill=\"currentColor\"/>\n",
              "</g>\n",
              "\n",
              "<g class=\"displacy-arrow\">\n",
              "    <path class=\"displacy-arc\" id=\"arrow-9385971aa5d14b2f9aafb0a7e4181537-0-1\" stroke-width=\"2px\" d=\"M245,264.5 C245,89.5 570.0,89.5 570.0,264.5\" fill=\"none\" stroke=\"currentColor\"/>\n",
              "    <text dy=\"1.25em\" style=\"font-size: 0.8em; letter-spacing: 1px\">\n",
              "        <textPath xlink:href=\"#arrow-9385971aa5d14b2f9aafb0a7e4181537-0-1\" class=\"displacy-label\" startOffset=\"50%\" side=\"left\" fill=\"currentColor\" text-anchor=\"middle\">auxpass</textPath>\n",
              "    </text>\n",
              "    <path class=\"displacy-arrowhead\" d=\"M245,266.5 L237,254.5 253,254.5\" fill=\"currentColor\"/>\n",
              "</g>\n",
              "\n",
              "<g class=\"displacy-arrow\">\n",
              "    <path class=\"displacy-arc\" id=\"arrow-9385971aa5d14b2f9aafb0a7e4181537-0-2\" stroke-width=\"2px\" d=\"M420,264.5 C420,177.0 565.0,177.0 565.0,264.5\" fill=\"none\" stroke=\"currentColor\"/>\n",
              "    <text dy=\"1.25em\" style=\"font-size: 0.8em; letter-spacing: 1px\">\n",
              "        <textPath xlink:href=\"#arrow-9385971aa5d14b2f9aafb0a7e4181537-0-2\" class=\"displacy-label\" startOffset=\"50%\" side=\"left\" fill=\"currentColor\" text-anchor=\"middle\">advmod</textPath>\n",
              "    </text>\n",
              "    <path class=\"displacy-arrowhead\" d=\"M420,266.5 L412,254.5 428,254.5\" fill=\"currentColor\"/>\n",
              "</g>\n",
              "\n",
              "<g class=\"displacy-arrow\">\n",
              "    <path class=\"displacy-arc\" id=\"arrow-9385971aa5d14b2f9aafb0a7e4181537-0-3\" stroke-width=\"2px\" d=\"M595,264.5 C595,177.0 740.0,177.0 740.0,264.5\" fill=\"none\" stroke=\"currentColor\"/>\n",
              "    <text dy=\"1.25em\" style=\"font-size: 0.8em; letter-spacing: 1px\">\n",
              "        <textPath xlink:href=\"#arrow-9385971aa5d14b2f9aafb0a7e4181537-0-3\" class=\"displacy-label\" startOffset=\"50%\" side=\"left\" fill=\"currentColor\" text-anchor=\"middle\">agent</textPath>\n",
              "    </text>\n",
              "    <path class=\"displacy-arrowhead\" d=\"M740.0,266.5 L748.0,254.5 732.0,254.5\" fill=\"currentColor\"/>\n",
              "</g>\n",
              "\n",
              "<g class=\"displacy-arrow\">\n",
              "    <path class=\"displacy-arc\" id=\"arrow-9385971aa5d14b2f9aafb0a7e4181537-0-4\" stroke-width=\"2px\" d=\"M770,264.5 C770,177.0 915.0,177.0 915.0,264.5\" fill=\"none\" stroke=\"currentColor\"/>\n",
              "    <text dy=\"1.25em\" style=\"font-size: 0.8em; letter-spacing: 1px\">\n",
              "        <textPath xlink:href=\"#arrow-9385971aa5d14b2f9aafb0a7e4181537-0-4\" class=\"displacy-label\" startOffset=\"50%\" side=\"left\" fill=\"currentColor\" text-anchor=\"middle\">pobj</textPath>\n",
              "    </text>\n",
              "    <path class=\"displacy-arrowhead\" d=\"M915.0,266.5 L923.0,254.5 907.0,254.5\" fill=\"currentColor\"/>\n",
              "</g>\n",
              "</svg></span>"
            ],
            "text/plain": [
              "<IPython.core.display.HTML object>"
            ]
          },
          "metadata": {
            "tags": []
          }
        }
      ]
    },
    {
      "cell_type": "code",
      "metadata": {
        "id": "LlMQ8ZkbvRq5",
        "colab_type": "code",
        "colab": {
          "base_uri": "https://localhost:8080/",
          "height": 136
        },
        "outputId": "b2d91dc2-4545-4777-837d-15dee01ca38d"
      },
      "source": [
        "text = \"Tableau was recently acquired by Salesforce.\" \n",
        "doc = nlp(text) \n",
        "\n",
        "for tok in doc: \n",
        "  print(tok.text,\"-->\",tok.dep_,\"-->\",tok.pos_)"
      ],
      "execution_count": 19,
      "outputs": [
        {
          "output_type": "stream",
          "text": [
            "Tableau --> nsubjpass --> PROPN\n",
            "was --> auxpass --> AUX\n",
            "recently --> advmod --> ADV\n",
            "acquired --> ROOT --> VERB\n",
            "by --> agent --> ADP\n",
            "Salesforce --> pobj --> PROPN\n",
            ". --> punct --> PUNCT\n"
          ],
          "name": "stdout"
        }
      ]
    },
    {
      "cell_type": "code",
      "metadata": {
        "id": "7WexxiwmvUSK",
        "colab_type": "code",
        "colab": {}
      },
      "source": [
        "def subtree_matcher(doc): \n",
        "  x = '' \n",
        "  y = '' \n",
        "  \n",
        "  # iterate through all the tokens in the input sentence \n",
        "  for i,tok in enumerate(doc): \n",
        "    # extract subject \n",
        "    if tok.dep_.find(\"subjpass\") == True: \n",
        "      y = tok.text \n",
        "      \n",
        "    # extract object \n",
        "    if tok.dep_.endswith(\"obj\") == True: \n",
        "      x = tok.text \n",
        "      \n",
        "  return x,y"
      ],
      "execution_count": 0,
      "outputs": []
    },
    {
      "cell_type": "code",
      "metadata": {
        "id": "Zck03mLBvXuP",
        "colab_type": "code",
        "colab": {
          "base_uri": "https://localhost:8080/",
          "height": 34
        },
        "outputId": "f02122bf-8a15-4a0f-9df0-fac3bd621630"
      },
      "source": [
        "subtree_matcher(doc)"
      ],
      "execution_count": 21,
      "outputs": [
        {
          "output_type": "execute_result",
          "data": {
            "text/plain": [
              "('Salesforce', 'Tableau')"
            ]
          },
          "metadata": {
            "tags": []
          },
          "execution_count": 21
        }
      ]
    },
    {
      "cell_type": "code",
      "metadata": {
        "id": "e1YjCLkZvZE6",
        "colab_type": "code",
        "colab": {
          "base_uri": "https://localhost:8080/",
          "height": 34
        },
        "outputId": "8e725559-0745-4829-e6ef-d09d14914bb7"
      },
      "source": [
        "text_2 = \"Careem, a ride hailing major in middle east, was acquired by Uber.\" \n",
        "\n",
        "doc_2 = nlp(text_2) \n",
        "subtree_matcher(doc_2)"
      ],
      "execution_count": 22,
      "outputs": [
        {
          "output_type": "execute_result",
          "data": {
            "text/plain": [
              "('Uber', 'Careem')"
            ]
          },
          "metadata": {
            "tags": []
          },
          "execution_count": 22
        }
      ]
    },
    {
      "cell_type": "code",
      "metadata": {
        "id": "QHNhCA6pvbCu",
        "colab_type": "code",
        "colab": {
          "base_uri": "https://localhost:8080/",
          "height": 34
        },
        "outputId": "f21016a2-5249-4137-825b-d8e191fd2738"
      },
      "source": [
        "text_3 = \"Salesforce recently acquired Tableau.\" \n",
        "doc_3 = nlp(text_3) \n",
        "subtree_matcher(doc_3)"
      ],
      "execution_count": 23,
      "outputs": [
        {
          "output_type": "execute_result",
          "data": {
            "text/plain": [
              "('Tableau', '')"
            ]
          },
          "metadata": {
            "tags": []
          },
          "execution_count": 23
        }
      ]
    },
    {
      "cell_type": "code",
      "metadata": {
        "id": "wdC4lpQ3vczH",
        "colab_type": "code",
        "colab": {
          "base_uri": "https://localhost:8080/",
          "height": 102
        },
        "outputId": "5934667a-7141-4f6f-c9b4-cb7532351a72"
      },
      "source": [
        "for tok in doc_3:    \n",
        "  print(tok.text, \"-->\",tok.dep_, \"-->\",tok.pos_)"
      ],
      "execution_count": 24,
      "outputs": [
        {
          "output_type": "stream",
          "text": [
            "Salesforce --> nsubj --> NOUN\n",
            "recently --> advmod --> ADV\n",
            "acquired --> ROOT --> VERB\n",
            "Tableau --> dobj --> PROPN\n",
            ". --> punct --> PUNCT\n"
          ],
          "name": "stdout"
        }
      ]
    },
    {
      "cell_type": "code",
      "metadata": {
        "id": "cw5S-br5vePx",
        "colab_type": "code",
        "colab": {}
      },
      "source": [
        "def new_subtree_matcher(doc):\n",
        "  subjpass = 0\n",
        "\n",
        "  for i,tok in enumerate(doc):\n",
        "    # find dependency tag that contains the text \"subjpass\"    \n",
        "    if tok.dep_.find(\"subjpass\") == True:\n",
        "      subjpass = 1\n",
        "\n",
        "  x = ''\n",
        "  y = ''\n",
        "\n",
        "  # if subjpass == 1 then sentence is passive\n",
        "  if subjpass == 1:\n",
        "    for i,tok in enumerate(doc):\n",
        "      if tok.dep_.find(\"subjpass\") == True:\n",
        "        y = tok.text\n",
        "\n",
        "      if tok.dep_.endswith(\"obj\") == True:\n",
        "        x = tok.text\n",
        "  \n",
        "  # if subjpass == 0 then sentence is not passive\n",
        "  else:\n",
        "    for i,tok in enumerate(doc):\n",
        "      if tok.dep_.endswith(\"subj\") == True:\n",
        "        x = tok.text\n",
        "\n",
        "      if tok.dep_.endswith(\"obj\") == True:\n",
        "        y = tok.text\n",
        "\n",
        "  return x,y"
      ],
      "execution_count": 0,
      "outputs": []
    },
    {
      "cell_type": "code",
      "metadata": {
        "id": "RQPPPVrqvgS_",
        "colab_type": "code",
        "colab": {
          "base_uri": "https://localhost:8080/",
          "height": 34
        },
        "outputId": "9cd1e3c0-8869-4383-ff06-9135162a6922"
      },
      "source": [
        "new_subtree_matcher(doc_3)"
      ],
      "execution_count": 28,
      "outputs": [
        {
          "output_type": "execute_result",
          "data": {
            "text/plain": [
              "('Salesforce', 'Tableau')"
            ]
          },
          "metadata": {
            "tags": []
          },
          "execution_count": 28
        }
      ]
    },
    {
      "cell_type": "code",
      "metadata": {
        "id": "8S37qFxcvhNg",
        "colab_type": "code",
        "colab": {
          "base_uri": "https://localhost:8080/",
          "height": 34
        },
        "outputId": "a6fb71cd-57f6-4c5f-e68a-f91a8554a96f"
      },
      "source": [
        "new_subtree_matcher(nlp(\"Tableau was recently acquired by Salesforce.\"))"
      ],
      "execution_count": 29,
      "outputs": [
        {
          "output_type": "execute_result",
          "data": {
            "text/plain": [
              "('Salesforce', 'Tableau')"
            ]
          },
          "metadata": {
            "tags": []
          },
          "execution_count": 29
        }
      ]
    }
  ]
}