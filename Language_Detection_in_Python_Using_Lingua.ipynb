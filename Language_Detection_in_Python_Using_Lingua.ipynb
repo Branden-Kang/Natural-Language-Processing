{
  "nbformat": 4,
  "nbformat_minor": 0,
  "metadata": {
    "colab": {
      "provenance": [],
      "authorship_tag": "ABX9TyMyhQRXCylvUpNmlsXNsP+x"
    },
    "kernelspec": {
      "name": "python3",
      "display_name": "Python 3"
    },
    "language_info": {
      "name": "python"
    }
  },
  "cells": [
    {
      "cell_type": "markdown",
      "source": [
        "[Reference](https://allwin-raju.medium.com/language-detection-in-python-using-lingua-d62e0f941646)"
      ],
      "metadata": {
        "id": "evbd1UgToA6j"
      }
    },
    {
      "cell_type": "code",
      "execution_count": 1,
      "metadata": {
        "colab": {
          "base_uri": "https://localhost:8080/"
        },
        "id": "RgXRjR49n7RC",
        "outputId": "dd4b3853-d054-4afb-857a-4df7a580b101"
      },
      "outputs": [
        {
          "output_type": "stream",
          "name": "stdout",
          "text": [
            "Collecting lingua-language-detector\n",
            "  Downloading lingua_language_detector-2.0.2-cp311-cp311-manylinux_2_17_x86_64.manylinux2014_x86_64.whl.metadata (349 kB)\n",
            "\u001b[2K     \u001b[90m━━━━━━━━━━━━━━━━━━━━━━━━━━━━━━━━━━━━━━━━\u001b[0m \u001b[32m349.2/349.2 kB\u001b[0m \u001b[31m5.4 MB/s\u001b[0m eta \u001b[36m0:00:00\u001b[0m\n",
            "\u001b[?25hDownloading lingua_language_detector-2.0.2-cp311-cp311-manylinux_2_17_x86_64.manylinux2014_x86_64.whl (74.7 MB)\n",
            "\u001b[2K   \u001b[90m━━━━━━━━━━━━━━━━━━━━━━━━━━━━━━━━━━━━━━━━\u001b[0m \u001b[32m74.7/74.7 MB\u001b[0m \u001b[31m11.4 MB/s\u001b[0m eta \u001b[36m0:00:00\u001b[0m\n",
            "\u001b[?25hInstalling collected packages: lingua-language-detector\n",
            "Successfully installed lingua-language-detector-2.0.2\n"
          ]
        }
      ],
      "source": [
        "pip install lingua-language-detector"
      ]
    },
    {
      "cell_type": "code",
      "source": [
        "from lingua import Language, LanguageDetectorBuilder\n",
        "\n",
        "# Create a detector for specific languages\n",
        "detector = LanguageDetectorBuilder.from_languages(\n",
        "    Language.ENGLISH,\n",
        "    Language.FRENCH,\n",
        "    Language.GERMAN,\n",
        "    Language.SPANISH\n",
        ").build()\n",
        "\n",
        "text = \"This is a sample text in English\"\n",
        "detected_language = detector.detect_language_of(text)\n",
        "print(f\"Detected language: {detected_language}\")"
      ],
      "metadata": {
        "colab": {
          "base_uri": "https://localhost:8080/"
        },
        "id": "5kzFaKOaoD9G",
        "outputId": "8b7cfed3-e221-4dea-d7f9-40a63679a499"
      },
      "execution_count": 2,
      "outputs": [
        {
          "output_type": "stream",
          "name": "stdout",
          "text": [
            "Detected language: Language.ENGLISH\n"
          ]
        }
      ]
    },
    {
      "cell_type": "markdown",
      "source": [
        "# 1. Confidence Scores"
      ],
      "metadata": {
        "id": "zgFZ4NNEoGhx"
      }
    },
    {
      "cell_type": "code",
      "source": [
        "from lingua import Language, LanguageDetectorBuilder\n",
        "\n",
        "detector = LanguageDetectorBuilder.from_languages(*Language.all()).build()\n",
        "\n",
        "text = \"This is a sample text in English\"\n",
        "results = detector.compute_language_confidence_values(text)[:5]\n",
        "\n",
        "for result in results:\n",
        "    print(f\"{result.language}: {result.value:.2f}\")"
      ],
      "metadata": {
        "colab": {
          "base_uri": "https://localhost:8080/"
        },
        "id": "tt_G2O3YoFLX",
        "outputId": "39a7ec0e-bad4-4a1f-a0d8-e7f5920006be"
      },
      "execution_count": 3,
      "outputs": [
        {
          "output_type": "stream",
          "name": "stdout",
          "text": [
            "Language.ENGLISH: 0.40\n",
            "Language.TAGALOG: 0.07\n",
            "Language.LATIN: 0.06\n",
            "Language.SWAHILI: 0.06\n",
            "Language.ESPERANTO: 0.04\n"
          ]
        }
      ]
    },
    {
      "cell_type": "markdown",
      "source": [
        "# 2. Working with Short Texts"
      ],
      "metadata": {
        "id": "3m-n02BZoKtr"
      }
    },
    {
      "cell_type": "code",
      "source": [
        "from lingua import Language, LanguageDetectorBuilder\n",
        "\n",
        "detector = LanguageDetectorBuilder.from_languages(*Language.all()) \\\n",
        "    .with_minimum_relative_distance(0.25) \\\n",
        "    .build()\n",
        "\n",
        "short_text = \"Hi\"  # Very short text\n",
        "result = detector.detect_language_of(short_text)\n",
        "\n",
        "if result is None:\n",
        "    print(\"Text too short or language unknown\")\n",
        "else:\n",
        "    print(f\"Detected language: {result}\")"
      ],
      "metadata": {
        "colab": {
          "base_uri": "https://localhost:8080/"
        },
        "id": "eNuOmwXboJfE",
        "outputId": "b5bcfa07-02e2-43ab-936f-eef5e0e643d6"
      },
      "execution_count": 4,
      "outputs": [
        {
          "output_type": "stream",
          "name": "stdout",
          "text": [
            "Text too short or language unknown\n"
          ]
        }
      ]
    },
    {
      "cell_type": "markdown",
      "source": [
        "# 3. Detection of multiple languages in mixed-language texts"
      ],
      "metadata": {
        "id": "WFI7QtnQoO6M"
      }
    },
    {
      "cell_type": "code",
      "source": [
        "from lingua import Language, LanguageDetectorBuilder\n",
        "\n",
        "languages = [Language.ENGLISH, Language.FRENCH, Language.GERMAN]\n",
        "detector = LanguageDetectorBuilder.from_languages(*languages).build()\n",
        "sentence = \"Parlez-vous français? \" + \\\n",
        "           \"Ich spreche Französisch nur ein bisschen. \" + \\\n",
        "           \"A little bit is better than nothing.\"\n",
        "\n",
        "for result in detector.detect_multiple_languages_of(sentence):\n",
        "    print(f\"{result.language.name}: '{sentence[result.start_index:result.end_index]}'\")"
      ],
      "metadata": {
        "colab": {
          "base_uri": "https://localhost:8080/"
        },
        "id": "neyV_HJToM1z",
        "outputId": "3abf7a48-bab3-42c0-c746-260cf6ae6205"
      },
      "execution_count": 5,
      "outputs": [
        {
          "output_type": "stream",
          "name": "stdout",
          "text": [
            "FRENCH: 'Parlez-vous français? '\n",
            "GERMAN: 'Ich spreche Französisch nur ein bisschen. '\n",
            "ENGLISH: 'A little bit is better than nothing.'\n"
          ]
        }
      ]
    }
  ]
}