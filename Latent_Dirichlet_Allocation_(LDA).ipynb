{
  "nbformat": 4,
  "nbformat_minor": 0,
  "metadata": {
    "colab": {
      "name": "Latent Dirichlet Allocation (LDA).ipynb",
      "provenance": [],
      "authorship_tag": "ABX9TyPVZEXrCH2z67xqva0yTeGh"
    },
    "kernelspec": {
      "name": "python3",
      "display_name": "Python 3"
    }
  },
  "cells": [
    {
      "cell_type": "markdown",
      "metadata": {
        "id": "SEYbZnRpCvun",
        "colab_type": "text"
      },
      "source": [
        "[Reference](https://towardsdatascience.com/evaluate-topic-model-in-python-latent-dirichlet-allocation-lda-7d57484bb5d0)"
      ]
    },
    {
      "cell_type": "code",
      "metadata": {
        "id": "uXwAw0Gx9xya",
        "colab_type": "code",
        "colab": {
          "base_uri": "https://localhost:8080/",
          "height": 156
        },
        "outputId": "74a8a106-a91d-41e2-dc50-00e33b2b9b7c"
      },
      "source": [
        "import os\n",
        "from google.colab import drive\n",
        "drive.mount('/content/gdrive')\n",
        "!pwd\n",
        "os.chdir('gdrive/My Drive/Colab Notebooks')\n",
        "!pwd"
      ],
      "execution_count": 1,
      "outputs": [
        {
          "output_type": "stream",
          "text": [
            "Go to this URL in a browser: https://accounts.google.com/o/oauth2/auth?client_id=947318989803-6bn6qk8qdgf4n4g3pfee6491hc0brc4i.apps.googleusercontent.com&redirect_uri=urn%3aietf%3awg%3aoauth%3a2.0%3aoob&response_type=code&scope=email%20https%3a%2f%2fwww.googleapis.com%2fauth%2fdocs.test%20https%3a%2f%2fwww.googleapis.com%2fauth%2fdrive%20https%3a%2f%2fwww.googleapis.com%2fauth%2fdrive.photos.readonly%20https%3a%2f%2fwww.googleapis.com%2fauth%2fpeopleapi.readonly\n",
            "\n",
            "Enter your authorization code:\n",
            "··········\n",
            "Mounted at /content/gdrive\n",
            "/content\n",
            "/content/gdrive/My Drive/Colab Notebooks\n"
          ],
          "name": "stdout"
        }
      ]
    },
    {
      "cell_type": "code",
      "metadata": {
        "id": "pQcCCn5q-JZu",
        "colab_type": "code",
        "colab": {}
      },
      "source": [
        "import pandas as pd"
      ],
      "execution_count": 3,
      "outputs": []
    },
    {
      "cell_type": "code",
      "metadata": {
        "id": "eaCPGY_k94SI",
        "colab_type": "code",
        "colab": {
          "base_uri": "https://localhost:8080/",
          "height": 578
        },
        "outputId": "a616f885-5713-4653-fa2e-0138eb25084c"
      },
      "source": [
        "papers = pd.read_csv('./papers.csv')\n",
        "# Print head\n",
        "papers.head()"
      ],
      "execution_count": 4,
      "outputs": [
        {
          "output_type": "execute_result",
          "data": {
            "text/html": [
              "<div>\n",
              "<style scoped>\n",
              "    .dataframe tbody tr th:only-of-type {\n",
              "        vertical-align: middle;\n",
              "    }\n",
              "\n",
              "    .dataframe tbody tr th {\n",
              "        vertical-align: top;\n",
              "    }\n",
              "\n",
              "    .dataframe thead th {\n",
              "        text-align: right;\n",
              "    }\n",
              "</style>\n",
              "<table border=\"1\" class=\"dataframe\">\n",
              "  <thead>\n",
              "    <tr style=\"text-align: right;\">\n",
              "      <th></th>\n",
              "      <th>id</th>\n",
              "      <th>year</th>\n",
              "      <th>title</th>\n",
              "      <th>event_type</th>\n",
              "      <th>pdf_name</th>\n",
              "      <th>abstract</th>\n",
              "      <th>paper_text</th>\n",
              "    </tr>\n",
              "  </thead>\n",
              "  <tbody>\n",
              "    <tr>\n",
              "      <th>0</th>\n",
              "      <td>1</td>\n",
              "      <td>1987</td>\n",
              "      <td>Self-Organization of Associative Database and ...</td>\n",
              "      <td>NaN</td>\n",
              "      <td>1-self-organization-of-associative-database-an...</td>\n",
              "      <td>Abstract Missing</td>\n",
              "      <td>767\\n\\nSELF-ORGANIZATION OF ASSOCIATIVE DATABA...</td>\n",
              "    </tr>\n",
              "    <tr>\n",
              "      <th>1</th>\n",
              "      <td>10</td>\n",
              "      <td>1987</td>\n",
              "      <td>A Mean Field Theory of Layer IV of Visual Cort...</td>\n",
              "      <td>NaN</td>\n",
              "      <td>10-a-mean-field-theory-of-layer-iv-of-visual-c...</td>\n",
              "      <td>Abstract Missing</td>\n",
              "      <td>683\\n\\nA MEAN FIELD THEORY OF LAYER IV OF VISU...</td>\n",
              "    </tr>\n",
              "    <tr>\n",
              "      <th>2</th>\n",
              "      <td>100</td>\n",
              "      <td>1988</td>\n",
              "      <td>Storing Covariance by the Associative Long-Ter...</td>\n",
              "      <td>NaN</td>\n",
              "      <td>100-storing-covariance-by-the-associative-long...</td>\n",
              "      <td>Abstract Missing</td>\n",
              "      <td>394\\n\\nSTORING COVARIANCE BY THE ASSOCIATIVE\\n...</td>\n",
              "    </tr>\n",
              "    <tr>\n",
              "      <th>3</th>\n",
              "      <td>1000</td>\n",
              "      <td>1994</td>\n",
              "      <td>Bayesian Query Construction for Neural Network...</td>\n",
              "      <td>NaN</td>\n",
              "      <td>1000-bayesian-query-construction-for-neural-ne...</td>\n",
              "      <td>Abstract Missing</td>\n",
              "      <td>Bayesian Query Construction for Neural\\nNetwor...</td>\n",
              "    </tr>\n",
              "    <tr>\n",
              "      <th>4</th>\n",
              "      <td>1001</td>\n",
              "      <td>1994</td>\n",
              "      <td>Neural Network Ensembles, Cross Validation, an...</td>\n",
              "      <td>NaN</td>\n",
              "      <td>1001-neural-network-ensembles-cross-validation...</td>\n",
              "      <td>Abstract Missing</td>\n",
              "      <td>Neural Network Ensembles, Cross\\nValidation, a...</td>\n",
              "    </tr>\n",
              "  </tbody>\n",
              "</table>\n",
              "</div>"
            ],
            "text/plain": [
              "     id  ...                                         paper_text\n",
              "0     1  ...  767\\n\\nSELF-ORGANIZATION OF ASSOCIATIVE DATABA...\n",
              "1    10  ...  683\\n\\nA MEAN FIELD THEORY OF LAYER IV OF VISU...\n",
              "2   100  ...  394\\n\\nSTORING COVARIANCE BY THE ASSOCIATIVE\\n...\n",
              "3  1000  ...  Bayesian Query Construction for Neural\\nNetwor...\n",
              "4  1001  ...  Neural Network Ensembles, Cross\\nValidation, a...\n",
              "\n",
              "[5 rows x 7 columns]"
            ]
          },
          "metadata": {
            "tags": []
          },
          "execution_count": 4
        }
      ]
    },
    {
      "cell_type": "markdown",
      "metadata": {
        "id": "y6DFtUaL-W2I",
        "colab_type": "text"
      },
      "source": [
        "# Data Cleaning"
      ]
    },
    {
      "cell_type": "code",
      "metadata": {
        "id": "hTcBRKjb-CJ6",
        "colab_type": "code",
        "colab": {
          "base_uri": "https://localhost:8080/",
          "height": 204
        },
        "outputId": "f45925ee-2649-44fd-a9b7-fe8fd60e4bdc"
      },
      "source": [
        "# Remove the columns\n",
        "papers = papers.drop(columns=['id', 'title', 'abstract', \n",
        "                              'event_type', 'pdf_name', 'year'], axis=1)\n",
        "# sample only 10 papers - for demonstration purposes\n",
        "papers = papers.sample(10)\n",
        "# Print out the first rows of papers\n",
        "papers.head()"
      ],
      "execution_count": 5,
      "outputs": [
        {
          "output_type": "execute_result",
          "data": {
            "text/html": [
              "<div>\n",
              "<style scoped>\n",
              "    .dataframe tbody tr th:only-of-type {\n",
              "        vertical-align: middle;\n",
              "    }\n",
              "\n",
              "    .dataframe tbody tr th {\n",
              "        vertical-align: top;\n",
              "    }\n",
              "\n",
              "    .dataframe thead th {\n",
              "        text-align: right;\n",
              "    }\n",
              "</style>\n",
              "<table border=\"1\" class=\"dataframe\">\n",
              "  <thead>\n",
              "    <tr style=\"text-align: right;\">\n",
              "      <th></th>\n",
              "      <th>paper_text</th>\n",
              "    </tr>\n",
              "  </thead>\n",
              "  <tbody>\n",
              "    <tr>\n",
              "      <th>2959</th>\n",
              "      <td>Particle-based Variational Inference\\nfor Cont...</td>\n",
              "    </tr>\n",
              "    <tr>\n",
              "      <th>5650</th>\n",
              "      <td>Deep Learning without Poor Local Minima\\n\\nKen...</td>\n",
              "    </tr>\n",
              "    <tr>\n",
              "      <th>2112</th>\n",
              "      <td>Learning Influence among Interacting\\nMarkov C...</td>\n",
              "    </tr>\n",
              "    <tr>\n",
              "      <th>878</th>\n",
              "      <td>The Manhattan World Assumption:\\nRegularities ...</td>\n",
              "    </tr>\n",
              "    <tr>\n",
              "      <th>4286</th>\n",
              "      <td>Bayesian Model Comparison and Backprop Nets\\n\\...</td>\n",
              "    </tr>\n",
              "  </tbody>\n",
              "</table>\n",
              "</div>"
            ],
            "text/plain": [
              "                                             paper_text\n",
              "2959  Particle-based Variational Inference\\nfor Cont...\n",
              "5650  Deep Learning without Poor Local Minima\\n\\nKen...\n",
              "2112  Learning Influence among Interacting\\nMarkov C...\n",
              "878   The Manhattan World Assumption:\\nRegularities ...\n",
              "4286  Bayesian Model Comparison and Backprop Nets\\n\\..."
            ]
          },
          "metadata": {
            "tags": []
          },
          "execution_count": 5
        }
      ]
    },
    {
      "cell_type": "code",
      "metadata": {
        "id": "oL1jcFJk-Ecc",
        "colab_type": "code",
        "colab": {
          "base_uri": "https://localhost:8080/",
          "height": 119
        },
        "outputId": "003d231e-b5ca-4b7a-c9ab-810cff976574"
      },
      "source": [
        "# Load the regular expression library\n",
        "import re\n",
        "# Remove punctuation\n",
        "papers['paper_text_processed'] = papers['paper_text'].map(lambda x: re.sub('[,\\.!?]', '', x))\n",
        "# Convert the titles to lowercase\n",
        "papers['paper_text_processed'] = papers['paper_text_processed'].map(lambda x: x.lower())\n",
        "# Print out the first rows of papers\n",
        "papers['paper_text_processed'].head()"
      ],
      "execution_count": 6,
      "outputs": [
        {
          "output_type": "execute_result",
          "data": {
            "text/plain": [
              "2959    particle-based variational inference\\nfor cont...\n",
              "5650    deep learning without poor local minima\\n\\nken...\n",
              "2112    learning influence among interacting\\nmarkov c...\n",
              "878     the manhattan world assumption:\\nregularities ...\n",
              "4286    bayesian model comparison and backprop nets\\n\\...\n",
              "Name: paper_text_processed, dtype: object"
            ]
          },
          "metadata": {
            "tags": []
          },
          "execution_count": 6
        }
      ]
    },
    {
      "cell_type": "code",
      "metadata": {
        "id": "WZAbmTY4-KJO",
        "colab_type": "code",
        "colab": {
          "base_uri": "https://localhost:8080/",
          "height": 88
        },
        "outputId": "5664712f-656c-43bb-b656-fbbd14c652d7"
      },
      "source": [
        "%%time\n",
        "import gensim\n",
        "from gensim.utils import simple_preprocess\n",
        "def sent_to_words(sentences):\n",
        "    for sentence in sentences:\n",
        "        yield(gensim.utils.simple_preprocess(str(sentence), deacc=True))  # deacc=True removes punctuations\n",
        "data = papers.paper_text_processed.values.tolist()\n",
        "data_words = list(sent_to_words(data))\n",
        "print(data_words[:1])"
      ],
      "execution_count": 7,
      "outputs": [
        {
          "output_type": "stream",
          "text": [
            "[['particle', 'based', 'variational', 'inference', 'for', 'continuous', 'systems', 'alexander', 'ihler', 'dept', 'of', 'computer', 'science', 'univ', 'of', 'california', 'irvine', 'ihler', 'icsuciedu', 'andrew', 'frank', 'dept', 'of', 'computer', 'science', 'univ', 'of', 'california', 'irvine', 'ajfrank', 'icsuciedu', 'padhraic', 'smyth', 'dept', 'of', 'computer', 'science', 'univ', 'of', 'california', 'irvine', 'smyth', 'icsuciedu', 'abstract', 'since', 'the', 'development', 'of', 'loopy', 'belief', 'propagation', 'there', 'has', 'been', 'considerable', 'work', 'on', 'advancing', 'the', 'state', 'of', 'the', 'art', 'for', 'approximate', 'inference', 'over', 'distributions', 'defined', 'on', 'discrete', 'random', 'variables', 'improvements', 'include', 'guarantees', 'of', 'convergence', 'approximations', 'that', 'are', 'provably', 'more', 'accurate', 'and', 'bounds', 'on', 'the', 'results', 'of', 'exact', 'inference', 'however', 'extending', 'these', 'methods', 'to', 'continuous', 'valued', 'systems', 'has', 'lagged', 'behind', 'while', 'several', 'methods', 'have', 'been', 'developed', 'to', 'use', 'belief', 'propagation', 'on', 'systems', 'with', 'continuous', 'values', 'recent', 'advances', 'for', 'discrete', 'variables', 'have', 'not', 'as', 'yet', 'been', 'incorporated', 'in', 'this', 'context', 'we', 'extend', 'recently', 'proposed', 'particle', 'based', 'belief', 'propagation', 'algorithm', 'to', 'provide', 'general', 'framework', 'for', 'adapting', 'discrete', 'message', 'passing', 'algorithms', 'to', 'inference', 'in', 'continuous', 'systems', 'the', 'resulting', 'algorithms', 'behave', 'similarly', 'to', 'their', 'purely', 'discrete', 'counterparts', 'extending', 'the', 'benefits', 'of', 'these', 'more', 'advanced', 'inference', 'techniques', 'to', 'the', 'continuous', 'domain', 'introduction', 'graphical', 'models', 'have', 'proven', 'themselves', 'to', 'be', 'an', 'effective', 'tool', 'for', 'representing', 'the', 'underlying', 'structure', 'of', 'probability', 'distributions', 'and', 'organizing', 'the', 'computations', 'required', 'for', 'exact', 'and', 'approximate', 'inference', 'early', 'examples', 'of', 'the', 'use', 'of', 'graph', 'structure', 'for', 'inference', 'include', 'join', 'or', 'junction', 'trees', 'for', 'exact', 'inference', 'markov', 'chain', 'monte', 'carlo', 'mcmc', 'methods', 'and', 'variational', 'methods', 'such', 'as', 'mean', 'field', 'and', 'structured', 'mean', 'field', 'approaches', 'belief', 'propagation', 'bp', 'originally', 'proposed', 'by', 'pearl', 'has', 'gained', 'in', 'popularity', 'as', 'method', 'of', 'approximate', 'inference', 'and', 'in', 'the', 'last', 'decade', 'has', 'led', 'to', 'number', 'of', 'more', 'sophisticated', 'algorithms', 'based', 'on', 'conjugate', 'dual', 'formulations', 'and', 'free', 'energy', 'approximations', 'however', 'the', 'progress', 'on', 'approximate', 'inference', 'in', 'systems', 'with', 'continuous', 'random', 'variables', 'has', 'not', 'kept', 'pace', 'with', 'that', 'for', 'discrete', 'random', 'variables', 'some', 'methods', 'such', 'as', 'mcmc', 'techniques', 'are', 'directly', 'applicable', 'to', 'continuous', 'domains', 'while', 'others', 'such', 'as', 'belief', 'propagation', 'have', 'approximate', 'continuous', 'formulations', 'sample', 'based', 'representations', 'such', 'as', 'are', 'used', 'in', 'particle', 'filtering', 'are', 'particularly', 'appealing', 'as', 'they', 'are', 'relatively', 'easy', 'to', 'implement', 'have', 'few', 'numerical', 'issues', 'and', 'have', 'no', 'inherent', 'distributional', 'assumptions', 'our', 'aim', 'is', 'to', 'extend', 'particle', 'methods', 'to', 'take', 'advantage', 'of', 'recent', 'advances', 'in', 'approximate', 'inference', 'algorithms', 'for', 'discrete', 'valued', 'systems', 'several', 'recent', 'algorithms', 'provide', 'significant', 'advantages', 'over', 'loopy', 'belief', 'propagation', 'doubleloop', 'algorithms', 'such', 'as', 'cccp', 'and', 'ups', 'use', 'the', 'same', 'approximations', 'as', 'bp', 'but', 'guarantee', 'convergence', 'more', 'general', 'approximations', 'can', 'be', 'used', 'to', 'provide', 'theoretical', 'bounds', 'on', 'the', 'results', 'of', 'exact', 'inference', 'or', 'are', 'guaranteed', 'to', 'improve', 'the', 'quality', 'of', 'approximation', 'allowing', 'an', 'informed', 'trade', 'off', 'between', 'computation', 'and', 'accuracy', 'like', 'belief', 'propagation', 'they', 'can', 'be', 'formulated', 'as', 'local', 'message', 'passing', 'algorithms', 'on', 'the', 'graph', 'making', 'them', 'amenable', 'to', 'parallel', 'computation', 'or', 'inference', 'in', 'distributed', 'systems', 'in', 'short', 'the', 'algorithmic', 'characteristics', 'of', 'these', 'recently', 'developed', 'algorithms', 'are', 'often', 'better', 'or', 'at', 'least', 'more', 'flexible', 'than', 'those', 'of', 'bp', 'however', 'these', 'methods', 'have', 'not', 'been', 'applied', 'to', 'continuous', 'random', 'variables', 'and', 'in', 'fact', 'this', 'subject', 'was', 'one', 'of', 'the', 'open', 'questions', 'posed', 'at', 'recent', 'nips', 'workshop', 'in', 'order', 'to', 'develop', 'particle', 'based', 'approximations', 'for', 'these', 'algorithms', 'we', 'focus', 'on', 'one', 'particular', 'technique', 'for', 'concreteness', 'tree', 'reweighted', 'belief', 'propagation', 'trw', 'trw', 'represents', 'one', 'of', 'the', 'earliest', 'of', 'recent', 'class', 'of', 'inference', 'algorithms', 'for', 'discrete', 'systems', 'but', 'as', 'we', 'discuss', 'in', 'section', 'the', 'extensions', 'of', 'trw', 'can', 'be', 'incorporated', 'into', 'the', 'same', 'framework', 'if', 'desired', 'the', 'basic', 'idea', 'of', 'our', 'algorithm', 'is', 'simple', 'and', 'extends', 'previous', 'particle', 'formulations', 'of', 'exact', 'inference', 'and', 'loopy', 'belief', 'propagation', 'we', 'use', 'collections', 'of', 'samples', 'drawn', 'from', 'the', 'continuous', 'state', 'space', 'of', 'each', 'variable', 'to', 'define', 'discrete', 'problem', 'lifting', 'the', 'inference', 'task', 'from', 'the', 'original', 'space', 'to', 'restricted', 'discrete', 'domain', 'on', 'which', 'trw', 'can', 'be', 'performed', 'at', 'any', 'point', 'the', 'current', 'results', 'of', 'the', 'discrete', 'inference', 'can', 'be', 'used', 'to', 're', 'select', 'the', 'sample', 'points', 'from', 'variables', 'continuous', 'domain', 'this', 'iterative', 'interaction', 'between', 'the', 'sample', 'locations', 'and', 'the', 'discrete', 'messages', 'produces', 'dynamic', 'discretization', 'that', 'adapts', 'itself', 'to', 'the', 'inference', 'results', 'we', 'demonstrate', 'that', 'trw', 'and', 'similar', 'methods', 'can', 'be', 'naturally', 'incorporated', 'into', 'the', 'lifted', 'discrete', 'phase', 'of', 'particle', 'belief', 'propagation', 'and', 'that', 'they', 'confer', 'similar', 'benefits', 'on', 'the', 'continuous', 'problem', 'as', 'hold', 'in', 'truly', 'discrete', 'systems', 'to', 'this', 'end', 'we', 'measure', 'the', 'performance', 'of', 'the', 'algorithm', 'on', 'an', 'ising', 'grid', 'an', 'analogous', 'continuous', 'model', 'and', 'the', 'sensor', 'localization', 'problem', 'in', 'each', 'case', 'we', 'show', 'that', 'tree', 'reweighted', 'particle', 'bp', 'exhibits', 'behavior', 'similar', 'to', 'trw', 'and', 'produces', 'significantly', 'more', 'robust', 'marginal', 'estimates', 'than', 'ordinary', 'particle', 'bp', 'graphical', 'models', 'and', 'inference', 'graphical', 'models', 'provide', 'convenient', 'formalism', 'for', 'describing', 'structure', 'within', 'probability', 'distribution', 'defined', 'over', 'set', 'of', 'variables', 'xn', 'this', 'structure', 'can', 'then', 'be', 'applied', 'to', 'organize', 'computations', 'over', 'and', 'construct', 'efficient', 'algorithms', 'for', 'many', 'inference', 'tasks', 'including', 'optimization', 'to', 'find', 'maximum', 'posteriori', 'map', 'configuration', 'marginalization', 'or', 'computing', 'the', 'likelihood', 'of', 'observed', 'data', 'factor', 'graphs', 'factor', 'graphs', 'are', 'particular', 'type', 'of', 'graphical', 'model', 'that', 'describe', 'the', 'factorization', 'structure', 'of', 'the', 'distribution', 'using', 'bipartite', 'graph', 'consisting', 'of', 'factor', 'nodes', 'and', 'variable', 'nodes', 'specifically', 'suppose', 'such', 'graph', 'consists', 'of', 'factor', 'nodes', 'fm', 'and', 'variable', 'nodes', 'xn', 'let', 'xu', 'denote', 'the', 'neighbors', 'of', 'factor', 'node', 'fu', 'and', 'fs', 'denote', 'the', 'neighbors', 'of', 'variable', 'node', 'xs', 'then', 'is', 'consistent', 'with', 'distribution', 'if', 'and', 'only', 'if', 'xn', 'fu', 'xu', 'in', 'common', 'abuse', 'of', 'notation', 'we', 'use', 'the', 'same', 'symbols', 'to', 'represent', 'each', 'variable', 'node', 'and', 'its', 'associated', 'variable', 'xs', 'and', 'similarly', 'for', 'each', 'factor', 'node', 'and', 'its', 'associated', 'function', 'fu', 'each', 'factor', 'fu', 'corresponds', 'to', 'strictly', 'positive', 'function', 'over', 'subset', 'of', 'the', 'variables', 'the', 'graph', 'connectivity', 'captures', 'the', 'conditional', 'independence', 'structure', 'of', 'enabling', 'the', 'development', 'of', 'efficient', 'exact', 'and', 'approximate', 'inference', 'algorithms', 'the', 'quantity', 'called', 'the', 'partition', 'function', 'is', 'also', 'of', 'importance', 'in', 'many', 'problems', 'for', 'example', 'in', 'normalized', 'distributions', 'such', 'as', 'bayes', 'nets', 'it', 'corresponds', 'to', 'the', 'probability', 'of', 'evidence', 'and', 'can', 'be', 'used', 'for', 'model', 'comparison', 'common', 'inference', 'problem', 'is', 'that', 'of', 'computing', 'the', 'marginal', 'distributions', 'of', 'specifically', 'for', 'each', 'variable', 'xs', 'we', 'are', 'interested', 'in', 'computing', 'the', 'marginal', 'distribution', 'ps', 'xs', 'xs', 'for', 'discrete', 'valued', 'variables', 'the', 'integral', 'is', 'replaced', 'by', 'summation', 'when', 'the', 'variables', 'are', 'discrete', 'and', 'the', 'graph', 'representing', 'forms', 'tree', 'has', 'no', 'cycles', 'marginalization', 'can', 'be', 'performed', 'efficiently', 'using', 'the', 'belief', 'propagation', 'or', 'sum', 'product', 'algorithm', 'for', 'inference', 'in', 'more', 'general', 'graphs', 'the', 'junction', 'tree', 'algorithm', 'creates', 'tree', 'structured', 'hypergraph', 'of', 'and', 'then', 'performs', 'inference', 'on', 'this', 'hypergraph', 'the', 'computational', 'complexity', 'of', 'this', 'process', 'is', 'ndb', 'where', 'is', 'the', 'number', 'of', 'possible', 'values', 'for', 'each', 'variable', 'and', 'is', 'the', 'maximal', 'clique', 'size', 'of', 'the', 'hypergraph', 'unfortunately', 'for', 'even', 'moderate', 'values', 'of', 'this', 'complexity', 'becomes', 'prohibitive', 'for', 'even', 'relatively', 'small', 'approximate', 'inference', 'loopy', 'bp', 'is', 'popular', 'alternative', 'to', 'exact', 'methods', 'and', 'proceeds', 'by', 'iteratively', 'passing', 'messages', 'between', 'variable', 'and', 'factor', 'nodes', 'in', 'the', 'graph', 'as', 'though', 'the', 'graph', 'were', 'tree', 'ignoring', 'cycles', 'the', 'algorithm', 'is', 'exact', 'when', 'the', 'graph', 'is', 'tree', 'structured', 'and', 'can', 'provide', 'excellent', 'approximations', 'in', 'some', 'cases', 'even', 'when', 'the', 'graph', 'has', 'loops', 'however', 'in', 'other', 'cases', 'loopy', 'bp', 'may', 'perform', 'poorly', 'have', 'multiple', 'fixed', 'points', 'or', 'fail', 'to', 'converge', 'at', 'all', 'many', 'of', 'the', 'more', 'recent', 'varieties', 'of', 'approximate', 'inference', 'are', 'framed', 'explicitly', 'as', 'an', 'optimization', 'of', 'local', 'approximations', 'over', 'locally', 'defined', 'cost', 'functions', 'variational', 'or', 'free', 'energy', 'based', 'approaches', 'convert', 'the', 'problem', 'of', 'exact', 'inference', 'into', 'the', 'optimization', 'of', 'free', 'energy', 'function', 'over', 'the', 'set', 'of', 'realizable', 'marginal', 'distributions', 'called', 'the', 'marginal', 'polytope', 'approximate', 'inference', 'then', 'corresponds', 'to', 'approximating', 'the', 'constraint', 'set', 'and', 'or', 'energy', 'function', 'formally', 'max', 'log', 'max', 'log', 'where', 'is', 'the', 'entropy', 'of', 'the', 'distribution', 'corresponding', 'to', 'since', 'the', 'solution', 'may', 'not', 'correspond', 'to', 'the', 'marginals', 'of', 'any', 'consistent', 'joint', 'distribution', 'these', 'approximate', 'marginals', 'are', 'typically', 'decompose', 'and', 'approximate', 'entropy', 'referred', 'to', 'as', 'pseudomarginals', 'if', 'both', 'the', 'constraints', 'in', 'locally', 'on', 'the', 'graph', 'the', 'optimization', 'process', 'can', 'be', 'interpreted', 'as', 'message', 'passing', 'procedure', 'and', 'is', 'often', 'performed', 'using', 'fixed', 'point', 'equations', 'like', 'those', 'of', 'bp', 'belief', 'propagation', 'can', 'be', 'understood', 'in', 'this', 'framework', 'as', 'corresponding', 'to', 'an', 'outer', 'approximac', 'enforcing', 'local', 'consistency', 'and', 'the', 'bethe', 'approximation', 'to', 'this', 'viewpoint', 'tion', 'provides', 'clear', 'path', 'to', 'directly', 'improve', 'upon', 'the', 'properties', 'of', 'bp', 'leading', 'to', 'number', 'of', 'different', 'algorithms', 'for', 'example', 'cccp', 'and', 'ups', 'make', 'the', 'same', 'approximations', 'but', 'use', 'an', 'alternative', 'direct', 'optimization', 'procedure', 'to', 'ensure', 'convergence', 'fractional', 'belief', 'propagation', 'corresponds', 'to', 'more', 'general', 'bethe', 'like', 'approximation', 'with', 'additional', 'parameters', 'which', 'can', 'be', 'modified', 'to', 'ensure', 'that', 'the', 'cost', 'function', 'is', 'convex', 'and', 'used', 'with', 'convergent', 'algorithms', 'special', 'case', 'includes', 'tree', 'reweighted', 'belief', 'propagation', 'which', 'both', 'ensures', 'convexity', 'and', 'provides', 'an', 'upper', 'bound', 'on', 'the', 'partition', 'function', 'the', 'approximation', 'of', 'can', 'also', 'be', 'improved', 'using', 'cutting', 'plane', 'methods', 'which', 'include', 'additional', 'higher', 'order', 'consistency', 'constraints', 'on', 'the', 'pseudomarginals', 'other', 'choices', 'of', 'local', 'cost', 'functions', 'lead', 'to', 'alternative', 'families', 'of', 'approximations', 'overall', 'these', 'advances', 'have', 'provided', 'significant', 'improvements', 'in', 'the', 'state', 'of', 'the', 'art', 'for', 'approximate', 'inference', 'in', 'discrete', 'valued', 'systems', 'they', 'provide', 'increased', 'flexibility', 'theoretical', 'bounds', 'on', 'the', 'results', 'of', 'exact', 'inference', 'and', 'can', 'provably', 'increase', 'the', 'quality', 'of', 'the', 'estimates', 'however', 'these', 'advances', 'have', 'not', 'been', 'carried', 'over', 'into', 'the', 'continuous', 'domain', 'for', 'concreteness', 'in', 'the', 'rest', 'of', 'the', 'paper', 'we', 'will', 'use', 'tree', 'reweighted', 'belief', 'propagation', 'trw', 'as', 'our', 'inference', 'method', 'of', 'choice', 'although', 'the', 'same', 'ideas', 'can', 'be', 'applied', 'to', 'any', 'of', 'the', 'discussed', 'inference', 'algorithms', 'as', 'we', 'will', 'see', 'shortly', 'the', 'details', 'specific', 'to', 'trw', 'are', 'nicely', 'encapsulated', 'and', 'can', 'be', 'swapped', 'out', 'for', 'those', 'of', 'another', 'algorithm', 'with', 'minimal', 'effort', 'the', 'fixed', 'point', 'equations', 'for', 'trw', 'lead', 'to', 'message', 'passing', 'algorithm', 'similar', 'to', 'bp', 'defined', 'by', 'mf', 'xs', 'mxs', 'fu', 'xs', 'mfu', 'xs', 'xs', 'fu', 'xu', 'mxt', 'fu', 'xt', 'mfu', 'xs', 'xs', 'fv', 'fs', 'xu', 'xs', 'xt', 'xu', 'xs', 'the', 'parameters', 'are', 'called', 'edge', 'weights', 'or', 'appearance', 'probabilities', 'for', 'trw', 'the', 'are', 'required', 'to', 'correspond', 'to', 'the', 'fractional', 'occurrence', 'rates', 'of', 'the', 'edges', 'in', 'some', 'collection', 'of', 'tree', 'structured', 'subgraphs', 'of', 'the', 'choice', 'of', 'affects', 'the', 'quality', 'of', 'the', 'approximation', 'the', 'tightest', 'upper', 'bound', 'can', 'be', 'obtained', 'via', 'convex', 'optimization', 'of', 'which', 'computes', 'the', 'pseudomarginals', 'as', 'an', 'inner', 'loop', 'continuous', 'random', 'variables', 'for', 'continuous', 'valued', 'random', 'variables', 'many', 'of', 'these', 'algorithms', 'cannot', 'be', 'applied', 'directly', 'in', 'particular', 'any', 'reasonably', 'fine', 'grained', 'discretization', 'produces', 'discrete', 'variable', 'whose', 'domain', 'size', 'is', 'quite', 'large', 'the', 'domain', 'size', 'is', 'typically', 'exponential', 'in', 'the', 'dimension', 'of', 'the', 'variable', 'and', 'the', 'complexity', 'of', 'the', 'message', 'passing', 'algorithms', 'is', 'ndb', 'where', 'is', 'the', 'total', 'number', 'of', 'variables', 'and', 'is', 'the', 'number', 'of', 'variables', 'in', 'the', 'largest', 'factor', 'thus', 'the', 'computational', 'cost', 'can', 'quickly', 'become', 'intractable', 'even', 'with', 'pairwise', 'factors', 'over', 'low', 'dimensional', 'variables', 'our', 'goal', 'is', 'to', 'adapt', 'the', 'algorithms', 'of', 'section', 'to', 'perform', 'efficient', 'approximate', 'inference', 'in', 'such', 'systems', 'for', 'time', 'series', 'problems', 'in', 'which', 'forms', 'chain', 'classical', 'solution', 'is', 'to', 'use', 'sequential', 'monte', 'carlo', 'approximations', 'generally', 'referred', 'to', 'as', 'particle', 'filtering', 'these', 'methods', 'use', 'samples', 'to', 'define', 'an', 'adaptive', 'discretization', 'of', 'the', 'problem', 'with', 'fine', 'granularity', 'in', 'regions', 'of', 'high', 'probability', 'the', 'stochastic', 'nature', 'of', 'the', 'discretization', 'is', 'simple', 'to', 'implement', 'and', 'enables', 'probabilistic', 'assurances', 'of', 'quality', 'including', 'convergence', 'rates', 'which', 'are', 'independent', 'of', 'the', 'problems', 'dimensionality', 'in', 'sufficiently', 'few', 'dimensions', 'deterministic', 'adaptive', 'discretizations', 'can', 'also', 'provide', 'competitive', 'alternative', 'particularly', 'if', 'the', 'factors', 'are', 'analytically', 'tractable', 'particle', 'representations', 'for', 'message', 'passing', 'particle', 'based', 'approximations', 'have', 'been', 'extended', 'to', 'loopy', 'belief', 'propagation', 'as', 'well', 'for', 'example', 'in', 'the', 'nonparametric', 'belief', 'propagation', 'nbp', 'algorithm', 'the', 'bp', 'messages', 'are', 'represented', 'as', 'gaussian', 'mixtures', 'and', 'message', 'products', 'are', 'approximated', 'by', 'drawing', 'samples', 'which', 'are', 'then', 'smoothed', 'to', 'form', 'new', 'gaussian', 'mixture', 'distributions', 'key', 'aspect', 'of', 'this', 'approach', 'is', 'the', 'fact', 'that', 'the', 'product', 'of', 'several', 'mixtures', 'of', 'gaussians', 'is', 'also', 'mixture', 'of', 'gaussians', 'and', 'thus', 'can', 'be', 'sampled', 'from', 'with', 'relative', 'ease', 'however', 'it', 'is', 'difficult', 'to', 'see', 'how', 'to', 'extend', 'this', 'algorithm', 'to', 'more', 'general', 'message', 'passing', 'algorithms', 'since', 'for', 'example', 'the', 'trw', 'fixed', 'point', 'equations', 'involve', 'ratios', 'and', 'powers', 'of', 'messages', 'which', 'do', 'not', 'have', 'simple', 'form', 'for', 'gaussian', 'mixtures', 'and', 'may', 'not', 'even', 'form', 'finitely', 'integrable', 'functions', 'instead', 'we', 'adapt', 'recent', 'particle', 'belief', 'propagation', 'pbp', 'algorithm', 'to', 'work', 'on', 'the', 'treereweighted', 'formulation', 'in', 'pbp', 'samples', 'particles', 'are', 'drawn', 'for', 'each', 'variable', 'and', 'each', 'message', 'is', 'represented', 'as', 'set', 'of', 'weights', 'over', 'the', 'available', 'values', 'of', 'the', 'target', 'variable', 'at', 'high', 'level', 'the', 'procedure', 'iterates', 'between', 'sampling', 'particles', 'from', 'each', 'variables', 'domain', 'performing', 'inference', 'over', 'the', 'resulting', 'discrete', 'problem', 'and', 'adaptively', 'updating', 'the', 'sampling', 'distributions', 'this', 'process', 'is', 'illustrated', 'in', 'figure', 'formally', 'we', 'define', 'proposal', 'distribution', 'ws', 'xs', 'for', 'each', 'variable', 'xs', 'such', 'that', 'ws', 'xs', 'is', 'non', 'zero', 'over', 'the', 'domain', 'of', 'xs', 'note', 'that', 'we', 'may', 'rewrite', 'the', 'factor', 'message', 'computation', 'as', 'an', 'importance', 'reweighted', 'expectation', 'mfu', 'xs', 'xs', 'xu', 'xs', 'fu', 'xu', 'xt', 'xu', 'xs', 'mxt', 'fu', 'xt', 'wt', 'xt', 'let', 'us', 'index', 'the', 'variables', 'that', 'are', 'neighbors', 'of', 'factor', 'fu', 'as', 'xu', 'xu', 'xub', 'then', 'after', 'sampling', 'particles', 'xs', 'xs', 'from', 'ws', 'xs', 'we', 'can', 'index', 'particular', 'assignment', 'of', 'parti', 'cle', 'values', 'to', 'the', 'variables', 'in', 'xu', 'with', 'xu', 'xu', 'xubb', 'we', 'then', 'obtain', 'finite', 'sample', 'approximation', 'of', 'the', 'factor', 'message', 'in', 'the', 'form', 'mfu', 'xuk', 'uk', 'fu', 'ik', 'xu', 'il', 'mxul', 'fu', 'xul', 'il', 'ul', 'xul', 'in', 'other', 'words', 'we', 'construct', 'monte', 'carlo', 'approximation', 'to', 'the', 'integral', 'using', 'importance', 'weighted', 'samples', 'from', 'the', 'proposal', 'each', 'of', 'the', 'values', 'in', 'the', 'message', 'then', 'represents', 'an', 'estimate', 'of', 'the', 'continuous', 'function', 'evaluated', 'at', 'single', 'particle', 'observe', 'that', 'the', 'sum', 'is', 'over', 'elements', 'and', 'hence', 'the', 'complexity', 'of', 'computing', 'an', 'entire', 'factor', 'message', 'is', 'this', 'could', 'be', 'made', 'more', 'efficient', 'at', 'the', 'price', 'of', 'increased', 'stochasticity', 'by', 'summing', 'over', 'random', 'subsample', 'of', 'the', 'vectors', 'inference', 'on', 'discrete', 'system', 'xs', 'xt', 'xs', 'xt', 'sample', 'ws', 'xs', 'xs', 'adjust', 'wt', 'xt', 'figure', 'schematic', 'view', 'of', 'particle', 'based', 'inference', 'samples', 'for', 'each', 'variable', 'provide', 'dynamic', 'discretization', 'of', 'the', 'continuous', 'space', 'inference', 'proceeds', 'by', 'optimization', 'or', 'messagepassing', 'in', 'the', 'discrete', 'space', 'the', 'resulting', 'local', 'functions', 'can', 'be', 'used', 'to', 'change', 'the', 'proposals', 'ws', 'and', 'choose', 'new', 'sample', 'locations', 'for', 'each', 'variable', 'likewise', 'we', 'compute', 'variable', 'messages', 'and', 'beliefs', 'as', 'simple', 'point', 'wise', 'products', 'mxs', 'fu', 'fv', 'xs', 'mfu', 'xs', 'xs', 'fv', 'fs', 'this', 'parallels', 'the', 'development', 'in', 'except', 'here', 'we', 'use', 'factor', 'weights', 'to', 'compute', 'messages', 'according', 'to', 'trw', 'rather', 'than', 'standard', 'loopy', 'bp', 'just', 'as', 'in', 'discrete', 'problems', 'it', 'is', 'often', 'desirable', 'to', 'obtain', 'estimates', 'of', 'the', 'log', 'partition', 'function', 'for', 'use', 'in', 'goodness', 'of', 'fit', 'testing', 'or', 'model', 'comparison', 'our', 'implementation', 'of', 'trw', 'pbp', 'gives', 'us', 'stochastic', 'estimate', 'of', 'an', 'upper', 'bound', 'on', 'the', 'true', 'partition', 'function', 'using', 'other', 'message', 'passing', 'approaches', 'that', 'fit', 'into', 'this', 'framework', 'such', 'as', 'mean', 'field', 'can', 'provide', 'similar', 'lower', 'bound', 'these', 'bounds', 'provide', 'possible', 'alternative', 'to', 'monte', 'carlo', 'estimates', 'of', 'marginal', 'likelihood', 'rao', 'blackwellized', 'estimates', 'quantities', 'about', 'xs', 'such', 'as', 'expected', 'values', 'under', 'the', 'pseudomarginal', 'can', 'be', 'computed', 'using', 'the', 'samples', 'xs', 'however', 'for', 'any', 'given', 'variable', 'node', 'xs', 'the', 'incoming', 'messages', 'to', 'xs', 'given', 'in', 'are', 'defined', 'in', 'terms', 'of', 'the', 'importance', 'weights', 'and', 'sampled', 'values', 'of', 'the', 'neighboring', 'variables', 'thus', 'we', 'can', 'compute', 'an', 'estimate', 'of', 'the', 'messages', 'and', 'beliefs', 'defined', 'in', 'at', 'arbitrary', 'values', 'of', 'xs', 'simply', 'by', 'evaluating', 'at', 'that', 'point', 'this', 'allows', 'us', 'to', 'perform', 'rao', 'conditioning', 'on', 'the', 'samples', 'at', 'the', 'neighbors', 'of', 'xs', 'rather', 'than', 'using', 'xs', 'samples', 'directly', 'using', 'this', 'trick', 'we', 'can', 'often', 'get', 'much', 'higher', 'quality', 'estimates', 'from', 'the', 'inference', 'for', 'small', 'in', 'particular', 'if', 'the', 'variable', 'state', 'spaces', 'are', 'sufficiently', 'small', 'that', 'they', 'can', 'be', 'discretized', 'for', 'example', 'in', 'or', 'fewer', 'dimensions', 'the', 'discretized', 'domain', 'size', 'may', 'be', 'manageable', 'but', 'the', 'resulting', 'factor', 'domain', 'size', 'db', 'is', 'intractably', 'large', 'we', 'can', 'evaluate', 'on', 'the', 'discretized', 'grid', 'for', 'only', 'dn', 'more', 'generally', 'we', 'can', 'substitute', 'larger', 'number', 'of', 'samples', 'with', 'cost', 'that', 'grows', 'only', 'linearly', 'in', 'resampling', 'and', 'proposal', 'distributions', 'another', 'critical', 'point', 'is', 'that', 'the', 'efficiency', 'of', 'this', 'procedure', 'hinges', 'on', 'the', 'quality', 'of', 'the', 'proposal', 'distributions', 'ws', 'unfortunately', 'this', 'forms', 'circular', 'problem', 'must', 'be', 'chosen', 'to', 'perform', 'inference', 'but', 'the', 'quality', 'of', 'depends', 'on', 'the', 'distribution', 'and', 'its', 'pseudomarginals', 'this', 'interdependence', 'motivates', 'an', 'attempt', 'to', 'learn', 'the', 'sampling', 'distributions', 'in', 'an', 'online', 'fashion', 'adaptively', 'updating', 'them', 'based', 'on', 'the', 'results', 'of', 'the', 'partially', 'completed', 'inference', 'procedure', 'note', 'that', 'this', 'procedure', 'depends', 'on', 'the', 'same', 'properties', 'as', 'rao', 'blackwellized', 'estimates', 'that', 'we', 'be', 'able', 'to', 'compute', 'our', 'messages', 'and', 'beliefs', 'at', 'new', 'set', 'of', 'points', 'given', 'the', 'message', 'weights', 'at', 'the', 'other', 'nodes', 'both', 'and', 'suggest', 'using', 'the', 'current', 'belief', 'at', 'each', 'iteration', 'to', 'form', 'new', 'proposal', 'distribution', 'in', 'parametric', 'density', 'estimates', 'are', 'formed', 'using', 'the', 'message', 'weighted', 'samples', 'at', 'the', 'current', 'iteration', 'which', 'form', 'the', 'sampling', 'distributions', 'for', 'the', 'next', 'phase', 'in', 'short', 'metropolis', 'hastings', 'mcmc', 'sequence', 'is', 'run', 'at', 'single', 'node', 'using', 'the', 'rao', 'blackwellized', 'belief', 'estimate', 'to', 'compute', 'an', 'acceptance', 'probability', 'third', 'possibility', 'is', 'to', 'use', 'sampling', 'importance', 'bp', 'trw', 'error', 'error', 'error', 'pbp', 'trwpbp', 'figure', 'ising', 'model', 'performance', 'error', 'for', 'pbp', 'left', 'and', 'trw', 'pbp', 'center', 'for', 'varying', 'numbers', 'of', 'particles', 'right', 'pbp', 'and', 'trw', 'pbp', 'juxtaposed', 'to', 'reveal', 'the', 'gap', 'for', 'high', 'resampling', 'sir', 'procedure', 'drawing', 'large', 'number', 'of', 'samples', 'computing', 'weights', 'and', 'retaining', 'only', 'in', 'our', 'experiments', 'we', 'draw', 'samples', 'from', 'the', 'current', 'beliefs', 'as', 'approximated', 'by', 'rao', 'blackwellized', 'estimation', 'over', 'fine', 'grid', 'of', 'particles', 'for', 'variables', 'in', 'more', 'than', 'dimensions', 'we', 'recommend', 'the', 'metropolis', 'hastings', 'approach', 'ising', 'like', 'models', 'the', 'ising', 'model', 'corresponds', 'to', 'graphical', 'model', 'typically', 'grid', 'over', 'binary', 'valued', 'variables', 'with', 'pairwise', 'factors', 'originating', 'in', 'statistical', 'physics', 'similar', 'models', 'are', 'common', 'in', 'many', 'applications', 'including', 'image', 'denoising', 'and', 'stereo', 'depth', 'estimation', 'ising', 'models', 'are', 'well', 'understood', 'and', 'provide', 'simple', 'example', 'of', 'how', 'bp', 'can', 'fail', 'and', 'the', 'benefits', 'of', 'more', 'general', 'forms', 'such', 'as', 'trw', 'we', 'initially', 'demonstrate', 'the', 'behavior', 'of', 'our', 'particle', 'based', 'algorithms', 'on', 'small', 'lattice', 'of', 'binary', 'valued', 'variables', 'to', 'compare', 'with', 'the', 'exact', 'discrete', 'implementations', 'then', 'show', 'that', 'the', 'same', 'observed', 'behavior', 'arises', 'in', 'an', 'analagous', 'continuous', 'valued', 'problem', 'ising', 'model', 'our', 'factors', 'consist', 'of', 'single', 'variable', 'and', 'pairwise', 'functions', 'given', 'by', 'xs', 'xs', 'xt', 'for', 'by', 'symmetry', 'it', 'is', 'easy', 'to', 'see', 'that', 'the', 'true', 'marginal', 'of', 'each', 'variable', 'is', 'uniform', 'however', 'around', 'there', 'is', 'phase', 'transition', 'the', 'uniform', 'fixed', 'point', 'becomes', 'unstable', 'and', 'several', 'others', 'appear', 'becoming', 'more', 'skewed', 'toward', 'one', 'state', 'or', 'another', 'as', 'increases', 'as', 'the', 'strength', 'of', 'coupling', 'in', 'an', 'ising', 'model', 'increases', 'the', 'performance', 'of', 'bp', 'often', 'degrades', 'sharply', 'while', 'trw', 'is', 'comparatively', 'robust', 'and', 'remains', 'near', 'the', 'true', 'marginals', 'figure', 'shows', 'the', 'performance', 'of', 'pbp', 'and', 'trw', 'pbp', 'on', 'this', 'model', 'each', 'data', 'point', 'represents', 'the', 'median', 'error', 'between', 'the', 'beliefs', 'and', 'the', 'true', 'marginals', 'across', 'all', 'nodes', 'and', 'randomly', 'initialized', 'trials', 'after', 'iterations', 'the', 'left', 'plot', 'bp', 'clearly', 'shows', 'the', 'phase', 'shift', 'in', 'contrast', 'the', 'error', 'of', 'trw', 'remains', 'low', 'even', 'for', 'very', 'strong', 'interactions', 'in', 'both', 'cases', 'as', 'increases', 'the', 'particle', 'versions', 'of', 'the', 'algorithms', 'converge', 'to', 'their', 'discrete', 'equivalents', 'continuous', 'grid', 'model', 'the', 'results', 'for', 'discrete', 'systems', 'and', 'their', 'corresponding', 'intuition', 'carry', 'over', 'naturally', 'into', 'continuous', 'systems', 'as', 'well', 'to', 'illustrate', 'on', 'an', 'interpretable', 'analogue', 'of', 'the', 'ising', 'model', 'we', 'use', 'the', 'same', 'graph', 'structure', 'but', 'with', 'real', 'valued', 'variables', 'and', 'factors', 'given', 'by', 'xs', 'xs', 'xt', 'xs', 'exp', 'exp', 'exp', 'local', 'factors', 'consist', 'of', 'bimodal', 'gaussian', 'mixtures', 'centered', 'at', 'and', 'while', 'pairwise', 'factors', 'encourage', 'similarity', 'using', 'zero', 'mean', 'gaussian', 'on', 'the', 'distance', 'between', 'neighboring', 'variables', 'we', 'set', 'and', 'vary', 'analagously', 'to', 'in', 'the', 'discrete', 'model', 'since', 'all', 'potentials', 'are', 'gaussian', 'mixtures', 'the', 'joint', 'distribution', 'is', 'also', 'gaussian', 'mixture', 'and', 'can', 'be', 'computed', 'exactly', 'log', 'error', 'error', 'error', 'log', 'pbp', 'trwpbp', 'log', 'figure', 'continuous', 'grid', 'model', 'performance', 'error', 'for', 'pbp', 'left', 'and', 'trw', 'pbp', 'center', 'for', 'varying', 'numbers', 'of', 'particles', 'right', 'pbp', 'and', 'trw', 'pbp', 'juxtaposed', 'to', 'reveal', 'the', 'gap', 'for', 'low', 'figure', 'shows', 'the', 'results', 'of', 'running', 'pbp', 'and', 'trw', 'pbp', 'on', 'the', 'continuous', 'grid', 'model', 'demonstrating', 'similar', 'characteristics', 'to', 'the', 'discrete', 'model', 'the', 'left', 'panel', 'reveals', 'that', 'our', 'continuous', 'grid', 'model', 'also', 'induces', 'phase', 'shift', 'in', 'pbp', 'much', 'like', 'that', 'of', 'the', 'ising', 'model', 'for', 'sufficiently', 'small', 'values', 'of', 'large', 'values', 'on', 'our', 'transformed', 'axis', 'the', 'beliefs', 'in', 'pbp', 'collapse', 'to', 'unimodal', 'distributions', 'with', 'an', 'error', 'of', 'in', 'contrast', 'trw', 'pbp', 'avoids', 'this', 'collapse', 'and', 'maintains', 'multi', 'modal', 'distributions', 'throughout', 'its', 'primary', 'source', 'of', 'error', 'at', 'particles', 'corresponds', 'to', 'overdispersed', 'bimodal', 'beliefs', 'this', 'is', 'expected', 'in', 'attractive', 'models', 'in', 'which', 'bp', 'tends', 'to', 'overcount', 'information', 'leading', 'to', 'underestimates', 'of', 'variance', 'trw', 'removes', 'some', 'of', 'this', 'overcounting', 'and', 'may', 'overestimate', 'uncertainty', 'as', 'mentioned', 'in', 'section', 'we', 'can', 'use', 'the', 'results', 'of', 'trw', 'pbp', 'to', 'compute', 'an', 'upper', 'bound', 'on', 'the', 'log', 'partition', 'function', 'we', 'implement', 'naive', 'mean', 'field', 'within', 'this', 'same', 'framework', 'to', 'achieve', 'lower', 'bound', 'as', 'well', 'the', 'resulting', 'bounds', 'computed', 'for', 'continuous', 'grid', 'model', 'in', 'which', 'mean', 'field', 'collapses', 'to', 'single', 'mode', 'are', 'shown', 'in', 'figure', 'with', 'sufficiently', 'many', 'particles', 'the', 'values', 'produced', 'by', 'trw', 'pbp', 'and', 'mf', 'inference', 'bound', 'the', 'true', 'value', 'as', 'they', 'should', 'with', 'only', 'particles', 'per', 'variable', 'however', 'trw', 'pbp', 'occasionally', 'fails', 'and', 'yields', 'upper', 'bounds', 'below', 'the', 'true', 'value', 'this', 'is', 'not', 'surprising', 'the', 'consistency', 'guarantees', 'associated', 'with', 'the', 'expectation', 'take', 'effect', 'only', 'when', 'is', 'suffi', 'figure', 'bounds', 'on', 'the', 'log', 'partition', 'function', 'ciently', 'large', 'sensor', 'localization', 'we', 'also', 'demonstrate', 'the', 'presence', 'of', 'these', 'effects', 'in', 'simulation', 'of', 'real', 'world', 'application', 'sensor', 'localization', 'considers', 'the', 'task', 'of', 'estimating', 'the', 'position', 'of', 'collection', 'of', 'sensors', 'in', 'network', 'given', 'noisy', 'estimates', 'of', 'subset', 'of', 'the', 'distances', 'between', 'pairs', 'of', 'sensors', 'along', 'with', 'known', 'positions', 'for', 'small', 'number', 'of', 'anchor', 'nodes', 'typical', 'localization', 'algorithms', 'operate', 'by', 'optimizing', 'to', 'find', 'the', 'most', 'likely', 'joint', 'configuration', 'of', 'sensor', 'positions', 'classical', 'model', 'consists', 'of', 'at', 'minimum', 'three', 'anchor', 'nodes', 'and', 'gaussian', 'model', 'on', 'the', 'noise', 'in', 'the', 'distance', 'observations', 'in', 'this', 'problem', 'is', 'formulated', 'as', 'graphical', 'model', 'and', 'an', 'alternative', 'solution', 'is', 'proposed', 'using', 'nonparametric', 'belief', 'propagation', 'to', 'perform', 'approximate', 'marginalization', 'significant', 'advantage', 'of', 'this', 'approach', 'is', 'that', 'by', 'providing', 'approximate', 'marginals', 'we', 'can', 'estimate', 'the', 'degree', 'of', 'uncertainty', 'in', 'the', 'sensor', 'positions', 'gauging', 'this', 'uncertainty', 'can', 'be', 'particularly', 'important', 'when', 'the', 'distance', 'information', 'is', 'sufficiently', 'ambiguous', 'that', 'the', 'posterior', 'belief', 'is', 'multi', 'modal', 'since', 'in', 'this', 'case', 'the', 'estimated', 'sensor', 'position', 'may', 'be', 'quite', 'far', 'from', 'its', 'true', 'value', 'unfortunately', 'belief', 'propagation', 'is', 'not', 'ideal', 'for', 'identifying', 'multimodality', 'since', 'the', 'model', 'is', 'essentially', 'attractive', 'bp', 'may', 'underestimate', 'the', 'degree', 'of', 'uncertainty', 'in', 'the', 'marginal', 'distributions', 'and', 'as', 'in', 'the', 'case', 'of', 'the', 'ising', 'like', 'models', 'in', 'the', 'previous', 'section', 'collapse', 'into', 'single', 'mode', 'providing', 'beliefs', 'which', 'are', 'misleadingly', 'overconfident', 'figure', 'shows', 'set', 'of', 'sensor', 'configurations', 'where', 'this', 'is', 'the', 'case', 'the', 'distance', 'observations', 'induce', 'fully', 'connected', 'graph', 'the', 'edges', 'are', 'omitted', 'for', 'clarity', 'in', 'this', 'network', 'the', 'anchor', 'nodes', 'are', 'nearly', 'collinear', 'this', 'induces', 'bimodal', 'uncertainty', 'about', 'the', 'locations', 'of', 'the', 'remaining', 'nodes', 'anchor', 'anchor', 'anchor', 'mobile', 'mobile', 'mobile', 'target', 'target', 'target', 'exact', 'pbp', 'trw', 'pbp', 'figure', 'sensor', 'location', 'belief', 'at', 'the', 'target', 'node', 'exact', 'belief', 'computed', 'using', 'importance', 'sampling', 'pbp', 'collapses', 'and', 'represents', 'only', 'one', 'of', 'the', 'two', 'modes', 'trw', 'pbp', 'overestimates', 'the', 'uncertainty', 'around', 'each', 'mode', 'but', 'represents', 'both', 'the', 'configuration', 'in', 'which', 'they', 'are', 'all', 'reflected', 'across', 'the', 'crooked', 'line', 'formed', 'by', 'the', 'anchors', 'is', 'nearly', 'as', 'likely', 'as', 'the', 'true', 'configuration', 'although', 'this', 'example', 'is', 'anecdotal', 'it', 'reflects', 'situation', 'which', 'can', 'arise', 'regularly', 'in', 'practice', 'figure', 'shows', 'the', 'true', 'marginal', 'distribution', 'for', 'one', 'node', 'estimated', 'exhaustively', 'using', 'importance', 'sampling', 'with', 'samples', 'it', 'shows', 'clear', 'bimodal', 'structure', 'slightly', 'larger', 'mode', 'near', 'the', 'sensors', 'true', 'location', 'and', 'smaller', 'mode', 'at', 'point', 'corresponding', 'to', 'the', 'reflection', 'in', 'this', 'system', 'there', 'is', 'not', 'enough', 'information', 'in', 'the', 'measurements', 'to', 'resolve', 'the', 'sensor', 'positions', 'we', 'compare', 'these', 'marginals', 'to', 'the', 'results', 'found', 'using', 'pbp', 'figure', 'displays', 'the', 'rao', 'blackwellized', 'belief', 'estimate', 'for', 'one', 'node', 'after', 'iterations', 'of', 'pbp', 'with', 'each', 'variable', 'represented', 'by', 'particles', 'only', 'one', 'mode', 'is', 'present', 'suggesting', 'that', 'pbps', 'beliefs', 'have', 'collapsed', 'just', 'as', 'in', 'the', 'highly', 'attractive', 'ising', 'model', 'examination', 'of', 'the', 'other', 'nodes', 'beliefs', 'not', 'shown', 'for', 'space', 'confirms', 'that', 'all', 'are', 'unimodal', 'distributions', 'centered', 'around', 'their', 'reflected', 'locations', 'it', 'is', 'worth', 'noting', 'that', 'pbp', 'converged', 'to', 'the', 'alternative', 'set', 'of', 'unimodal', 'beliefs', 'supporting', 'the', 'true', 'locations', 'in', 'about', 'half', 'of', 'our', 'trials', 'such', 'an', 'outcome', 'is', 'only', 'slightly', 'better', 'an', 'accurate', 'estimate', 'of', 'confidence', 'is', 'equally', 'important', 'the', 'corresponding', 'belief', 'estimate', 'generated', 'by', 'trw', 'pbp', 'is', 'shown', 'in', 'figure', 'it', 'is', 'clearly', 'bimodal', 'with', 'significant', 'probability', 'mass', 'supporting', 'both', 'the', 'true', 'and', 'reflected', 'locations', 'also', 'each', 'of', 'the', 'two', 'modes', 'is', 'less', 'concentrated', 'than', 'the', 'belief', 'in', 'as', 'with', 'the', 'continuous', 'grid', 'model', 'we', 'see', 'increased', 'stability', 'at', 'the', 'price', 'of', 'conservative', 'overdispersion', 'again', 'similar', 'effects', 'occur', 'for', 'the', 'other', 'nodes', 'in', 'the', 'network', 'conclusion', 'we', 'propose', 'framework', 'for', 'extending', 'recent', 'advances', 'in', 'discrete', 'approximate', 'inference', 'for', 'application', 'to', 'continuous', 'systems', 'the', 'framework', 'directly', 'integrates', 'reweighted', 'message', 'passing', 'algorithms', 'such', 'as', 'trw', 'into', 'the', 'lifted', 'discrete', 'phase', 'of', 'pbp', 'furthermore', 'it', 'allows', 'us', 'to', 'iteratively', 'adjust', 'the', 'proposal', 'distributions', 'providing', 'discretization', 'that', 'adapts', 'to', 'the', 'results', 'of', 'inference', 'and', 'allows', 'us', 'to', 'use', 'rao', 'blackwellized', 'estimates', 'to', 'improve', 'our', 'final', 'belief', 'estimates', 'we', 'consider', 'the', 'particular', 'case', 'of', 'trw', 'and', 'show', 'that', 'its', 'benefits', 'carry', 'over', 'directly', 'to', 'continuous', 'problems', 'using', 'an', 'ising', 'like', 'system', 'we', 'argue', 'that', 'phase', 'transitions', 'exist', 'for', 'particle', 'versions', 'of', 'bp', 'similar', 'to', 'those', 'found', 'in', 'discrete', 'systems', 'and', 'that', 'trw', 'significantly', 'improves', 'the', 'quality', 'of', 'the', 'estimate', 'in', 'those', 'regimes', 'this', 'improvement', 'is', 'highly', 'relevant', 'to', 'approximate', 'marginalization', 'for', 'sensor', 'localization', 'tasks', 'in', 'which', 'it', 'is', 'important', 'to', 'accurately', 'represent', 'the', 'posterior', 'uncertainty', 'the', 'flexibility', 'in', 'the', 'choice', 'of', 'message', 'passing', 'algorithm', 'makes', 'it', 'easy', 'to', 'consider', 'several', 'instantiations', 'of', 'the', 'framework', 'and', 'use', 'the', 'one', 'best', 'suited', 'to', 'particular', 'problem', 'furthermore', 'future', 'improvements', 'in', 'message', 'passing', 'inference', 'algorithms', 'on', 'discrete', 'systems', 'can', 'be', 'directly', 'incorporated', 'into', 'continuous', 'problems', 'this', 'material', 'is', 'based', 'upon', 'work', 'partially', 'supported', 'by', 'the', 'office', 'of', 'naval', 'research', 'under', 'muri', 'grant', 'references', 'pearl', 'probabilistic', 'reasoning', 'in', 'intelligent', 'systems', 'morgan', 'kaufman', 'san', 'mateo', 'geman', 'and', 'geman', 'stochastic', 'relaxation', 'gibbs', 'distributions', 'and', 'the', 'bayesian', 'restoration', 'of', 'images', 'ieee', 'trans', 'pami', 'november', 'jordan', 'ghahramani', 'jaakkola', 'and', 'saul', 'an', 'introduction', 'to', 'variational', 'methods', 'for', 'graphical', 'methods', 'machine', 'learning', 'yedidia', 'freeman', 'and', 'weiss', 'constructing', 'free', 'energy', 'approximations', 'and', 'generalized', 'belief', 'propagation', 'algorithms', 'technical', 'report', 'merl', 'may', 'wainwright', 'jaakkola', 'and', 'willsky', 'new', 'class', 'of', 'upper', 'bounds', 'on', 'the', 'log', 'partition', 'function', 'ieee', 'trans', 'info', 'theory', 'july', 'sontag', 'and', 'jaakkola', 'new', 'outer', 'bounds', 'on', 'the', 'marginal', 'polytope', 'in', 'nips', 'pages', 'mit', 'press', 'cambridge', 'ma', 'sudderth', 'ihler', 'freeman', 'and', 'willsky', 'nonparametric', 'belief', 'propagation', 'in', 'cvpr', 'minka', 'divergence', 'measures', 'and', 'message', 'passing', 'technical', 'report', 'microsoft', 'research', 'ltd', 'january', 'yuille', 'cccp', 'algorithms', 'to', 'minimize', 'the', 'bethe', 'and', 'kikuchi', 'free', 'energies', 'convergent', 'alternatives', 'to', 'belief', 'propagation', 'neural', 'comput', 'teh', 'and', 'welling', 'the', 'unified', 'propagation', 'and', 'scaling', 'algorithm', 'in', 'nips', 'gonzalez', 'low', 'and', 'guestrin', 'residual', 'splash', 'for', 'optimally', 'parallelizing', 'belief', 'propagation', 'in', 'in', 'artificial', 'intelligence', 'and', 'statistics', 'aistats', 'clearwater', 'beach', 'florida', 'april', 'ihler', 'fisher', 'moses', 'and', 'willsky', 'nonparametric', 'belief', 'propagation', 'for', 'self', 'calibration', 'in', 'sensor', 'networks', 'ieee', 'select', 'areas', 'commun', 'pages', 'april', 'schiff', 'antonelli', 'dimakis', 'chu', 'and', 'wainwright', 'robust', 'message', 'passing', 'for', 'statistical', 'inference', 'in', 'sensor', 'networks', 'in', 'ipsn', 'pages', 'april', 'globerson', 'sontag', 'and', 'jaakkola', 'approximate', 'inference', 'how', 'far', 'have', 'we', 'come', 'nips', 'workshop', 'http', 'wwwcshujiacil', 'gamir', 'inference', 'workshophtml', 'koller', 'lerner', 'and', 'angelov', 'general', 'algorithm', 'for', 'approximate', 'inference', 'and', 'its', 'application', 'to', 'hybrid', 'bayes', 'nets', 'in', 'uai', 'pages', 'ihler', 'and', 'mcallester', 'particle', 'belief', 'propagation', 'in', 'ai', 'statistics', 'jmlr', 'cp', 'volume', 'pages', 'april', 'kschischang', 'frey', 'and', 'loeliger', 'factor', 'graphs', 'and', 'the', 'sum', 'product', 'algorithm', 'ieee', 'trans', 'info', 'theory', 'february', 'wainwright', 'and', 'jordan', 'graphical', 'models', 'exponential', 'families', 'and', 'variational', 'inference', 'technical', 'report', 'uc', 'berkeley', 'dept', 'of', 'statistics', 'september', 'sl', 'lauritzen', 'and', 'dj', 'spiegelhalter', 'local', 'computations', 'with', 'probabilities', 'on', 'graphical', 'structures', 'and', 'their', 'application', 'to', 'expert', 'systems', 'journal', 'of', 'the', 'royal', 'statistical', 'society', 'series', 'methodological', 'pages', 'wiegerinck', 'and', 'heskes', 'fractional', 'belief', 'propagation', 'in', 'nips', 'pages', 'hazan', 'and', 'shashua', 'convergent', 'message', 'passing', 'algorithms', 'for', 'inference', 'over', 'general', 'graphs', 'with', 'convex', 'free', 'energies', 'in', 'uai', 'pages', 'july', 'arulampalam', 'maskell', 'gordon', 'and', 'clapp', 'tutorial', 'on', 'particle', 'filters', 'for', 'online', 'nonlinear', 'non', 'gaussian', 'bayesian', 'tracking', 'february', 'coughlan', 'and', 'shen', 'dynamic', 'quantization', 'for', 'belief', 'propagation', 'in', 'sparse', 'spaces', 'comput', 'vis', 'image', 'underst', 'isard', 'maccormick', 'and', 'achan', 'continuously', 'adaptive', 'discretization', 'for', 'message', 'passing', 'algorithms', 'in', 'nips', 'pages', 'chib', 'marginal', 'likelihood', 'from', 'the', 'gibbs', 'output', 'jasa', 'moore', 'leonard', 'rus', 'and', 'teller', 'robust', 'distributed', 'network', 'localization', 'with', 'noisy', 'range', 'measurements', 'in', 'nd', 'intl', 'conf', 'on', 'emb', 'networked', 'sensor', 'sys', 'sensys', 'pages']]\n",
            "CPU times: user 475 ms, sys: 51.3 ms, total: 527 ms\n",
            "Wall time: 671 ms\n"
          ],
          "name": "stdout"
        }
      ]
    },
    {
      "cell_type": "markdown",
      "metadata": {
        "id": "iJ2w98MW-ZsT",
        "colab_type": "text"
      },
      "source": [
        "# Bi-grams and Tri-grams"
      ]
    },
    {
      "cell_type": "code",
      "metadata": {
        "id": "iItVHwOz-TAJ",
        "colab_type": "code",
        "colab": {
          "base_uri": "https://localhost:8080/",
          "height": 71
        },
        "outputId": "31ddbfbc-196e-49ce-e7e6-df33ebaca0f0"
      },
      "source": [
        "# Build the bigram and trigram models\n",
        "bigram = gensim.models.Phrases(data_words, min_count=5, threshold=100) # higher threshold fewer phrases.\n",
        "trigram = gensim.models.Phrases(bigram[data_words], threshold=100)\n",
        "# Faster way to get a sentence clubbed as a trigram/bigram\n",
        "bigram_mod = gensim.models.phrases.Phraser(bigram)\n",
        "trigram_mod = gensim.models.phrases.Phraser(trigram)"
      ],
      "execution_count": 8,
      "outputs": [
        {
          "output_type": "stream",
          "text": [
            "/usr/local/lib/python3.6/dist-packages/gensim/models/phrases.py:598: UserWarning: For a faster implementation, use the gensim.models.phrases.Phraser class\n",
            "  warnings.warn(\"For a faster implementation, use the gensim.models.phrases.Phraser class\")\n"
          ],
          "name": "stderr"
        }
      ]
    },
    {
      "cell_type": "code",
      "metadata": {
        "id": "ERUxZ4fX-cQm",
        "colab_type": "code",
        "colab": {
          "base_uri": "https://localhost:8080/",
          "height": 51
        },
        "outputId": "1209a916-0716-4be1-97b0-eb429fa8701f"
      },
      "source": [
        "# NLTK Stop words\n",
        "import nltk\n",
        "nltk.download('stopwords')\n",
        "from nltk.corpus import stopwords\n",
        "stop_words = stopwords.words('english')\n",
        "stop_words.extend(['from', 'subject', 're', 'edu', 'use'])\n",
        "# Define functions for stopwords, bigrams, trigrams and lemmatization\n",
        "def remove_stopwords(texts):\n",
        "    return [[word for word in simple_preprocess(str(doc)) if word not in stop_words] for doc in texts]\n",
        "def make_bigrams(texts):\n",
        "    return [bigram_mod[doc] for doc in texts]\n",
        "def make_trigrams(texts):\n",
        "    return [trigram_mod[bigram_mod[doc]] for doc in texts]\n",
        "def lemmatization(texts, allowed_postags=['NOUN', 'ADJ', 'VERB', 'ADV']):\n",
        "    \"\"\"https://spacy.io/api/annotation\"\"\"\n",
        "    texts_out = []\n",
        "    for sent in texts:\n",
        "        doc = nlp(\" \".join(sent)) \n",
        "        texts_out.append([token.lemma_ for token in doc if token.pos_ in allowed_postags])\n",
        "    return texts_out"
      ],
      "execution_count": 11,
      "outputs": [
        {
          "output_type": "stream",
          "text": [
            "[nltk_data] Downloading package stopwords to /root/nltk_data...\n",
            "[nltk_data]   Unzipping corpora/stopwords.zip.\n"
          ],
          "name": "stdout"
        }
      ]
    },
    {
      "cell_type": "code",
      "metadata": {
        "id": "ZPiN3EHW-gJ3",
        "colab_type": "code",
        "colab": {
          "base_uri": "https://localhost:8080/",
          "height": 54
        },
        "outputId": "d3d5f171-f6e4-44d4-c1d9-f5eae152cdfa"
      },
      "source": [
        "import spacy\n",
        "# Remove Stop Words\n",
        "data_words_nostops = remove_stopwords(data_words)\n",
        "# Form Bigrams\n",
        "data_words_bigrams = make_bigrams(data_words_nostops)\n",
        "# Initialize spacy 'en' model, keeping only tagger component (for efficiency)\n",
        "nlp = spacy.load(\"en_core_web_sm\", disable=['parser', 'ner'])\n",
        "# Do lemmatization keeping only noun, adj, vb, adv\n",
        "data_lemmatized = lemmatization(data_words_bigrams, allowed_postags=['NOUN', 'ADJ', 'VERB', 'ADV'])\n",
        "print(data_lemmatized[:1])"
      ],
      "execution_count": 12,
      "outputs": [
        {
          "output_type": "stream",
          "text": [
            "[['particle', 'base', 'variational', 'inference', 'continuous', 'system', 'univ', 'icsuciedu', 'univ', 'univ', 'icsuciedu', 'abstract', 'development', 'loopy', 'considerable', 'work', 'advance', 'state', 'art', 'approximate', 'inference', 'distribution', 'define', 'discrete', 'random', 'variable', 'improvement', 'include', 'guarantee', 'convergence', 'approximation', 'provably', 'accurate', 'bound', 'result', 'exact', 'inference', 'however', 'extend', 'method', 'continuous', 'value', 'system', 'lag', 'several', 'method', 'develop', 'belief_propagation', 'system', 'continuous', 'value', 'recent', 'advance', 'discrete', 'variable', 'incorporated', 'context', 'extend', 'recently', 'propose', 'particle', 'base', 'provide', 'general', 'framework', 'adapt', 'discrete', 'algorithm', 'inference', 'continuous', 'system', 'result', 'algorithm', 'behave', 'similarly', 'purely', 'discrete', 'counterpart', 'extend', 'benefit', 'advance', 'inference', 'technique', 'continuous', 'domain', 'introduction', 'graphical', 'model', 'prove', 'effective', 'tool', 'represent', 'underlie', 'structure', 'probability', 'distribution', 'organize', 'computation', 'require', 'exact', 'approximate', 'inference', 'early', 'example', 'graph', 'structure', 'inference', 'include', 'join', 'junction', 'tree', 'exact', 'inference', 'markov', 'chain', 'method', 'variational', 'method', 'structure', 'approach', 'originally', 'propose', 'gain', 'popularity', 'method', 'approximate', 'inference', 'last', 'decade', 'lead', 'number', 'sophisticated', 'algorithm', 'base', 'conjugate', 'dual', 'formulation', 'free_energy', 'approximation', 'however', 'progress', 'approximate', 'inference', 'system', 'continuous', 'random', 'variable', 'keep', 'pace', 'discrete', 'random', 'variable', 'methods', 'mcmc', 'technique', 'directly', 'applicable', 'continuous', 'domain', 'other', 'approximate', 'continuous', 'formulation', 'sample', 'base', 'representation', 'use', 'particle', 'filter', 'particularly', 'appeal', 'relatively', 'easy', 'implement', 'numerical', 'issue', 'inherent', 'distributional', 'assumption', 'aim', 'extend', 'particle', 'method', 'take', 'advantage', 'recent', 'advance', 'approximate', 'inference', 'algorithm', 'discrete', 'value', 'system', 'several', 'recent', 'algorithm', 'provide', 'significant', 'advantage', 'loopy', 'cccp', 'up', 'approximation', 'approximation', 'use', 'provide', 'theoretical', 'bound', 'result', 'exact', 'inference', 'guarantee', 'improve', 'quality', 'approximation', 'allow', 'inform', 'trade', 'computation', 'accuracy', 'formulate', 'local', 'graph', 'making', 'amenable', 'parallel', 'computation', 'inference', 'distribute', 'system', 'short', 'algorithmic', 'characteristic', 'recently', 'develop', 'algorithm', 'often', 'better', 'least', 'flexible', 'however', 'method', 'apply', 'continuous', 'random', 'variable', 'fact', 'open', 'question', 'pose', 'recent', 'nip', 'workshop', 'order', 'develop', 'particle', 'base', 'approximation', 'focus', 'particular', 'technique', 'concreteness', 'tree', 'reweighte', 'represent', 'early', 'recent', 'class', 'inference', 'algorithm', 'discrete', 'system', 'discuss', 'section', 'extension', 'incorporate', 'desire', 'basic', 'idea', 'extend', 'previous', 'particle', 'formulation', 'exact', 'inference', 'loopy', 'belief_propagation', 'collection', 'sample', 'draw', 'continuous', 'state', 'space', 'variable', 'define', 'discrete', 'problem', 'lift', 'inference', 'task', 'original', 'space', 'restrict', 'discrete', 'domain', 'trw', 'perform', 'point', 'current', 'result', 'discrete', 'inference', 'use', 'select', 'sample', 'point', 'variable', 'continuous', 'domain', 'iterative', 'interaction', 'sample', 'location', 'discrete', 'message', 'produce', 'dynamic', 'discretization', 'adapt', 'inference', 'result', 'demonstrate', 'similar', 'method', 'naturally', 'incorporate', 'lift', 'discrete', 'phase', 'particle', 'confer', 'similar', 'benefit', 'continuous', 'problem', 'hold', 'truly', 'discrete', 'system', 'end', 'measure', 'performance', 'ise', 'analogous', 'continuous', 'model', 'sensor', 'localization', 'problem', 'case', 'show', 'tree', 'reweighte', 'particle', 'exhibit', 'similar', 'produce', 'significantly', 'robust', 'marginal', 'estimate', 'ordinary', 'particle', 'model', 'model', 'provide', 'convenient', 'formalism', 'describe', 'structure', 'probability', 'distribution', 'define', 'set', 'variable', 'xn', 'structure', 'apply', 'organize', 'computation', 'construct', 'efficient', 'algorithm', 'many', 'inference', 'task', 'include', 'optimization', 'find', 'maximum', 'posteriori', 'map', 'configuration', 'observe', 'datum', 'factor', 'graph', 'factor', 'graph', 'particular', 'type', 'graphical', 'model', 'describe', 'factorization', 'structure', 'distribution', 'use', 'bipartite', 'graph', 'consisting', 'factor', 'node', 'variable', 'node', 'specifically', 'suppose', 'graph', 'consist', 'factor', 'node', 'variable', 'node', 'let', 'denote', 'neighbor', 'factor', 'denote', 'neighbor', 'variable', 'distribution', 'common', 'abuse', 'notation', 'symbol', 'represent', 'variable', 'associate', 'factor', 'correspond', 'strictly', 'positive', 'function', 'subset', 'variable', 'graph', 'connectivity', 'capture', 'structure', 'enable', 'development', 'efficient', 'exact', 'approximate', 'inference', 'algorithm', 'call', 'also', 'importance', 'many', 'problem', 'example', 'normalize', 'distribution', 'net', 'correspond', 'probability', 'evidence', 'use', 'model', 'comparison', 'common', 'inference', 'problem', 'compute', 'marginal', 'distribution', 'specifically', 'variable', 'interested', 'compute', 'marginal', 'distribution', 'value', 'variable', 'integral', 'replace', 'summation', 'variable', 'discrete', 'graph', 'representing', 'form', 'tree', 'cycle', 'marginalization', 'perform', 'efficiently', 'use', 'sum', 'product', 'inference', 'junction', 'tree', 'algorithm', 'create', 'tree', 'structure', 'perform', 'inference', 'process', 'ndb', 'number', 'possible', 'value', 'variable', 'maximal', 'clique', 'size', 'unfortunately', 'even', 'moderate', 'value', 'complexity', 'become', 'prohibitive', 'even', 'relatively', 'small', 'approximate', 'inference', 'loopy', 'popular', 'alternative', 'method', 'proceed', 'iteratively', 'pass', 'message', 'variable', 'factor', 'node', 'graph', 'graph', 'tree', 'ignore', 'cycle', 'exact', 'graph', 'tree', 'structure', 'provide', 'excellent', 'approximation', 'case', 'even', 'graph', 'loop', 'however', 'case', 'loopy', 'may', 'perform', 'poorly', 'multiple', 'fix', 'point', 'fail', 'converge', 'many', 'recent', 'variety', 'approximate', 'inference', 'frame', 'explicitly', 'optimization', 'local', 'approximation', 'locally', 'define', 'cost', 'function', 'variational', 'free_energy', 'base', 'approach', 'problem', 'exact', 'inference', 'optimization', 'function', 'set', 'realizable', 'marginal', 'distribution', 'call', 'marginal', 'polytope', 'inference', 'correspond', 'approximate', 'constraint', 'set', 'energy', 'function', 'formally', 'entropy', 'distribution', 'correspond', 'solution', 'may', 'correspond', 'marginal', 'consistent', 'joint', 'distribution', 'approximate', 'marginal', 'typically', 'decompose', 'approximate', 'entropy', 'refer', 'pseudomarginal', 'constraint', 'locally', 'graph', 'optimization', 'process', 'interpret', 'procedure', 'often', 'perform', 'use', 'equation', 'understand', 'framework', 'correspond', 'outer', 'approximac', 'enforce', 'local', 'consistency', 'approximation', 'viewpoint', 'tion', 'provide', 'clear', 'path', 'directly', 'improve', 'property', 'lead', 'number', 'different', 'algorithm', 'example', 'cccp', 'up', 'make', 'approximation', 'alternative', 'direct', 'optimization', 'procedure', 'ensure', 'convergence', 'fractional', 'correspond', 'general', 'approximation', 'additional', 'parameter', 'modify', 'ensure', 'cost', 'function', 'convex', 'use', 'convergent', 'algorithm', 'special', 'case', 'include', 'tree', 'reweighte', 'ensure', 'convexity', 'provide', 'approximation', 'also', 'improve', 'use', 'cut', 'plane', 'method', 'include', 'additional', 'high', 'order', 'consistency', 'constraint', 'pseudomarginal', 'choice', 'local', 'cost', 'function', 'lead', 'alternative', 'family', 'approximation', 'overall', 'advance', 'provide', 'significant', 'improvement', 'state', 'art', 'approximate', 'inference', 'discrete', 'value', 'system', 'provide', 'increase', 'flexibility', 'theoretical', 'bound', 'result', 'exact', 'inference', 'provably', 'increase', 'quality', 'estimate', 'however', 'advance', 'carry', 'continuous', 'domain', 'concreteness', 'rest', 'paper', 'tree', 'reweighte', 'inference', 'method', 'choice', 'idea', 'apply', 'discuss', 'inference', 'algorithm', 'see', 'shortly', 'detail', 'specific', 'nicely', 'encapsulate', 'swap', 'minimal', 'effort', 'equation', 'lead', 'similar', 'define', 'parameter', 'call', 'edge', 'weight', 'appearance', 'probability', 'require', 'correspond', 'fractional', 'occurrence', 'rate', 'edge', 'collection', 'tree', 'structure', 'subgraphs', 'choice', 'affect', 'tight', 'obtain', 'optimization', 'compute', 'pseudomarginal', 'inner', 'loop', 'continuous', 'random', 'variable', 'continuous', 'value', 'random', 'variable', 'many', 'algorithm', 'can', 'apply', 'directly', 'particular', 'reasonably', 'fine', 'grain', 'discretization', 'produce', 'discrete', 'variable', 'domain', 'size', 'quite', 'large', 'domain', 'size', 'typically', 'exponential', 'dimension', 'variable', 'complexity', 'total', 'number', 'variable', 'number', 'variable', 'large', 'factor', 'thus', 'computational', 'cost', 'quickly', 'become', 'intractable', 'even', 'pairwise', 'factor', 'low', 'dimensional', 'variable', 'goal', 'adapt', 'section', 'perform', 'efficient', 'approximate', 'inference', 'system', 'time', 'problem', 'form', 'chain', 'classical', 'solution', 'approximation', 'generally', 'refer', 'particle', 'filtering', 'method', 'sample', 'define', 'adaptive', 'discretization', 'problem', 'fine', 'granularity', 'region', 'high', 'probability', 'stochastic', 'nature', 'discretization', 'simple', 'implement', 'enable', 'probabilistic', 'assurance', 'quality', 'include', 'convergence', 'rate', 'independent', 'problem', 'dimensionality', 'sufficiently', 'dimension', 'deterministic', 'adaptive', 'discretization', 'also', 'provide', 'competitive', 'alternative', 'particularly', 'factor', 'analytically', 'tractable', 'particle', 'representation', 'particle', 'base', 'approximation', 'extend', 'loopy', 'belief_propagation', 'example', 'nonparametric', 'message', 'represent', 'gaussian', 'mixture', 'message', 'product', 'approximate', 'drawing', 'sample', 'smooth', 'form', 'new', 'gaussian', 'mixture', 'distribution', 'key', 'aspect', 'approach', 'fact', 'product', 'several', 'mixture', 'gaussian', 'also', 'mixture', 'thus', 'sample', 'relative', 'ease', 'however', 'difficult', 'see', 'extend', 'general', 'algorithm', 'example', 'equation', 'involve', 'ratio', 'power', 'message', 'simple', 'form', 'gaussian', 'mixture', 'may', 'even', 'form', 'finitely', 'integrable', 'function', 'instead', 'adapt', 'recent', 'particle', 'treereweighte', 'formulation', 'pbp', 'sample', 'particle', 'draw', 'variable', 'message', 'represent', 'set', 'weight', 'available', 'value', 'target', 'variable', 'high', 'level', 'procedure', 'iterate', 'sample', 'particle', 'variable', 'domain', 'perform', 'inference', 'result', 'discrete', 'problem', 'adaptively', 'update', 'sample', 'distribution', 'process', 'illustrate', 'figure', 'formally', 'define', 'proposal', 'distribution', 'ws', 'variable', 'domain', 'note', 'may', 'rewrite', 'factor', 'message', 'computation', 'importance', 'reweighte', 'expectation', 'let', 'index', 'variable', 'neighbor', 'index', 'particular', 'assignment', 'parti', 'cle', 'value', 'variable', 'factor', 'message', 'form', 'mfu', 'word', 'construct', 'integral', 'use', 'importance', 'weight', 'sample', 'proposal', 'value', 'message', 'represent', 'estimate', 'continuous', 'function', 'evaluate', 'single', 'particle', 'observe', 'sum', 'element', 'hence', 'complexity', 'compute', 'entire', 'factor', 'message', 'could', 'made', 'efficient', 'price', 'increase', 'stochasticity', 'sum', 'random', 'subsample', 'vector', 'inference', 'discrete', 'system', 'figure', 'schematic', 'view', 'particle', 'base', 'inference', 'sample', 'variable', 'provide', 'dynamic', 'discretization', 'continuous', 'space', 'inference', 'proceed', 'optimization', 'messagepasse', 'discrete', 'space', 'result', 'local', 'function', 'use', 'change', 'proposal', 'ws', 'choose', 'new', 'sample', 'location', 'variable', 'likewise', 'compute', 'variable', 'message', 'belief', 'simple', 'point', 'wise', 'product', 'parallel', 'development', 'factor', 'weight', 'compute', 'message', 'accord', 'rather', 'standard', 'loopy', 'discrete', 'problem', 'often', 'desirable', 'obtain', 'estimate', 'log', 'goodness', 'fit', 'testing', 'model', 'comparison', 'implementation', 'give', 'stochastic', 'estimate', 'true', 'partition_function', 'use', 'approach', 'fit', 'framework', 'provide', 'similar', 'lower', 'bind', 'bound', 'provide', 'possible', 'alternative', 'monte', 'carlo', 'estimate', 'marginal', 'likelihood', 'estimate', 'quantity', 'expect', 'value', 'compute', 'use', 'sample', 'however', 'give', 'variable', 'message', 'give', 'define', 'term', 'importance', 'weight', 'sampled', 'value', 'neighboring', 'variable', 'thus', 'compute', 'estimate', 'message', 'belief', 'define', 'arbitrary', 'value', 'xs', 'simply', 'evaluate', 'point', 'perform', 'rao', 'conditioning', 'sample', 'neighbor', 'rather', 'use', 'sample', 'directly', 'use', 'trick', 'often', 'get', 'much', 'high', 'quality', 'estimate', 'inference', 'small', 'particular', 'variable', 'state', 'space', 'sufficiently', 'small', 'discretize', 'example', 'few', 'dimension', 'discretize', 'domain', 'size', 'may', 'manageable', 'result', 'factor', 'domain', 'size', 'db', 'intractably', 'large', 'evaluate', 'discretize', 'grid', 'generally', 'substitute', 'large', 'number', 'sample', 'cost', 'grow', 'linearly', 'resample', 'proposal', 'distribution', 'efficiency', 'procedure', 'hinge', 'quality', 'proposal', 'distribution', 'ws', 'unfortunately', 'form', 'circular', 'problem', 'must', 'chosen', 'perform', 'inference', 'quality', 'depend', 'distribution', 'pseudomarginal', 'interdependence', 'motivate', 'attempt', 'learn', 'sampling', 'distribution', 'online', 'fashion', 'adaptively', 'update', 'base', 'result', 'partially', 'complete', 'inference', 'procedure', 'note', 'procedure', 'depend', 'property', 'rao_blackwellized', 'estimate', 'able', 'compute', 'message', 'belief', 'new', 'set', 'point', 'give', 'message', 'weight', 'node', 'suggest', 'use', 'current', 'belief', 'iteration', 'form', 'new', 'proposal', 'distribution', 'parametric', 'density', 'estimate', 'form', 'use', 'message', 'weight', 'sample', 'current', 'iteration', 'form', 'sampling', 'distribution', 'phase', 'short', 'metropolis', 'sequence', 'run', 'single', 'node', 'use', 'belief', 'estimate', 'acceptance', 'probability', 'third', 'possibility', 'sampling', 'importance', 'performance', 'error', 'leave', 'center', 'varying', 'number', 'particle', 'right', 'pbp', 'trw_pbp', 'reveal', 'gap', 'high', 'resample', 'sir', 'procedure', 'draw', 'large', 'number', 'sample', 'compute', 'weight', 'retain', 'experiment', 'draw', 'sample', 'current', 'belief', 'approximate', 'rao_blackwellized', 'estimation', 'fine', 'grid', 'particle', 'variable', 'dimension', 'recommend', 'approach', 'ise', 'model', 'ise', 'model', 'correspond', 'graphical', 'model', 'typically', 'grid', 'binary', 'value', 'variable', 'pairwise', 'factor', 'originate', 'statistical', 'physics', 'similar', 'model', 'common', 'many', 'application', 'include', 'image', 'denoise', 'stereo', 'depth', 'estimation', 'ise', 'model', 'well', 'understand', 'provide', 'simple', 'example', 'benefit', 'general', 'form', 'initially', 'demonstrate', 'behavior', 'particle', 'base', 'algorithm', 'small', 'lattice', 'binary', 'value', 'variable', 'compare', 'exact', 'discrete', 'implementation', 'show', 'observe', 'behavior', 'arise', 'analagous', 'continuous', 'value', 'problem', 'ise', 'model', 'factor', 'consist', 'single', 'variable', 'pairwise', 'function', 'give', 'see', 'true', 'marginal', 'variable', 'uniform', 'however', 'phase', 'transition', 'uniform', 'become', 'unstable', 'several', 'other', 'appear', 'become', 'skewed', 'state', 'increase', 'strength', 'couple', 'ise', 'model', 'increase', 'performance', 'often', 'degrade', 'sharply', 'comparatively', 'robust', 'remain', 'true', 'marginal', 'figure', 'show', 'performance', 'point', 'represent', 'median', 'error', 'belief', 'true', 'marginal', 'node', 'randomly', 'initialize', 'trial', 'iteration', 'leave', 'plot', 'clearly', 'show', 'phase', 'shift', 'contrast', 'error', 'trw', 'remain', 'low', 'even', 'strong', 'interaction', 'case', 'increase', 'particle', 'version', 'algorithm', 'converge', 'discrete', 'equivalent', 'continuous', 'grid', 'model', 'result', 'discrete', 'system', 'correspond', 'intuition', 'carry', 'naturally', 'continuous', 'system', 'well', 'illustrate', 'interpretable', 'analogue', 'ise', 'model', 'graph', 'structure', 'real', 'value', 'variable', 'factor', 'give', 'local', 'factor', 'consist', 'bimodal', 'gaussian', 'mixture', 'center', 'pairwise', 'factor', 'encourage', 'similarity', 'use', 'distance', 'neighboring', 'variable', 'set', 'vary', 'analagously', 'discrete', 'model', 'potential', 'mixture', 'joint', 'distribution', 'also', 'gaussian', 'mixture', 'compute', 'exactly', 'log', 'error', 'error', 'error', 'continuous', 'grid', 'model', 'performance', 'error', 'leave', 'center', 'varying', 'number', 'particle', 'right', 'pbp', 'trw_pbp', 'reveal', 'gap', 'low', 'figure', 'show', 'result', 'run', 'pbp', 'continuous', 'grid', 'model', 'demonstrate', 'similar', 'characteristic', 'discrete', 'model', 'leave', 'panel', 'reveal', 'continuous', 'grid', 'model', 'also', 'induce', 'phase', 'shift', 'pbp', 'much', 'ise', 'model', 'sufficiently', 'small', 'value', 'large', 'value', 'transform', 'belief', 'pbp', 'collapse', 'unimodal', 'distribution', 'avoid', 'collapse', 'maintain', 'multi', 'modal', 'distribution', 'primary', 'source', 'error', 'particle', 'correspond', 'overdisperse', 'bimodal', 'belief', 'expect', 'attractive', 'model', 'tend', 'overcount', 'information', 'lead', 'variance', 'remove', 'overcounte', 'may', 'overestimate', 'uncertainty', 'mention', 'section', 'result', 'compute', 'log', 'implement', 'naive', 'framework', 'achieve', 'lower', 'bind', 'well', 'result', 'bound', 'compute', 'continuous', 'grid', 'model', 'collapse', 'single', 'mode', 'show', 'figure', 'sufficiently', 'many', 'particle', 'value', 'produce', 'inference', 'bind', 'true', 'value', 'particle', 'variable', 'however', 'occasionally', 'fail', 'yield', 'upper', 'bound', 'true', 'value', 'surprising', 'consistency', 'guarantee', 'associated', 'expectation', 'take', 'effect', 'suffi', 'figure', 'ciently', 'large', 'sensor', 'localization', 'also', 'demonstrate', 'presence', 'effect', 'simulation', 'real', 'world', 'application', 'sensor', 'localization', 'consider', 'task', 'estimate', 'position', 'collection', 'sensor', 'network', 'give', 'noisy', 'estimate', 'subset', 'distance', 'pairs', 'sensor', 'know', 'position', 'small', 'number', 'anchor', 'node', 'typical', 'localization', 'algorithm', 'operate', 'optimize', 'find', 'likely', 'joint', 'configuration', 'sensor', 'position', 'classical', 'model', 'consist', 'minimum', 'anchor', 'node', 'gaussian', 'distance', 'observation', 'problem', 'formulate', 'graphical', 'model', 'alternative', 'solution', 'propose', 'use', 'nonparametric', 'perform', 'approximate', 'marginalization', 'significant', 'advantage', 'approach', 'provide', 'approximate', 'marginal', 'estimate', 'degree', 'uncertainty', 'sensor', 'position', 'gauge', 'uncertainty', 'particularly', 'important', 'distance', 'information', 'sufficiently', 'ambiguous', 'posterior', 'belief', 'case', 'estimate', 'sensor', 'position', 'may', 'quite', 'far', 'true', 'value', 'unfortunately', 'ideal', 'identify', 'multimodality', 'model', 'essentially', 'attractive', 'may', 'underestimate', 'marginal', 'distribution', 'case', 'ise', 'model', 'previous', 'section', 'collapse', 'single', 'mode', 'provide', 'belief', 'misleadingly', 'overconfident', 'figure', 'show', 'set', 'sensor', 'configuration', 'case', 'distance', 'observation', 'induce', 'fully', 'connect', 'graph', 'edge', 'omit', 'clarity', 'network', 'anchor', 'node', 'nearly', 'collinear', 'induce', 'bimodal', 'uncertainty', 'location', 'remain', 'node', 'anchor', 'anchor', 'mobile', 'mobile', 'target', 'target', 'target', 'exact', 'sensor', 'belief', 'exact', 'belief', 'compute', 'use', 'importance', 'sample', 'pbp', 'collapse', 'represent', 'mode', 'overestimate', 'uncertainty', 'mode', 'represent', 'configuration', 'reflect', 'crooked', 'line', 'form', 'anchor', 'nearly', 'likely', 'true', 'configuration', 'example', 'anecdotal', 'reflect', 'situation', 'arise', 'regularly', 'practice', 'figure', 'show', 'true', 'marginal', 'distribution', 'node', 'estimate', 'exhaustively', 'use', 'importance', 'sampling', 'sample', 'show', 'clear', 'bimodal', 'structure', 'slightly', 'large', 'mode', 'sensor', 'true', 'location', 'small', 'mode', 'point', 'correspond', 'reflection', 'system', 'enough', 'information', 'measurement', 'resolve', 'sensor', 'position', 'compare', 'marginal', 'result', 'find', 'use', 'pbp', 'figure', 'display', 'rao_blackwellized', 'belief', 'estimate', 'node', 'iteration', 'pbp', 'variable', 'represent', 'particle', 'mode', 'present', 'suggest', 'belief', 'collapse', 'highly', 'attractive', 'ise', 'model', 'examination', 'node', 'belief', 'show', 'space', 'confirm', 'unimodal', 'distribution', 'center', 'around', 'reflected', 'location', 'worth', 'note', 'pbp', 'converge', 'alternative', 'set', 'unimodal', 'belief', 'support', 'true', 'location', 'half', 'trial', 'outcome', 'slightly', 'well', 'accurate', 'estimate', 'confidence', 'equally', 'important', 'corresponding', 'belief', 'estimate', 'generate', 'show', 'figure', 'clearly', 'bimodal', 'significant', 'probability', 'mass', 'support', 'true', 'reflect', 'location', 'also', 'mode', 'less', 'concentrated', 'belief', 'continuous', 'grid', 'model', 'see', 'increase', 'stability', 'price', 'conservative', 'overdispersion', 'similar', 'effect', 'occur', 'node', 'network', 'propose', 'framework', 'extend', 'recent', 'advance', 'discrete', 'approximate', 'inference', 'application', 'continuous', 'system', 'framework', 'directly', 'integrate', 'reweighte', 'lift', 'discrete', 'phase', 'pbp', 'furthermore', 'iteratively', 'adjust', 'proposal', 'distribution', 'provide', 'discretization', 'adapt', 'result', 'inference', 'estimate', 'improve', 'final', 'belief', 'estimate', 'consider', 'particular', 'case', 'show', 'benefit', 'carry', 'directly', 'continuous', 'problem', 'use', 'ise', 'system', 'argue', 'phase', 'transition', 'exist', 'particle', 'version', 'similar', 'find', 'discrete', 'system', 'significantly', 'improve', 'quality', 'estimate', 'regime', 'improvement', 'highly', 'relevant', 'approximate', 'marginalization', 'sensor', 'localization', 'task', 'important', 'accurately', 'represent', 'posterior', 'uncertainty', 'flexibility', 'choice', 'make', 'easy', 'consider', 'several', 'instantiation', 'framework', 'best', 'suited', 'particular', 'problem', 'furthermore', 'future', 'improvement', 'inference', 'algorithm', 'discrete', 'system', 'directly', 'incorporate', 'continuous', 'problem', 'material', 'base', 'work', 'partially', 'support', 'intelligent', 'system', 'gibb', 'restoration', 'image', 'introduction', 'variational', 'method', 'graphical', 'method', 'construct', 'approximation', 'generalize', 'technical', 'report', 'may', 'wainwright', 'new', 'class', 'theory', 'new', 'outer', 'bound', 'marginal', 'polytope', 'nip', 'page', 'divergence', 'measure', 'technical', 'report', 'alternative', 'comput', 'well', 'unified', 'propagation', 'scale', 'residual', 'splash', 'optimally', 'parallelize', 'belief_propagation', 'statistic', 'self', 'calibration', 'sensor', 'network', 'select', 'area', 'commun', 'page', 'dimaki', 'robust', 'statistical', 'inference', 'sensor', 'network', 'inference', 'far', 'come', 'nip', 'workshop', 'inference', 'application', 'statistic', 'volume', 'page', 'factor', 'graph', 'sum', 'product', 'exponential', 'family', 'variational', 'statistic', 'spiegelhalter', 'local', 'computation', 'probabilitie', 'graphical', 'structure', 'application', 'page', 'heske', 'fractional', 'nip', 'page', 'particle', 'filter', 'online', 'nonlinear', 'non', 'gaussian', 'track', 'sparse', 'space', 'comput', 'image', 'continuously', 'adaptive', 'discretization', 'algorithm', 'nip', 'page', 'chib', 'marginal', 'gibb', 'output', 'robust', 'distribute', 'network', 'localization', 'networked', 'sensor', 'page']]\n"
          ],
          "name": "stdout"
        }
      ]
    },
    {
      "cell_type": "markdown",
      "metadata": {
        "id": "aBM_-Fht-6Vx",
        "colab_type": "text"
      },
      "source": [
        "# Data Transformation: Corpus and Dictionary"
      ]
    },
    {
      "cell_type": "code",
      "metadata": {
        "id": "a0UXekBC-wUI",
        "colab_type": "code",
        "colab": {
          "base_uri": "https://localhost:8080/",
          "height": 54
        },
        "outputId": "3d342156-7b52-40cf-971a-799679e534c9"
      },
      "source": [
        "import gensim.corpora as corpora\n",
        "# Create Dictionary\n",
        "id2word = corpora.Dictionary(data_lemmatized)\n",
        "# Create Corpus\n",
        "texts = data_lemmatized\n",
        "# Term Document Frequency\n",
        "corpus = [id2word.doc2bow(text) for text in texts]\n",
        "# View\n",
        "print(corpus[:1])"
      ],
      "execution_count": 13,
      "outputs": [
        {
          "output_type": "stream",
          "text": [
            "[[(0, 1), (1, 1), (2, 1), (3, 1), (4, 1), (5, 1), (6, 2), (7, 1), (8, 1), (9, 5), (10, 3), (11, 2), (12, 2), (13, 1), (14, 7), (15, 3), (16, 1), (17, 1), (18, 20), (19, 1), (20, 1), (21, 8), (22, 8), (23, 1), (24, 1), (25, 1), (26, 1), (27, 1), (28, 1), (29, 1), (30, 6), (31, 1), (32, 1), (33, 1), (34, 1), (35, 1), (36, 5), (37, 4), (38, 6), (39, 1), (40, 20), (41, 16), (42, 1), (43, 1), (44, 1), (45, 2), (46, 1), (47, 2), (48, 1), (49, 1), (50, 1), (51, 1), (52, 1), (53, 1), (54, 1), (55, 3), (56, 1), (57, 1), (58, 11), (59, 1), (60, 4), (61, 1), (62, 2), (63, 20), (64, 4), (65, 4), (66, 1), (67, 1), (68, 5), (69, 2), (70, 3), (71, 1), (72, 7), (73, 1), (74, 3), (75, 1), (76, 1), (77, 1), (78, 3), (79, 9), (80, 2), (81, 4), (82, 2), (83, 1), (84, 2), (85, 1), (86, 4), (87, 1), (88, 1), (89, 1), (90, 1), (91, 1), (92, 2), (93, 2), (94, 1), (95, 2), (96, 2), (97, 1), (98, 6), (99, 3), (100, 1), (101, 1), (102, 3), (103, 1), (104, 1), (105, 2), (106, 2), (107, 1), (108, 1), (109, 3), (110, 2), (111, 6), (112, 1), (113, 14), (114, 1), (115, 2), (116, 1), (117, 1), (118, 1), (119, 5), (120, 1), (121, 1), (122, 1), (123, 1), (124, 1), (125, 3), (126, 1), (127, 4), (128, 3), (129, 1), (130, 1), (131, 3), (132, 3), (133, 1), (134, 29), (135, 1), (136, 1), (137, 1), (138, 3), (139, 3), (140, 1), (141, 1), (142, 1), (143, 12), (144, 1), (145, 5), (146, 1), (147, 1), (148, 1), (149, 1), (150, 1), (151, 4), (152, 1), (153, 2), (154, 1), (155, 1), (156, 1), (157, 1), (158, 9), (159, 1), (160, 1), (161, 4), (162, 1), (163, 2), (164, 1), (165, 2), (166, 1), (167, 2), (168, 1), (169, 1), (170, 1), (171, 1), (172, 3), (173, 3), (174, 1), (175, 1), (176, 1), (177, 4), (178, 1), (179, 1), (180, 1), (181, 7), (182, 29), (183, 8), (184, 3), (185, 2), (186, 1), (187, 5), (188, 2), (189, 27), (190, 1), (191, 1), (192, 11), (193, 4), (194, 1), (195, 1), (196, 2), (197, 2), (198, 1), (199, 2), (200, 3), (201, 3), (202, 1), (203, 1), (204, 4), (205, 1), (206, 1), (207, 1), (208, 2), (209, 1), (210, 1), (211, 1), (212, 1), (213, 1), (214, 1), (215, 3), (216, 1), (217, 2), (218, 1), (219, 3), (220, 1), (221, 8), (222, 1), (223, 23), (224, 2), (225, 3), (226, 6), (227, 1), (228, 12), (229, 1), (230, 1), (231, 8), (232, 1), (233, 1), (234, 1), (235, 1), (236, 2), (237, 2), (238, 1), (239, 1), (240, 2), (241, 8), (242, 1), (243, 2), (244, 21), (245, 1), (246, 2), (247, 2), (248, 2), (249, 1), (250, 1), (251, 10), (252, 2), (253, 1), (254, 1), (255, 4), (256, 3), (257, 1), (258, 2), (259, 1), (260, 2), (261, 1), (262, 1), (263, 12), (264, 1), (265, 2), (266, 2), (267, 4), (268, 3), (269, 1), (270, 7), (271, 2), (272, 1), (273, 10), (274, 2), (275, 1), (276, 1), (277, 2), (278, 1), (279, 8), (280, 4), (281, 1), (282, 2), (283, 1), (284, 1), (285, 2), (286, 7), (287, 1), (288, 1), (289, 1), (290, 1), (291, 16), (292, 6), (293, 9), (294, 1), (295, 3), (296, 1), (297, 1), (298, 1), (299, 5), (300, 2), (301, 1), (302, 1), (303, 9), (304, 2), (305, 2), (306, 1), (307, 1), (308, 1), (309, 2), (310, 3), (311, 3), (312, 2), (313, 7), (314, 3), (315, 5), (316, 4), (317, 7), (318, 3), (319, 1), (320, 7), (321, 1), (322, 2), (323, 3), (324, 46), (325, 1), (326, 3), (327, 1), (328, 1), (329, 1), (330, 1), (331, 1), (332, 1), (333, 1), (334, 2), (335, 1), (336, 1), (337, 2), (338, 1), (339, 1), (340, 1), (341, 1), (342, 1), (343, 1), (344, 2), (345, 1), (346, 1), (347, 11), (348, 1), (349, 1), (350, 4), (351, 1), (352, 2), (353, 1), (354, 3), (355, 2), (356, 1), (357, 1), (358, 1), (359, 1), (360, 8), (361, 1), (362, 1), (363, 5), (364, 1), (365, 1), (366, 4), (367, 1), (368, 2), (369, 1), (370, 3), (371, 1), (372, 2), (373, 1), (374, 1), (375, 1), (376, 7), (377, 6), (378, 2), (379, 7), (380, 3), (381, 2), (382, 7), (383, 3), (384, 2), (385, 1), (386, 1), (387, 2), (388, 1), (389, 1), (390, 6), (391, 1), (392, 17), (393, 3), (394, 1), (395, 1), (396, 1), (397, 1), (398, 1), (399, 9), (400, 1), (401, 2), (402, 1), (403, 1), (404, 1), (405, 17), (406, 1), (407, 14), (408, 1), (409, 1), (410, 1), (411, 1), (412, 1), (413, 1), (414, 8), (415, 2), (416, 1), (417, 8), (418, 30), (419, 1), (420, 1), (421, 1), (422, 1), (423, 2), (424, 1), (425, 1), (426, 1), (427, 1), (428, 1), (429, 2), (430, 1), (431, 1), (432, 2), (433, 4), (434, 2), (435, 1), (436, 6), (437, 1), (438, 6), (439, 1), (440, 5), (441, 16), (442, 1), (443, 1), (444, 1), (445, 2), (446, 1), (447, 1), (448, 3), (449, 10), (450, 1), (451, 2), (452, 3), (453, 2), (454, 1), (455, 1), (456, 1), (457, 5), (458, 1), (459, 2), (460, 1), (461, 1), (462, 1), (463, 7), (464, 1), (465, 2), (466, 1), (467, 2), (468, 1), (469, 1), (470, 1), (471, 2), (472, 1), (473, 2), (474, 1), (475, 1), (476, 1), (477, 1), (478, 1), (479, 1), (480, 1), (481, 2), (482, 1), (483, 7), (484, 1), (485, 4), (486, 1), (487, 1), (488, 2), (489, 1), (490, 2), (491, 1), (492, 1), (493, 2), (494, 28), (495, 7), (496, 3), (497, 1), (498, 1), (499, 1), (500, 11), (501, 10), (502, 5), (503, 7), (504, 1), (505, 1), (506, 1), (507, 8), (508, 2), (509, 1), (510, 1), (511, 1), (512, 1), (513, 6), (514, 1), (515, 1), (516, 2), (517, 2), (518, 1), (519, 1), (520, 1), (521, 1), (522, 1), (523, 1), (524, 2), (525, 2), (526, 1), (527, 1), (528, 1), (529, 7), (530, 17), (531, 7), (532, 2), (533, 3), (534, 4), (535, 5), (536, 1), (537, 1), (538, 1), (539, 2), (540, 7), (541, 4), (542, 2), (543, 1), (544, 17), (545, 4), (546, 1), (547, 7), (548, 1), (549, 1), (550, 1), (551, 2), (552, 7), (553, 1), (554, 1), (555, 3), (556, 2), (557, 2), (558, 1), (559, 2), (560, 1), (561, 1), (562, 8), (563, 2), (564, 1), (565, 2), (566, 3), (567, 1), (568, 1), (569, 1), (570, 1), (571, 1), (572, 1), (573, 2), (574, 1), (575, 3), (576, 1), (577, 1), (578, 2), (579, 11), (580, 2), (581, 1), (582, 2), (583, 2), (584, 1), (585, 1), (586, 1), (587, 1), (588, 1), (589, 16), (590, 1), (591, 3), (592, 6), (593, 1), (594, 2), (595, 4), (596, 2), (597, 22), (598, 1), (599, 4), (600, 1), (601, 1), (602, 4), (603, 4), (604, 2), (605, 1), (606, 16), (607, 1), (608, 8), (609, 5), (610, 1), (611, 2), (612, 2), (613, 1), (614, 12), (615, 4), (616, 2), (617, 9), (618, 1), (619, 1), (620, 4), (621, 1), (622, 1), (623, 5), (624, 1), (625, 1), (626, 5), (627, 1), (628, 2), (629, 7), (630, 1), (631, 3), (632, 1), (633, 1), (634, 7), (635, 1), (636, 1), (637, 1), (638, 2), (639, 1), (640, 1), (641, 1), (642, 1), (643, 5), (644, 3), (645, 2), (646, 1), (647, 2), (648, 1), (649, 1), (650, 1), (651, 1), (652, 13), (653, 1), (654, 1), (655, 2), (656, 1), (657, 1), (658, 5), (659, 2), (660, 1), (661, 4), (662, 1), (663, 3), (664, 1), (665, 1), (666, 1), (667, 1), (668, 20), (669, 2), (670, 4), (671, 4), (672, 2), (673, 3), (674, 1), (675, 1), (676, 1), (677, 2), (678, 1), (679, 1), (680, 3), (681, 1), (682, 1), (683, 1), (684, 1), (685, 1), (686, 1), (687, 1), (688, 1), (689, 1), (690, 2), (691, 11), (692, 1), (693, 2), (694, 1), (695, 12), (696, 1), (697, 2), (698, 2), (699, 1), (700, 1), (701, 3), (702, 6), (703, 1), (704, 1), (705, 2), (706, 3), (707, 1), (708, 2), (709, 3), (710, 3), (711, 1), (712, 2), (713, 2), (714, 1), (715, 24), (716, 24), (717, 46), (718, 1), (719, 5), (720, 1), (721, 1), (722, 2), (723, 1), (724, 2), (725, 1), (726, 1), (727, 1), (728, 1), (729, 8), (730, 5), (731, 1), (732, 1), (733, 2), (734, 2), (735, 1), (736, 1), (737, 3), (738, 1), (739, 1), (740, 1)]]\n"
          ],
          "name": "stdout"
        }
      ]
    },
    {
      "cell_type": "markdown",
      "metadata": {
        "id": "GzAVbU3t-8Sw",
        "colab_type": "text"
      },
      "source": [
        "# Base Model"
      ]
    },
    {
      "cell_type": "code",
      "metadata": {
        "id": "MZzllVHZ-5Hh",
        "colab_type": "code",
        "colab": {}
      },
      "source": [
        "# Build LDA model\n",
        "lda_model = gensim.models.LdaMulticore(corpus=corpus,\n",
        "                                       id2word=id2word,\n",
        "                                       num_topics=10, \n",
        "                                       random_state=100,\n",
        "                                       chunksize=100,\n",
        "                                       passes=10,\n",
        "                                       per_word_topics=True)"
      ],
      "execution_count": 14,
      "outputs": []
    },
    {
      "cell_type": "code",
      "metadata": {
        "id": "E4NQa-pA--FQ",
        "colab_type": "code",
        "colab": {
          "base_uri": "https://localhost:8080/",
          "height": 717
        },
        "outputId": "da95ab48-94cc-4bcf-924c-57f308200f07"
      },
      "source": [
        "from pprint import pprint\n",
        "# Print the Keyword in the 10 topics\n",
        "pprint(lda_model.print_topics())\n",
        "doc_lda = lda_model[corpus]"
      ],
      "execution_count": 15,
      "outputs": [
        {
          "output_type": "stream",
          "text": [
            "[(0,\n",
            "  '0.002*\"deep\" + 0.002*\"model\" + 0.002*\"loss\" + 0.001*\"function\" + '\n",
            "  '0.001*\"assumption\" + 0.001*\"network\" + 0.001*\"layer\" + 0.001*\"work\" + '\n",
            "  '0.001*\"nonlinear\" + 0.001*\"result\"'),\n",
            " (1,\n",
            "  '0.044*\"model\" + 0.043*\"player\" + 0.041*\"influence\" + 0.018*\"level\" + '\n",
            "  '0.017*\"state\" + 0.017*\"team\" + 0.015*\"meeting\" + 0.014*\"individual\" + '\n",
            "  '0.013*\"use\" + 0.012*\"action\"'),\n",
            " (2,\n",
            "  '0.024*\"model\" + 0.014*\"inference\" + 0.012*\"method\" + 0.011*\"use\" + '\n",
            "  '0.011*\"cnf\" + 0.010*\"variable\" + 0.009*\"output\" + 0.009*\"function\" + '\n",
            "  '0.008*\"distribution\" + 0.008*\"crf\"'),\n",
            " (3,\n",
            "  '0.018*\"set\" + 0.015*\"number\" + 0.014*\"model\" + 0.013*\"datum\" + '\n",
            "  '0.013*\"feature\" + 0.012*\"training\" + 0.011*\"dataset\" + 0.010*\"algorithm\" + '\n",
            "  '0.010*\"evidence\" + 0.010*\"parameter\"'),\n",
            " (4,\n",
            "  '0.001*\"model\" + 0.001*\"use\" + 0.001*\"value\" + 0.001*\"method\" + '\n",
            "  '0.001*\"function\" + 0.001*\"set\" + 0.001*\"input\" + 0.001*\"result\" + '\n",
            "  '0.001*\"feature\" + 0.001*\"output\"'),\n",
            " (5,\n",
            "  '0.001*\"model\" + 0.001*\"inference\" + 0.001*\"datum\" + 0.001*\"use\" + '\n",
            "  '0.001*\"variable\" + 0.001*\"value\" + 0.001*\"algorithm\" + 0.001*\"result\" + '\n",
            "  '0.001*\"distribution\" + 0.001*\"method\"'),\n",
            " (6,\n",
            "  '0.018*\"deep\" + 0.016*\"model\" + 0.014*\"function\" + 0.012*\"loss\" + '\n",
            "  '0.010*\"follow\" + 0.009*\"point\" + 0.009*\"order\" + 0.008*\"assumption\" + '\n",
            "  '0.008*\"node\" + 0.008*\"network\"'),\n",
            " (7,\n",
            "  '0.028*\"sound\" + 0.024*\"model\" + 0.016*\"network\" + 0.014*\"use\" + '\n",
            "  '0.012*\"location\" + 0.012*\"human\" + 0.010*\"system\" + 0.010*\"auditory\" + '\n",
            "  '0.010*\"sound_localization\" + 0.008*\"localization\"'),\n",
            " (8,\n",
            "  '0.001*\"model\" + 0.001*\"variable\" + 0.001*\"inference\" + 0.001*\"distribution\" '\n",
            "  '+ 0.001*\"number\" + 0.001*\"use\" + 0.001*\"result\" + 0.001*\"estimate\" + '\n",
            "  '0.001*\"base\" + 0.000*\"algorithm\"'),\n",
            " (9,\n",
            "  '0.030*\"model\" + 0.020*\"edge\" + 0.015*\"image\" + 0.011*\"distribution\" + '\n",
            "  '0.011*\"use\" + 0.010*\"datum\" + 0.010*\"result\" + 0.009*\"structure\" + '\n",
            "  '0.009*\"scene\" + 0.009*\"line\"')]\n"
          ],
          "name": "stdout"
        }
      ]
    },
    {
      "cell_type": "code",
      "metadata": {
        "id": "rO_dAQ4H-_Tn",
        "colab_type": "code",
        "colab": {
          "base_uri": "https://localhost:8080/",
          "height": 51
        },
        "outputId": "55b9d631-eea9-46e9-86ae-215bc60b8d32"
      },
      "source": [
        "from gensim.models import CoherenceModel\n",
        "# Compute Coherence Score\n",
        "coherence_model_lda = CoherenceModel(model=lda_model, texts=data_lemmatized, dictionary=id2word, coherence='c_v')\n",
        "coherence_lda = coherence_model_lda.get_coherence()\n",
        "print('\\nCoherence Score: ', coherence_lda)"
      ],
      "execution_count": 16,
      "outputs": [
        {
          "output_type": "stream",
          "text": [
            "\n",
            "Coherence Score:  0.38207800869311986\n"
          ],
          "name": "stdout"
        }
      ]
    },
    {
      "cell_type": "markdown",
      "metadata": {
        "id": "j8DS3m7y_JQS",
        "colab_type": "text"
      },
      "source": [
        "There is the model hyperparameters to determine for good performance of our model:\n",
        "- Number of Topics (K)\n",
        "- Dirichlet hyperparameter alpha: Document-Topic Density\n",
        "- Dirichlet hyperparameter beta: Word-Topic Density"
      ]
    },
    {
      "cell_type": "code",
      "metadata": {
        "id": "PPQks5W-_BK3",
        "colab_type": "code",
        "colab": {}
      },
      "source": [
        "# supporting function\n",
        "def compute_coherence_values(corpus, dictionary, k, a, b):\n",
        "    \n",
        "    lda_model = gensim.models.LdaMulticore(corpus=corpus,\n",
        "                                           id2word=id2word,\n",
        "                                           num_topics=10, \n",
        "                                           random_state=100,\n",
        "                                           chunksize=100,\n",
        "                                           passes=10,\n",
        "                                           alpha=a,\n",
        "                                           eta=b,\n",
        "                                           per_word_topics=True)\n",
        "    \n",
        "    coherence_model_lda = CoherenceModel(model=lda_model, texts=data_lemmatized, dictionary=id2word, coherence='c_v')\n",
        "    \n",
        "    return coherence_model_lda.get_coherence()"
      ],
      "execution_count": 17,
      "outputs": []
    },
    {
      "cell_type": "code",
      "metadata": {
        "id": "O2pmAH2F_yZr",
        "colab_type": "code",
        "colab": {
          "base_uri": "https://localhost:8080/",
          "height": 1000
        },
        "outputId": "f7d25d2e-af5d-4a74-c03a-3de2122332d4"
      },
      "source": [
        "import numpy as np\n",
        "import tqdm\n",
        "\n",
        "grid = {}\n",
        "grid['Validation_Set'] = {}\n",
        "\n",
        "# Topics range\n",
        "min_topics = 2\n",
        "max_topics = 11\n",
        "step_size = 1\n",
        "topics_range = range(min_topics, max_topics, step_size)\n",
        "\n",
        "# Alpha parameter\n",
        "alpha = list(np.arange(0.01, 1, 0.3))\n",
        "alpha.append('symmetric')\n",
        "alpha.append('asymmetric')\n",
        "\n",
        "# Beta parameter\n",
        "beta = list(np.arange(0.01, 1, 0.3))\n",
        "beta.append('symmetric')\n",
        "\n",
        "# Validation sets\n",
        "num_of_docs = len(corpus)\n",
        "corpus_sets = [# gensim.utils.ClippedCorpus(corpus, num_of_docs*0.25), \n",
        "               # gensim.utils.ClippedCorpus(corpus, num_of_docs*0.5), \n",
        "               # gensim.utils.ClippedCorpus(corpus, num_of_docs*0.75), \n",
        "               corpus]\n",
        "\n",
        "corpus_title = ['100% Corpus']\n",
        "\n",
        "model_results = {'Validation_Set': [],\n",
        "                 'Topics': [],\n",
        "                 'Alpha': [],\n",
        "                 'Beta': [],\n",
        "                 'Coherence': []\n",
        "                }\n",
        "\n",
        "# Can take a long time to run\n",
        "if 1 == 1:\n",
        "    pbar = tqdm.tqdm(total=(len(beta)*len(alpha)*len(topics_range)*len(corpus_title)))\n",
        "    \n",
        "    # iterate through validation corpuses\n",
        "    for i in range(len(corpus_sets)):\n",
        "        # iterate through number of topics\n",
        "        for k in topics_range:\n",
        "            # iterate through alpha values\n",
        "            for a in alpha:\n",
        "                # iterare through beta values\n",
        "                for b in beta:\n",
        "                    # get the coherence score for the given parameters\n",
        "                    cv = compute_coherence_values(corpus=corpus_sets[i], dictionary=id2word, \n",
        "                                                  k=k, a=a, b=b)\n",
        "                    # Save the model results\n",
        "                    model_results['Validation_Set'].append(corpus_title[i])\n",
        "                    model_results['Topics'].append(k)\n",
        "                    model_results['Alpha'].append(a)\n",
        "                    model_results['Beta'].append(b)\n",
        "                    model_results['Coherence'].append(cv)\n",
        "                    \n",
        "                    pbar.update(1)\n",
        "    pd.DataFrame(model_results).to_csv('lda_tuning_results.csv', index=False)\n",
        "    pbar.close()"
      ],
      "execution_count": 19,
      "outputs": [
        {
          "output_type": "stream",
          "text": [
            "\n",
            "  0%|          | 0/270 [00:00<?, ?it/s]\u001b[A/usr/local/lib/python3.6/dist-packages/gensim/models/ldamodel.py:1023: RuntimeWarning: divide by zero encountered in log\n",
            "  diff = np.log(self.expElogbeta)\n",
            "\n",
            "  0%|          | 1/270 [00:01<08:41,  1.94s/it]\u001b[A\n",
            "  1%|          | 2/270 [00:03<08:19,  1.86s/it]\u001b[A\n",
            "  1%|          | 3/270 [00:05<08:07,  1.83s/it]\u001b[A\n",
            "  1%|▏         | 4/270 [00:07<07:51,  1.77s/it]\u001b[A\n",
            "  2%|▏         | 5/270 [00:08<07:53,  1.79s/it]\u001b[A\n",
            "  2%|▏         | 6/270 [00:10<08:12,  1.87s/it]\u001b[A\n",
            "  3%|▎         | 7/270 [00:12<07:56,  1.81s/it]\u001b[A\n",
            "  3%|▎         | 8/270 [00:14<07:50,  1.80s/it]\u001b[A\n",
            "  3%|▎         | 9/270 [00:15<07:35,  1.75s/it]\u001b[A\n",
            "  4%|▎         | 10/270 [00:17<07:37,  1.76s/it]\u001b[A\n",
            "  4%|▍         | 11/270 [00:19<07:59,  1.85s/it]\u001b[A\n",
            "  4%|▍         | 12/270 [00:21<07:50,  1.83s/it]\u001b[A\n",
            "  5%|▍         | 13/270 [00:23<07:44,  1.81s/it]\u001b[A\n",
            "  5%|▌         | 14/270 [00:25<07:37,  1.79s/it]\u001b[A\n",
            "  6%|▌         | 15/270 [00:26<07:35,  1.79s/it]\u001b[A\n",
            "  6%|▌         | 16/270 [00:28<07:51,  1.86s/it]\u001b[A\n",
            "  6%|▋         | 17/270 [00:30<07:44,  1.84s/it]\u001b[A\n",
            "  7%|▋         | 18/270 [00:32<07:43,  1.84s/it]\u001b[A\n",
            "  7%|▋         | 19/270 [00:34<07:35,  1.81s/it]\u001b[A\n",
            "  7%|▋         | 20/270 [00:36<07:32,  1.81s/it]\u001b[A\n",
            "  8%|▊         | 21/270 [00:38<07:47,  1.88s/it]\u001b[A\n",
            "  8%|▊         | 22/270 [00:39<07:36,  1.84s/it]\u001b[A\n",
            "  9%|▊         | 23/270 [00:41<07:31,  1.83s/it]\u001b[A\n",
            "  9%|▉         | 24/270 [00:43<07:14,  1.77s/it]\u001b[A\n",
            "  9%|▉         | 25/270 [00:44<07:05,  1.74s/it]\u001b[A\n",
            " 10%|▉         | 26/270 [00:46<07:19,  1.80s/it]\u001b[A\n",
            " 10%|█         | 27/270 [00:48<07:07,  1.76s/it]\u001b[A\n",
            " 10%|█         | 28/270 [00:50<07:05,  1.76s/it]\u001b[A\n",
            " 11%|█         | 29/270 [00:52<07:03,  1.76s/it]\u001b[A\n",
            " 11%|█         | 30/270 [00:53<07:03,  1.76s/it]\u001b[A\n",
            " 11%|█▏        | 31/270 [00:55<07:05,  1.78s/it]\u001b[A\n",
            " 12%|█▏        | 32/270 [00:57<07:03,  1.78s/it]\u001b[A\n",
            " 12%|█▏        | 33/270 [00:59<06:59,  1.77s/it]\u001b[A\n",
            " 13%|█▎        | 34/270 [01:00<06:49,  1.74s/it]\u001b[A\n",
            " 13%|█▎        | 35/270 [01:02<06:52,  1.75s/it]\u001b[A\n",
            " 13%|█▎        | 36/270 [01:04<07:02,  1.81s/it]\u001b[A\n",
            " 14%|█▎        | 37/270 [01:06<06:58,  1.80s/it]\u001b[A\n",
            " 14%|█▍        | 38/270 [01:08<06:46,  1.75s/it]\u001b[A\n",
            " 14%|█▍        | 39/270 [01:09<06:37,  1.72s/it]\u001b[A\n",
            " 15%|█▍        | 40/270 [01:11<06:32,  1.71s/it]\u001b[A\n",
            " 15%|█▌        | 41/270 [01:13<06:56,  1.82s/it]\u001b[A\n",
            " 16%|█▌        | 42/270 [01:15<06:52,  1.81s/it]\u001b[A\n",
            " 16%|█▌        | 43/270 [01:16<06:49,  1.80s/it]\u001b[A\n",
            " 16%|█▋        | 44/270 [01:18<06:44,  1.79s/it]\u001b[A\n",
            " 17%|█▋        | 45/270 [01:20<06:44,  1.80s/it]\u001b[A\n",
            " 17%|█▋        | 46/270 [01:22<06:54,  1.85s/it]\u001b[A\n",
            " 17%|█▋        | 47/270 [01:24<06:48,  1.83s/it]\u001b[A\n",
            " 18%|█▊        | 48/270 [01:26<06:43,  1.82s/it]\u001b[A\n",
            " 18%|█▊        | 49/270 [01:27<06:39,  1.81s/it]\u001b[A\n",
            " 19%|█▊        | 50/270 [01:29<06:31,  1.78s/it]\u001b[A\n",
            " 19%|█▉        | 51/270 [01:31<06:39,  1.83s/it]\u001b[A\n",
            " 19%|█▉        | 52/270 [01:33<06:34,  1.81s/it]\u001b[A\n",
            " 20%|█▉        | 53/270 [01:34<06:21,  1.76s/it]\u001b[A\n",
            " 20%|██        | 54/270 [01:36<06:19,  1.76s/it]\u001b[A\n",
            " 20%|██        | 55/270 [01:38<06:11,  1.73s/it]\u001b[A\n",
            " 21%|██        | 56/270 [01:40<06:23,  1.79s/it]\u001b[A\n",
            " 21%|██        | 57/270 [01:41<06:14,  1.76s/it]\u001b[A\n",
            " 21%|██▏       | 58/270 [01:43<06:06,  1.73s/it]\u001b[A\n",
            " 22%|██▏       | 59/270 [01:45<06:00,  1.71s/it]\u001b[A\n",
            " 22%|██▏       | 60/270 [01:47<05:59,  1.71s/it]\u001b[A\n",
            " 23%|██▎       | 61/270 [01:48<06:06,  1.75s/it]\u001b[A\n",
            " 23%|██▎       | 62/270 [01:50<06:05,  1.76s/it]\u001b[A\n",
            " 23%|██▎       | 63/270 [01:52<06:04,  1.76s/it]\u001b[A\n",
            " 24%|██▎       | 64/270 [01:54<06:02,  1.76s/it]\u001b[A\n",
            " 24%|██▍       | 65/270 [01:56<06:07,  1.79s/it]\u001b[A\n",
            " 24%|██▍       | 66/270 [01:58<06:21,  1.87s/it]\u001b[A\n",
            " 25%|██▍       | 67/270 [01:59<06:12,  1.84s/it]\u001b[A\n",
            " 25%|██▌       | 68/270 [02:01<06:06,  1.81s/it]\u001b[A\n",
            " 26%|██▌       | 69/270 [02:03<05:53,  1.76s/it]\u001b[A\n",
            " 26%|██▌       | 70/270 [02:05<06:01,  1.81s/it]\u001b[A\n",
            " 26%|██▋       | 71/270 [02:07<06:10,  1.86s/it]\u001b[A\n",
            " 27%|██▋       | 72/270 [02:08<06:04,  1.84s/it]\u001b[A\n",
            " 27%|██▋       | 73/270 [02:10<05:58,  1.82s/it]\u001b[A\n",
            " 27%|██▋       | 74/270 [02:12<05:52,  1.80s/it]\u001b[A\n",
            " 28%|██▊       | 75/270 [02:14<05:51,  1.80s/it]\u001b[A\n",
            " 28%|██▊       | 76/270 [02:16<06:04,  1.88s/it]\u001b[A\n",
            " 29%|██▊       | 77/270 [02:18<05:55,  1.84s/it]\u001b[A\n",
            " 29%|██▉       | 78/270 [02:19<05:49,  1.82s/it]\u001b[A\n",
            " 29%|██▉       | 79/270 [02:21<05:46,  1.81s/it]\u001b[A\n",
            " 30%|██▉       | 80/270 [02:23<05:42,  1.80s/it]\u001b[A\n",
            " 30%|███       | 81/270 [02:25<05:49,  1.85s/it]\u001b[A\n",
            " 30%|███       | 82/270 [02:27<05:38,  1.80s/it]\u001b[A\n",
            " 31%|███       | 83/270 [02:28<05:29,  1.76s/it]\u001b[A\n",
            " 31%|███       | 84/270 [02:30<05:19,  1.72s/it]\u001b[A\n",
            " 31%|███▏      | 85/270 [02:32<05:20,  1.73s/it]\u001b[A\n",
            " 32%|███▏      | 86/270 [02:34<05:30,  1.79s/it]\u001b[A\n",
            " 32%|███▏      | 87/270 [02:35<05:22,  1.76s/it]\u001b[A\n",
            " 33%|███▎      | 88/270 [02:37<05:20,  1.76s/it]\u001b[A\n",
            " 33%|███▎      | 89/270 [02:39<05:11,  1.72s/it]\u001b[A\n",
            " 33%|███▎      | 90/270 [02:40<05:10,  1.72s/it]\u001b[A\n",
            " 34%|███▎      | 91/270 [02:42<05:13,  1.75s/it]\u001b[A\n",
            " 34%|███▍      | 92/270 [02:44<05:07,  1.73s/it]\u001b[A\n",
            " 34%|███▍      | 93/270 [02:46<05:04,  1.72s/it]\u001b[A\n",
            " 35%|███▍      | 94/270 [02:47<04:58,  1.70s/it]\u001b[A\n",
            " 35%|███▌      | 95/270 [02:49<05:02,  1.73s/it]\u001b[A\n",
            " 36%|███▌      | 96/270 [02:51<05:15,  1.81s/it]\u001b[A\n",
            " 36%|███▌      | 97/270 [02:53<05:05,  1.77s/it]\u001b[A\n",
            " 36%|███▋      | 98/270 [02:54<04:58,  1.73s/it]\u001b[A\n",
            " 37%|███▋      | 99/270 [02:56<04:58,  1.74s/it]\u001b[A\n",
            " 37%|███▋      | 100/270 [02:58<04:57,  1.75s/it]\u001b[A\n",
            " 37%|███▋      | 101/270 [03:00<05:10,  1.84s/it]\u001b[A\n",
            " 38%|███▊      | 102/270 [03:02<05:06,  1.82s/it]\u001b[A\n",
            " 38%|███▊      | 103/270 [03:03<05:01,  1.80s/it]\u001b[A\n",
            " 39%|███▊      | 104/270 [03:05<04:55,  1.78s/it]\u001b[A\n",
            " 39%|███▉      | 105/270 [03:07<04:54,  1.78s/it]\u001b[A\n",
            " 39%|███▉      | 106/270 [03:09<05:02,  1.84s/it]\u001b[A\n",
            " 40%|███▉      | 107/270 [03:11<04:57,  1.83s/it]\u001b[A\n",
            " 40%|████      | 108/270 [03:13<04:54,  1.82s/it]\u001b[A\n",
            " 40%|████      | 109/270 [03:14<04:49,  1.80s/it]\u001b[A\n",
            " 41%|████      | 110/270 [03:16<04:47,  1.80s/it]\u001b[A\n",
            " 41%|████      | 111/270 [03:18<04:56,  1.87s/it]\u001b[A\n",
            " 41%|████▏     | 112/270 [03:20<04:46,  1.81s/it]\u001b[A\n",
            " 42%|████▏     | 113/270 [03:21<04:35,  1.76s/it]\u001b[A\n",
            " 42%|████▏     | 114/270 [03:23<04:35,  1.77s/it]\u001b[A\n",
            " 43%|████▎     | 115/270 [03:25<04:34,  1.77s/it]\u001b[A\n",
            " 43%|████▎     | 116/270 [03:27<04:40,  1.82s/it]\u001b[A\n",
            " 43%|████▎     | 117/270 [03:29<04:36,  1.81s/it]\u001b[A\n",
            " 44%|████▎     | 118/270 [03:30<04:27,  1.76s/it]\u001b[A\n",
            " 44%|████▍     | 119/270 [03:32<04:24,  1.75s/it]\u001b[A\n",
            " 44%|████▍     | 120/270 [03:34<04:24,  1.77s/it]\u001b[A\n",
            " 45%|████▍     | 121/270 [03:36<04:30,  1.82s/it]\u001b[A\n",
            " 45%|████▌     | 122/270 [03:38<04:29,  1.82s/it]\u001b[A\n",
            " 46%|████▌     | 123/270 [03:39<04:24,  1.80s/it]\u001b[A\n",
            " 46%|████▌     | 124/270 [03:41<04:19,  1.78s/it]\u001b[A\n",
            " 46%|████▋     | 125/270 [03:43<04:19,  1.79s/it]\u001b[A\n",
            " 47%|████▋     | 126/270 [03:45<04:30,  1.88s/it]\u001b[A\n",
            " 47%|████▋     | 127/270 [03:47<04:23,  1.84s/it]\u001b[A\n",
            " 47%|████▋     | 128/270 [03:48<04:13,  1.78s/it]\u001b[A\n",
            " 48%|████▊     | 129/270 [03:50<04:06,  1.75s/it]\u001b[A\n",
            " 48%|████▊     | 130/270 [03:52<04:02,  1.73s/it]\u001b[A\n",
            " 49%|████▊     | 131/270 [03:54<04:11,  1.81s/it]\u001b[A\n",
            " 49%|████▉     | 132/270 [03:56<04:07,  1.79s/it]\u001b[A\n",
            " 49%|████▉     | 133/270 [03:57<04:04,  1.79s/it]\u001b[A\n",
            " 50%|████▉     | 134/270 [03:59<04:04,  1.80s/it]\u001b[A\n",
            " 50%|█████     | 135/270 [04:01<04:01,  1.79s/it]\u001b[A\n",
            " 50%|█████     | 136/270 [04:03<04:08,  1.85s/it]\u001b[A\n",
            " 51%|█████     | 137/270 [04:05<04:03,  1.83s/it]\u001b[A\n",
            " 51%|█████     | 138/270 [04:07<04:01,  1.83s/it]\u001b[A\n",
            " 51%|█████▏    | 139/270 [04:08<03:56,  1.80s/it]\u001b[A\n",
            " 52%|█████▏    | 140/270 [04:10<03:53,  1.80s/it]\u001b[A\n",
            " 52%|█████▏    | 141/270 [04:12<03:56,  1.83s/it]\u001b[A\n",
            " 53%|█████▎    | 142/270 [04:14<03:49,  1.79s/it]\u001b[A\n",
            " 53%|█████▎    | 143/270 [04:15<03:46,  1.78s/it]\u001b[A\n",
            " 53%|█████▎    | 144/270 [04:17<03:38,  1.74s/it]\u001b[A\n",
            " 54%|█████▎    | 145/270 [04:19<03:34,  1.71s/it]\u001b[A\n",
            " 54%|█████▍    | 146/270 [04:21<03:40,  1.78s/it]\u001b[A\n",
            " 54%|█████▍    | 147/270 [04:22<03:38,  1.77s/it]\u001b[A\n",
            " 55%|█████▍    | 148/270 [04:24<03:36,  1.77s/it]\u001b[A\n",
            " 55%|█████▌    | 149/270 [04:26<03:33,  1.76s/it]\u001b[A\n",
            " 56%|█████▌    | 150/270 [04:28<03:33,  1.78s/it]\u001b[A\n",
            " 56%|█████▌    | 151/270 [04:30<03:33,  1.80s/it]\u001b[A\n",
            " 56%|█████▋    | 152/270 [04:31<03:30,  1.79s/it]\u001b[A\n",
            " 57%|█████▋    | 153/270 [04:33<03:27,  1.78s/it]\u001b[A\n",
            " 57%|█████▋    | 154/270 [04:35<03:21,  1.74s/it]\u001b[A\n",
            " 57%|█████▋    | 155/270 [04:37<03:21,  1.76s/it]\u001b[A\n",
            " 58%|█████▊    | 156/270 [04:39<03:30,  1.85s/it]\u001b[A\n",
            " 58%|█████▊    | 157/270 [04:40<03:22,  1.80s/it]\u001b[A\n",
            " 59%|█████▊    | 158/270 [04:42<03:19,  1.78s/it]\u001b[A\n",
            " 59%|█████▉    | 159/270 [04:44<03:16,  1.77s/it]\u001b[A\n",
            " 59%|█████▉    | 160/270 [04:46<03:14,  1.77s/it]\u001b[A\n",
            " 60%|█████▉    | 161/270 [04:47<03:18,  1.82s/it]\u001b[A\n",
            " 60%|██████    | 162/270 [04:49<03:15,  1.81s/it]\u001b[A\n",
            " 60%|██████    | 163/270 [04:51<03:12,  1.80s/it]\u001b[A\n",
            " 61%|██████    | 164/270 [04:53<03:08,  1.78s/it]\u001b[A\n",
            " 61%|██████    | 165/270 [04:55<03:06,  1.78s/it]\u001b[A\n",
            " 61%|██████▏   | 166/270 [04:57<03:11,  1.84s/it]\u001b[A\n",
            " 62%|██████▏   | 167/270 [04:58<03:07,  1.82s/it]\u001b[A\n",
            " 62%|██████▏   | 168/270 [05:00<03:03,  1.80s/it]\u001b[A\n",
            " 63%|██████▎   | 169/270 [05:02<03:00,  1.79s/it]\u001b[A\n",
            " 63%|██████▎   | 170/270 [05:04<02:58,  1.79s/it]\u001b[A\n",
            " 63%|██████▎   | 171/270 [05:06<03:00,  1.83s/it]\u001b[A\n",
            " 64%|██████▎   | 172/270 [05:07<02:57,  1.81s/it]\u001b[A\n",
            " 64%|██████▍   | 173/270 [05:09<02:51,  1.76s/it]\u001b[A\n",
            " 64%|██████▍   | 174/270 [05:11<02:48,  1.76s/it]\u001b[A\n",
            " 65%|██████▍   | 175/270 [05:12<02:45,  1.74s/it]\u001b[A\n",
            " 65%|██████▌   | 176/270 [05:14<02:49,  1.81s/it]\u001b[A\n",
            " 66%|██████▌   | 177/270 [05:16<02:44,  1.77s/it]\u001b[A\n",
            " 66%|██████▌   | 178/270 [05:18<02:42,  1.76s/it]\u001b[A\n",
            " 66%|██████▋   | 179/270 [05:20<02:39,  1.75s/it]\u001b[A\n",
            " 67%|██████▋   | 180/270 [05:21<02:40,  1.78s/it]\u001b[A\n",
            " 67%|██████▋   | 181/270 [05:23<02:41,  1.81s/it]\u001b[A\n",
            " 67%|██████▋   | 182/270 [05:25<02:38,  1.80s/it]\u001b[A\n",
            " 68%|██████▊   | 183/270 [05:27<02:35,  1.78s/it]\u001b[A\n",
            " 68%|██████▊   | 184/270 [05:29<02:32,  1.78s/it]\u001b[A\n",
            " 69%|██████▊   | 185/270 [05:30<02:29,  1.76s/it]\u001b[A\n",
            " 69%|██████▉   | 186/270 [05:32<02:33,  1.83s/it]\u001b[A\n",
            " 69%|██████▉   | 187/270 [05:34<02:29,  1.80s/it]\u001b[A\n",
            " 70%|██████▉   | 188/270 [05:36<02:25,  1.78s/it]\u001b[A\n",
            " 70%|███████   | 189/270 [05:37<02:20,  1.74s/it]\u001b[A\n",
            " 70%|███████   | 190/270 [05:39<02:19,  1.74s/it]\u001b[A\n",
            " 71%|███████   | 191/270 [05:41<02:23,  1.81s/it]\u001b[A\n",
            " 71%|███████   | 192/270 [05:43<02:20,  1.80s/it]\u001b[A\n",
            " 71%|███████▏  | 193/270 [05:45<02:16,  1.77s/it]\u001b[A\n",
            " 72%|███████▏  | 194/270 [05:46<02:13,  1.76s/it]\u001b[A\n",
            " 72%|███████▏  | 195/270 [05:48<02:09,  1.73s/it]\u001b[A\n",
            " 73%|███████▎  | 196/270 [05:50<02:13,  1.81s/it]\u001b[A\n",
            " 73%|███████▎  | 197/270 [05:52<02:11,  1.80s/it]\u001b[A\n",
            " 73%|███████▎  | 198/270 [05:53<02:07,  1.77s/it]\u001b[A\n",
            " 74%|███████▎  | 199/270 [05:55<02:05,  1.77s/it]\u001b[A\n",
            " 74%|███████▍  | 200/270 [05:57<02:06,  1.81s/it]\u001b[A\n",
            " 74%|███████▍  | 201/270 [05:59<02:07,  1.84s/it]\u001b[A\n",
            " 75%|███████▍  | 202/270 [06:01<02:02,  1.80s/it]\u001b[A\n",
            " 75%|███████▌  | 203/270 [06:02<01:59,  1.78s/it]\u001b[A\n",
            " 76%|███████▌  | 204/270 [06:04<01:57,  1.77s/it]\u001b[A\n",
            " 76%|███████▌  | 205/270 [06:06<01:56,  1.78s/it]\u001b[A\n",
            " 76%|███████▋  | 206/270 [06:08<01:56,  1.82s/it]\u001b[A\n",
            " 77%|███████▋  | 207/270 [06:10<01:52,  1.78s/it]\u001b[A\n",
            " 77%|███████▋  | 208/270 [06:11<01:49,  1.77s/it]\u001b[A\n",
            " 77%|███████▋  | 209/270 [06:13<01:47,  1.77s/it]\u001b[A\n",
            " 78%|███████▊  | 210/270 [06:15<01:45,  1.76s/it]\u001b[A\n",
            " 78%|███████▊  | 211/270 [06:17<01:46,  1.81s/it]\u001b[A\n",
            " 79%|███████▊  | 212/270 [06:18<01:42,  1.77s/it]\u001b[A\n",
            " 79%|███████▉  | 213/270 [06:20<01:40,  1.76s/it]\u001b[A\n",
            " 79%|███████▉  | 214/270 [06:22<01:38,  1.76s/it]\u001b[A\n",
            " 80%|███████▉  | 215/270 [06:24<01:35,  1.74s/it]\u001b[A\n",
            " 80%|████████  | 216/270 [06:26<01:38,  1.82s/it]\u001b[A\n",
            " 80%|████████  | 217/270 [06:27<01:34,  1.78s/it]\u001b[A\n",
            " 81%|████████  | 218/270 [06:29<01:32,  1.78s/it]\u001b[A\n",
            " 81%|████████  | 219/270 [06:31<01:30,  1.77s/it]\u001b[A\n",
            " 81%|████████▏ | 220/270 [06:33<01:26,  1.74s/it]\u001b[A\n",
            " 82%|████████▏ | 221/270 [06:35<01:29,  1.82s/it]\u001b[A\n",
            " 82%|████████▏ | 222/270 [06:36<01:26,  1.81s/it]\u001b[A\n",
            " 83%|████████▎ | 223/270 [06:38<01:24,  1.79s/it]\u001b[A\n",
            " 83%|████████▎ | 224/270 [06:40<01:21,  1.77s/it]\u001b[A\n",
            " 83%|████████▎ | 225/270 [06:42<01:19,  1.78s/it]\u001b[A\n",
            " 84%|████████▎ | 226/270 [06:44<01:21,  1.85s/it]\u001b[A\n",
            " 84%|████████▍ | 227/270 [06:45<01:17,  1.79s/it]\u001b[A\n",
            " 84%|████████▍ | 228/270 [06:47<01:15,  1.79s/it]\u001b[A\n",
            " 85%|████████▍ | 229/270 [06:49<01:12,  1.78s/it]\u001b[A\n",
            " 85%|████████▌ | 230/270 [06:51<01:11,  1.79s/it]\u001b[A\n",
            " 86%|████████▌ | 231/270 [06:53<01:11,  1.83s/it]\u001b[A\n",
            " 86%|████████▌ | 232/270 [06:54<01:09,  1.82s/it]\u001b[A\n",
            " 86%|████████▋ | 233/270 [06:56<01:05,  1.77s/it]\u001b[A\n",
            " 87%|████████▋ | 234/270 [06:58<01:02,  1.73s/it]\u001b[A\n",
            " 87%|████████▋ | 235/270 [06:59<00:59,  1.71s/it]\u001b[A\n",
            " 87%|████████▋ | 236/270 [07:01<01:00,  1.77s/it]\u001b[A\n",
            " 88%|████████▊ | 237/270 [07:03<00:57,  1.75s/it]\u001b[A\n",
            " 88%|████████▊ | 238/270 [07:05<00:56,  1.76s/it]\u001b[A\n",
            " 89%|████████▊ | 239/270 [07:06<00:53,  1.72s/it]\u001b[A\n",
            " 89%|████████▉ | 240/270 [07:08<00:51,  1.72s/it]\u001b[A\n",
            " 89%|████████▉ | 241/270 [07:10<00:52,  1.79s/it]\u001b[A\n",
            " 90%|████████▉ | 242/270 [07:12<00:50,  1.79s/it]\u001b[A\n",
            " 90%|█████████ | 243/270 [07:14<00:48,  1.80s/it]\u001b[A\n",
            " 90%|█████████ | 244/270 [07:15<00:45,  1.75s/it]\u001b[A\n",
            " 91%|█████████ | 245/270 [07:17<00:44,  1.77s/it]\u001b[A\n",
            " 91%|█████████ | 246/270 [07:19<00:44,  1.85s/it]\u001b[A\n",
            " 91%|█████████▏| 247/270 [07:21<00:41,  1.82s/it]\u001b[A\n",
            " 92%|█████████▏| 248/270 [07:23<00:39,  1.78s/it]\u001b[A\n",
            " 92%|█████████▏| 249/270 [07:24<00:37,  1.77s/it]\u001b[A\n",
            " 93%|█████████▎| 250/270 [07:26<00:35,  1.77s/it]\u001b[A\n",
            " 93%|█████████▎| 251/270 [07:28<00:34,  1.83s/it]\u001b[A\n",
            " 93%|█████████▎| 252/270 [07:30<00:33,  1.84s/it]\u001b[A\n",
            " 94%|█████████▎| 253/270 [07:32<00:30,  1.81s/it]\u001b[A\n",
            " 94%|█████████▍| 254/270 [07:33<00:28,  1.79s/it]\u001b[A\n",
            " 94%|█████████▍| 255/270 [07:35<00:27,  1.82s/it]\u001b[A\n",
            " 95%|█████████▍| 256/270 [07:38<00:27,  1.96s/it]\u001b[A\n",
            " 95%|█████████▌| 257/270 [07:39<00:24,  1.90s/it]\u001b[A\n",
            " 96%|█████████▌| 258/270 [07:41<00:22,  1.86s/it]\u001b[A\n",
            " 96%|█████████▌| 259/270 [07:43<00:20,  1.82s/it]\u001b[A\n",
            " 96%|█████████▋| 260/270 [07:45<00:18,  1.81s/it]\u001b[A\n",
            " 97%|█████████▋| 261/270 [07:47<00:16,  1.87s/it]\u001b[A\n",
            " 97%|█████████▋| 262/270 [07:48<00:14,  1.84s/it]\u001b[A\n",
            " 97%|█████████▋| 263/270 [07:50<00:12,  1.78s/it]\u001b[A\n",
            " 98%|█████████▊| 264/270 [07:52<00:10,  1.77s/it]\u001b[A\n",
            " 98%|█████████▊| 265/270 [07:53<00:08,  1.74s/it]\u001b[A\n",
            " 99%|█████████▊| 266/270 [07:55<00:07,  1.80s/it]\u001b[A\n",
            " 99%|█████████▉| 267/270 [07:57<00:05,  1.76s/it]\u001b[A\n",
            " 99%|█████████▉| 268/270 [07:59<00:03,  1.73s/it]\u001b[A\n",
            "100%|█████████▉| 269/270 [08:00<00:01,  1.74s/it]\u001b[A\n",
            "100%|██████████| 270/270 [08:02<00:00,  1.79s/it]\n"
          ],
          "name": "stderr"
        }
      ]
    },
    {
      "cell_type": "code",
      "metadata": {
        "id": "Us27Ikq1_1Xx",
        "colab_type": "code",
        "colab": {}
      },
      "source": [
        "lda_model = gensim.models.LdaMulticore(corpus=corpus,\n",
        "                                           id2word=id2word,\n",
        "                                           num_topics=2, \n",
        "                                           random_state=100,\n",
        "                                           chunksize=100,\n",
        "                                           passes=10,\n",
        "                                           alpha=0.01,\n",
        "                                           eta=0.01)"
      ],
      "execution_count": 21,
      "outputs": []
    },
    {
      "cell_type": "code",
      "metadata": {
        "id": "mzuHfHVKAE0O",
        "colab_type": "code",
        "colab": {
          "base_uri": "https://localhost:8080/",
          "height": 173
        },
        "outputId": "6c5c3aa5-c3cf-4266-e1ae-6b4b2a25697f"
      },
      "source": [
        "from pprint import pprint\n",
        "\n",
        "# Print the Keyword in the 10 topics\n",
        "pprint(lda_model.print_topics())\n",
        "doc_lda = lda_model[corpus]"
      ],
      "execution_count": 22,
      "outputs": [
        {
          "output_type": "stream",
          "text": [
            "[(0,\n",
            "  '0.018*\"model\" + 0.014*\"deep\" + 0.012*\"function\" + 0.010*\"assumption\" + '\n",
            "  '0.010*\"image\" + 0.009*\"edge\" + 0.009*\"loss\" + 0.009*\"point\" + '\n",
            "  '0.008*\"result\" + 0.008*\"follow\"'),\n",
            " (1,\n",
            "  '0.029*\"model\" + 0.012*\"use\" + 0.008*\"method\" + 0.008*\"number\" + '\n",
            "  '0.007*\"variable\" + 0.007*\"player\" + 0.007*\"distribution\" + 0.007*\"set\" + '\n",
            "  '0.007*\"influence\" + 0.007*\"feature\"')]\n"
          ],
          "name": "stdout"
        }
      ]
    },
    {
      "cell_type": "code",
      "metadata": {
        "id": "OaYx9mDTAGPi",
        "colab_type": "code",
        "colab": {
          "base_uri": "https://localhost:8080/",
          "height": 1000
        },
        "outputId": "36d5876c-3214-4644-af0a-15fb8500daa5"
      },
      "source": [
        "!pip install pyLDAvis\n",
        "import pyLDAvis.gensim\n",
        "import pickle \n",
        "import pyLDAvis\n",
        "\n",
        "# Visualize the topics\n",
        "pyLDAvis.enable_notebook()\n",
        "\n",
        "LDAvis_prepared = pyLDAvis.gensim.prepare(lda_model, corpus, id2word)\n",
        "\n",
        "LDAvis_prepared"
      ],
      "execution_count": 24,
      "outputs": [
        {
          "output_type": "stream",
          "text": [
            "Collecting pyLDAvis\n",
            "\u001b[?25l  Downloading https://files.pythonhosted.org/packages/a5/3a/af82e070a8a96e13217c8f362f9a73e82d61ac8fff3a2561946a97f96266/pyLDAvis-2.1.2.tar.gz (1.6MB)\n",
            "\u001b[K     |████████████████████████████████| 1.6MB 8.8MB/s \n",
            "\u001b[?25hRequirement already satisfied: wheel>=0.23.0 in /usr/local/lib/python3.6/dist-packages (from pyLDAvis) (0.34.2)\n",
            "Requirement already satisfied: numpy>=1.9.2 in /usr/local/lib/python3.6/dist-packages (from pyLDAvis) (1.18.5)\n",
            "Requirement already satisfied: scipy>=0.18.0 in /usr/local/lib/python3.6/dist-packages (from pyLDAvis) (1.4.1)\n",
            "Requirement already satisfied: pandas>=0.17.0 in /usr/local/lib/python3.6/dist-packages (from pyLDAvis) (1.0.5)\n",
            "Requirement already satisfied: joblib>=0.8.4 in /usr/local/lib/python3.6/dist-packages (from pyLDAvis) (0.15.1)\n",
            "Requirement already satisfied: jinja2>=2.7.2 in /usr/local/lib/python3.6/dist-packages (from pyLDAvis) (2.11.2)\n",
            "Requirement already satisfied: numexpr in /usr/local/lib/python3.6/dist-packages (from pyLDAvis) (2.7.1)\n",
            "Requirement already satisfied: pytest in /usr/local/lib/python3.6/dist-packages (from pyLDAvis) (3.6.4)\n",
            "Requirement already satisfied: future in /usr/local/lib/python3.6/dist-packages (from pyLDAvis) (0.16.0)\n",
            "Collecting funcy\n",
            "\u001b[?25l  Downloading https://files.pythonhosted.org/packages/ce/4b/6ffa76544e46614123de31574ad95758c421aae391a1764921b8a81e1eae/funcy-1.14.tar.gz (548kB)\n",
            "\u001b[K     |████████████████████████████████| 552kB 46.8MB/s \n",
            "\u001b[?25hRequirement already satisfied: pytz>=2017.2 in /usr/local/lib/python3.6/dist-packages (from pandas>=0.17.0->pyLDAvis) (2018.9)\n",
            "Requirement already satisfied: python-dateutil>=2.6.1 in /usr/local/lib/python3.6/dist-packages (from pandas>=0.17.0->pyLDAvis) (2.8.1)\n",
            "Requirement already satisfied: MarkupSafe>=0.23 in /usr/local/lib/python3.6/dist-packages (from jinja2>=2.7.2->pyLDAvis) (1.1.1)\n",
            "Requirement already satisfied: atomicwrites>=1.0 in /usr/local/lib/python3.6/dist-packages (from pytest->pyLDAvis) (1.4.0)\n",
            "Requirement already satisfied: six>=1.10.0 in /usr/local/lib/python3.6/dist-packages (from pytest->pyLDAvis) (1.12.0)\n",
            "Requirement already satisfied: setuptools in /usr/local/lib/python3.6/dist-packages (from pytest->pyLDAvis) (47.3.1)\n",
            "Requirement already satisfied: pluggy<0.8,>=0.5 in /usr/local/lib/python3.6/dist-packages (from pytest->pyLDAvis) (0.7.1)\n",
            "Requirement already satisfied: attrs>=17.4.0 in /usr/local/lib/python3.6/dist-packages (from pytest->pyLDAvis) (19.3.0)\n",
            "Requirement already satisfied: more-itertools>=4.0.0 in /usr/local/lib/python3.6/dist-packages (from pytest->pyLDAvis) (8.4.0)\n",
            "Requirement already satisfied: py>=1.5.0 in /usr/local/lib/python3.6/dist-packages (from pytest->pyLDAvis) (1.8.2)\n",
            "Building wheels for collected packages: pyLDAvis, funcy\n",
            "  Building wheel for pyLDAvis (setup.py) ... \u001b[?25l\u001b[?25hdone\n",
            "  Created wheel for pyLDAvis: filename=pyLDAvis-2.1.2-py2.py3-none-any.whl size=97711 sha256=9f419aa86ef642c74c13cf77348fbe31189a034d8fcf874655fb7c9d1d7263db\n",
            "  Stored in directory: /root/.cache/pip/wheels/98/71/24/513a99e58bb6b8465bae4d2d5e9dba8f0bef8179e3051ac414\n",
            "  Building wheel for funcy (setup.py) ... \u001b[?25l\u001b[?25hdone\n",
            "  Created wheel for funcy: filename=funcy-1.14-py2.py3-none-any.whl size=32042 sha256=d3e8f41d95b73c428270298ed9997ac28cf78fab75bbc39b1f10608b69815022\n",
            "  Stored in directory: /root/.cache/pip/wheels/20/5a/d8/1d875df03deae6f178dfdf70238cca33f948ef8a6f5209f2eb\n",
            "Successfully built pyLDAvis funcy\n",
            "Installing collected packages: funcy, pyLDAvis\n",
            "Successfully installed funcy-1.14 pyLDAvis-2.1.2\n"
          ],
          "name": "stdout"
        },
        {
          "output_type": "execute_result",
          "data": {
            "text/html": [
              "\n",
              "<link rel=\"stylesheet\" type=\"text/css\" href=\"https://cdn.rawgit.com/bmabey/pyLDAvis/files/ldavis.v1.0.0.css\">\n",
              "\n",
              "\n",
              "<div id=\"ldavis_el1211396451387375761532264457\"></div>\n",
              "<script type=\"text/javascript\">\n",
              "\n",
              "var ldavis_el1211396451387375761532264457_data = {\"mdsDat\": {\"x\": [0.13275635242462158, -0.13275635242462158], \"y\": [0.0, 0.0], \"topics\": [1, 2], \"cluster\": [1, 1], \"Freq\": [73.92739868164062, 26.072593688964844]}, \"tinfo\": {\"Term\": [\"deep\", \"assumption\", \"loss\", \"image\", \"function\", \"point\", \"edge\", \"scene\", \"follow\", \"order\", \"line\", \"prove\", \"node\", \"theorem\", \"first\", \"work\", \"covariance\", \"proof\", \"result\", \"linear\", \"nonlinear\", \"player\", \"influence\", \"condition\", \"theory\", \"estimate\", \"assume\", \"let\", \"perturbation\", \"rank\", \"cnf\", \"sound\", \"markov\", \"crf\", \"test\", \"influence\", \"prediction\", \"margin\", \"conditional\", \"sound_localization\", \"sequence\", \"process\", \"auditory\", \"protein\", \"observation\", \"neuron\", \"individual\", \"much\", \"particle\", \"table\", \"gene\", \"player\", \"choose\", \"pass\", \"framework\", \"noise\", \"select\", \"vi_vj\", \"action\", \"gaussian\", \"team\", \"meeting\", \"discrete\", \"language\", \"fig\", \"kernel\", \"localization\", \"participant\", \"dag\", \"level\", \"feature\", \"time\", \"space\", \"model\", \"variable\", \"parameter\", \"use\", \"method\", \"evidence\", \"number\", \"training\", \"datum\", \"set\", \"dataset\", \"distribution\", \"base\", \"inference\", \"input\", \"output\", \"algorithm\", \"value\", \"structure\", \"also\", \"state\", \"result\", \"learn\", \"network\", \"show\", \"function\", \"deep\", \"scene\", \"corollary\", \"conjecture\", \"dvec\", \"perturbation\", \"entry\", \"wh\", \"activation\", \"arbitrarily\", \"rdy\", \"pon\", \"proposition\", \"rural\", \"indoor\", \"success\", \"shallow\", \"detection\", \"moreover\", \"eigenvector\", \"cartesian\", \"image_gradient\", \"surface\", \"unrealistic\", \"bdk\", \"generality\", \"negative\", \"discard\", \"lprevious\", \"induction\", \"blr\", \"camera_orientation\", \"yk\", \"outlier\", \"cumulant\", \"countryside\", \"loss\", \"prove\", \"object\", \"covariance\", \"assumption\", \"room\", \"image\", \"proof\", \"point\", \"derivative\", \"theory\", \"theorem\", \"line\", \"statement\", \"follow\", \"order\", \"theoretical\", \"function\", \"edge\", \"rank\", \"work\", \"node\", \"nonlinear\", \"first\", \"condition\", \"linear\", \"let\", \"model\", \"result\", \"estimate\", \"assume\", \"network\", \"show\", \"use\", \"value\"], \"Freq\": [60.0, 54.0, 39.0, 53.0, 102.0, 50.0, 73.0, 28.0, 58.0, 44.0, 37.0, 22.0, 50.0, 31.0, 58.0, 38.0, 23.0, 25.0, 107.0, 53.0, 41.0, 85.0, 83.0, 39.0, 24.0, 53.0, 51.0, 36.0, 14.0, 23.0, 49.88861846923828, 50.87840270996094, 35.919219970703125, 34.92188262939453, 56.85986328125, 83.77911376953125, 17.965734481811523, 25.941253662109375, 24.943859100341797, 16.96758270263672, 35.90752029418945, 24.941734313964844, 17.9633846282959, 15.969563484191895, 19.956317901611328, 16.96531105041504, 30.92000389099121, 12.97732925415039, 27.92796516418457, 18.95736312866211, 21.946840286254883, 85.73365020751953, 14.96959400177002, 13.972635269165039, 23.938739776611328, 29.917991638183594, 12.97546100616455, 14.968475341796875, 23.9371280670166, 14.968010902404785, 33.90110397338867, 30.9102783203125, 29.90750503540039, 24.931657791137695, 23.933664321899414, 22.937164306640625, 18.953548431396484, 18.953386306762695, 18.94862174987793, 69.79438018798828, 81.81254577636719, 35.904884338378906, 31.902923583984375, 353.04931640625, 85.76590728759766, 60.84809112548828, 147.60269165039062, 94.76099395751953, 39.895469665527344, 93.73592376708984, 49.8791389465332, 79.7542724609375, 83.7948226928711, 36.91331100463867, 83.79618072509766, 58.830020904541016, 72.82146453857422, 53.86235046386719, 60.86374282836914, 58.86576843261719, 73.83473205566406, 55.833003997802734, 56.893611907958984, 51.866188049316406, 71.76606750488281, 54.81571960449219, 59.87546157836914, 51.88788604736328, 52.8874626159668, 60.5395393371582, 28.774883270263672, 9.932853698730469, 8.939906120300293, 6.95673942565918, 14.884570121765137, 9.929534912109375, 7.947368621826172, 8.93818187713623, 6.95595121383667, 5.963825225830078, 7.943187713623047, 5.9620256423950195, 6.9519853591918945, 5.961012363433838, 5.961010932922363, 4.9707441329956055, 7.941274642944336, 5.9606499671936035, 4.970064640045166, 5.9599833488464355, 4.969691753387451, 5.959257125854492, 3.979246139526367, 3.979165554046631, 3.9789628982543945, 4.9681878089904785, 3.978370428085327, 3.9783127307891846, 3.978278160095215, 5.956501007080078, 4.9674201011657715, 4.966588973999023, 4.9663190841674805, 4.965953350067139, 4.965775012969971, 38.70940399169922, 21.83450698852539, 12.90444564819336, 20.833436965942383, 43.7973518371582, 10.916576385498047, 40.788936614990234, 20.992280960083008, 37.718849182128906, 9.922975540161133, 18.879024505615234, 22.86171531677246, 25.834487915039062, 10.928756713867188, 34.792137145996094, 27.814786911010742, 14.9224271774292, 49.70397186279297, 38.91700744628906, 16.906415939331055, 23.84004020690918, 26.8568115234375, 22.92780876159668, 27.851530075073242, 21.878807067871094, 25.875890731811523, 19.951326370239258, 76.85932922363281, 35.888938903808594, 23.845178604125977, 22.903175354003906, 26.86117172241211, 20.9028377532959, 25.00159454345703, 20.91958236694336], \"Total\": [60.0, 54.0, 39.0, 53.0, 102.0, 50.0, 73.0, 28.0, 58.0, 44.0, 37.0, 22.0, 50.0, 31.0, 58.0, 38.0, 23.0, 25.0, 107.0, 53.0, 41.0, 85.0, 83.0, 39.0, 24.0, 53.0, 51.0, 36.0, 14.0, 23.0, 49.9371452331543, 50.935447692871094, 35.960304260253906, 34.96195983886719, 56.92549514770508, 83.88072204589844, 17.990114212036133, 25.976848602294922, 24.97850227355957, 16.99176788330078, 35.96023941040039, 24.978492736816406, 17.990102767944336, 15.99342155456543, 19.98678207397461, 16.991756439208984, 30.96852684020996, 12.998391151428223, 27.973493576049805, 18.98843002319336, 21.983448028564453, 85.87721252441406, 14.995064735412598, 13.996724128723145, 23.980119705200195, 29.97015380859375, 12.998380661010742, 14.995058059692383, 23.980112075805664, 14.995055198669434, 33.9634895324707, 30.96847152709961, 29.970102310180664, 24.978443145751953, 23.980091094970703, 22.981754302978516, 18.9884090423584, 18.988407135009766, 18.988384246826172, 70.89698028564453, 84.8637466430664, 36.95341110229492, 32.95998001098633, 429.90863037109375, 94.81603240966797, 65.88478088378906, 172.60427856445312, 106.78077697753906, 41.939979553222656, 107.7686538696289, 53.909828186035156, 91.80538177490234, 98.77857971191406, 38.94499969482422, 101.75814056396484, 67.8607177734375, 88.78996276855469, 61.87591552734375, 72.837158203125, 69.8472671508789, 94.75431823730469, 67.84521484375, 70.83026123046875, 64.84514617919922, 107.6550064086914, 73.79905700683594, 86.73663330078125, 72.79072570800781, 102.5914306640625, 60.60445785522461, 28.822460174560547, 9.951807975769043, 8.95862102508545, 6.972235679626465, 14.917802810668945, 9.951823234558105, 7.965432643890381, 8.958630561828613, 6.972239017486572, 5.979049205780029, 7.965455055236816, 5.979059219360352, 6.972259044647217, 5.979063987731934, 5.979063987731934, 4.985865116119385, 7.965465068817139, 5.979065895080566, 4.985867977142334, 5.979069232940674, 4.985870361328125, 5.979073524475098, 3.992671251296997, 3.992671489715576, 3.9926726818084717, 4.985877990722656, 3.99267578125, 3.9926764965057373, 3.992676258087158, 5.979087829589844, 4.985881805419922, 4.985886096954346, 4.985886573791504, 4.985889911651611, 4.985889911651611, 39.75263977050781, 22.86845588684082, 13.9297513961792, 23.87200927734375, 54.70140838623047, 11.943387985229492, 53.71870422363281, 25.86787986755371, 50.7396240234375, 10.950207710266113, 24.88051986694336, 31.84825325012207, 37.82288360595703, 12.941675186157227, 58.74163055419922, 44.80103302001953, 19.909347534179688, 102.5914306640625, 73.69540405273438, 23.892427444458008, 38.83160400390625, 50.79610061645508, 41.831398010253906, 58.77771759033203, 39.84014892578125, 53.7962532043457, 36.855133056640625, 429.90863037109375, 107.6550064086914, 53.80680847167969, 51.81501007080078, 86.73663330078125, 72.79072570800781, 172.60427856445312, 94.75431823730469], \"Category\": [\"Default\", \"Default\", \"Default\", \"Default\", \"Default\", \"Default\", \"Default\", \"Default\", \"Default\", \"Default\", \"Default\", \"Default\", \"Default\", \"Default\", \"Default\", \"Default\", \"Default\", \"Default\", \"Default\", \"Default\", \"Default\", \"Default\", \"Default\", \"Default\", \"Default\", \"Default\", \"Default\", \"Default\", \"Default\", \"Default\", \"Topic1\", \"Topic1\", \"Topic1\", \"Topic1\", \"Topic1\", \"Topic1\", \"Topic1\", \"Topic1\", \"Topic1\", \"Topic1\", \"Topic1\", \"Topic1\", \"Topic1\", \"Topic1\", \"Topic1\", \"Topic1\", \"Topic1\", \"Topic1\", \"Topic1\", \"Topic1\", \"Topic1\", \"Topic1\", \"Topic1\", \"Topic1\", \"Topic1\", \"Topic1\", \"Topic1\", \"Topic1\", \"Topic1\", \"Topic1\", \"Topic1\", \"Topic1\", \"Topic1\", \"Topic1\", \"Topic1\", \"Topic1\", \"Topic1\", \"Topic1\", \"Topic1\", \"Topic1\", \"Topic1\", \"Topic1\", \"Topic1\", \"Topic1\", \"Topic1\", \"Topic1\", \"Topic1\", \"Topic1\", \"Topic1\", \"Topic1\", \"Topic1\", \"Topic1\", \"Topic1\", \"Topic1\", \"Topic1\", \"Topic1\", \"Topic1\", \"Topic1\", \"Topic1\", \"Topic1\", \"Topic1\", \"Topic1\", \"Topic1\", \"Topic1\", \"Topic1\", \"Topic1\", \"Topic1\", \"Topic1\", \"Topic1\", \"Topic2\", \"Topic2\", \"Topic2\", \"Topic2\", \"Topic2\", \"Topic2\", \"Topic2\", \"Topic2\", \"Topic2\", \"Topic2\", \"Topic2\", \"Topic2\", \"Topic2\", \"Topic2\", \"Topic2\", \"Topic2\", \"Topic2\", \"Topic2\", \"Topic2\", \"Topic2\", \"Topic2\", \"Topic2\", \"Topic2\", \"Topic2\", \"Topic2\", \"Topic2\", \"Topic2\", \"Topic2\", \"Topic2\", \"Topic2\", \"Topic2\", \"Topic2\", \"Topic2\", \"Topic2\", \"Topic2\", \"Topic2\", \"Topic2\", \"Topic2\", \"Topic2\", \"Topic2\", \"Topic2\", \"Topic2\", \"Topic2\", \"Topic2\", \"Topic2\", \"Topic2\", \"Topic2\", \"Topic2\", \"Topic2\", \"Topic2\", \"Topic2\", \"Topic2\", \"Topic2\", \"Topic2\", \"Topic2\", \"Topic2\", \"Topic2\", \"Topic2\", \"Topic2\", \"Topic2\", \"Topic2\", \"Topic2\", \"Topic2\", \"Topic2\", \"Topic2\", \"Topic2\", \"Topic2\", \"Topic2\", \"Topic2\", \"Topic2\", \"Topic2\"], \"logprob\": [30.0, 29.0, 28.0, 27.0, 26.0, 25.0, 24.0, 23.0, 22.0, 21.0, 20.0, 19.0, 18.0, 17.0, 16.0, 15.0, 14.0, 13.0, 12.0, 11.0, 10.0, 9.0, 8.0, 7.0, 6.0, 5.0, 4.0, 3.0, 2.0, 1.0, -5.487500190734863, -5.467899799346924, -5.816100120544434, -5.844200134277344, -5.3566999435424805, -4.969099998474121, -6.508900165557861, -6.141499996185303, -6.180699825286865, -6.565999984741211, -5.816400051116943, -6.180799961090088, -6.508999824523926, -6.6265997886657715, -6.403800010681152, -6.566199779510498, -5.96589994430542, -6.834099769592285, -6.067699909210205, -6.455100059509277, -6.308700084686279, -4.946100234985352, -6.691299915313721, -6.760200023651123, -6.221799850463867, -5.998899936676025, -6.8343000411987305, -6.691400051116943, -6.22189998626709, -6.691400051116943, -5.873899936676025, -5.96619987487793, -5.999199867248535, -6.18120002746582, -6.2220001220703125, -6.264599800109863, -6.4552998542785645, -6.4552998542785645, -6.455599784851074, -5.151800155639648, -4.9928998947143555, -5.816500186920166, -5.934599876403809, -3.5306999683380127, -4.945700168609619, -5.288899898529053, -4.4028000831604, -4.8460001945495605, -5.711100101470947, -4.856800079345703, -5.48769998550415, -5.018400192260742, -4.968999862670898, -5.78879976272583, -4.968900203704834, -5.322700023651123, -5.109300136566162, -5.410900115966797, -5.288700103759766, -5.3221001625061035, -5.0954999923706055, -5.375, -5.356100082397461, -5.448699951171875, -5.123899936676025, -5.3933000564575195, -5.305099964141846, -5.448200225830078, -5.429200172424316, -4.251800060272217, -4.99560022354126, -6.059299945831299, -6.164599895477295, -6.41540002822876, -5.654799938201904, -6.059599876403809, -6.282299995422363, -6.16480016708374, -6.415500164031982, -6.569399833679199, -6.282800197601318, -6.569699764251709, -6.416100025177002, -6.569900035858154, -6.569900035858154, -6.7515997886657715, -6.283100128173828, -6.569900035858154, -6.751699924468994, -6.570099830627441, -6.751800060272217, -6.570199966430664, -6.973999977111816, -6.974100112915039, -6.974100112915039, -6.752099990844727, -6.974299907684326, -6.974299907684326, -6.974299907684326, -6.5706000328063965, -6.752200126647949, -6.752399921417236, -6.752399921417236, -6.752500057220459, -6.752600193023682, -4.698999881744385, -5.271599769592285, -5.797599792480469, -5.318600177764893, -4.5756001472473145, -5.964799880981445, -4.646699905395508, -5.310999870300293, -4.724999904632568, -6.060299873352051, -5.417099952697754, -5.2256999015808105, -5.103400230407715, -5.963699817657471, -4.805699825286865, -5.029600143432617, -5.652299880981445, -4.448999881744385, -4.693699836730957, -5.527400016784668, -5.183800220489502, -5.064599990844727, -5.222799777984619, -5.028200149536133, -5.269599914550781, -5.101799964904785, -5.361800193786621, -4.0131001472473145, -4.774700164794922, -5.183499813079834, -5.223899841308594, -5.0644001960754395, -5.315199851989746, -5.136199951171875, -5.3144001960754395], \"loglift\": [30.0, 29.0, 28.0, 27.0, 26.0, 25.0, 24.0, 23.0, 22.0, 21.0, 20.0, 19.0, 18.0, 17.0, 16.0, 15.0, 14.0, 13.0, 12.0, 11.0, 10.0, 9.0, 8.0, 7.0, 6.0, 5.0, 4.0, 3.0, 2.0, 1.0, 0.3010999858379364, 0.3009999990463257, 0.30090001225471497, 0.30090001225471497, 0.30090001225471497, 0.30090001225471497, 0.30070000886917114, 0.30070000886917114, 0.30070000886917114, 0.30070000886917114, 0.30059999227523804, 0.30059999227523804, 0.30059999227523804, 0.30059999227523804, 0.30059999227523804, 0.3005000054836273, 0.3005000054836273, 0.3005000054836273, 0.3005000054836273, 0.3003999888896942, 0.3003999888896942, 0.3003999888896942, 0.3003999888896942, 0.3003999888896942, 0.3003999888896942, 0.3003000020980835, 0.3003000020980835, 0.3003000020980835, 0.3003000020980835, 0.3003000020980835, 0.3001999855041504, 0.3001999855041504, 0.30000001192092896, 0.3001999855041504, 0.3000999987125397, 0.3000999987125397, 0.3001999855041504, 0.3001999855041504, 0.30000001192092896, 0.2863999903202057, 0.265500009059906, 0.2732999920845032, 0.2694999873638153, 0.10509999841451645, 0.20180000364780426, 0.22259999811649323, 0.14560000598430634, 0.1826999932527542, 0.25209999084472656, 0.16259999573230743, 0.22439999878406525, 0.16140000522136688, 0.13760000467300415, 0.2485000044107437, 0.10790000110864639, 0.15929999947547913, 0.10379999876022339, 0.16339999437332153, 0.12250000238418579, 0.13099999725818634, 0.05260000005364418, 0.10719999670982361, 0.08299999684095383, 0.07880000025033951, -0.10339999943971634, 0.004699999932199717, -0.06849999725818634, -0.036400001496076584, -0.3605000078678131, 1.3431999683380127, 1.3425999879837036, 1.3423999547958374, 1.3422000408172607, 1.3421000242233276, 1.3421000242233276, 1.3420000076293945, 1.3420000076293945, 1.3420000076293945, 1.3418999910354614, 1.3416999578475952, 1.3415000438690186, 1.3414000272750854, 1.3414000272750854, 1.3413000106811523, 1.3413000106811523, 1.3411999940872192, 1.3411999940872192, 1.3411999940872192, 1.3410999774932861, 1.3410999774932861, 1.340999960899353, 1.340999960899353, 1.34089994430542, 1.34089994430542, 1.3408000469207764, 1.3407000303268433, 1.3407000303268433, 1.3407000303268433, 1.3407000303268433, 1.340499997138977, 1.3406000137329102, 1.340399980545044, 1.340399980545044, 1.3402999639511108, 1.3401999473571777, 1.3177000284194946, 1.2979999780654907, 1.267799973487854, 1.2080999612808228, 1.121999979019165, 1.2544000148773193, 1.0688999891281128, 1.1354000568389893, 1.047700047492981, 1.2458000183105469, 1.0683000087738037, 1.0127999782562256, 0.963100016117096, 1.1751999855041504, 0.8205000162124634, 0.8676000237464905, 1.055999994277954, 0.6195999979972839, 0.7057999968528748, 0.9983999729156494, 0.8564000129699707, 0.7070000171661377, 0.7429999709129333, 0.5974000096321106, 0.7448999881744385, 0.6123999953269958, 0.7305999994277954, -0.3772999942302704, 0.24580000340938568, 0.5304999947547913, 0.527899980545044, 0.1720999926328659, 0.0966000035405159, -0.5878000259399414, -0.1662999987602234]}, \"token.table\": {\"Topic\": [1, 2, 1, 2, 1, 2, 2, 1, 2, 1, 2, 1, 1, 2, 2, 2, 2, 2, 1, 1, 1, 2, 1, 2, 2, 2, 1, 2, 1, 2, 1, 1, 2, 1, 2, 2, 1, 2, 2, 2, 1, 1, 2, 2, 1, 2, 2, 2, 1, 2, 1, 2, 1, 2, 1, 1, 2, 1, 2, 1, 1, 2, 1, 1, 2, 1, 2, 2, 1, 2, 2, 1, 2, 1, 1, 2, 1, 1, 1, 2, 1, 2, 1, 2, 1, 2, 1, 2, 1, 1, 2, 2, 1, 1, 1, 1, 2, 1, 2, 2, 1, 2, 1, 2, 1, 1, 2, 1, 1, 2, 1, 2, 1, 2, 1, 1, 2, 2, 1, 2, 1, 2, 1, 1, 1, 2, 1, 1, 2, 2, 1, 1, 1, 2, 2, 1, 1, 2, 1, 2, 2, 1, 2, 1, 2, 2, 2, 1, 1, 1, 2, 2, 1, 2, 1, 1, 1, 2, 1, 2, 1, 2, 1, 2, 2, 2, 1, 1, 1, 1, 2, 1, 2, 1, 2, 1, 2, 1, 2, 2, 1, 2, 1, 2, 1, 2, 1, 2, 1, 2, 2], \"Freq\": [1.0008293390274048, 1.0046178102493286, 0.8447002172470093, 0.15748648345470428, 0.8047407865524292, 0.19765563309192657, 1.003981590270996, 0.5596833825111389, 0.44388681650161743, 0.2010917216539383, 0.8043668866157532, 1.0005501508712769, 0.8694278597831726, 0.13262459635734558, 1.0018354654312134, 1.00349760055542, 1.0028315782546997, 1.0035006999969482, 1.0003291368484497, 1.0012587308883667, 0.4518055319786072, 0.5522067546844482, 1.0008606910705566, 1.0046188831329346, 1.0048425197601318, 1.0028300285339355, 0.1256701946258545, 0.8796913623809814, 1.00108802318573, 1.0028300285339355, 1.0006117820739746, 0.9500578045845032, 0.05135447531938553, 0.8714085817337036, 0.13071128726005554, 1.0065265893936157, 0.09132246673107147, 0.9132246971130371, 1.004335641860962, 1.0018343925476074, 1.000997543334961, 0.8254867792129517, 0.176890030503273, 1.0039820671081543, 0.4749278426170349, 0.529205322265625, 1.002834439277649, 1.0048409700393677, 0.5575502514839172, 0.44604021310806274, 0.9537439346313477, 0.04768719524145126, 0.9662547707557678, 0.03535078465938568, 1.0008301734924316, 0.5274107456207275, 0.47637099027633667, 0.4085688292980194, 0.5958295464515686, 1.0008289813995361, 0.5166123509407043, 0.4873701333999634, 1.0003297328948975, 1.0007529258728027, 1.0018352270126343, 0.24200136959552765, 0.7632350921630859, 1.0028339624404907, 1.0010162591934204, 1.003501534461975, 1.0018342733383179, 0.8221650123596191, 0.18020054697990417, 1.0014220476150513, 0.8727143406867981, 0.12929101288318634, 1.0007939338684082, 1.0008630752563477, 0.7452669739723206, 0.25745585560798645, 0.4612654745578766, 0.5426652431488037, 0.9873481392860413, 0.014104973524808884, 0.3172682523727417, 0.6874145269393921, 0.5204823613166809, 0.48330503702163696, 1.0006104707717896, 0.02515556290745735, 0.9810669422149658, 1.0018342733383179, 1.0008912086486816, 1.0011038780212402, 1.0010180473327637, 0.8896732330322266, 0.1123797744512558, 0.8211047053337097, 0.17910782992839813, 1.0035011768341064, 1.0001237392425537, 1.0028324127197266, 0.6917492151260376, 0.31128716468811035, 1.0004851818084717, 0.4724771976470947, 0.531536877155304, 1.0009958744049072, 0.4542042911052704, 0.5498262047767639, 0.87223881483078, 0.12990790605545044, 0.07178878784179688, 0.9332543015480042, 1.0006613731384277, 0.3794555366039276, 0.6249855756759644, 1.0028306245803833, 0.83748459815979, 0.1647510677576065, 0.925858736038208, 0.07589005678892136, 1.0006104707717896, 1.0009475946426392, 1.0002340078353882, 1.0055099725723267, 1.001429796218872, 0.2562100291252136, 0.7489215731620789, 1.0043368339538574, 1.000549554824829, 1.0008610486984253, 0.19328990578651428, 0.8118175864219666, 1.003502368927002, 1.0004112720489502, 0.04372835531830788, 0.9620238542556763, 0.2929798662662506, 0.7115225195884705, 1.0035040378570557, 0.6688030958175659, 0.33440154790878296, 0.08372833579778671, 0.9210116863250732, 1.0039787292480469, 1.006159782409668, 1.0001245737075806, 1.0011056661605835, 0.8503867983818054, 0.15185478329658508, 1.0028350353240967, 0.7143767476081848, 0.28849828243255615, 1.0012673139572144, 1.0004844665527344, 0.9708743691444397, 0.03033982403576374, 0.8019104599952698, 0.20047761499881744, 0.15453949570655823, 0.8499672412872314, 0.8254082202911377, 0.17687319219112396, 1.003501534461975, 1.003499984741211, 1.000609278678894, 1.001075029373169, 1.001308798789978, 0.2825900614261627, 0.7221745848655701, 0.2511383295059204, 0.7534149289131165, 0.24115251004695892, 0.7636496424674988, 0.974199652671814, 0.0270611010491848, 0.9274746775627136, 0.07419797033071518, 1.001835584640503, 0.8574526906013489, 0.14483997225761414, 0.7809670567512512, 0.22162578999996185, 0.9070196151733398, 0.09492065757513046, 1.000329613685608, 1.0043396949768066, 0.3862833082675934, 0.6180532574653625, 1.0028307437896729], \"Term\": [\"action\", \"activation\", \"algorithm\", \"algorithm\", \"also\", \"also\", \"arbitrarily\", \"assume\", \"assume\", \"assumption\", \"assumption\", \"auditory\", \"base\", \"base\", \"bdk\", \"blr\", \"camera_orientation\", \"cartesian\", \"choose\", \"cnf\", \"condition\", \"condition\", \"conditional\", \"conjecture\", \"corollary\", \"countryside\", \"covariance\", \"covariance\", \"crf\", \"cumulant\", \"dag\", \"dataset\", \"dataset\", \"datum\", \"datum\", \"deep\", \"derivative\", \"derivative\", \"detection\", \"discard\", \"discrete\", \"distribution\", \"distribution\", \"dvec\", \"edge\", \"edge\", \"eigenvector\", \"entry\", \"estimate\", \"estimate\", \"evidence\", \"evidence\", \"feature\", \"feature\", \"fig\", \"first\", \"first\", \"follow\", \"follow\", \"framework\", \"function\", \"function\", \"gaussian\", \"gene\", \"generality\", \"image\", \"image\", \"image_gradient\", \"individual\", \"indoor\", \"induction\", \"inference\", \"inference\", \"influence\", \"input\", \"input\", \"kernel\", \"language\", \"learn\", \"learn\", \"let\", \"let\", \"level\", \"level\", \"line\", \"line\", \"linear\", \"linear\", \"localization\", \"loss\", \"loss\", \"lprevious\", \"margin\", \"markov\", \"meeting\", \"method\", \"method\", \"model\", \"model\", \"moreover\", \"much\", \"negative\", \"network\", \"network\", \"neuron\", \"node\", \"node\", \"noise\", \"nonlinear\", \"nonlinear\", \"number\", \"number\", \"object\", \"object\", \"observation\", \"order\", \"order\", \"outlier\", \"output\", \"output\", \"parameter\", \"parameter\", \"participant\", \"particle\", \"pass\", \"perturbation\", \"player\", \"point\", \"point\", \"pon\", \"prediction\", \"process\", \"proof\", \"proof\", \"proposition\", \"protein\", \"prove\", \"prove\", \"rank\", \"rank\", \"rdy\", \"result\", \"result\", \"room\", \"room\", \"rural\", \"scene\", \"select\", \"sequence\", \"set\", \"set\", \"shallow\", \"show\", \"show\", \"sound\", \"sound_localization\", \"space\", \"space\", \"state\", \"state\", \"statement\", \"statement\", \"structure\", \"structure\", \"success\", \"surface\", \"table\", \"team\", \"test\", \"theorem\", \"theorem\", \"theoretical\", \"theoretical\", \"theory\", \"theory\", \"time\", \"time\", \"training\", \"training\", \"unrealistic\", \"use\", \"use\", \"value\", \"value\", \"variable\", \"variable\", \"vi_vj\", \"wh\", \"work\", \"work\", \"yk\"]}, \"R\": 30, \"lambda.step\": 0.01, \"plot.opts\": {\"xlab\": \"PC1\", \"ylab\": \"PC2\"}, \"topic.order\": [2, 1]};\n",
              "\n",
              "function LDAvis_load_lib(url, callback){\n",
              "  var s = document.createElement('script');\n",
              "  s.src = url;\n",
              "  s.async = true;\n",
              "  s.onreadystatechange = s.onload = callback;\n",
              "  s.onerror = function(){console.warn(\"failed to load library \" + url);};\n",
              "  document.getElementsByTagName(\"head\")[0].appendChild(s);\n",
              "}\n",
              "\n",
              "if(typeof(LDAvis) !== \"undefined\"){\n",
              "   // already loaded: just create the visualization\n",
              "   !function(LDAvis){\n",
              "       new LDAvis(\"#\" + \"ldavis_el1211396451387375761532264457\", ldavis_el1211396451387375761532264457_data);\n",
              "   }(LDAvis);\n",
              "}else if(typeof define === \"function\" && define.amd){\n",
              "   // require.js is available: use it to load d3/LDAvis\n",
              "   require.config({paths: {d3: \"https://cdnjs.cloudflare.com/ajax/libs/d3/3.5.5/d3.min\"}});\n",
              "   require([\"d3\"], function(d3){\n",
              "      window.d3 = d3;\n",
              "      LDAvis_load_lib(\"https://cdn.rawgit.com/bmabey/pyLDAvis/files/ldavis.v1.0.0.js\", function(){\n",
              "        new LDAvis(\"#\" + \"ldavis_el1211396451387375761532264457\", ldavis_el1211396451387375761532264457_data);\n",
              "      });\n",
              "    });\n",
              "}else{\n",
              "    // require.js not available: dynamically load d3 & LDAvis\n",
              "    LDAvis_load_lib(\"https://cdnjs.cloudflare.com/ajax/libs/d3/3.5.5/d3.min.js\", function(){\n",
              "         LDAvis_load_lib(\"https://cdn.rawgit.com/bmabey/pyLDAvis/files/ldavis.v1.0.0.js\", function(){\n",
              "                 new LDAvis(\"#\" + \"ldavis_el1211396451387375761532264457\", ldavis_el1211396451387375761532264457_data);\n",
              "            })\n",
              "         });\n",
              "}\n",
              "</script>"
            ],
            "text/plain": [
              "PreparedData(topic_coordinates=              x    y  topics  cluster       Freq\n",
              "topic                                           \n",
              "1      0.132756  0.0       1        1  73.927399\n",
              "0     -0.132756  0.0       2        1  26.072594, topic_info=           Term        Freq       Total Category  logprob  loglift\n",
              "820        deep   60.000000   60.000000  Default  30.0000  30.0000\n",
              "52   assumption   54.000000   54.000000  Default  29.0000  29.0000\n",
              "918        loss   39.000000   39.000000  Default  28.0000  28.0000\n",
              "310       image   53.000000   53.000000  Default  27.0000  27.0000\n",
              "273    function  102.000000  102.000000  Default  26.0000  26.0000\n",
              "..          ...         ...         ...      ...      ...      ...\n",
              "769      assume   22.903175   51.815010   Topic2  -5.2239   0.5279\n",
              "436     network   26.861172   86.736633   Topic2  -5.0644   0.1721\n",
              "614        show   20.902838   72.790726   Topic2  -5.3152   0.0966\n",
              "715         use   25.001595  172.604279   Topic2  -5.1362  -0.5878\n",
              "716       value   20.919582   94.754318   Topic2  -5.3144  -0.1663\n",
              "\n",
              "[170 rows x 6 columns], token_table=      Topic      Freq        Term\n",
              "term                             \n",
              "1078      1  1.000829      action\n",
              "746       2  1.004618  activation\n",
              "18        1  0.844700   algorithm\n",
              "18        2  0.157486   algorithm\n",
              "21        1  0.804741        also\n",
              "...     ...       ...         ...\n",
              "2312      1  1.000330       vi_vj\n",
              "1069      2  1.004340          wh\n",
              "733       1  0.386283        work\n",
              "733       2  0.618053        work\n",
              "1985      2  1.002831          yk\n",
              "\n",
              "[191 rows x 3 columns], R=30, lambda_step=0.01, plot_opts={'xlab': 'PC1', 'ylab': 'PC2'}, topic_order=[2, 1])"
            ]
          },
          "metadata": {
            "tags": []
          },
          "execution_count": 24
        }
      ]
    }
  ]
}