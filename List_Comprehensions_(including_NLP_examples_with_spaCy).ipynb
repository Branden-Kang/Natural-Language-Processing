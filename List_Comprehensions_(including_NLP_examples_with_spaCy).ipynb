{
  "nbformat": 4,
  "nbformat_minor": 0,
  "metadata": {
    "colab": {
      "name": "List Comprehensions (including NLP examples with spaCy).ipynb",
      "provenance": [],
      "authorship_tag": "ABX9TyPHyPf9f6S3yj7Nc++3Co6+"
    },
    "kernelspec": {
      "name": "python3",
      "display_name": "Python 3"
    },
    "language_info": {
      "name": "python"
    }
  },
  "cells": [
    {
      "cell_type": "markdown",
      "metadata": {
        "id": "giCT3RHzgrbh"
      },
      "source": [
        "[Reference](https://towardsdatascience.com/better-pythoning-2-list-comprehensions-including-nlp-examples-with-spacy-88cd76fc6412)"
      ]
    },
    {
      "cell_type": "code",
      "metadata": {
        "colab": {
          "base_uri": "https://localhost:8080/"
        },
        "id": "fkchZUPegmeD",
        "outputId": "71908b52-21b5-4769-d31f-1606d6cb2837"
      },
      "source": [
        "num = 10\n",
        "for i in range(num):\n",
        "  print(i + 1) # +1 because Python indexes from "
      ],
      "execution_count": 1,
      "outputs": [
        {
          "output_type": "stream",
          "text": [
            "1\n",
            "2\n",
            "3\n",
            "4\n",
            "5\n",
            "6\n",
            "7\n",
            "8\n",
            "9\n",
            "10\n"
          ],
          "name": "stdout"
        }
      ]
    },
    {
      "cell_type": "code",
      "metadata": {
        "colab": {
          "base_uri": "https://localhost:8080/"
        },
        "id": "x62u06i0g3yH",
        "outputId": "bdf186ee-be71-4a99-860a-07d0f37e2d6a"
      },
      "source": [
        "num = 10\n",
        "[print(i+1) for i in range(num)]"
      ],
      "execution_count": 2,
      "outputs": [
        {
          "output_type": "stream",
          "text": [
            "1\n",
            "2\n",
            "3\n",
            "4\n",
            "5\n",
            "6\n",
            "7\n",
            "8\n",
            "9\n",
            "10\n"
          ],
          "name": "stdout"
        },
        {
          "output_type": "execute_result",
          "data": {
            "text/plain": [
              "[None, None, None, None, None, None, None, None, None, None]"
            ]
          },
          "metadata": {
            "tags": []
          },
          "execution_count": 2
        }
      ]
    },
    {
      "cell_type": "code",
      "metadata": {
        "colab": {
          "base_uri": "https://localhost:8080/"
        },
        "id": "cksfQbZ7g5AN",
        "outputId": "c7c83e8a-0fb1-4954-ad6e-b4dcbda46702"
      },
      "source": [
        "numbers = [i + 1 for i in range(num)]\n",
        "numbers"
      ],
      "execution_count": 3,
      "outputs": [
        {
          "output_type": "execute_result",
          "data": {
            "text/plain": [
              "[1, 2, 3, 4, 5, 6, 7, 8, 9, 10]"
            ]
          },
          "metadata": {
            "tags": []
          },
          "execution_count": 3
        }
      ]
    },
    {
      "cell_type": "code",
      "metadata": {
        "id": "stgvXWMng7Kl"
      },
      "source": [
        "# create a list of numbers from 1 to 10\n",
        "\n",
        "# for loop (3 lines)\n",
        "numbers = []\n",
        "for i in range(10):\n",
        "  numbers.append(i + 1)\n",
        "  \n",
        "# list comprehension (1 line)\n",
        "numbers = [i + 1 for i in range(10)]"
      ],
      "execution_count": 4,
      "outputs": []
    },
    {
      "cell_type": "code",
      "metadata": {
        "colab": {
          "base_uri": "https://localhost:8080/"
        },
        "id": "5dOm6vSZg876",
        "outputId": "b2fe4207-a3f0-4f22-8fb0-40de8ec24cd6"
      },
      "source": [
        "# create a set of numbers from 1 to 10\n",
        "{i+1 for i in range(10)}\n",
        "\n",
        "# create a dictionary of numbers from 1 to 10 as keys and their squared counterparts as their values\n",
        "{i+1 : (i+1) ** 2 for i in range(10)}"
      ],
      "execution_count": 5,
      "outputs": [
        {
          "output_type": "execute_result",
          "data": {
            "text/plain": [
              "{1: 1, 2: 4, 3: 9, 4: 16, 5: 25, 6: 36, 7: 49, 8: 64, 9: 81, 10: 100}"
            ]
          },
          "metadata": {
            "tags": []
          },
          "execution_count": 5
        }
      ]
    },
    {
      "cell_type": "code",
      "metadata": {
        "id": "_42cCM69g_LF"
      },
      "source": [
        "# student scores out of 100\n",
        "student_scores = {\n",
        "  'Alive': 25, 'Aida': 95, 'Aaron': 50, 'Bob': 67, 'Charlie': 85, 'Derek': 20, 'Catrin': 0, 'Terrence': 57\n",
        "}\n",
        "\n",
        "# set fail threshold\n",
        "fail_threshold = 50\n",
        "\n",
        "# using for loops and if statements (4 lines)\n",
        "failing_students = []\n",
        "for student, score in student_scores.items():\n",
        "  if score <= fail_threshold:\n",
        "    failing_students.append(student)\n",
        "    \n",
        "# using list comprehension (1 line)\n",
        "failing_students = [student for student, score in student_scores.items() if score <= fail_threshold]"
      ],
      "execution_count": 6,
      "outputs": []
    },
    {
      "cell_type": "code",
      "metadata": {
        "id": "gCudITRChCwY"
      },
      "source": [
        "# student scores out of 100\n",
        "student_scores = {\n",
        "  'Alive': 25, 'Aida': 95, 'Aaron': 50, 'Bob': 67, 'Charlie': 85, 'Derek': 20, 'Catrin': 0, 'Terrence': 57\n",
        "}\n",
        "\n",
        "# set fail threshold\n",
        "fail_threshold = 50\n",
        "\n",
        "# using for loops and if statements (6 lines)\n",
        "has_failed = []\n",
        "for student, score in student_scores.items():\n",
        "  if score <= fail_threshold:\n",
        "    has_failed.append(1)\n",
        "  else:\n",
        "    has_failed.append(0)\n",
        "    \n",
        "# using for loops and ternary operators  (3 lines)\n",
        "has_failed = []\n",
        "for student, score in student_scores.items():\n",
        "    has_failed.append(1 if score <= fail_threshold else 0)\n",
        "    \n",
        "    \n",
        "# using list comprehension (1 line)\n",
        "has_failed = [1 if score <= fail_threshold else 0 for student, score in student_scores.items()]"
      ],
      "execution_count": 7,
      "outputs": []
    },
    {
      "cell_type": "code",
      "metadata": {
        "colab": {
          "base_uri": "https://localhost:8080/",
          "height": 147
        },
        "id": "K47jQ56VhFtQ",
        "outputId": "be72e926-ddc1-48f7-fff9-195994208c4a"
      },
      "source": [
        "list_of_lists = [ [1,2], [3,4], [5,6] ]\n",
        "\n",
        "flattened = [\n",
        "  *list_ for list_ in list_of_lists # i.e. unpack each list_ from the lists in list_of_lists\n",
        "]"
      ],
      "execution_count": 8,
      "outputs": [
        {
          "output_type": "error",
          "ename": "SyntaxError",
          "evalue": "ignored",
          "traceback": [
            "\u001b[0;36m  File \u001b[0;32m\"<ipython-input-8-7d855b5b1fd8>\"\u001b[0;36m, line \u001b[0;32m4\u001b[0m\n\u001b[0;31m    *list_ for list_ in list_of_lists # i.e. unpack each list_ from the lists in list_of_lists\u001b[0m\n\u001b[0m    ^\u001b[0m\n\u001b[0;31mSyntaxError\u001b[0m\u001b[0;31m:\u001b[0m iterable unpacking cannot be used in comprehension\n"
          ]
        }
      ]
    },
    {
      "cell_type": "code",
      "metadata": {
        "id": "QxjQoFf5hH6W"
      },
      "source": [
        "list_of_lists = [ [1,2], [3,4], [5,6] ]\n",
        "flattened = [num for list_ in list_of_lists for num in list_]"
      ],
      "execution_count": 9,
      "outputs": []
    },
    {
      "cell_type": "code",
      "metadata": {
        "colab": {
          "base_uri": "https://localhost:8080/"
        },
        "id": "2oiS1CwOhLRI",
        "outputId": "16c877e7-bc48-4593-df56-6b328984b656"
      },
      "source": [
        "flattened"
      ],
      "execution_count": 10,
      "outputs": [
        {
          "output_type": "execute_result",
          "data": {
            "text/plain": [
              "[1, 2, 3, 4, 5, 6]"
            ]
          },
          "metadata": {
            "tags": []
          },
          "execution_count": 10
        }
      ]
    },
    {
      "cell_type": "code",
      "metadata": {
        "colab": {
          "base_uri": "https://localhost:8080/",
          "height": 477
        },
        "id": "Jd4qFsqEhLug",
        "outputId": "6d92dd0c-9b45-4ed8-f3d3-0c00532c4f91"
      },
      "source": [
        "import spacy\n",
        "\n",
        "nlp = spacy.load('en_web_core_sm')\n",
        "docs = nlp.pipe(text_corpus) # text_corpus is simply a list of lists\n",
        "\n",
        "docs = [clean_data(doc) for doc in docs] # the entire data, cleaned\n",
        "\n",
        "# functions\n",
        "def clean_data(doc):\n",
        "    \"\"\"\n",
        "    Received a spacy doc object and cleans it\n",
        "    \"\"\"\n",
        "    doc = remove_stopwords(doc)\n",
        "    doc = remove_punctuation(doc)\n",
        "    doc = remove_numbers(doc)\n",
        "    doc = remove_nonalphabeticals(doc)\n",
        "    doc = convert_to_str(doc)\n",
        "    \n",
        "    return doc\n",
        "\n",
        "def remove_stopwords(doc):\n",
        "    \"\"\" removes stopwords from a doc \"\"\"\n",
        "    return [token for token in doc if not token.is_stop]\n",
        "\n",
        "def remove_punctuation(doc):\n",
        "    \"\"\" removes punctuation \"\"\"\n",
        "    return [token for token in doc if not token.is_punct]\n",
        "\n",
        "def remove_numbers(doc):\n",
        "    \"\"\" removes 'numbers' \"\"\"\n",
        "    return [token for token in doc if not token.like_num]\n",
        "\n",
        "def remove_nonalphabeticals(doc):\n",
        "    \"\"\" removes non-alphabeticals \"\"\"\n",
        "    return [token for token in doc if token.is_alpha]\n",
        "\n",
        "def remove_entities(doc, ents = ['PERSON', 'ORG', 'GPE']):\n",
        "    return [token for token in doc if token.ent_type_ not in ents]\n",
        "\n",
        "def convert_to_str(doc, lemmatize = True):\n",
        "    \"\"\" convert spacy doc objects to string \"\"\"\n",
        "    return [token.lemma_.lower() if lemmatize else token.text.lower() for token in doc]"
      ],
      "execution_count": 11,
      "outputs": [
        {
          "output_type": "error",
          "ename": "OSError",
          "evalue": "ignored",
          "traceback": [
            "\u001b[0;31m---------------------------------------------------------------------------\u001b[0m",
            "\u001b[0;31mOSError\u001b[0m                                   Traceback (most recent call last)",
            "\u001b[0;32m<ipython-input-11-1db819ea75db>\u001b[0m in \u001b[0;36m<module>\u001b[0;34m()\u001b[0m\n\u001b[1;32m      1\u001b[0m \u001b[0;32mimport\u001b[0m \u001b[0mspacy\u001b[0m\u001b[0;34m\u001b[0m\u001b[0;34m\u001b[0m\u001b[0m\n\u001b[1;32m      2\u001b[0m \u001b[0;34m\u001b[0m\u001b[0m\n\u001b[0;32m----> 3\u001b[0;31m \u001b[0mnlp\u001b[0m \u001b[0;34m=\u001b[0m \u001b[0mspacy\u001b[0m\u001b[0;34m.\u001b[0m\u001b[0mload\u001b[0m\u001b[0;34m(\u001b[0m\u001b[0;34m'en_web_core_sm'\u001b[0m\u001b[0;34m)\u001b[0m\u001b[0;34m\u001b[0m\u001b[0;34m\u001b[0m\u001b[0m\n\u001b[0m\u001b[1;32m      4\u001b[0m \u001b[0mdocs\u001b[0m \u001b[0;34m=\u001b[0m \u001b[0mnlp\u001b[0m\u001b[0;34m.\u001b[0m\u001b[0mpipe\u001b[0m\u001b[0;34m(\u001b[0m\u001b[0mtext_corpus\u001b[0m\u001b[0;34m)\u001b[0m \u001b[0;31m# text_corpus is simply a list of lists\u001b[0m\u001b[0;34m\u001b[0m\u001b[0;34m\u001b[0m\u001b[0m\n\u001b[1;32m      5\u001b[0m \u001b[0;34m\u001b[0m\u001b[0m\n",
            "\u001b[0;32m/usr/local/lib/python3.7/dist-packages/spacy/__init__.py\u001b[0m in \u001b[0;36mload\u001b[0;34m(name, **overrides)\u001b[0m\n\u001b[1;32m     28\u001b[0m     \u001b[0;32mif\u001b[0m \u001b[0mdepr_path\u001b[0m \u001b[0;32mnot\u001b[0m \u001b[0;32min\u001b[0m \u001b[0;34m(\u001b[0m\u001b[0;32mTrue\u001b[0m\u001b[0;34m,\u001b[0m \u001b[0;32mFalse\u001b[0m\u001b[0;34m,\u001b[0m \u001b[0;32mNone\u001b[0m\u001b[0;34m)\u001b[0m\u001b[0;34m:\u001b[0m\u001b[0;34m\u001b[0m\u001b[0;34m\u001b[0m\u001b[0m\n\u001b[1;32m     29\u001b[0m         \u001b[0mdeprecation_warning\u001b[0m\u001b[0;34m(\u001b[0m\u001b[0mWarnings\u001b[0m\u001b[0;34m.\u001b[0m\u001b[0mW001\u001b[0m\u001b[0;34m.\u001b[0m\u001b[0mformat\u001b[0m\u001b[0;34m(\u001b[0m\u001b[0mpath\u001b[0m\u001b[0;34m=\u001b[0m\u001b[0mdepr_path\u001b[0m\u001b[0;34m)\u001b[0m\u001b[0;34m)\u001b[0m\u001b[0;34m\u001b[0m\u001b[0;34m\u001b[0m\u001b[0m\n\u001b[0;32m---> 30\u001b[0;31m     \u001b[0;32mreturn\u001b[0m \u001b[0mutil\u001b[0m\u001b[0;34m.\u001b[0m\u001b[0mload_model\u001b[0m\u001b[0;34m(\u001b[0m\u001b[0mname\u001b[0m\u001b[0;34m,\u001b[0m \u001b[0;34m**\u001b[0m\u001b[0moverrides\u001b[0m\u001b[0;34m)\u001b[0m\u001b[0;34m\u001b[0m\u001b[0;34m\u001b[0m\u001b[0m\n\u001b[0m\u001b[1;32m     31\u001b[0m \u001b[0;34m\u001b[0m\u001b[0m\n\u001b[1;32m     32\u001b[0m \u001b[0;34m\u001b[0m\u001b[0m\n",
            "\u001b[0;32m/usr/local/lib/python3.7/dist-packages/spacy/util.py\u001b[0m in \u001b[0;36mload_model\u001b[0;34m(name, **overrides)\u001b[0m\n\u001b[1;32m    167\u001b[0m     \u001b[0;32melif\u001b[0m \u001b[0mhasattr\u001b[0m\u001b[0;34m(\u001b[0m\u001b[0mname\u001b[0m\u001b[0;34m,\u001b[0m \u001b[0;34m\"exists\"\u001b[0m\u001b[0;34m)\u001b[0m\u001b[0;34m:\u001b[0m  \u001b[0;31m# Path or Path-like to model data\u001b[0m\u001b[0;34m\u001b[0m\u001b[0;34m\u001b[0m\u001b[0m\n\u001b[1;32m    168\u001b[0m         \u001b[0;32mreturn\u001b[0m \u001b[0mload_model_from_path\u001b[0m\u001b[0;34m(\u001b[0m\u001b[0mname\u001b[0m\u001b[0;34m,\u001b[0m \u001b[0;34m**\u001b[0m\u001b[0moverrides\u001b[0m\u001b[0;34m)\u001b[0m\u001b[0;34m\u001b[0m\u001b[0;34m\u001b[0m\u001b[0m\n\u001b[0;32m--> 169\u001b[0;31m     \u001b[0;32mraise\u001b[0m \u001b[0mIOError\u001b[0m\u001b[0;34m(\u001b[0m\u001b[0mErrors\u001b[0m\u001b[0;34m.\u001b[0m\u001b[0mE050\u001b[0m\u001b[0;34m.\u001b[0m\u001b[0mformat\u001b[0m\u001b[0;34m(\u001b[0m\u001b[0mname\u001b[0m\u001b[0;34m=\u001b[0m\u001b[0mname\u001b[0m\u001b[0;34m)\u001b[0m\u001b[0;34m)\u001b[0m\u001b[0;34m\u001b[0m\u001b[0;34m\u001b[0m\u001b[0m\n\u001b[0m\u001b[1;32m    170\u001b[0m \u001b[0;34m\u001b[0m\u001b[0m\n\u001b[1;32m    171\u001b[0m \u001b[0;34m\u001b[0m\u001b[0m\n",
            "\u001b[0;31mOSError\u001b[0m: [E050] Can't find model 'en_web_core_sm'. It doesn't seem to be a shortcut link, a Python package or a valid path to a data directory."
          ]
        }
      ]
    }
  ]
}