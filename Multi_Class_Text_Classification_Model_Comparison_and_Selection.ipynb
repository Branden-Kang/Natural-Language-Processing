{
  "nbformat": 4,
  "nbformat_minor": 0,
  "metadata": {
    "colab": {
      "name": "Multi-Class Text Classification Model Comparison and Selection.ipynb",
      "provenance": [],
      "authorship_tag": "ABX9TyOZpHvz9kNcgsSPQSuetOAK"
    },
    "kernelspec": {
      "name": "python3",
      "display_name": "Python 3"
    }
  },
  "cells": [
    {
      "cell_type": "markdown",
      "metadata": {
        "id": "U87J3zQvJB6q",
        "colab_type": "text"
      },
      "source": [
        "[Reference](https://towardsdatascience.com/multi-class-text-classification-model-comparison-and-selection-5eb066197568)"
      ]
    },
    {
      "cell_type": "code",
      "metadata": {
        "id": "rV05TbjTFOhq",
        "colab_type": "code",
        "colab": {}
      },
      "source": [
        "import logging\n",
        "import pandas as pd\n",
        "import numpy as np\n",
        "from numpy import random\n",
        "import gensim\n",
        "import nltk\n",
        "from sklearn.model_selection import train_test_split\n",
        "from sklearn.feature_extraction.text import CountVectorizer, TfidfVectorizer\n",
        "from sklearn.metrics import accuracy_score, confusion_matrix\n",
        "import matplotlib.pyplot as plt\n",
        "from nltk.corpus import stopwords\n",
        "import re\n",
        "from bs4 import BeautifulSoup\n",
        "\n",
        "%matplotlib inline"
      ],
      "execution_count": 1,
      "outputs": []
    },
    {
      "cell_type": "code",
      "metadata": {
        "id": "KJZfNz1cHLN8",
        "colab_type": "code",
        "colab": {
          "base_uri": "https://localhost:8080/",
          "height": 156
        },
        "outputId": "1392e65e-4c71-49ab-833a-7c90efee6066"
      },
      "source": [
        "import os\n",
        "from google.colab import drive\n",
        "drive.mount('/content/gdrive',force_remount=True)\n",
        "!pwd\n",
        "os.chdir('gdrive/My Drive/Colab Notebooks/')\n",
        "!pwd"
      ],
      "execution_count": 3,
      "outputs": [
        {
          "output_type": "stream",
          "text": [
            "Go to this URL in a browser: https://accounts.google.com/o/oauth2/auth?client_id=947318989803-6bn6qk8qdgf4n4g3pfee6491hc0brc4i.apps.googleusercontent.com&redirect_uri=urn%3aietf%3awg%3aoauth%3a2.0%3aoob&response_type=code&scope=email%20https%3a%2f%2fwww.googleapis.com%2fauth%2fdocs.test%20https%3a%2f%2fwww.googleapis.com%2fauth%2fdrive%20https%3a%2f%2fwww.googleapis.com%2fauth%2fdrive.photos.readonly%20https%3a%2f%2fwww.googleapis.com%2fauth%2fpeopleapi.readonly\n",
            "\n",
            "Enter your authorization code:\n",
            "··········\n",
            "Mounted at /content/gdrive\n",
            "/content\n",
            "/content/gdrive/My Drive/Colab Notebooks\n"
          ],
          "name": "stdout"
        }
      ]
    },
    {
      "cell_type": "code",
      "metadata": {
        "id": "ZL9xMMUyELvz",
        "colab_type": "code",
        "colab": {
          "base_uri": "https://localhost:8080/",
          "height": 359
        },
        "outputId": "f7e172ed-1004-43d3-ba0b-5cd953d0bf1a"
      },
      "source": [
        "df = pd.read_csv('stack-overflow-data.csv')\n",
        "df = df[pd.notnull(df['tags'])]\n",
        "df.head(10)"
      ],
      "execution_count": 4,
      "outputs": [
        {
          "output_type": "execute_result",
          "data": {
            "text/html": [
              "<div>\n",
              "<style scoped>\n",
              "    .dataframe tbody tr th:only-of-type {\n",
              "        vertical-align: middle;\n",
              "    }\n",
              "\n",
              "    .dataframe tbody tr th {\n",
              "        vertical-align: top;\n",
              "    }\n",
              "\n",
              "    .dataframe thead th {\n",
              "        text-align: right;\n",
              "    }\n",
              "</style>\n",
              "<table border=\"1\" class=\"dataframe\">\n",
              "  <thead>\n",
              "    <tr style=\"text-align: right;\">\n",
              "      <th></th>\n",
              "      <th>post</th>\n",
              "      <th>tags</th>\n",
              "    </tr>\n",
              "  </thead>\n",
              "  <tbody>\n",
              "    <tr>\n",
              "      <th>0</th>\n",
              "      <td>what s the reason of duplicate unique index in...</td>\n",
              "      <td>mysql</td>\n",
              "    </tr>\n",
              "    <tr>\n",
              "      <th>1</th>\n",
              "      <td>.net 4.0 action&lt;in t&gt; not works for me  here i...</td>\n",
              "      <td>.net</td>\n",
              "    </tr>\n",
              "    <tr>\n",
              "      <th>2</th>\n",
              "      <td>assigning text box values to a string array in...</td>\n",
              "      <td>javascript</td>\n",
              "    </tr>\n",
              "    <tr>\n",
              "      <th>3</th>\n",
              "      <td>how to get userid which is uniqueidentifier  i...</td>\n",
              "      <td>asp.net</td>\n",
              "    </tr>\n",
              "    <tr>\n",
              "      <th>4</th>\n",
              "      <td>have multiple filters for same ng-model  i hav...</td>\n",
              "      <td>angularjs</td>\n",
              "    </tr>\n",
              "    <tr>\n",
              "      <th>5</th>\n",
              "      <td>difference between *argv++ and *argv-- when re...</td>\n",
              "      <td>c</td>\n",
              "    </tr>\n",
              "    <tr>\n",
              "      <th>6</th>\n",
              "      <td>sql zeros and null  i am new to sql and am rea...</td>\n",
              "      <td>sql</td>\n",
              "    </tr>\n",
              "    <tr>\n",
              "      <th>7</th>\n",
              "      <td>.net 4.0 and earlier versions  .net 3.5 was di...</td>\n",
              "      <td>.net</td>\n",
              "    </tr>\n",
              "    <tr>\n",
              "      <th>8</th>\n",
              "      <td>homework help - javascript coin jar  our teach...</td>\n",
              "      <td>javascript</td>\n",
              "    </tr>\n",
              "    <tr>\n",
              "      <th>9</th>\n",
              "      <td>nsdata is not writing to file properly  i have...</td>\n",
              "      <td>objective-c</td>\n",
              "    </tr>\n",
              "  </tbody>\n",
              "</table>\n",
              "</div>"
            ],
            "text/plain": [
              "                                                post         tags\n",
              "0  what s the reason of duplicate unique index in...        mysql\n",
              "1  .net 4.0 action<in t> not works for me  here i...         .net\n",
              "2  assigning text box values to a string array in...   javascript\n",
              "3  how to get userid which is uniqueidentifier  i...      asp.net\n",
              "4  have multiple filters for same ng-model  i hav...    angularjs\n",
              "5  difference between *argv++ and *argv-- when re...            c\n",
              "6  sql zeros and null  i am new to sql and am rea...          sql\n",
              "7  .net 4.0 and earlier versions  .net 3.5 was di...         .net\n",
              "8  homework help - javascript coin jar  our teach...   javascript\n",
              "9  nsdata is not writing to file properly  i have...  objective-c"
            ]
          },
          "metadata": {
            "tags": []
          },
          "execution_count": 4
        }
      ]
    },
    {
      "cell_type": "code",
      "metadata": {
        "id": "a2ICx6HOFTVN",
        "colab_type": "code",
        "colab": {
          "base_uri": "https://localhost:8080/",
          "height": 34
        },
        "outputId": "c88bbed7-381a-4bfc-c0d2-27b511ad83cd"
      },
      "source": [
        "df['post'].apply(lambda x: len(x.split(' '))).sum()"
      ],
      "execution_count": 5,
      "outputs": [
        {
          "output_type": "execute_result",
          "data": {
            "text/plain": [
              "2425750"
            ]
          },
          "metadata": {
            "tags": []
          },
          "execution_count": 5
        }
      ]
    },
    {
      "cell_type": "code",
      "metadata": {
        "id": "PjjwV228HW_M",
        "colab_type": "code",
        "colab": {
          "base_uri": "https://localhost:8080/",
          "height": 319
        },
        "outputId": "eaf7e69b-18f5-4b7f-b31e-71e56db29ebb"
      },
      "source": [
        "my_tags = ['java','html','asp.net','c#','ruby-on-rails','jquery','mysql','php','ios','javascript','python','c','css','android','iphone','sql','objective-c','c++','angularjs','.net']\n",
        "plt.figure(figsize=(10,4))\n",
        "df.tags.value_counts().plot(kind='bar');"
      ],
      "execution_count": 6,
      "outputs": [
        {
          "output_type": "display_data",
          "data": {
            "image/png": "[encoded data removed]",
            "text/plain": [
              "<Figure size 720x288 with 1 Axes>"
            ]
          },
          "metadata": {
            "tags": [],
            "needs_background": "light"
          }
        }
      ]
    },
    {
      "cell_type": "code",
      "metadata": {
        "id": "t4HJ3pMlHZc7",
        "colab_type": "code",
        "colab": {}
      },
      "source": [
        "def print_plot(index):\n",
        "    example = df[df.index == index][['post', 'tags']].values[0]\n",
        "    if len(example) > 0:\n",
        "        print(example[0])\n",
        "        print('Tag:', example[1])"
      ],
      "execution_count": 7,
      "outputs": []
    },
    {
      "cell_type": "code",
      "metadata": {
        "id": "JUHh2B23Hat8",
        "colab_type": "code",
        "colab": {
          "base_uri": "https://localhost:8080/",
          "height": 71
        },
        "outputId": "248bbce7-b853-41c2-f328-36c336b419bc"
      },
      "source": [
        "print_plot(10)"
      ],
      "execution_count": 8,
      "outputs": [
        {
          "output_type": "stream",
          "text": [
            "do you need to specify to use the latest framework version   have a project compiled to use (targetframeworkversion) framework version 3.0 however it looks like there are some bug fixes in the latest v4.0 framework and hf.  as we want the app to be available even if it is leaking a bit on the earlier frameworks  we don t want to just set the target to 4.0.    when you browse the project you can see it has a runtime version but the  specific version  is flagged false.    when we run the app  can we tell what framework parts it is actually using. will it default to 3.0 or will it use the latest assemblies. if it defaults to 3.0 is there some way of setting some policy of some sort to use the new assembly if available.    will compiling against/targeting the 4.0 framework yield any different results on top of using it at runtime\n",
            "Tag: .net\n"
          ],
          "name": "stdout"
        }
      ]
    },
    {
      "cell_type": "code",
      "metadata": {
        "id": "AuydbNgFHbvM",
        "colab_type": "code",
        "colab": {
          "base_uri": "https://localhost:8080/",
          "height": 51
        },
        "outputId": "9f3244d1-0816-4cea-82c3-4e42f0827e02"
      },
      "source": [
        "nltk.download('stopwords')\n",
        "REPLACE_BY_SPACE_RE = re.compile('[/(){}\\[\\]\\|@,;]')\n",
        "BAD_SYMBOLS_RE = re.compile('[^0-9a-z #+_]')\n",
        "STOPWORDS = set(stopwords.words('english'))\n",
        "\n",
        "def clean_text(text):\n",
        "    \"\"\"\n",
        "        text: a string\n",
        "        \n",
        "        return: modified initial string\n",
        "    \"\"\"\n",
        "    text = BeautifulSoup(text, \"lxml\").text # HTML decoding\n",
        "    text = text.lower() # lowercase text\n",
        "    text = REPLACE_BY_SPACE_RE.sub(' ', text) # replace REPLACE_BY_SPACE_RE symbols by space in text\n",
        "    text = BAD_SYMBOLS_RE.sub('', text) # delete symbols which are in BAD_SYMBOLS_RE from text\n",
        "    text = ' '.join(word for word in text.split() if word not in STOPWORDS) # delete stopwors from text\n",
        "    return text"
      ],
      "execution_count": 10,
      "outputs": [
        {
          "output_type": "stream",
          "text": [
            "[nltk_data] Downloading package stopwords to /root/nltk_data...\n",
            "[nltk_data]   Unzipping corpora/stopwords.zip.\n"
          ],
          "name": "stdout"
        }
      ]
    },
    {
      "cell_type": "code",
      "metadata": {
        "id": "TjqATE3kHeFl",
        "colab_type": "code",
        "colab": {}
      },
      "source": [
        "df['post'] = df['post'].apply(clean_text)"
      ],
      "execution_count": 11,
      "outputs": []
    },
    {
      "cell_type": "code",
      "metadata": {
        "id": "EbtVp9fJHllw",
        "colab_type": "code",
        "colab": {
          "base_uri": "https://localhost:8080/",
          "height": 71
        },
        "outputId": "7d8f0593-9660-44b0-b5c9-d5677ccb63ab"
      },
      "source": [
        "print_plot(10)"
      ],
      "execution_count": 12,
      "outputs": [
        {
          "output_type": "stream",
          "text": [
            "need specify use latest framework version project compiled use targetframeworkversion framework version 30 however looks like bug fixes latest v40 framework hf want app available even leaking bit earlier frameworks want set target 40 browse project see runtime version specific version flagged false run app tell framework parts actually using default 30 use latest assemblies defaults 30 way setting policy sort use new assembly available compiling targeting 40 framework yield different results top using runtime\n",
            "Tag: .net\n"
          ],
          "name": "stdout"
        }
      ]
    },
    {
      "cell_type": "code",
      "metadata": {
        "id": "GidJg5cIHqd2",
        "colab_type": "code",
        "colab": {
          "base_uri": "https://localhost:8080/",
          "height": 34
        },
        "outputId": "d89b7dd5-4121-47a9-af19-68fecc65010c"
      },
      "source": [
        "df['post'].apply(lambda x: len(x.split(' '))).sum()"
      ],
      "execution_count": 13,
      "outputs": [
        {
          "output_type": "execute_result",
          "data": {
            "text/plain": [
              "802196"
            ]
          },
          "metadata": {
            "tags": []
          },
          "execution_count": 13
        }
      ]
    },
    {
      "cell_type": "code",
      "metadata": {
        "id": "Wpv6PwD5HtF9",
        "colab_type": "code",
        "colab": {}
      },
      "source": [
        "X = df.post\n",
        "y = df.tags\n",
        "X_train, X_test, y_train, y_test = train_test_split(X, y, test_size=0.3, random_state = 42)\n"
      ],
      "execution_count": 14,
      "outputs": []
    },
    {
      "cell_type": "markdown",
      "metadata": {
        "id": "bESudOusHvwM",
        "colab_type": "text"
      },
      "source": [
        "# Naive Bayes classifier for multinomial models"
      ]
    },
    {
      "cell_type": "code",
      "metadata": {
        "id": "mCKdsw9GHuaf",
        "colab_type": "code",
        "colab": {
          "base_uri": "https://localhost:8080/",
          "height": 306
        },
        "outputId": "3cde1f16-a6d2-460a-9e10-dd5f664e3b9c"
      },
      "source": [
        "from sklearn.naive_bayes import MultinomialNB\n",
        "from sklearn.pipeline import Pipeline\n",
        "from sklearn.feature_extraction.text import TfidfTransformer\n",
        "\n",
        "nb = Pipeline([('vect', CountVectorizer()),\n",
        "               ('tfidf', TfidfTransformer()),\n",
        "               ('clf', MultinomialNB()),\n",
        "              ])\n",
        "nb.fit(X_train, y_train)"
      ],
      "execution_count": 15,
      "outputs": [
        {
          "output_type": "execute_result",
          "data": {
            "text/plain": [
              "Pipeline(memory=None,\n",
              "         steps=[('vect',\n",
              "                 CountVectorizer(analyzer='word', binary=False,\n",
              "                                 decode_error='strict',\n",
              "                                 dtype=<class 'numpy.int64'>, encoding='utf-8',\n",
              "                                 input='content', lowercase=True, max_df=1.0,\n",
              "                                 max_features=None, min_df=1,\n",
              "                                 ngram_range=(1, 1), preprocessor=None,\n",
              "                                 stop_words=None, strip_accents=None,\n",
              "                                 token_pattern='(?u)\\\\b\\\\w\\\\w+\\\\b',\n",
              "                                 tokenizer=None, vocabulary=None)),\n",
              "                ('tfidf',\n",
              "                 TfidfTransformer(norm='l2', smooth_idf=True,\n",
              "                                  sublinear_tf=False, use_idf=True)),\n",
              "                ('clf',\n",
              "                 MultinomialNB(alpha=1.0, class_prior=None, fit_prior=True))],\n",
              "         verbose=False)"
            ]
          },
          "metadata": {
            "tags": []
          },
          "execution_count": 15
        }
      ]
    },
    {
      "cell_type": "code",
      "metadata": {
        "id": "xCekcVqxHxPI",
        "colab_type": "code",
        "colab": {
          "base_uri": "https://localhost:8080/",
          "height": 527
        },
        "outputId": "77bda4d8-6294-4b4b-d80a-a4b2305df2a5"
      },
      "source": [
        "%%time\n",
        "from sklearn.metrics import classification_report\n",
        "y_pred = nb.predict(X_test)\n",
        "\n",
        "print('accuracy %s' % accuracy_score(y_pred, y_test))\n",
        "print(classification_report(y_test, y_pred,target_names=my_tags))"
      ],
      "execution_count": 16,
      "outputs": [
        {
          "output_type": "stream",
          "text": [
            "accuracy 0.6866495034939316\n",
            "               precision    recall  f1-score   support\n",
            "\n",
            "         java       0.48      0.71      0.57       139\n",
            "         html       0.92      0.76      0.84       127\n",
            "      asp.net       0.96      0.87      0.91       144\n",
            "           c#       0.85      0.60      0.71       131\n",
            "ruby-on-rails       0.50      0.90      0.64       124\n",
            "       jquery       0.58      0.48      0.53       128\n",
            "        mysql       0.94      0.59      0.73       142\n",
            "          php       0.74      0.83      0.79       139\n",
            "          ios       0.51      0.75      0.60       130\n",
            "   javascript       0.64      0.64      0.64       137\n",
            "       python       0.64      0.57      0.60       136\n",
            "            c       0.76      0.71      0.74       118\n",
            "          css       0.71      0.60      0.65       137\n",
            "      android       0.74      0.84      0.79       147\n",
            "       iphone       0.46      0.88      0.61       138\n",
            "          sql       0.86      0.50      0.64       139\n",
            "  objective-c       0.82      0.68      0.74       148\n",
            "          c++       0.95      0.66      0.78       144\n",
            "    angularjs       0.79      0.92      0.85       122\n",
            "         .net       0.72      0.28      0.40       149\n",
            "\n",
            "     accuracy                           0.69      2719\n",
            "    macro avg       0.73      0.69      0.69      2719\n",
            " weighted avg       0.73      0.69      0.69      2719\n",
            "\n",
            "CPU times: user 260 ms, sys: 2.07 ms, total: 263 ms\n",
            "Wall time: 266 ms\n"
          ],
          "name": "stdout"
        }
      ]
    },
    {
      "cell_type": "markdown",
      "metadata": {
        "id": "5k93BjQLH1JM",
        "colab_type": "text"
      },
      "source": [
        "# Linear support vector machine"
      ]
    },
    {
      "cell_type": "code",
      "metadata": {
        "id": "no77omcqHzTh",
        "colab_type": "code",
        "colab": {
          "base_uri": "https://localhost:8080/",
          "height": 374
        },
        "outputId": "0a04b2b6-6c1b-4f6c-813e-b673365ff9ff"
      },
      "source": [
        "from sklearn.linear_model import SGDClassifier\n",
        "\n",
        "sgd = Pipeline([('vect', CountVectorizer()),\n",
        "                ('tfidf', TfidfTransformer()),\n",
        "                ('clf', SGDClassifier(loss='hinge', penalty='l2',alpha=1e-3, random_state=42, max_iter=5, tol=None)),\n",
        "               ])\n",
        "sgd.fit(X_train, y_train)"
      ],
      "execution_count": 17,
      "outputs": [
        {
          "output_type": "execute_result",
          "data": {
            "text/plain": [
              "Pipeline(memory=None,\n",
              "         steps=[('vect',\n",
              "                 CountVectorizer(analyzer='word', binary=False,\n",
              "                                 decode_error='strict',\n",
              "                                 dtype=<class 'numpy.int64'>, encoding='utf-8',\n",
              "                                 input='content', lowercase=True, max_df=1.0,\n",
              "                                 max_features=None, min_df=1,\n",
              "                                 ngram_range=(1, 1), preprocessor=None,\n",
              "                                 stop_words=None, strip_accents=None,\n",
              "                                 token_pattern='(?u)\\\\b\\\\w\\\\w+\\\\b',\n",
              "                                 tokenizer=None, vocabulary=Non...\n",
              "                ('clf',\n",
              "                 SGDClassifier(alpha=0.001, average=False, class_weight=None,\n",
              "                               early_stopping=False, epsilon=0.1, eta0=0.0,\n",
              "                               fit_intercept=True, l1_ratio=0.15,\n",
              "                               learning_rate='optimal', loss='hinge',\n",
              "                               max_iter=5, n_iter_no_change=5, n_jobs=None,\n",
              "                               penalty='l2', power_t=0.5, random_state=42,\n",
              "                               shuffle=True, tol=None, validation_fraction=0.1,\n",
              "                               verbose=0, warm_start=False))],\n",
              "         verbose=False)"
            ]
          },
          "metadata": {
            "tags": []
          },
          "execution_count": 17
        }
      ]
    },
    {
      "cell_type": "code",
      "metadata": {
        "id": "kGm1mn5OH2R7",
        "colab_type": "code",
        "colab": {
          "base_uri": "https://localhost:8080/",
          "height": 527
        },
        "outputId": "b7be55df-d8c0-4057-8b60-83dde1b88307"
      },
      "source": [
        "%%time\n",
        "\n",
        "y_pred = sgd.predict(X_test)\n",
        "\n",
        "print('accuracy %s' % accuracy_score(y_pred, y_test))\n",
        "print(classification_report(y_test, y_pred,target_names=my_tags))"
      ],
      "execution_count": 18,
      "outputs": [
        {
          "output_type": "stream",
          "text": [
            "accuracy 0.7587348289812431\n",
            "               precision    recall  f1-score   support\n",
            "\n",
            "         java       0.74      0.69      0.72       139\n",
            "         html       0.78      0.88      0.83       127\n",
            "      asp.net       0.91      0.96      0.94       144\n",
            "           c#       0.75      0.74      0.74       131\n",
            "ruby-on-rails       0.68      0.85      0.76       124\n",
            "       jquery       0.73      0.45      0.55       128\n",
            "        mysql       0.78      0.64      0.71       142\n",
            "          php       0.69      0.95      0.80       139\n",
            "          ios       0.79      0.57      0.66       130\n",
            "   javascript       0.70      0.61      0.65       137\n",
            "       python       0.68      0.65      0.66       136\n",
            "            c       0.73      0.75      0.74       118\n",
            "          css       0.78      0.76      0.77       137\n",
            "      android       0.83      0.78      0.80       147\n",
            "       iphone       0.65      0.76      0.70       138\n",
            "          sql       0.73      0.63      0.68       139\n",
            "  objective-c       0.78      0.89      0.83       148\n",
            "          c++       0.84      0.90      0.87       144\n",
            "    angularjs       0.83      0.97      0.89       122\n",
            "         .net       0.77      0.74      0.76       149\n",
            "\n",
            "     accuracy                           0.76      2719\n",
            "    macro avg       0.76      0.76      0.75      2719\n",
            " weighted avg       0.76      0.76      0.75      2719\n",
            "\n",
            "CPU times: user 280 ms, sys: 7.49 ms, total: 287 ms\n",
            "Wall time: 291 ms\n"
          ],
          "name": "stdout"
        }
      ]
    },
    {
      "cell_type": "markdown",
      "metadata": {
        "id": "oUKe_vDOH4rf",
        "colab_type": "text"
      },
      "source": [
        "# Logistic regression"
      ]
    },
    {
      "cell_type": "code",
      "metadata": {
        "id": "zxOPgB20H3kO",
        "colab_type": "code",
        "colab": {
          "base_uri": "https://localhost:8080/",
          "height": 527
        },
        "outputId": "ba1b9412-8965-496d-e877-8c5b30f5ce32"
      },
      "source": [
        "from sklearn.linear_model import LogisticRegression\n",
        "\n",
        "logreg = Pipeline([('vect', CountVectorizer()),\n",
        "                ('tfidf', TfidfTransformer()),\n",
        "                ('clf', LogisticRegression(n_jobs=1, C=1e5)),\n",
        "               ])\n",
        "logreg.fit(X_train, y_train)"
      ],
      "execution_count": 19,
      "outputs": [
        {
          "output_type": "stream",
          "text": [
            "/usr/local/lib/python3.6/dist-packages/sklearn/linear_model/_logistic.py:940: ConvergenceWarning: lbfgs failed to converge (status=1):\n",
            "STOP: TOTAL NO. of ITERATIONS REACHED LIMIT.\n",
            "\n",
            "Increase the number of iterations (max_iter) or scale the data as shown in:\n",
            "    https://scikit-learn.org/stable/modules/preprocessing.html\n",
            "Please also refer to the documentation for alternative solver options:\n",
            "    https://scikit-learn.org/stable/modules/linear_model.html#logistic-regression\n",
            "  extra_warning_msg=_LOGISTIC_SOLVER_CONVERGENCE_MSG)\n"
          ],
          "name": "stderr"
        },
        {
          "output_type": "execute_result",
          "data": {
            "text/plain": [
              "Pipeline(memory=None,\n",
              "         steps=[('vect',\n",
              "                 CountVectorizer(analyzer='word', binary=False,\n",
              "                                 decode_error='strict',\n",
              "                                 dtype=<class 'numpy.int64'>, encoding='utf-8',\n",
              "                                 input='content', lowercase=True, max_df=1.0,\n",
              "                                 max_features=None, min_df=1,\n",
              "                                 ngram_range=(1, 1), preprocessor=None,\n",
              "                                 stop_words=None, strip_accents=None,\n",
              "                                 token_pattern='(?u)\\\\b\\\\w\\\\w+\\\\b',\n",
              "                                 tokenizer=None, vocabulary=None)),\n",
              "                ('tfidf',\n",
              "                 TfidfTransformer(norm='l2', smooth_idf=True,\n",
              "                                  sublinear_tf=False, use_idf=True)),\n",
              "                ('clf',\n",
              "                 LogisticRegression(C=100000.0, class_weight=None, dual=False,\n",
              "                                    fit_intercept=True, intercept_scaling=1,\n",
              "                                    l1_ratio=None, max_iter=100,\n",
              "                                    multi_class='auto', n_jobs=1, penalty='l2',\n",
              "                                    random_state=None, solver='lbfgs',\n",
              "                                    tol=0.0001, verbose=0, warm_start=False))],\n",
              "         verbose=False)"
            ]
          },
          "metadata": {
            "tags": []
          },
          "execution_count": 19
        }
      ]
    },
    {
      "cell_type": "code",
      "metadata": {
        "id": "t2ZGEL7kH563",
        "colab_type": "code",
        "colab": {
          "base_uri": "https://localhost:8080/",
          "height": 527
        },
        "outputId": "83ecebe9-9ac1-4c8f-b9ca-e0d497f56303"
      },
      "source": [
        "%%time\n",
        "\n",
        "y_pred = logreg.predict(X_test)\n",
        "\n",
        "print('accuracy %s' % accuracy_score(y_pred, y_test))\n",
        "print(classification_report(y_test, y_pred,target_names=my_tags))"
      ],
      "execution_count": 20,
      "outputs": [
        {
          "output_type": "stream",
          "text": [
            "accuracy 0.7557925707980875\n",
            "               precision    recall  f1-score   support\n",
            "\n",
            "         java       0.66      0.65      0.65       139\n",
            "         html       0.84      0.85      0.84       127\n",
            "      asp.net       0.96      0.90      0.93       144\n",
            "           c#       0.77      0.74      0.75       131\n",
            "ruby-on-rails       0.73      0.82      0.78       124\n",
            "       jquery       0.51      0.56      0.54       128\n",
            "        mysql       0.78      0.73      0.75       142\n",
            "          php       0.82      0.84      0.83       139\n",
            "          ios       0.63      0.70      0.66       130\n",
            "   javascript       0.62      0.62      0.62       137\n",
            "       python       0.64      0.64      0.64       136\n",
            "            c       0.76      0.76      0.76       118\n",
            "          css       0.72      0.76      0.74       137\n",
            "      android       0.82      0.80      0.81       147\n",
            "       iphone       0.74      0.76      0.75       138\n",
            "          sql       0.80      0.65      0.72       139\n",
            "  objective-c       0.82      0.80      0.81       148\n",
            "          c++       0.86      0.86      0.86       144\n",
            "    angularjs       0.91      0.89      0.90       122\n",
            "         .net       0.76      0.77      0.76       149\n",
            "\n",
            "     accuracy                           0.76      2719\n",
            "    macro avg       0.76      0.76      0.76      2719\n",
            " weighted avg       0.76      0.76      0.76      2719\n",
            "\n",
            "CPU times: user 309 ms, sys: 0 ns, total: 309 ms\n",
            "Wall time: 309 ms\n"
          ],
          "name": "stdout"
        }
      ]
    },
    {
      "cell_type": "markdown",
      "metadata": {
        "id": "1vpgBoQbH8Z8",
        "colab_type": "text"
      },
      "source": [
        "# Word2vec embedding and Logistic Regression"
      ]
    },
    {
      "cell_type": "code",
      "metadata": {
        "id": "LosNm08TH6-v",
        "colab_type": "code",
        "colab": {
          "base_uri": "https://localhost:8080/",
          "height": 105
        },
        "outputId": "4fcc8d4e-3da6-4465-badf-f268d3e034ff"
      },
      "source": [
        "%%time\n",
        "from gensim.models import Word2Vec\n",
        "\n",
        "wv = gensim.models.KeyedVectors.load_word2vec_format(\"GoogleNews-vectors-negative300.bin\", binary=True)\n",
        "wv.init_sims(replace=True)"
      ],
      "execution_count": 25,
      "outputs": [
        {
          "output_type": "stream",
          "text": [
            "/usr/local/lib/python3.6/dist-packages/smart_open/smart_open_lib.py:254: UserWarning: This function is deprecated, use smart_open.open instead. See the migration notes for details: https://github.com/RaRe-Technologies/smart_open/blob/master/README.rst#migrating-to-the-new-open-function\n",
            "  'See the migration notes for details: %s' % _MIGRATION_NOTES_URL\n"
          ],
          "name": "stderr"
        },
        {
          "output_type": "stream",
          "text": [
            "CPU times: user 1min 18s, sys: 8.47 s, total: 1min 26s\n",
            "Wall time: 3min 5s\n"
          ],
          "name": "stdout"
        }
      ]
    },
    {
      "cell_type": "code",
      "metadata": {
        "id": "VcALe8A5H-XT",
        "colab_type": "code",
        "colab": {
          "base_uri": "https://localhost:8080/"
        },
        "outputId": "e3be1be6-82a6-40b1-dea3-3a54abcbcb4f"
      },
      "source": [
        "from itertools import islice\n",
        "list(islice(wv.vocab, 13030, 13050))"
      ],
      "execution_count": 26,
      "outputs": [
        {
          "output_type": "execute_result",
          "data": {
            "text/plain": [
              "['Memorial_Hospital',\n",
              " 'Seniors',\n",
              " 'memorandum',\n",
              " 'elephant',\n",
              " 'Trump',\n",
              " 'Census',\n",
              " 'pilgrims',\n",
              " 'De',\n",
              " 'Dogs',\n",
              " '###-####_ext',\n",
              " 'chaotic',\n",
              " 'forgive',\n",
              " 'scholar',\n",
              " 'Lottery',\n",
              " 'decreasing',\n",
              " 'Supervisor',\n",
              " 'fundamentally',\n",
              " 'Fitness',\n",
              " 'abundance',\n",
              " 'Hold']"
            ]
          },
          "metadata": {
            "tags": []
          },
          "execution_count": 26
        }
      ]
    },
    {
      "cell_type": "code",
      "metadata": {
        "id": "ev1gfX0KIBAO",
        "colab_type": "code",
        "colab": {}
      },
      "source": [
        "def word_averaging(wv, words):\n",
        "    all_words, mean = set(), []\n",
        "    \n",
        "    for word in words:\n",
        "        if isinstance(word, np.ndarray):\n",
        "            mean.append(word)\n",
        "        elif word in wv.vocab:\n",
        "            mean.append(wv.syn0norm[wv.vocab[word].index])\n",
        "            all_words.add(wv.vocab[word].index)\n",
        "\n",
        "    if not mean:\n",
        "        logging.warning(\"cannot compute similarity with no input %s\", words)\n",
        "        # FIXME: remove these examples in pre-processing\n",
        "        return np.zeros(wv.vector_size,)\n",
        "\n",
        "    mean = gensim.matutils.unitvec(np.array(mean).mean(axis=0)).astype(np.float32)\n",
        "    return mean\n",
        "\n",
        "def  word_averaging_list(wv, text_list):\n",
        "    return np.vstack([word_averaging(wv, post) for post in text_list ])"
      ],
      "execution_count": 27,
      "outputs": []
    },
    {
      "cell_type": "code",
      "metadata": {
        "id": "2eWcUBZ6IRtV",
        "colab_type": "code",
        "colab": {
          "base_uri": "https://localhost:8080/",
          "height": 51
        },
        "outputId": "dc28e8a8-bba8-4add-c43c-81aa3d47b58d"
      },
      "source": [
        "nltk.download('punkt')\n",
        "def w2v_tokenize_text(text):\n",
        "    tokens = []\n",
        "    for sent in nltk.sent_tokenize(text, language='english'):\n",
        "        for word in nltk.word_tokenize(sent, language='english'):\n",
        "            if len(word) < 2:\n",
        "                continue\n",
        "            tokens.append(word)\n",
        "    return tokens"
      ],
      "execution_count": 32,
      "outputs": [
        {
          "output_type": "stream",
          "text": [
            "[nltk_data] Downloading package punkt to /root/nltk_data...\n",
            "[nltk_data]   Unzipping tokenizers/punkt.zip.\n"
          ],
          "name": "stdout"
        }
      ]
    },
    {
      "cell_type": "code",
      "metadata": {
        "id": "hUTg7JgeITKB",
        "colab_type": "code",
        "colab": {}
      },
      "source": [
        "train, test = train_test_split(df, test_size=0.3, random_state = 42)\n",
        "\n",
        "test_tokenized = test.apply(lambda r: w2v_tokenize_text(r['post']), axis=1).values\n",
        "train_tokenized = train.apply(lambda r: w2v_tokenize_text(r['post']), axis=1).values"
      ],
      "execution_count": 33,
      "outputs": []
    },
    {
      "cell_type": "code",
      "metadata": {
        "id": "fQpqTl1GIU7u",
        "colab_type": "code",
        "colab": {
          "base_uri": "https://localhost:8080/",
          "height": 105
        },
        "outputId": "34592fdd-9a03-46f1-bebd-6ed96cf1c764"
      },
      "source": [
        "X_train_word_average = word_averaging_list(wv,train_tokenized)\n",
        "X_test_word_average = word_averaging_list(wv,test_tokenized)"
      ],
      "execution_count": 34,
      "outputs": [
        {
          "output_type": "stream",
          "text": [
            "/usr/local/lib/python3.6/dist-packages/ipykernel_launcher.py:8: DeprecationWarning: Call to deprecated `syn0norm` (Attribute will be removed in 4.0.0, use self.wv.vectors_norm instead).\n",
            "  \n",
            "/usr/local/lib/python3.6/dist-packages/gensim/matutils.py:737: FutureWarning: Conversion of the second argument of issubdtype from `int` to `np.signedinteger` is deprecated. In future, it will be treated as `np.int64 == np.dtype(int).type`.\n",
            "  if np.issubdtype(vec.dtype, np.int):\n"
          ],
          "name": "stderr"
        }
      ]
    },
    {
      "cell_type": "code",
      "metadata": {
        "id": "Q2GbO-zCIWjR",
        "colab_type": "code",
        "colab": {
          "base_uri": "https://localhost:8080/",
          "height": 153
        },
        "outputId": "d2c05bbe-2a98-47f8-953a-3f79d96f5f8b"
      },
      "source": [
        "from sklearn.linear_model import LogisticRegression\n",
        "logreg = LogisticRegression(n_jobs=1, C=1e5)\n",
        "logreg = logreg.fit(X_train_word_average, train['tags'])\n",
        "y_pred = logreg.predict(X_test_word_average)"
      ],
      "execution_count": 35,
      "outputs": [
        {
          "output_type": "stream",
          "text": [
            "/usr/local/lib/python3.6/dist-packages/sklearn/linear_model/_logistic.py:940: ConvergenceWarning: lbfgs failed to converge (status=1):\n",
            "STOP: TOTAL NO. of ITERATIONS REACHED LIMIT.\n",
            "\n",
            "Increase the number of iterations (max_iter) or scale the data as shown in:\n",
            "    https://scikit-learn.org/stable/modules/preprocessing.html\n",
            "Please also refer to the documentation for alternative solver options:\n",
            "    https://scikit-learn.org/stable/modules/linear_model.html#logistic-regression\n",
            "  extra_warning_msg=_LOGISTIC_SOLVER_CONVERGENCE_MSG)\n"
          ],
          "name": "stderr"
        }
      ]
    },
    {
      "cell_type": "code",
      "metadata": {
        "id": "mWU1LEsvIXwY",
        "colab_type": "code",
        "colab": {
          "base_uri": "https://localhost:8080/",
          "height": 493
        },
        "outputId": "6313709e-0206-4a73-de80-ce2a9a0ea19f"
      },
      "source": [
        "print('accuracy %s' % accuracy_score(y_pred, test.tags))\n",
        "print(classification_report(test.tags, y_pred,target_names=my_tags))"
      ],
      "execution_count": 36,
      "outputs": [
        {
          "output_type": "stream",
          "text": [
            "accuracy 0.5781537329900699\n",
            "               precision    recall  f1-score   support\n",
            "\n",
            "         java       0.52      0.54      0.53       139\n",
            "         html       0.67      0.69      0.68       127\n",
            "      asp.net       0.63      0.57      0.60       144\n",
            "           c#       0.53      0.48      0.50       131\n",
            "ruby-on-rails       0.66      0.71      0.68       124\n",
            "       jquery       0.34      0.40      0.37       128\n",
            "        mysql       0.60      0.58      0.59       142\n",
            "          php       0.72      0.66      0.69       139\n",
            "          ios       0.46      0.42      0.44       130\n",
            "   javascript       0.49      0.46      0.48       137\n",
            "       python       0.51      0.55      0.53       136\n",
            "            c       0.59      0.68      0.63       118\n",
            "          css       0.55      0.58      0.56       137\n",
            "      android       0.49      0.59      0.53       147\n",
            "       iphone       0.63      0.62      0.63       138\n",
            "          sql       0.35      0.29      0.32       139\n",
            "  objective-c       0.61      0.64      0.62       148\n",
            "          c++       0.77      0.72      0.75       144\n",
            "    angularjs       0.78      0.80      0.79       122\n",
            "         .net       0.67      0.62      0.65       149\n",
            "\n",
            "     accuracy                           0.58      2719\n",
            "    macro avg       0.58      0.58      0.58      2719\n",
            " weighted avg       0.58      0.58      0.58      2719\n",
            "\n"
          ],
          "name": "stdout"
        }
      ]
    },
    {
      "cell_type": "markdown",
      "metadata": {
        "id": "pALeEF9iIZv0",
        "colab_type": "text"
      },
      "source": [
        "# Doc2vec and Logistic Regression"
      ]
    },
    {
      "cell_type": "code",
      "metadata": {
        "id": "hh1mJjXOIbZr",
        "colab_type": "code",
        "colab": {}
      },
      "source": [
        "from tqdm import tqdm\n",
        "tqdm.pandas(desc=\"progress-bar\")\n",
        "from gensim.models import Doc2Vec\n",
        "from sklearn import utils\n",
        "import gensim\n",
        "from gensim.models.doc2vec import TaggedDocument\n",
        "import re"
      ],
      "execution_count": 37,
      "outputs": []
    },
    {
      "cell_type": "code",
      "metadata": {
        "id": "tzZs_CzMIcwk",
        "colab_type": "code",
        "colab": {}
      },
      "source": [
        "def label_sentences(corpus, label_type):\n",
        "    \"\"\"\n",
        "    Gensim's Doc2Vec implementation requires each document/paragraph to have a label associated with it.\n",
        "    We do this by using the TaggedDocument method. The format will be \"TRAIN_i\" or \"TEST_i\" where \"i\" is\n",
        "    a dummy index of the post.\n",
        "    \"\"\"\n",
        "    labeled = []\n",
        "    for i, v in enumerate(corpus):\n",
        "        label = label_type + '_' + str(i)\n",
        "        labeled.append(gensim.models.doc2vec.TaggedDocument(v.split(), [label]))\n",
        "    return labeled"
      ],
      "execution_count": 45,
      "outputs": []
    },
    {
      "cell_type": "code",
      "metadata": {
        "id": "Q0IvWO7FIeVR",
        "colab_type": "code",
        "colab": {}
      },
      "source": [
        "X_train, X_test, y_train, y_test = train_test_split(df.post, df.tags, random_state=0, test_size=0.3)\n",
        "X_train = label_sentences(X_train, 'Train')\n",
        "X_test = label_sentences(X_test, 'Test')\n",
        "all_data = X_train + X_test"
      ],
      "execution_count": 46,
      "outputs": []
    },
    {
      "cell_type": "code",
      "metadata": {
        "id": "fe_33shTIfqW",
        "colab_type": "code",
        "colab": {
          "base_uri": "https://localhost:8080/",
          "height": 71
        },
        "outputId": "1f8e7584-44ff-431a-d69e-c364c09c9c1c"
      },
      "source": [
        "all_data[:2]"
      ],
      "execution_count": 47,
      "outputs": [
        {
          "output_type": "execute_result",
          "data": {
            "text/plain": [
              "[TaggedDocument(words=['need', 'add', 'exponent', '1', 'stack', 'currently', 'studying', 'recursive', 'functions', 'javascript', 'part', 'understand', 'recursion', 'use', 'one', 'question', 'need', 'need', 'add', 'exponent', '1', 'stack', 'code', 'var', 'stack', 'recursive', 'function', 'function', 'power', 'base', 'exponent', 'base', 'case', 'exponent', '0', 'return', '1', 'recursive', 'case', 'else', 'need', 'exponent', '1', 'stack', 'exponent', '1', 'base', 'power', 'base', 'exponent', '1', 'return', 'stack', 'exponent', '1'], tags=['Train_0']),\n",
              " TaggedDocument(words=['scrolling', 'vertically', 'using', 'following', 'code', 'scroll', 'image', 'scrooll', 'view', 'storyviewscroller', 'uiscrollview', 'alloc', 'initwithframecgrectmake', '00f', '790f', '3200f', '262', 'autorelease', 'storyviewscrollercontentsize', 'cgsizemake', 'npages', '3200f', 'storyviewscrollerframesizeheight', 'storyviewscrollerpagingenabled', 'yes', 'storyviewscrollerdelegate', 'self', 'storyviewscrollershowshorizontalscrollindicator', 'storyviewscrollerscrollstotop', 'yes', 'load', 'pages', '0', 'npages', 'i++', 'nsstring', 'filename', 'nsstring', 'stringwithformat', 'djpg', 'i+1', 'uiimageview', 'iv', 'uiimageview', 'alloc', 'initwithimage', 'uiimage', 'imagenamedfilename', 'ivframe', 'cgrectmake', '3200f', '00f', '3200f', '262', 'storyviewscroller', 'addsubviewiv', 'nslog', 'iv', 'release', 'selfview', 'addsubviewstoryviewscroller', 'enable', 'mein', 'tos', 'scroll', 'view', 'left', 'right', 'vice', 'versawhat', 'change', 'sroll', 'view', 'top', 'bottom', 'vice', 'versa', 'sugggestions', 'regards'], tags=['Train_1'])]"
            ]
          },
          "metadata": {
            "tags": []
          },
          "execution_count": 47
        }
      ]
    },
    {
      "cell_type": "code",
      "metadata": {
        "id": "khOKuaD2IhHL",
        "colab_type": "code",
        "colab": {
          "base_uri": "https://localhost:8080/",
          "height": 34
        },
        "outputId": "27eb4d8b-7b76-46eb-dd33-102cc47c7122"
      },
      "source": [
        "model_dbow = Doc2Vec(dm=0, vector_size=300, negative=5, min_count=1, alpha=0.065, min_alpha=0.065)\n",
        "model_dbow.build_vocab([x for x in tqdm(all_data)])"
      ],
      "execution_count": 48,
      "outputs": [
        {
          "output_type": "stream",
          "text": [
            "100%|██████████| 9061/9061 [00:00<00:00, 1351562.59it/s]\n"
          ],
          "name": "stderr"
        }
      ]
    },
    {
      "cell_type": "code",
      "metadata": {
        "id": "5Rg-fgPfIiPG",
        "colab_type": "code",
        "colab": {
          "base_uri": "https://localhost:8080/",
          "height": 527
        },
        "outputId": "65adde55-29a5-46a5-9e77-d498972cebc7"
      },
      "source": [
        "for epoch in range(30):\n",
        "    model_dbow.train(utils.shuffle([x for x in tqdm(all_data)]), total_examples=len(all_data), epochs=1)\n",
        "    model_dbow.alpha -= 0.002\n",
        "    model_dbow.min_alpha = model_dbow.alpha"
      ],
      "execution_count": 49,
      "outputs": [
        {
          "output_type": "stream",
          "text": [
            "100%|██████████| 9061/9061 [00:00<00:00, 1105716.70it/s]\n",
            "100%|██████████| 9061/9061 [00:00<00:00, 2056191.56it/s]\n",
            "100%|██████████| 9061/9061 [00:00<00:00, 1932403.95it/s]\n",
            "100%|██████████| 9061/9061 [00:00<00:00, 1836414.04it/s]\n",
            "100%|██████████| 9061/9061 [00:00<00:00, 2191097.64it/s]\n",
            "100%|██████████| 9061/9061 [00:00<00:00, 1284155.72it/s]\n",
            "100%|██████████| 9061/9061 [00:00<00:00, 2163531.17it/s]\n",
            "100%|██████████| 9061/9061 [00:00<00:00, 1951755.78it/s]\n",
            "100%|██████████| 9061/9061 [00:00<00:00, 2142069.02it/s]\n",
            "100%|██████████| 9061/9061 [00:00<00:00, 2120081.92it/s]\n",
            "100%|██████████| 9061/9061 [00:00<00:00, 2118781.77it/s]\n",
            "100%|██████████| 9061/9061 [00:00<00:00, 2139898.00it/s]\n",
            "100%|██████████| 9061/9061 [00:00<00:00, 2080391.32it/s]\n",
            "100%|██████████| 9061/9061 [00:00<00:00, 2468631.93it/s]\n",
            "100%|██████████| 9061/9061 [00:00<00:00, 2161316.45it/s]\n",
            "100%|██████████| 9061/9061 [00:00<00:00, 2258011.32it/s]\n",
            "100%|██████████| 9061/9061 [00:00<00:00, 2365087.34it/s]\n",
            "100%|██████████| 9061/9061 [00:00<00:00, 2253592.77it/s]\n",
            "100%|██████████| 9061/9061 [00:00<00:00, 2265819.38it/s]\n",
            "100%|██████████| 9061/9061 [00:00<00:00, 2218598.28it/s]\n",
            "100%|██████████| 9061/9061 [00:00<00:00, 1348589.07it/s]\n",
            "100%|██████████| 9061/9061 [00:00<00:00, 1165820.69it/s]\n",
            "100%|██████████| 9061/9061 [00:00<00:00, 1211417.46it/s]\n",
            "100%|██████████| 9061/9061 [00:00<00:00, 2031679.06it/s]\n",
            "100%|██████████| 9061/9061 [00:00<00:00, 1441478.80it/s]\n",
            "100%|██████████| 9061/9061 [00:00<00:00, 2660826.76it/s]\n",
            "100%|██████████| 9061/9061 [00:00<00:00, 2241894.09it/s]\n",
            "100%|██████████| 9061/9061 [00:00<00:00, 2205977.97it/s]\n",
            "100%|██████████| 9061/9061 [00:00<00:00, 2258950.82it/s]\n",
            "100%|██████████| 9061/9061 [00:00<00:00, 1207453.17it/s]\n"
          ],
          "name": "stderr"
        }
      ]
    },
    {
      "cell_type": "code",
      "metadata": {
        "id": "zouCJkdyIjpv",
        "colab_type": "code",
        "colab": {}
      },
      "source": [
        "def get_vectors(model, corpus_size, vectors_size, vectors_type):\n",
        "    \"\"\"\n",
        "    Get vectors from trained doc2vec model\n",
        "    :param doc2vec_model: Trained Doc2Vec model\n",
        "    :param corpus_size: Size of the data\n",
        "    :param vectors_size: Size of the embedding vectors\n",
        "    :param vectors_type: Training or Testing vectors\n",
        "    :return: list of vectors\n",
        "    \"\"\"\n",
        "    vectors = np.zeros((corpus_size, vectors_size))\n",
        "    for i in range(0, corpus_size):\n",
        "        prefix = vectors_type + '_' + str(i)\n",
        "        vectors[i] = model.docvecs[prefix]\n",
        "    return vectors"
      ],
      "execution_count": 50,
      "outputs": []
    },
    {
      "cell_type": "code",
      "metadata": {
        "id": "Fx5-mhonIkk8",
        "colab_type": "code",
        "colab": {}
      },
      "source": [
        "train_vectors_dbow = get_vectors(model_dbow, len(X_train), 300, 'Train')\n",
        "test_vectors_dbow = get_vectors(model_dbow, len(X_test), 300, 'Test')"
      ],
      "execution_count": 51,
      "outputs": []
    },
    {
      "cell_type": "code",
      "metadata": {
        "id": "jGNXU7tZIlZW",
        "colab_type": "code",
        "colab": {
          "base_uri": "https://localhost:8080/"
        },
        "outputId": "5976fb98-32de-4dd8-98b1-588ad2779220"
      },
      "source": [
        "logreg = LogisticRegression(n_jobs=1, C=1e5)\n",
        "logreg.fit(train_vectors_dbow, y_train)"
      ],
      "execution_count": 52,
      "outputs": [
        {
          "output_type": "stream",
          "text": [
            "/usr/local/lib/python3.6/dist-packages/sklearn/linear_model/_logistic.py:940: ConvergenceWarning: lbfgs failed to converge (status=1):\n",
            "STOP: TOTAL NO. of ITERATIONS REACHED LIMIT.\n",
            "\n",
            "Increase the number of iterations (max_iter) or scale the data as shown in:\n",
            "    https://scikit-learn.org/stable/modules/preprocessing.html\n",
            "Please also refer to the documentation for alternative solver options:\n",
            "    https://scikit-learn.org/stable/modules/linear_model.html#logistic-regression\n",
            "  extra_warning_msg=_LOGISTIC_SOLVER_CONVERGENCE_MSG)\n"
          ],
          "name": "stderr"
        },
        {
          "output_type": "execute_result",
          "data": {
            "text/plain": [
              "LogisticRegression(C=100000.0, class_weight=None, dual=False,\n",
              "                   fit_intercept=True, intercept_scaling=1, l1_ratio=None,\n",
              "                   max_iter=100, multi_class='auto', n_jobs=1, penalty='l2',\n",
              "                   random_state=None, solver='lbfgs', tol=0.0001, verbose=0,\n",
              "                   warm_start=False)"
            ]
          },
          "metadata": {
            "tags": []
          },
          "execution_count": 52
        }
      ]
    },
    {
      "cell_type": "code",
      "metadata": {
        "id": "4Ovcdd6LImec",
        "colab_type": "code",
        "colab": {
          "base_uri": "https://localhost:8080/"
        },
        "outputId": "09f86f8c-24ef-4d7c-a378-29ff955065de"
      },
      "source": [
        "logreg = logreg.fit(train_vectors_dbow, y_train)\n",
        "y_pred = logreg.predict(test_vectors_dbow)"
      ],
      "execution_count": 53,
      "outputs": [
        {
          "output_type": "stream",
          "text": [
            "/usr/local/lib/python3.6/dist-packages/sklearn/linear_model/_logistic.py:940: ConvergenceWarning: lbfgs failed to converge (status=1):\n",
            "STOP: TOTAL NO. of ITERATIONS REACHED LIMIT.\n",
            "\n",
            "Increase the number of iterations (max_iter) or scale the data as shown in:\n",
            "    https://scikit-learn.org/stable/modules/preprocessing.html\n",
            "Please also refer to the documentation for alternative solver options:\n",
            "    https://scikit-learn.org/stable/modules/linear_model.html#logistic-regression\n",
            "  extra_warning_msg=_LOGISTIC_SOLVER_CONVERGENCE_MSG)\n"
          ],
          "name": "stderr"
        }
      ]
    },
    {
      "cell_type": "code",
      "metadata": {
        "id": "Njvk8TmYInYk",
        "colab_type": "code",
        "colab": {
          "base_uri": "https://localhost:8080/"
        },
        "outputId": "8552c683-64bb-43a9-b335-5cd36f73249e"
      },
      "source": [
        "print('accuracy %s' % accuracy_score(y_pred, y_test))\n",
        "print(classification_report(y_test, y_pred,target_names=my_tags))"
      ],
      "execution_count": 54,
      "outputs": [
        {
          "output_type": "stream",
          "text": [
            "accuracy 0.6723059948510481\n",
            "               precision    recall  f1-score   support\n",
            "\n",
            "         java       0.52      0.51      0.51       148\n",
            "         html       0.77      0.79      0.78       133\n",
            "      asp.net       0.92      0.85      0.88       134\n",
            "           c#       0.51      0.58      0.54       119\n",
            "ruby-on-rails       0.73      0.81      0.77       134\n",
            "       jquery       0.49      0.48      0.49       130\n",
            "        mysql       0.76      0.72      0.74       143\n",
            "          php       0.69      0.72      0.70       119\n",
            "          ios       0.52      0.55      0.53       142\n",
            "   javascript       0.49      0.45      0.47       137\n",
            "       python       0.54      0.59      0.57       144\n",
            "            c       0.62      0.61      0.62       138\n",
            "          css       0.66      0.62      0.64       138\n",
            "      android       0.73      0.76      0.75       150\n",
            "       iphone       0.69      0.76      0.72       131\n",
            "          sql       0.53      0.50      0.51       126\n",
            "  objective-c       0.77      0.76      0.77       145\n",
            "          c++       0.87      0.80      0.83       134\n",
            "    angularjs       0.93      0.86      0.90       147\n",
            "         .net       0.74      0.70      0.72       127\n",
            "\n",
            "     accuracy                           0.67      2719\n",
            "    macro avg       0.67      0.67      0.67      2719\n",
            " weighted avg       0.68      0.67      0.67      2719\n",
            "\n"
          ],
          "name": "stdout"
        }
      ]
    },
    {
      "cell_type": "markdown",
      "metadata": {
        "id": "D5TD9OBpIo0U",
        "colab_type": "text"
      },
      "source": [
        "# BOW with keras"
      ]
    },
    {
      "cell_type": "code",
      "metadata": {
        "id": "7Mh9-GLrIxTl",
        "colab_type": "code",
        "colab": {}
      },
      "source": [
        "import itertools\n",
        "import os\n",
        "\n",
        "%matplotlib inline\n",
        "import matplotlib.pyplot as plt\n",
        "import numpy as np\n",
        "import pandas as pd\n",
        "import tensorflow as tf\n",
        "\n",
        "from sklearn.preprocessing import LabelBinarizer, LabelEncoder\n",
        "from sklearn.metrics import confusion_matrix\n",
        "\n",
        "from tensorflow import keras\n",
        "from keras.models import Sequential\n",
        "from keras.layers import Dense, Activation, Dropout\n",
        "from keras.preprocessing import text, sequence\n",
        "from keras import utils"
      ],
      "execution_count": 55,
      "outputs": []
    },
    {
      "cell_type": "code",
      "metadata": {
        "id": "wodmvfCUIycM",
        "colab_type": "code",
        "colab": {
          "base_uri": "https://localhost:8080/"
        },
        "outputId": "df495e21-f78d-4612-96d4-a5c05904bd13"
      },
      "source": [
        "train_size = int(len(df) * .7)\n",
        "print (\"Train size: %d\" % train_size)\n",
        "print (\"Test size: %d\" % (len(df) - train_size))"
      ],
      "execution_count": 56,
      "outputs": [
        {
          "output_type": "stream",
          "text": [
            "Train size: 6342\n",
            "Test size: 2719\n"
          ],
          "name": "stdout"
        }
      ]
    },
    {
      "cell_type": "code",
      "metadata": {
        "id": "wFV2lFhfIztL",
        "colab_type": "code",
        "colab": {}
      },
      "source": [
        "train_posts = df['post'][:train_size]\n",
        "train_tags = df['tags'][:train_size]\n",
        "\n",
        "test_posts = df['post'][train_size:]\n",
        "test_tags = df['tags'][train_size:]"
      ],
      "execution_count": 57,
      "outputs": []
    },
    {
      "cell_type": "code",
      "metadata": {
        "id": "ejEDCIAOI1gt",
        "colab_type": "code",
        "colab": {}
      },
      "source": [
        "max_words = 1000\n",
        "tokenize = text.Tokenizer(num_words=max_words, char_level=False)"
      ],
      "execution_count": 58,
      "outputs": []
    },
    {
      "cell_type": "code",
      "metadata": {
        "id": "Q-1zDEyAI22N",
        "colab_type": "code",
        "colab": {}
      },
      "source": [
        "tokenize.fit_on_texts(train_posts) # only fit on train\n",
        "x_train = tokenize.texts_to_matrix(train_posts)\n",
        "x_test = tokenize.texts_to_matrix(test_posts)"
      ],
      "execution_count": 59,
      "outputs": []
    },
    {
      "cell_type": "code",
      "metadata": {
        "id": "BCVD2bjOI36E",
        "colab_type": "code",
        "colab": {}
      },
      "source": [
        "encoder = LabelEncoder()\n",
        "encoder.fit(train_tags)\n",
        "y_train = encoder.transform(train_tags)\n",
        "y_test = encoder.transform(test_tags)"
      ],
      "execution_count": 60,
      "outputs": []
    },
    {
      "cell_type": "code",
      "metadata": {
        "id": "nENyqxYUI5BV",
        "colab_type": "code",
        "colab": {}
      },
      "source": [
        "num_classes = np.max(y_train) + 1\n",
        "y_train = utils.to_categorical(y_train, num_classes)\n",
        "y_test = utils.to_categorical(y_test, num_classes)"
      ],
      "execution_count": 61,
      "outputs": []
    },
    {
      "cell_type": "code",
      "metadata": {
        "id": "2AftLbJaI6Pe",
        "colab_type": "code",
        "colab": {
          "base_uri": "https://localhost:8080/"
        },
        "outputId": "5713a2ba-3569-4241-a243-1a4a60735963"
      },
      "source": [
        "print('x_train shape:', x_train.shape)\n",
        "print('x_test shape:', x_test.shape)\n",
        "print('y_train shape:', y_train.shape)\n",
        "print('y_test shape:', y_test.shape)"
      ],
      "execution_count": 62,
      "outputs": [
        {
          "output_type": "stream",
          "text": [
            "x_train shape: (6342, 1000)\n",
            "x_test shape: (2719, 1000)\n",
            "y_train shape: (6342, 20)\n",
            "y_test shape: (2719, 20)\n"
          ],
          "name": "stdout"
        }
      ]
    },
    {
      "cell_type": "code",
      "metadata": {
        "id": "G9jA-9nnI7hX",
        "colab_type": "code",
        "colab": {}
      },
      "source": [
        "batch_size = 32\n",
        "epochs = 2"
      ],
      "execution_count": 63,
      "outputs": []
    },
    {
      "cell_type": "code",
      "metadata": {
        "id": "xKrpRgpCI8wO",
        "colab_type": "code",
        "colab": {}
      },
      "source": [
        "# Build the model\n",
        "model = Sequential()\n",
        "model.add(Dense(512, input_shape=(max_words,)))\n",
        "model.add(Activation('relu'))\n",
        "model.add(Dropout(0.5))\n",
        "model.add(Dense(num_classes))\n",
        "model.add(Activation('softmax'))\n",
        "\n",
        "model.compile(loss='categorical_crossentropy',\n",
        "              optimizer='adam',\n",
        "              metrics=['accuracy'])"
      ],
      "execution_count": 64,
      "outputs": []
    },
    {
      "cell_type": "code",
      "metadata": {
        "id": "IY6WKS7rI91l",
        "colab_type": "code",
        "colab": {
          "base_uri": "https://localhost:8080/"
        },
        "outputId": "c445e756-73ed-4ada-efec-a4ba353aead7"
      },
      "source": [
        "history = model.fit(x_train, y_train,\n",
        "                    batch_size=batch_size,\n",
        "                    epochs=epochs,\n",
        "                    verbose=1,\n",
        "                    validation_split=0.1)"
      ],
      "execution_count": 65,
      "outputs": [
        {
          "output_type": "stream",
          "text": [
            "Epoch 1/2\n",
            "179/179 [==============================] - 1s 8ms/step - loss: 1.8147 - accuracy: 0.5591 - val_loss: 0.9261 - val_accuracy: 0.7953\n",
            "Epoch 2/2\n",
            "179/179 [==============================] - 1s 8ms/step - loss: 0.7285 - accuracy: 0.8106 - val_loss: 0.7144 - val_accuracy: 0.8016\n"
          ],
          "name": "stdout"
        }
      ]
    },
    {
      "cell_type": "code",
      "metadata": {
        "id": "goyzS60GI_WZ",
        "colab_type": "code",
        "colab": {
          "base_uri": "https://localhost:8080/"
        },
        "outputId": "a52efd86-9e62-4c0a-cd1d-d53094c7ad16"
      },
      "source": [
        "score = model.evaluate(x_test, y_test,\n",
        "                       batch_size=batch_size, verbose=1)\n",
        "print('Test accuracy:', score[1])"
      ],
      "execution_count": 66,
      "outputs": [
        {
          "output_type": "stream",
          "text": [
            "85/85 [==============================] - 0s 3ms/step - loss: 0.7583 - accuracy: 0.7654\n",
            "Test accuracy: 0.7653549313545227\n"
          ],
          "name": "stdout"
        }
      ]
    }
  ]
}