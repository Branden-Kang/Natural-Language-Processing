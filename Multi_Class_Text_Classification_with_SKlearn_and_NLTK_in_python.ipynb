{
  "nbformat": 4,
  "nbformat_minor": 0,
  "metadata": {
    "colab": {
      "name": "Multi-Class Text Classification with SKlearn and NLTK in python.ipynb",
      "provenance": [],
      "authorship_tag": "ABX9TyNTmEHH9+BrCLvyNf5FH/xA"
    },
    "kernelspec": {
      "name": "python3",
      "display_name": "Python 3"
    }
  },
  "cells": [
    {
      "cell_type": "markdown",
      "metadata": {
        "id": "wUUZD7bqlZxk",
        "colab_type": "text"
      },
      "source": [
        "[Reference](https://towardsdatascience.com/multi-class-text-classification-with-sklearn-and-nltk-in-python-a-software-engineering-use-case-779d4a28ba5)"
      ]
    },
    {
      "cell_type": "code",
      "metadata": {
        "id": "Hx47xX1MlLVo",
        "colab_type": "code",
        "colab": {
          "base_uri": "https://localhost:8080/",
          "height": 156
        },
        "outputId": "32944910-0a9a-430a-ec31-174f4f3feb11"
      },
      "source": [
        "import os\n",
        "from google.colab import drive\n",
        "drive.mount('/content/gdrive')\n",
        "!pwd\n",
        "os.chdir('gdrive/My Drive/Colab Notebooks')\n",
        "!pwd"
      ],
      "execution_count": 1,
      "outputs": [
        {
          "output_type": "stream",
          "text": [
            "Go to this URL in a browser: https://accounts.google.com/o/oauth2/auth?client_id=947318989803-6bn6qk8qdgf4n4g3pfee6491hc0brc4i.apps.googleusercontent.com&redirect_uri=urn%3aietf%3awg%3aoauth%3a2.0%3aoob&response_type=code&scope=email%20https%3a%2f%2fwww.googleapis.com%2fauth%2fdocs.test%20https%3a%2f%2fwww.googleapis.com%2fauth%2fdrive%20https%3a%2f%2fwww.googleapis.com%2fauth%2fdrive.photos.readonly%20https%3a%2f%2fwww.googleapis.com%2fauth%2fpeopleapi.readonly\n",
            "\n",
            "Enter your authorization code:\n",
            "··········\n",
            "Mounted at /content/gdrive\n",
            "/content\n",
            "/content/gdrive/My Drive/Colab Notebooks\n"
          ],
          "name": "stdout"
        }
      ]
    },
    {
      "cell_type": "code",
      "metadata": {
        "id": "cXsfGLOblL6I",
        "colab_type": "code",
        "colab": {
          "base_uri": "https://localhost:8080/",
          "height": 204
        },
        "outputId": "c3ffb6cb-acb4-4864-b78f-1a32e109c3c2"
      },
      "source": [
        "import pandas as pd\n",
        "import re\n",
        "import numpy as np\n",
        "import matplotlib.pyplot as plt\n",
        "from nltk.corpus import stopwords\n",
        "from nltk.stem import PorterStemmer\n",
        "from sklearn.feature_extraction.text import TfidfVectorizer\n",
        "from sklearn.pipeline import Pipeline\n",
        "from sklearn.metrics import classification_report, confusion_matrix\n",
        "from sklearn.model_selection import train_test_split\n",
        "from sklearn.feature_selection import SelectKBest, chi2\n",
        "from sqlite3 import Error\n",
        "from sklearn.ensemble import RandomForestClassifier\n",
        "import sqlite3\n",
        "import pickle\n",
        "%matplotlib inline\n",
        "try:\n",
        "    conn = sqlite3.connect(\"training_V2.db\")\n",
        "except Error as e:\n",
        "    print(e)\n",
        "#reading the data from the table that contains the labels \n",
        "df = pd.read_sql_query('SELECT * FROM filtered', conn)\n",
        "df.drop(['id'], 1, inplace=True)\n",
        "df.head()"
      ],
      "execution_count": 2,
      "outputs": [
        {
          "output_type": "execute_result",
          "data": {
            "text/html": [
              "<div>\n",
              "<style scoped>\n",
              "    .dataframe tbody tr th:only-of-type {\n",
              "        vertical-align: middle;\n",
              "    }\n",
              "\n",
              "    .dataframe tbody tr th {\n",
              "        vertical-align: top;\n",
              "    }\n",
              "\n",
              "    .dataframe thead th {\n",
              "        text-align: right;\n",
              "    }\n",
              "</style>\n",
              "<table border=\"1\" class=\"dataframe\">\n",
              "  <thead>\n",
              "    <tr style=\"text-align: right;\">\n",
              "      <th></th>\n",
              "      <th>text</th>\n",
              "      <th>class</th>\n",
              "    </tr>\n",
              "  </thead>\n",
              "  <tbody>\n",
              "    <tr>\n",
              "      <th>0</th>\n",
              "      <td>MAHOUT-1045: committing patch with changes to ...</td>\n",
              "      <td>5</td>\n",
              "    </tr>\n",
              "    <tr>\n",
              "      <th>1</th>\n",
              "      <td>Add notes for coptic bug fix and scalar perfor...</td>\n",
              "      <td>5</td>\n",
              "    </tr>\n",
              "    <tr>\n",
              "      <th>2</th>\n",
              "      <td>cloudStack 3.0 new UI - NaaS - fix a bug that ...</td>\n",
              "      <td>1</td>\n",
              "    </tr>\n",
              "    <tr>\n",
              "      <th>3</th>\n",
              "      <td>add logic to handle all 2xx response code, bug...</td>\n",
              "      <td>1</td>\n",
              "    </tr>\n",
              "    <tr>\n",
              "      <th>4</th>\n",
              "      <td>Fixed adding route for additional public nic o...</td>\n",
              "      <td>1</td>\n",
              "    </tr>\n",
              "  </tbody>\n",
              "</table>\n",
              "</div>"
            ],
            "text/plain": [
              "                                                text  class\n",
              "0  MAHOUT-1045: committing patch with changes to ...      5\n",
              "1  Add notes for coptic bug fix and scalar perfor...      5\n",
              "2  cloudStack 3.0 new UI - NaaS - fix a bug that ...      1\n",
              "3  add logic to handle all 2xx response code, bug...      1\n",
              "4  Fixed adding route for additional public nic o...      1"
            ]
          },
          "metadata": {
            "tags": []
          },
          "execution_count": 2
        }
      ]
    },
    {
      "cell_type": "markdown",
      "metadata": {
        "id": "zBzCmVCXlil4",
        "colab_type": "text"
      },
      "source": [
        "Labels:\n",
        "- 1 represents commit messages for bug fixing.\n",
        "- 2 represents commits that belong to no category.\n",
        "- 3 represents commit messages for design improvement.\n",
        "- 4 represents commit messages for adding new features.\n",
        "- 5 represents commit messages for improving non-functional requirements."
      ]
    },
    {
      "cell_type": "code",
      "metadata": {
        "id": "v2lxa9rKlSzy",
        "colab_type": "code",
        "colab": {
          "base_uri": "https://localhost:8080/",
          "height": 276
        },
        "outputId": "c8ca5e12-7b1a-4766-f829-e2683e22e80d"
      },
      "source": [
        "df.groupby('class').text.count().plot.bar(ylim=0)\n",
        "plt.show()"
      ],
      "execution_count": 3,
      "outputs": [
        {
          "output_type": "display_data",
          "data": {
            "image/png": "[encoded data removed]",
            "text/plain": [
              "<Figure size 432x288 with 1 Axes>"
            ]
          },
          "metadata": {
            "tags": [],
            "needs_background": "light"
          }
        }
      ]
    },
    {
      "cell_type": "markdown",
      "metadata": {
        "id": "MlAFr1zDlphj",
        "colab_type": "text"
      },
      "source": [
        "# Text Preprocessing"
      ]
    },
    {
      "cell_type": "code",
      "metadata": {
        "id": "I8QgmHMjlWp1",
        "colab_type": "code",
        "colab": {
          "base_uri": "https://localhost:8080/",
          "height": 51
        },
        "outputId": "9a1a534b-36db-46cd-a910-ad6f5ffa9d3e"
      },
      "source": [
        "stemmer = PorterStemmer()\n",
        "import nltk\n",
        "nltk.download('stopwords')\n",
        "words = stopwords.words(\"english\")\n",
        "df['cleaned'] = df['text'].apply(lambda x: \" \".join([stemmer.stem(i) for i in re.sub(\"[^a-zA-Z]\", \" \", x).split() if i not in words]).lower())"
      ],
      "execution_count": 6,
      "outputs": [
        {
          "output_type": "stream",
          "text": [
            "[nltk_data] Downloading package stopwords to /root/nltk_data...\n",
            "[nltk_data]   Unzipping corpora/stopwords.zip.\n"
          ],
          "name": "stdout"
        }
      ]
    },
    {
      "cell_type": "code",
      "metadata": {
        "id": "eVfZBM_Plrsc",
        "colab_type": "code",
        "colab": {
          "base_uri": "https://localhost:8080/",
          "height": 204
        },
        "outputId": "1849eab6-f927-444e-b495-7a734b7048b9"
      },
      "source": [
        "df.head()"
      ],
      "execution_count": 7,
      "outputs": [
        {
          "output_type": "execute_result",
          "data": {
            "text/html": [
              "<div>\n",
              "<style scoped>\n",
              "    .dataframe tbody tr th:only-of-type {\n",
              "        vertical-align: middle;\n",
              "    }\n",
              "\n",
              "    .dataframe tbody tr th {\n",
              "        vertical-align: top;\n",
              "    }\n",
              "\n",
              "    .dataframe thead th {\n",
              "        text-align: right;\n",
              "    }\n",
              "</style>\n",
              "<table border=\"1\" class=\"dataframe\">\n",
              "  <thead>\n",
              "    <tr style=\"text-align: right;\">\n",
              "      <th></th>\n",
              "      <th>text</th>\n",
              "      <th>class</th>\n",
              "      <th>cleaned</th>\n",
              "    </tr>\n",
              "  </thead>\n",
              "  <tbody>\n",
              "    <tr>\n",
              "      <th>0</th>\n",
              "      <td>MAHOUT-1045: committing patch with changes to ...</td>\n",
              "      <td>5</td>\n",
              "      <td>mahout commit patch chang unit test cdbw numbe...</td>\n",
              "    </tr>\n",
              "    <tr>\n",
              "      <th>1</th>\n",
              "      <td>Add notes for coptic bug fix and scalar perfor...</td>\n",
              "      <td>5</td>\n",
              "      <td>add note coptic bug fix scalar perform improv</td>\n",
              "    </tr>\n",
              "    <tr>\n",
              "      <th>2</th>\n",
              "      <td>cloudStack 3.0 new UI - NaaS - fix a bug that ...</td>\n",
              "      <td>1</td>\n",
              "      <td>cloudstack new ui naa fix bug dedic paramet di...</td>\n",
              "    </tr>\n",
              "    <tr>\n",
              "      <th>3</th>\n",
              "      <td>add logic to handle all 2xx response code, bug...</td>\n",
              "      <td>1</td>\n",
              "      <td>add logic handl xx respons code bug fix string...</td>\n",
              "    </tr>\n",
              "    <tr>\n",
              "      <th>4</th>\n",
              "      <td>Fixed adding route for additional public nic o...</td>\n",
              "      <td>1</td>\n",
              "      <td>fix ad rout addit public nic fail</td>\n",
              "    </tr>\n",
              "  </tbody>\n",
              "</table>\n",
              "</div>"
            ],
            "text/plain": [
              "                                                text  ...                                            cleaned\n",
              "0  MAHOUT-1045: committing patch with changes to ...  ...  mahout commit patch chang unit test cdbw numbe...\n",
              "1  Add notes for coptic bug fix and scalar perfor...  ...      add note coptic bug fix scalar perform improv\n",
              "2  cloudStack 3.0 new UI - NaaS - fix a bug that ...  ...  cloudstack new ui naa fix bug dedic paramet di...\n",
              "3  add logic to handle all 2xx response code, bug...  ...  add logic handl xx respons code bug fix string...\n",
              "4  Fixed adding route for additional public nic o...  ...                  fix ad rout addit public nic fail\n",
              "\n",
              "[5 rows x 3 columns]"
            ]
          },
          "metadata": {
            "tags": []
          },
          "execution_count": 7
        }
      ]
    },
    {
      "cell_type": "code",
      "metadata": {
        "id": "oVTeiZfXlyzc",
        "colab_type": "code",
        "colab": {
          "base_uri": "https://localhost:8080/",
          "height": 34
        },
        "outputId": "1f813959-b164-4180-d3a8-f087fdaf8f84"
      },
      "source": [
        "vectorizer = TfidfVectorizer(min_df= 3, stop_words=\"english\", sublinear_tf=True, norm='l2', ngram_range=(1, 2))\n",
        "final_features = vectorizer.fit_transform(df['cleaned']).toarray()\n",
        "final_features.shape"
      ],
      "execution_count": 8,
      "outputs": [
        {
          "output_type": "execute_result",
          "data": {
            "text/plain": [
              "(3377, 2389)"
            ]
          },
          "metadata": {
            "tags": []
          },
          "execution_count": 8
        }
      ]
    },
    {
      "cell_type": "code",
      "metadata": {
        "id": "6fOM1FTImQNR",
        "colab_type": "code",
        "colab": {
          "base_uri": "https://localhost:8080/",
          "height": 136
        },
        "outputId": "73437a8d-bd18-4296-f8c0-5234e17d15a6"
      },
      "source": [
        "final_features"
      ],
      "execution_count": 10,
      "outputs": [
        {
          "output_type": "execute_result",
          "data": {
            "text/plain": [
              "array([[0., 0., 0., ..., 0., 0., 0.],\n",
              "       [0., 0., 0., ..., 0., 0., 0.],\n",
              "       [0., 0., 0., ..., 0., 0., 0.],\n",
              "       ...,\n",
              "       [0., 0., 0., ..., 0., 0., 0.],\n",
              "       [0., 0., 0., ..., 0., 0., 0.],\n",
              "       [0., 0., 0., ..., 0., 0., 0.]])"
            ]
          },
          "metadata": {
            "tags": []
          },
          "execution_count": 10
        }
      ]
    },
    {
      "cell_type": "markdown",
      "metadata": {
        "id": "bnQSAeZRmc8x",
        "colab_type": "text"
      },
      "source": [
        "![WorkFlow](https://miro.medium.com/max/1400/1*6ku25gAB-_SLtxVNyBkl9w.jpeg)"
      ]
    },
    {
      "cell_type": "code",
      "metadata": {
        "id": "qg49m__4mTdy",
        "colab_type": "code",
        "colab": {
          "base_uri": "https://localhost:8080/",
          "height": 306
        },
        "outputId": "f7e819e9-add5-4589-939c-0644ed620244"
      },
      "source": [
        "#first we split our dataset into testing and training set:\n",
        "# this block is to split the dataset into training and testing set \n",
        "X = df['cleaned']\n",
        "Y = df['class']\n",
        "X_train, X_test, y_train, y_test = train_test_split(X, Y, test_size=0.25)\n",
        "# instead of doing these steps one at a time, we can use a pipeline to complete them all at once\n",
        "pipeline = Pipeline([('vect', vectorizer),\n",
        "                     ('chi',  SelectKBest(chi2, k=1200)),\n",
        "                     ('clf', RandomForestClassifier())])\n",
        "# fitting our model and save it in a pickle for later use\n",
        "model = pipeline.fit(X_train, y_train)\n",
        "with open('RandomForest.pickle', 'wb') as f:\n",
        "    pickle.dump(model, f)\n",
        "ytest = np.array(y_test)\n",
        "# confusion matrix and classification report(precision, recall, F1-score)\n",
        "print(classification_report(ytest, model.predict(X_test)))\n",
        "print(confusion_matrix(ytest, model.predict(X_test)))"
      ],
      "execution_count": 11,
      "outputs": [
        {
          "output_type": "stream",
          "text": [
            "              precision    recall  f1-score   support\n",
            "\n",
            "           1       0.98      1.00      0.99       288\n",
            "           2       1.00      0.93      0.96        71\n",
            "           3       0.99      1.00      1.00       108\n",
            "           4       0.99      0.99      0.99       138\n",
            "           5       1.00      1.00      1.00       240\n",
            "\n",
            "    accuracy                           0.99       845\n",
            "   macro avg       0.99      0.98      0.99       845\n",
            "weighted avg       0.99      0.99      0.99       845\n",
            "\n",
            "[[288   0   0   0   0]\n",
            " [  4  66   0   1   0]\n",
            " [  0   0 108   0   0]\n",
            " [  1   0   0 137   0]\n",
            " [  0   0   1   0 239]]\n"
          ],
          "name": "stdout"
        }
      ]
    }
  ]
}