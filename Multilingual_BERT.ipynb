{
  "nbformat": 4,
  "nbformat_minor": 0,
  "metadata": {
    "colab": {
      "name": "Multilingual BERT.ipynb",
      "provenance": [],
      "authorship_tag": "ABX9TyOOKbIndrcHHOD+mrUGiDKK"
    },
    "kernelspec": {
      "name": "python3",
      "display_name": "Python 3"
    }
  },
  "cells": [
    {
      "cell_type": "markdown",
      "metadata": {
        "id": "5c6T6LcXvnhH",
        "colab_type": "text"
      },
      "source": [
        "[Reference](https://medium.com/omnius/hallo-multilingual-bert-c%C3%B3mo-funcionas-2b3406cc4dc2)"
      ]
    },
    {
      "cell_type": "code",
      "metadata": {
        "id": "11J9kFa7uJ3J",
        "colab_type": "code",
        "colab": {
          "base_uri": "https://localhost:8080/",
          "height": 445
        },
        "outputId": "4ff77153-cd2e-419a-a819-730f3b21160a"
      },
      "source": [
        "!pip install pytorch_pretrained_bert\n",
        "from pytorch_pretrained_bert import BertTokenizer\n",
        "\n",
        "# Hello! Does this work with German sentences, too?\n",
        "text = 'Hallo! Funktioniert das auch mit deutschen Sätzen?'\n",
        "\n",
        "tokenizer = BertTokenizer.from_pretrained('bert-base-multilingual-cased', do_lower_case=False)\n",
        "tokenized_text = tokenizer.tokenize(text)\n",
        "\n",
        "print(tokenized_text)\n",
        "# ['Hall', '##o', '!', 'Funktion', '##iert', 'das', 'auch', 'mit', 'deutschen', 'S', '##ätzen', '?']"
      ],
      "execution_count": 3,
      "outputs": [
        {
          "output_type": "stream",
          "text": [
            "Collecting pytorch_pretrained_bert\n",
            "\u001b[?25l  Downloading https://files.pythonhosted.org/packages/d7/e0/c08d5553b89973d9a240605b9c12404bcf8227590de62bae27acbcfe076b/pytorch_pretrained_bert-0.6.2-py3-none-any.whl (123kB)\n",
            "\r\u001b[K     |██▋                             | 10kB 14.9MB/s eta 0:00:01\r\u001b[K     |█████▎                          | 20kB 3.4MB/s eta 0:00:01\r\u001b[K     |████████                        | 30kB 4.5MB/s eta 0:00:01\r\u001b[K     |██████████▋                     | 40kB 4.9MB/s eta 0:00:01\r\u001b[K     |█████████████▎                  | 51kB 4.0MB/s eta 0:00:01\r\u001b[K     |███████████████▉                | 61kB 4.2MB/s eta 0:00:01\r\u001b[K     |██████████████████▌             | 71kB 4.6MB/s eta 0:00:01\r\u001b[K     |█████████████████████▏          | 81kB 5.0MB/s eta 0:00:01\r\u001b[K     |███████████████████████▉        | 92kB 5.4MB/s eta 0:00:01\r\u001b[K     |██████████████████████████▌     | 102kB 5.2MB/s eta 0:00:01\r\u001b[K     |█████████████████████████████▏  | 112kB 5.2MB/s eta 0:00:01\r\u001b[K     |███████████████████████████████▊| 122kB 5.2MB/s eta 0:00:01\r\u001b[K     |████████████████████████████████| 133kB 5.2MB/s \n",
            "\u001b[?25hRequirement already satisfied: torch>=0.4.1 in /usr/local/lib/python3.6/dist-packages (from pytorch_pretrained_bert) (1.6.0+cu101)\n",
            "Requirement already satisfied: requests in /usr/local/lib/python3.6/dist-packages (from pytorch_pretrained_bert) (2.23.0)\n",
            "Requirement already satisfied: boto3 in /usr/local/lib/python3.6/dist-packages (from pytorch_pretrained_bert) (1.14.37)\n",
            "Requirement already satisfied: numpy in /usr/local/lib/python3.6/dist-packages (from pytorch_pretrained_bert) (1.18.5)\n",
            "Requirement already satisfied: regex in /usr/local/lib/python3.6/dist-packages (from pytorch_pretrained_bert) (2019.12.20)\n",
            "Requirement already satisfied: tqdm in /usr/local/lib/python3.6/dist-packages (from pytorch_pretrained_bert) (4.41.1)\n",
            "Requirement already satisfied: future in /usr/local/lib/python3.6/dist-packages (from torch>=0.4.1->pytorch_pretrained_bert) (0.16.0)\n",
            "Requirement already satisfied: chardet<4,>=3.0.2 in /usr/local/lib/python3.6/dist-packages (from requests->pytorch_pretrained_bert) (3.0.4)\n",
            "Requirement already satisfied: urllib3!=1.25.0,!=1.25.1,<1.26,>=1.21.1 in /usr/local/lib/python3.6/dist-packages (from requests->pytorch_pretrained_bert) (1.24.3)\n",
            "Requirement already satisfied: idna<3,>=2.5 in /usr/local/lib/python3.6/dist-packages (from requests->pytorch_pretrained_bert) (2.10)\n",
            "Requirement already satisfied: certifi>=2017.4.17 in /usr/local/lib/python3.6/dist-packages (from requests->pytorch_pretrained_bert) (2020.6.20)\n",
            "Requirement already satisfied: jmespath<1.0.0,>=0.7.1 in /usr/local/lib/python3.6/dist-packages (from boto3->pytorch_pretrained_bert) (0.10.0)\n",
            "Requirement already satisfied: s3transfer<0.4.0,>=0.3.0 in /usr/local/lib/python3.6/dist-packages (from boto3->pytorch_pretrained_bert) (0.3.3)\n",
            "Requirement already satisfied: botocore<1.18.0,>=1.17.37 in /usr/local/lib/python3.6/dist-packages (from boto3->pytorch_pretrained_bert) (1.17.37)\n",
            "Requirement already satisfied: docutils<0.16,>=0.10 in /usr/local/lib/python3.6/dist-packages (from botocore<1.18.0,>=1.17.37->boto3->pytorch_pretrained_bert) (0.15.2)\n",
            "Requirement already satisfied: python-dateutil<3.0.0,>=2.1 in /usr/local/lib/python3.6/dist-packages (from botocore<1.18.0,>=1.17.37->boto3->pytorch_pretrained_bert) (2.8.1)\n",
            "Requirement already satisfied: six>=1.5 in /usr/local/lib/python3.6/dist-packages (from python-dateutil<3.0.0,>=2.1->botocore<1.18.0,>=1.17.37->boto3->pytorch_pretrained_bert) (1.15.0)\n",
            "Installing collected packages: pytorch-pretrained-bert\n",
            "Successfully installed pytorch-pretrained-bert-0.6.2\n"
          ],
          "name": "stdout"
        },
        {
          "output_type": "stream",
          "text": [
            "100%|██████████| 995526/995526 [00:00<00:00, 2806326.41B/s]\n"
          ],
          "name": "stderr"
        },
        {
          "output_type": "stream",
          "text": [
            "['Hall', '##o', '!', 'Funktion', '##iert', 'das', 'auch', 'mit', 'deutschen', 'S', '##ätzen', '?']\n"
          ],
          "name": "stdout"
        }
      ]
    },
    {
      "cell_type": "code",
      "metadata": {
        "id": "398Ex5XEuPFk",
        "colab_type": "code",
        "colab": {
          "base_uri": "https://localhost:8080/",
          "height": 34
        },
        "outputId": "b477aa5b-5025-438e-cb89-b2861307bb9f"
      },
      "source": [
        "from pytorch_pretrained_bert import BasicTokenizer\n",
        "\n",
        "# Japanese doesn't use spaces.\n",
        "text = '日本語はスペースを使いません。' \n",
        "\n",
        "basic_tokenizer = BasicTokenizer(do_lower_case=False)\n",
        "basic_tokenized_text = basic_tokenizer.tokenize(text)\n",
        "\n",
        "print(basic_tokenized_text)\n",
        "# ['日', '本', '語', 'は', '##ス', '##ペ', '##ース', '##を', '使', 'い', '##ま', '##せ', '##ん', '。']\n",
        "# correct: ['日本語', 'は', 'スペース', 'を', '使いません', '。']"
      ],
      "execution_count": 4,
      "outputs": [
        {
          "output_type": "stream",
          "text": [
            "['日', '本', '語', 'はスペースを', '使', 'いません', '。']\n"
          ],
          "name": "stdout"
        }
      ]
    },
    {
      "cell_type": "code",
      "metadata": {
        "id": "bM9QSDpMvxJU",
        "colab_type": "code",
        "colab": {
          "base_uri": "https://localhost:8080/",
          "height": 51
        },
        "outputId": "3c32be5a-9d5e-4678-f690-3df7900133ea"
      },
      "source": [
        "from pytorch_pretrained_bert import BasicTokenizer, BertTokenizer\n",
        "\n",
        "# Insert example text\n",
        "text = '...'\n",
        "\n",
        "basic_tokenizer = BasicTokenizer(do_lower_case=False)\n",
        "tokenizer = BertTokenizer.from_pretrained('bert-base-multilingual-cased', do_lower_case=False)\n",
        "\n",
        "in_vocab = []\n",
        "not_in_vocab = []\n",
        "\n",
        "for word in basic_tokenizer.tokenize(text):\n",
        "    if word in tokenizer.vocab:\n",
        "        in_vocab.append(word)\n",
        "    else:\n",
        "        not_in_vocab.append(word)\n",
        "\n",
        "print(len(in_vocab))\n",
        "print(len(not_in_vocab))"
      ],
      "execution_count": 6,
      "outputs": [
        {
          "output_type": "stream",
          "text": [
            "3\n",
            "0\n"
          ],
          "name": "stdout"
        }
      ]
    }
  ]
}