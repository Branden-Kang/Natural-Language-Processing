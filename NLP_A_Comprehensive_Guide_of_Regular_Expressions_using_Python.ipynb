{
  "nbformat": 4,
  "nbformat_minor": 0,
  "metadata": {
    "colab": {
      "provenance": [],
      "authorship_tag": "ABX9TyP04hldn+Ug+kJu9BmAvSLT"
    },
    "kernelspec": {
      "name": "python3",
      "display_name": "Python 3"
    },
    "language_info": {
      "name": "python"
    }
  },
  "cells": [
    {
      "cell_type": "markdown",
      "source": [
        "[Reference](https://pub.towardsai.net/a-comprehensive-guide-of-regular-expressions-using-python-6ff8de3d1a67)"
      ],
      "metadata": {
        "id": "0GAPDZ7DfjSd"
      }
    },
    {
      "cell_type": "code",
      "execution_count": 2,
      "metadata": {
        "colab": {
          "base_uri": "https://localhost:8080/"
        },
        "id": "MDhN4xD0fhOH",
        "outputId": "de48c9cd-7cb9-4a2a-cd96-dd8ac0a28203"
      },
      "outputs": [
        {
          "output_type": "stream",
          "name": "stdout",
          "text": [
            "<re.Match object; span=(14, 16), match='to'>\n"
          ]
        }
      ],
      "source": [
        "import re\n",
        "string = \"Happy vaccine to us\"\n",
        "result = re.search( \"to\", string)\n",
        "print(result)"
      ]
    },
    {
      "cell_type": "code",
      "source": [
        "import re\n",
        "string = \"Happy vaccine to us\"\n",
        "result = re.findall( \"t\", string)\n",
        "print(result)"
      ],
      "metadata": {
        "colab": {
          "base_uri": "https://localhost:8080/"
        },
        "id": "b3vdMwHYfnUp",
        "outputId": "dd0938e9-594a-44ec-8e6d-addebe70e35a"
      },
      "execution_count": 3,
      "outputs": [
        {
          "output_type": "stream",
          "name": "stdout",
          "text": [
            "['t']\n"
          ]
        }
      ]
    },
    {
      "cell_type": "code",
      "source": [
        "import re\n",
        "string = \"Happy vaccine to us\"\n",
        "result = re.split( \"\\s\", string, 1)\n",
        "print(result)"
      ],
      "metadata": {
        "colab": {
          "base_uri": "https://localhost:8080/"
        },
        "id": "25nZQ2xQfrbj",
        "outputId": "b68765d0-79a4-49c7-82b8-20773abde610"
      },
      "execution_count": 4,
      "outputs": [
        {
          "output_type": "stream",
          "name": "stdout",
          "text": [
            "['Happy', 'vaccine to us']\n"
          ]
        }
      ]
    },
    {
      "cell_type": "code",
      "source": [
        "import re\n",
        "string = \"Happy vaccine to us\"\n",
        "result = re.sub( \"\\s\", \"-\", string)\n",
        "print(result)"
      ],
      "metadata": {
        "colab": {
          "base_uri": "https://localhost:8080/"
        },
        "id": "IqkKCdxifsLj",
        "outputId": "907227c7-0000-4741-b06b-98d71260d2ee"
      },
      "execution_count": 5,
      "outputs": [
        {
          "output_type": "stream",
          "name": "stdout",
          "text": [
            "Happy-vaccine-to-us\n"
          ]
        }
      ]
    },
    {
      "cell_type": "code",
      "source": [
        "import re\n",
        "string = 'Happy vaccine to us'\n",
        "result = re.findall(r\"\\AHappy\", string)\n",
        "print(result)"
      ],
      "metadata": {
        "colab": {
          "base_uri": "https://localhost:8080/"
        },
        "id": "ogyptmzIft6R",
        "outputId": "1ac791ec-7b7d-43d5-d033-003a4ac1103a"
      },
      "execution_count": 6,
      "outputs": [
        {
          "output_type": "stream",
          "name": "stdout",
          "text": [
            "['Happy']\n"
          ]
        }
      ]
    },
    {
      "cell_type": "code",
      "source": [
        "import re\n",
        "string = \"Happy vaccine to us\"\n",
        "result = re.findall( \"[a-h]\", string)\n",
        "print(result)"
      ],
      "metadata": {
        "colab": {
          "base_uri": "https://localhost:8080/"
        },
        "id": "LHmguB5kfxWE",
        "outputId": "677f58fe-c41a-4645-d100-48139991ad51"
      },
      "execution_count": 7,
      "outputs": [
        {
          "output_type": "stream",
          "name": "stdout",
          "text": [
            "['a', 'a', 'c', 'c', 'e']\n"
          ]
        }
      ]
    },
    {
      "cell_type": "code",
      "source": [
        "import re\n",
        "string = \"Happy vaccine to us\"\n",
        "r = re.findall( \"v..\", string)\n",
        "s = re.findall( \"v.\", string)\n",
        "print(r)\n",
        "print(s)"
      ],
      "metadata": {
        "colab": {
          "base_uri": "https://localhost:8080/"
        },
        "id": "lNJnOr1Gfz1D",
        "outputId": "d3bec00e-1de9-44eb-9799-59e00e5326fd"
      },
      "execution_count": 9,
      "outputs": [
        {
          "output_type": "stream",
          "name": "stdout",
          "text": [
            "['vac']\n",
            "['va']\n"
          ]
        }
      ]
    },
    {
      "cell_type": "code",
      "source": [
        "import re\n",
        "string = \"Happy vaccine to us\"\n",
        "result = re.findall( \"^The\", string)\n",
        "if result:\n",
        "    print(\"The string starts with 'The' \")\n",
        "else:\n",
        "    print(\"Not matching\")"
      ],
      "metadata": {
        "colab": {
          "base_uri": "https://localhost:8080/"
        },
        "id": "C-tTa_vkf1bh",
        "outputId": "79bcad0d-b211-475d-f866-fc8bd05ffd42"
      },
      "execution_count": 10,
      "outputs": [
        {
          "output_type": "stream",
          "name": "stdout",
          "text": [
            "Not matching\n"
          ]
        }
      ]
    },
    {
      "cell_type": "code",
      "source": [
        "import re\n",
        "string = \"Happy vaccine to us\"\n",
        "result = re.findall( \"to*\", string)\n",
        "print(result)"
      ],
      "metadata": {
        "colab": {
          "base_uri": "https://localhost:8080/"
        },
        "id": "0T6pJ7Bqf34s",
        "outputId": "310300a9-51c4-4537-ce0b-c170b49f57dd"
      },
      "execution_count": 11,
      "outputs": [
        {
          "output_type": "stream",
          "name": "stdout",
          "text": [
            "['to']\n"
          ]
        }
      ]
    },
    {
      "cell_type": "code",
      "source": [
        "import re\n",
        "string = \"Happy vaccine to us\"\n",
        "result = re.findall( \"a+\", string)\n",
        "print(result)"
      ],
      "metadata": {
        "colab": {
          "base_uri": "https://localhost:8080/"
        },
        "id": "9qXj024Mf5UJ",
        "outputId": "dd5c9430-0e2d-48dd-8bc4-7c3342b55b39"
      },
      "execution_count": 12,
      "outputs": [
        {
          "output_type": "stream",
          "name": "stdout",
          "text": [
            "['a', 'a']\n"
          ]
        }
      ]
    },
    {
      "cell_type": "code",
      "source": [
        "import re\n",
        "string = \"Happy vaccine to us\"\n",
        "result = re.findall( \"vac{2}\", string)\n",
        "print(result)"
      ],
      "metadata": {
        "colab": {
          "base_uri": "https://localhost:8080/"
        },
        "id": "bANHHaNzf6fm",
        "outputId": "f5906a3f-6f94-409b-c6d2-cc43d3bba101"
      },
      "execution_count": 13,
      "outputs": [
        {
          "output_type": "stream",
          "name": "stdout",
          "text": [
            "['vacc']\n"
          ]
        }
      ]
    },
    {
      "cell_type": "code",
      "source": [
        "import re\n",
        "string = \"Happy 2 vaccine to us\"\n",
        "result = re.findall( \"\\d\", string)\n",
        "print(result)"
      ],
      "metadata": {
        "colab": {
          "base_uri": "https://localhost:8080/"
        },
        "id": "5zTFeOHAf7g9",
        "outputId": "a546013d-08b9-4078-cbd6-a590b23eb49d"
      },
      "execution_count": 14,
      "outputs": [
        {
          "output_type": "stream",
          "name": "stdout",
          "text": [
            "['2']\n"
          ]
        }
      ]
    },
    {
      "cell_type": "code",
      "source": [
        "import re\n",
        "string = \"Happy vaccine to us\"\n",
        "result = re.findall( \"hap | vac\", string)\n",
        "print(result)\n",
        "if result:\n",
        "    print(\"There is a match\")\n",
        "else:\n",
        "    print(\"Not matching\")"
      ],
      "metadata": {
        "colab": {
          "base_uri": "https://localhost:8080/"
        },
        "id": "o9RuRflzf8sI",
        "outputId": "8b69c962-5058-4351-a94f-922754a3f646"
      },
      "execution_count": 15,
      "outputs": [
        {
          "output_type": "stream",
          "name": "stdout",
          "text": [
            "[' vac']\n",
            "There is a match\n"
          ]
        }
      ]
    },
    {
      "cell_type": "code",
      "source": [
        "import re\n",
        "string = \"Happy vaccine to us\"\n",
        "result = re.findall( \"us$\", string)\n",
        "print(result)\n",
        "if result:\n",
        "    print(\"The string ends with 'us'\")\n",
        "else:\n",
        "    print(\"Not matching\")"
      ],
      "metadata": {
        "colab": {
          "base_uri": "https://localhost:8080/"
        },
        "id": "Yfi-ZSSFf_JT",
        "outputId": "d4a9b4c0-8481-4027-a09a-d91b0028b1c1"
      },
      "execution_count": 16,
      "outputs": [
        {
          "output_type": "stream",
          "name": "stdout",
          "text": [
            "['us']\n",
            "The string ends with 'us'\n"
          ]
        }
      ]
    },
    {
      "cell_type": "code",
      "source": [
        "import re\n",
        "string = \"Happy 2 vaccine to us\"\n",
        "result = re.findall( \"\\d\", string)\n",
        "print(result)"
      ],
      "metadata": {
        "colab": {
          "base_uri": "https://localhost:8080/"
        },
        "id": "nowN12H8gAg0",
        "outputId": "73620cfd-b48a-45b2-bc57-f54cef5df083"
      },
      "execution_count": 17,
      "outputs": [
        {
          "output_type": "stream",
          "name": "stdout",
          "text": [
            "['2']\n"
          ]
        }
      ]
    },
    {
      "cell_type": "code",
      "source": [
        "import re\n",
        "string = \"Happy 2 vaccine to us\"\n",
        "result = re.findall( \"\\D\", string)\n",
        "print(result)"
      ],
      "metadata": {
        "colab": {
          "base_uri": "https://localhost:8080/"
        },
        "id": "eq6jE1gVgB_c",
        "outputId": "9ce2d535-5a82-4d10-ec18-39956cba86ce"
      },
      "execution_count": 18,
      "outputs": [
        {
          "output_type": "stream",
          "name": "stdout",
          "text": [
            "['H', 'a', 'p', 'p', 'y', ' ', ' ', 'v', 'a', 'c', 'c', 'i', 'n', 'e', ' ', 't', 'o', ' ', 'u', 's']\n"
          ]
        }
      ]
    },
    {
      "cell_type": "code",
      "source": [
        "import re\n",
        "string = \"Happy 2 vaccine to us\"\n",
        "result = re.findall( \"\\s\", string)\n",
        "print(result)"
      ],
      "metadata": {
        "colab": {
          "base_uri": "https://localhost:8080/"
        },
        "id": "ZAU-h4FNgDOg",
        "outputId": "99206c69-6a13-4b0c-aba4-65b5b8e92c95"
      },
      "execution_count": 19,
      "outputs": [
        {
          "output_type": "stream",
          "name": "stdout",
          "text": [
            "[' ', ' ', ' ', ' ']\n"
          ]
        }
      ]
    },
    {
      "cell_type": "code",
      "source": [
        "import re\n",
        "string = \"Happy 2 vaccine to us\"\n",
        "result = re.findall( \"\\S\", string)\n",
        "print(result)"
      ],
      "metadata": {
        "colab": {
          "base_uri": "https://localhost:8080/"
        },
        "id": "VPHtvNblgEfn",
        "outputId": "2967323d-371e-4693-b464-cff733ab1c95"
      },
      "execution_count": 20,
      "outputs": [
        {
          "output_type": "stream",
          "name": "stdout",
          "text": [
            "['H', 'a', 'p', 'p', 'y', '2', 'v', 'a', 'c', 'c', 'i', 'n', 'e', 't', 'o', 'u', 's']\n"
          ]
        }
      ]
    },
    {
      "cell_type": "code",
      "source": [
        "import re\n",
        "string = \"Happy 2 vaccine to us\"\n",
        "result = re.findall( \"\\w\", string)\n",
        "print(result)"
      ],
      "metadata": {
        "colab": {
          "base_uri": "https://localhost:8080/"
        },
        "id": "APaOYwlIgFpf",
        "outputId": "9bcc983b-a354-4a36-a114-53acc1828668"
      },
      "execution_count": 21,
      "outputs": [
        {
          "output_type": "stream",
          "name": "stdout",
          "text": [
            "['H', 'a', 'p', 'p', 'y', '2', 'v', 'a', 'c', 'c', 'i', 'n', 'e', 't', 'o', 'u', 's']\n"
          ]
        }
      ]
    },
    {
      "cell_type": "code",
      "source": [
        "import re\n",
        "string = \"Happy 2 vaccine to us\"\n",
        "result = re.findall( \"\\W\", string)\n",
        "print(result)"
      ],
      "metadata": {
        "colab": {
          "base_uri": "https://localhost:8080/"
        },
        "id": "JhgoOZHZgHF5",
        "outputId": "5b328f3e-489d-432f-abe1-9408145bdae7"
      },
      "execution_count": 22,
      "outputs": [
        {
          "output_type": "stream",
          "name": "stdout",
          "text": [
            "[' ', ' ', ' ', ' ']\n"
          ]
        }
      ]
    },
    {
      "cell_type": "code",
      "source": [
        "import re\n",
        "string = \"Happy 2 vaccine to us\"\n",
        "result = re.findall( \"us\\Z\", string)\n",
        "print(result)\n",
        "if result:\n",
        "    print(\"There is a match\")\n",
        "else:\n",
        "    print(\"Not matching\")"
      ],
      "metadata": {
        "colab": {
          "base_uri": "https://localhost:8080/"
        },
        "id": "snL7y4fDgIXz",
        "outputId": "cf25da0f-58c0-4e6a-9bd3-a76e4083bfe1"
      },
      "execution_count": 23,
      "outputs": [
        {
          "output_type": "stream",
          "name": "stdout",
          "text": [
            "['us']\n",
            "There is a match\n"
          ]
        }
      ]
    },
    {
      "cell_type": "code",
      "source": [
        "import re\n",
        "string = \"Happy 2 vaccine to us\"\n",
        "result = re.findall( \"\\AHap\", string)\n",
        "print(result)\n",
        "if result:\n",
        "    print(\"There is a match\")\n",
        "else:\n",
        "    print(\"Not matching\")"
      ],
      "metadata": {
        "colab": {
          "base_uri": "https://localhost:8080/"
        },
        "id": "AaL8uL-DgKGe",
        "outputId": "9d63ddc8-7d6d-41f5-fd26-38a2dc8afaa0"
      },
      "execution_count": 24,
      "outputs": [
        {
          "output_type": "stream",
          "name": "stdout",
          "text": [
            "['Hap']\n",
            "There is a match\n"
          ]
        }
      ]
    },
    {
      "cell_type": "code",
      "source": [
        "import re\n",
        "string = \"Happy 2 vaccine to us\"\n",
        "result = re.findall(r\"\\bat\", string)\n",
        "output = re.findall(r\"at\\b\", string)\n",
        "print(result)\n",
        "print(output)"
      ],
      "metadata": {
        "colab": {
          "base_uri": "https://localhost:8080/"
        },
        "id": "1VKvogcTgL1o",
        "outputId": "359881ad-2c90-4db1-dbb3-3e72c318a7e1"
      },
      "execution_count": 25,
      "outputs": [
        {
          "output_type": "stream",
          "name": "stdout",
          "text": [
            "[]\n",
            "[]\n"
          ]
        }
      ]
    },
    {
      "cell_type": "code",
      "source": [
        "import re\n",
        "string = \"Happy 2 vaccine to us\"\n",
        "result = re.findall(\"[act]\", string)\n",
        "print(result)"
      ],
      "metadata": {
        "colab": {
          "base_uri": "https://localhost:8080/"
        },
        "id": "U2zvQKwegNvr",
        "outputId": "ce7b48e5-0d8b-4729-851f-e87b946b5daf"
      },
      "execution_count": 26,
      "outputs": [
        {
          "output_type": "stream",
          "name": "stdout",
          "text": [
            "['a', 'a', 'c', 'c', 't']\n"
          ]
        }
      ]
    },
    {
      "cell_type": "code",
      "source": [
        "import re\n",
        "string = \"Happy 2 vaccine to us\"\n",
        "result = re.findall(\"[a-h]\", string)\n",
        "print(result)"
      ],
      "metadata": {
        "colab": {
          "base_uri": "https://localhost:8080/"
        },
        "id": "wlJAUHj1gQOD",
        "outputId": "613ffabe-94e2-4239-871a-0dc7d5e83af2"
      },
      "execution_count": 27,
      "outputs": [
        {
          "output_type": "stream",
          "name": "stdout",
          "text": [
            "['a', 'a', 'c', 'c', 'e']\n"
          ]
        }
      ]
    },
    {
      "cell_type": "code",
      "source": [
        "import re\n",
        "string = \"Happy 2 vaccine to us\"\n",
        "result = re.findall(\"[^ahf]\", string)\n",
        "print(result)"
      ],
      "metadata": {
        "colab": {
          "base_uri": "https://localhost:8080/"
        },
        "id": "kzbXFct7gReA",
        "outputId": "51adc7a1-c3f4-44e8-9dd3-8d531733b7a7"
      },
      "execution_count": 28,
      "outputs": [
        {
          "output_type": "stream",
          "name": "stdout",
          "text": [
            "['H', 'p', 'p', 'y', ' ', '2', ' ', 'v', 'c', 'c', 'i', 'n', 'e', ' ', 't', 'o', ' ', 'u', 's']\n"
          ]
        }
      ]
    },
    {
      "cell_type": "code",
      "source": [
        "import re\n",
        "string = \"Happy 2 vaccine to us\"\n",
        "result = re.findall(\"[015]\", string)\n",
        "print(result)"
      ],
      "metadata": {
        "colab": {
          "base_uri": "https://localhost:8080/"
        },
        "id": "XxjT3yhZgSmK",
        "outputId": "bf71a519-bab4-4fe9-cdc0-7279432704cb"
      },
      "execution_count": 29,
      "outputs": [
        {
          "output_type": "stream",
          "name": "stdout",
          "text": [
            "[]\n"
          ]
        }
      ]
    },
    {
      "cell_type": "code",
      "source": [
        "import re\n",
        "string = \"Happy 2 vaccine to us\"\n",
        "result = re.findall(\"[0-9]\", string)\n",
        "if result:\n",
        "    print(\"There is a match\")\n",
        "else:\n",
        "    print(\"No match\")"
      ],
      "metadata": {
        "colab": {
          "base_uri": "https://localhost:8080/"
        },
        "id": "JI2oLpfIgT4f",
        "outputId": "666d1157-a9ac-4046-8c58-e45fb8790880"
      },
      "execution_count": 30,
      "outputs": [
        {
          "output_type": "stream",
          "name": "stdout",
          "text": [
            "There is a match\n"
          ]
        }
      ]
    },
    {
      "cell_type": "code",
      "source": [
        "import re\n",
        "string = \"Happy 22 vaccine to us\"\n",
        "result = re.findall(\"[0-6][0-5]\", string)\n",
        "print(result)"
      ],
      "metadata": {
        "colab": {
          "base_uri": "https://localhost:8080/"
        },
        "id": "YLoCfIVogVeV",
        "outputId": "e8d09b31-a168-47f0-8e7b-defdc5e3633c"
      },
      "execution_count": 31,
      "outputs": [
        {
          "output_type": "stream",
          "name": "stdout",
          "text": [
            "['22']\n"
          ]
        }
      ]
    },
    {
      "cell_type": "code",
      "source": [
        "import re\n",
        "string = \"Happy 2 vaccine to us\"\n",
        "result = re.findall(\"[a-zA-Z]\", string)\n",
        "print(result)"
      ],
      "metadata": {
        "colab": {
          "base_uri": "https://localhost:8080/"
        },
        "id": "LgzGF4I4gW1e",
        "outputId": "2a305f2f-c19c-408c-e8d4-bacb5bf04dc5"
      },
      "execution_count": 32,
      "outputs": [
        {
          "output_type": "stream",
          "name": "stdout",
          "text": [
            "['H', 'a', 'p', 'p', 'y', 'v', 'a', 'c', 'c', 'i', 'n', 'e', 't', 'o', 'u', 's']\n"
          ]
        }
      ]
    },
    {
      "cell_type": "code",
      "source": [
        "import re\n",
        "string = \"Happy 2 + vaccine to us\"\n",
        "result = re.findall(\"[+]\", string)\n",
        "print(result)"
      ],
      "metadata": {
        "colab": {
          "base_uri": "https://localhost:8080/"
        },
        "id": "Nn7557yfgYRP",
        "outputId": "1825447e-60e8-4ede-c8f5-949869e409ae"
      },
      "execution_count": 33,
      "outputs": [
        {
          "output_type": "stream",
          "name": "stdout",
          "text": [
            "['+']\n"
          ]
        }
      ]
    },
    {
      "cell_type": "code",
      "source": [
        "import re\n",
        "string = \"The book is on the box\"\n",
        "x = re.search(r\"\\bb\\w+\", string)\n",
        "print(x.group())"
      ],
      "metadata": {
        "colab": {
          "base_uri": "https://localhost:8080/"
        },
        "id": "4yxxstuFgZfV",
        "outputId": "72e6579a-fcf6-43f8-abc4-ea2e48f9fb21"
      },
      "execution_count": 34,
      "outputs": [
        {
          "output_type": "stream",
          "name": "stdout",
          "text": [
            "book\n"
          ]
        }
      ]
    },
    {
      "cell_type": "code",
      "source": [
        "import re\n",
        "string = \"The book is on the box\"\n",
        "x = re.search(r\"\\bb\\w+\", string)\n",
        "print(x.span())"
      ],
      "metadata": {
        "colab": {
          "base_uri": "https://localhost:8080/"
        },
        "id": "ZJ7s_Dhegaep",
        "outputId": "4c106c98-5813-4baf-c5e2-ecc7af6eb059"
      },
      "execution_count": 35,
      "outputs": [
        {
          "output_type": "stream",
          "name": "stdout",
          "text": [
            "(4, 8)\n"
          ]
        }
      ]
    },
    {
      "cell_type": "code",
      "source": [
        "import re\n",
        "string = \"The book is on the box\"\n",
        "x = re.search(r\"\\bb\\w+\", string)\n",
        "print(x.string)"
      ],
      "metadata": {
        "colab": {
          "base_uri": "https://localhost:8080/"
        },
        "id": "yjtEflMDgbqH",
        "outputId": "925d6008-7c95-46d6-dc19-c580b2ca1677"
      },
      "execution_count": 36,
      "outputs": [
        {
          "output_type": "stream",
          "name": "stdout",
          "text": [
            "The book is on the box\n"
          ]
        }
      ]
    }
  ]
}