{
  "nbformat": 4,
  "nbformat_minor": 0,
  "metadata": {
    "colab": {
      "name": "NLP using Stanza.ipynb",
      "provenance": [],
      "authorship_tag": "ABX9TyNuA4hyptrfhuo2rqcZAPKW"
    },
    "kernelspec": {
      "name": "python3",
      "display_name": "Python 3"
    },
    "language_info": {
      "name": "python"
    },
    "widgets": {
      "application/vnd.jupyter.widget-state+json": {
        "cbdb0bf03bf4403a821bfd30d443ed88": {
          "model_module": "@jupyter-widgets/controls",
          "model_name": "HBoxModel",
          "model_module_version": "1.5.0",
          "state": {
            "_view_name": "HBoxView",
            "_dom_classes": [],
            "_model_name": "HBoxModel",
            "_view_module": "@jupyter-widgets/controls",
            "_model_module_version": "1.5.0",
            "_view_count": null,
            "_view_module_version": "1.5.0",
            "box_style": "",
            "layout": "IPY_MODEL_7e9239b6167444a6bdce9e44bed16a9b",
            "_model_module": "@jupyter-widgets/controls",
            "children": [
              "IPY_MODEL_5c6370e188e44e88a63d127408fb5706",
              "IPY_MODEL_8a569e32e17a41318db31cf5de2d999c",
              "IPY_MODEL_c62acd5957764a1186e25f62a9f6e59a"
            ]
          }
        },
        "7e9239b6167444a6bdce9e44bed16a9b": {
          "model_module": "@jupyter-widgets/base",
          "model_name": "LayoutModel",
          "model_module_version": "1.2.0",
          "state": {
            "_view_name": "LayoutView",
            "grid_template_rows": null,
            "right": null,
            "justify_content": null,
            "_view_module": "@jupyter-widgets/base",
            "overflow": null,
            "_model_module_version": "1.2.0",
            "_view_count": null,
            "flex_flow": null,
            "width": null,
            "min_width": null,
            "border": null,
            "align_items": null,
            "bottom": null,
            "_model_module": "@jupyter-widgets/base",
            "top": null,
            "grid_column": null,
            "overflow_y": null,
            "overflow_x": null,
            "grid_auto_flow": null,
            "grid_area": null,
            "grid_template_columns": null,
            "flex": null,
            "_model_name": "LayoutModel",
            "justify_items": null,
            "grid_row": null,
            "max_height": null,
            "align_content": null,
            "visibility": null,
            "align_self": null,
            "height": null,
            "min_height": null,
            "padding": null,
            "grid_auto_rows": null,
            "grid_gap": null,
            "max_width": null,
            "order": null,
            "_view_module_version": "1.2.0",
            "grid_template_areas": null,
            "object_position": null,
            "object_fit": null,
            "grid_auto_columns": null,
            "margin": null,
            "display": null,
            "left": null
          }
        },
        "5c6370e188e44e88a63d127408fb5706": {
          "model_module": "@jupyter-widgets/controls",
          "model_name": "HTMLModel",
          "model_module_version": "1.5.0",
          "state": {
            "_view_name": "HTMLView",
            "style": "IPY_MODEL_cca04135144f46ce98d1283384ed94c2",
            "_dom_classes": [],
            "description": "",
            "_model_name": "HTMLModel",
            "placeholder": "​",
            "_view_module": "@jupyter-widgets/controls",
            "_model_module_version": "1.5.0",
            "value": "Downloading https://raw.githubusercontent.com/stanfordnlp/stanza-resources/main/resources_1.3.0.json: ",
            "_view_count": null,
            "_view_module_version": "1.5.0",
            "description_tooltip": null,
            "_model_module": "@jupyter-widgets/controls",
            "layout": "IPY_MODEL_7d04da7076334de694b02280f8b794b6"
          }
        },
        "8a569e32e17a41318db31cf5de2d999c": {
          "model_module": "@jupyter-widgets/controls",
          "model_name": "FloatProgressModel",
          "model_module_version": "1.5.0",
          "state": {
            "_view_name": "ProgressView",
            "style": "IPY_MODEL_3d8157814686492b88d9e3d114105f2a",
            "_dom_classes": [],
            "description": "",
            "_model_name": "FloatProgressModel",
            "bar_style": "success",
            "max": 24459,
            "_view_module": "@jupyter-widgets/controls",
            "_model_module_version": "1.5.0",
            "value": 24459,
            "_view_count": null,
            "_view_module_version": "1.5.0",
            "orientation": "horizontal",
            "min": 0,
            "description_tooltip": null,
            "_model_module": "@jupyter-widgets/controls",
            "layout": "IPY_MODEL_8d452d8c3d904fb28c55a3ff53b902c7"
          }
        },
        "c62acd5957764a1186e25f62a9f6e59a": {
          "model_module": "@jupyter-widgets/controls",
          "model_name": "HTMLModel",
          "model_module_version": "1.5.0",
          "state": {
            "_view_name": "HTMLView",
            "style": "IPY_MODEL_bd9774a7755c4a3f913cfbff64613ee4",
            "_dom_classes": [],
            "description": "",
            "_model_name": "HTMLModel",
            "placeholder": "​",
            "_view_module": "@jupyter-widgets/controls",
            "_model_module_version": "1.5.0",
            "value": " 142k/? [00:00&lt;00:00, 3.20MB/s]",
            "_view_count": null,
            "_view_module_version": "1.5.0",
            "description_tooltip": null,
            "_model_module": "@jupyter-widgets/controls",
            "layout": "IPY_MODEL_301e5d9c38a4451a81d7db163f1a3bda"
          }
        },
        "cca04135144f46ce98d1283384ed94c2": {
          "model_module": "@jupyter-widgets/controls",
          "model_name": "DescriptionStyleModel",
          "model_module_version": "1.5.0",
          "state": {
            "_view_name": "StyleView",
            "_model_name": "DescriptionStyleModel",
            "description_width": "",
            "_view_module": "@jupyter-widgets/base",
            "_model_module_version": "1.5.0",
            "_view_count": null,
            "_view_module_version": "1.2.0",
            "_model_module": "@jupyter-widgets/controls"
          }
        },
        "7d04da7076334de694b02280f8b794b6": {
          "model_module": "@jupyter-widgets/base",
          "model_name": "LayoutModel",
          "model_module_version": "1.2.0",
          "state": {
            "_view_name": "LayoutView",
            "grid_template_rows": null,
            "right": null,
            "justify_content": null,
            "_view_module": "@jupyter-widgets/base",
            "overflow": null,
            "_model_module_version": "1.2.0",
            "_view_count": null,
            "flex_flow": null,
            "width": null,
            "min_width": null,
            "border": null,
            "align_items": null,
            "bottom": null,
            "_model_module": "@jupyter-widgets/base",
            "top": null,
            "grid_column": null,
            "overflow_y": null,
            "overflow_x": null,
            "grid_auto_flow": null,
            "grid_area": null,
            "grid_template_columns": null,
            "flex": null,
            "_model_name": "LayoutModel",
            "justify_items": null,
            "grid_row": null,
            "max_height": null,
            "align_content": null,
            "visibility": null,
            "align_self": null,
            "height": null,
            "min_height": null,
            "padding": null,
            "grid_auto_rows": null,
            "grid_gap": null,
            "max_width": null,
            "order": null,
            "_view_module_version": "1.2.0",
            "grid_template_areas": null,
            "object_position": null,
            "object_fit": null,
            "grid_auto_columns": null,
            "margin": null,
            "display": null,
            "left": null
          }
        },
        "3d8157814686492b88d9e3d114105f2a": {
          "model_module": "@jupyter-widgets/controls",
          "model_name": "ProgressStyleModel",
          "model_module_version": "1.5.0",
          "state": {
            "_view_name": "StyleView",
            "_model_name": "ProgressStyleModel",
            "description_width": "",
            "_view_module": "@jupyter-widgets/base",
            "_model_module_version": "1.5.0",
            "_view_count": null,
            "_view_module_version": "1.2.0",
            "bar_color": null,
            "_model_module": "@jupyter-widgets/controls"
          }
        },
        "8d452d8c3d904fb28c55a3ff53b902c7": {
          "model_module": "@jupyter-widgets/base",
          "model_name": "LayoutModel",
          "model_module_version": "1.2.0",
          "state": {
            "_view_name": "LayoutView",
            "grid_template_rows": null,
            "right": null,
            "justify_content": null,
            "_view_module": "@jupyter-widgets/base",
            "overflow": null,
            "_model_module_version": "1.2.0",
            "_view_count": null,
            "flex_flow": null,
            "width": null,
            "min_width": null,
            "border": null,
            "align_items": null,
            "bottom": null,
            "_model_module": "@jupyter-widgets/base",
            "top": null,
            "grid_column": null,
            "overflow_y": null,
            "overflow_x": null,
            "grid_auto_flow": null,
            "grid_area": null,
            "grid_template_columns": null,
            "flex": null,
            "_model_name": "LayoutModel",
            "justify_items": null,
            "grid_row": null,
            "max_height": null,
            "align_content": null,
            "visibility": null,
            "align_self": null,
            "height": null,
            "min_height": null,
            "padding": null,
            "grid_auto_rows": null,
            "grid_gap": null,
            "max_width": null,
            "order": null,
            "_view_module_version": "1.2.0",
            "grid_template_areas": null,
            "object_position": null,
            "object_fit": null,
            "grid_auto_columns": null,
            "margin": null,
            "display": null,
            "left": null
          }
        },
        "bd9774a7755c4a3f913cfbff64613ee4": {
          "model_module": "@jupyter-widgets/controls",
          "model_name": "DescriptionStyleModel",
          "model_module_version": "1.5.0",
          "state": {
            "_view_name": "StyleView",
            "_model_name": "DescriptionStyleModel",
            "description_width": "",
            "_view_module": "@jupyter-widgets/base",
            "_model_module_version": "1.5.0",
            "_view_count": null,
            "_view_module_version": "1.2.0",
            "_model_module": "@jupyter-widgets/controls"
          }
        },
        "301e5d9c38a4451a81d7db163f1a3bda": {
          "model_module": "@jupyter-widgets/base",
          "model_name": "LayoutModel",
          "model_module_version": "1.2.0",
          "state": {
            "_view_name": "LayoutView",
            "grid_template_rows": null,
            "right": null,
            "justify_content": null,
            "_view_module": "@jupyter-widgets/base",
            "overflow": null,
            "_model_module_version": "1.2.0",
            "_view_count": null,
            "flex_flow": null,
            "width": null,
            "min_width": null,
            "border": null,
            "align_items": null,
            "bottom": null,
            "_model_module": "@jupyter-widgets/base",
            "top": null,
            "grid_column": null,
            "overflow_y": null,
            "overflow_x": null,
            "grid_auto_flow": null,
            "grid_area": null,
            "grid_template_columns": null,
            "flex": null,
            "_model_name": "LayoutModel",
            "justify_items": null,
            "grid_row": null,
            "max_height": null,
            "align_content": null,
            "visibility": null,
            "align_self": null,
            "height": null,
            "min_height": null,
            "padding": null,
            "grid_auto_rows": null,
            "grid_gap": null,
            "max_width": null,
            "order": null,
            "_view_module_version": "1.2.0",
            "grid_template_areas": null,
            "object_position": null,
            "object_fit": null,
            "grid_auto_columns": null,
            "margin": null,
            "display": null,
            "left": null
          }
        },
        "eab491056ac845e18139f185a1b46401": {
          "model_module": "@jupyter-widgets/controls",
          "model_name": "HBoxModel",
          "model_module_version": "1.5.0",
          "state": {
            "_view_name": "HBoxView",
            "_dom_classes": [],
            "_model_name": "HBoxModel",
            "_view_module": "@jupyter-widgets/controls",
            "_model_module_version": "1.5.0",
            "_view_count": null,
            "_view_module_version": "1.5.0",
            "box_style": "",
            "layout": "IPY_MODEL_a074bd615d1440528182cbba4a64b152",
            "_model_module": "@jupyter-widgets/controls",
            "children": [
              "IPY_MODEL_2040bcd9e3334a31b2334d4291df310d",
              "IPY_MODEL_64e1cd8d73f64267bfaa9bf3960c7737",
              "IPY_MODEL_792adbee075147928e7df646aec20784"
            ]
          }
        },
        "a074bd615d1440528182cbba4a64b152": {
          "model_module": "@jupyter-widgets/base",
          "model_name": "LayoutModel",
          "model_module_version": "1.2.0",
          "state": {
            "_view_name": "LayoutView",
            "grid_template_rows": null,
            "right": null,
            "justify_content": null,
            "_view_module": "@jupyter-widgets/base",
            "overflow": null,
            "_model_module_version": "1.2.0",
            "_view_count": null,
            "flex_flow": null,
            "width": null,
            "min_width": null,
            "border": null,
            "align_items": null,
            "bottom": null,
            "_model_module": "@jupyter-widgets/base",
            "top": null,
            "grid_column": null,
            "overflow_y": null,
            "overflow_x": null,
            "grid_auto_flow": null,
            "grid_area": null,
            "grid_template_columns": null,
            "flex": null,
            "_model_name": "LayoutModel",
            "justify_items": null,
            "grid_row": null,
            "max_height": null,
            "align_content": null,
            "visibility": null,
            "align_self": null,
            "height": null,
            "min_height": null,
            "padding": null,
            "grid_auto_rows": null,
            "grid_gap": null,
            "max_width": null,
            "order": null,
            "_view_module_version": "1.2.0",
            "grid_template_areas": null,
            "object_position": null,
            "object_fit": null,
            "grid_auto_columns": null,
            "margin": null,
            "display": null,
            "left": null
          }
        },
        "2040bcd9e3334a31b2334d4291df310d": {
          "model_module": "@jupyter-widgets/controls",
          "model_name": "HTMLModel",
          "model_module_version": "1.5.0",
          "state": {
            "_view_name": "HTMLView",
            "style": "IPY_MODEL_5561800df2124233a1a727b14e3a6c66",
            "_dom_classes": [],
            "description": "",
            "_model_name": "HTMLModel",
            "placeholder": "​",
            "_view_module": "@jupyter-widgets/controls",
            "_model_module_version": "1.5.0",
            "value": "Downloading https://huggingface.co/stanfordnlp/stanza-en/resolve/v1.3.0/models/default.zip: 100%",
            "_view_count": null,
            "_view_module_version": "1.5.0",
            "description_tooltip": null,
            "_model_module": "@jupyter-widgets/controls",
            "layout": "IPY_MODEL_b2edd1eb0859491cb81f6735edfdf3a8"
          }
        },
        "64e1cd8d73f64267bfaa9bf3960c7737": {
          "model_module": "@jupyter-widgets/controls",
          "model_name": "FloatProgressModel",
          "model_module_version": "1.5.0",
          "state": {
            "_view_name": "ProgressView",
            "style": "IPY_MODEL_752982258e634f51b0ceff2b1dd1ecee",
            "_dom_classes": [],
            "description": "",
            "_model_name": "FloatProgressModel",
            "bar_style": "success",
            "max": 479531529,
            "_view_module": "@jupyter-widgets/controls",
            "_model_module_version": "1.5.0",
            "value": 479531529,
            "_view_count": null,
            "_view_module_version": "1.5.0",
            "orientation": "horizontal",
            "min": 0,
            "description_tooltip": null,
            "_model_module": "@jupyter-widgets/controls",
            "layout": "IPY_MODEL_f42d43448ed4438cb6ce6af2a85cc419"
          }
        },
        "792adbee075147928e7df646aec20784": {
          "model_module": "@jupyter-widgets/controls",
          "model_name": "HTMLModel",
          "model_module_version": "1.5.0",
          "state": {
            "_view_name": "HTMLView",
            "style": "IPY_MODEL_b0b8c57b3f664392af8bca04138e83cd",
            "_dom_classes": [],
            "description": "",
            "_model_name": "HTMLModel",
            "placeholder": "​",
            "_view_module": "@jupyter-widgets/controls",
            "_model_module_version": "1.5.0",
            "value": " 480M/480M [00:29&lt;00:00, 17.8MB/s]",
            "_view_count": null,
            "_view_module_version": "1.5.0",
            "description_tooltip": null,
            "_model_module": "@jupyter-widgets/controls",
            "layout": "IPY_MODEL_dbb89c917a844acfb11841c6a840567a"
          }
        },
        "5561800df2124233a1a727b14e3a6c66": {
          "model_module": "@jupyter-widgets/controls",
          "model_name": "DescriptionStyleModel",
          "model_module_version": "1.5.0",
          "state": {
            "_view_name": "StyleView",
            "_model_name": "DescriptionStyleModel",
            "description_width": "",
            "_view_module": "@jupyter-widgets/base",
            "_model_module_version": "1.5.0",
            "_view_count": null,
            "_view_module_version": "1.2.0",
            "_model_module": "@jupyter-widgets/controls"
          }
        },
        "b2edd1eb0859491cb81f6735edfdf3a8": {
          "model_module": "@jupyter-widgets/base",
          "model_name": "LayoutModel",
          "model_module_version": "1.2.0",
          "state": {
            "_view_name": "LayoutView",
            "grid_template_rows": null,
            "right": null,
            "justify_content": null,
            "_view_module": "@jupyter-widgets/base",
            "overflow": null,
            "_model_module_version": "1.2.0",
            "_view_count": null,
            "flex_flow": null,
            "width": null,
            "min_width": null,
            "border": null,
            "align_items": null,
            "bottom": null,
            "_model_module": "@jupyter-widgets/base",
            "top": null,
            "grid_column": null,
            "overflow_y": null,
            "overflow_x": null,
            "grid_auto_flow": null,
            "grid_area": null,
            "grid_template_columns": null,
            "flex": null,
            "_model_name": "LayoutModel",
            "justify_items": null,
            "grid_row": null,
            "max_height": null,
            "align_content": null,
            "visibility": null,
            "align_self": null,
            "height": null,
            "min_height": null,
            "padding": null,
            "grid_auto_rows": null,
            "grid_gap": null,
            "max_width": null,
            "order": null,
            "_view_module_version": "1.2.0",
            "grid_template_areas": null,
            "object_position": null,
            "object_fit": null,
            "grid_auto_columns": null,
            "margin": null,
            "display": null,
            "left": null
          }
        },
        "752982258e634f51b0ceff2b1dd1ecee": {
          "model_module": "@jupyter-widgets/controls",
          "model_name": "ProgressStyleModel",
          "model_module_version": "1.5.0",
          "state": {
            "_view_name": "StyleView",
            "_model_name": "ProgressStyleModel",
            "description_width": "",
            "_view_module": "@jupyter-widgets/base",
            "_model_module_version": "1.5.0",
            "_view_count": null,
            "_view_module_version": "1.2.0",
            "bar_color": null,
            "_model_module": "@jupyter-widgets/controls"
          }
        },
        "f42d43448ed4438cb6ce6af2a85cc419": {
          "model_module": "@jupyter-widgets/base",
          "model_name": "LayoutModel",
          "model_module_version": "1.2.0",
          "state": {
            "_view_name": "LayoutView",
            "grid_template_rows": null,
            "right": null,
            "justify_content": null,
            "_view_module": "@jupyter-widgets/base",
            "overflow": null,
            "_model_module_version": "1.2.0",
            "_view_count": null,
            "flex_flow": null,
            "width": null,
            "min_width": null,
            "border": null,
            "align_items": null,
            "bottom": null,
            "_model_module": "@jupyter-widgets/base",
            "top": null,
            "grid_column": null,
            "overflow_y": null,
            "overflow_x": null,
            "grid_auto_flow": null,
            "grid_area": null,
            "grid_template_columns": null,
            "flex": null,
            "_model_name": "LayoutModel",
            "justify_items": null,
            "grid_row": null,
            "max_height": null,
            "align_content": null,
            "visibility": null,
            "align_self": null,
            "height": null,
            "min_height": null,
            "padding": null,
            "grid_auto_rows": null,
            "grid_gap": null,
            "max_width": null,
            "order": null,
            "_view_module_version": "1.2.0",
            "grid_template_areas": null,
            "object_position": null,
            "object_fit": null,
            "grid_auto_columns": null,
            "margin": null,
            "display": null,
            "left": null
          }
        },
        "b0b8c57b3f664392af8bca04138e83cd": {
          "model_module": "@jupyter-widgets/controls",
          "model_name": "DescriptionStyleModel",
          "model_module_version": "1.5.0",
          "state": {
            "_view_name": "StyleView",
            "_model_name": "DescriptionStyleModel",
            "description_width": "",
            "_view_module": "@jupyter-widgets/base",
            "_model_module_version": "1.5.0",
            "_view_count": null,
            "_view_module_version": "1.2.0",
            "_model_module": "@jupyter-widgets/controls"
          }
        },
        "dbb89c917a844acfb11841c6a840567a": {
          "model_module": "@jupyter-widgets/base",
          "model_name": "LayoutModel",
          "model_module_version": "1.2.0",
          "state": {
            "_view_name": "LayoutView",
            "grid_template_rows": null,
            "right": null,
            "justify_content": null,
            "_view_module": "@jupyter-widgets/base",
            "overflow": null,
            "_model_module_version": "1.2.0",
            "_view_count": null,
            "flex_flow": null,
            "width": null,
            "min_width": null,
            "border": null,
            "align_items": null,
            "bottom": null,
            "_model_module": "@jupyter-widgets/base",
            "top": null,
            "grid_column": null,
            "overflow_y": null,
            "overflow_x": null,
            "grid_auto_flow": null,
            "grid_area": null,
            "grid_template_columns": null,
            "flex": null,
            "_model_name": "LayoutModel",
            "justify_items": null,
            "grid_row": null,
            "max_height": null,
            "align_content": null,
            "visibility": null,
            "align_self": null,
            "height": null,
            "min_height": null,
            "padding": null,
            "grid_auto_rows": null,
            "grid_gap": null,
            "max_width": null,
            "order": null,
            "_view_module_version": "1.2.0",
            "grid_template_areas": null,
            "object_position": null,
            "object_fit": null,
            "grid_auto_columns": null,
            "margin": null,
            "display": null,
            "left": null
          }
        }
      }
    }
  },
  "cells": [
    {
      "cell_type": "markdown",
      "metadata": {
        "id": "_joj-2CKb5gp"
      },
      "source": [
        "[Reference](https://pemagrg.medium.com/nlp-using-stanza-3775c7e00f2a)"
      ]
    },
    {
      "cell_type": "markdown",
      "metadata": {
        "id": "VaBOvhsVcIQF"
      },
      "source": [
        "# Install"
      ]
    },
    {
      "cell_type": "code",
      "metadata": {
        "colab": {
          "base_uri": "https://localhost:8080/"
        },
        "id": "LBXIbgMub33b",
        "outputId": "e7c9eb0f-38f9-4d43-e315-1a8e4db7d5a8"
      },
      "source": [
        "pip install stanza"
      ],
      "execution_count": 1,
      "outputs": [
        {
          "output_type": "stream",
          "name": "stdout",
          "text": [
            "Collecting stanza\n",
            "  Downloading stanza-1.3.0-py3-none-any.whl (432 kB)\n",
            "\u001b[K     |████████████████████████████████| 432 kB 7.6 MB/s \n",
            "\u001b[?25hRequirement already satisfied: torch>=1.3.0 in /usr/local/lib/python3.7/dist-packages (from stanza) (1.10.0+cu111)\n",
            "Requirement already satisfied: numpy in /usr/local/lib/python3.7/dist-packages (from stanza) (1.19.5)\n",
            "Requirement already satisfied: tqdm in /usr/local/lib/python3.7/dist-packages (from stanza) (4.62.3)\n",
            "Requirement already satisfied: six in /usr/local/lib/python3.7/dist-packages (from stanza) (1.15.0)\n",
            "Requirement already satisfied: protobuf in /usr/local/lib/python3.7/dist-packages (from stanza) (3.17.3)\n",
            "Requirement already satisfied: requests in /usr/local/lib/python3.7/dist-packages (from stanza) (2.23.0)\n",
            "Collecting emoji\n",
            "  Downloading emoji-1.6.1.tar.gz (170 kB)\n",
            "\u001b[K     |████████████████████████████████| 170 kB 55.2 MB/s \n",
            "\u001b[?25hRequirement already satisfied: typing-extensions in /usr/local/lib/python3.7/dist-packages (from torch>=1.3.0->stanza) (3.10.0.2)\n",
            "Requirement already satisfied: certifi>=2017.4.17 in /usr/local/lib/python3.7/dist-packages (from requests->stanza) (2021.10.8)\n",
            "Requirement already satisfied: chardet<4,>=3.0.2 in /usr/local/lib/python3.7/dist-packages (from requests->stanza) (3.0.4)\n",
            "Requirement already satisfied: idna<3,>=2.5 in /usr/local/lib/python3.7/dist-packages (from requests->stanza) (2.10)\n",
            "Requirement already satisfied: urllib3!=1.25.0,!=1.25.1,<1.26,>=1.21.1 in /usr/local/lib/python3.7/dist-packages (from requests->stanza) (1.24.3)\n",
            "Building wheels for collected packages: emoji\n",
            "  Building wheel for emoji (setup.py) ... \u001b[?25l\u001b[?25hdone\n",
            "  Created wheel for emoji: filename=emoji-1.6.1-py3-none-any.whl size=169314 sha256=5507c13df071372b53f713541056111d8f7635b09ba06b54e595a73c3d255f9e\n",
            "  Stored in directory: /root/.cache/pip/wheels/ea/5f/d3/03d313ddb3c2a1a427bb4690f1621eea60fe6f2a30cc95940f\n",
            "Successfully built emoji\n",
            "Installing collected packages: emoji, stanza\n",
            "Successfully installed emoji-1.6.1 stanza-1.3.0\n"
          ]
        }
      ]
    },
    {
      "cell_type": "code",
      "metadata": {
        "colab": {
          "base_uri": "https://localhost:8080/",
          "height": 247,
          "referenced_widgets": [
            "cbdb0bf03bf4403a821bfd30d443ed88",
            "7e9239b6167444a6bdce9e44bed16a9b",
            "5c6370e188e44e88a63d127408fb5706",
            "8a569e32e17a41318db31cf5de2d999c",
            "c62acd5957764a1186e25f62a9f6e59a",
            "cca04135144f46ce98d1283384ed94c2",
            "7d04da7076334de694b02280f8b794b6",
            "3d8157814686492b88d9e3d114105f2a",
            "8d452d8c3d904fb28c55a3ff53b902c7",
            "bd9774a7755c4a3f913cfbff64613ee4",
            "301e5d9c38a4451a81d7db163f1a3bda",
            "eab491056ac845e18139f185a1b46401",
            "a074bd615d1440528182cbba4a64b152",
            "2040bcd9e3334a31b2334d4291df310d",
            "64e1cd8d73f64267bfaa9bf3960c7737",
            "792adbee075147928e7df646aec20784",
            "5561800df2124233a1a727b14e3a6c66",
            "b2edd1eb0859491cb81f6735edfdf3a8",
            "752982258e634f51b0ceff2b1dd1ecee",
            "f42d43448ed4438cb6ce6af2a85cc419",
            "b0b8c57b3f664392af8bca04138e83cd",
            "dbb89c917a844acfb11841c6a840567a"
          ]
        },
        "id": "0iogFaosb7mu",
        "outputId": "5685bb83-6b08-43a3-dd23-328e7ed8720f"
      },
      "source": [
        "import stanza\n",
        "stanza.download('en')"
      ],
      "execution_count": 3,
      "outputs": [
        {
          "output_type": "display_data",
          "data": {
            "application/vnd.jupyter.widget-view+json": {
              "model_id": "cbdb0bf03bf4403a821bfd30d443ed88",
              "version_minor": 0,
              "version_major": 2
            },
            "text/plain": [
              "Downloading https://raw.githubusercontent.com/stanfordnlp/stanza-resources/main/resources_1.3.0.json:   0%|   …"
            ]
          },
          "metadata": {}
        },
        {
          "output_type": "stream",
          "name": "stderr",
          "text": [
            "2021-11-27 08:08:41 INFO: Downloading default packages for language: en (English)...\n"
          ]
        },
        {
          "output_type": "display_data",
          "data": {
            "application/vnd.jupyter.widget-view+json": {
              "model_id": "eab491056ac845e18139f185a1b46401",
              "version_minor": 0,
              "version_major": 2
            },
            "text/plain": [
              "Downloading https://huggingface.co/stanfordnlp/stanza-en/resolve/v1.3.0/models/default.zip:   0%|          | 0…"
            ]
          },
          "metadata": {}
        },
        {
          "output_type": "stream",
          "name": "stderr",
          "text": [
            "2021-11-27 08:09:19 INFO: Finished downloading models and saved to /root/stanza_resources.\n"
          ]
        }
      ]
    },
    {
      "cell_type": "markdown",
      "metadata": {
        "id": "VOA5w-CdcJ8c"
      },
      "source": [
        "# Load the pipeline\n"
      ]
    },
    {
      "cell_type": "code",
      "metadata": {
        "colab": {
          "base_uri": "https://localhost:8080/"
        },
        "id": "e67JYqIXb8kK",
        "outputId": "6c306cce-5963-4641-c0d8-674d4c1a8ef0"
      },
      "source": [
        "nlp = stanza.Pipeline('en')"
      ],
      "execution_count": 4,
      "outputs": [
        {
          "output_type": "stream",
          "name": "stderr",
          "text": [
            "2021-11-27 08:09:20 INFO: Loading these models for language: en (English):\n",
            "============================\n",
            "| Processor    | Package   |\n",
            "----------------------------\n",
            "| tokenize     | combined  |\n",
            "| pos          | combined  |\n",
            "| lemma        | combined  |\n",
            "| depparse     | combined  |\n",
            "| sentiment    | sstplus   |\n",
            "| constituency | wsj       |\n",
            "| ner          | ontonotes |\n",
            "============================\n",
            "\n",
            "2021-11-27 08:09:20 INFO: Use device: cpu\n",
            "2021-11-27 08:09:20 INFO: Loading: tokenize\n",
            "2021-11-27 08:09:20 INFO: Loading: pos\n",
            "2021-11-27 08:09:20 INFO: Loading: lemma\n",
            "2021-11-27 08:09:20 INFO: Loading: depparse\n",
            "2021-11-27 08:09:21 INFO: Loading: sentiment\n",
            "2021-11-27 08:09:21 INFO: Loading: constituency\n",
            "2021-11-27 08:09:22 INFO: Loading: ner\n",
            "2021-11-27 08:09:22 INFO: Done loading processors!\n"
          ]
        }
      ]
    },
    {
      "cell_type": "markdown",
      "metadata": {
        "id": "6KUwCHzFcMDM"
      },
      "source": [
        "# WORD TOKENIZE\n"
      ]
    },
    {
      "cell_type": "code",
      "metadata": {
        "colab": {
          "base_uri": "https://localhost:8080/"
        },
        "id": "wLvNmqm2cLNa",
        "outputId": "5f21a1c4-c509-4b8e-ad9c-5c5a67cf9d38"
      },
      "source": [
        "import stanza\n",
        "nlp = stanza.Pipeline('en')\n",
        "en_test_= \"Chris Manning teaches at Stanford University. He lives in the Bay Area.\"\n",
        "doc = nlp(en_test_)\n",
        "word_tokens = [token.text for sent in doc.sentences for token in sent.tokens]\n",
        "print (word_tokens)"
      ],
      "execution_count": 5,
      "outputs": [
        {
          "output_type": "stream",
          "name": "stderr",
          "text": [
            "2021-11-27 08:09:22 INFO: Loading these models for language: en (English):\n",
            "============================\n",
            "| Processor    | Package   |\n",
            "----------------------------\n",
            "| tokenize     | combined  |\n",
            "| pos          | combined  |\n",
            "| lemma        | combined  |\n",
            "| depparse     | combined  |\n",
            "| sentiment    | sstplus   |\n",
            "| constituency | wsj       |\n",
            "| ner          | ontonotes |\n",
            "============================\n",
            "\n",
            "2021-11-27 08:09:22 INFO: Use device: cpu\n",
            "2021-11-27 08:09:22 INFO: Loading: tokenize\n",
            "2021-11-27 08:09:22 INFO: Loading: pos\n",
            "2021-11-27 08:09:23 INFO: Loading: lemma\n",
            "2021-11-27 08:09:23 INFO: Loading: depparse\n",
            "2021-11-27 08:09:23 INFO: Loading: sentiment\n",
            "2021-11-27 08:09:24 INFO: Loading: constituency\n",
            "2021-11-27 08:09:24 INFO: Loading: ner\n",
            "2021-11-27 08:09:25 INFO: Done loading processors!\n"
          ]
        },
        {
          "output_type": "stream",
          "name": "stdout",
          "text": [
            "['Chris', 'Manning', 'teaches', 'at', 'Stanford', 'University', '.', 'He', 'lives', 'in', 'the', 'Bay', 'Area', '.']\n"
          ]
        }
      ]
    },
    {
      "cell_type": "markdown",
      "metadata": {
        "id": "KzF6qXHrcOSK"
      },
      "source": [
        "# SENTENCE TOKENIZE\n"
      ]
    },
    {
      "cell_type": "code",
      "metadata": {
        "colab": {
          "base_uri": "https://localhost:8080/"
        },
        "id": "3ZYTIwrOcNRK",
        "outputId": "33f839f2-d94d-44ee-b2b4-a77a5d3e59a6"
      },
      "source": [
        "import stanza\n",
        "nlp = stanza.Pipeline('en')\n",
        "en_test_= \"Chris Manning teaches at Stanford University. He lives in the Bay Area.\"\n",
        "doc = nlp(en_test_)\n",
        "sent_list = [sent.text for sent in doc.sentences]\n",
        "print (sent_list)"
      ],
      "execution_count": 6,
      "outputs": [
        {
          "output_type": "stream",
          "name": "stderr",
          "text": [
            "2021-11-27 08:09:26 INFO: Loading these models for language: en (English):\n",
            "============================\n",
            "| Processor    | Package   |\n",
            "----------------------------\n",
            "| tokenize     | combined  |\n",
            "| pos          | combined  |\n",
            "| lemma        | combined  |\n",
            "| depparse     | combined  |\n",
            "| sentiment    | sstplus   |\n",
            "| constituency | wsj       |\n",
            "| ner          | ontonotes |\n",
            "============================\n",
            "\n",
            "2021-11-27 08:09:26 INFO: Use device: cpu\n",
            "2021-11-27 08:09:26 INFO: Loading: tokenize\n",
            "2021-11-27 08:09:26 INFO: Loading: pos\n",
            "2021-11-27 08:09:26 INFO: Loading: lemma\n",
            "2021-11-27 08:09:26 INFO: Loading: depparse\n",
            "2021-11-27 08:09:26 INFO: Loading: sentiment\n",
            "2021-11-27 08:09:27 INFO: Loading: constituency\n",
            "2021-11-27 08:09:28 INFO: Loading: ner\n",
            "2021-11-27 08:09:28 INFO: Done loading processors!\n"
          ]
        },
        {
          "output_type": "stream",
          "name": "stdout",
          "text": [
            "['Chris Manning teaches at Stanford University.', 'He lives in the Bay Area.']\n"
          ]
        }
      ]
    },
    {
      "cell_type": "markdown",
      "metadata": {
        "id": "kmC3vFA_cR7X"
      },
      "source": [
        "# Lemma\n"
      ]
    },
    {
      "cell_type": "code",
      "metadata": {
        "colab": {
          "base_uri": "https://localhost:8080/"
        },
        "id": "Ok4JGRFdcPkB",
        "outputId": "b1b85f98-bf4c-49e8-e8ef-aa60b8a4c622"
      },
      "source": [
        "import stanza\n",
        "nlp = stanza.Pipeline('en', processors='tokenize,pos')\n",
        "en_test_= \"Chris Manning teaches at Stanford University. He lives in the Bay Area.\"\n",
        "doc = nlp(en_test_)\n",
        "sent_list = [sent.text for sent in doc.sentences]\n",
        "print([f'{word.text}_{word.xpos}' for sent in doc.sentences for word in sent.words])"
      ],
      "execution_count": 7,
      "outputs": [
        {
          "output_type": "stream",
          "name": "stderr",
          "text": [
            "2021-11-27 08:09:38 INFO: Loading these models for language: en (English):\n",
            "========================\n",
            "| Processor | Package  |\n",
            "------------------------\n",
            "| tokenize  | combined |\n",
            "| pos       | combined |\n",
            "========================\n",
            "\n",
            "2021-11-27 08:09:38 INFO: Use device: cpu\n",
            "2021-11-27 08:09:38 INFO: Loading: tokenize\n",
            "2021-11-27 08:09:38 INFO: Loading: pos\n",
            "2021-11-27 08:09:38 INFO: Done loading processors!\n"
          ]
        },
        {
          "output_type": "stream",
          "name": "stdout",
          "text": [
            "['Chris_NNP', 'Manning_NNP', 'teaches_VBZ', 'at_IN', 'Stanford_NNP', 'University_NNP', '._.', 'He_PRP', 'lives_VBZ', 'in_IN', 'the_DT', 'Bay_NNP', 'Area_NNP', '._.']\n"
          ]
        }
      ]
    },
    {
      "cell_type": "markdown",
      "metadata": {
        "id": "GwNc0VE_cVoz"
      },
      "source": [
        "# NER\n"
      ]
    },
    {
      "cell_type": "code",
      "metadata": {
        "colab": {
          "base_uri": "https://localhost:8080/"
        },
        "id": "WP-8c6UecUt9",
        "outputId": "59c05540-8ab6-4569-c800-3237087f2ccd"
      },
      "source": [
        "import stanza\n",
        "nlp = stanza.Pipeline('en', processors='tokenize,ner')\n",
        "en_test_= \"Chris Manning teaches at Stanford University. He lives in the Bay Area.\"\n",
        "doc = nlp(en_test_)\n",
        "sent_list = [sent.text for sent in doc.sentences]\n",
        "print(*[f'{token.text}_{token.ner}' for sent in doc.sentences for token in sent.tokens])"
      ],
      "execution_count": 8,
      "outputs": [
        {
          "output_type": "stream",
          "name": "stderr",
          "text": [
            "2021-11-27 08:09:47 INFO: Loading these models for language: en (English):\n",
            "=========================\n",
            "| Processor | Package   |\n",
            "-------------------------\n",
            "| tokenize  | combined  |\n",
            "| ner       | ontonotes |\n",
            "=========================\n",
            "\n",
            "2021-11-27 08:09:47 INFO: Use device: cpu\n",
            "2021-11-27 08:09:47 INFO: Loading: tokenize\n",
            "2021-11-27 08:09:47 INFO: Loading: ner\n",
            "2021-11-27 08:09:47 INFO: Done loading processors!\n"
          ]
        },
        {
          "output_type": "stream",
          "name": "stdout",
          "text": [
            "Chris_B-PERSON Manning_E-PERSON teaches_O at_O Stanford_B-ORG University_E-ORG ._O He_O lives_O in_O the_B-LOC Bay_I-LOC Area_E-LOC ._O\n"
          ]
        }
      ]
    },
    {
      "cell_type": "markdown",
      "metadata": {
        "id": "eI_NtfsdcYWw"
      },
      "source": [
        "# WORD FEATURES\n"
      ]
    },
    {
      "cell_type": "code",
      "metadata": {
        "id": "jKiq9XUrcXC4",
        "outputId": "620e6227-799c-4c18-ef44-617a40a61ae1",
        "colab": {
          "base_uri": "https://localhost:8080/"
        }
      },
      "source": [
        "import stanza\n",
        "nlp = stanza.Pipeline('en', processors='tokenize,mwt,pos')\n",
        "en_test_= \"Chris Manning teaches at Stanford University. He lives in the Bay Area.\"\n",
        "doc = nlp(en_test_)\n",
        "print(*[f'WORD: {word.text}\\tPOS: {word.upos}\\tfeats: {word.feats if word.feats else \"_\"}' for sent in doc.sentences for word in sent.words], sep='\\n')"
      ],
      "execution_count": 9,
      "outputs": [
        {
          "output_type": "stream",
          "name": "stderr",
          "text": [
            "2021-11-27 08:09:58 WARNING: Can not find mwt: default from official model list. Ignoring it.\n",
            "2021-11-27 08:09:58 INFO: Loading these models for language: en (English):\n",
            "========================\n",
            "| Processor | Package  |\n",
            "------------------------\n",
            "| tokenize  | combined |\n",
            "| pos       | combined |\n",
            "========================\n",
            "\n",
            "2021-11-27 08:09:58 INFO: Use device: cpu\n",
            "2021-11-27 08:09:58 INFO: Loading: tokenize\n",
            "2021-11-27 08:09:58 INFO: Loading: pos\n",
            "2021-11-27 08:09:58 INFO: Done loading processors!\n"
          ]
        },
        {
          "output_type": "stream",
          "name": "stdout",
          "text": [
            "WORD: Chris\tPOS: PROPN\tfeats: Number=Sing\n",
            "WORD: Manning\tPOS: PROPN\tfeats: Number=Sing\n",
            "WORD: teaches\tPOS: VERB\tfeats: Mood=Ind|Number=Sing|Person=3|Tense=Pres|VerbForm=Fin\n",
            "WORD: at\tPOS: ADP\tfeats: _\n",
            "WORD: Stanford\tPOS: PROPN\tfeats: Number=Sing\n",
            "WORD: University\tPOS: PROPN\tfeats: Number=Sing\n",
            "WORD: .\tPOS: PUNCT\tfeats: _\n",
            "WORD: He\tPOS: PRON\tfeats: Case=Nom|Gender=Masc|Number=Sing|Person=3|PronType=Prs\n",
            "WORD: lives\tPOS: VERB\tfeats: Mood=Ind|Number=Sing|Person=3|Tense=Pres|VerbForm=Fin\n",
            "WORD: in\tPOS: ADP\tfeats: _\n",
            "WORD: the\tPOS: DET\tfeats: Definite=Def|PronType=Art\n",
            "WORD: Bay\tPOS: PROPN\tfeats: Number=Sing\n",
            "WORD: Area\tPOS: PROPN\tfeats: Number=Sing\n",
            "WORD: .\tPOS: PUNCT\tfeats: _\n"
          ]
        }
      ]
    }
  ]
}