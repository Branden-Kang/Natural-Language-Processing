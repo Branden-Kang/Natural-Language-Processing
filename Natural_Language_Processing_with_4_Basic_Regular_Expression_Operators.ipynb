{
  "nbformat": 4,
  "nbformat_minor": 0,
  "metadata": {
    "colab": {
      "name": "Natural Language Processing with 4 Basic Regular Expression Operators.ipynb",
      "provenance": [],
      "authorship_tag": "ABX9TyNTLNfBJNwNVQ1VT6NPCfoz"
    },
    "kernelspec": {
      "name": "python3",
      "display_name": "Python 3"
    }
  },
  "cells": [
    {
      "cell_type": "markdown",
      "metadata": {
        "id": "0k4oeEFnRas3"
      },
      "source": [
        "[Reference](https://towardsdatascience.com/natural-language-processing-made-simpler-with-4-basic-regular-expression-operators-5002342cbac1)"
      ]
    },
    {
      "cell_type": "code",
      "metadata": {
        "id": "RWGEf_ghRLC8"
      },
      "source": [
        "import re"
      ],
      "execution_count": 1,
      "outputs": []
    },
    {
      "cell_type": "code",
      "metadata": {
        "id": "AZHecombRcbR"
      },
      "source": [
        "sentence = \"Machine Learning is fun. Deep learning is awesome. Artificial Intelligence: is it the future?\""
      ],
      "execution_count": 2,
      "outputs": []
    },
    {
      "cell_type": "code",
      "metadata": {
        "colab": {
          "base_uri": "https://localhost:8080/"
        },
        "id": "qYaWvmocRjsx",
        "outputId": "82d22afd-71ef-4cd9-9409-f6624ee160bb"
      },
      "source": [
        "capital = re.findall(\"[A-Z]\\w+\", sentence)\n",
        "print(capital)"
      ],
      "execution_count": 3,
      "outputs": [
        {
          "output_type": "stream",
          "text": [
            "['Machine', 'Learning', 'Deep', 'Artificial', 'Intelligence']\n"
          ],
          "name": "stdout"
        }
      ]
    },
    {
      "cell_type": "code",
      "metadata": {
        "colab": {
          "base_uri": "https://localhost:8080/"
        },
        "id": "mI0vqa8JRk2t",
        "outputId": "ec5b686d-c1e7-444f-9d32-995707e0fd7a"
      },
      "source": [
        "len(re.findall(\"[.]\", sentence))"
      ],
      "execution_count": 5,
      "outputs": [
        {
          "output_type": "execute_result",
          "data": {
            "text/plain": [
              "2"
            ]
          },
          "metadata": {
            "tags": []
          },
          "execution_count": 5
        }
      ]
    },
    {
      "cell_type": "code",
      "metadata": {
        "colab": {
          "base_uri": "https://localhost:8080/"
        },
        "id": "cCg87-IqRm52",
        "outputId": "c7a35dc1-b51f-48cb-f058-4ad45f5eb62d"
      },
      "source": [
        "len(re.findall(\"\\.\", sentence))"
      ],
      "execution_count": 6,
      "outputs": [
        {
          "output_type": "execute_result",
          "data": {
            "text/plain": [
              "2"
            ]
          },
          "metadata": {
            "tags": []
          },
          "execution_count": 6
        }
      ]
    },
    {
      "cell_type": "code",
      "metadata": {
        "colab": {
          "base_uri": "https://localhost:8080/"
        },
        "id": "CHR0V7FQRnkx",
        "outputId": "e957a930-a233-4019-a9d0-8a38d8a73418"
      },
      "source": [
        "re.split(\"\\.\", sentence)"
      ],
      "execution_count": 7,
      "outputs": [
        {
          "output_type": "execute_result",
          "data": {
            "text/plain": [
              "['Machine Learning is fun',\n",
              " ' Deep learning is awesome',\n",
              " ' Artificial Intelligence: is it the future?']"
            ]
          },
          "metadata": {
            "tags": []
          },
          "execution_count": 7
        }
      ]
    },
    {
      "cell_type": "code",
      "metadata": {
        "colab": {
          "base_uri": "https://localhost:8080/"
        },
        "id": "XMDos-c9RorY",
        "outputId": "3341f55e-356a-4019-af35-1de9efc02235"
      },
      "source": [
        "re.split(\"[.?]\", sentence)"
      ],
      "execution_count": 8,
      "outputs": [
        {
          "output_type": "execute_result",
          "data": {
            "text/plain": [
              "['Machine Learning is fun',\n",
              " ' Deep learning is awesome',\n",
              " ' Artificial Intelligence: is it the future',\n",
              " '']"
            ]
          },
          "metadata": {
            "tags": []
          },
          "execution_count": 8
        }
      ]
    },
    {
      "cell_type": "code",
      "metadata": {
        "colab": {
          "base_uri": "https://localhost:8080/",
          "height": 54
        },
        "id": "gsLUGFBTRqOU",
        "outputId": "30347176-1180-4452-b0f5-6b1228aa84c1"
      },
      "source": [
        "re.sub(\"[.?]\", '!', sentence)"
      ],
      "execution_count": 9,
      "outputs": [
        {
          "output_type": "execute_result",
          "data": {
            "application/vnd.google.colaboratory.intrinsic+json": {
              "type": "string"
            },
            "text/plain": [
              "'Machine Learning is fun! Deep learning is awesome! Artificial Intelligence: is it the future!'"
            ]
          },
          "metadata": {
            "tags": []
          },
          "execution_count": 9
        }
      ]
    },
    {
      "cell_type": "code",
      "metadata": {
        "colab": {
          "base_uri": "https://localhost:8080/"
        },
        "id": "t3h77ULmRr-i",
        "outputId": "bafddd1a-dcd6-453f-a355-a9e500232dfe"
      },
      "source": [
        "x = re.search(\"fun.\", sentence)\n",
        "print(x.start())\n",
        "print(x.end())"
      ],
      "execution_count": 10,
      "outputs": [
        {
          "output_type": "stream",
          "text": [
            "20\n",
            "24\n"
          ],
          "name": "stdout"
        }
      ]
    }
  ]
}