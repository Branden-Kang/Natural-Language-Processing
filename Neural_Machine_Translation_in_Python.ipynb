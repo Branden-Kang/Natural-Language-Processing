{
  "nbformat": 4,
  "nbformat_minor": 0,
  "metadata": {
    "colab": {
      "name": "Neural Machine Translation in Python.ipynb",
      "provenance": [],
      "authorship_tag": "ABX9TyONPLsPKiwh3DQLne60I7VP"
    },
    "kernelspec": {
      "name": "python3",
      "display_name": "Python 3"
    }
  },
  "cells": [
    {
      "cell_type": "markdown",
      "metadata": {
        "id": "9qWhLCdvPqEi"
      },
      "source": [
        "[Reference](https://medium.com/analytics-vidhya/a-must-read-nlp-tutorial-on-neural-machine-translation-the-technique-powering-google-translate-c5c8d97d7587)"
      ]
    },
    {
      "cell_type": "code",
      "metadata": {
        "id": "y0hwS3v9PpjM",
        "outputId": "d33eac3d-3819-4105-8631-d1c45964bb5b",
        "colab": {
          "base_uri": "https://localhost:8080/",
          "height": 68
        }
      },
      "source": [
        "import os\n",
        "from google.colab import drive\n",
        "drive.mount('/content/gdrive')\n",
        "!pwd\n",
        "os.chdir('gdrive/My Drive/Medium')\n",
        "!pwd"
      ],
      "execution_count": 2,
      "outputs": [
        {
          "output_type": "stream",
          "text": [
            "Mounted at /content/gdrive\n",
            "/content\n",
            "/content/gdrive/My Drive/Medium\n"
          ],
          "name": "stdout"
        }
      ]
    },
    {
      "cell_type": "markdown",
      "metadata": {
        "id": "jX9Nb9gsS0Ra"
      },
      "source": [
        "The dataset can be found [here](www.manythings.org/anki/)"
      ]
    },
    {
      "cell_type": "code",
      "metadata": {
        "id": "3sKdhCPcSg4F"
      },
      "source": [
        "import string \n",
        "import re \n",
        "from numpy import array, argmax, random, take \n",
        "import pandas as pd \n",
        "from keras.models import Sequential \n",
        "from keras.layers import Dense, LSTM, Embedding, RepeatVector\n",
        "from keras.preprocessing.text import Tokenizer\n",
        "from keras.callbacks import ModelCheckpoint \n",
        "from keras.preprocessing.sequence import pad_sequences\n",
        "from keras.models import load_model \n",
        "from keras import optimizers \n",
        "import matplotlib.pyplot as plt \n",
        "% matplotlib inline \n",
        "pd.set_option('display.max_colwidth', 200)"
      ],
      "execution_count": 3,
      "outputs": []
    },
    {
      "cell_type": "code",
      "metadata": {
        "id": "fQHusbnYS6op"
      },
      "source": [
        "# function to read raw text file\n",
        "def read_text(filename): \n",
        "        # open the file \n",
        "        file = open(filename, mode='rt', encoding='utf-8') \n",
        "        \n",
        "        # read all text \n",
        "        text = file.read() \n",
        "        file.close() \n",
        "        return text"
      ],
      "execution_count": 4,
      "outputs": []
    },
    {
      "cell_type": "code",
      "metadata": {
        "id": "hb0JnzP7S8hF"
      },
      "source": [
        "# split text into sentences \n",
        "def to_lines(text): \n",
        "      sents = text.strip().split('\\n') \n",
        "      sents = [i.split('\\t') for i in sents] \n",
        "      return sents"
      ],
      "execution_count": 5,
      "outputs": []
    },
    {
      "cell_type": "code",
      "metadata": {
        "id": "kp0OtvXrS9g_",
        "outputId": "7fdd926f-bd81-4e1b-9ead-d253170bc7eb",
        "colab": {
          "base_uri": "https://localhost:8080/",
          "height": 479
        }
      },
      "source": [
        "data = read_text(\"deu.txt\")\n",
        "print(data)\n",
        "deu_eng = to_lines(data) \n",
        "print(deu_eng)\n",
        "deu_eng = array(deu_eng)\n",
        "print(deu_eng)"
      ],
      "execution_count": 6,
      "outputs": [
        {
          "output_type": "stream",
          "text": [
            "IOPub data rate exceeded.\n",
            "The notebook server will temporarily stop sending output\n",
            "to the client in order to avoid crashing it.\n",
            "To change this limit, set the config variable\n",
            "`--NotebookApp.iopub_data_rate_limit`.\n",
            "\n",
            "Current values:\n",
            "NotebookApp.iopub_data_rate_limit=1000000.0 (bytes/sec)\n",
            "NotebookApp.rate_limit_window=3.0 (secs)\n",
            "\n"
          ],
          "name": "stderr"
        },
        {
          "output_type": "stream",
          "text": [
            "[['Go.' 'Geh.'\n",
            "  'CC-BY 2.0 (France) Attribution: tatoeba.org #2877272 (CM) & #8597805 (Roujin)']\n",
            " ['Hi.' 'Hallo!'\n",
            "  'CC-BY 2.0 (France) Attribution: tatoeba.org #538123 (CM) & #380701 (cburgmer)']\n",
            " ['Hi.' 'Grüß Gott!'\n",
            "  'CC-BY 2.0 (France) Attribution: tatoeba.org #538123 (CM) & #659813 (Esperantostern)']\n",
            " ...\n",
            " [\"If someone who doesn't know your background says that you sound like a native speaker, it means they probably noticed something about your speaking that made them realize you weren't a native speaker. In other words, you don't really sound like a native speaker.\"\n",
            "  'Wenn jemand Fremdes dir sagt, dass du dich wie ein Muttersprachler anhörst, bedeutet das wahrscheinlich: Er hat etwas an deinem Sprechen bemerkt, dass dich als Nicht-Muttersprachler verraten hat. Mit anderen Worten: Du hörst dich nicht wirklich wie ein Muttersprachler an.'\n",
            "  'CC-BY 2.0 (France) Attribution: tatoeba.org #953936 (CK) & #3807493 (Tickler)']\n",
            " [\"If someone who doesn't know your background says that you sound like a native speaker, it means they probably noticed something about your speaking that made them realize you weren't a native speaker. In other words, you don't really sound like a native speaker.\"\n",
            "  'Wenn jemand, der nicht weiß, woher man kommt, sagt, man erwecke doch den Eindruck, Muttersprachler zu sein, so hat man Grund zu der Annahme, dass ihm an der Sprache irgendetwas aufgefallen ist, woran er erkannt hat, dass man eben keiner ist\\xa0– dass man diesen Eindruck mit anderen Worten eigentlich nicht erweckt.'\n",
            "  'CC-BY 2.0 (France) Attribution: tatoeba.org #953936 (CK) & #8836704 (Pfirsichbaeumchen)']\n",
            " ['Doubtless there exists in this world precisely the right woman for any given man to marry and vice versa; but when you consider that a human being has the opportunity of being acquainted with only a few hundred people, and out of the few hundred that there are but a dozen or less whom he knows intimately, and out of the dozen, one or two friends at most, it will easily be seen, when we remember the number of millions who inhabit this world, that probably, since the earth was created, the right man has never yet met the right woman.'\n",
            "  'Ohne Zweifel findet sich auf dieser Welt zu jedem Mann genau die richtige Ehefrau und umgekehrt; wenn man jedoch in Betracht zieht, dass ein Mensch nur Gelegenheit hat, mit ein paar hundert anderen bekannt zu sein, von denen ihm nur ein Dutzend oder weniger nahesteht, darunter höchstens ein oder zwei Freunde, dann erahnt man eingedenk der Millionen Einwohner dieser Welt\\xa0leicht, dass seit Erschaffung ebenderselben wohl noch nie der richtige Mann der richtigen Frau begegnet ist.'\n",
            "  'CC-BY 2.0 (France) Attribution: tatoeba.org #7697649 (RM) & #7729416 (Pfirsichbaeumchen)']]\n"
          ],
          "name": "stdout"
        }
      ]
    },
    {
      "cell_type": "code",
      "metadata": {
        "id": "yIOJmmc2TBx8"
      },
      "source": [
        "# To run fast, I will use only first 50,000 sentences.\n",
        "deu_eng = deu_eng[:50000,:]"
      ],
      "execution_count": 8,
      "outputs": []
    },
    {
      "cell_type": "code",
      "metadata": {
        "id": "ywGEitaOTEgB",
        "outputId": "948abf9f-7a00-4dbd-bede-59b9c4b8728a",
        "colab": {
          "base_uri": "https://localhost:8080/",
          "height": 275
        }
      },
      "source": [
        "deu_eng"
      ],
      "execution_count": 9,
      "outputs": [
        {
          "output_type": "execute_result",
          "data": {
            "text/plain": [
              "array([['Go.', 'Geh.',\n",
              "        'CC-BY 2.0 (France) Attribution: tatoeba.org #2877272 (CM) & #8597805 (Roujin)'],\n",
              "       ['Hi.', 'Hallo!',\n",
              "        'CC-BY 2.0 (France) Attribution: tatoeba.org #538123 (CM) & #380701 (cburgmer)'],\n",
              "       ['Hi.', 'Grüß Gott!',\n",
              "        'CC-BY 2.0 (France) Attribution: tatoeba.org #538123 (CM) & #659813 (Esperantostern)'],\n",
              "       ...,\n",
              "       ['No one encouraged her.', 'Niemand ermutigte sie.',\n",
              "        'CC-BY 2.0 (France) Attribution: tatoeba.org #40334 (Swift) & #370461 (Wolf)'],\n",
              "       ['No one has that right.', 'Niemand hat dieses Recht.',\n",
              "        'CC-BY 2.0 (France) Attribution: tatoeba.org #2891740 (CK) & #6176735 (sprachensprech)'],\n",
              "       ['No one has that right.', 'Dieses Recht hat niemand.',\n",
              "        'CC-BY 2.0 (France) Attribution: tatoeba.org #2891740 (CK) & #6176738 (sprachensprech)']],\n",
              "      dtype='<U537')"
            ]
          },
          "metadata": {
            "tags": []
          },
          "execution_count": 9
        }
      ]
    },
    {
      "cell_type": "markdown",
      "metadata": {
        "id": "FUn3n9UBTS7F"
      },
      "source": [
        "# Text preprocessing"
      ]
    },
    {
      "cell_type": "code",
      "metadata": {
        "id": "esx0GRwpTPO_"
      },
      "source": [
        "# Remove punctuation \n",
        "deu_eng[:,0] = [s.translate(str.maketrans('', '', string.punctuation)) for s in deu_eng[:,0]] \n",
        "deu_eng[:,1] = [s.translate(str.maketrans('', '', string.punctuation)) for s in deu_eng[:,1]] \n",
        "\n",
        "# convert text to lowercase \n",
        "for i in range(len(deu_eng)): \n",
        "    deu_eng[i,0] = deu_eng[i,0].lower() \n",
        "    deu_eng[i,1] = deu_eng[i,1].lower()"
      ],
      "execution_count": 10,
      "outputs": []
    },
    {
      "cell_type": "code",
      "metadata": {
        "id": "2U8QkY9lTUpc",
        "outputId": "8d17166d-b35c-4f9b-f63c-d42558cedc80",
        "colab": {
          "base_uri": "https://localhost:8080/",
          "height": 281
        }
      },
      "source": [
        "# empty lists \n",
        "eng_l = [] \n",
        "deu_l = [] \n",
        "\n",
        "# populate the lists with sentence lengths \n",
        "for i in deu_eng[:,0]: \n",
        "      eng_l.append(len(i.split())) \n",
        "\n",
        "for i in deu_eng[:,1]: \n",
        "      deu_l.append(len(i.split())) \n",
        "\n",
        "length_df = pd.DataFrame({'eng':eng_l, 'deu':deu_l}) \n",
        "length_df.hist(bins = 30) \n",
        "plt.show()"
      ],
      "execution_count": 12,
      "outputs": [
        {
          "output_type": "display_data",
          "data": {
            "image/png": "[encoded data removed]",
            "text/plain": [
              "<Figure size 432x288 with 2 Axes>"
            ]
          },
          "metadata": {
            "tags": [],
            "needs_background": "light"
          }
        }
      ]
    },
    {
      "cell_type": "code",
      "metadata": {
        "id": "xI2y-g8uTWsB",
        "outputId": "495b038d-6070-489f-eb3c-079c7a500f80",
        "colab": {
          "base_uri": "https://localhost:8080/",
          "height": 34
        }
      },
      "source": [
        "# function to build a tokenizer \n",
        "def tokenization(lines): \n",
        "      tokenizer = Tokenizer() \n",
        "      tokenizer.fit_on_texts(lines) \n",
        "      return tokenizer\n",
        "\n",
        "# prepare english tokenizer \n",
        "eng_tokenizer = tokenization(deu_eng[:, 0]) \n",
        "eng_vocab_size = len(eng_tokenizer.word_index) + 1 \n",
        "eng_length = 8 \n",
        "\n",
        "print('English Vocabulary Size: %d' % eng_vocab_size)\n",
        "\n",
        "# prepare Deutch tokenizer \n",
        "deu_tokenizer = tokenization(deu_eng[:, 1]) \n",
        "deu_vocab_size = len(deu_tokenizer.word_index) + 1 \n",
        "deu_length = 8 \n",
        "\n",
        "print('Deutch Vocabulary Size: %d' % deu_vocab_size)"
      ],
      "execution_count": 13,
      "outputs": [
        {
          "output_type": "stream",
          "text": [
            "Deutch Vocabulary Size: 10329\n"
          ],
          "name": "stdout"
        }
      ]
    },
    {
      "cell_type": "code",
      "metadata": {
        "id": "u7nDr8g0TbA0"
      },
      "source": [
        "# encode and pad sequences \n",
        "def encode_sequences(tokenizer, length, lines):          \n",
        "         # integer encode sequences          \n",
        "         seq = tokenizer.texts_to_sequences(lines)          \n",
        "         # pad sequences with 0 values          \n",
        "         seq = pad_sequences(seq, maxlen=length, padding='post')           \n",
        "         return seq"
      ],
      "execution_count": 14,
      "outputs": []
    },
    {
      "cell_type": "markdown",
      "metadata": {
        "id": "9oB231JjTePz"
      },
      "source": [
        "# Building the model"
      ]
    },
    {
      "cell_type": "code",
      "metadata": {
        "id": "Uk6VT_WbTdem"
      },
      "source": [
        "from sklearn.model_selection import train_test_split \n",
        "\n",
        "# split data into train and test set \n",
        "train,test= train_test_split(deu_eng,test_size=0.2,random_state= 12)"
      ],
      "execution_count": 15,
      "outputs": []
    },
    {
      "cell_type": "markdown",
      "metadata": {
        "id": "iHGCOCTbTi3f"
      },
      "source": [
        "German will be the input and English should be the target."
      ]
    },
    {
      "cell_type": "code",
      "metadata": {
        "id": "7QEd3HygTglT"
      },
      "source": [
        "# prepare training data \n",
        "trainX = encode_sequences(deu_tokenizer, deu_length, train[:, 1]) \n",
        "trainY = encode_sequences(eng_tokenizer, eng_length, train[:, 0]) \n",
        "\n",
        "# prepare validation data \n",
        "testX = encode_sequences(deu_tokenizer, deu_length, test[:, 1]) \n",
        "testY = encode_sequences(eng_tokenizer, eng_length, test[:, 0])"
      ],
      "execution_count": 16,
      "outputs": []
    },
    {
      "cell_type": "code",
      "metadata": {
        "id": "7fOGmoe_Tn0b"
      },
      "source": [
        "# build NMT model \n",
        "def build_model(in_vocab,out_vocab, in_timesteps,out_timesteps,n):   \n",
        "      model = Sequential() \n",
        "      model.add(Embedding(in_vocab, n, input_length=in_timesteps,   \n",
        "      mask_zero=True)) \n",
        "      model.add(LSTM(n)) \n",
        "      model.add(RepeatVector(out_timesteps)) \n",
        "      model.add(LSTM(n, return_sequences=True))  \n",
        "      model.add(Dense(out_vocab, activation='softmax')) \n",
        "      return model"
      ],
      "execution_count": 17,
      "outputs": []
    },
    {
      "cell_type": "code",
      "metadata": {
        "id": "DhaJpmaSTpQf"
      },
      "source": [
        "# model compilation (with 512 hidden units)\n",
        "model = build_model(deu_vocab_size, eng_vocab_size, deu_length, eng_length, 512)\n",
        "\n",
        "rms = optimizers.RMSprop(lr=0.001) \n",
        "model.compile(optimizer=rms, loss='sparse_categorical_crossentropy')"
      ],
      "execution_count": 18,
      "outputs": []
    },
    {
      "cell_type": "code",
      "metadata": {
        "id": "x2zeqo6mTqgI",
        "outputId": "2d57be18-da8c-4d32-fda5-9e8e2d652d7e",
        "colab": {
          "base_uri": "https://localhost:8080/",
          "height": 1000
        }
      },
      "source": [
        "filename = 'model.h1.24_jan_19' \n",
        "\n",
        "# set checkpoint\n",
        "checkpoint = ModelCheckpoint(filename, monitor='val_loss',  \n",
        "                             verbose=1, save_best_only=True, \n",
        "                             mode='min') \n",
        "\n",
        "\n",
        "# train model \n",
        "history = model.fit(trainX, trainY.reshape(trainY.shape[0], trainY.shape[1], 1), \n",
        "                    epochs=30, batch_size=512, validation_split = 0.2, \n",
        "                    callbacks=[checkpoint], verbose=1)"
      ],
      "execution_count": 19,
      "outputs": [
        {
          "output_type": "stream",
          "text": [
            "Epoch 1/30\n",
            "63/63 [==============================] - ETA: 0s - loss: 3.4087\n",
            "Epoch 00001: val_loss improved from inf to 2.83547, saving model to model.h1.24_jan_19\n",
            "WARNING:tensorflow:From /usr/local/lib/python3.6/dist-packages/tensorflow/python/training/tracking/tracking.py:111: Model.state_updates (from tensorflow.python.keras.engine.training) is deprecated and will be removed in a future version.\n",
            "Instructions for updating:\n",
            "This property should not be used in TensorFlow 2.0, as updates are applied automatically.\n",
            "WARNING:tensorflow:From /usr/local/lib/python3.6/dist-packages/tensorflow/python/training/tracking/tracking.py:111: Layer.updates (from tensorflow.python.keras.engine.base_layer) is deprecated and will be removed in a future version.\n",
            "Instructions for updating:\n",
            "This property should not be used in TensorFlow 2.0, as updates are applied automatically.\n",
            "INFO:tensorflow:Assets written to: model.h1.24_jan_19/assets\n",
            "63/63 [==============================] - 342s 5s/step - loss: 3.4087 - val_loss: 2.8355\n",
            "Epoch 2/30\n",
            "63/63 [==============================] - ETA: 0s - loss: 2.7718\n",
            "Epoch 00002: val_loss improved from 2.83547 to 2.78998, saving model to model.h1.24_jan_19\n",
            "INFO:tensorflow:Assets written to: model.h1.24_jan_19/assets\n",
            "63/63 [==============================] - 340s 5s/step - loss: 2.7718 - val_loss: 2.7900\n",
            "Epoch 3/30\n",
            "63/63 [==============================] - ETA: 0s - loss: 2.6031\n",
            "Epoch 00003: val_loss improved from 2.78998 to 2.54184, saving model to model.h1.24_jan_19\n",
            "INFO:tensorflow:Assets written to: model.h1.24_jan_19/assets\n",
            "63/63 [==============================] - 343s 5s/step - loss: 2.6031 - val_loss: 2.5418\n",
            "Epoch 4/30\n",
            "63/63 [==============================] - ETA: 0s - loss: 2.4184\n",
            "Epoch 00004: val_loss improved from 2.54184 to 2.41565, saving model to model.h1.24_jan_19\n",
            "INFO:tensorflow:Assets written to: model.h1.24_jan_19/assets\n",
            "63/63 [==============================] - 338s 5s/step - loss: 2.4184 - val_loss: 2.4156\n",
            "Epoch 5/30\n",
            "63/63 [==============================] - ETA: 0s - loss: 2.2741\n",
            "Epoch 00005: val_loss improved from 2.41565 to 2.31288, saving model to model.h1.24_jan_19\n",
            "INFO:tensorflow:Assets written to: model.h1.24_jan_19/assets\n",
            "63/63 [==============================] - 340s 5s/step - loss: 2.2741 - val_loss: 2.3129\n",
            "Epoch 6/30\n",
            "63/63 [==============================] - ETA: 0s - loss: 2.1401\n",
            "Epoch 00006: val_loss improved from 2.31288 to 2.21717, saving model to model.h1.24_jan_19\n",
            "INFO:tensorflow:Assets written to: model.h1.24_jan_19/assets\n",
            "63/63 [==============================] - 339s 5s/step - loss: 2.1401 - val_loss: 2.2172\n",
            "Epoch 7/30\n",
            "63/63 [==============================] - ETA: 0s - loss: 2.0182\n",
            "Epoch 00007: val_loss improved from 2.21717 to 2.10928, saving model to model.h1.24_jan_19\n",
            "INFO:tensorflow:Assets written to: model.h1.24_jan_19/assets\n",
            "63/63 [==============================] - 332s 5s/step - loss: 2.0182 - val_loss: 2.1093\n",
            "Epoch 8/30\n",
            "63/63 [==============================] - ETA: 0s - loss: 1.9078\n",
            "Epoch 00008: val_loss improved from 2.10928 to 2.04505, saving model to model.h1.24_jan_19\n",
            "INFO:tensorflow:Assets written to: model.h1.24_jan_19/assets\n",
            "63/63 [==============================] - 331s 5s/step - loss: 1.9078 - val_loss: 2.0451\n",
            "Epoch 9/30\n",
            "63/63 [==============================] - ETA: 0s - loss: 1.8033\n",
            "Epoch 00009: val_loss improved from 2.04505 to 1.96338, saving model to model.h1.24_jan_19\n",
            "INFO:tensorflow:Assets written to: model.h1.24_jan_19/assets\n",
            "63/63 [==============================] - 330s 5s/step - loss: 1.8033 - val_loss: 1.9634\n",
            "Epoch 10/30\n",
            "63/63 [==============================] - ETA: 0s - loss: 1.7031\n",
            "Epoch 00010: val_loss improved from 1.96338 to 1.88493, saving model to model.h1.24_jan_19\n",
            "INFO:tensorflow:Assets written to: model.h1.24_jan_19/assets\n",
            "63/63 [==============================] - 333s 5s/step - loss: 1.7031 - val_loss: 1.8849\n",
            "Epoch 11/30\n",
            "63/63 [==============================] - ETA: 0s - loss: 1.6038\n",
            "Epoch 00011: val_loss improved from 1.88493 to 1.82193, saving model to model.h1.24_jan_19\n",
            "INFO:tensorflow:Assets written to: model.h1.24_jan_19/assets\n",
            "63/63 [==============================] - 336s 5s/step - loss: 1.6038 - val_loss: 1.8219\n",
            "Epoch 12/30\n",
            "63/63 [==============================] - ETA: 0s - loss: 1.5108\n",
            "Epoch 00012: val_loss improved from 1.82193 to 1.77238, saving model to model.h1.24_jan_19\n",
            "INFO:tensorflow:Assets written to: model.h1.24_jan_19/assets\n",
            "63/63 [==============================] - 335s 5s/step - loss: 1.5108 - val_loss: 1.7724\n",
            "Epoch 13/30\n",
            "63/63 [==============================] - ETA: 0s - loss: 1.4202\n",
            "Epoch 00013: val_loss improved from 1.77238 to 1.72184, saving model to model.h1.24_jan_19\n",
            "INFO:tensorflow:Assets written to: model.h1.24_jan_19/assets\n",
            "63/63 [==============================] - 333s 5s/step - loss: 1.4202 - val_loss: 1.7218\n",
            "Epoch 14/30\n",
            "63/63 [==============================] - ETA: 0s - loss: 1.3340\n",
            "Epoch 00014: val_loss improved from 1.72184 to 1.68581, saving model to model.h1.24_jan_19\n",
            "INFO:tensorflow:Assets written to: model.h1.24_jan_19/assets\n",
            "63/63 [==============================] - 336s 5s/step - loss: 1.3340 - val_loss: 1.6858\n",
            "Epoch 15/30\n",
            "63/63 [==============================] - ETA: 0s - loss: 1.2557\n",
            "Epoch 00015: val_loss improved from 1.68581 to 1.62000, saving model to model.h1.24_jan_19\n",
            "INFO:tensorflow:Assets written to: model.h1.24_jan_19/assets\n",
            "63/63 [==============================] - 333s 5s/step - loss: 1.2557 - val_loss: 1.6200\n",
            "Epoch 16/30\n",
            "63/63 [==============================] - ETA: 0s - loss: 1.1762\n",
            "Epoch 00016: val_loss improved from 1.62000 to 1.58580, saving model to model.h1.24_jan_19\n",
            "INFO:tensorflow:Assets written to: model.h1.24_jan_19/assets\n",
            "63/63 [==============================] - 331s 5s/step - loss: 1.1762 - val_loss: 1.5858\n",
            "Epoch 17/30\n",
            "63/63 [==============================] - ETA: 0s - loss: 1.1009\n",
            "Epoch 00017: val_loss improved from 1.58580 to 1.53775, saving model to model.h1.24_jan_19\n",
            "INFO:tensorflow:Assets written to: model.h1.24_jan_19/assets\n",
            "63/63 [==============================] - 334s 5s/step - loss: 1.1009 - val_loss: 1.5377\n",
            "Epoch 18/30\n",
            "63/63 [==============================] - ETA: 0s - loss: 1.0309\n",
            "Epoch 00018: val_loss improved from 1.53775 to 1.51018, saving model to model.h1.24_jan_19\n",
            "INFO:tensorflow:Assets written to: model.h1.24_jan_19/assets\n",
            "63/63 [==============================] - 330s 5s/step - loss: 1.0309 - val_loss: 1.5102\n",
            "Epoch 19/30\n",
            "63/63 [==============================] - ETA: 0s - loss: 0.9614\n",
            "Epoch 00019: val_loss improved from 1.51018 to 1.47885, saving model to model.h1.24_jan_19\n",
            "INFO:tensorflow:Assets written to: model.h1.24_jan_19/assets\n",
            "63/63 [==============================] - 334s 5s/step - loss: 0.9614 - val_loss: 1.4788\n",
            "Epoch 20/30\n",
            "63/63 [==============================] - ETA: 0s - loss: 0.8978\n",
            "Epoch 00020: val_loss improved from 1.47885 to 1.45233, saving model to model.h1.24_jan_19\n",
            "INFO:tensorflow:Assets written to: model.h1.24_jan_19/assets\n",
            "63/63 [==============================] - 332s 5s/step - loss: 0.8978 - val_loss: 1.4523\n",
            "Epoch 21/30\n",
            "63/63 [==============================] - ETA: 0s - loss: 0.8373\n",
            "Epoch 00021: val_loss improved from 1.45233 to 1.42178, saving model to model.h1.24_jan_19\n",
            "INFO:tensorflow:Assets written to: model.h1.24_jan_19/assets\n",
            "63/63 [==============================] - 335s 5s/step - loss: 0.8373 - val_loss: 1.4218\n",
            "Epoch 22/30\n",
            "63/63 [==============================] - ETA: 0s - loss: 0.7761\n",
            "Epoch 00022: val_loss improved from 1.42178 to 1.40291, saving model to model.h1.24_jan_19\n",
            "INFO:tensorflow:Assets written to: model.h1.24_jan_19/assets\n",
            "63/63 [==============================] - 334s 5s/step - loss: 0.7761 - val_loss: 1.4029\n",
            "Epoch 23/30\n",
            "63/63 [==============================] - ETA: 0s - loss: 0.7207\n",
            "Epoch 00023: val_loss improved from 1.40291 to 1.38031, saving model to model.h1.24_jan_19\n",
            "INFO:tensorflow:Assets written to: model.h1.24_jan_19/assets\n",
            "63/63 [==============================] - 334s 5s/step - loss: 0.7207 - val_loss: 1.3803\n",
            "Epoch 24/30\n",
            "63/63 [==============================] - ETA: 0s - loss: 0.6705\n",
            "Epoch 00024: val_loss improved from 1.38031 to 1.35558, saving model to model.h1.24_jan_19\n",
            "INFO:tensorflow:Assets written to: model.h1.24_jan_19/assets\n",
            "63/63 [==============================] - 336s 5s/step - loss: 0.6705 - val_loss: 1.3556\n",
            "Epoch 25/30\n",
            "63/63 [==============================] - ETA: 0s - loss: 0.6167\n",
            "Epoch 00025: val_loss did not improve from 1.35558\n",
            "63/63 [==============================] - 317s 5s/step - loss: 0.6167 - val_loss: 1.3688\n",
            "Epoch 26/30\n",
            "63/63 [==============================] - ETA: 0s - loss: 0.5713\n",
            "Epoch 00026: val_loss improved from 1.35558 to 1.33420, saving model to model.h1.24_jan_19\n",
            "INFO:tensorflow:Assets written to: model.h1.24_jan_19/assets\n",
            "63/63 [==============================] - 333s 5s/step - loss: 0.5713 - val_loss: 1.3342\n",
            "Epoch 27/30\n",
            "63/63 [==============================] - ETA: 0s - loss: 0.5256\n",
            "Epoch 00027: val_loss improved from 1.33420 to 1.32253, saving model to model.h1.24_jan_19\n",
            "INFO:tensorflow:Assets written to: model.h1.24_jan_19/assets\n",
            "63/63 [==============================] - 330s 5s/step - loss: 0.5256 - val_loss: 1.3225\n",
            "Epoch 28/30\n",
            "63/63 [==============================] - ETA: 0s - loss: 0.4846\n",
            "Epoch 00028: val_loss improved from 1.32253 to 1.31574, saving model to model.h1.24_jan_19\n",
            "INFO:tensorflow:Assets written to: model.h1.24_jan_19/assets\n",
            "63/63 [==============================] - 335s 5s/step - loss: 0.4846 - val_loss: 1.3157\n",
            "Epoch 29/30\n",
            "63/63 [==============================] - ETA: 0s - loss: 0.4452\n",
            "Epoch 00029: val_loss improved from 1.31574 to 1.30662, saving model to model.h1.24_jan_19\n",
            "INFO:tensorflow:Assets written to: model.h1.24_jan_19/assets\n",
            "63/63 [==============================] - 330s 5s/step - loss: 0.4452 - val_loss: 1.3066\n",
            "Epoch 30/30\n",
            "63/63 [==============================] - ETA: 0s - loss: 0.4089\n",
            "Epoch 00030: val_loss did not improve from 1.30662\n",
            "63/63 [==============================] - 320s 5s/step - loss: 0.4089 - val_loss: 1.3067\n"
          ],
          "name": "stdout"
        }
      ]
    },
    {
      "cell_type": "code",
      "metadata": {
        "id": "RuwO2GQDTtg_",
        "outputId": "b6e67f28-9b0e-4340-be41-b170afe502c7",
        "colab": {
          "base_uri": "https://localhost:8080/"
        }
      },
      "source": [
        "plt.plot(history.history['loss']) \n",
        "plt.plot(history.history['val_loss']) \n",
        "plt.legend(['train','validation']) \n",
        "plt.show()"
      ],
      "execution_count": 21,
      "outputs": [
        {
          "output_type": "display_data",
          "data": {
            "image/png": "[encoded data removed]",
            "text/plain": [
              "<Figure size 432x288 with 1 Axes>"
            ]
          },
          "metadata": {
            "tags": [],
            "needs_background": "light"
          }
        }
      ]
    },
    {
      "cell_type": "code",
      "metadata": {
        "id": "TbJelxheTvfG",
        "outputId": "2223186a-79d6-48e5-e1ca-3e89df0082f2",
        "colab": {
          "base_uri": "https://localhost:8080/"
        }
      },
      "source": [
        "model = load_model('model.h1.24_jan_19') \n",
        "\n",
        "preds = model.predict_classes(testX.reshape((testX.shape[0], testX.shape[1])))"
      ],
      "execution_count": 22,
      "outputs": [
        {
          "output_type": "stream",
          "text": [
            "WARNING:tensorflow:From <ipython-input-22-4909597a3e44>:3: Sequential.predict_classes (from tensorflow.python.keras.engine.sequential) is deprecated and will be removed after 2021-01-01.\n",
            "Instructions for updating:\n",
            "Please use instead:* `np.argmax(model.predict(x), axis=-1)`,   if your model does multi-class classification   (e.g. if it uses a `softmax` last-layer activation).* `(model.predict(x) > 0.5).astype(\"int32\")`,   if your model does binary classification   (e.g. if it uses a `sigmoid` last-layer activation).\n"
          ],
          "name": "stdout"
        }
      ]
    },
    {
      "cell_type": "code",
      "metadata": {
        "id": "_qprW9DHTwsF"
      },
      "source": [
        "def get_word(n, tokenizer):  \n",
        "      for word, index in tokenizer.word_index.items():                       \n",
        "          if index == n: \n",
        "              return word \n",
        "      return None"
      ],
      "execution_count": 23,
      "outputs": []
    },
    {
      "cell_type": "code",
      "metadata": {
        "id": "mQ7e6WFpTyev"
      },
      "source": [
        "preds_text = [] \n",
        "for i in preds:        \n",
        "       temp = []        \n",
        "       for j in range(len(i)):             \n",
        "            t = get_word(i[j], eng_tokenizer)             \n",
        "            if j > 0:                 \n",
        "                if (t==get_word(i[j-1],eng_tokenizer))or(t== None):                       \n",
        "                     temp.append('')                 \n",
        "                else:                      \n",
        "                     temp.append(t)             \n",
        "            else:                    \n",
        "                if(t == None):                                   \n",
        "                     temp.append('')                    \n",
        "                else:                           \n",
        "                     temp.append(t)        \n",
        "       preds_text.append(' '.join(temp))"
      ],
      "execution_count": 24,
      "outputs": []
    },
    {
      "cell_type": "code",
      "metadata": {
        "id": "Uuxc1VTtT1fB"
      },
      "source": [
        "pred_df = pd.DataFrame({'actual' : test[:,0], 'predicted' : \n",
        "                        preds_text})"
      ],
      "execution_count": 25,
      "outputs": []
    },
    {
      "cell_type": "code",
      "metadata": {
        "id": "9SGhTeQdT2_E",
        "outputId": "a3fc26d1-4c92-49fd-8bda-eaeaa696b3d0",
        "colab": {
          "base_uri": "https://localhost:8080/"
        }
      },
      "source": [
        "# print 15 rows randomly \n",
        "pred_df.sample(15)"
      ],
      "execution_count": 26,
      "outputs": [
        {
          "output_type": "execute_result",
          "data": {
            "text/html": [
              "<div>\n",
              "<style scoped>\n",
              "    .dataframe tbody tr th:only-of-type {\n",
              "        vertical-align: middle;\n",
              "    }\n",
              "\n",
              "    .dataframe tbody tr th {\n",
              "        vertical-align: top;\n",
              "    }\n",
              "\n",
              "    .dataframe thead th {\n",
              "        text-align: right;\n",
              "    }\n",
              "</style>\n",
              "<table border=\"1\" class=\"dataframe\">\n",
              "  <thead>\n",
              "    <tr style=\"text-align: right;\">\n",
              "      <th></th>\n",
              "      <th>actual</th>\n",
              "      <th>predicted</th>\n",
              "    </tr>\n",
              "  </thead>\n",
              "  <tbody>\n",
              "    <tr>\n",
              "      <th>9154</th>\n",
              "      <td>i hope you win</td>\n",
              "      <td>i hope you win</td>\n",
              "    </tr>\n",
              "    <tr>\n",
              "      <th>2744</th>\n",
              "      <td>you missed a lot</td>\n",
              "      <td>you missed a lot</td>\n",
              "    </tr>\n",
              "    <tr>\n",
              "      <th>1100</th>\n",
              "      <td>they said its ok</td>\n",
              "      <td>they said that fine</td>\n",
              "    </tr>\n",
              "    <tr>\n",
              "      <th>8591</th>\n",
              "      <td>he asked after you</td>\n",
              "      <td>he asked after you</td>\n",
              "    </tr>\n",
              "    <tr>\n",
              "      <th>4010</th>\n",
              "      <td>i plan to be there</td>\n",
              "      <td>i worked to be</td>\n",
              "    </tr>\n",
              "    <tr>\n",
              "      <th>4417</th>\n",
              "      <td>i made this chair</td>\n",
              "      <td>i took the</td>\n",
              "    </tr>\n",
              "    <tr>\n",
              "      <th>3920</th>\n",
              "      <td>im very nervous</td>\n",
              "      <td>im very nervous</td>\n",
              "    </tr>\n",
              "    <tr>\n",
              "      <th>9660</th>\n",
              "      <td>i know tom helped you</td>\n",
              "      <td>i know tom likes you</td>\n",
              "    </tr>\n",
              "    <tr>\n",
              "      <th>5165</th>\n",
              "      <td>whats your price</td>\n",
              "      <td>what your good</td>\n",
              "    </tr>\n",
              "    <tr>\n",
              "      <th>3098</th>\n",
              "      <td>i heard the good news</td>\n",
              "      <td>i have the good</td>\n",
              "    </tr>\n",
              "    <tr>\n",
              "      <th>422</th>\n",
              "      <td>whos joking</td>\n",
              "      <td>whos is</td>\n",
              "    </tr>\n",
              "    <tr>\n",
              "      <th>7492</th>\n",
              "      <td>tom will go as well</td>\n",
              "      <td>tom is go too</td>\n",
              "    </tr>\n",
              "    <tr>\n",
              "      <th>9239</th>\n",
              "      <td>im an exmarine</td>\n",
              "      <td>im a of wreck</td>\n",
              "    </tr>\n",
              "    <tr>\n",
              "      <th>1053</th>\n",
              "      <td>thats very weird</td>\n",
              "      <td>thats very strange</td>\n",
              "    </tr>\n",
              "    <tr>\n",
              "      <th>2641</th>\n",
              "      <td>life aint easy</td>\n",
              "      <td>life is no</td>\n",
              "    </tr>\n",
              "  </tbody>\n",
              "</table>\n",
              "</div>"
            ],
            "text/plain": [
              "                     actual                predicted\n",
              "9154         i hope you win       i hope you win    \n",
              "2744       you missed a lot     you missed a lot    \n",
              "1100       they said its ok  they said that fine    \n",
              "8591     he asked after you   he asked after you    \n",
              "4010     i plan to be there       i worked to be    \n",
              "4417      i made this chair          i took the     \n",
              "3920        im very nervous     im very nervous     \n",
              "9660  i know tom helped you  i know tom likes you   \n",
              "5165       whats your price      what your good     \n",
              "3098  i heard the good news      i have the good    \n",
              "422             whos joking            whos is      \n",
              "7492    tom will go as well        tom is go too    \n",
              "9239         im an exmarine        im a of wreck    \n",
              "1053       thats very weird  thats very strange     \n",
              "2641         life aint easy          life is no     "
            ]
          },
          "metadata": {
            "tags": []
          },
          "execution_count": 26
        }
      ]
    }
  ]
}