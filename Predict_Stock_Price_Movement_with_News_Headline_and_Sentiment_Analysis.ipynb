{
  "nbformat": 4,
  "nbformat_minor": 0,
  "metadata": {
    "colab": {
      "name": "Predict Stock Price Movement with News Headline and Sentiment Analysis.ipynb",
      "provenance": [],
      "authorship_tag": "ABX9TyMONr9x5xHPoUSLkGeDB7oa"
    },
    "kernelspec": {
      "name": "python3",
      "display_name": "Python 3"
    },
    "language_info": {
      "name": "python"
    }
  },
  "cells": [
    {
      "cell_type": "markdown",
      "source": [
        "[Reference](https://medium.datadriveninvestor.com/sentiment-analysis-on-stock-price-movement-2f8a83a4884b)"
      ],
      "metadata": {
        "id": "wYyCp-Hg2kYK"
      }
    },
    {
      "cell_type": "code",
      "execution_count": 1,
      "metadata": {
        "colab": {
          "base_uri": "https://localhost:8080/",
          "height": 362
        },
        "id": "QmZijfZb2ar8",
        "outputId": "1bc39673-ee44-48a9-8548-4f3410a5941b"
      },
      "outputs": [
        {
          "output_type": "stream",
          "name": "stderr",
          "text": [
            "[nltk_data] Downloading package vader_lexicon to /root/nltk_data...\n"
          ]
        },
        {
          "output_type": "display_data",
          "data": {
            "text/plain": [
              "<Figure size 720x576 with 0 Axes>"
            ]
          },
          "metadata": {}
        },
        {
          "output_type": "display_data",
          "data": {
            "text/plain": [
              "<Figure size 432x288 with 1 Axes>"
            ],
            "image/png": "[encoded data removed]"
          },
          "metadata": {
            "needs_background": "light"
          }
        }
      ],
      "source": [
        "import requests\n",
        "from bs4 import BeautifulSoup\n",
        "from datetime import datetime\n",
        "from nltk.sentiment.vader import SentimentIntensityAnalyzer as sia\n",
        "import pandas as pd\n",
        "import matplotlib.pyplot as plt\n",
        "\n",
        "import nltk\n",
        "nltk.download('vader_lexicon')\n",
        "\n",
        "class datetime_parser:\n",
        "\n",
        "\tdef __init__(self):\n",
        "\t\tself.date = ''\n",
        "\t\tself.time = ''\n",
        "\t\n",
        "\tdef parsing(self,dateinfo):\n",
        "\t\tdateinfo = [x.replace('\\xa0\\xa0', '') for x in dateinfo.split(' ')]\n",
        "\t\tif len(dateinfo) > 1:\n",
        "\t\t\tself.date = dateinfo[0]\n",
        "\t\t\tself.time = dateinfo[1]\n",
        "\t\telse:\n",
        "\t\t\tself.time = dateinfo[0]\n",
        "\t\t\n",
        "\t\treturn datetime.strptime(self.date + \" \" + self.time, \"%b-%d-%y %I:%M%p\")\n",
        "\n",
        "def stock_ticker_crawler(limit=10):\n",
        "\thtml = requests.get('https://companiesmarketcap.com/tech/largest-tech-companies-by-market-cap/').text\n",
        "\tsoup = BeautifulSoup(html, 'html.parser')\n",
        "\tcompanyName = [x.get_text(strip=True) for x in soup.find_all('div', {'class': 'company-name'})][:limit]\n",
        "\tcompanyCode = [x.get_text(strip=True) for x in soup.find_all('div', {'class': 'company-code'})][:limit]\n",
        "\t\n",
        "\treturn [{'company-code': x, 'company-name': y} for x, y in zip(companyCode, companyName)]\t\n",
        "\n",
        "def news_headlines(ticker):\n",
        "\turl = f'https://finviz.com/quote.ashx?t={ticker}'\n",
        "\treq = requests.get(url, headers={'user-agent': 'nlp_bot'}).text\n",
        "\thtml = BeautifulSoup(req, 'html.parser')\n",
        "\theadline = html.find(id='news-table')\n",
        "\n",
        "\treturn headline\n",
        "\n",
        "def preprocessing(headline):\n",
        "\tdParser = datetime_parser()\n",
        "\ttable = [x.a.text for x in headline.findAll('tr')]\n",
        "\tdate_info = [dParser.parsing(x.td.text) for x in headline.findAll('tr')]\n",
        "\t\n",
        "\theadlines = [{\"news-title\": x, \"date\": y} for x, y in zip(table, date_info)]\n",
        "\t\n",
        "\treturn headlines\n",
        "\n",
        "def convert_to_DF(stock, news):\n",
        "\tstock_info = []\n",
        "\tfor x in news:\n",
        "\t\tstock_info.append({**stock,**x})\n",
        "\t\n",
        "\treturn pd.DataFrame(stock_info)\n",
        "\n",
        "def sentiment_analysis(title):\n",
        "\treturn sia().polarity_scores(title)['compound']\n",
        "\n",
        "def data_visualization(df):\n",
        "\t\n",
        "\tplt.figure(figsize=(10,8))\n",
        "\tdf['date_trunc'] = pd.to_datetime(df['date']).dt.date \n",
        "\tavg_df= df[['company-code', 'date_trunc', 'scores']].groupby(['company-code', 'date_trunc']).mean().unstack()\n",
        "\n",
        "\tavg_df = avg_df.xs('scores', axis=\"columns\").transpose()\n",
        "\t#avg_df.to_excel('process.xlsx')\n",
        "\tavg_df.plot(kind='bar')\n",
        "\tplt.show()\n",
        "\n",
        "def main():\n",
        "\tstock_info = stock_ticker_crawler(limit=3)\n",
        "\tnews_headline_info = [preprocessing(news_headlines(x['company-code'])) for x in stock_info]\n",
        "\tstock_data = [convert_to_DF(x, y) for x, y in zip(stock_info, news_headline_info)]\n",
        "\tstock_data = pd.concat(stock_data)\n",
        "\t\n",
        "\t## VADER Sentiment Analysis calculating for polarity scores based on title \n",
        "\tstock_data['scores'] = stock_data['news-title'].apply(sentiment_analysis)\n",
        "\n",
        "\t#stock_data.to_excel('final_data.xlsx')\n",
        "\t#print(stock_data)\n",
        "\tdata_visualization(stock_data)\n",
        "\t\t\n",
        "if __name__ == '__main__':\n",
        "\tmain()"
      ]
    },
    {
      "cell_type": "code",
      "source": [
        "from nltk.sentiment.vader import SentimentIntensityAnalyzer as sia\n",
        "test1 = \"I Love you..\"\n",
        "print(sia().polarity_scores(test1))"
      ],
      "metadata": {
        "colab": {
          "base_uri": "https://localhost:8080/"
        },
        "id": "RJ_ODQbN21jy",
        "outputId": "466f25b5-e78c-49c7-9aea-884c83a4f8e5"
      },
      "execution_count": 2,
      "outputs": [
        {
          "output_type": "stream",
          "name": "stdout",
          "text": [
            "{'neg': 0.0, 'neu': 0.192, 'pos': 0.808, 'compound': 0.6369}\n"
          ]
        }
      ]
    },
    {
      "cell_type": "code",
      "source": [
        "from nltk.sentiment.vader import SentimentIntensityAnalyzer as sia\n",
        "test1 = \"I Love you..\"\n",
        "print(test1, \"==>\",sia().polarity_scores(test1))\n",
        "test2 = \"Sorry, I don't love you..\"\n",
        "print(test2, \"==>\",sia().polarity_scores(test2))\n",
        "test3 = \"Let us be friend..\"\n",
        "print(test3, \"==>\",sia().polarity_scores(test3))"
      ],
      "metadata": {
        "colab": {
          "base_uri": "https://localhost:8080/"
        },
        "id": "IBGmYOol22Qs",
        "outputId": "7a739c29-6533-4bfd-9f2f-b033dd90e467"
      },
      "execution_count": 3,
      "outputs": [
        {
          "output_type": "stream",
          "name": "stdout",
          "text": [
            "I Love you.. ==> {'neg': 0.0, 'neu': 0.192, 'pos': 0.808, 'compound': 0.6369}\n",
            "Sorry, I don't love you.. ==> {'neg': 0.7, 'neu': 0.3, 'pos': 0.0, 'compound': -0.5673}\n",
            "Let us be friend.. ==> {'neg': 0.0, 'neu': 1.0, 'pos': 0.0, 'compound': 0.0}\n"
          ]
        }
      ]
    }
  ]
}