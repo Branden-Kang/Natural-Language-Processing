{
  "nbformat": 4,
  "nbformat_minor": 0,
  "metadata": {
    "colab": {
      "name": "Regex for NLP.ipynb",
      "provenance": [],
      "authorship_tag": "ABX9TyM7usIO++hua5ST3KvfFO/R"
    },
    "kernelspec": {
      "name": "python3",
      "display_name": "Python 3"
    },
    "language_info": {
      "name": "python"
    }
  },
  "cells": [
    {
      "cell_type": "markdown",
      "source": [
        "[Reference](https://aparnamishra144.medium.com/regex-for-nlp-b459fee35e35)"
      ],
      "metadata": {
        "id": "CpIoGrmt97Ec"
      }
    },
    {
      "cell_type": "markdown",
      "source": [
        "# Basic terms in Regex :\n"
      ],
      "metadata": {
        "id": "1hclTKy6-B-8"
      }
    },
    {
      "cell_type": "markdown",
      "source": [
        "```\n",
        "\\ ----> Used to frequently used to escape special characters.\n",
        "\\w ----> returns a match when the string contains word characters from a to z, digits from 0 to 9, underscores \"_'.\n",
        "\\d ----> Returns a match where the string contains digits from 0 to 9.\n",
        "\\b ----> Returns a match where the specified characters are at the beginning or at the end of a word.\n",
        "[adegjk] ----> Returns a match where one of the specified characters (a,d,e,g,j,k) are present.\n",
        "[a-z] ----> Returns a match for any lower case character between a to z.\n",
        "[^adjkx] ----> Returns a match for any character except 'a','d','j','k','l'.\n",
        "[a-zA-Z] ----> Returns a match for any character between a and z or A and Z.\n",
        "[0-5][0-9] ----> Returns a match for any two -digit number from 00 and 59.\n",
        "[+] ----> +, *, . , |, (), $,{} are the special characters and [+] returns a match for any + character in the string. \n",
        "Similarly ,[*] returns a match for any * character in the string.\n",
        "```"
      ],
      "metadata": {
        "id": "GaKrQ1tA9-dC"
      }
    },
    {
      "cell_type": "markdown",
      "source": [
        "# Functions in Regex:\n"
      ],
      "metadata": {
        "id": "vV5_m1Tt-DUk"
      }
    },
    {
      "cell_type": "markdown",
      "source": [
        "```\n",
        "findall() ----> Returns a list containing all matches.\n",
        "search() ----> Returns a match object if it is present in the string.\n",
        "split() ----> Returns a list with seperated words.\n",
        "sub() ----> Used for substitution.\n",
        "```"
      ],
      "metadata": {
        "id": "gBM-pInk-Ecy"
      }
    },
    {
      "cell_type": "code",
      "source": [
        "import re"
      ],
      "metadata": {
        "id": "O2em5VsK-K0o"
      },
      "execution_count": 2,
      "outputs": []
    },
    {
      "cell_type": "code",
      "execution_count": 3,
      "metadata": {
        "colab": {
          "base_uri": "https://localhost:8080/",
          "height": 37
        },
        "id": "lJiB6Qxz95kT",
        "outputId": "edaf435f-d6c5-4f82-db7e-27f2fe60c85e"
      },
      "outputs": [
        {
          "output_type": "execute_result",
          "data": {
            "application/vnd.google.colaboratory.intrinsic+json": {
              "type": "string"
            },
            "text/plain": [
              "'I purchased a bag for  with  discount.'"
            ]
          },
          "metadata": {},
          "execution_count": 3
        }
      ],
      "source": [
        "# removing numbers and currencies\n",
        " \n",
        "text = \"I purchased a bag for $200 with 30% discount.\"\n",
        "re.sub(r'[\\$\\d+\\%]','',text)"
      ]
    },
    {
      "cell_type": "code",
      "source": [
        "# removing links \n",
        "text = 'My website is https://aparnamishra144.medium.com'\n",
        "re.sub(r'https?:\\/\\/.*[\\r\\n]*', '', text)"
      ],
      "metadata": {
        "colab": {
          "base_uri": "https://localhost:8080/",
          "height": 37
        },
        "id": "WQscim3i-Gyd",
        "outputId": "2ec8916a-aa5d-458a-b09f-b419e9049039"
      },
      "execution_count": 4,
      "outputs": [
        {
          "output_type": "execute_result",
          "data": {
            "application/vnd.google.colaboratory.intrinsic+json": {
              "type": "string"
            },
            "text/plain": [
              "'My website is '"
            ]
          },
          "metadata": {},
          "execution_count": 4
        }
      ]
    },
    {
      "cell_type": "code",
      "source": [
        "# removing multiple white spaces and replacing it with single space\n",
        "text = 'I     purchased a bag for $200 with      30% discount'\n",
        "re.sub(r' {2,}',' ',text )"
      ],
      "metadata": {
        "colab": {
          "base_uri": "https://localhost:8080/",
          "height": 37
        },
        "id": "hFcbqtMz-H94",
        "outputId": "2d87b569-194a-4571-ff40-28dd44e24ff6"
      },
      "execution_count": 5,
      "outputs": [
        {
          "output_type": "execute_result",
          "data": {
            "application/vnd.google.colaboratory.intrinsic+json": {
              "type": "string"
            },
            "text/plain": [
              "'I purchased a bag for $200 with 30% discount'"
            ]
          },
          "metadata": {},
          "execution_count": 5
        }
      ]
    },
    {
      "cell_type": "code",
      "source": [
        "# Replacing punctuations with (white space ) ' '\n",
        "text = \"Hello, Good Morning!!! , How was your day ? I hope you are doing well !!!\"\n",
        "re.sub(r'[^a-z0-9A-Z]',' ',text)"
      ],
      "metadata": {
        "id": "uISXDQcT-JRA"
      },
      "execution_count": null,
      "outputs": []
    },
    {
      "cell_type": "code",
      "source": [
        "# Replacing 2 or more exclamation marks with a single one.\n",
        "text = 'Hello, Good Morning!!! How was your day ? I hope you are doing well !!!'\n",
        "re.sub(r'!{2,}','!',text)"
      ],
      "metadata": {
        "id": "iwenDvCp-hah",
        "outputId": "67971dd2-bf03-4095-98cc-e988f311f683",
        "colab": {
          "base_uri": "https://localhost:8080/",
          "height": 37
        }
      },
      "execution_count": 6,
      "outputs": [
        {
          "output_type": "execute_result",
          "data": {
            "application/vnd.google.colaboratory.intrinsic+json": {
              "type": "string"
            },
            "text/plain": [
              "'Hello, Good Morning! How was your day ? I hope you are doing well !'"
            ]
          },
          "metadata": {},
          "execution_count": 6
        }
      ]
    },
    {
      "cell_type": "code",
      "source": [
        "txt = \"I purchased a bag for $200 with 30% discount\"\n",
        "x_split = re.split(\"\\s\", txt)\n",
        "print(x_split)"
      ],
      "metadata": {
        "id": "hHNUyCqz-hkN",
        "outputId": "661ea441-c56c-4181-918c-0ba0b5d27e3e",
        "colab": {
          "base_uri": "https://localhost:8080/"
        }
      },
      "execution_count": 7,
      "outputs": [
        {
          "output_type": "stream",
          "name": "stdout",
          "text": [
            "['I', 'purchased', 'a', 'bag', 'for', '$200', 'with', '30%', 'discount']\n"
          ]
        }
      ]
    }
  ]
}