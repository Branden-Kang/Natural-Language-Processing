{
  "nbformat": 4,
  "nbformat_minor": 0,
  "metadata": {
    "colab": {
      "name": "Sentiment Analysis using VADER in Python.ipynb",
      "provenance": [],
      "authorship_tag": "ABX9TyMfgKxcgb/47Sbz/UmwR81v"
    },
    "kernelspec": {
      "name": "python3",
      "display_name": "Python 3"
    }
  },
  "cells": [
    {
      "cell_type": "markdown",
      "metadata": {
        "id": "bjGcAm0AfYdw",
        "colab_type": "text"
      },
      "source": [
        "[Reference](https://medium.com/analytics-vidhya/simplifying-social-media-sentiment-analysis-using-vader-in-python-f9e6ec6fc52f)"
      ]
    },
    {
      "cell_type": "markdown",
      "metadata": {
        "id": "X79FT5RxfofD",
        "colab_type": "text"
      },
      "source": [
        "Sentiment Analysis, or Opinion Mining, is a sub-field of Natural Language Processing (NLP)"
      ]
    },
    {
      "cell_type": "markdown",
      "metadata": {
        "id": "HhirKd4QiNg9",
        "colab_type": "text"
      },
      "source": [
        "![Vader Process](https://miro.medium.com/max/1400/1*rZZGKj3tYbxInh_0k31Ttg.png)"
      ]
    },
    {
      "cell_type": "markdown",
      "metadata": {
        "id": "2QlTfcmXiU4Z",
        "colab_type": "text"
      },
      "source": [
        "There are advantages of Vader:\n",
        "- It works exceedingly well on social media type text, yet readily generalizes to multiple domains\n",
        "- It doesn’t require any training data but is constructed from a generalizable, valence-based, human-curated gold standard sentiment lexicon\n",
        "- It is fast enough to be used online with streaming data, and\n",
        "- It does not severely suffer from a speed-performance tradeoff."
      ]
    },
    {
      "cell_type": "markdown",
      "metadata": {
        "id": "tz1NG6k1idv6",
        "colab_type": "text"
      },
      "source": [
        "You can see the paper at this website: [VADER: A Parsimonious Rule-based Model for Sentiment Analysis of Social Media Text](http://comp.social.gatech.edu/papers/icwsm14.vader.hutto.pdf)"
      ]
    },
    {
      "cell_type": "code",
      "metadata": {
        "id": "JnZBYSE8fWfF",
        "colab_type": "code",
        "colab": {
          "base_uri": "https://localhost:8080/",
          "height": 207
        },
        "outputId": "69e648f9-1881-4c22-93d3-5de42e7c8fa6"
      },
      "source": [
        "!pip install vaderSentiment\n",
        "from vaderSentiment.vaderSentiment import SentimentIntensityAnalyzer\n",
        "analyser = SentimentIntensityAnalyzer()"
      ],
      "execution_count": 2,
      "outputs": [
        {
          "output_type": "stream",
          "text": [
            "Collecting vaderSentiment\n",
            "\u001b[?25l  Downloading https://files.pythonhosted.org/packages/76/fc/310e16254683c1ed35eeb97386986d6c00bc29df17ce280aed64d55537e9/vaderSentiment-3.3.2-py2.py3-none-any.whl (125kB)\n",
            "\r\u001b[K     |██▋                             | 10kB 14.3MB/s eta 0:00:01\r\u001b[K     |█████▏                          | 20kB 3.8MB/s eta 0:00:01\r\u001b[K     |███████▉                        | 30kB 4.9MB/s eta 0:00:01\r\u001b[K     |██████████▍                     | 40kB 5.0MB/s eta 0:00:01\r\u001b[K     |█████████████                   | 51kB 4.4MB/s eta 0:00:01\r\u001b[K     |███████████████▋                | 61kB 4.5MB/s eta 0:00:01\r\u001b[K     |██████████████████▏             | 71kB 4.9MB/s eta 0:00:01\r\u001b[K     |████████████████████▉           | 81kB 4.7MB/s eta 0:00:01\r\u001b[K     |███████████████████████▍        | 92kB 4.8MB/s eta 0:00:01\r\u001b[K     |██████████████████████████      | 102kB 5.2MB/s eta 0:00:01\r\u001b[K     |████████████████████████████▋   | 112kB 5.2MB/s eta 0:00:01\r\u001b[K     |███████████████████████████████▏| 122kB 5.2MB/s eta 0:00:01\r\u001b[K     |████████████████████████████████| 133kB 5.2MB/s \n",
            "\u001b[?25hRequirement already satisfied: requests in /usr/local/lib/python3.6/dist-packages (from vaderSentiment) (2.23.0)\n",
            "Requirement already satisfied: chardet<4,>=3.0.2 in /usr/local/lib/python3.6/dist-packages (from requests->vaderSentiment) (3.0.4)\n",
            "Requirement already satisfied: certifi>=2017.4.17 in /usr/local/lib/python3.6/dist-packages (from requests->vaderSentiment) (2020.6.20)\n",
            "Requirement already satisfied: idna<3,>=2.5 in /usr/local/lib/python3.6/dist-packages (from requests->vaderSentiment) (2.10)\n",
            "Requirement already satisfied: urllib3!=1.25.0,!=1.25.1,<1.26,>=1.21.1 in /usr/local/lib/python3.6/dist-packages (from requests->vaderSentiment) (1.24.3)\n",
            "Installing collected packages: vaderSentiment\n",
            "Successfully installed vaderSentiment-3.3.2\n"
          ],
          "name": "stdout"
        }
      ]
    },
    {
      "cell_type": "code",
      "metadata": {
        "id": "b3Yv7xl6ipr2",
        "colab_type": "code",
        "colab": {}
      },
      "source": [
        "def sentiment_analyzer_scores(sentence):\n",
        "    score = analyser.polarity_scores(sentence)\n",
        "    print(\"{:-<40} {}\".format(sentence, str(score)))"
      ],
      "execution_count": 3,
      "outputs": []
    },
    {
      "cell_type": "code",
      "metadata": {
        "id": "9K2CAy9wiu3b",
        "colab_type": "code",
        "colab": {
          "base_uri": "https://localhost:8080/",
          "height": 54
        },
        "outputId": "d4742b8b-9c0f-49ed-b04b-59a608be1c5b"
      },
      "source": [
        "sentiment_analyzer_scores(\"The phone is super cool.\")"
      ],
      "execution_count": 4,
      "outputs": [
        {
          "output_type": "stream",
          "text": [
            "The phone is super cool.---------------- {'neg': 0.0, 'neu': 0.326, 'pos': 0.674, 'compound': 0.7351}\n"
          ],
          "name": "stdout"
        }
      ]
    },
    {
      "cell_type": "markdown",
      "metadata": {
        "id": "UDEypcPmjd71",
        "colab_type": "text"
      },
      "source": [
        "I will experiment the Vader in order to understand Vader well."
      ]
    },
    {
      "cell_type": "markdown",
      "metadata": {
        "id": "Bmv7oUdAjciR",
        "colab_type": "text"
      },
      "source": [
        "# Punctuation"
      ]
    },
    {
      "cell_type": "code",
      "metadata": {
        "id": "xyIf22c7i41t",
        "colab_type": "code",
        "colab": {
          "base_uri": "https://localhost:8080/",
          "height": 54
        },
        "outputId": "732e2e12-b857-458f-cdc5-c35ec8c25a9b"
      },
      "source": [
        "# Simple sentence\n",
        "sentiment_analyzer_scores(\"The food here is good\")"
      ],
      "execution_count": 5,
      "outputs": [
        {
          "output_type": "stream",
          "text": [
            "The food here is good------------------- {'neg': 0.0, 'neu': 0.58, 'pos': 0.42, 'compound': 0.4404}\n"
          ],
          "name": "stdout"
        }
      ]
    },
    {
      "cell_type": "code",
      "metadata": {
        "id": "fWxlEpXPjIsT",
        "colab_type": "code",
        "colab": {
          "base_uri": "https://localhost:8080/",
          "height": 88
        },
        "outputId": "c074b46c-2f1e-4f63-99ed-e3b6b8973e83"
      },
      "source": [
        "# Punctuation\n",
        "sentiment_analyzer_scores(\"The movie is amazing!\")\n",
        "sentiment_analyzer_scores(\"The movie is amazing!!\")\n",
        "sentiment_analyzer_scores(\"The movie is amazing!!!\")"
      ],
      "execution_count": 10,
      "outputs": [
        {
          "output_type": "stream",
          "text": [
            "The movie is amazing!------------------- {'neg': 0.0, 'neu': 0.423, 'pos': 0.577, 'compound': 0.6239}\n",
            "The movie is amazing!!------------------ {'neg': 0.0, 'neu': 0.406, 'pos': 0.594, 'compound': 0.658}\n",
            "The movie is amazing!!!----------------- {'neg': 0.0, 'neu': 0.391, 'pos': 0.609, 'compound': 0.6884}\n"
          ],
          "name": "stdout"
        }
      ]
    },
    {
      "cell_type": "markdown",
      "metadata": {
        "id": "xGedBLsPjafC",
        "colab_type": "text"
      },
      "source": [
        "Using punctuation increases the magnitude of the intensify without modifying the semantic orientation."
      ]
    },
    {
      "cell_type": "markdown",
      "metadata": {
        "id": "vq_oTmO-jkVc",
        "colab_type": "text"
      },
      "source": [
        "# Capitalization"
      ]
    },
    {
      "cell_type": "code",
      "metadata": {
        "id": "uGY8lKJ0jPJd",
        "colab_type": "code",
        "colab": {
          "base_uri": "https://localhost:8080/",
          "height": 54
        },
        "outputId": "7633bb4f-aed7-4c4a-cd13-8a686c2612b7"
      },
      "source": [
        "sentiment_analyzer_scores(\"The movie is great!\")"
      ],
      "execution_count": 11,
      "outputs": [
        {
          "output_type": "stream",
          "text": [
            "The movie is great!--------------------- {'neg': 0.0, 'neu': 0.406, 'pos': 0.594, 'compound': 0.6588}\n"
          ],
          "name": "stdout"
        }
      ]
    },
    {
      "cell_type": "code",
      "metadata": {
        "id": "vWnRjJuIjY7c",
        "colab_type": "code",
        "colab": {
          "base_uri": "https://localhost:8080/",
          "height": 54
        },
        "outputId": "a9c40b1d-750a-4e7d-a3d5-97f6dbd4157a"
      },
      "source": [
        "sentiment_analyzer_scores(\"The movie is GREAT!\")"
      ],
      "execution_count": 12,
      "outputs": [
        {
          "output_type": "stream",
          "text": [
            "The movie is GREAT!--------------------- {'neg': 0.0, 'neu': 0.369, 'pos': 0.631, 'compound': 0.729}\n"
          ],
          "name": "stdout"
        }
      ]
    },
    {
      "cell_type": "markdown",
      "metadata": {
        "id": "lrQQ5FUBj3jP",
        "colab_type": "text"
      },
      "source": [
        "# Degree modifiers"
      ]
    },
    {
      "cell_type": "code",
      "metadata": {
        "id": "nudoZ_jMjuTL",
        "colab_type": "code",
        "colab": {
          "base_uri": "https://localhost:8080/",
          "height": 54
        },
        "outputId": "f89a2115-515e-4238-d9c6-469327e3723d"
      },
      "source": [
        "sentiment_analyzer_scores(\"The people here is extremely kind!\")"
      ],
      "execution_count": 13,
      "outputs": [
        {
          "output_type": "stream",
          "text": [
            "The people here is extremely kind!------ {'neg': 0.0, 'neu': 0.556, 'pos': 0.444, 'compound': 0.6105}\n"
          ],
          "name": "stdout"
        }
      ]
    },
    {
      "cell_type": "code",
      "metadata": {
        "id": "0HFKoCVWkAG5",
        "colab_type": "code",
        "colab": {
          "base_uri": "https://localhost:8080/",
          "height": 54
        },
        "outputId": "347081f6-fe7f-495d-aae2-43e2178607a0"
      },
      "source": [
        "sentiment_analyzer_scores(\"The people here is marginally kind!\")"
      ],
      "execution_count": 14,
      "outputs": [
        {
          "output_type": "stream",
          "text": [
            "The people here is marginally kind!----- {'neg': 0.0, 'neu': 0.595, 'pos': 0.405, 'compound': 0.5266}\n"
          ],
          "name": "stdout"
        }
      ]
    },
    {
      "cell_type": "markdown",
      "metadata": {
        "id": "52IQ80-lkD81",
        "colab_type": "text"
      },
      "source": [
        "# Conjunctions"
      ]
    },
    {
      "cell_type": "code",
      "metadata": {
        "id": "bGf4ZstCkB7d",
        "colab_type": "code",
        "colab": {
          "base_uri": "https://localhost:8080/",
          "height": 54
        },
        "outputId": "04fe80a6-b980-483f-821c-21fdea48dc28"
      },
      "source": [
        "sentiment_analyzer_scores(\"The food is amazing, but people here is horrible\")"
      ],
      "execution_count": 16,
      "outputs": [
        {
          "output_type": "stream",
          "text": [
            "The food is amazing, but people here is horrible {'neg': 0.336, 'neu': 0.495, 'pos': 0.17, 'compound': -0.5187}\n"
          ],
          "name": "stdout"
        }
      ]
    },
    {
      "cell_type": "markdown",
      "metadata": {
        "id": "PVKWFYnXkT5R",
        "colab_type": "text"
      },
      "source": [
        "# Emojis, Slangs, and Emoticons"
      ]
    },
    {
      "cell_type": "code",
      "metadata": {
        "id": "BGao3dhXkMfj",
        "colab_type": "code",
        "colab": {
          "base_uri": "https://localhost:8080/",
          "height": 173
        },
        "outputId": "4449ca4f-ada6-449e-dbf0-5e76307ea16d"
      },
      "source": [
        "print(sentiment_analyzer_scores('I am 😄 today'))\n",
        "print(sentiment_analyzer_scores('😊'))\n",
        "print(sentiment_analyzer_scores('😥'))\n",
        "print(sentiment_analyzer_scores('☹️'))"
      ],
      "execution_count": 17,
      "outputs": [
        {
          "output_type": "stream",
          "text": [
            "I am 😄 today---------------------------- {'neg': 0.0, 'neu': 0.522, 'pos': 0.478, 'compound': 0.6705}\n",
            "None\n",
            "😊--------------------------------------- {'neg': 0.0, 'neu': 0.333, 'pos': 0.667, 'compound': 0.7184}\n",
            "None\n",
            "😥--------------------------------------- {'neg': 0.275, 'neu': 0.268, 'pos': 0.456, 'compound': 0.3291}\n",
            "None\n",
            "☹️-------------------------------------- {'neg': 0.706, 'neu': 0.294, 'pos': 0.0, 'compound': -0.34}\n",
            "None\n"
          ],
          "name": "stdout"
        }
      ]
    },
    {
      "cell_type": "code",
      "metadata": {
        "id": "4ZAJp5w4kVlL",
        "colab_type": "code",
        "colab": {
          "base_uri": "https://localhost:8080/",
          "height": 105
        },
        "outputId": "21a156b6-011d-4ac6-ce48-0ab5480a01bc"
      },
      "source": [
        "print(sentiment_analyzer_scores(\"Today SUX!\"))\n",
        "print(sentiment_analyzer_scores(\"Today only kinda sux! But I'll get by, lol\"))"
      ],
      "execution_count": 18,
      "outputs": [
        {
          "output_type": "stream",
          "text": [
            "Today SUX!------------------------------ {'neg': 0.779, 'neu': 0.221, 'pos': 0.0, 'compound': -0.5461}\n",
            "None\n",
            "Today only kinda sux! But I'll get by, lol {'neg': 0.127, 'neu': 0.556, 'pos': 0.317, 'compound': 0.5249}\n",
            "None\n"
          ],
          "name": "stdout"
        }
      ]
    },
    {
      "cell_type": "code",
      "metadata": {
        "id": "Ri0PPgsPkYHo",
        "colab_type": "code",
        "colab": {
          "base_uri": "https://localhost:8080/",
          "height": 71
        },
        "outputId": "f44edd4b-aa07-4c61-8333-0228e2217ea6"
      },
      "source": [
        "print(sentiment_analyzer_scores(\"Make sure you :) or :D today!\"))"
      ],
      "execution_count": 19,
      "outputs": [
        {
          "output_type": "stream",
          "text": [
            "Make sure you :) or :D today!----------- {'neg': 0.0, 'neu': 0.294, 'pos': 0.706, 'compound': 0.8633}\n",
            "None\n"
          ],
          "name": "stdout"
        }
      ]
    }
  ]
}