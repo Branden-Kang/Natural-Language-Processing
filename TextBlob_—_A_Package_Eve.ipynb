{
  "nbformat": 4,
  "nbformat_minor": 0,
  "metadata": {
    "colab": {
      "name": "TextBlob — A Package Eve.ipynb",
      "provenance": [],
      "authorship_tag": "ABX9TyPVv7IkL9e21L/Tm08QbH90"
    },
    "kernelspec": {
      "name": "python3",
      "display_name": "Python 3"
    },
    "language_info": {
      "name": "python"
    }
  },
  "cells": [
    {
      "cell_type": "markdown",
      "metadata": {
        "id": "AbDeBGiVwUQg"
      },
      "source": [
        "[Reference](https://python.plainenglish.io/textblob-a-package-every-python-programmer-should-know-da1f42bf4b5e)"
      ]
    },
    {
      "cell_type": "code",
      "metadata": {
        "colab": {
          "base_uri": "https://localhost:8080/"
        },
        "id": "7EKABDsZwTIu",
        "outputId": "84802453-a26a-44d9-ba5a-0a176afcb9d6"
      },
      "source": [
        "pip install textblob"
      ],
      "execution_count": 1,
      "outputs": [
        {
          "output_type": "stream",
          "text": [
            "Requirement already satisfied: textblob in /usr/local/lib/python3.7/dist-packages (0.15.3)\n",
            "Requirement already satisfied: nltk>=3.1 in /usr/local/lib/python3.7/dist-packages (from textblob) (3.2.5)\n",
            "Requirement already satisfied: six in /usr/local/lib/python3.7/dist-packages (from nltk>=3.1->textblob) (1.15.0)\n"
          ],
          "name": "stdout"
        }
      ]
    },
    {
      "cell_type": "code",
      "metadata": {
        "colab": {
          "base_uri": "https://localhost:8080/"
        },
        "id": "WKqMFGPhwpLo",
        "outputId": "62f01314-078f-45af-9a13-3b4be17f049f"
      },
      "source": [
        "from textblob import TextBlob\n",
        "blob = TextBlob(\"Spellling is hardd\")\n",
        "blob_corrected  = blob.correct()\n",
        "print(blob_corrected.string)"
      ],
      "execution_count": 2,
      "outputs": [
        {
          "output_type": "stream",
          "text": [
            "Spelling is hard\n"
          ],
          "name": "stdout"
        }
      ]
    },
    {
      "cell_type": "code",
      "metadata": {
        "colab": {
          "base_uri": "https://localhost:8080/"
        },
        "id": "f7ENMtgLwttK",
        "outputId": "8642b6b6-8fb4-4059-fbdb-2c2ee1b006e9"
      },
      "source": [
        "import nltk\n",
        "nltk.download('punkt')\n",
        "blob = TextBlob(\"TextBlob is built on top of NLTK. It makes it easy to perform common NLP tasks. \")\n",
        "print(blob.words)\n",
        "print(blob.sentences)"
      ],
      "execution_count": 4,
      "outputs": [
        {
          "output_type": "stream",
          "text": [
            "[nltk_data] Downloading package punkt to /root/nltk_data...\n",
            "[nltk_data]   Unzipping tokenizers/punkt.zip.\n",
            "['TextBlob', 'is', 'built', 'on', 'top', 'of', 'NLTK', 'It', 'makes', 'it', 'easy', 'to', 'perform', 'common', 'NLP', 'tasks']\n",
            "[Sentence(\"TextBlob is built on top of NLTK.\"), Sentence(\"It makes it easy to perform common NLP tasks.\")]\n"
          ],
          "name": "stdout"
        }
      ]
    },
    {
      "cell_type": "code",
      "metadata": {
        "colab": {
          "base_uri": "https://localhost:8080/"
        },
        "id": "Dz4Htu0gwwOD",
        "outputId": "cfabaa7d-402b-4c06-e8ce-fd238a5e6da5"
      },
      "source": [
        "from textblob import Word\n",
        "\n",
        "import nltk\n",
        "\n",
        "nltk.download('wordnet')\n",
        "\n",
        "nlp_word = Word(\"nlp\")\n",
        "\n",
        "print(nlp_word.definitions)"
      ],
      "execution_count": 5,
      "outputs": [
        {
          "output_type": "stream",
          "text": [
            "[nltk_data] Downloading package wordnet to /root/nltk_data...\n",
            "[nltk_data]   Unzipping corpora/wordnet.zip.\n",
            "['the branch of information science that deals with natural language information']\n"
          ],
          "name": "stdout"
        }
      ]
    },
    {
      "cell_type": "code",
      "metadata": {
        "colab": {
          "base_uri": "https://localhost:8080/"
        },
        "id": "kLYfOx7Hw9qd",
        "outputId": "4f86f1bf-fbd2-4b73-de77-e94496e40d9e"
      },
      "source": [
        "positive_blob = TextBlob(\"I really enjoy performing NLP with TextBlob\")\n",
        "print(positive_blob.sentiment.polarity)"
      ],
      "execution_count": 6,
      "outputs": [
        {
          "output_type": "stream",
          "text": [
            "0.4\n"
          ],
          "name": "stdout"
        }
      ]
    }
  ]
}