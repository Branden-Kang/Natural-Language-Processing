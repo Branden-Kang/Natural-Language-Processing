{
  "nbformat": 4,
  "nbformat_minor": 0,
  "metadata": {
    "colab": {
      "name": "TextBlob — A Package Eve.ipynb",
      "provenance": [],
      "authorship_tag": "ABX9TyPVv7IkL9e21L/Tm08QbH90"
    },
    "kernelspec": {
      "name": "python3",
      "display_name": "Python 3"
    },
    "language_info": {
      "name": "python"
    }
  },
  "cells": [
    {
      "cell_type": "markdown",
      "metadata": {
        "id": "AbDeBGiVwUQg"
      },
      "source": [
        "[Reference](https://python.plainenglish.io/textblob-a-package-every-python-programmer-should-know-da1f42bf4b5e)"
      ]
    },
    {
      "cell_type": "code",
      "metadata": {
        "colab": {
          "base_uri": "https://localhost:8080/"
        },
        "id": "7EKABDsZwTIu",
        "outputId": "6b5f691f-3a50-43f8-891e-f9689d51790c"
      },
      "source": [
        "pip install textblob"
      ],
      "execution_count": 1,
      "outputs": [
        {
          "output_type": "stream",
          "text": [
            "Requirement already satisfied: textblob in /usr/local/lib/python3.7/dist-packages (0.15.3)\n",
            "Requirement already satisfied: nltk>=3.1 in /usr/local/lib/python3.7/dist-packages (from textblob) (3.2.5)\n",
            "Requirement already satisfied: six in /usr/local/lib/python3.7/dist-packages (from nltk>=3.1->textblob) (1.15.0)\n"
          ],
          "name": "stdout"
        }
      ]
    },
    {
      "cell_type": "code",
      "metadata": {
        "colab": {
          "base_uri": "https://localhost:8080/"
        },
        "id": "WKqMFGPhwpLo",
        "outputId": "33b4b9b2-a607-4ed3-b536-98124f0019dc"
      },
      "source": [
        "from textblob import TextBlob\n",
        "blob = TextBlob(\"Spellling is hardd\")\n",
        "blob_corrected  = blob.correct()\n",
        "print(blob_corrected.string)"
      ],
      "execution_count": 2,
      "outputs": [
        {
          "output_type": "stream",
          "text": [
            "Spelling is hard\n"
          ],
          "name": "stdout"
        }
      ]
    },
    {
      "cell_type": "code",
      "metadata": {
        "colab": {
          "base_uri": "https://localhost:8080/"
        },
        "id": "f7ENMtgLwttK",
        "outputId": "93817b3c-62f6-4e44-a18e-448be0ba5287"
      },
      "source": [
        "import nltk\n",
        "nltk.download('punkt')\n",
        "blob = TextBlob(\"TextBlob is built on top of NLTK. It makes it easy to perform common NLP tasks. \")\n",
        "print(blob.words)\n",
        "print(blob.sentences)"
      ],
      "execution_count": 3,
      "outputs": [
        {
          "output_type": "stream",
          "text": [
            "[nltk_data] Downloading package punkt to /root/nltk_data...\n",
            "[nltk_data]   Unzipping tokenizers/punkt.zip.\n",
            "['TextBlob', 'is', 'built', 'on', 'top', 'of', 'NLTK', 'It', 'makes', 'it', 'easy', 'to', 'perform', 'common', 'NLP', 'tasks']\n",
            "[Sentence(\"TextBlob is built on top of NLTK.\"), Sentence(\"It makes it easy to perform common NLP tasks.\")]\n"
          ],
          "name": "stdout"
        }
      ]
    },
    {
      "cell_type": "code",
      "metadata": {
        "colab": {
          "base_uri": "https://localhost:8080/"
        },
        "id": "Dz4Htu0gwwOD",
        "outputId": "e37695f1-f7b7-49cb-c9c4-b4b8ab08b416"
      },
      "source": [
        "from textblob import Word\n",
        "\n",
        "import nltk\n",
        "\n",
        "nltk.download('wordnet')\n",
        "\n",
        "nlp_word = Word(\"nlp\")\n",
        "\n",
        "print(nlp_word.definitions)"
      ],
      "execution_count": 4,
      "outputs": [
        {
          "output_type": "stream",
          "text": [
            "[nltk_data] Downloading package wordnet to /root/nltk_data...\n",
            "[nltk_data]   Unzipping corpora/wordnet.zip.\n",
            "['the branch of information science that deals with natural language information']\n"
          ],
          "name": "stdout"
        }
      ]
    },
    {
      "cell_type": "code",
      "metadata": {
        "id": "kLYfOx7Hw9qd",
        "colab": {
          "base_uri": "https://localhost:8080/"
        },
        "outputId": "3a745c66-3058-4239-c257-8a0843cdacaf"
      },
      "source": [
        "positive_blob = TextBlob(\"I really enjoy performing NLP with TextBlob\")\n",
        "print(positive_blob.sentiment.polarity)"
      ],
      "execution_count": 5,
      "outputs": [
        {
          "output_type": "stream",
          "text": [
            "0.4\n"
          ],
          "name": "stdout"
        }
      ]
    }
  ]
}