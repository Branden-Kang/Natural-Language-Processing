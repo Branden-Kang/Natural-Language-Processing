{
  "nbformat": 4,
  "nbformat_minor": 0,
  "metadata": {
    "colab": {
      "provenance": [],
      "authorship_tag": "ABX9TyM+OccVZnYo1Xy09ihFO/5R"
    },
    "kernelspec": {
      "name": "python3",
      "display_name": "Python 3"
    },
    "language_info": {
      "name": "python"
    }
  },
  "cells": [
    {
      "cell_type": "markdown",
      "source": [
        "[Reference](https://medium.com/@sayahfares19/text-analysis-with-pandas-guide-af8b12873b04)"
      ],
      "metadata": {
        "id": "2Z0RCOBuxtWp"
      }
    },
    {
      "cell_type": "markdown",
      "source": [
        "# 1. Manipulate Case"
      ],
      "metadata": {
        "id": "kj0IQtIRx3s0"
      }
    },
    {
      "cell_type": "code",
      "execution_count": 1,
      "metadata": {
        "colab": {
          "base_uri": "https://localhost:8080/"
        },
        "id": "juy9PM-bvR-v",
        "outputId": "b297bace-c5c1-41bd-e322-0fc69efac692"
      },
      "outputs": [
        {
          "output_type": "stream",
          "name": "stdout",
          "text": [
            "Lowercase all letters:\n",
            "0        lev gor'kov\n",
            "1                NaN\n",
            "2          brillouin\n",
            "3    albert einstein\n",
            "4     carl m. bender\n",
            "dtype: object\n",
            "\n",
            "Uppercase all letters:\n",
            "0        LEV GOR'KOV\n",
            "1                NaN\n",
            "2          BRILLOUIN\n",
            "3    ALBERT EINSTEIN\n",
            "4     CARL M. BENDER\n",
            "dtype: object\n",
            "\n",
            "Uppercase the first letter:\n",
            "0        Lev gor'kov\n",
            "1                NaN\n",
            "2          Brillouin\n",
            "3    Albert einstein\n",
            "4     Carl m. bender\n",
            "dtype: object\n",
            "\n",
            "Uppercase the first letter of each word:\n",
            "0        Lev Gor'Kov\n",
            "1                NaN\n",
            "2          Brillouin\n",
            "3    Albert Einstein\n",
            "4     Carl M. Bender\n",
            "dtype: object\n",
            "\n"
          ]
        }
      ],
      "source": [
        "import pandas as pd\n",
        "import numpy as np\n",
        "\n",
        "serie = pd.Series(['lev gor\\'kov', np.nan, 'brillouin', 'albert einstein', 'carl m. bender'])\n",
        "\n",
        "print(f'Lowercase all letters:\\n{serie.str.lower()}\\n')\n",
        "\n",
        "print(f'Uppercase all letters:\\n{serie.str.upper()}\\n')\n",
        "\n",
        "# Convert strings in the Series/Index to be capitalized\n",
        "print(f'Uppercase the first letter:\\n{serie.str.capitalize()}\\n')\n",
        "\n",
        "print(f'Uppercase the first letter of each word:\\n{serie.str.title()}\\n')"
      ]
    },
    {
      "cell_type": "markdown",
      "source": [
        "# 2. Split Strings"
      ],
      "metadata": {
        "id": "qyq0Zp0nx5dq"
      }
    },
    {
      "cell_type": "code",
      "source": [
        "import pandas as pd\n",
        "import numpy as np\n",
        "\n",
        "serie = pd.Series(['lev gor\\'kov', np.nan, 'brillouin', 'albert einstein', 'carl m. bender'])\n",
        "\n",
        "print(f'Before Splitting:\\n{serie}\\n')\n",
        "\n",
        "new_serie = (\n",
        "    serie.str.title()\n",
        "    .str.split(' ', expand=True, n=1)\n",
        "    .rename(columns={0:'First Name', 1:'Last Name'})\n",
        ")\n",
        "\n",
        "print(f'After Splitting:\\n{new_serie}')"
      ],
      "metadata": {
        "colab": {
          "base_uri": "https://localhost:8080/"
        },
        "id": "mXL8-xZyx2Jq",
        "outputId": "6b270b01-aa23-4aab-daa9-017b7ed3ca31"
      },
      "execution_count": 2,
      "outputs": [
        {
          "output_type": "stream",
          "name": "stdout",
          "text": [
            "Before Splitting:\n",
            "0        lev gor'kov\n",
            "1                NaN\n",
            "2          brillouin\n",
            "3    albert einstein\n",
            "4     carl m. bender\n",
            "dtype: object\n",
            "\n",
            "After Splitting:\n",
            "  First Name  Last Name\n",
            "0        Lev    Gor'Kov\n",
            "1        NaN        NaN\n",
            "2  Brillouin       None\n",
            "3     Albert   Einstein\n",
            "4       Carl  M. Bender\n"
          ]
        }
      ]
    },
    {
      "cell_type": "markdown",
      "source": [
        "# 3. Replace String"
      ],
      "metadata": {
        "id": "xNzLU26tx-_6"
      }
    },
    {
      "cell_type": "code",
      "source": [
        "import pandas as pd\n",
        "import numpy as np\n",
        "\n",
        "serie = pd.Series(['lev gor\\'kov', np.nan, 'Dr. brillouin', 'Pr. albert einstein', 'carl m. bender'])\n",
        "\n",
        "print(f'Before Replacing:\\n{serie}\\n')\n",
        "\n",
        "new_serie = (\n",
        "    serie.str.replace('Dr.', '', regex=False)\n",
        "    .str.replace('Pr.', '', regex=False)\n",
        "    .str.strip()\n",
        "    .str.title()\n",
        "    .str.split(' ', expand=True, n=1)\n",
        "    .rename(columns={0:'First Name', 1:'Last Name'})\n",
        ")\n",
        "\n",
        "print(f'After Replacing:\\n{new_serie}')"
      ],
      "metadata": {
        "colab": {
          "base_uri": "https://localhost:8080/"
        },
        "id": "khYTnXg5x7qZ",
        "outputId": "b65552b4-f9b5-43f1-f16c-40015c427c33"
      },
      "execution_count": 3,
      "outputs": [
        {
          "output_type": "stream",
          "name": "stdout",
          "text": [
            "Before Replacing:\n",
            "0            lev gor'kov\n",
            "1                    NaN\n",
            "2          Dr. brillouin\n",
            "3    Pr. albert einstein\n",
            "4         carl m. bender\n",
            "dtype: object\n",
            "\n",
            "After Replacing:\n",
            "  First Name  Last Name\n",
            "0        Lev    Gor'Kov\n",
            "1        NaN        NaN\n",
            "2  Brillouin       None\n",
            "3     Albert   Einstein\n",
            "4       Carl  M. Bender\n"
          ]
        }
      ]
    },
    {
      "cell_type": "markdown",
      "source": [
        "# 4. Concatenate"
      ],
      "metadata": {
        "id": "zdij6Q_6yBR1"
      }
    },
    {
      "cell_type": "code",
      "source": [
        "import pandas as pd\n",
        "import numpy as np\n",
        "\n",
        "s_1 = pd.Series([\"Albert\", \"John\", \"Robert\", np.nan, \"Jack\"], dtype=\"string\")\n",
        "s_2 = pd.Series([\"Doe\", \"Piter\", \"David\", \"Eden\", \"Carl\"], dtype=\"string\")\n",
        "\n",
        "\n",
        "# We can specify a separator\n",
        "print(f'Concatinate and ignore missing values:\\n{s_1.str.cat(s_2, sep=\" \")}\\n')\n",
        "\n",
        "\n",
        "# Missing values are ignored by default, \n",
        "# use 'na_rep' to catch them\n",
        "print()\n",
        "print(f'Concatinate and replace missing values with \"-\":\\n{s_1.str.cat(s_2, sep=\" \", na_rep=\"-\")}\\n')"
      ],
      "metadata": {
        "colab": {
          "base_uri": "https://localhost:8080/"
        },
        "id": "ywdANra3yAVP",
        "outputId": "27c827b3-fb22-451c-9cbf-1cbecb08a97a"
      },
      "execution_count": 4,
      "outputs": [
        {
          "output_type": "stream",
          "name": "stdout",
          "text": [
            "Concatinate and ignore missing values:\n",
            "0      Albert Doe\n",
            "1      John Piter\n",
            "2    Robert David\n",
            "3            <NA>\n",
            "4       Jack Carl\n",
            "dtype: string\n",
            "\n",
            "\n",
            "Concatinate and replace missing values with \"-\":\n",
            "0      Albert Doe\n",
            "1      John Piter\n",
            "2    Robert David\n",
            "3          - Eden\n",
            "4       Jack Carl\n",
            "dtype: string\n",
            "\n"
          ]
        }
      ]
    },
    {
      "cell_type": "markdown",
      "source": [
        "# 5. Additional Methods:\n",
        "-    .startswith(pattern): It returns true if the element or string in the DataFrame Index starts with the pattern.\n",
        "-    .endswith(pattern): It returns true if the element or string in the DataFrame Index ends with the pattern.\n",
        "-    .repeat(value): It repeats each element with a given number of times like the below example, there are two appearances of each string in DataFrame.\n",
        "-    .find(pattern): It returns the first position of the first occurrence of the pattern."
      ],
      "metadata": {
        "id": "pFBo-fMLyDiG"
      }
    },
    {
      "cell_type": "markdown",
      "source": [
        "# 6. Information Extraction from Text"
      ],
      "metadata": {
        "id": "4nuXfFbhyIor"
      }
    },
    {
      "cell_type": "code",
      "source": [
        "import pandas as pd\n",
        "\n",
        "\n",
        "time_sentences = [\"Saturday: Weekend (Not working day)\",\n",
        "                  \"Sunday: Weekend (Not working day)\",\n",
        "                  \"Monday: The doctor's appointment is at 2:45pm.\",\n",
        "                  \"Tuesday: The dentist's appointment is at 11:30 am.\",\n",
        "                  \"Wednesday: At 7:00pm, there is a basketball game!\",\n",
        "                  \"Thursday: Be back home by 11:15 pm at the latest.\",\n",
        "                  \"Friday: Take the train at 08:10 am, arrive at 09:00am.\"]\n",
        "\n",
        "df = pd.DataFrame(time_sentences, columns=['text'])\n",
        "\n",
        "(\n",
        "    df\n",
        "    .assign(text=df.text.str.lower(),\n",
        "            text_len=df.text.str.len(),\n",
        "            word_count=df.text.str.count(\" \") + 1,\n",
        "            weekend=df.text.str.contains(\"saturday|sunday\", case=False),\n",
        "            appointment_time=df.text.str.findall(r\"(\\d?\\d):(\\d\\d)\"),\n",
        "           )\n",
        ")"
      ],
      "metadata": {
        "colab": {
          "base_uri": "https://localhost:8080/",
          "height": 429
        },
        "id": "ai5gYH7OyCf2",
        "outputId": "29d3b3bb-3b4f-4e12-9d5e-f03ca919dd31"
      },
      "execution_count": 5,
      "outputs": [
        {
          "output_type": "execute_result",
          "data": {
            "text/plain": [
              "                                                text  text_len  word_count  \\\n",
              "0                saturday: weekend (not working day)        35           5   \n",
              "1                  sunday: weekend (not working day)        33           5   \n",
              "2     monday: the doctor's appointment is at 2:45pm.        46           7   \n",
              "3  tuesday: the dentist's appointment is at 11:30...        50           8   \n",
              "4  wednesday: at 7:00pm, there is a basketball game!        49           8   \n",
              "5  thursday: be back home by 11:15 pm at the latest.        49          10   \n",
              "6  friday: take the train at 08:10 am, arrive at ...        54          10   \n",
              "\n",
              "   weekend      appointment_time  \n",
              "0     True                    []  \n",
              "1     True                    []  \n",
              "2    False             [(2, 45)]  \n",
              "3    False            [(11, 30)]  \n",
              "4    False             [(7, 00)]  \n",
              "5    False            [(11, 15)]  \n",
              "6    False  [(08, 10), (09, 00)]  "
            ],
            "text/html": [
              "\n",
              "  <div id=\"df-51898fbd-6d3e-4a3b-bd49-436aefc103a9\">\n",
              "    <div class=\"colab-df-container\">\n",
              "      <div>\n",
              "<style scoped>\n",
              "    .dataframe tbody tr th:only-of-type {\n",
              "        vertical-align: middle;\n",
              "    }\n",
              "\n",
              "    .dataframe tbody tr th {\n",
              "        vertical-align: top;\n",
              "    }\n",
              "\n",
              "    .dataframe thead th {\n",
              "        text-align: right;\n",
              "    }\n",
              "</style>\n",
              "<table border=\"1\" class=\"dataframe\">\n",
              "  <thead>\n",
              "    <tr style=\"text-align: right;\">\n",
              "      <th></th>\n",
              "      <th>text</th>\n",
              "      <th>text_len</th>\n",
              "      <th>word_count</th>\n",
              "      <th>weekend</th>\n",
              "      <th>appointment_time</th>\n",
              "    </tr>\n",
              "  </thead>\n",
              "  <tbody>\n",
              "    <tr>\n",
              "      <th>0</th>\n",
              "      <td>saturday: weekend (not working day)</td>\n",
              "      <td>35</td>\n",
              "      <td>5</td>\n",
              "      <td>True</td>\n",
              "      <td>[]</td>\n",
              "    </tr>\n",
              "    <tr>\n",
              "      <th>1</th>\n",
              "      <td>sunday: weekend (not working day)</td>\n",
              "      <td>33</td>\n",
              "      <td>5</td>\n",
              "      <td>True</td>\n",
              "      <td>[]</td>\n",
              "    </tr>\n",
              "    <tr>\n",
              "      <th>2</th>\n",
              "      <td>monday: the doctor's appointment is at 2:45pm.</td>\n",
              "      <td>46</td>\n",
              "      <td>7</td>\n",
              "      <td>False</td>\n",
              "      <td>[(2, 45)]</td>\n",
              "    </tr>\n",
              "    <tr>\n",
              "      <th>3</th>\n",
              "      <td>tuesday: the dentist's appointment is at 11:30...</td>\n",
              "      <td>50</td>\n",
              "      <td>8</td>\n",
              "      <td>False</td>\n",
              "      <td>[(11, 30)]</td>\n",
              "    </tr>\n",
              "    <tr>\n",
              "      <th>4</th>\n",
              "      <td>wednesday: at 7:00pm, there is a basketball game!</td>\n",
              "      <td>49</td>\n",
              "      <td>8</td>\n",
              "      <td>False</td>\n",
              "      <td>[(7, 00)]</td>\n",
              "    </tr>\n",
              "    <tr>\n",
              "      <th>5</th>\n",
              "      <td>thursday: be back home by 11:15 pm at the latest.</td>\n",
              "      <td>49</td>\n",
              "      <td>10</td>\n",
              "      <td>False</td>\n",
              "      <td>[(11, 15)]</td>\n",
              "    </tr>\n",
              "    <tr>\n",
              "      <th>6</th>\n",
              "      <td>friday: take the train at 08:10 am, arrive at ...</td>\n",
              "      <td>54</td>\n",
              "      <td>10</td>\n",
              "      <td>False</td>\n",
              "      <td>[(08, 10), (09, 00)]</td>\n",
              "    </tr>\n",
              "  </tbody>\n",
              "</table>\n",
              "</div>\n",
              "      <button class=\"colab-df-convert\" onclick=\"convertToInteractive('df-51898fbd-6d3e-4a3b-bd49-436aefc103a9')\"\n",
              "              title=\"Convert this dataframe to an interactive table.\"\n",
              "              style=\"display:none;\">\n",
              "        \n",
              "  <svg xmlns=\"http://www.w3.org/2000/svg\" height=\"24px\"viewBox=\"0 0 24 24\"\n",
              "       width=\"24px\">\n",
              "    <path d=\"M0 0h24v24H0V0z\" fill=\"none\"/>\n",
              "    <path d=\"M18.56 5.44l.94 2.06.94-2.06 2.06-.94-2.06-.94-.94-2.06-.94 2.06-2.06.94zm-11 1L8.5 8.5l.94-2.06 2.06-.94-2.06-.94L8.5 2.5l-.94 2.06-2.06.94zm10 10l.94 2.06.94-2.06 2.06-.94-2.06-.94-.94-2.06-.94 2.06-2.06.94z\"/><path d=\"M17.41 7.96l-1.37-1.37c-.4-.4-.92-.59-1.43-.59-.52 0-1.04.2-1.43.59L10.3 9.45l-7.72 7.72c-.78.78-.78 2.05 0 2.83L4 21.41c.39.39.9.59 1.41.59.51 0 1.02-.2 1.41-.59l7.78-7.78 2.81-2.81c.8-.78.8-2.07 0-2.86zM5.41 20L4 18.59l7.72-7.72 1.47 1.35L5.41 20z\"/>\n",
              "  </svg>\n",
              "      </button>\n",
              "      \n",
              "  <style>\n",
              "    .colab-df-container {\n",
              "      display:flex;\n",
              "      flex-wrap:wrap;\n",
              "      gap: 12px;\n",
              "    }\n",
              "\n",
              "    .colab-df-convert {\n",
              "      background-color: #E8F0FE;\n",
              "      border: none;\n",
              "      border-radius: 50%;\n",
              "      cursor: pointer;\n",
              "      display: none;\n",
              "      fill: #1967D2;\n",
              "      height: 32px;\n",
              "      padding: 0 0 0 0;\n",
              "      width: 32px;\n",
              "    }\n",
              "\n",
              "    .colab-df-convert:hover {\n",
              "      background-color: #E2EBFA;\n",
              "      box-shadow: 0px 1px 2px rgba(60, 64, 67, 0.3), 0px 1px 3px 1px rgba(60, 64, 67, 0.15);\n",
              "      fill: #174EA6;\n",
              "    }\n",
              "\n",
              "    [theme=dark] .colab-df-convert {\n",
              "      background-color: #3B4455;\n",
              "      fill: #D2E3FC;\n",
              "    }\n",
              "\n",
              "    [theme=dark] .colab-df-convert:hover {\n",
              "      background-color: #434B5C;\n",
              "      box-shadow: 0px 1px 3px 1px rgba(0, 0, 0, 0.15);\n",
              "      filter: drop-shadow(0px 1px 2px rgba(0, 0, 0, 0.3));\n",
              "      fill: #FFFFFF;\n",
              "    }\n",
              "  </style>\n",
              "\n",
              "      <script>\n",
              "        const buttonEl =\n",
              "          document.querySelector('#df-51898fbd-6d3e-4a3b-bd49-436aefc103a9 button.colab-df-convert');\n",
              "        buttonEl.style.display =\n",
              "          google.colab.kernel.accessAllowed ? 'block' : 'none';\n",
              "\n",
              "        async function convertToInteractive(key) {\n",
              "          const element = document.querySelector('#df-51898fbd-6d3e-4a3b-bd49-436aefc103a9');\n",
              "          const dataTable =\n",
              "            await google.colab.kernel.invokeFunction('convertToInteractive',\n",
              "                                                     [key], {});\n",
              "          if (!dataTable) return;\n",
              "\n",
              "          const docLinkHtml = 'Like what you see? Visit the ' +\n",
              "            '<a target=\"_blank\" href=https://colab.research.google.com/notebooks/data_table.ipynb>data table notebook</a>'\n",
              "            + ' to learn more about interactive tables.';\n",
              "          element.innerHTML = '';\n",
              "          dataTable['output_type'] = 'display_data';\n",
              "          await google.colab.output.renderOutput(dataTable, element);\n",
              "          const docLink = document.createElement('div');\n",
              "          docLink.innerHTML = docLinkHtml;\n",
              "          element.appendChild(docLink);\n",
              "        }\n",
              "      </script>\n",
              "    </div>\n",
              "  </div>\n",
              "  "
            ]
          },
          "metadata": {},
          "execution_count": 5
        }
      ]
    }
  ]
}