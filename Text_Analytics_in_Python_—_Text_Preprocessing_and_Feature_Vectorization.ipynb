{
  "nbformat": 4,
  "nbformat_minor": 0,
  "metadata": {
    "colab": {
      "provenance": [],
      "authorship_tag": "ABX9TyOxEnW+N8d8+X+UAqJMFaHh"
    },
    "kernelspec": {
      "name": "python3",
      "display_name": "Python 3"
    },
    "language_info": {
      "name": "python"
    }
  },
  "cells": [
    {
      "cell_type": "markdown",
      "source": [
        "[Reference](https://medium.com/@chyun55555/text-analytics-in-python-text-preprocessing-and-feature-vectorization-e04a3e89aefc)"
      ],
      "metadata": {
        "id": "Q6_iRJmWNDNn"
      }
    },
    {
      "cell_type": "code",
      "execution_count": 1,
      "metadata": {
        "colab": {
          "base_uri": "https://localhost:8080/"
        },
        "id": "HfH0stqmNBhB",
        "outputId": "ec939cc8-2558-4ee6-b499-4b6731dea43e"
      },
      "outputs": [
        {
          "output_type": "stream",
          "name": "stderr",
          "text": [
            "[nltk_data] Downloading package punkt to /root/nltk_data...\n",
            "[nltk_data]   Unzipping tokenizers/punkt.zip.\n"
          ]
        },
        {
          "output_type": "execute_result",
          "data": {
            "text/plain": [
              "True"
            ]
          },
          "metadata": {},
          "execution_count": 1
        }
      ],
      "source": [
        "import nltk\n",
        "from nltk import sent_tokenize\n",
        "nltk.download('punkt')"
      ]
    },
    {
      "cell_type": "code",
      "source": [
        "sample_text = \"A gallery of Lionel Messi celebrating Argentina's World Cup win has become the most-liked Instagram post ever. \\\n",
        "Hours after posting it, the footballer received more than 65 million likes - and the number is constantly rising. \\\n",
        "Argentina defeated France on penalties in Sunday's final in Qatar - their first World Cup triumph in 36 years.\"\n",
        "\n",
        "print('-----sample text-----\\n', sample_text, '\\n')\n",
        "\n",
        "sentences = sent_tokenize(text = sample_text)\n",
        "\n",
        "print('-----tokenized sentences-----\\n', sentences)\n",
        "print(type(sentences), len(sentences))"
      ],
      "metadata": {
        "colab": {
          "base_uri": "https://localhost:8080/"
        },
        "id": "4hVP_qTcNP2b",
        "outputId": "e39bd574-3c1c-4436-ff3c-c3b8bbf83a4e"
      },
      "execution_count": 2,
      "outputs": [
        {
          "output_type": "stream",
          "name": "stdout",
          "text": [
            "-----sample text-----\n",
            " A gallery of Lionel Messi celebrating Argentina's World Cup win has become the most-liked Instagram post ever. Hours after posting it, the footballer received more than 65 million likes - and the number is constantly rising. Argentina defeated France on penalties in Sunday's final in Qatar - their first World Cup triumph in 36 years. \n",
            "\n",
            "-----tokenized sentences-----\n",
            " [\"A gallery of Lionel Messi celebrating Argentina's World Cup win has become the most-liked Instagram post ever.\", 'Hours after posting it, the footballer received more than 65 million likes - and the number is constantly rising.', \"Argentina defeated France on penalties in Sunday's final in Qatar - their first World Cup triumph in 36 years.\"]\n",
            "<class 'list'> 3\n"
          ]
        }
      ]
    },
    {
      "cell_type": "code",
      "source": [
        "from nltk import word_tokenize\n",
        "\n",
        "sentence = \"A gallery of Lionel Messi celebrating Argentina's World Cup win has become the most-liked Instagram post ever.\"\n",
        "words = word_tokenize(sentence)\n",
        "print(words)"
      ],
      "metadata": {
        "colab": {
          "base_uri": "https://localhost:8080/"
        },
        "id": "uDJWN2UwNQKP",
        "outputId": "305c8c8a-e0aa-48da-86ae-aaa2359a54be"
      },
      "execution_count": 3,
      "outputs": [
        {
          "output_type": "stream",
          "name": "stdout",
          "text": [
            "['A', 'gallery', 'of', 'Lionel', 'Messi', 'celebrating', 'Argentina', \"'s\", 'World', 'Cup', 'win', 'has', 'become', 'the', 'most-liked', 'Instagram', 'post', 'ever', '.']\n"
          ]
        }
      ]
    },
    {
      "cell_type": "code",
      "source": [
        "def tokenize(document):\n",
        "    sentences = sent_tokenize(document)\n",
        "    words = [word_tokenize(i) for i in sentences]\n",
        "    return words\n",
        "\n",
        "print(tokenize(sample_text))"
      ],
      "metadata": {
        "colab": {
          "base_uri": "https://localhost:8080/"
        },
        "id": "O0OHAZP5NRhC",
        "outputId": "22db00a9-8e65-4d61-fac9-2f3d15466511"
      },
      "execution_count": 4,
      "outputs": [
        {
          "output_type": "stream",
          "name": "stdout",
          "text": [
            "[['A', 'gallery', 'of', 'Lionel', 'Messi', 'celebrating', 'Argentina', \"'s\", 'World', 'Cup', 'win', 'has', 'become', 'the', 'most-liked', 'Instagram', 'post', 'ever', '.'], ['Hours', 'after', 'posting', 'it', ',', 'the', 'footballer', 'received', 'more', 'than', '65', 'million', 'likes', '-', 'and', 'the', 'number', 'is', 'constantly', 'rising', '.'], ['Argentina', 'defeated', 'France', 'on', 'penalties', 'in', 'Sunday', \"'s\", 'final', 'in', 'Qatar', '-', 'their', 'first', 'World', 'Cup', 'triumph', 'in', '36', 'years', '.']]\n"
          ]
        }
      ]
    },
    {
      "cell_type": "code",
      "source": [
        "\"\"\"Download stopwords from NLTK\"\"\"\n",
        "import nltk\n",
        "nltk.download('stopwords')\n",
        "\n",
        "print('-----Examples of Stopwords in English-----\\n', nltk.corpus.stopwords.words('english')[:10], '\\n')\n",
        "print(f\"There are {len(nltk.corpus.stopwords.words('english'))} number of stopwords in English\\n\\n\")\n",
        "\n",
        "print('-----Examples of Stopwords in English-----\\n', nltk.corpus.stopwords.words('spanish')[:10], '\\n')\n",
        "print(f\"There are {len(nltk.corpus.stopwords.words('spanish'))} number of stopwords in Spanish\")"
      ],
      "metadata": {
        "colab": {
          "base_uri": "https://localhost:8080/"
        },
        "id": "z1iqfGvENS8p",
        "outputId": "4cc0fed6-b910-40cb-b2f2-ff5a20423d6e"
      },
      "execution_count": 5,
      "outputs": [
        {
          "output_type": "stream",
          "name": "stdout",
          "text": [
            "-----Examples of Stopwords in English-----\n",
            " ['i', 'me', 'my', 'myself', 'we', 'our', 'ours', 'ourselves', 'you', \"you're\"] \n",
            "\n",
            "There are 179 number of stopwords in English\n",
            "\n",
            "\n",
            "-----Examples of Stopwords in English-----\n",
            " ['de', 'la', 'que', 'el', 'en', 'y', 'a', 'los', 'del', 'se'] \n",
            "\n",
            "There are 313 number of stopwords in Spanish\n"
          ]
        },
        {
          "output_type": "stream",
          "name": "stderr",
          "text": [
            "[nltk_data] Downloading package stopwords to /root/nltk_data...\n",
            "[nltk_data]   Unzipping corpora/stopwords.zip.\n"
          ]
        }
      ]
    },
    {
      "cell_type": "code",
      "source": [
        "text = \"Its invasion in February managed to startle in every way. To those who thought Moscow was sane enough to not attempt such a massive and foolhardy undertaking. To those who felt the Russian military would waltz across a land of 40 million people and switch to clean-up operations within 10 days. And to those who felt they had the technical and intelligence prowess to do more than just randomly bombard civilian areas with ageing artillery; that the Kremlin’s military had evolved from the 90s levelling of Grozny in Chechnya.\"\n",
        "stopwords = nltk.corpus.stopwords.words('english') #stopwords\n",
        "\n",
        "all_tokens = []\n",
        "words = tokenize(text) #tokenize() is the function we created previously\n",
        "\n",
        "for sentence in words:\n",
        "    for word in sentence:\n",
        "        if not word.lower() in stopwords: #word.lower() because all stopwords are in lowercase\n",
        "            all_tokens.append(word.lower())\n",
        "            \n",
        "print(all_tokens)"
      ],
      "metadata": {
        "colab": {
          "base_uri": "https://localhost:8080/"
        },
        "id": "lpOkSJdNNWQJ",
        "outputId": "e9fb05de-bec5-4f3c-cf03-86245d7dad4e"
      },
      "execution_count": 6,
      "outputs": [
        {
          "output_type": "stream",
          "name": "stdout",
          "text": [
            "['invasion', 'february', 'managed', 'startle', 'every', 'way', '.', 'thought', 'moscow', 'sane', 'enough', 'attempt', 'massive', 'foolhardy', 'undertaking', '.', 'felt', 'russian', 'military', 'would', 'waltz', 'across', 'land', '40', 'million', 'people', 'switch', 'clean-up', 'operations', 'within', '10', 'days', '.', 'felt', 'technical', 'intelligence', 'prowess', 'randomly', 'bombard', 'civilian', 'areas', 'ageing', 'artillery', ';', 'kremlin', '’', 'military', 'evolved', '90s', 'levelling', 'grozny', 'chechnya', '.']\n"
          ]
        }
      ]
    },
    {
      "cell_type": "code",
      "source": [
        "from nltk.stem import LancasterStemmer\n",
        "\n",
        "stemmer = LancasterStemmer()\n",
        "\n",
        "print(stemmer.stem('printing'), stemmer.stem('printer'), stemmer.stem('printed'))\n",
        "print(stemmer.stem('debating'), stemmer.stem('debates'), stemmer.stem('debated'))\n",
        "print(stemmer.stem('happier'), stemmer.stem('happiest'))\n",
        "print(stemmer.stem('earlier'), stemmer.stem('earliest'))"
      ],
      "metadata": {
        "colab": {
          "base_uri": "https://localhost:8080/"
        },
        "id": "YZMmzYXBNaVU",
        "outputId": "d23ff2b7-a28c-49f8-a1de-f0246a3bac55"
      },
      "execution_count": 7,
      "outputs": [
        {
          "output_type": "stream",
          "name": "stdout",
          "text": [
            "print print print\n",
            "deb deb deb\n",
            "happy happiest\n",
            "ear earliest\n"
          ]
        }
      ]
    },
    {
      "cell_type": "code",
      "source": [
        "from nltk.stem import WordNetLemmatizer\n",
        "import nltk\n",
        "\n",
        "nltk.download('wordnet')\n",
        "nltk.download('omw-1.4')"
      ],
      "metadata": {
        "colab": {
          "base_uri": "https://localhost:8080/"
        },
        "id": "H_oDmwn-Ni82",
        "outputId": "4f6475ce-144f-485f-feee-7192fe64c563"
      },
      "execution_count": 8,
      "outputs": [
        {
          "output_type": "stream",
          "name": "stderr",
          "text": [
            "[nltk_data] Downloading package wordnet to /root/nltk_data...\n",
            "[nltk_data] Downloading package omw-1.4 to /root/nltk_data...\n"
          ]
        },
        {
          "output_type": "execute_result",
          "data": {
            "text/plain": [
              "True"
            ]
          },
          "metadata": {},
          "execution_count": 8
        }
      ]
    },
    {
      "cell_type": "code",
      "source": [
        "lem = WordNetLemmatizer()\n",
        "\n",
        "print(lem.lemmatize('debating', 'v'), lem.lemmatize('debating', 'n'))\n",
        "print(lem.lemmatize('earliest', 'a'), lem.lemmatize('earlier', 'a'))"
      ],
      "metadata": {
        "colab": {
          "base_uri": "https://localhost:8080/"
        },
        "id": "Whs365zsNkSk",
        "outputId": "32f85939-d38d-447c-e592-e13a5f2cdd38"
      },
      "execution_count": 9,
      "outputs": [
        {
          "output_type": "stream",
          "name": "stdout",
          "text": [
            "debate debating\n",
            "early early\n"
          ]
        }
      ]
    },
    {
      "cell_type": "code",
      "source": [
        "from sklearn.feature_extraction.text import CountVectorizer\n",
        "import pandas as pd\n",
        "\n",
        "text = ['hello world, welcome to the world of python', 'python is world', 'python is difficult', 'python is not difficult at all', 'i do not agree']\n",
        "cv = CountVectorizer()\n",
        "count_matrix = cv.fit_transform(text)\n",
        "count_array = count_matrix.toarray()\n",
        "count_df = pd.DataFrame(count_array, columns = cv.get_feature_names_out())\n",
        "\n",
        "count_df"
      ],
      "metadata": {
        "colab": {
          "base_uri": "https://localhost:8080/",
          "height": 268
        },
        "id": "V5PwJerDNlQQ",
        "outputId": "2f4aa59d-b2ee-47be-d2e8-0d36524afced"
      },
      "execution_count": 13,
      "outputs": [
        {
          "output_type": "execute_result",
          "data": {
            "text/plain": [
              "   agree  all  at  difficult  do  hello  is  not  of  python  the  to  \\\n",
              "0      0    0   0          0   0      1   0    0   1       1    1   1   \n",
              "1      0    0   0          0   0      0   1    0   0       1    0   0   \n",
              "2      0    0   0          1   0      0   1    0   0       1    0   0   \n",
              "3      0    1   1          1   0      0   1    1   0       1    0   0   \n",
              "4      1    0   0          0   1      0   0    1   0       0    0   0   \n",
              "\n",
              "   welcome  world  \n",
              "0        1      2  \n",
              "1        0      1  \n",
              "2        0      0  \n",
              "3        0      0  \n",
              "4        0      0  "
            ],
            "text/html": [
              "\n",
              "  <div id=\"df-c60476cf-39f4-4d0d-beaa-d4d4e989305a\">\n",
              "    <div class=\"colab-df-container\">\n",
              "      <div>\n",
              "<style scoped>\n",
              "    .dataframe tbody tr th:only-of-type {\n",
              "        vertical-align: middle;\n",
              "    }\n",
              "\n",
              "    .dataframe tbody tr th {\n",
              "        vertical-align: top;\n",
              "    }\n",
              "\n",
              "    .dataframe thead th {\n",
              "        text-align: right;\n",
              "    }\n",
              "</style>\n",
              "<table border=\"1\" class=\"dataframe\">\n",
              "  <thead>\n",
              "    <tr style=\"text-align: right;\">\n",
              "      <th></th>\n",
              "      <th>agree</th>\n",
              "      <th>all</th>\n",
              "      <th>at</th>\n",
              "      <th>difficult</th>\n",
              "      <th>do</th>\n",
              "      <th>hello</th>\n",
              "      <th>is</th>\n",
              "      <th>not</th>\n",
              "      <th>of</th>\n",
              "      <th>python</th>\n",
              "      <th>the</th>\n",
              "      <th>to</th>\n",
              "      <th>welcome</th>\n",
              "      <th>world</th>\n",
              "    </tr>\n",
              "  </thead>\n",
              "  <tbody>\n",
              "    <tr>\n",
              "      <th>0</th>\n",
              "      <td>0</td>\n",
              "      <td>0</td>\n",
              "      <td>0</td>\n",
              "      <td>0</td>\n",
              "      <td>0</td>\n",
              "      <td>1</td>\n",
              "      <td>0</td>\n",
              "      <td>0</td>\n",
              "      <td>1</td>\n",
              "      <td>1</td>\n",
              "      <td>1</td>\n",
              "      <td>1</td>\n",
              "      <td>1</td>\n",
              "      <td>2</td>\n",
              "    </tr>\n",
              "    <tr>\n",
              "      <th>1</th>\n",
              "      <td>0</td>\n",
              "      <td>0</td>\n",
              "      <td>0</td>\n",
              "      <td>0</td>\n",
              "      <td>0</td>\n",
              "      <td>0</td>\n",
              "      <td>1</td>\n",
              "      <td>0</td>\n",
              "      <td>0</td>\n",
              "      <td>1</td>\n",
              "      <td>0</td>\n",
              "      <td>0</td>\n",
              "      <td>0</td>\n",
              "      <td>1</td>\n",
              "    </tr>\n",
              "    <tr>\n",
              "      <th>2</th>\n",
              "      <td>0</td>\n",
              "      <td>0</td>\n",
              "      <td>0</td>\n",
              "      <td>1</td>\n",
              "      <td>0</td>\n",
              "      <td>0</td>\n",
              "      <td>1</td>\n",
              "      <td>0</td>\n",
              "      <td>0</td>\n",
              "      <td>1</td>\n",
              "      <td>0</td>\n",
              "      <td>0</td>\n",
              "      <td>0</td>\n",
              "      <td>0</td>\n",
              "    </tr>\n",
              "    <tr>\n",
              "      <th>3</th>\n",
              "      <td>0</td>\n",
              "      <td>1</td>\n",
              "      <td>1</td>\n",
              "      <td>1</td>\n",
              "      <td>0</td>\n",
              "      <td>0</td>\n",
              "      <td>1</td>\n",
              "      <td>1</td>\n",
              "      <td>0</td>\n",
              "      <td>1</td>\n",
              "      <td>0</td>\n",
              "      <td>0</td>\n",
              "      <td>0</td>\n",
              "      <td>0</td>\n",
              "    </tr>\n",
              "    <tr>\n",
              "      <th>4</th>\n",
              "      <td>1</td>\n",
              "      <td>0</td>\n",
              "      <td>0</td>\n",
              "      <td>0</td>\n",
              "      <td>1</td>\n",
              "      <td>0</td>\n",
              "      <td>0</td>\n",
              "      <td>1</td>\n",
              "      <td>0</td>\n",
              "      <td>0</td>\n",
              "      <td>0</td>\n",
              "      <td>0</td>\n",
              "      <td>0</td>\n",
              "      <td>0</td>\n",
              "    </tr>\n",
              "  </tbody>\n",
              "</table>\n",
              "</div>\n",
              "      <button class=\"colab-df-convert\" onclick=\"convertToInteractive('df-c60476cf-39f4-4d0d-beaa-d4d4e989305a')\"\n",
              "              title=\"Convert this dataframe to an interactive table.\"\n",
              "              style=\"display:none;\">\n",
              "        \n",
              "  <svg xmlns=\"http://www.w3.org/2000/svg\" height=\"24px\"viewBox=\"0 0 24 24\"\n",
              "       width=\"24px\">\n",
              "    <path d=\"M0 0h24v24H0V0z\" fill=\"none\"/>\n",
              "    <path d=\"M18.56 5.44l.94 2.06.94-2.06 2.06-.94-2.06-.94-.94-2.06-.94 2.06-2.06.94zm-11 1L8.5 8.5l.94-2.06 2.06-.94-2.06-.94L8.5 2.5l-.94 2.06-2.06.94zm10 10l.94 2.06.94-2.06 2.06-.94-2.06-.94-.94-2.06-.94 2.06-2.06.94z\"/><path d=\"M17.41 7.96l-1.37-1.37c-.4-.4-.92-.59-1.43-.59-.52 0-1.04.2-1.43.59L10.3 9.45l-7.72 7.72c-.78.78-.78 2.05 0 2.83L4 21.41c.39.39.9.59 1.41.59.51 0 1.02-.2 1.41-.59l7.78-7.78 2.81-2.81c.8-.78.8-2.07 0-2.86zM5.41 20L4 18.59l7.72-7.72 1.47 1.35L5.41 20z\"/>\n",
              "  </svg>\n",
              "      </button>\n",
              "      \n",
              "  <style>\n",
              "    .colab-df-container {\n",
              "      display:flex;\n",
              "      flex-wrap:wrap;\n",
              "      gap: 12px;\n",
              "    }\n",
              "\n",
              "    .colab-df-convert {\n",
              "      background-color: #E8F0FE;\n",
              "      border: none;\n",
              "      border-radius: 50%;\n",
              "      cursor: pointer;\n",
              "      display: none;\n",
              "      fill: #1967D2;\n",
              "      height: 32px;\n",
              "      padding: 0 0 0 0;\n",
              "      width: 32px;\n",
              "    }\n",
              "\n",
              "    .colab-df-convert:hover {\n",
              "      background-color: #E2EBFA;\n",
              "      box-shadow: 0px 1px 2px rgba(60, 64, 67, 0.3), 0px 1px 3px 1px rgba(60, 64, 67, 0.15);\n",
              "      fill: #174EA6;\n",
              "    }\n",
              "\n",
              "    [theme=dark] .colab-df-convert {\n",
              "      background-color: #3B4455;\n",
              "      fill: #D2E3FC;\n",
              "    }\n",
              "\n",
              "    [theme=dark] .colab-df-convert:hover {\n",
              "      background-color: #434B5C;\n",
              "      box-shadow: 0px 1px 3px 1px rgba(0, 0, 0, 0.15);\n",
              "      filter: drop-shadow(0px 1px 2px rgba(0, 0, 0, 0.3));\n",
              "      fill: #FFFFFF;\n",
              "    }\n",
              "  </style>\n",
              "\n",
              "      <script>\n",
              "        const buttonEl =\n",
              "          document.querySelector('#df-c60476cf-39f4-4d0d-beaa-d4d4e989305a button.colab-df-convert');\n",
              "        buttonEl.style.display =\n",
              "          google.colab.kernel.accessAllowed ? 'block' : 'none';\n",
              "\n",
              "        async function convertToInteractive(key) {\n",
              "          const element = document.querySelector('#df-c60476cf-39f4-4d0d-beaa-d4d4e989305a');\n",
              "          const dataTable =\n",
              "            await google.colab.kernel.invokeFunction('convertToInteractive',\n",
              "                                                     [key], {});\n",
              "          if (!dataTable) return;\n",
              "\n",
              "          const docLinkHtml = 'Like what you see? Visit the ' +\n",
              "            '<a target=\"_blank\" href=https://colab.research.google.com/notebooks/data_table.ipynb>data table notebook</a>'\n",
              "            + ' to learn more about interactive tables.';\n",
              "          element.innerHTML = '';\n",
              "          dataTable['output_type'] = 'display_data';\n",
              "          await google.colab.output.renderOutput(dataTable, element);\n",
              "          const docLink = document.createElement('div');\n",
              "          docLink.innerHTML = docLinkHtml;\n",
              "          element.appendChild(docLink);\n",
              "        }\n",
              "      </script>\n",
              "    </div>\n",
              "  </div>\n",
              "  "
            ]
          },
          "metadata": {},
          "execution_count": 13
        }
      ]
    },
    {
      "cell_type": "code",
      "source": [
        "from sklearn.feature_extraction.text import TfidfVectorizer\n",
        "\n",
        "\n",
        "text = ['hello world, welcome to the world of python', 'python is world', 'python is difficult', 'python is not difficult at all', 'i do not agree']\n",
        "tfidf = TfidfVectorizer()\n",
        "tfidf_array = tfidf.fit_transform(text).toarray()\n",
        "tfidf_df = pd.DataFrame(tfidf_array, columns = tfidf.get_feature_names_out())\n",
        "tfidf_df"
      ],
      "metadata": {
        "colab": {
          "base_uri": "https://localhost:8080/",
          "height": 268
        },
        "id": "Dl77zWUlNmyJ",
        "outputId": "9ac591db-5df8-42b2-b09d-f4ac351cd895"
      },
      "execution_count": 14,
      "outputs": [
        {
          "output_type": "execute_result",
          "data": {
            "text/plain": [
              "      agree       all        at  difficult        do     hello        is  \\\n",
              "0  0.000000  0.000000  0.000000   0.000000  0.000000  0.355311  0.000000   \n",
              "1  0.000000  0.000000  0.000000   0.000000  0.000000  0.000000  0.562638   \n",
              "2  0.000000  0.000000  0.000000   0.677803  0.000000  0.000000  0.562638   \n",
              "3  0.000000  0.495819  0.495819   0.400024  0.000000  0.000000  0.332056   \n",
              "4  0.614189  0.000000  0.000000   0.000000  0.614189  0.000000  0.000000   \n",
              "\n",
              "        not        of    python       the        to   welcome     world  \n",
              "0  0.000000  0.355311  0.200176  0.355311  0.355311  0.355311  0.573325  \n",
              "1  0.000000  0.000000  0.473309  0.000000  0.000000  0.000000  0.677803  \n",
              "2  0.000000  0.000000  0.473309  0.000000  0.000000  0.000000  0.000000  \n",
              "3  0.400024  0.000000  0.279336  0.000000  0.000000  0.000000  0.000000  \n",
              "4  0.495524  0.000000  0.000000  0.000000  0.000000  0.000000  0.000000  "
            ],
            "text/html": [
              "\n",
              "  <div id=\"df-445b6370-de18-4a9b-8977-0112082e7e2b\">\n",
              "    <div class=\"colab-df-container\">\n",
              "      <div>\n",
              "<style scoped>\n",
              "    .dataframe tbody tr th:only-of-type {\n",
              "        vertical-align: middle;\n",
              "    }\n",
              "\n",
              "    .dataframe tbody tr th {\n",
              "        vertical-align: top;\n",
              "    }\n",
              "\n",
              "    .dataframe thead th {\n",
              "        text-align: right;\n",
              "    }\n",
              "</style>\n",
              "<table border=\"1\" class=\"dataframe\">\n",
              "  <thead>\n",
              "    <tr style=\"text-align: right;\">\n",
              "      <th></th>\n",
              "      <th>agree</th>\n",
              "      <th>all</th>\n",
              "      <th>at</th>\n",
              "      <th>difficult</th>\n",
              "      <th>do</th>\n",
              "      <th>hello</th>\n",
              "      <th>is</th>\n",
              "      <th>not</th>\n",
              "      <th>of</th>\n",
              "      <th>python</th>\n",
              "      <th>the</th>\n",
              "      <th>to</th>\n",
              "      <th>welcome</th>\n",
              "      <th>world</th>\n",
              "    </tr>\n",
              "  </thead>\n",
              "  <tbody>\n",
              "    <tr>\n",
              "      <th>0</th>\n",
              "      <td>0.000000</td>\n",
              "      <td>0.000000</td>\n",
              "      <td>0.000000</td>\n",
              "      <td>0.000000</td>\n",
              "      <td>0.000000</td>\n",
              "      <td>0.355311</td>\n",
              "      <td>0.000000</td>\n",
              "      <td>0.000000</td>\n",
              "      <td>0.355311</td>\n",
              "      <td>0.200176</td>\n",
              "      <td>0.355311</td>\n",
              "      <td>0.355311</td>\n",
              "      <td>0.355311</td>\n",
              "      <td>0.573325</td>\n",
              "    </tr>\n",
              "    <tr>\n",
              "      <th>1</th>\n",
              "      <td>0.000000</td>\n",
              "      <td>0.000000</td>\n",
              "      <td>0.000000</td>\n",
              "      <td>0.000000</td>\n",
              "      <td>0.000000</td>\n",
              "      <td>0.000000</td>\n",
              "      <td>0.562638</td>\n",
              "      <td>0.000000</td>\n",
              "      <td>0.000000</td>\n",
              "      <td>0.473309</td>\n",
              "      <td>0.000000</td>\n",
              "      <td>0.000000</td>\n",
              "      <td>0.000000</td>\n",
              "      <td>0.677803</td>\n",
              "    </tr>\n",
              "    <tr>\n",
              "      <th>2</th>\n",
              "      <td>0.000000</td>\n",
              "      <td>0.000000</td>\n",
              "      <td>0.000000</td>\n",
              "      <td>0.677803</td>\n",
              "      <td>0.000000</td>\n",
              "      <td>0.000000</td>\n",
              "      <td>0.562638</td>\n",
              "      <td>0.000000</td>\n",
              "      <td>0.000000</td>\n",
              "      <td>0.473309</td>\n",
              "      <td>0.000000</td>\n",
              "      <td>0.000000</td>\n",
              "      <td>0.000000</td>\n",
              "      <td>0.000000</td>\n",
              "    </tr>\n",
              "    <tr>\n",
              "      <th>3</th>\n",
              "      <td>0.000000</td>\n",
              "      <td>0.495819</td>\n",
              "      <td>0.495819</td>\n",
              "      <td>0.400024</td>\n",
              "      <td>0.000000</td>\n",
              "      <td>0.000000</td>\n",
              "      <td>0.332056</td>\n",
              "      <td>0.400024</td>\n",
              "      <td>0.000000</td>\n",
              "      <td>0.279336</td>\n",
              "      <td>0.000000</td>\n",
              "      <td>0.000000</td>\n",
              "      <td>0.000000</td>\n",
              "      <td>0.000000</td>\n",
              "    </tr>\n",
              "    <tr>\n",
              "      <th>4</th>\n",
              "      <td>0.614189</td>\n",
              "      <td>0.000000</td>\n",
              "      <td>0.000000</td>\n",
              "      <td>0.000000</td>\n",
              "      <td>0.614189</td>\n",
              "      <td>0.000000</td>\n",
              "      <td>0.000000</td>\n",
              "      <td>0.495524</td>\n",
              "      <td>0.000000</td>\n",
              "      <td>0.000000</td>\n",
              "      <td>0.000000</td>\n",
              "      <td>0.000000</td>\n",
              "      <td>0.000000</td>\n",
              "      <td>0.000000</td>\n",
              "    </tr>\n",
              "  </tbody>\n",
              "</table>\n",
              "</div>\n",
              "      <button class=\"colab-df-convert\" onclick=\"convertToInteractive('df-445b6370-de18-4a9b-8977-0112082e7e2b')\"\n",
              "              title=\"Convert this dataframe to an interactive table.\"\n",
              "              style=\"display:none;\">\n",
              "        \n",
              "  <svg xmlns=\"http://www.w3.org/2000/svg\" height=\"24px\"viewBox=\"0 0 24 24\"\n",
              "       width=\"24px\">\n",
              "    <path d=\"M0 0h24v24H0V0z\" fill=\"none\"/>\n",
              "    <path d=\"M18.56 5.44l.94 2.06.94-2.06 2.06-.94-2.06-.94-.94-2.06-.94 2.06-2.06.94zm-11 1L8.5 8.5l.94-2.06 2.06-.94-2.06-.94L8.5 2.5l-.94 2.06-2.06.94zm10 10l.94 2.06.94-2.06 2.06-.94-2.06-.94-.94-2.06-.94 2.06-2.06.94z\"/><path d=\"M17.41 7.96l-1.37-1.37c-.4-.4-.92-.59-1.43-.59-.52 0-1.04.2-1.43.59L10.3 9.45l-7.72 7.72c-.78.78-.78 2.05 0 2.83L4 21.41c.39.39.9.59 1.41.59.51 0 1.02-.2 1.41-.59l7.78-7.78 2.81-2.81c.8-.78.8-2.07 0-2.86zM5.41 20L4 18.59l7.72-7.72 1.47 1.35L5.41 20z\"/>\n",
              "  </svg>\n",
              "      </button>\n",
              "      \n",
              "  <style>\n",
              "    .colab-df-container {\n",
              "      display:flex;\n",
              "      flex-wrap:wrap;\n",
              "      gap: 12px;\n",
              "    }\n",
              "\n",
              "    .colab-df-convert {\n",
              "      background-color: #E8F0FE;\n",
              "      border: none;\n",
              "      border-radius: 50%;\n",
              "      cursor: pointer;\n",
              "      display: none;\n",
              "      fill: #1967D2;\n",
              "      height: 32px;\n",
              "      padding: 0 0 0 0;\n",
              "      width: 32px;\n",
              "    }\n",
              "\n",
              "    .colab-df-convert:hover {\n",
              "      background-color: #E2EBFA;\n",
              "      box-shadow: 0px 1px 2px rgba(60, 64, 67, 0.3), 0px 1px 3px 1px rgba(60, 64, 67, 0.15);\n",
              "      fill: #174EA6;\n",
              "    }\n",
              "\n",
              "    [theme=dark] .colab-df-convert {\n",
              "      background-color: #3B4455;\n",
              "      fill: #D2E3FC;\n",
              "    }\n",
              "\n",
              "    [theme=dark] .colab-df-convert:hover {\n",
              "      background-color: #434B5C;\n",
              "      box-shadow: 0px 1px 3px 1px rgba(0, 0, 0, 0.15);\n",
              "      filter: drop-shadow(0px 1px 2px rgba(0, 0, 0, 0.3));\n",
              "      fill: #FFFFFF;\n",
              "    }\n",
              "  </style>\n",
              "\n",
              "      <script>\n",
              "        const buttonEl =\n",
              "          document.querySelector('#df-445b6370-de18-4a9b-8977-0112082e7e2b button.colab-df-convert');\n",
              "        buttonEl.style.display =\n",
              "          google.colab.kernel.accessAllowed ? 'block' : 'none';\n",
              "\n",
              "        async function convertToInteractive(key) {\n",
              "          const element = document.querySelector('#df-445b6370-de18-4a9b-8977-0112082e7e2b');\n",
              "          const dataTable =\n",
              "            await google.colab.kernel.invokeFunction('convertToInteractive',\n",
              "                                                     [key], {});\n",
              "          if (!dataTable) return;\n",
              "\n",
              "          const docLinkHtml = 'Like what you see? Visit the ' +\n",
              "            '<a target=\"_blank\" href=https://colab.research.google.com/notebooks/data_table.ipynb>data table notebook</a>'\n",
              "            + ' to learn more about interactive tables.';\n",
              "          element.innerHTML = '';\n",
              "          dataTable['output_type'] = 'display_data';\n",
              "          await google.colab.output.renderOutput(dataTable, element);\n",
              "          const docLink = document.createElement('div');\n",
              "          docLink.innerHTML = docLinkHtml;\n",
              "          element.appendChild(docLink);\n",
              "        }\n",
              "      </script>\n",
              "    </div>\n",
              "  </div>\n",
              "  "
            ]
          },
          "metadata": {},
          "execution_count": 14
        }
      ]
    }
  ]
}