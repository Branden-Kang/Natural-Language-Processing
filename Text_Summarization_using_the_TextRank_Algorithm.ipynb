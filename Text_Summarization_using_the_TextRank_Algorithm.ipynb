{
  "nbformat": 4,
  "nbformat_minor": 0,
  "metadata": {
    "colab": {
      "name": "Text Summarization using the TextRank Algorithm.ipynb",
      "provenance": [],
      "authorship_tag": "ABX9TyNM7PkqrcGaOS2Kz/8CpR3Y"
    },
    "kernelspec": {
      "name": "python3",
      "display_name": "Python 3"
    }
  },
  "cells": [
    {
      "cell_type": "markdown",
      "metadata": {
        "id": "7g-JJctjAYKF",
        "colab_type": "text"
      },
      "source": [
        "# Text Summarization using the TextRank Algorithm\n",
        "- [Reference](https://medium.com/analytics-vidhya/an-introduction-to-text-summarization-using-the-textrank-algorithm-with-python-implementation-2370c39d0c60)"
      ]
    },
    {
      "cell_type": "markdown",
      "metadata": {
        "id": "17HMWmA6Ang_",
        "colab_type": "text"
      },
      "source": [
        "We can divide Text summarization into two: Extractive Summarization and Abstractive Summarization.\n",
        "\n",
        "- Extractive Summarization: These methods rely on extracting several parts, such as phrases and sentences, from a piece of text and stack them together to create a summary.\n",
        "- Abstractive Summarization: These methods use advanced NLP techniques to generate an entirely new summary.\n"
      ]
    },
    {
      "cell_type": "markdown",
      "metadata": {
        "id": "CMSFp9Vn_ZPC",
        "colab_type": "text"
      },
      "source": [
        "![alt text](https://cdn.analyticsvidhya.com/wp-content/uploads/2018/10/block_3.png)"
      ]
    },
    {
      "cell_type": "markdown",
      "metadata": {
        "id": "KqG1U8PMA9KG",
        "colab_type": "text"
      },
      "source": [
        "1. Concatenate all the text contained in the articles\n",
        "2. Split the text into individual sentences\n",
        "3. Find vector representation\n",
        "4. Similarities between sentence vectors are then calculated and stored in a matrix\n",
        "5. The similarity matrix is then converted into a graph\n",
        "6. a certain number of top-ranked sentences form the final summary\n",
        "\n",
        "\n",
        "\n"
      ]
    },
    {
      "cell_type": "markdown",
      "metadata": {
        "id": "4kj5h42ulFq1",
        "colab_type": "text"
      },
      "source": [
        "# Import Required Libraries\n"
      ]
    },
    {
      "cell_type": "code",
      "metadata": {
        "id": "_y70zgrtk_g-",
        "colab_type": "code",
        "colab": {
          "base_uri": "https://localhost:8080/",
          "height": 85
        },
        "outputId": "4cf998b8-285f-43c4-92b0-075e5b7ef25b"
      },
      "source": [
        "import numpy as np \n",
        "import pandas as pd \n",
        "import nltk\n",
        "from nltk.tokenize import sent_tokenize\n",
        "from nltk.corpus import stopwords\n",
        "nltk.download('punkt')\n",
        "nltk.download('stopwords')\n",
        "import re"
      ],
      "execution_count": 1,
      "outputs": [
        {
          "output_type": "stream",
          "text": [
            "[nltk_data] Downloading package punkt to /root/nltk_data...\n",
            "[nltk_data]   Unzipping tokenizers/punkt.zip.\n",
            "[nltk_data] Downloading package stopwords to /root/nltk_data...\n",
            "[nltk_data]   Unzipping corpora/stopwords.zip.\n"
          ],
          "name": "stdout"
        }
      ]
    },
    {
      "cell_type": "markdown",
      "metadata": {
        "id": "so1h5xeXlOcW",
        "colab_type": "text"
      },
      "source": [
        "# Read the Data"
      ]
    },
    {
      "cell_type": "code",
      "metadata": {
        "id": "-xdLSycplMNZ",
        "colab_type": "code",
        "colab": {}
      },
      "source": [
        "df = pd.read_csv(\"https://s3-ap-south-1.amazonaws.com/av-blog-media/wp-content/uploads/2018/10/tennis_articles_v4.csv\")"
      ],
      "execution_count": 0,
      "outputs": []
    },
    {
      "cell_type": "markdown",
      "metadata": {
        "id": "nKHxbEitlRGn",
        "colab_type": "text"
      },
      "source": [
        "# Inspect the Data"
      ]
    },
    {
      "cell_type": "code",
      "metadata": {
        "id": "NILZ5HyJlRhK",
        "colab_type": "code",
        "colab": {
          "base_uri": "https://localhost:8080/",
          "height": 306
        },
        "outputId": "bc0ccc75-d9bf-48f5-b6bc-244d6aa0dab7"
      },
      "source": [
        "df.head()"
      ],
      "execution_count": 3,
      "outputs": [
        {
          "output_type": "execute_result",
          "data": {
            "text/html": [
              "<div>\n",
              "<style scoped>\n",
              "    .dataframe tbody tr th:only-of-type {\n",
              "        vertical-align: middle;\n",
              "    }\n",
              "\n",
              "    .dataframe tbody tr th {\n",
              "        vertical-align: top;\n",
              "    }\n",
              "\n",
              "    .dataframe thead th {\n",
              "        text-align: right;\n",
              "    }\n",
              "</style>\n",
              "<table border=\"1\" class=\"dataframe\">\n",
              "  <thead>\n",
              "    <tr style=\"text-align: right;\">\n",
              "      <th></th>\n",
              "      <th>article_id</th>\n",
              "      <th>article_text</th>\n",
              "      <th>source</th>\n",
              "    </tr>\n",
              "  </thead>\n",
              "  <tbody>\n",
              "    <tr>\n",
              "      <th>0</th>\n",
              "      <td>1</td>\n",
              "      <td>Maria Sharapova has basically no friends as te...</td>\n",
              "      <td>https://www.tennisworldusa.org/tennis/news/Mar...</td>\n",
              "    </tr>\n",
              "    <tr>\n",
              "      <th>1</th>\n",
              "      <td>2</td>\n",
              "      <td>BASEL, Switzerland (AP), Roger Federer advance...</td>\n",
              "      <td>http://www.tennis.com/pro-game/2018/10/copil-s...</td>\n",
              "    </tr>\n",
              "    <tr>\n",
              "      <th>2</th>\n",
              "      <td>3</td>\n",
              "      <td>Roger Federer has revealed that organisers of ...</td>\n",
              "      <td>https://scroll.in/field/899938/tennis-roger-fe...</td>\n",
              "    </tr>\n",
              "    <tr>\n",
              "      <th>3</th>\n",
              "      <td>4</td>\n",
              "      <td>Kei Nishikori will try to end his long losing ...</td>\n",
              "      <td>http://www.tennis.com/pro-game/2018/10/nishiko...</td>\n",
              "    </tr>\n",
              "    <tr>\n",
              "      <th>4</th>\n",
              "      <td>5</td>\n",
              "      <td>Federer, 37, first broke through on tour over ...</td>\n",
              "      <td>https://www.express.co.uk/sport/tennis/1036101...</td>\n",
              "    </tr>\n",
              "  </tbody>\n",
              "</table>\n",
              "</div>"
            ],
            "text/plain": [
              "   article_id  ...                                             source\n",
              "0           1  ...  https://www.tennisworldusa.org/tennis/news/Mar...\n",
              "1           2  ...  http://www.tennis.com/pro-game/2018/10/copil-s...\n",
              "2           3  ...  https://scroll.in/field/899938/tennis-roger-fe...\n",
              "3           4  ...  http://www.tennis.com/pro-game/2018/10/nishiko...\n",
              "4           5  ...  https://www.express.co.uk/sport/tennis/1036101...\n",
              "\n",
              "[5 rows x 3 columns]"
            ]
          },
          "metadata": {
            "tags": []
          },
          "execution_count": 3
        }
      ]
    },
    {
      "cell_type": "code",
      "metadata": {
        "id": "0qm48HH7lZYU",
        "colab_type": "code",
        "colab": {
          "base_uri": "https://localhost:8080/",
          "height": 54
        },
        "outputId": "3fcc5440-a451-4f6d-eed7-6e9a85a15ac6"
      },
      "source": [
        "df['article_text'][0]"
      ],
      "execution_count": 4,
      "outputs": [
        {
          "output_type": "execute_result",
          "data": {
            "text/plain": [
              "\"Maria Sharapova has basically no friends as tennis players on the WTA Tour. The Russian player has no problems in openly speaking about it and in a recent interview she said: 'I don't really hide any feelings too much. I think everyone knows this is my job here. When I'm on the courts or when I'm on the court playing, I'm a competitor and I want to beat every single person whether they're in the locker room or across the net.So I'm not the one to strike up a conversation about the weather and know that in the next few minutes I have to go and try to win a tennis match. I'm a pretty competitive girl. I say my hellos, but I'm not sending any players flowers as well. Uhm, I'm not really friendly or close to many players. I have not a lot of friends away from the courts.' When she said she is not really close to a lot of players, is that something strategic that she is doing? Is it different on the men's tour than the women's tour? 'No, not at all. I think just because you're in the same sport doesn't mean that you have to be friends with everyone just because you're categorized, you're a tennis player, so you're going to get along with tennis players. I think every person has different interests. I have friends that have completely different jobs and interests, and I've met them in very different parts of my life. I think everyone just thinks because we're tennis players we should be the greatest of friends. But ultimately tennis is just a very small part of what we do. There are so many other things that we're interested in, that we do.'\""
            ]
          },
          "metadata": {
            "tags": []
          },
          "execution_count": 4
        }
      ]
    },
    {
      "cell_type": "code",
      "metadata": {
        "id": "CJ2rzJOI-QuZ",
        "colab_type": "code",
        "colab": {
          "base_uri": "https://localhost:8080/",
          "height": 34
        },
        "outputId": "33d4f63b-34b7-47eb-f63e-7f13484c7d48"
      },
      "source": [
        "df.shape"
      ],
      "execution_count": 5,
      "outputs": [
        {
          "output_type": "execute_result",
          "data": {
            "text/plain": [
              "(8, 3)"
            ]
          },
          "metadata": {
            "tags": []
          },
          "execution_count": 5
        }
      ]
    },
    {
      "cell_type": "markdown",
      "metadata": {
        "id": "GBfjxt9_lbaB",
        "colab_type": "text"
      },
      "source": [
        "# Split Text into Sentences\n"
      ]
    },
    {
      "cell_type": "code",
      "metadata": {
        "id": "NuajZnlAlZuA",
        "colab_type": "code",
        "colab": {}
      },
      "source": [
        "sentences = [] \n",
        "for s in df['article_text']: \n",
        "  sentences.append(sent_tokenize(s))\n",
        "# flatten the list\n",
        "sentences = [y for x in sentences for y in x]"
      ],
      "execution_count": 0,
      "outputs": []
    },
    {
      "cell_type": "code",
      "metadata": {
        "id": "0X373x33ldPT",
        "colab_type": "code",
        "colab": {
          "base_uri": "https://localhost:8080/",
          "height": 122
        },
        "outputId": "7ba1a317-092d-423a-aaa7-81e37013f819"
      },
      "source": [
        "sentences[:5]"
      ],
      "execution_count": 7,
      "outputs": [
        {
          "output_type": "execute_result",
          "data": {
            "text/plain": [
              "['Maria Sharapova has basically no friends as tennis players on the WTA Tour.',\n",
              " \"The Russian player has no problems in openly speaking about it and in a recent interview she said: 'I don't really hide any feelings too much.\",\n",
              " 'I think everyone knows this is my job here.',\n",
              " \"When I'm on the courts or when I'm on the court playing, I'm a competitor and I want to beat every single person whether they're in the locker room or across the net.So I'm not the one to strike up a conversation about the weather and know that in the next few minutes I have to go and try to win a tennis match.\",\n",
              " \"I'm a pretty competitive girl.\"]"
            ]
          },
          "metadata": {
            "tags": []
          },
          "execution_count": 7
        }
      ]
    },
    {
      "cell_type": "markdown",
      "metadata": {
        "id": "lmg0PU6h9kXf",
        "colab_type": "text"
      },
      "source": [
        "# Text Preprocessing"
      ]
    },
    {
      "cell_type": "code",
      "metadata": {
        "id": "1RKgMNhE9lWS",
        "colab_type": "code",
        "colab": {}
      },
      "source": [
        "# remove punctuations, numbers and special characters \n",
        "clean_sentences = pd.Series(sentences).str.replace(\"[^a-zA-Z]\", \" \") \n",
        "# make alphabets lowercase \n",
        "clean_sentences = [s.lower() for s in clean_sentences]"
      ],
      "execution_count": 0,
      "outputs": []
    },
    {
      "cell_type": "code",
      "metadata": {
        "id": "q9LKLbvR9yzX",
        "colab_type": "code",
        "colab": {}
      },
      "source": [
        "stop_words = stopwords.words('english')"
      ],
      "execution_count": 0,
      "outputs": []
    },
    {
      "cell_type": "code",
      "metadata": {
        "id": "W4VlAe5n96GK",
        "colab_type": "code",
        "colab": {}
      },
      "source": [
        "# function to remove stopwords \n",
        "def remove_stopwords(sen):     \n",
        "    sen_new = \" \".join([i for i in sen if i not in stop_words])          \n",
        "    return sen_new\n",
        "# remove stopwords from the sentences \n",
        "clean_sentences = [remove_stopwords(r.split()) for r in clean_sentences]"
      ],
      "execution_count": 0,
      "outputs": []
    },
    {
      "cell_type": "markdown",
      "metadata": {
        "id": "CLp3frvMlgec",
        "colab_type": "text"
      },
      "source": [
        "# Download GloVe Word Embeddings"
      ]
    },
    {
      "cell_type": "code",
      "metadata": {
        "id": "UdzoUIpwle9n",
        "colab_type": "code",
        "colab": {
          "base_uri": "https://localhost:8080/",
          "height": 462
        },
        "outputId": "efc27785-aff7-462e-dab2-b580f387e7d2"
      },
      "source": [
        "!wget http://nlp.stanford.edu/data/glove.6B.zip \n",
        "!unzip glove*.zip"
      ],
      "execution_count": 11,
      "outputs": [
        {
          "output_type": "stream",
          "text": [
            "--2020-06-10 02:13:40--  http://nlp.stanford.edu/data/glove.6B.zip\n",
            "Resolving nlp.stanford.edu (nlp.stanford.edu)... 171.64.67.140\n",
            "Connecting to nlp.stanford.edu (nlp.stanford.edu)|171.64.67.140|:80... connected.\n",
            "HTTP request sent, awaiting response... 302 Found\n",
            "Location: https://nlp.stanford.edu/data/glove.6B.zip [following]\n",
            "--2020-06-10 02:13:40--  https://nlp.stanford.edu/data/glove.6B.zip\n",
            "Connecting to nlp.stanford.edu (nlp.stanford.edu)|171.64.67.140|:443... connected.\n",
            "HTTP request sent, awaiting response... 301 Moved Permanently\n",
            "Location: http://downloads.cs.stanford.edu/nlp/data/glove.6B.zip [following]\n",
            "--2020-06-10 02:13:41--  http://downloads.cs.stanford.edu/nlp/data/glove.6B.zip\n",
            "Resolving downloads.cs.stanford.edu (downloads.cs.stanford.edu)... 171.64.64.22\n",
            "Connecting to downloads.cs.stanford.edu (downloads.cs.stanford.edu)|171.64.64.22|:80... connected.\n",
            "HTTP request sent, awaiting response... 200 OK\n",
            "Length: 862182613 (822M) [application/zip]\n",
            "Saving to: ‘glove.6B.zip’\n",
            "\n",
            "glove.6B.zip        100%[===================>] 822.24M  1.95MB/s    in 6m 30s  \n",
            "\n",
            "2020-06-10 02:20:11 (2.11 MB/s) - ‘glove.6B.zip’ saved [862182613/862182613]\n",
            "\n",
            "Archive:  glove.6B.zip\n",
            "  inflating: glove.6B.50d.txt        \n",
            "  inflating: glove.6B.100d.txt       \n",
            "  inflating: glove.6B.200d.txt       \n",
            "  inflating: glove.6B.300d.txt       \n"
          ],
          "name": "stdout"
        }
      ]
    },
    {
      "cell_type": "code",
      "metadata": {
        "id": "gfCw5z5DlinP",
        "colab_type": "code",
        "colab": {}
      },
      "source": [
        "# Extract word vectors \n",
        "word_embeddings = {} \n",
        "f = open('glove.6B.100d.txt', encoding='utf-8') \n",
        "for line in f: \n",
        "    values = line.split() \n",
        "    word = values[0] \n",
        "    coefs = np.asarray(values[1:], dtype='float32')   \n",
        "    word_embeddings[word] = coefs \n",
        "f.close()"
      ],
      "execution_count": 0,
      "outputs": []
    },
    {
      "cell_type": "markdown",
      "metadata": {
        "id": "9dbPupQkmBOZ",
        "colab_type": "text"
      },
      "source": [
        "# Vector Representation of Sentences\n"
      ]
    },
    {
      "cell_type": "code",
      "metadata": {
        "id": "CJe_ncOpl60P",
        "colab_type": "code",
        "colab": {}
      },
      "source": [
        "sentence_vectors = [] \n",
        "for i in clean_sentences: \n",
        "  if len(i) != 0: \n",
        "    v = sum([word_embeddings.get(w, np.zeros((100,))) for w in  \n",
        "        i.split()])/(len(i.split())+0.001) \n",
        "  else: \n",
        "    v = np.zeros((100,)) \n",
        "  sentence_vectors.append(v)"
      ],
      "execution_count": 0,
      "outputs": []
    },
    {
      "cell_type": "code",
      "metadata": {
        "id": "MeB61aVA-mnZ",
        "colab_type": "code",
        "colab": {
          "base_uri": "https://localhost:8080/",
          "height": 34
        },
        "outputId": "919e9c7d-365f-440c-c18e-9a21d1794921"
      },
      "source": [
        "len(sentence_vectors)"
      ],
      "execution_count": 14,
      "outputs": [
        {
          "output_type": "execute_result",
          "data": {
            "text/plain": [
              "119"
            ]
          },
          "metadata": {
            "tags": []
          },
          "execution_count": 14
        }
      ]
    },
    {
      "cell_type": "markdown",
      "metadata": {
        "id": "GISkN9FLmI5T",
        "colab_type": "text"
      },
      "source": [
        "# Similarity Matrix Preparation"
      ]
    },
    {
      "cell_type": "code",
      "metadata": {
        "id": "CMakOT-smJUt",
        "colab_type": "code",
        "colab": {}
      },
      "source": [
        "# similarity matrix \n",
        "sim_mat = np.zeros([len(sentences), len(sentences)])"
      ],
      "execution_count": 0,
      "outputs": []
    },
    {
      "cell_type": "code",
      "metadata": {
        "id": "qyWbcwGhmQFv",
        "colab_type": "code",
        "colab": {}
      },
      "source": [
        "from sklearn.metrics.pairwise import cosine_similarity"
      ],
      "execution_count": 0,
      "outputs": []
    },
    {
      "cell_type": "code",
      "metadata": {
        "id": "0jmUPPyUmRbZ",
        "colab_type": "code",
        "colab": {}
      },
      "source": [
        "for i in range(len(sentences)): \n",
        "  for j in range(len(sentences)): \n",
        "    if i != j: \n",
        "      sim_mat[i][j] = cosine_similarity(sentence_vectors[i].reshape(1,100), sentence_vectors[j].reshape(1,100))[0,0]"
      ],
      "execution_count": 0,
      "outputs": []
    },
    {
      "cell_type": "markdown",
      "metadata": {
        "id": "wdFya1BAmUOu",
        "colab_type": "text"
      },
      "source": [
        "# Applying PageRank Algorithm"
      ]
    },
    {
      "cell_type": "code",
      "metadata": {
        "id": "g3gyvenPmTAT",
        "colab_type": "code",
        "colab": {}
      },
      "source": [
        "import networkx as nx \n",
        "nx_graph = nx.from_numpy_array(sim_mat) \n",
        "scores = nx.pagerank(nx_graph)"
      ],
      "execution_count": 0,
      "outputs": []
    },
    {
      "cell_type": "markdown",
      "metadata": {
        "id": "B4Wr1cznmYK7",
        "colab_type": "text"
      },
      "source": [
        "# Summary Extraction"
      ]
    },
    {
      "cell_type": "code",
      "metadata": {
        "id": "TcD4bmyx-4pL",
        "colab_type": "code",
        "colab": {}
      },
      "source": [
        "ranked_sentences = sorted(((scores[i],s) for i,s in \n",
        "                           enumerate(sentences)), reverse=True)"
      ],
      "execution_count": 0,
      "outputs": []
    },
    {
      "cell_type": "code",
      "metadata": {
        "id": "iSDYSkc-mWlq",
        "colab_type": "code",
        "colab": {
          "base_uri": "https://localhost:8080/"
        },
        "outputId": "4350ee4c-be8f-45b3-b57a-351b80ea0eaf"
      },
      "source": [
        "# Extract top 10 sentences as the summary \n",
        "for i in range(10): \n",
        "  print(ranked_sentences[i][1])"
      ],
      "execution_count": 20,
      "outputs": [
        {
          "output_type": "stream",
          "text": [
            "When I'm on the courts or when I'm on the court playing, I'm a competitor and I want to beat every single person whether they're in the locker room or across the net.So I'm not the one to strike up a conversation about the weather and know that in the next few minutes I have to go and try to win a tennis match.\n",
            "Major players feel that a big event in late November combined with one in January before the Australian Open will mean too much tennis and too little rest.\n",
            "Speaking at the Swiss Indoors tournament where he will play in Sundays final against Romanian qualifier Marius Copil, the world number three said that given the impossibly short time frame to make a decision, he opted out of any commitment.\n",
            "\"I felt like the best weeks that I had to get to know players when I was playing were the Fed Cup weeks or the Olympic weeks, not necessarily during the tournaments.\n",
            "Currently in ninth place, Nishikori with a win could move to within 125 points of the cut for the eight-man event in London next month.\n",
            "He used his first break point to close out the first set before going up 3-0 in the second and wrapping up the win on his first match point.\n",
            "The Spaniard broke Anderson twice in the second but didn't get another chance on the South African's serve in the final set.\n",
            "\"We also had the impression that at this stage it might be better to play matches than to train.\n",
            "The competition is set to feature 18 countries in the November 18-24 finals in Madrid next year, and will replace the classic home-and-away ties played four times per year for decades.\n",
            "Federer said earlier this month in Shanghai in that his chances of playing the Davis Cup were all but non-existent.\n"
          ],
          "name": "stdout"
        }
      ]
    }
  ]
}