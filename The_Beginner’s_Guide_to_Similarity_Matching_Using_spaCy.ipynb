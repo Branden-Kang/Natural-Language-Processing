{
  "nbformat": 4,
  "nbformat_minor": 0,
  "metadata": {
    "colab": {
      "provenance": [],
      "authorship_tag": "ABX9TyOygqow3ziKuMTz3TfI0stV"
    },
    "kernelspec": {
      "name": "python3",
      "display_name": "Python 3"
    },
    "language_info": {
      "name": "python"
    }
  },
  "cells": [
    {
      "cell_type": "markdown",
      "source": [
        "[Reference](https://betterprogramming.pub/the-beginners-guide-to-similarity-matching-using-spacy-782fc2922f7c)"
      ],
      "metadata": {
        "id": "gpxxAgOYA6FR"
      }
    },
    {
      "cell_type": "code",
      "execution_count": 1,
      "metadata": {
        "colab": {
          "base_uri": "https://localhost:8080/"
        },
        "id": "3aGcnLwfA1qV",
        "outputId": "bf9d7d68-f6a1-4294-ef76-34742190e4ea"
      },
      "outputs": [
        {
          "output_type": "stream",
          "name": "stdout",
          "text": [
            "2023-04-30 11:55:06.033237: I tensorflow/core/platform/cpu_feature_guard.cc:182] This TensorFlow binary is optimized to use available CPU instructions in performance-critical operations.\n",
            "To enable the following instructions: AVX2 FMA, in other operations, rebuild TensorFlow with the appropriate compiler flags.\n",
            "2023-04-30 11:55:09.518261: W tensorflow/compiler/tf2tensorrt/utils/py_utils.cc:38] TF-TRT Warning: Could not find TensorRT\n",
            "Looking in indexes: https://pypi.org/simple, https://us-python.pkg.dev/colab-wheels/public/simple/\n",
            "Collecting en-core-web-lg==3.5.0\n",
            "  Downloading https://github.com/explosion/spacy-models/releases/download/en_core_web_lg-3.5.0/en_core_web_lg-3.5.0-py3-none-any.whl (587.7 MB)\n",
            "\u001b[2K     \u001b[90m━━━━━━━━━━━━━━━━━━━━━━━━━━━━━━━━━━━━━━━\u001b[0m \u001b[32m587.7/587.7 MB\u001b[0m \u001b[31m2.5 MB/s\u001b[0m eta \u001b[36m0:00:00\u001b[0m\n",
            "\u001b[?25hRequirement already satisfied: spacy<3.6.0,>=3.5.0 in /usr/local/lib/python3.10/dist-packages (from en-core-web-lg==3.5.0) (3.5.2)\n",
            "Requirement already satisfied: preshed<3.1.0,>=3.0.2 in /usr/local/lib/python3.10/dist-packages (from spacy<3.6.0,>=3.5.0->en-core-web-lg==3.5.0) (3.0.8)\n",
            "Requirement already satisfied: cymem<2.1.0,>=2.0.2 in /usr/local/lib/python3.10/dist-packages (from spacy<3.6.0,>=3.5.0->en-core-web-lg==3.5.0) (2.0.7)\n",
            "Requirement already satisfied: tqdm<5.0.0,>=4.38.0 in /usr/local/lib/python3.10/dist-packages (from spacy<3.6.0,>=3.5.0->en-core-web-lg==3.5.0) (4.65.0)\n",
            "Requirement already satisfied: requests<3.0.0,>=2.13.0 in /usr/local/lib/python3.10/dist-packages (from spacy<3.6.0,>=3.5.0->en-core-web-lg==3.5.0) (2.27.1)\n",
            "Requirement already satisfied: srsly<3.0.0,>=2.4.3 in /usr/local/lib/python3.10/dist-packages (from spacy<3.6.0,>=3.5.0->en-core-web-lg==3.5.0) (2.4.6)\n",
            "Requirement already satisfied: murmurhash<1.1.0,>=0.28.0 in /usr/local/lib/python3.10/dist-packages (from spacy<3.6.0,>=3.5.0->en-core-web-lg==3.5.0) (1.0.9)\n",
            "Requirement already satisfied: langcodes<4.0.0,>=3.2.0 in /usr/local/lib/python3.10/dist-packages (from spacy<3.6.0,>=3.5.0->en-core-web-lg==3.5.0) (3.3.0)\n",
            "Requirement already satisfied: catalogue<2.1.0,>=2.0.6 in /usr/local/lib/python3.10/dist-packages (from spacy<3.6.0,>=3.5.0->en-core-web-lg==3.5.0) (2.0.8)\n",
            "Requirement already satisfied: jinja2 in /usr/local/lib/python3.10/dist-packages (from spacy<3.6.0,>=3.5.0->en-core-web-lg==3.5.0) (3.1.2)\n",
            "Requirement already satisfied: pathy>=0.10.0 in /usr/local/lib/python3.10/dist-packages (from spacy<3.6.0,>=3.5.0->en-core-web-lg==3.5.0) (0.10.1)\n",
            "Requirement already satisfied: packaging>=20.0 in /usr/local/lib/python3.10/dist-packages (from spacy<3.6.0,>=3.5.0->en-core-web-lg==3.5.0) (23.1)\n",
            "Requirement already satisfied: smart-open<7.0.0,>=5.2.1 in /usr/local/lib/python3.10/dist-packages (from spacy<3.6.0,>=3.5.0->en-core-web-lg==3.5.0) (6.3.0)\n",
            "Requirement already satisfied: spacy-loggers<2.0.0,>=1.0.0 in /usr/local/lib/python3.10/dist-packages (from spacy<3.6.0,>=3.5.0->en-core-web-lg==3.5.0) (1.0.4)\n",
            "Requirement already satisfied: pydantic!=1.8,!=1.8.1,<1.11.0,>=1.7.4 in /usr/local/lib/python3.10/dist-packages (from spacy<3.6.0,>=3.5.0->en-core-web-lg==3.5.0) (1.10.7)\n",
            "Requirement already satisfied: thinc<8.2.0,>=8.1.8 in /usr/local/lib/python3.10/dist-packages (from spacy<3.6.0,>=3.5.0->en-core-web-lg==3.5.0) (8.1.9)\n",
            "Requirement already satisfied: typer<0.8.0,>=0.3.0 in /usr/local/lib/python3.10/dist-packages (from spacy<3.6.0,>=3.5.0->en-core-web-lg==3.5.0) (0.7.0)\n",
            "Requirement already satisfied: setuptools in /usr/local/lib/python3.10/dist-packages (from spacy<3.6.0,>=3.5.0->en-core-web-lg==3.5.0) (67.7.2)\n",
            "Requirement already satisfied: spacy-legacy<3.1.0,>=3.0.11 in /usr/local/lib/python3.10/dist-packages (from spacy<3.6.0,>=3.5.0->en-core-web-lg==3.5.0) (3.0.12)\n",
            "Requirement already satisfied: wasabi<1.2.0,>=0.9.1 in /usr/local/lib/python3.10/dist-packages (from spacy<3.6.0,>=3.5.0->en-core-web-lg==3.5.0) (1.1.1)\n",
            "Requirement already satisfied: numpy>=1.15.0 in /usr/local/lib/python3.10/dist-packages (from spacy<3.6.0,>=3.5.0->en-core-web-lg==3.5.0) (1.22.4)\n",
            "Requirement already satisfied: typing-extensions>=4.2.0 in /usr/local/lib/python3.10/dist-packages (from pydantic!=1.8,!=1.8.1,<1.11.0,>=1.7.4->spacy<3.6.0,>=3.5.0->en-core-web-lg==3.5.0) (4.5.0)\n",
            "Requirement already satisfied: idna<4,>=2.5 in /usr/local/lib/python3.10/dist-packages (from requests<3.0.0,>=2.13.0->spacy<3.6.0,>=3.5.0->en-core-web-lg==3.5.0) (3.4)\n",
            "Requirement already satisfied: urllib3<1.27,>=1.21.1 in /usr/local/lib/python3.10/dist-packages (from requests<3.0.0,>=2.13.0->spacy<3.6.0,>=3.5.0->en-core-web-lg==3.5.0) (1.26.15)\n",
            "Requirement already satisfied: certifi>=2017.4.17 in /usr/local/lib/python3.10/dist-packages (from requests<3.0.0,>=2.13.0->spacy<3.6.0,>=3.5.0->en-core-web-lg==3.5.0) (2022.12.7)\n",
            "Requirement already satisfied: charset-normalizer~=2.0.0 in /usr/local/lib/python3.10/dist-packages (from requests<3.0.0,>=2.13.0->spacy<3.6.0,>=3.5.0->en-core-web-lg==3.5.0) (2.0.12)\n",
            "Requirement already satisfied: blis<0.8.0,>=0.7.8 in /usr/local/lib/python3.10/dist-packages (from thinc<8.2.0,>=8.1.8->spacy<3.6.0,>=3.5.0->en-core-web-lg==3.5.0) (0.7.9)\n",
            "Requirement already satisfied: confection<1.0.0,>=0.0.1 in /usr/local/lib/python3.10/dist-packages (from thinc<8.2.0,>=8.1.8->spacy<3.6.0,>=3.5.0->en-core-web-lg==3.5.0) (0.0.4)\n",
            "Requirement already satisfied: click<9.0.0,>=7.1.1 in /usr/local/lib/python3.10/dist-packages (from typer<0.8.0,>=0.3.0->spacy<3.6.0,>=3.5.0->en-core-web-lg==3.5.0) (8.1.3)\n",
            "Requirement already satisfied: MarkupSafe>=2.0 in /usr/local/lib/python3.10/dist-packages (from jinja2->spacy<3.6.0,>=3.5.0->en-core-web-lg==3.5.0) (2.1.2)\n",
            "Installing collected packages: en-core-web-lg\n",
            "Successfully installed en-core-web-lg-3.5.0\n",
            "\u001b[38;5;2m✔ Download and installation successful\u001b[0m\n",
            "You can now load the package via spacy.load('en_core_web_lg')\n"
          ]
        }
      ],
      "source": [
        "!python -m spacy download en_core_web_lg"
      ]
    },
    {
      "cell_type": "code",
      "source": [
        "# !python -m spacy download en_core_web_sm-2.1.0 --direct"
      ],
      "metadata": {
        "id": "IpXCKKhGA92q"
      },
      "execution_count": 2,
      "outputs": []
    },
    {
      "cell_type": "code",
      "source": [
        "import spacy\n",
        "nlp = spacy.load(\"en_core_web_lg\")\n",
        "doc = nlp(u\"This is a sentence.\")"
      ],
      "metadata": {
        "id": "AFGwm-ChA_oH"
      },
      "execution_count": 3,
      "outputs": []
    },
    {
      "cell_type": "code",
      "source": [
        "import spacy\n",
        "import en_core_web_lg\n",
        "nlp = en_core_web_lg.load()\n",
        "doc = nlp(u\"This is a sentence.\")"
      ],
      "metadata": {
        "id": "rjkyEpNzBAUg"
      },
      "execution_count": 5,
      "outputs": []
    },
    {
      "cell_type": "code",
      "source": [
        "#assign the default stopwords list to a variable\n",
        "STOP_WORDS = spacy.lang.en.stop_words.STOP_WORDS"
      ],
      "metadata": {
        "id": "JbEWaexPBB7N"
      },
      "execution_count": 6,
      "outputs": []
    },
    {
      "cell_type": "code",
      "source": [
        "#nlp refers to the name of the model loaded, change the name accordingly\n",
        "#nlp = en_core_web_lg.load() or nlp = spacy.load(\"en_core_web_lg\")\n",
        "print(nlp.Defaults.stop_words)"
      ],
      "metadata": {
        "colab": {
          "base_uri": "https://localhost:8080/"
        },
        "id": "1o8HOKImBC-9",
        "outputId": "f889667d-80a8-4b10-9d3b-d92815f4b468"
      },
      "execution_count": 7,
      "outputs": [
        {
          "output_type": "stream",
          "name": "stdout",
          "text": [
            "{'from', 'its', 'nine', 'part', 'may', 'now', 'herein', 'moreover', 'sixty', 'again', 'used', 'mine', 'noone', 're', 'without', 'his', 'whose', 'too', 'whenever', 'will', 'or', 'formerly', 'give', 'did', '’re', 'neither', 'quite', 'amount', 'beforehand', 'first', 'must', 'side', 'n‘t', 'to', 'nothing', 'of', 'get', 'ever', 'please', 'beyond', 'enough', 'before', 'four', 'mostly', 'such', \"'d\", 'something', 'fifteen', 'hers', 'both', 'during', 'been', 'go', 'they', 'be', 'who', 'their', 'anyhow', 'thus', 'since', 'move', 'toward', 'well', 'have', 'ourselves', 'using', 'for', 'also', 'do', 'about', 'out', 'below', 'further', 'off', 'whole', 'anyone', 'meanwhile', 'doing', 'ours', 'back', 'these', 'throughout', 'latterly', 'was', 'no', 'does', 'cannot', 'whereafter', 'along', '’m', 'thence', \"'ll\", 'behind', 'has', \"n't\", 'each', 'always', \"'re\", '’d', 'twenty', 'where', 'while', 'itself', 'than', 'down', 'due', 'hereafter', 'beside', '’s', 'seeming', 'six', 'whereas', 'myself', 'your', 'empty', 'had', 'show', 'except', 'he', 'on', 'what', '‘ll', 'are', 'though', 'full', 'everyone', 'everything', 'but', 'hereby', 'seems', 'should', \"'m\", 'via', 'whereby', 'there', '‘re', 'front', 'at', 'any', 'anything', 'as', 'indeed', 'namely', 'could', '’ve', 'can', 'n’t', 'eight', 'hence', 'rather', 'very', 'then', 'thereupon', 'either', 'never', 'several', 'this', 'into', 'only', \"'s\", 'whom', 'elsewhere', 'yet', 'made', 'see', 'hereupon', 'say', 'per', 'most', 'every', 'forty', 'upon', 'much', 'him', 'you', 'somewhere', 'even', 'that', 'up', 'hundred', 'therefore', 'around', 'an', 'various', 'not', 'often', 'herself', 'own', 'yours', 'sometime', 'ten', 'fifty', 'whither', 'becomes', 'here', 'anyway', 'seem', 'whereupon', 'would', 'although', 'within', 'perhaps', 'keep', 'however', 'become', '‘m', 'thru', 'else', 'five', 'how', 'just', 'when', 'if', 'three', 'onto', 'put', 'towards', 'otherwise', 'few', 'other', 'top', 'nobody', 'across', 'least', 'us', '‘s', '‘d', 'almost', 'another', 'against', 'many', 'regarding', 'somehow', 'thereafter', 'whatever', 'why', 'alone', 'in', 'over', 'between', 'becoming', 'yourself', 'one', 'himself', 'eleven', 'it', '‘ve', 'until', 'because', 'still', 'some', 'really', 'call', 'take', 'a', 'i', 'two', 'her', 'all', 'being', 'nowhere', 'latter', 'might', 'our', 'nor', 'already', 'so', 'thereby', 'became', 'none', 'name', 'which', 'after', 'unless', 'nevertheless', 'last', 'ca', 'by', \"'ve\", 'through', 'and', 'more', 'therein', 'seemed', 'former', 'wherever', 'third', 'above', 'wherein', 'once', 'sometimes', 'among', 'the', 'am', 'with', 'amongst', 'everywhere', 'anywhere', 'serious', 'afterwards', 'others', 'were', 'under', 'someone', 'make', 'bottom', '’ll', 'done', 'we', 'she', 'my', 'together', 'yourselves', 'whoever', 'same', 'those', 'besides', 'next', 'less', 'me', 'themselves', 'whence', 'twelve', 'them', 'whether', 'is'}\n"
          ]
        }
      ]
    },
    {
      "cell_type": "code",
      "source": [
        "nlp.Defaults.stop_words.add(\"add\")"
      ],
      "metadata": {
        "id": "eiuM550iBDyA"
      },
      "execution_count": 8,
      "outputs": []
    },
    {
      "cell_type": "code",
      "source": [
        "nlp.Defaults.stop_words |= {\"stop\",\"word\",}"
      ],
      "metadata": {
        "id": "Sp7Dv7ZoBE4K"
      },
      "execution_count": 9,
      "outputs": []
    },
    {
      "cell_type": "code",
      "source": [
        "# nlp.Defaults.stop_words.remove(\"remove\")"
      ],
      "metadata": {
        "id": "OBPy8G10BFm0"
      },
      "execution_count": 12,
      "outputs": []
    },
    {
      "cell_type": "code",
      "source": [
        "nlp.Defaults.stop_words -= {\"stop\", \"word\"}"
      ],
      "metadata": {
        "id": "Mhi2q7NiBGoj"
      },
      "execution_count": 13,
      "outputs": []
    },
    {
      "cell_type": "markdown",
      "source": [
        "# Similarity matching"
      ],
      "metadata": {
        "id": "6n3k_tJEBIy5"
      }
    },
    {
      "cell_type": "code",
      "source": [
        "doc1 = nlp(\"How do I turn sound on/off?\")\n",
        "doc2 = nlp(\"How do I obtain a pet?\")\n",
        "doc1.similarity(doc2)"
      ],
      "metadata": {
        "colab": {
          "base_uri": "https://localhost:8080/"
        },
        "id": "l96xeDZrBHfA",
        "outputId": "2552d15f-a3db-485e-934a-862386da2c71"
      },
      "execution_count": 14,
      "outputs": [
        {
          "output_type": "execute_result",
          "data": {
            "text/plain": [
              "0.7107966170017302"
            ]
          },
          "metadata": {},
          "execution_count": 14
        }
      ]
    },
    {
      "cell_type": "code",
      "source": [
        "doc1 = nlp(\"turn sound on/off\")\n",
        "doc2 = nlp(\"obtain a pet\")\n",
        "doc1.similarity(doc2)"
      ],
      "metadata": {
        "colab": {
          "base_uri": "https://localhost:8080/"
        },
        "id": "tr8UKU8DBJ8-",
        "outputId": "165e46c2-2254-42e5-b36f-dbe81fbea8a0"
      },
      "execution_count": 15,
      "outputs": [
        {
          "output_type": "execute_result",
          "data": {
            "text/plain": [
              "0.18548565684496565"
            ]
          },
          "metadata": {},
          "execution_count": 15
        }
      ]
    },
    {
      "cell_type": "code",
      "source": [
        "def remove_stopwords(text):\n",
        "    doc = nlp(text.lower()) #1\n",
        "    result = [] #2\n",
        "    for token in doc: #3\n",
        "        if token.text in nlp.Defaults.stop_words: #4\n",
        "            continue\n",
        "        result.append(token.text)#5\n",
        "    return \" \".join(result) #6"
      ],
      "metadata": {
        "id": "132JYW33BL6M"
      },
      "execution_count": 16,
      "outputs": []
    },
    {
      "cell_type": "code",
      "source": [
        "def remove_stopwords_fast(text):\n",
        "    doc = nlp(text.lower())\n",
        "    result = [token.text for token in doc if token.text not in nlp.Defaults.stop_words]\n",
        "    return \" \".join(result)"
      ],
      "metadata": {
        "id": "L2LTL-LEBSzM"
      },
      "execution_count": 18,
      "outputs": []
    },
    {
      "cell_type": "code",
      "source": [
        "sample = \"Thanks for the cool story bro!\"\n",
        "%timeit remove_stopwords(sample)\n",
        "%timeit remove_stopwords_fast(sample)"
      ],
      "metadata": {
        "colab": {
          "base_uri": "https://localhost:8080/"
        },
        "id": "OcbTxr0zBWT0",
        "outputId": "10f3ca6b-5f0c-4210-fa10-c9af8790a709"
      },
      "execution_count": 19,
      "outputs": [
        {
          "output_type": "stream",
          "name": "stdout",
          "text": [
            "8.17 ms ± 937 µs per loop (mean ± std. dev. of 7 runs, 100 loops each)\n",
            "9.72 ms ± 1.43 ms per loop (mean ± std. dev. of 7 runs, 100 loops each)\n"
          ]
        }
      ]
    },
    {
      "cell_type": "code",
      "source": [
        "def remove_pronoun(text):\n",
        "    doc = nlp(text.lower())\n",
        "    result = [token for token in doc if token.lemma_ != '-PRON-']\n",
        "    return \" \".join(result)"
      ],
      "metadata": {
        "id": "EPGJ2QmkBZXG"
      },
      "execution_count": 20,
      "outputs": []
    },
    {
      "cell_type": "code",
      "source": [
        "def remove_pronoun(text):\n",
        "    doc = nlp(text.lower())\n",
        "    result = [token.lemma_ for token in doc if token.lemma_ != '-PRON-']\n",
        "    return \" \".join(result)"
      ],
      "metadata": {
        "id": "asg_1ZWZBacv"
      },
      "execution_count": 21,
      "outputs": []
    },
    {
      "cell_type": "code",
      "source": [
        "def process_text(text):\n",
        "    doc = nlp(text.lower())\n",
        "    result = []\n",
        "    for token in doc:\n",
        "        if token.text in nlp.Defaults.stop_words:\n",
        "            continue\n",
        "        if token.is_punct:\n",
        "            continue\n",
        "        if token.lemma_ == '-PRON-':\n",
        "            continue\n",
        "        result.append(token.lemma_)\n",
        "    return \" \".join(result)"
      ],
      "metadata": {
        "id": "hiHS28qBBdin"
      },
      "execution_count": 23,
      "outputs": []
    },
    {
      "cell_type": "code",
      "source": [
        "def calculate_similarity(text1, text2):\n",
        "    base = nlp(process_text(text1))\n",
        "    compare = nlp(process_text(text2))\n",
        "    return base.similarity(compare)"
      ],
      "metadata": {
        "id": "4NuR_dOuBewR"
      },
      "execution_count": 24,
      "outputs": []
    }
  ]
}