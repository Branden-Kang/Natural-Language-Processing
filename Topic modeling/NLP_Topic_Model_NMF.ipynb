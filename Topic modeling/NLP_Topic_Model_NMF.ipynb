{
  "nbformat": 4,
  "nbformat_minor": 0,
  "metadata": {
    "colab": {
      "name": "NLP Topic Model NMF.ipynb",
      "provenance": [],
      "authorship_tag": "ABX9TyOlEB68/4Mx58J9iObMlaOZ"
    },
    "kernelspec": {
      "name": "python3",
      "display_name": "Python 3"
    }
  },
  "cells": [
    {
      "cell_type": "markdown",
      "metadata": {
        "id": "qTHUGDqCPq3N"
      },
      "source": [
        "[Reference](https://medium.com/@obianuju.c.okafor/automatic-topic-classification-of-research-papers-using-the-nlp-topic-model-nmf-d4365987ec82)"
      ]
    },
    {
      "cell_type": "markdown",
      "metadata": {
        "id": "WEIcHCjrPmVJ"
      },
      "source": [
        "![Step](https://miro.medium.com/max/1400/1*wKi39V-CUbtjr5cvW7a6tQ.png)"
      ]
    },
    {
      "cell_type": "code",
      "metadata": {
        "id": "Bg3TUx-RI7Zj",
        "outputId": "96d08ec0-c304-4f78-c3c6-cfd21100bc7b",
        "colab": {
          "base_uri": "https://localhost:8080/",
          "height": 632
        }
      },
      "source": [
        "import pandas as pd\n",
        "import nltk\n",
        "nltk.download('stopwords')\n",
        "nltk.download('wordnet')\n",
        "from nltk.corpus import stopwords\n",
        "from nltk.corpus import wordnet as wn\n",
        "from nltk.stem.wordnet import WordNetLemmatizer\n",
        "import re\n",
        "import gensim\n",
        "import gensim.corpora as corpora\n",
        "from wordcloud import WordCloud\n",
        "from sklearn.feature_extraction.text import TfidfVectorizer\n",
        "from sklearn.decomposition import NMF\n",
        "!pip install pyLDAvis\n",
        "import pyLDAvis\n",
        "from pyLDAvis import sklearn as sklearn_lda"
      ],
      "execution_count": 2,
      "outputs": [
        {
          "output_type": "stream",
          "text": [
            "[nltk_data] Downloading package stopwords to /root/nltk_data...\n",
            "[nltk_data]   Package stopwords is already up-to-date!\n",
            "[nltk_data] Downloading package wordnet to /root/nltk_data...\n",
            "[nltk_data]   Package wordnet is already up-to-date!\n",
            "Collecting pyLDAvis\n",
            "\u001b[?25l  Downloading https://files.pythonhosted.org/packages/a5/3a/af82e070a8a96e13217c8f362f9a73e82d61ac8fff3a2561946a97f96266/pyLDAvis-2.1.2.tar.gz (1.6MB)\n",
            "\u001b[K     |████████████████████████████████| 1.6MB 2.5MB/s \n",
            "\u001b[?25hRequirement already satisfied: wheel>=0.23.0 in /usr/local/lib/python3.6/dist-packages (from pyLDAvis) (0.35.1)\n",
            "Requirement already satisfied: numpy>=1.9.2 in /usr/local/lib/python3.6/dist-packages (from pyLDAvis) (1.18.5)\n",
            "Requirement already satisfied: scipy>=0.18.0 in /usr/local/lib/python3.6/dist-packages (from pyLDAvis) (1.4.1)\n",
            "Requirement already satisfied: pandas>=0.17.0 in /usr/local/lib/python3.6/dist-packages (from pyLDAvis) (1.1.2)\n",
            "Requirement already satisfied: joblib>=0.8.4 in /usr/local/lib/python3.6/dist-packages (from pyLDAvis) (0.16.0)\n",
            "Requirement already satisfied: jinja2>=2.7.2 in /usr/local/lib/python3.6/dist-packages (from pyLDAvis) (2.11.2)\n",
            "Requirement already satisfied: numexpr in /usr/local/lib/python3.6/dist-packages (from pyLDAvis) (2.7.1)\n",
            "Requirement already satisfied: pytest in /usr/local/lib/python3.6/dist-packages (from pyLDAvis) (3.6.4)\n",
            "Requirement already satisfied: future in /usr/local/lib/python3.6/dist-packages (from pyLDAvis) (0.16.0)\n",
            "Collecting funcy\n",
            "  Downloading https://files.pythonhosted.org/packages/66/89/479de0afbbfb98d1c4b887936808764627300208bb771fcd823403645a36/funcy-1.15-py2.py3-none-any.whl\n",
            "Requirement already satisfied: pytz>=2017.2 in /usr/local/lib/python3.6/dist-packages (from pandas>=0.17.0->pyLDAvis) (2018.9)\n",
            "Requirement already satisfied: python-dateutil>=2.7.3 in /usr/local/lib/python3.6/dist-packages (from pandas>=0.17.0->pyLDAvis) (2.8.1)\n",
            "Requirement already satisfied: MarkupSafe>=0.23 in /usr/local/lib/python3.6/dist-packages (from jinja2>=2.7.2->pyLDAvis) (1.1.1)\n",
            "Requirement already satisfied: atomicwrites>=1.0 in /usr/local/lib/python3.6/dist-packages (from pytest->pyLDAvis) (1.4.0)\n",
            "Requirement already satisfied: six>=1.10.0 in /usr/local/lib/python3.6/dist-packages (from pytest->pyLDAvis) (1.15.0)\n",
            "Requirement already satisfied: pluggy<0.8,>=0.5 in /usr/local/lib/python3.6/dist-packages (from pytest->pyLDAvis) (0.7.1)\n",
            "Requirement already satisfied: py>=1.5.0 in /usr/local/lib/python3.6/dist-packages (from pytest->pyLDAvis) (1.9.0)\n",
            "Requirement already satisfied: setuptools in /usr/local/lib/python3.6/dist-packages (from pytest->pyLDAvis) (50.3.0)\n",
            "Requirement already satisfied: attrs>=17.4.0 in /usr/local/lib/python3.6/dist-packages (from pytest->pyLDAvis) (20.2.0)\n",
            "Requirement already satisfied: more-itertools>=4.0.0 in /usr/local/lib/python3.6/dist-packages (from pytest->pyLDAvis) (8.5.0)\n",
            "Building wheels for collected packages: pyLDAvis\n",
            "  Building wheel for pyLDAvis (setup.py) ... \u001b[?25l\u001b[?25hdone\n",
            "  Created wheel for pyLDAvis: filename=pyLDAvis-2.1.2-py2.py3-none-any.whl size=97712 sha256=8adf24ef0d7e9433937310acfa7fae00005795a83ebe54ac1e2c304dea9442d5\n",
            "  Stored in directory: /root/.cache/pip/wheels/98/71/24/513a99e58bb6b8465bae4d2d5e9dba8f0bef8179e3051ac414\n",
            "Successfully built pyLDAvis\n",
            "Installing collected packages: funcy, pyLDAvis\n",
            "Successfully installed funcy-1.15 pyLDAvis-2.1.2\n"
          ],
          "name": "stdout"
        }
      ]
    },
    {
      "cell_type": "code",
      "metadata": {
        "id": "fcupGgrXJDMq",
        "outputId": "150e28c6-e2f7-4060-9e43-b9ddad79883b",
        "colab": {
          "base_uri": "https://localhost:8080/",
          "height": 802
        }
      },
      "source": [
        "#Load data file\n",
        "dataset = pd.read_csv(r'https://raw.githubusercontent.com/Branden-Kang/Python-practice/master/Data/research_papers.csv', encoding='ISO-8859–1')\n",
        "dataset.head()"
      ],
      "execution_count": 3,
      "outputs": [
        {
          "output_type": "execute_result",
          "data": {
            "text/html": [
              "<div>\n",
              "<style scoped>\n",
              "    .dataframe tbody tr th:only-of-type {\n",
              "        vertical-align: middle;\n",
              "    }\n",
              "\n",
              "    .dataframe tbody tr th {\n",
              "        vertical-align: top;\n",
              "    }\n",
              "\n",
              "    .dataframe thead th {\n",
              "        text-align: right;\n",
              "    }\n",
              "</style>\n",
              "<table border=\"1\" class=\"dataframe\">\n",
              "  <thead>\n",
              "    <tr style=\"text-align: right;\">\n",
              "      <th></th>\n",
              "      <th>Id</th>\n",
              "      <th>Reference</th>\n",
              "      <th>Authors</th>\n",
              "      <th>Title</th>\n",
              "      <th>Year</th>\n",
              "      <th>Conference/ Journal</th>\n",
              "      <th>Codes</th>\n",
              "      <th>Abstract</th>\n",
              "      <th>Conclusion</th>\n",
              "    </tr>\n",
              "  </thead>\n",
              "  <tbody>\n",
              "    <tr>\n",
              "      <th>0</th>\n",
              "      <td>1</td>\n",
              "      <td>Ludi, S., &amp; Spencer, M. (2017). Design Consid...</td>\n",
              "      <td>Ludi, S., &amp; Spencer, M.</td>\n",
              "      <td>Design Considerations to Increase Block-based ...</td>\n",
              "      <td>2017.0</td>\n",
              "      <td>Journal of Visual Languages and Sentient Sys...</td>\n",
              "      <td>BBL, DES, SR, KN, CE, CN, DT, CC</td>\n",
              "      <td>Block-based programming languages are a popula...</td>\n",
              "      <td>The initial version of accessible Blockly shou...</td>\n",
              "    </tr>\n",
              "    <tr>\n",
              "      <th>1</th>\n",
              "      <td>2</td>\n",
              "      <td>Ludi, S., Simpson, J., &amp; Merchant, W. (2016, O...</td>\n",
              "      <td>Ludi, S., Simpson, J., &amp; Merchant, W.</td>\n",
              "      <td>Exploration of the use of auditory cues in cod...</td>\n",
              "      <td>2016.0</td>\n",
              "      <td>ACM SIGACCESS Conference on Computers and Acce...</td>\n",
              "      <td>AP, CN, CC, BBL, DES, DT, ACUE, SM</td>\n",
              "      <td>Visual programming languages are commonplace i...</td>\n",
              "      <td>NaN</td>\n",
              "    </tr>\n",
              "    <tr>\n",
              "      <th>2</th>\n",
              "      <td>3</td>\n",
              "      <td>Ludi, S. (2015, October). Position paper: Towa...</td>\n",
              "      <td>Ludi, S.</td>\n",
              "      <td>Towards making block-based programming accessi...</td>\n",
              "      <td>2015.0</td>\n",
              "      <td>IEEE Blocks and Beyond Workshop. IEEE.</td>\n",
              "      <td>BBL, DES, DT, WAPP, PC</td>\n",
              "      <td>Block-based programming environments are not a...</td>\n",
              "      <td>NaN</td>\n",
              "    </tr>\n",
              "    <tr>\n",
              "      <th>3</th>\n",
              "      <td>4</td>\n",
              "      <td>Milne, L. R., &amp; Ladner, R. E. (2018, April). B...</td>\n",
              "      <td>Milne, L. R., &amp; Ladner, R. E.\\r</td>\n",
              "      <td>Blocks4All: overcoming accessibility barriers ...</td>\n",
              "      <td>2018.0</td>\n",
              "      <td>CHI Conference on Human Factors in Computing S...</td>\n",
              "      <td>BBL, CH, CN, CC, SR, TS, SM, KDG, MSH</td>\n",
              "      <td>Blocks-based programming environments are a po...</td>\n",
              "      <td>We conducted an evaluation of current blocks-b...</td>\n",
              "    </tr>\n",
              "    <tr>\n",
              "      <th>4</th>\n",
              "      <td>5</td>\n",
              "      <td>Caraco, L. B., Deibel, S., Ma, Y., &amp; Milne, L....</td>\n",
              "      <td>Caraco, L. B., Deibel, S., Ma, Y., &amp; Milne, L....</td>\n",
              "      <td>Making the Blockly Library Accessible via Touc...</td>\n",
              "      <td>2019.0</td>\n",
              "      <td>In The 21st International ACM SIGACCESS Confer...</td>\n",
              "      <td>BBL, TS, SR, DES, CN, CE</td>\n",
              "      <td>Block-based programming environments are a pop...</td>\n",
              "      <td>We present two interfaces which were designed ...</td>\n",
              "    </tr>\n",
              "  </tbody>\n",
              "</table>\n",
              "</div>"
            ],
            "text/plain": [
              "   Id  ...                                         Conclusion\n",
              "0   1  ...  The initial version of accessible Blockly shou...\n",
              "1   2  ...                                                NaN\n",
              "2   3  ...                                                NaN\n",
              "3   4  ...  We conducted an evaluation of current blocks-b...\n",
              "4   5  ...  We present two interfaces which were designed ...\n",
              "\n",
              "[5 rows x 9 columns]"
            ]
          },
          "metadata": {
            "tags": []
          },
          "execution_count": 3
        }
      ]
    },
    {
      "cell_type": "markdown",
      "metadata": {
        "id": "tpiMoZtZJagN"
      },
      "source": [
        "# Clean Data"
      ]
    },
    {
      "cell_type": "code",
      "metadata": {
        "id": "Dna3ODXTHi6o",
        "outputId": "de64ad0b-d907-4040-9eaa-5883ae7dada4",
        "colab": {
          "base_uri": "https://localhost:8080/",
          "height": 442
        }
      },
      "source": [
        "#Remove the unecessary columns\n",
        "dataset = dataset.drop(columns=['Id', 'Reference', 'Codes', 'Authors', 'Year', 'Conference/ Journal'], axis=1)\n",
        "#Fill in the empty cells\n",
        "dataset = dataset.fillna('No conclusion')\n",
        "#Merge abstract and conclusion\n",
        "dataset['Paper_Text'] = dataset[\"Abstract\"] + dataset[\"Conclusion\"]\n",
        "#show first 5 records\n",
        "dataset.head()"
      ],
      "execution_count": 4,
      "outputs": [
        {
          "output_type": "execute_result",
          "data": {
            "text/html": [
              "<div>\n",
              "<style scoped>\n",
              "    .dataframe tbody tr th:only-of-type {\n",
              "        vertical-align: middle;\n",
              "    }\n",
              "\n",
              "    .dataframe tbody tr th {\n",
              "        vertical-align: top;\n",
              "    }\n",
              "\n",
              "    .dataframe thead th {\n",
              "        text-align: right;\n",
              "    }\n",
              "</style>\n",
              "<table border=\"1\" class=\"dataframe\">\n",
              "  <thead>\n",
              "    <tr style=\"text-align: right;\">\n",
              "      <th></th>\n",
              "      <th>Title</th>\n",
              "      <th>Abstract</th>\n",
              "      <th>Conclusion</th>\n",
              "      <th>Paper_Text</th>\n",
              "    </tr>\n",
              "  </thead>\n",
              "  <tbody>\n",
              "    <tr>\n",
              "      <th>0</th>\n",
              "      <td>Design Considerations to Increase Block-based ...</td>\n",
              "      <td>Block-based programming languages are a popula...</td>\n",
              "      <td>The initial version of accessible Blockly shou...</td>\n",
              "      <td>Block-based programming languages are a popula...</td>\n",
              "    </tr>\n",
              "    <tr>\n",
              "      <th>1</th>\n",
              "      <td>Exploration of the use of auditory cues in cod...</td>\n",
              "      <td>Visual programming languages are commonplace i...</td>\n",
              "      <td>No conclusion</td>\n",
              "      <td>Visual programming languages are commonplace i...</td>\n",
              "    </tr>\n",
              "    <tr>\n",
              "      <th>2</th>\n",
              "      <td>Towards making block-based programming accessi...</td>\n",
              "      <td>Block-based programming environments are not a...</td>\n",
              "      <td>No conclusion</td>\n",
              "      <td>Block-based programming environments are not a...</td>\n",
              "    </tr>\n",
              "    <tr>\n",
              "      <th>3</th>\n",
              "      <td>Blocks4All: overcoming accessibility barriers ...</td>\n",
              "      <td>Blocks-based programming environments are a po...</td>\n",
              "      <td>We conducted an evaluation of current blocks-b...</td>\n",
              "      <td>Blocks-based programming environments are a po...</td>\n",
              "    </tr>\n",
              "    <tr>\n",
              "      <th>4</th>\n",
              "      <td>Making the Blockly Library Accessible via Touc...</td>\n",
              "      <td>Block-based programming environments are a pop...</td>\n",
              "      <td>We present two interfaces which were designed ...</td>\n",
              "      <td>Block-based programming environments are a pop...</td>\n",
              "    </tr>\n",
              "  </tbody>\n",
              "</table>\n",
              "</div>"
            ],
            "text/plain": [
              "                                               Title  ...                                         Paper_Text\n",
              "0  Design Considerations to Increase Block-based ...  ...  Block-based programming languages are a popula...\n",
              "1  Exploration of the use of auditory cues in cod...  ...  Visual programming languages are commonplace i...\n",
              "2  Towards making block-based programming accessi...  ...  Block-based programming environments are not a...\n",
              "3  Blocks4All: overcoming accessibility barriers ...  ...  Blocks-based programming environments are a po...\n",
              "4  Making the Blockly Library Accessible via Touc...  ...  Block-based programming environments are a pop...\n",
              "\n",
              "[5 rows x 4 columns]"
            ]
          },
          "metadata": {
            "tags": []
          },
          "execution_count": 4
        }
      ]
    },
    {
      "cell_type": "markdown",
      "metadata": {
        "id": "YvSfycYEJYnm"
      },
      "source": [
        "# Preprocess Data"
      ]
    },
    {
      "cell_type": "code",
      "metadata": {
        "id": "RvmAiWvpJPhj"
      },
      "source": [
        "#function for lemmatization\n",
        "def get_lemma(word):\n",
        "  lemma = wn.morphy(word)\n",
        "  if lemma is None:\n",
        "    return word\n",
        "  else:\n",
        "    return lemma# tokenization\n",
        "tokenized_data = dataset['Paper_Text'].apply(lambda x: x.split())# Remove punctuation\n",
        "tokenized_data = tokenized_data.apply(lambda x: [re.sub('[-,()\\\\!?]', '', item) for item in x])\n",
        "tokenized_data = tokenized_data.apply(lambda x: [re.sub('[.]', ' ', item) for item in x])# turn characters to lowercase\n",
        "tokenized_data = tokenized_data.apply(lambda x: [item.lower() for item in x])# remove stop-words\n",
        "stop_words = stopwords.words('english')\n",
        "stop_words.extend(['from','use', 'using','uses','user', 'users', 'well', 'study', 'survey', 'think'])# remove words of length less than 3\n",
        "tokenized_data = tokenized_data.apply(lambda x: [item for item in x if item not in stop_words and len(item)>3])# lemmatize by calling lemmatization function\n",
        "tokenized_data= tokenized_data.apply(lambda x: [get_lemma(item) for item in x])"
      ],
      "execution_count": 5,
      "outputs": []
    },
    {
      "cell_type": "markdown",
      "metadata": {
        "id": "-Rt7doBjJcOi"
      },
      "source": [
        "# Create Bigrams and Trigrams"
      ]
    },
    {
      "cell_type": "code",
      "metadata": {
        "id": "XW9A_AJiJVGX",
        "outputId": "6cc7bdd8-95bf-483c-dfe0-f7b775413e4e",
        "colab": {
          "base_uri": "https://localhost:8080/",
          "height": 71
        }
      },
      "source": [
        "# Build the bigram and trigram models\n",
        "bigram = gensim.models.Phrases(tokenized_data, min_count=5, threshold=10) # higher threshold fewer phrases.\n",
        "trigram = gensim.models.Phrases(bigram[tokenized_data], threshold=10)\n",
        "\n",
        "# Faster way to get a sentence clubbed as a trigram/bigram\n",
        "bigram_mod = gensim.models.phrases.Phraser(bigram)\n",
        "trigram_mod = gensim.models.phrases.Phraser(trigram)\n",
        "\n",
        "# Define functions for creating bigrams and trigrams.\n",
        "def make_bigrams(texts):\n",
        "  return [bigram_mod[doc] for doc in texts]\n",
        "  \n",
        "def make_trigrams(texts):\n",
        "  return [trigram_mod[bigram_mod[doc]] for doc in texts]\n",
        "  \n",
        "# Form Bigrams\n",
        "tokenized_data_bigrams = make_bigrams(tokenized_data)\n",
        "\n",
        "# Form Trigrams\n",
        "tokenized_data_trigrams = make_trigrams(tokenized_data)"
      ],
      "execution_count": 7,
      "outputs": [
        {
          "output_type": "stream",
          "text": [
            "/usr/local/lib/python3.6/dist-packages/gensim/models/phrases.py:598: UserWarning: For a faster implementation, use the gensim.models.phrases.Phraser class\n",
            "  warnings.warn(\"For a faster implementation, use the gensim.models.phrases.Phraser class\")\n"
          ],
          "name": "stderr"
        }
      ]
    },
    {
      "cell_type": "code",
      "metadata": {
        "id": "TbtTPMPvJkeu"
      },
      "source": [
        "# de-tokenization, combine tokens together\n",
        "detokenized_data = []\n",
        "for i in range(len(dataset)):\n",
        "    t = ' '.join(tokenized_data_trigrams[i])\n",
        "    detokenized_data.append(t)\n",
        "\n",
        "dataset['clean_text']= detokenized_data\n",
        "documents = dataset['clean_text']"
      ],
      "execution_count": 8,
      "outputs": []
    },
    {
      "cell_type": "markdown",
      "metadata": {
        "id": "8lZqFe1sJ8ZG"
      },
      "source": [
        "# Create Document-Term Matrix"
      ]
    },
    {
      "cell_type": "code",
      "metadata": {
        "id": "12wEpFj_J0q2"
      },
      "source": [
        "#Set variable number of terms\n",
        "no_terms = 1000\n",
        "\n",
        "# NMF uses the tf-idf count vectorizer\n",
        "# Initialise the count vectorizer with the English stop words\n",
        "vectorizer = TfidfVectorizer(max_df=0.5, min_df=2, max_features=no_terms, stop_words='english')\n",
        "\n",
        "# Fit and transform the text\n",
        "document_matrix = vectorizer.fit_transform(documents)\n",
        "\n",
        "#get features\n",
        "feature_names = vectorizer.get_feature_names()"
      ],
      "execution_count": 9,
      "outputs": []
    },
    {
      "cell_type": "markdown",
      "metadata": {
        "id": "20mkTRW3KHzJ"
      },
      "source": [
        "# Generate topics using Topic Model"
      ]
    },
    {
      "cell_type": "code",
      "metadata": {
        "id": "Wgwb0REgKCaM"
      },
      "source": [
        "#Set variables umber of topics and top words.\n",
        "no_topics = 10\n",
        "no_top_words = 10\n",
        "\n",
        "# Function for displaying topics\n",
        "def display_topic(model, feature_names, num_topics, no_top_words, model_name):\n",
        "    print(\"Model Result:\")\n",
        "    word_dict = {}\n",
        "    for i in range(num_topics):\n",
        "      #for each topic, obtain the largest values, and add the words they map to into the dictionary.\n",
        "       words_ids = model.components_[i].argsort()[:-no_top_words - 1:-1]\n",
        "       words = [feature_names[key] for key in words_ids]\n",
        "       word_dict['Topic # ' + '{:02d}'.format(i)] = words    \n",
        "       \n",
        "    dict = pd.DataFrame(word_dict)\n",
        "    dict.to_csv('%s.csv' % model_name)\n",
        "    return dict\n",
        "\n",
        "# Apply NMF topic model to document-term matrix\n",
        "nmf_model = NMF(n_components=no_topics, random_state=42, alpha=.1, l1_ratio=.5, init='nndsvd').fit(document_matrix)"
      ],
      "execution_count": 11,
      "outputs": []
    },
    {
      "cell_type": "code",
      "metadata": {
        "id": "Hm1jjJ49KZts",
        "outputId": "4eb96427-cc2c-4286-ffc5-17177914c10f",
        "colab": {
          "base_uri": "https://localhost:8080/",
          "height": 396
        }
      },
      "source": [
        "#display topics for nmf model\n",
        "display_topic(nmf_model, feature_names, no_topics, no_top_words, 'NMF_Model_Result')"
      ],
      "execution_count": 12,
      "outputs": [
        {
          "output_type": "stream",
          "text": [
            "Model Result:\n"
          ],
          "name": "stdout"
        },
        {
          "output_type": "execute_result",
          "data": {
            "text/html": [
              "<div>\n",
              "<style scoped>\n",
              "    .dataframe tbody tr th:only-of-type {\n",
              "        vertical-align: middle;\n",
              "    }\n",
              "\n",
              "    .dataframe tbody tr th {\n",
              "        vertical-align: top;\n",
              "    }\n",
              "\n",
              "    .dataframe thead th {\n",
              "        text-align: right;\n",
              "    }\n",
              "</style>\n",
              "<table border=\"1\" class=\"dataframe\">\n",
              "  <thead>\n",
              "    <tr style=\"text-align: right;\">\n",
              "      <th></th>\n",
              "      <th>Topic # 00</th>\n",
              "      <th>Topic # 01</th>\n",
              "      <th>Topic # 02</th>\n",
              "      <th>Topic # 03</th>\n",
              "      <th>Topic # 04</th>\n",
              "      <th>Topic # 05</th>\n",
              "      <th>Topic # 06</th>\n",
              "      <th>Topic # 07</th>\n",
              "      <th>Topic # 08</th>\n",
              "      <th>Topic # 09</th>\n",
              "    </tr>\n",
              "  </thead>\n",
              "  <tbody>\n",
              "    <tr>\n",
              "      <th>0</th>\n",
              "      <td>program</td>\n",
              "      <td>child</td>\n",
              "      <td>blind_learner</td>\n",
              "      <td>blind_student</td>\n",
              "      <td>blockbased_programming</td>\n",
              "      <td>blind_developer</td>\n",
              "      <td>structjumper</td>\n",
              "      <td>story</td>\n",
              "      <td>sight_programmer</td>\n",
              "      <td>solution</td>\n",
              "    </tr>\n",
              "    <tr>\n",
              "      <th>1</th>\n",
              "      <td>auditory</td>\n",
              "      <td>learning</td>\n",
              "      <td>audio_programming_language</td>\n",
              "      <td>barrier</td>\n",
              "      <td>blockly</td>\n",
              "      <td>challenge</td>\n",
              "      <td>skimming</td>\n",
              "      <td>block</td>\n",
              "      <td>blind_programmer</td>\n",
              "      <td>blind</td>\n",
              "    </tr>\n",
              "    <tr>\n",
              "      <th>2</th>\n",
              "      <td>auditory_cue</td>\n",
              "      <td>torino</td>\n",
              "      <td>apl</td>\n",
              "      <td>computer_science</td>\n",
              "      <td>computing</td>\n",
              "      <td>developer</td>\n",
              "      <td>participant</td>\n",
              "      <td>accessible</td>\n",
              "      <td>blind</td>\n",
              "      <td>development</td>\n",
              "    </tr>\n",
              "    <tr>\n",
              "      <th>3</th>\n",
              "      <td>nonsighted</td>\n",
              "      <td>design</td>\n",
              "      <td>skill</td>\n",
              "      <td>project</td>\n",
              "      <td>environment</td>\n",
              "      <td>face</td>\n",
              "      <td>structure</td>\n",
              "      <td>blockbased_programming_language</td>\n",
              "      <td>area</td>\n",
              "      <td>aid</td>\n",
              "    </tr>\n",
              "    <tr>\n",
              "      <th>4</th>\n",
              "      <td>computer</td>\n",
              "      <td>computational</td>\n",
              "      <td>novice_blind_learner</td>\n",
              "      <td>structjumper</td>\n",
              "      <td>library</td>\n",
              "      <td>software_developer</td>\n",
              "      <td>blind_programmer</td>\n",
              "      <td>tangible</td>\n",
              "      <td>reading</td>\n",
              "      <td>description_language</td>\n",
              "    </tr>\n",
              "    <tr>\n",
              "      <th>5</th>\n",
              "      <td>research</td>\n",
              "      <td>inclusive</td>\n",
              "      <td>solve_problem</td>\n",
              "      <td>interview</td>\n",
              "      <td>impaired</td>\n",
              "      <td>software</td>\n",
              "      <td>complete</td>\n",
              "      <td>student</td>\n",
              "      <td>prioritize</td>\n",
              "      <td>graphic_interface</td>\n",
              "    </tr>\n",
              "    <tr>\n",
              "      <th>6</th>\n",
              "      <td>sound</td>\n",
              "      <td>physical</td>\n",
              "      <td>interact</td>\n",
              "      <td>information</td>\n",
              "      <td>design</td>\n",
              "      <td>difficulty</td>\n",
              "      <td>class</td>\n",
              "      <td>game</td>\n",
              "      <td>method</td>\n",
              "      <td>regard</td>\n",
              "    </tr>\n",
              "    <tr>\n",
              "      <th>7</th>\n",
              "      <td>blind</td>\n",
              "      <td>vision</td>\n",
              "      <td>motivating</td>\n",
              "      <td>create</td>\n",
              "      <td>visually</td>\n",
              "      <td>ides</td>\n",
              "      <td>eclipse</td>\n",
              "      <td>output</td>\n",
              "      <td>difference</td>\n",
              "      <td>usage</td>\n",
              "    </tr>\n",
              "    <tr>\n",
              "      <th>8</th>\n",
              "      <td>cue</td>\n",
              "      <td>teacher</td>\n",
              "      <td>help</td>\n",
              "      <td>goal</td>\n",
              "      <td>outreach</td>\n",
              "      <td>blind</td>\n",
              "      <td>navigate</td>\n",
              "      <td>audio</td>\n",
              "      <td>suggest</td>\n",
              "      <td>graphical_interface</td>\n",
              "    </tr>\n",
              "    <tr>\n",
              "      <th>9</th>\n",
              "      <td>comprehension</td>\n",
              "      <td>nonspecialist</td>\n",
              "      <td>write_program</td>\n",
              "      <td>dissertation</td>\n",
              "      <td>foster</td>\n",
              "      <td>need</td>\n",
              "      <td>nest</td>\n",
              "      <td>novice_programmer</td>\n",
              "      <td>screen_reader</td>\n",
              "      <td>problem</td>\n",
              "    </tr>\n",
              "  </tbody>\n",
              "</table>\n",
              "</div>"
            ],
            "text/plain": [
              "      Topic # 00     Topic # 01  ...        Topic # 08            Topic # 09\n",
              "0        program          child  ...  sight_programmer              solution\n",
              "1       auditory       learning  ...  blind_programmer                 blind\n",
              "2   auditory_cue         torino  ...             blind           development\n",
              "3     nonsighted         design  ...              area                   aid\n",
              "4       computer  computational  ...           reading  description_language\n",
              "5       research      inclusive  ...        prioritize     graphic_interface\n",
              "6          sound       physical  ...            method                regard\n",
              "7          blind         vision  ...        difference                 usage\n",
              "8            cue        teacher  ...           suggest   graphical_interface\n",
              "9  comprehension  nonspecialist  ...     screen_reader               problem\n",
              "\n",
              "[10 rows x 10 columns]"
            ]
          },
          "metadata": {
            "tags": []
          },
          "execution_count": 12
        }
      ]
    },
    {
      "cell_type": "markdown",
      "metadata": {
        "id": "jEilmK-sOQw8"
      },
      "source": [
        "# Analyzing our NMF model"
      ]
    },
    {
      "cell_type": "code",
      "metadata": {
        "id": "e-uI78fxOIs7",
        "outputId": "a314d960-b9e2-477a-a5d7-7c566ded19c3",
        "colab": {
          "base_uri": "https://localhost:8080/",
          "height": 983
        }
      },
      "source": [
        "# Visualize the topics\n",
        "pyLDAvis.enable_notebook()\n",
        "LDAvis_prepared = sklearn_lda.prepare(nmf_model, document_matrix, vectorizer)\n",
        "LDAvis_prepared"
      ],
      "execution_count": 13,
      "outputs": [
        {
          "output_type": "stream",
          "text": [
            "/usr/local/lib/python3.6/dist-packages/pyLDAvis/_prepare.py:223: RuntimeWarning: divide by zero encountered in log\n",
            "  kernel = (topic_given_term * np.log((topic_given_term.T / topic_proportion).T))\n",
            "/usr/local/lib/python3.6/dist-packages/pyLDAvis/_prepare.py:240: RuntimeWarning: divide by zero encountered in log\n",
            "  log_lift = np.log(topic_term_dists / term_proportion)\n",
            "/usr/local/lib/python3.6/dist-packages/pyLDAvis/_prepare.py:241: RuntimeWarning: divide by zero encountered in log\n",
            "  log_ttd = np.log(topic_term_dists)\n"
          ],
          "name": "stderr"
        },
        {
          "output_type": "execute_result",
          "data": {
            "text/html": [
              "\n",
              "<link rel=\"stylesheet\" type=\"text/css\" href=\"https://cdn.rawgit.com/bmabey/pyLDAvis/files/ldavis.v1.0.0.css\">\n",
              "\n",
              "\n",
              "<div id=\"ldavis_el1001403884381031683930571400\"></div>\n",
              "<script type=\"text/javascript\">\n",
              "\n",
              "var ldavis_el1001403884381031683930571400_data = {\"mdsDat\": {\"x\": [0.04643231600199691, -0.28074338496873985, -0.24547453664354457, 0.16021871390367753, 0.2206616389353965, 0.031313446071522644, -0.10070676611335055, -0.15165499293665094, 0.1994726170678172, 0.12048094868187552], \"y\": [-0.060744632764312904, 0.10763265875184577, 0.03810320631163862, 0.07545220987826749, 0.129751497686768, 0.2866389743218457, -0.039735973593958765, -0.2617594466200101, -0.22572527212434101, -0.0496132218477428], \"topics\": [1, 2, 3, 4, 5, 6, 7, 8, 9, 10], \"cluster\": [1, 1, 1, 1, 1, 1, 1, 1, 1, 1], \"Freq\": [28.98486785205604, 13.272847261703067, 11.915173541822325, 9.645879429872808, 7.580156730216032, 6.457750890250112, 6.253686680605465, 6.173575296763812, 5.14156576921648, 4.574496547493869]}, \"tinfo\": {\"Term\": [\"child\", \"structjumper\", \"blind_student\", \"blind\", \"blind_programmer\", \"sight_programmer\", \"story\", \"blockbased_programming\", \"torino\", \"block\", \"solution\", \"barrier\", \"blockly\", \"participant\", \"learning\", \"accessible\", \"computer_science\", \"blockbased_programming_language\", \"project\", \"computing\", \"design\", \"development\", \"blind_developer\", \"skimming\", \"computational\", \"comprehension\", \"tangible\", \"student\", \"environment\", \"computer\", \"larger\", \"auditory_cue\", \"prior\", \"contribution\", \"progress\", \"context\", \"relate\", \"category\", \"scoping\", \"second\", \"building\", \"similar\", \"small\", \"behavior\", \"sonified\", \"source\", \"specifically\", \"curriculum\", \"debug\", \"debugger\", \"locate\", \"gather\", \"human\", \"ideal\", \"implement\", \"individual\", \"execution\", \"means\", \"objectoriented\", \"methodology\", \"auditory\", \"nonsighted\", \"sound\", \"cue\", \"speech\", \"spearcons\", \"visual_programming_language\", \"stateoftheart\", \"sodbeans\", \"nonsighted_programmer\", \"retrofit\", \"error\", \"effectiveness\", \"auditory_cues\", \"artifact\", \"encoding\", \"dynamic\", \"measuring\", \"netbeans\", \"file\", \"visuallyimpaired\", \"experiment\", \"programs\", \"empirical\", \"source_code\", \"program\", \"computer\", \"representation\", \"comprehension\", \"research\", \"programmer\", \"result\", \"alternative\", \"data\", \"blind\", \"task\", \"environment\", \"participant\", \"design\", \"approach\", \"music\", \"cognitive\", \"illustrate\", \"inclusion\", \"inclusive\", \"nonspecialist\", \"draw\", \"interactions\", \"dearth\", \"consider\", \"connect\", \"supporting\", \"conclude\", \"poetry\", \"come\", \"liveness\", \"articulate\", \"object\", \"months\", \"appropriate\", \"mix\", \"metaphor\", \"matter\", \"blocksbased\", \"gain\", \"involve\", \"mechanism\", \"guidance\", \"instruction\", \"philosophy\", \"child\", \"torino\", \"computational\", \"physical\", \"vision\", \"teaching\", \"age\", \"scale\", \"regardless\", \"young\", \"role\", \"successfully\", \"collaborative\", \"touch\", \"disability\", \"ability\", \"learning\", \"teacher\", \"insight\", \"design\", \"interaction\", \"technology\", \"learner\", \"support\", \"address\", \"create\", \"engage\", \"input\", \"novice_programmer\", \"draganddrop\", \"textbased\", \"component\", \"complex\", \"creation\", \"compel\", \"libraries\", \"games\", \"game\", \"formative\", \"introductory\", \"combining\", \"blockbased_programming_language\", \"share\", \"block\", \"toolkit\", \"highly\", \"society\", \"range\", \"elements\", \"introductory_programming\", \"tangible\", \"output\", \"story\", \"introduce\", \"core\", \"report\", \"blocksbased_programming\", \"offer\", \"students\", \"workshop\", \"accessible\", \"produce\", \"blockbased_language\", \"feature\", \"abilities\", \"enable\", \"blind_visually_impair\", \"student\", \"programming_concept\", \"audio\", \"language\", \"create\", \"inaccessible\", \"represent\", \"learn\", \"education\", \"identify\", \"writing\", \"extent\", \"reflect\", \"recent\", \"prefer\", \"software_developer\", \"participants\", \"observational\", \"observation\", \"note\", \"subject\", \"investigation\", \"implication\", \"illuminate\", \"exploratory\", \"response\", \"effectively\", \"editing\", \"domain\", \"difficulty\", \"developers\", \"developer\", \"details\", \"conduct\", \"challenges\", \"additional\", \"workarounds\", \"relevant\", \"discuss\", \"indicate\", \"example\", \"ides\", \"particular\", \"challenge\", \"blind_developer\", \"studio\", \"face\", \"code_navigation\", \"software\", \"paper_describe\", \"overcome\", \"interview\", \"community\", \"need\", \"tools\", \"participant\", \"variety\", \"blind\", \"accessibility\", \"development\", \"result\", \"understand\", \"work\", \"statement\", \"employ\", \"previous\", \"piece\", \"location\", \"leverage\", \"inside\", \"function\", \"skimming\", \"speed\", \"force\", \"positive\", \"flow\", \"practice\", \"class\", \"switch\", \"counterparts\", \"ask\", \"unable\", \"load\", \"complete\", \"control\", \"valuable\", \"easily\", \"tag\", \"effect\", \"view\", \"familiarity\", \"tasks\", \"specific\", \"nest\", \"eclipse\", \"quickly\", \"java\", \"place\", \"structjumper\", \"plugin\", \"skim\", \"structure\", \"compare\", \"state\", \"navigate\", \"evaluation\", \"participant\", \"blind_programmer\", \"hierarchical\", \"task\", \"allow\", \"tree\", \"blind_developer\", \"time\", \"line\", \"approach\", \"represent\", \"increase\", \"information\", \"prepare\", \"investigating\", \"empower\", \"dissertation\", \"relationship\", \"preference\", \"label\", \"degree\", \"reducing\", \"node\", \"survey\", \"blind_student\", \"barriers\", \"memory\", \"graphs\", \"update\", \"modify\", \"barrier\", \"structures\", \"graph\", \"goal\", \"computer_science\", \"abstract\", \"project\", \"discover\", \"tree\", \"focus\", \"determine\", \"number\", \"seek\", \"interview\", \"information\", \"aspect\", \"navigation\", \"inaccessible\", \"structjumper\", \"convey\", \"braille\", \"overcome\", \"access\", \"create\", \"identify\", \"data\", \"exist\", \"propose\", \"face\", \"learning\", \"structure\", \"blind\", \"technology\", \"ideas\", \"sensory\", \"skills\", \"initially\", \"solving\", \"higher\", \"prove\", \"target\", \"enter\", \"satisfaction\", \"commands\", \"cognition\", \"blind_learner\", \"models\", \"audio_programming_language\", \"apl\", \"verbalize\", \"mental\", \"meaning\", \"motivating\", \"map\", \"medium\", \"write_program\", \"logic\", \"interact\", \"observe\", \"helping\", \"direction\", \"developing\", \"believe\", \"novice_blind_learner\", \"adequate\", \"proposal\", \"robust\", \"12\", \"solve_problem\", \"skill\", \"algorithmic\", \"construct\", \"help\", \"users\", \"thinking\", \"develop\", \"idea\", \"learner\", \"world\", \"learners\", \"learn\", \"different\", \"program\", \"blind\", \"interface\", \"sight\", \"informal\", \"following\", \"outreach\", \"option\", \"looking\", \"library\", \"visually\", \"impaired\", \"foster\", \"features\", \"popular\", \"conventional\", \"classroom\", \"blockly\", \"blockbased_programming\", \"ascertain\", \"alongside\", \"2017\", \"participation\", \"11\", \"unfortunately\", \"touchscreen\", \"setting\", \"typical\", \"scratch\", \"revision\", \"workflow\", \"issue\", \"visual_impairments\", \"undertake\", \"computing\", \"lack\", \"participate\", \"impact\", \"pencil_code\", \"discus\", \"team\", \"access\", \"google\", \"question\", \"environment\", \"feedback\", \"accessible\", \"design\", \"student\", \"accessibility\", \"current\", \"paper\", \"le\", \"review\", \"area\", \"signature\", \"productivity\", \"prioritize\", \"likely\", \"braille_display\", \"speak\", \"approaches\", \"summary\", \"entry\", \"engineering\", \"curve\", \"grammers\", \"generalizability\", \"eyes\", \"areas\", \"workplace\", \"person\", \"similarity\", \"applicable\", \"important\", \"integrate\", \"differ\", \"reading\", \"equally\", \"sight_programmer\", \"suggest\", \"hope\", \"method\", \"difference\", \"blind_programmer\", \"sight_programmers\", \"blind\", \"group\", \"screen_reader\", \"comprehension\", \"future_research\", \"syntax\", \"sight\", \"software\", \"study\", \"graphical_interface\", \"way\", \"logical\", \"textual\", \"finding\", \"years\", \"position\", \"point\", \"perceive\", \"particularly\", \"obtain\", \"major\", \"lead\", \"languages\", \"integration\", \"generally\", \"graphic_interface\", \"rapid\", \"formal\", \"extensible\", \"designer\", \"description_language\", \"description\", \"define\", \"combination\", \"aid\", \"acceptable\", \"possible\", \"left\", \"sophisticate\", \"usage\", \"solve\", \"promise\", \"perform\", \"solution\", \"script\", \"regard\", \"effort\", \"usable\", \"order\", \"development\", \"problem\", \"professional\", \"propose\", \"blind\", \"blind_programmer\", \"include\", \"computer\", \"approach\", \"make\", \"research\", \"different\", \"enable\"], \"Freq\": [3.0, 3.0, 2.0, 4.0, 2.0, 1.0, 2.0, 1.0, 2.0, 2.0, 1.0, 1.0, 1.0, 2.0, 3.0, 2.0, 1.0, 1.0, 1.0, 1.0, 3.0, 1.0, 1.0, 1.0, 1.0, 1.0, 1.0, 2.0, 2.0, 2.0, 0.14850184145817447, 2.092883934158348, 0.025300475307511693, 0.42238532360713243, 0.18769349842057415, 0.010871671127028115, 0.3816482027260157, 0.18274125953928003, 0.4242206078944625, 0.2958549588925256, 0.37533396339125685, 0.003917626506085619, 0.07873818280761752, 0.6334328889796058, 0.37546624459650874, 0.48525936117504975, 0.04762865115094364, 0.2645130509464532, 1.2255798481462847, 1.3440210642980566, 0.23615038995317472, 0.12346033265440827, 0.4242206078944625, 0.004368984644512438, 0.26898647711360874, 0.4707844503308671, 1.0162425986806474, 0.09811159688504384, 0.21406143673049963, 0.6627916157827831, 2.0994294588313314, 1.8630573594931996, 1.5414144881673983, 1.3921533988141273, 1.2713369768263256, 0.8935463743367307, 0.8350931204224925, 0.8035297722672559, 0.7629797775796505, 0.7110433466025073, 0.6342488850370669, 0.6267017855774399, 0.9658927081932137, 0.5551312569462408, 0.5495774219334236, 0.5495774219334236, 0.5393604022568336, 0.5077189002719963, 0.4846564196167539, 0.4840208678906339, 0.4491645930395959, 0.44878837015814965, 0.9246530950069989, 1.0741714946027199, 1.0177178087257281, 2.3931305581101774, 1.7456949177405696, 0.7844332996575702, 1.3597874269734698, 1.571561279551833, 0.9766381220471756, 1.0970284653886542, 0.726547459061986, 0.9707080371247847, 1.4188398840017842, 0.9215488291346207, 1.1210486558154402, 0.9651038732437708, 1.0211873290077902, 0.795051698543943, 0.47898205646896913, 0.04971549131067513, 0.034879983493791816, 0.1685773066754583, 1.4482363577052175, 0.918296152800216, 0.02990050406177022, 0.02990050406177022, 0.47898205646896913, 0.1571248670325804, 0.47898205646896913, 0.02990050406177022, 0.20487752163622844, 0.47898205646896913, 0.02990050406177022, 0.20487752163622844, 0.20487752163622844, 0.2593250083033458, 0.47898205646896913, 0.7378332667790174, 0.7052825972710467, 0.18908216411652246, 0.02990050406177022, 0.10728322298583409, 0.06473513237872663, 0.016139601904743228, 0.016139601904743228, 0.06620071902254039, 0.06620071902254039, 0.09117910688902775, 3.7543579347497076, 2.1408034400926135, 1.58023421172487, 1.104379816346416, 1.0469796703793854, 0.904541053532498, 0.762958603151258, 0.6986391046345926, 0.5597867826974998, 0.5175439602309887, 0.35693079693110336, 0.3646140214826821, 0.2132573372666234, 0.2132573372666234, 0.5102865412548191, 0.7859040134083207, 2.171402845431786, 1.0057712108891563, 0.46059530126710385, 1.667308926022516, 0.4225838050870966, 0.8661886943609142, 0.7020655178414682, 0.5968071966740631, 0.48554915917190616, 0.7499646806342984, 0.516873329311989, 0.2147064997047418, 1.0066706541017327, 0.26345690946958233, 0.09351893060287636, 0.2147064997047418, 0.08053687265399194, 0.09553370568797837, 0.32235919239199234, 0.16946089042590814, 0.38275431519846903, 1.0768031620502043, 0.29812140690749916, 0.04285434000923832, 0.32235919239199234, 1.6492871624808862, 0.43434563482160016, 2.0873095583516132, 0.39766535322850194, 0.16903750268354525, 0.17671273463115003, 0.12307938857401071, 0.08811381014765135, 0.4955001584164031, 1.5375363399150526, 1.047738990712101, 2.1586548350283863, 0.824599359657379, 0.14267861781957697, 0.19507411991551318, 0.2057078446933782, 0.9173182705000235, 0.7114317172175743, 0.4772598859879808, 1.725765918386624, 0.3836822366854114, 0.5534843631951183, 0.40772297000351826, 0.5895221050544148, 0.7305470226429442, 0.9557787396842172, 1.2804978387208263, 0.4011452569951773, 1.0245598691370403, 0.6337460800005532, 0.9039437249596938, 0.46893527936592455, 0.43274222077324387, 0.4606203803206612, 0.416082002674558, 0.4567317594367663, 0.14170791695778281, 0.14090615397648168, 0.09359281794813426, 0.010772191036990588, 0.3070501441640452, 1.0448116440380097, 0.044307767833566075, 0.35715982997118595, 0.11181861856802762, 0.11431055699817766, 0.6025010413743441, 0.14932417198832953, 0.5025885300390419, 0.3205212091351329, 0.27651498161609467, 0.11431055699817766, 0.11181861856802762, 0.11181861856802762, 0.11431055699817766, 0.7991182923746022, 0.45870614445477165, 1.1799818611024133, 0.09589773678201804, 0.3483693143158149, 0.4125145337054733, 0.14701925315444575, 0.41167089485820396, 0.11181861856802762, 0.31446084035227057, 0.4290993101650799, 0.5151492421961272, 0.7625131900738209, 0.29180284702858883, 1.2993229527697285, 1.3891852099572204, 0.400904663790832, 1.1107142426364491, 0.40108693234162257, 1.0055584050810025, 0.25025689903050014, 0.49184071767878434, 0.6701375815058903, 0.4316769054740878, 0.7463657336841566, 0.274390745792407, 0.6285581412812008, 0.2918911729506143, 0.7526067248980015, 0.4841870478546047, 0.4735781851573712, 0.4051779453493212, 0.348592415734352, 0.3644301636942816, 0.6172736601968891, 0.011063178936810712, 0.02683168176716516, 0.011063178936810712, 0.07234200168380342, 0.011063178936810712, 0.011063178936810712, 0.15547392412323194, 1.2472463291541596, 0.018966689059266947, 0.011063178936810712, 0.16864298874964878, 0.27842339826222207, 0.15547392412323194, 0.8935169734977148, 0.1757406487590532, 0.1757406487590532, 0.2303016074650312, 0.1757406487590532, 0.08377602955154935, 0.9090900393093353, 0.2544271969188875, 0.2250641543934612, 0.11523742265827862, 0.19674660466097765, 0.19521569568827832, 0.1809781018306232, 0.18084578195767462, 0.19623794056747537, 0.292470443755428, 0.7238231972530129, 0.8419236273285265, 0.6861312026009276, 0.2341386977672093, 0.15540423405947845, 2.311380496175657, 0.5890763774826696, 0.5559237524684251, 0.9730983626866375, 0.5787971674052212, 0.42430589123353435, 0.7460940064174761, 0.7219141027928299, 1.0450578213442985, 0.9553577154986671, 0.24892530077732178, 0.5604431639822877, 0.2885588260954422, 0.3141067357669826, 0.3867337230278982, 0.2995652527727927, 0.23338772107479763, 0.31575641542131355, 0.2569644551148348, 0.2375080969616627, 0.2473855546075487, 0.014802066438002207, 0.3573690721990192, 0.014802066438002207, 0.6079087020637074, 0.014802066438002207, 0.014802066438002207, 0.014802066438002207, 0.017300662602187253, 0.005431898758164233, 0.05344082630687112, 0.3573690721990192, 2.284885028539425, 0.0296336875039058, 0.3260950312030085, 0.017300662602187253, 0.3573690721990192, 0.014802066438002207, 1.5084831179720486, 0.40149047816843914, 0.21313033033593, 0.6141855814182758, 1.2953939374557693, 0.014795465619771249, 1.1571891445674058, 0.3198032921391783, 0.541517845162342, 0.5258730436859675, 0.11576328467066659, 0.10032157504214409, 0.1126757060901978, 0.7266473603087431, 0.7010569448914102, 0.2860821333678453, 0.296975762381721, 0.33900843469075465, 0.9810053271596799, 0.2954599130738717, 0.12880233473922006, 0.33105645902890907, 0.4115728124827529, 0.6962730221812008, 0.36168244267451616, 0.4340563828008978, 0.26676931761401157, 0.2266143166557353, 0.3242418254626557, 0.4640607650243786, 0.30684323379966955, 0.3347916254801786, 0.2913069979749922, 0.1603554628941872, 0.1603554628941872, 0.1603554628941872, 0.1603554628941872, 0.1603554628941872, 0.1603554628941872, 0.1603554628941872, 0.1603554628941872, 0.2516189241963253, 0.1603554628941872, 0.1603554628941872, 0.1603554628941872, 1.0234249510986413, 0.1603554628941872, 0.9652095529784263, 0.852027880408274, 0.1603554628941872, 0.3563063296318219, 0.2777312628287307, 0.5082887353334262, 0.042979662959643776, 0.1430521600106567, 0.42756210075634316, 0.1547614010066104, 0.5292960459765993, 0.1430521600106567, 0.1430521600106567, 0.11866452433177746, 0.1430521600106567, 0.14612557115986854, 0.6214704079035784, 0.3909129353988829, 0.3909129353988829, 0.1430521600106567, 0.1430521600106567, 0.5694984238556815, 0.6301721690611275, 0.286530501495542, 0.2880475104098367, 0.44310920580045965, 0.31156494932624124, 0.387446233342837, 0.3849167269483328, 0.20998209064608717, 0.34185515417533147, 0.22402379764084096, 0.23171574538392561, 0.2715490691214057, 0.2784147647286442, 0.3583882051829778, 0.32030944975978626, 0.2071804974768501, 0.21896507492970305, 0.527461689484973, 0.005569791868883266, 0.619063415106867, 0.005569791868883266, 0.01566102112024855, 0.7705486546457841, 0.63963777387427, 0.758578089111233, 0.619063415106867, 0.005569791868883266, 0.12433503227676537, 0.01566102112024855, 0.5812180262010498, 1.353416418694547, 1.5535450278663845, 0.005569791868883266, 0.005569791868883266, 0.005569791868883266, 0.14508446587324922, 0.012065630082500035, 0.04493557937049766, 0.07128665969856446, 0.5812180262010498, 0.005569791868883266, 0.04493557937049766, 0.48963997035386636, 0.2531588672595282, 0.5376883255756104, 0.21025037483408132, 0.479519855863029, 1.2331160648098902, 0.4336917475689273, 0.4720716209308425, 0.6022343057367268, 0.2842390957183254, 0.4234026259270862, 0.2288226954358024, 0.5994381561112044, 0.16019147289833774, 0.396533560799378, 0.8181568448979211, 0.3230149541897405, 0.610784138041442, 0.6927280080322085, 0.5480320935329743, 0.45607536490968104, 0.29421510427583786, 0.2730712231735444, 0.11696621998492102, 0.1516723903606042, 0.719927623486608, 0.3860319429620097, 0.1460562871363475, 0.4799570632886648, 0.05774727003394914, 0.23371151918792354, 0.05774727003394914, 0.1551783987197328, 0.2623013912001935, 0.2139869717682195, 0.4365445175755095, 0.15465744925276179, 0.22979224122773934, 0.22979224122773934, 0.22979224122773934, 0.22979224122773934, 0.22979224122773934, 0.22979224122773934, 0.22979224122773934, 0.22979224122773934, 0.39328737901869326, 0.1426270457394359, 0.1516508867726166, 0.6123940514746201, 0.061686314007065444, 1.2982435323484471, 0.4590773277965979, 0.16391690902436404, 0.477702320041861, 0.4679581989079927, 1.155188713214824, 0.3172995823939439, 0.9796194842275724, 0.3421725821389637, 0.4585608839662743, 0.45315786305936023, 0.2305437147504324, 0.259309338618981, 0.295422042012682, 0.2733192004862816, 0.2432816563219324, 0.4505167251766054, 0.05071670133410192, 0.05071670133410192, 0.05071670133410192, 0.05071670133410192, 0.02663320456181005, 0.15681403899944002, 0.04015391415903004, 0.040550573193773386, 0.019291017295790504, 0.14329332940222006, 0.15394848008897058, 0.02663320456181005, 0.14127871747957577, 0.1768425518769919, 0.35991459262835673, 0.6667281829787403, 0.04015391415903004, 0.019291017295790504, 0.1768425518769919, 0.019291017295790504, 0.6813459540485518, 0.14127871747957577, 0.02663320456181005, 0.03609893026429003, 0.6959637251183639, 0.1768425518769919, 0.05333736010487811, 0.1768425518769919, 0.14127871747957577, 0.4729475661722077, 0.15026681861432112, 0.15394790760185165, 0.12897903671825023, 1.3498840093112776, 0.15681403899944002, 0.4742679706064879, 0.34719779140371165, 0.39834646512415006, 0.3256058633049863, 0.798851571210992, 0.4460229741745701, 0.15681403899944002, 0.295528225600122, 0.803731159167731, 0.4300470968640458, 0.2702664503582231, 0.3343287084217795, 0.2890954706128779, 0.16950447567774254, 0.17902588861467109, 0.16438367310853597, 0.16027620625401004], \"Total\": [3.0, 3.0, 2.0, 4.0, 2.0, 1.0, 2.0, 1.0, 2.0, 2.0, 1.0, 1.0, 1.0, 2.0, 3.0, 2.0, 1.0, 1.0, 1.0, 1.0, 3.0, 1.0, 1.0, 1.0, 1.0, 1.0, 1.0, 2.0, 2.0, 2.0, 0.14850184145817447, 2.092883934158348, 0.025300475307511693, 0.42238532360713243, 0.18769349842057415, 0.010871671127028115, 0.3816482027260157, 0.18274125953928003, 0.4242206078944625, 0.2958549588925256, 0.37533396339125685, 0.003917626506085619, 0.07873818280761752, 0.6334328889796058, 0.37546624459650874, 0.48525936117504975, 0.04762865115094364, 0.2645130509464532, 1.2255798481462847, 1.3440210642980566, 0.23615038995317472, 0.12346033265440827, 0.4242206078944625, 0.004368984644512438, 0.26898647711360874, 0.4707844503308671, 1.0162425986806474, 0.09811159688504384, 0.21406143673049963, 0.6627916157827831, 2.0994294588313314, 1.8630573594931996, 1.5414144881673983, 1.3921533988141273, 1.2713369768263256, 0.8935463743367307, 0.8350931204224925, 0.8035297722672559, 0.7629797775796505, 0.7110433466025073, 0.6342488850370669, 0.6267017855774399, 0.9710326229112802, 0.5551312569462408, 0.5495774219334236, 0.5495774219334236, 0.5393604022568336, 0.5077189002719963, 0.4846564196167539, 0.4840208678906339, 0.4491645930395959, 0.44878837015814965, 0.9433808003959596, 1.1171843678907145, 1.1020868600738372, 3.074968345954791, 2.1563656391707235, 0.892128947817819, 1.81294529003283, 2.2869899673081306, 1.2559656088955296, 1.5896411473339314, 0.8647035862097714, 1.5507043236986011, 4.757614662436338, 1.622671821765345, 2.7088216965441827, 2.63871983586927, 3.781345154139236, 1.7249842129068484, 0.47898205646896913, 0.04971549131067513, 0.034879983493791816, 0.1685773066754583, 1.4482363577052175, 0.918296152800216, 0.02990050406177022, 0.02990050406177022, 0.47898205646896913, 0.1571248670325804, 0.47898205646896913, 0.02990050406177022, 0.20487752163622844, 0.47898205646896913, 0.02990050406177022, 0.20487752163622844, 0.20487752163622844, 0.2593250083033458, 0.47898205646896913, 0.7378332667790174, 0.7052825972710467, 0.18908216411652246, 0.02990050406177022, 0.10728322298583409, 0.06473513237872663, 0.016139601904743228, 0.016139601904743228, 0.06620071902254039, 0.06620071902254039, 0.09117910688902775, 3.7543579347497076, 2.1408034400926135, 1.58023421172487, 1.104379816346416, 1.0469796703793854, 0.904541053532498, 0.762958603151258, 0.6986391046345926, 0.5597867826974998, 0.5175439602309887, 0.35693079693110336, 0.3658045210018951, 0.2132573372666234, 0.2132573372666234, 0.5239768277595558, 0.9230617600150928, 3.0059362634749487, 1.3562575132911179, 0.6068283728871969, 3.781345154139236, 0.5702756455581285, 1.6200854805041704, 1.3264446891780466, 1.0976833286233942, 0.7434871623065978, 2.64378494004239, 0.9747378862136457, 0.2147064997047418, 1.0066706541017327, 0.26345690946958233, 0.09351893060287636, 0.2147064997047418, 0.08053687265399194, 0.09553370568797837, 0.32235919239199234, 0.16946089042590814, 0.38275431519846903, 1.0768031620502043, 0.29812140690749916, 0.04285434000923832, 0.32235919239199234, 1.6492871624808862, 0.4366419685760562, 2.1470825754820435, 0.41972325226789226, 0.1804806677203983, 0.19340068078179837, 0.13529936260795547, 0.09882710506324842, 0.5604604884981992, 1.7894662564824984, 1.2211529196285826, 2.527971875988021, 0.9720378433834961, 0.16930286883792045, 0.2317907608019429, 0.246665862385467, 1.1240844112097645, 0.8714179488869167, 0.6123726241736563, 2.638983502626272, 0.5019607091759428, 0.794355615013093, 0.5645956193853965, 0.9254827006215796, 1.2177152578774693, 1.7221953754490773, 2.566831952576716, 0.59500479747351, 2.382518586362442, 1.238919677875647, 2.64378494004239, 0.8079437140566792, 0.7037896130477946, 0.8147751880741962, 0.6646259619420777, 1.1829609768784668, 0.14170791695778281, 0.14090615397648168, 0.09359281794813426, 0.010772191036990588, 0.3070501441640452, 1.0448116440380097, 0.044307767833566075, 0.35715982997118595, 0.11181861856802762, 0.11431055699817766, 0.6025010413743441, 0.14932417198832953, 0.5025885300390419, 0.3205212091351329, 0.27651498161609467, 0.11431055699817766, 0.11181861856802762, 0.11181861856802762, 0.11431055699817766, 0.7991182923746022, 0.45870614445477165, 1.1799818611024133, 0.09589773678201804, 0.3483693143158149, 0.4125145337054733, 0.14701925315444575, 0.41167089485820396, 0.11181861856802762, 0.322680768402866, 0.4436665849519811, 0.5437098456355919, 0.8318118022777768, 0.3114094173180672, 1.5957311096616573, 1.7759189329851186, 0.45990175103584197, 1.4349560680991047, 0.5142004138197518, 1.704438504665112, 0.31548074841819707, 0.8852612982807497, 1.3967849418146334, 0.7415631267113308, 1.8095886609244456, 0.3923054298370872, 2.63871983586927, 0.45234288970520503, 4.757614662436338, 1.8373771385953805, 1.906361400255879, 1.5896411473339314, 0.901392140114504, 1.4216477479864562, 0.6172736601968891, 0.011063178936810712, 0.02683168176716516, 0.011063178936810712, 0.07234200168380342, 0.011063178936810712, 0.011063178936810712, 0.15547392412323194, 1.2472463291541596, 0.018966689059266947, 0.011063178936810712, 0.16864298874964878, 0.27842339826222207, 0.15547392412323194, 0.8935169734977148, 0.1757406487590532, 0.1757406487590532, 0.2303016074650312, 0.1757406487590532, 0.08377602955154935, 0.9090900393093353, 0.2544271969188875, 0.2250641543934612, 0.11523742265827862, 0.19674660466097765, 0.19521569568827832, 0.1809781018306232, 0.18242441622482933, 0.19837398521882346, 0.30584535895990683, 0.7600141569695334, 0.9300228668972221, 0.7667986594826564, 0.28174933007880687, 0.18268814462801375, 3.292385823335337, 0.7615881755546908, 0.7589733482019069, 1.515976097186903, 0.8970165214912178, 0.638225342036096, 1.3471689964375662, 1.3227106828063535, 2.63871983586927, 2.723030167671328, 0.33474191982558793, 1.622671821765345, 0.6176838663927579, 0.8556245809293246, 1.7759189329851186, 0.7914450956867767, 0.38867742048882625, 1.7249842129068484, 0.7037896130477946, 0.4325976973626753, 1.47702664681732, 0.014802066438002207, 0.3573690721990192, 0.014802066438002207, 0.6079087020637074, 0.014802066438002207, 0.014802066438002207, 0.014802066438002207, 0.017300662602187253, 0.005431898758164233, 0.05344082630687112, 0.3573690721990192, 2.284885028539425, 0.0296336875039058, 0.3260950312030085, 0.017300662602187253, 0.3573690721990192, 0.014802066438002207, 1.6214253215651218, 0.45107922754515045, 0.2565141463542836, 0.7781244741765088, 1.7034351691841998, 0.020349558412290768, 1.606444642210294, 0.4610962858992642, 0.8556245809293246, 0.919756276259519, 0.20944463122919277, 0.18539312293244148, 0.21444511643612146, 1.3967849418146334, 1.47702664681732, 0.5690566777086978, 0.6146099515120038, 0.8079437140566792, 3.292385823335337, 0.7065495881903485, 0.24595374357694466, 0.8852612982807497, 1.2198187418632758, 2.64378494004239, 1.1829609768784668, 1.5507043236986011, 0.7870138870856279, 0.6867202488935238, 1.4349560680991047, 3.0059362634749487, 1.515976097186903, 4.757614662436338, 1.6200854805041704, 0.1603554628941872, 0.1603554628941872, 0.1603554628941872, 0.1603554628941872, 0.1603554628941872, 0.1603554628941872, 0.1603554628941872, 0.1603554628941872, 0.2516189241963253, 0.1603554628941872, 0.1603554628941872, 0.1603554628941872, 1.0234249510986413, 0.1603554628941872, 0.9652095529784263, 0.852027880408274, 0.1603554628941872, 0.3563063296318219, 0.2777312628287307, 0.5082887353334262, 0.042979662959643776, 0.1430521600106567, 0.42756210075634316, 0.1547614010066104, 0.5292960459765993, 0.1430521600106567, 0.1430521600106567, 0.11866452433177746, 0.1430521600106567, 0.14612557115986854, 0.6214704079035784, 0.3909129353988829, 0.3909129353988829, 0.1430521600106567, 0.1430521600106567, 0.5943857996919772, 0.717933243500611, 0.32233836255762494, 0.44378131790320685, 1.0166966020514954, 0.5489148093999625, 0.8568320598015925, 0.8960168740413239, 0.33030205907885213, 1.3264446891780466, 0.4165320592540681, 0.4808072289147721, 0.8147751880741962, 1.086167711294533, 3.074968345954791, 4.757614662436338, 0.8057475644802957, 1.3027188350321717, 0.527461689484973, 0.005569791868883266, 0.619063415106867, 0.005569791868883266, 0.01566102112024855, 0.7705486546457841, 0.63963777387427, 0.758578089111233, 0.619063415106867, 0.005569791868883266, 0.12433503227676537, 0.01566102112024855, 0.5812180262010498, 1.353416418694547, 1.5535450278663845, 0.005569791868883266, 0.005569791868883266, 0.005569791868883266, 0.14508446587324922, 0.012065630082500035, 0.04493557937049766, 0.07128665969856446, 0.5812180262010498, 0.005569791868883266, 0.04493557937049766, 0.48963997035386636, 0.2617006064962202, 0.5581112243201618, 0.22173297430499073, 0.5154248640886752, 1.3499415265145907, 0.49979976912222834, 0.5812313451213581, 0.8149951525742695, 0.39174030809007865, 0.6383415212086655, 0.34845099413106273, 1.2198187418632758, 0.25780248458483357, 0.8833391880243378, 2.7088216965441827, 0.8701430225897318, 2.638983502626272, 3.781345154139236, 2.566831952576716, 1.8373771385953805, 0.7954829929943144, 0.788829695252102, 0.11696621998492102, 0.1516723903606042, 0.719927623486608, 0.3860319429620097, 0.1460562871363475, 0.4799570632886648, 0.05774727003394914, 0.23371151918792354, 0.05774727003394914, 0.1551783987197328, 0.2623013912001935, 0.2139869717682195, 0.4365445175755095, 0.15465744925276179, 0.22979224122773934, 0.22979224122773934, 0.22979224122773934, 0.22979224122773934, 0.22979224122773934, 0.22979224122773934, 0.22979224122773934, 0.22979224122773934, 0.42063564120660657, 0.16000627622071642, 0.18124347424589188, 0.7394352434989322, 0.0744889747433604, 1.5908851582654726, 0.6632606667720868, 0.2524971643177982, 0.7546752622052016, 0.7613242455135248, 2.723030167671328, 0.5263595925879199, 4.757614662436338, 0.7909241266419458, 1.4856799531429503, 1.81294529003283, 0.43802681057550064, 0.6284467851035629, 1.3027188350321717, 1.704438504665112, 1.057319843900213, 0.4505167251766054, 0.05071670133410192, 0.05071670133410192, 0.05071670133410192, 0.05071670133410192, 0.02663320456181005, 0.15681403899944002, 0.04015391415903004, 0.040550573193773386, 0.019291017295790504, 0.14329332940222006, 0.15394848008897058, 0.02663320456181005, 0.14127871747957577, 0.1768425518769919, 0.35991459262835673, 0.6667281829787403, 0.04015391415903004, 0.019291017295790504, 0.1768425518769919, 0.019291017295790504, 0.6813459540485518, 0.14127871747957577, 0.02663320456181005, 0.03609893026429003, 0.6959637251183639, 0.1768425518769919, 0.05333736010487811, 0.1768425518769919, 0.14127871747957577, 0.4729475661722077, 0.15026681861432112, 0.15419549640852953, 0.13073653657947407, 1.6292284180340837, 0.17012868162340508, 0.559782597119265, 0.4316078588735038, 0.5081683763561052, 0.44940826359079955, 1.906361400255879, 1.099080530405209, 0.2527117757814581, 0.6867202488935238, 4.757614662436338, 2.723030167671328, 1.013532455930118, 2.1563656391707235, 1.7249842129068484, 0.959268738028459, 2.2869899673081306, 1.086167711294533, 1.2177152578774693], \"Category\": [\"Default\", \"Default\", \"Default\", \"Default\", \"Default\", \"Default\", \"Default\", \"Default\", \"Default\", \"Default\", \"Default\", \"Default\", \"Default\", \"Default\", \"Default\", \"Default\", \"Default\", \"Default\", \"Default\", \"Default\", \"Default\", \"Default\", \"Default\", \"Default\", \"Default\", \"Default\", \"Default\", \"Default\", \"Default\", \"Default\", \"Topic1\", \"Topic1\", \"Topic1\", \"Topic1\", \"Topic1\", \"Topic1\", \"Topic1\", \"Topic1\", \"Topic1\", \"Topic1\", \"Topic1\", \"Topic1\", \"Topic1\", \"Topic1\", \"Topic1\", \"Topic1\", \"Topic1\", \"Topic1\", \"Topic1\", \"Topic1\", \"Topic1\", \"Topic1\", \"Topic1\", \"Topic1\", \"Topic1\", \"Topic1\", \"Topic1\", \"Topic1\", \"Topic1\", \"Topic1\", \"Topic1\", \"Topic1\", \"Topic1\", \"Topic1\", \"Topic1\", \"Topic1\", \"Topic1\", \"Topic1\", \"Topic1\", \"Topic1\", \"Topic1\", \"Topic1\", \"Topic1\", \"Topic1\", \"Topic1\", \"Topic1\", \"Topic1\", \"Topic1\", \"Topic1\", \"Topic1\", \"Topic1\", \"Topic1\", \"Topic1\", \"Topic1\", \"Topic1\", \"Topic1\", \"Topic1\", \"Topic1\", \"Topic1\", \"Topic1\", \"Topic1\", \"Topic1\", \"Topic1\", \"Topic1\", \"Topic1\", \"Topic1\", \"Topic1\", \"Topic1\", \"Topic1\", \"Topic1\", \"Topic2\", \"Topic2\", \"Topic2\", \"Topic2\", \"Topic2\", \"Topic2\", \"Topic2\", \"Topic2\", \"Topic2\", \"Topic2\", \"Topic2\", \"Topic2\", \"Topic2\", \"Topic2\", \"Topic2\", \"Topic2\", \"Topic2\", \"Topic2\", \"Topic2\", \"Topic2\", \"Topic2\", \"Topic2\", \"Topic2\", \"Topic2\", \"Topic2\", \"Topic2\", \"Topic2\", \"Topic2\", \"Topic2\", \"Topic2\", \"Topic2\", \"Topic2\", \"Topic2\", \"Topic2\", \"Topic2\", \"Topic2\", \"Topic2\", \"Topic2\", \"Topic2\", \"Topic2\", \"Topic2\", \"Topic2\", \"Topic2\", \"Topic2\", \"Topic2\", \"Topic2\", \"Topic2\", \"Topic2\", \"Topic2\", \"Topic2\", \"Topic2\", \"Topic2\", \"Topic2\", \"Topic2\", \"Topic2\", \"Topic2\", \"Topic2\", \"Topic3\", \"Topic3\", \"Topic3\", \"Topic3\", \"Topic3\", \"Topic3\", \"Topic3\", \"Topic3\", \"Topic3\", \"Topic3\", \"Topic3\", \"Topic3\", \"Topic3\", \"Topic3\", \"Topic3\", \"Topic3\", \"Topic3\", \"Topic3\", \"Topic3\", \"Topic3\", \"Topic3\", \"Topic3\", \"Topic3\", \"Topic3\", \"Topic3\", \"Topic3\", \"Topic3\", \"Topic3\", \"Topic3\", \"Topic3\", \"Topic3\", \"Topic3\", \"Topic3\", \"Topic3\", \"Topic3\", \"Topic3\", \"Topic3\", \"Topic3\", \"Topic3\", \"Topic3\", \"Topic3\", \"Topic3\", \"Topic3\", \"Topic3\", \"Topic3\", \"Topic3\", \"Topic3\", \"Topic3\", \"Topic3\", \"Topic3\", \"Topic4\", \"Topic4\", \"Topic4\", \"Topic4\", \"Topic4\", \"Topic4\", \"Topic4\", \"Topic4\", \"Topic4\", \"Topic4\", \"Topic4\", \"Topic4\", \"Topic4\", \"Topic4\", \"Topic4\", \"Topic4\", \"Topic4\", \"Topic4\", \"Topic4\", \"Topic4\", \"Topic4\", \"Topic4\", \"Topic4\", \"Topic4\", \"Topic4\", \"Topic4\", \"Topic4\", \"Topic4\", \"Topic4\", \"Topic4\", \"Topic4\", \"Topic4\", \"Topic4\", \"Topic4\", \"Topic4\", \"Topic4\", \"Topic4\", \"Topic4\", \"Topic4\", \"Topic4\", \"Topic4\", \"Topic4\", \"Topic4\", \"Topic4\", \"Topic4\", \"Topic4\", \"Topic4\", \"Topic4\", \"Topic4\", \"Topic4\", \"Topic4\", \"Topic4\", \"Topic4\", \"Topic5\", \"Topic5\", \"Topic5\", \"Topic5\", \"Topic5\", \"Topic5\", \"Topic5\", \"Topic5\", \"Topic5\", \"Topic5\", \"Topic5\", \"Topic5\", \"Topic5\", \"Topic5\", \"Topic5\", \"Topic5\", \"Topic5\", \"Topic5\", \"Topic5\", \"Topic5\", \"Topic5\", \"Topic5\", \"Topic5\", \"Topic5\", \"Topic5\", \"Topic5\", \"Topic5\", \"Topic5\", \"Topic5\", \"Topic5\", \"Topic5\", \"Topic5\", \"Topic5\", \"Topic5\", \"Topic5\", \"Topic5\", \"Topic5\", \"Topic5\", \"Topic5\", \"Topic5\", \"Topic5\", \"Topic5\", \"Topic5\", \"Topic5\", \"Topic5\", \"Topic5\", \"Topic5\", \"Topic5\", \"Topic5\", \"Topic5\", \"Topic5\", \"Topic5\", \"Topic5\", \"Topic5\", \"Topic5\", \"Topic5\", \"Topic6\", \"Topic6\", \"Topic6\", \"Topic6\", \"Topic6\", \"Topic6\", \"Topic6\", \"Topic6\", \"Topic6\", \"Topic6\", \"Topic6\", \"Topic6\", \"Topic6\", \"Topic6\", \"Topic6\", \"Topic6\", \"Topic6\", \"Topic6\", \"Topic6\", \"Topic6\", \"Topic6\", \"Topic6\", \"Topic6\", \"Topic6\", \"Topic6\", \"Topic6\", \"Topic6\", \"Topic6\", \"Topic6\", \"Topic6\", \"Topic6\", \"Topic6\", \"Topic6\", \"Topic6\", \"Topic6\", \"Topic6\", \"Topic6\", \"Topic6\", \"Topic6\", \"Topic6\", \"Topic6\", \"Topic6\", \"Topic6\", \"Topic6\", \"Topic6\", \"Topic6\", \"Topic6\", \"Topic6\", \"Topic6\", \"Topic6\", \"Topic7\", \"Topic7\", \"Topic7\", \"Topic7\", \"Topic7\", \"Topic7\", \"Topic7\", \"Topic7\", \"Topic7\", \"Topic7\", \"Topic7\", \"Topic7\", \"Topic7\", \"Topic7\", \"Topic7\", \"Topic7\", \"Topic7\", \"Topic7\", \"Topic7\", \"Topic7\", \"Topic7\", \"Topic7\", \"Topic7\", \"Topic7\", \"Topic7\", \"Topic7\", \"Topic7\", \"Topic7\", \"Topic7\", \"Topic7\", \"Topic7\", \"Topic7\", \"Topic7\", \"Topic7\", \"Topic7\", \"Topic7\", \"Topic7\", \"Topic7\", \"Topic7\", \"Topic7\", \"Topic7\", \"Topic7\", \"Topic7\", \"Topic7\", \"Topic7\", \"Topic7\", \"Topic7\", \"Topic7\", \"Topic7\", \"Topic7\", \"Topic7\", \"Topic7\", \"Topic7\", \"Topic8\", \"Topic8\", \"Topic8\", \"Topic8\", \"Topic8\", \"Topic8\", \"Topic8\", \"Topic8\", \"Topic8\", \"Topic8\", \"Topic8\", \"Topic8\", \"Topic8\", \"Topic8\", \"Topic8\", \"Topic8\", \"Topic8\", \"Topic8\", \"Topic8\", \"Topic8\", \"Topic8\", \"Topic8\", \"Topic8\", \"Topic8\", \"Topic8\", \"Topic8\", \"Topic8\", \"Topic8\", \"Topic8\", \"Topic8\", \"Topic8\", \"Topic8\", \"Topic8\", \"Topic8\", \"Topic8\", \"Topic8\", \"Topic8\", \"Topic8\", \"Topic8\", \"Topic8\", \"Topic8\", \"Topic8\", \"Topic8\", \"Topic8\", \"Topic8\", \"Topic8\", \"Topic8\", \"Topic8\", \"Topic9\", \"Topic9\", \"Topic9\", \"Topic9\", \"Topic9\", \"Topic9\", \"Topic9\", \"Topic9\", \"Topic9\", \"Topic9\", \"Topic9\", \"Topic9\", \"Topic9\", \"Topic9\", \"Topic9\", \"Topic9\", \"Topic9\", \"Topic9\", \"Topic9\", \"Topic9\", \"Topic9\", \"Topic9\", \"Topic9\", \"Topic9\", \"Topic9\", \"Topic9\", \"Topic9\", \"Topic9\", \"Topic9\", \"Topic9\", \"Topic9\", \"Topic9\", \"Topic9\", \"Topic9\", \"Topic9\", \"Topic9\", \"Topic9\", \"Topic9\", \"Topic9\", \"Topic9\", \"Topic9\", \"Topic9\", \"Topic9\", \"Topic10\", \"Topic10\", \"Topic10\", \"Topic10\", \"Topic10\", \"Topic10\", \"Topic10\", \"Topic10\", \"Topic10\", \"Topic10\", \"Topic10\", \"Topic10\", \"Topic10\", \"Topic10\", \"Topic10\", \"Topic10\", \"Topic10\", \"Topic10\", \"Topic10\", \"Topic10\", \"Topic10\", \"Topic10\", \"Topic10\", \"Topic10\", \"Topic10\", \"Topic10\", \"Topic10\", \"Topic10\", \"Topic10\", \"Topic10\", \"Topic10\", \"Topic10\", \"Topic10\", \"Topic10\", \"Topic10\", \"Topic10\", \"Topic10\", \"Topic10\", \"Topic10\", \"Topic10\", \"Topic10\", \"Topic10\", \"Topic10\", \"Topic10\", \"Topic10\", \"Topic10\", \"Topic10\", \"Topic10\", \"Topic10\", \"Topic10\", \"Topic10\", \"Topic10\", \"Topic10\"], \"logprob\": [30.0, 29.0, 28.0, 27.0, 26.0, 25.0, 24.0, 23.0, 22.0, 21.0, 20.0, 19.0, 18.0, 17.0, 16.0, 15.0, 14.0, 13.0, 12.0, 11.0, 10.0, 9.0, 8.0, 7.0, 6.0, 5.0, 4.0, 3.0, 2.0, 1.0, -6.5168, -3.8711, -8.2866, -5.4715, -6.2826, -9.1312, -5.5729, -6.3093, -5.4671, -5.8275, -5.5896, -10.1519, -7.1513, -5.0662, -5.5892, -5.3327, -7.654, -5.9395, -4.4062, -4.314, -6.0529, -6.7015, -5.4671, -10.0429, -5.9227, -5.363, -4.5935, -6.9313, -6.1511, -5.0209, -3.868, -3.9874, -4.1769, -4.2788, -4.3696, -4.7222, -4.7899, -4.8284, -4.8802, -4.9507, -5.065, -5.0769, -4.6443, -5.1982, -5.2082, -5.2082, -5.227, -5.2875, -5.334, -5.3353, -5.41, -5.4108, -4.688, -4.5381, -4.5921, -3.737, -4.0525, -4.8524, -4.3023, -4.1576, -4.6333, -4.517, -4.9291, -4.6394, -4.2598, -4.6913, -4.4954, -4.6452, -4.5887, -4.839, -4.5647, -6.83, -7.1844, -5.609, -3.4582, -3.9138, -7.3385, -7.3385, -4.5647, -5.6793, -4.5647, -7.3385, -5.4139, -4.5647, -7.3385, -5.4139, -5.4139, -5.1783, -4.5647, -4.1326, -4.1777, -5.4942, -7.3385, -6.0609, -6.566, -7.9551, -7.9551, -6.5437, -6.5437, -6.2235, -2.5057, -3.0674, -3.371, -3.7293, -3.7827, -3.9289, -4.0991, -4.1872, -4.4088, -4.4873, -4.8588, -4.8375, -5.3738, -5.3738, -4.5014, -4.0695, -3.0532, -3.8228, -4.6038, -3.3174, -4.69, -3.9722, -4.1823, -4.3448, -4.5511, -4.1163, -4.4885, -5.2592, -3.714, -5.0545, -6.0903, -5.2592, -6.2397, -6.069, -4.8528, -5.4958, -4.681, -3.6467, -4.9309, -6.8706, -4.8528, -3.2203, -4.5546, -2.9848, -4.6428, -5.4983, -5.4539, -5.8156, -6.1498, -4.4229, -3.2905, -3.674, -2.9512, -3.9135, -5.6678, -5.3551, -5.302, -3.807, -4.0612, -4.4604, -3.175, -4.6786, -4.3122, -4.6178, -4.2491, -4.0346, -3.7659, -3.4734, -4.6341, -3.6964, -4.1768, -3.8217, -4.478, -4.5583, -4.4959, -4.5976, -4.5043, -5.4634, -5.4691, -5.8782, -8.0402, -4.6901, -3.4656, -6.626, -4.539, -5.7003, -5.6782, -4.0161, -5.411, -4.1974, -4.6472, -4.7949, -5.6782, -5.7003, -5.7003, -5.6782, -3.7336, -4.2887, -3.3439, -5.8539, -4.5639, -4.3949, -5.4266, -4.3969, -5.7003, -4.6663, -4.3555, -4.1727, -3.7805, -4.7411, -3.2476, -3.1807, -4.4234, -3.4044, -4.423, -3.5039, -4.8947, -4.219, -3.9097, -4.3495, -3.8019, -4.8026, -3.9737, -4.7408, -3.7936, -4.2347, -4.2568, -4.4128, -4.5633, -4.5188, -3.7508, -7.7725, -6.8866, -7.7725, -5.8948, -7.7725, -7.7725, -5.1297, -3.0475, -7.2335, -7.7725, -5.0484, -4.547, -5.1297, -3.381, -5.0071, -5.0071, -4.7368, -5.0071, -5.748, -3.3637, -4.6371, -4.7598, -5.4292, -4.8942, -4.9021, -4.9778, -4.9785, -4.8968, -4.4978, -3.5916, -3.4405, -3.6451, -4.7202, -5.1301, -2.4306, -3.7976, -3.8555, -3.2957, -3.8152, -4.1257, -3.5613, -3.5943, -3.2243, -3.3141, -4.659, -3.8474, -4.5113, -4.4264, -4.2184, -4.4738, -4.7235, -4.4212, -4.6272, -4.706, -4.6652, -7.3211, -4.1371, -7.3211, -3.6059, -7.3211, -7.3211, -7.3211, -7.1652, -8.3236, -6.0373, -4.1371, -2.2818, -6.627, -4.2287, -7.1652, -4.1371, -7.3211, -2.697, -4.0207, -4.654, -3.5956, -2.8493, -7.3216, -2.9622, -4.2482, -3.7215, -3.7508, -5.2644, -5.4075, -5.2914, -3.4275, -3.4633, -4.3596, -4.3223, -4.1899, -3.1273, -4.3274, -5.1576, -4.2136, -3.9959, -3.4702, -4.1251, -3.9427, -4.4295, -4.5927, -4.2344, -3.8759, -4.2896, -4.2024, -4.3415, -4.9064, -4.9064, -4.9064, -4.9064, -4.9064, -4.9064, -4.9064, -4.9064, -4.4559, -4.9064, -4.9064, -4.9064, -3.0529, -4.9064, -3.1115, -3.2362, -4.9064, -4.108, -4.3571, -3.7527, -6.2231, -5.0206, -3.9257, -4.9419, -3.7122, -5.0206, -5.0206, -5.2075, -5.0206, -4.9993, -3.5517, -4.0153, -4.0153, -5.0206, -5.0206, -3.639, -3.5378, -4.326, -4.3207, -3.89, -4.2422, -4.0242, -4.0308, -4.6368, -4.1494, -4.572, -4.5383, -4.3797, -4.3547, -4.1022, -4.2145, -4.6502, -4.5949, -3.7028, -8.2535, -3.5427, -8.2535, -7.2197, -3.3238, -3.51, -3.3395, -3.5427, -8.2535, -5.1479, -7.2197, -3.6058, -2.7605, -2.6226, -8.2535, -8.2535, -8.2535, -4.9936, -7.4805, -6.1657, -5.7042, -3.6058, -8.2535, -6.1657, -3.7772, -4.4369, -3.6836, -4.6226, -3.7981, -2.8536, -3.8986, -3.8138, -3.5703, -4.3211, -3.9226, -4.538, -3.5749, -4.8945, -3.9881, -3.2638, -4.1932, -3.5562, -3.4303, -3.6646, -3.8482, -4.2866, -4.3612, -5.0261, -4.7663, -3.2088, -3.8321, -4.804, -3.6143, -5.7319, -4.3339, -5.7319, -4.7434, -4.2185, -4.4221, -3.7091, -4.7468, -4.3508, -4.3508, -4.3508, -4.3508, -4.3508, -4.3508, -4.3508, -4.3508, -3.8134, -4.8277, -4.7664, -3.3706, -5.6659, -2.6192, -3.6588, -4.6886, -3.619, -3.6396, -2.736, -4.0281, -2.9008, -3.9527, -3.6599, -3.6717, -4.3475, -4.23, -4.0996, -4.1773, -4.2938, -3.5607, -5.7449, -5.7449, -5.7449, -5.7449, -6.389, -4.6161, -5.9784, -5.9686, -6.7115, -4.7062, -4.6345, -6.389, -4.7204, -4.4959, -3.7853, -3.1687, -5.9784, -6.7115, -4.4959, -6.7115, -3.1471, -4.7204, -6.389, -6.0849, -3.1258, -4.4959, -5.6945, -4.4959, -4.7204, -3.5121, -4.6587, -4.6345, -4.8115, -2.4633, -4.6161, -3.5093, -3.8212, -3.6838, -3.8854, -2.9879, -3.5708, -4.6161, -3.9824, -2.9819, -3.6072, -4.0717, -3.859, -4.0044, -4.5382, -4.4836, -4.5689, -4.5942], \"loglift\": [30.0, 29.0, 28.0, 27.0, 26.0, 25.0, 24.0, 23.0, 22.0, 21.0, 20.0, 19.0, 18.0, 17.0, 16.0, 15.0, 14.0, 13.0, 12.0, 11.0, 10.0, 9.0, 8.0, 7.0, 6.0, 5.0, 4.0, 3.0, 2.0, 1.0, 1.2384, 1.2384, 1.2384, 1.2384, 1.2384, 1.2384, 1.2384, 1.2384, 1.2384, 1.2384, 1.2384, 1.2384, 1.2384, 1.2384, 1.2384, 1.2384, 1.2384, 1.2384, 1.2384, 1.2384, 1.2384, 1.2384, 1.2384, 1.2384, 1.2384, 1.2384, 1.2384, 1.2384, 1.2384, 1.2384, 1.2384, 1.2384, 1.2384, 1.2384, 1.2384, 1.2384, 1.2384, 1.2384, 1.2384, 1.2384, 1.2384, 1.2384, 1.2331, 1.2384, 1.2384, 1.2384, 1.2384, 1.2384, 1.2384, 1.2384, 1.2384, 1.2384, 1.2183, 1.1991, 1.1588, 0.9877, 1.0271, 1.1097, 0.9508, 0.8632, 0.9869, 0.8675, 1.0643, 0.77, 0.0285, 0.6726, 0.3561, 0.2326, -0.0707, 0.4638, 2.0194, 2.0194, 2.0194, 2.0194, 2.0194, 2.0194, 2.0194, 2.0194, 2.0194, 2.0194, 2.0194, 2.0194, 2.0194, 2.0194, 2.0194, 2.0194, 2.0194, 2.0194, 2.0194, 2.0194, 2.0194, 2.0194, 2.0194, 2.0194, 2.0194, 2.0194, 2.0194, 2.0194, 2.0194, 2.0194, 2.0194, 2.0194, 2.0194, 2.0194, 2.0194, 2.0194, 2.0194, 2.0194, 2.0194, 2.0194, 2.0194, 2.0162, 2.0194, 2.0194, 1.993, 1.8586, 1.6942, 1.7205, 1.7437, 1.2006, 1.7197, 1.3933, 1.3832, 1.4101, 1.5934, 0.7595, 1.3851, 2.1274, 2.1274, 2.1274, 2.1274, 2.1274, 2.1274, 2.1274, 2.1274, 2.1274, 2.1274, 2.1274, 2.1274, 2.1274, 2.1274, 2.1274, 2.1221, 2.0991, 2.0734, 2.0619, 2.0371, 2.0327, 2.0126, 2.0042, 1.9756, 1.9742, 1.9694, 1.9629, 1.9563, 1.9549, 1.9458, 1.9241, 1.9245, 1.8781, 1.7026, 1.8587, 1.7661, 1.8018, 1.6764, 1.6164, 1.5385, 1.4319, 1.7331, 1.2835, 1.457, 1.0542, 1.5833, 1.641, 1.557, 1.659, 1.1757, 2.3386, 2.3386, 2.3386, 2.3386, 2.3386, 2.3386, 2.3386, 2.3386, 2.3386, 2.3386, 2.3386, 2.3386, 2.3386, 2.3386, 2.3386, 2.3386, 2.3386, 2.3386, 2.3386, 2.3386, 2.3386, 2.3386, 2.3386, 2.3386, 2.3386, 2.3386, 2.3386, 2.3386, 2.3128, 2.3053, 2.2847, 2.2517, 2.2736, 2.1332, 2.093, 2.2014, 2.0825, 2.0902, 1.8109, 2.107, 1.7509, 1.6042, 1.7976, 1.453, 1.9812, 0.904, 1.9006, 0.4947, 1.005, 0.946, 0.9717, 1.3886, 0.9774, 2.5796, 2.5796, 2.5796, 2.5796, 2.5796, 2.5796, 2.5796, 2.5796, 2.5796, 2.5796, 2.5796, 2.5796, 2.5796, 2.5796, 2.5796, 2.5796, 2.5796, 2.5796, 2.5796, 2.5796, 2.5796, 2.5796, 2.5796, 2.5796, 2.5796, 2.5796, 2.5796, 2.5709, 2.5688, 2.5349, 2.5308, 2.4801, 2.4685, 2.3945, 2.4179, 2.2259, 2.3228, 2.2683, 2.1363, 2.1415, 2.1714, 1.9887, 1.9741, 1.6534, 1.5322, 2.2834, 1.5165, 1.8186, 1.5775, 1.0553, 1.6081, 2.0696, 0.8816, 1.5721, 1.98, 0.7928, 2.7399, 2.7399, 2.7399, 2.7399, 2.7399, 2.7399, 2.7399, 2.7399, 2.7399, 2.7399, 2.7399, 2.7399, 2.7399, 2.7399, 2.7399, 2.7399, 2.7399, 2.6677, 2.6234, 2.5546, 2.5033, 2.4661, 2.4212, 2.4119, 2.374, 2.2824, 2.1808, 2.147, 2.1258, 2.0963, 2.0864, 1.9947, 2.0522, 2.0126, 1.8714, 1.5291, 1.868, 2.093, 1.7563, 1.6534, 1.4057, 1.5549, 1.4666, 1.658, 1.6312, 1.2525, 0.8716, 1.1424, 0.0859, 1.024, 2.772, 2.772, 2.772, 2.772, 2.772, 2.772, 2.772, 2.772, 2.772, 2.772, 2.772, 2.772, 2.772, 2.772, 2.772, 2.772, 2.772, 2.772, 2.772, 2.772, 2.772, 2.772, 2.772, 2.772, 2.772, 2.772, 2.772, 2.772, 2.772, 2.772, 2.772, 2.772, 2.772, 2.772, 2.772, 2.7292, 2.6416, 2.6542, 2.3398, 1.9415, 2.2057, 1.9783, 1.9271, 2.319, 1.4161, 2.1518, 2.042, 1.6732, 1.4107, 0.6226, 0.0738, 1.4138, 0.9887, 2.7849, 2.7849, 2.7849, 2.7849, 2.7849, 2.7849, 2.7849, 2.7849, 2.7849, 2.7849, 2.7849, 2.7849, 2.7849, 2.7849, 2.7849, 2.7849, 2.7849, 2.7849, 2.7849, 2.7849, 2.7849, 2.7849, 2.7849, 2.7849, 2.7849, 2.7849, 2.7517, 2.7476, 2.7317, 2.7127, 2.6944, 2.643, 2.5769, 2.4824, 2.4641, 2.3743, 2.3643, 2.0744, 2.3091, 1.9839, 1.5877, 1.7939, 1.3215, 1.0877, 1.2408, 1.3915, 1.7903, 1.7241, 2.9678, 2.9678, 2.9678, 2.9678, 2.9678, 2.9678, 2.9678, 2.9678, 2.9678, 2.9678, 2.9678, 2.9678, 2.9678, 2.9678, 2.9678, 2.9678, 2.9678, 2.9678, 2.9678, 2.9678, 2.9678, 2.9678, 2.9006, 2.8528, 2.7896, 2.7793, 2.7792, 2.7645, 2.5999, 2.5358, 2.5105, 2.4811, 2.1103, 2.4617, 1.3875, 2.1299, 1.7923, 1.5813, 2.326, 2.0826, 1.484, 1.1375, 1.4985, 3.0847, 3.0847, 3.0847, 3.0847, 3.0847, 3.0847, 3.0847, 3.0847, 3.0847, 3.0847, 3.0847, 3.0847, 3.0847, 3.0847, 3.0847, 3.0847, 3.0847, 3.0847, 3.0847, 3.0847, 3.0847, 3.0847, 3.0847, 3.0847, 3.0847, 3.0847, 3.0847, 3.0847, 3.0847, 3.0847, 3.0847, 3.0847, 3.0831, 3.0711, 2.8966, 3.0032, 2.9189, 2.8671, 2.8412, 2.7624, 2.2149, 2.1828, 2.6075, 2.2415, 1.3064, 1.2391, 1.7629, 1.2206, 1.2985, 1.3514, 0.5372, 1.1965, 1.0568]}, \"token.table\": {\"Topic\": [3, 2, 8, 1, 3, 8, 2, 10, 1, 7, 1, 2, 9, 1, 1, 3, 7, 1, 1, 1, 6, 1, 1, 4, 9, 10, 4, 7, 5, 9, 6, 1, 3, 3, 3, 8, 3, 8, 4, 2, 5, 8, 5, 5, 1, 2, 1, 6, 8, 2, 3, 6, 1, 1, 1, 1, 1, 10, 1, 2, 8, 4, 10, 4, 2, 6, 1, 5, 1, 1, 3, 1, 2, 1, 8, 1, 5, 4, 1, 4, 6, 8, 3, 6, 10, 4, 8, 8, 4, 2, 8, 6, 7, 4, 6, 3, 8, 3, 2, 2, 8, 1, 1, 1, 2, 7, 5, 4, 5, 1, 1, 2, 7, 3, 3, 3, 8, 1, 4, 5, 2, 5, 1, 1, 1, 6, 5, 9, 2, 1, 1, 1, 1, 2, 1, 8, 1, 9, 7, 5, 5, 1, 4, 4, 10, 7, 1, 1, 1, 1, 5, 1, 3, 5, 6, 5, 1, 3, 8, 3, 4, 2, 3, 1, 5, 2, 2, 2, 2, 6, 2, 1, 8, 1, 2], \"Freq\": [1.080517225582253, 1.0833511291635016, 0.8197939297706623, 0.54425407772542, 0.7578675645412841, 0.37893378227064206, 1.310687101331169, 1.4368564968381479, 1.1564656559171556, 1.17367051359965, 0.5797154504474304, 1.3553197517990228, 1.3890285181126987, 1.8195798446049354, 0.41972390298401413, 0.41972390298401413, 1.0360444495334904, 0.9526397715278894, 0.9556191661456366, 1.8013757782275996, 1.233482648506716, 1.5786992077580555, 0.21018936398853028, 0.21018936398853028, 0.21018936398853028, 0.21018936398853028, 0.5630887657237333, 0.977111217511851, 0.3672379439171534, 0.3672379439171534, 0.8753175652249193, 0.5806542127888605, 0.5806542127888605, 0.9314965445849134, 1.2588820184565792, 1.2873781989742326, 1.2126451023796034, 0.7388708945651489, 0.6266719962688638, 1.0654285152133927, 1.1191729196653672, 1.7205247513333126, 1.1148066685968954, 1.1000010524367112, 0.5515886251492407, 1.2656351730399154, 0.9274864910058309, 0.5870490512878836, 0.7407728263474467, 0.3782455920881243, 0.3782455920881243, 0.3782455920881243, 0.7183116464405619, 1.2570979000265659, 0.6448682606461621, 0.8159403089994675, 0.7440359578904897, 1.4676831851103078, 0.2644561549493448, 0.5289123098986896, 0.2644561549493448, 0.8474706543927184, 0.5245595089502841, 1.2513791882156424, 1.90848134310795, 1.644983854656521, 1.8540478607916386, 1.0752423790785255, 1.029831517917361, 0.8951074045978974, 0.8212100435885509, 1.8195798446049354, 1.0259168276350523, 0.3691642020129136, 0.3691642020129136, 1.595655259029787, 0.7560232279052375, 1.8392162805715042, 0.9840170066657956, 0.6968854463431109, 1.087244551422707, 1.615343397133835, 0.9286748360731286, 1.2851414306924387, 1.4998616010685222, 1.2021950124555434, 1.2270011629411148, 1.3182558451848012, 1.9896992076646045, 0.6904950249864849, 1.8958722878554943, 0.6770358558897962, 1.889301852151397, 0.715929825747441, 0.715929825747441, 1.0287665308576592, 1.7917575501515943, 0.8071548284023398, 0.7538949857152857, 0.6653501021634911, 1.297776582920248, 1.042460741559507, 1.9695938037057077, 1.5087698398522444, 1.417871366554775, 1.967385720921047, 0.7422973677722582, 0.5526117739316185, 1.3157649641519595, 1.0735042535373427, 1.4063840197340702, 1.0889733088292262, 1.6090870736280507, 0.9933735486630579, 0.8896129063152631, 0.8188982591174192, 1.615343397133835, 0.3789716461772727, 0.3789716461772727, 0.3789716461772727, 0.9054855813177278, 1.3130455961605045, 0.6504131994175021, 0.7962001450655799, 1.060017332958521, 0.622492660951023, 1.304123302295129, 1.3523834694003791, 1.786394446794905, 1.1209141934538025, 0.8745119255394338, 0.6290727952514008, 1.5766681244407041, 1.4313541760921433, 0.6730924772085023, 1.7205247513333126, 0.7676253487002851, 0.6285808845500142, 1.392887164723065, 1.3175693222550071, 0.8017662402567793, 1.3106507267757905, 0.5867034787485512, 0.9571103133337787, 0.6137874769006637, 1.6824089682462473, 1.2975095377349268, 0.9073694971129611, 1.1191360949142553, 0.7865735192382497, 1.6200270066294977, 1.2445089584899633, 0.7911480420320456, 0.6074622195930575, 0.30373110979652873, 0.6596410074378047, 0.3895853014437308, 0.3895853014437308, 0.3895853014437308, 1.147554972074335, 1.6597481685989037, 0.9110095543257462, 1.1176516979601179, 0.616267557362323, 0.616267557362323, 0.7373231043516085, 1.105533017097131, 0.617251380889359, 0.9342286930898606, 1.1687368762990238, 0.9551283833788656, 1.1974712466725594, 1.56338484192862, 0.7034091260766565, 1.9322030143172435], \"Term\": [\"abilities\", \"ability\", \"access\", \"accessibility\", \"accessible\", \"accessible\", \"age\", \"aid\", \"alternative\", \"apl\", \"approach\", \"appropriate\", \"area\", \"artifact\", \"audio\", \"audio\", \"audio_programming_language\", \"auditory\", \"auditory_cue\", \"auditory_cues\", \"barrier\", \"behavior\", \"blind\", \"blind\", \"blind\", \"blind\", \"blind_developer\", \"blind_learner\", \"blind_programmer\", \"blind_programmer\", \"blind_student\", \"blind_visually_impair\", \"blind_visually_impair\", \"block\", \"blockbased_language\", \"blockbased_programming\", \"blockbased_programming_language\", \"blockly\", \"challenge\", \"child\", \"class\", \"classroom\", \"compare\", \"complete\", \"comprehension\", \"computational\", \"computer\", \"computer_science\", \"computing\", \"create\", \"create\", \"create\", \"cue\", \"current\", \"data\", \"debug\", \"debugger\", \"description_language\", \"design\", \"design\", \"design\", \"developer\", \"development\", \"difficulty\", \"disability\", \"dissertation\", \"dynamic\", \"eclipse\", \"effectiveness\", \"empirical\", \"enable\", \"encoding\", \"engage\", \"environment\", \"environment\", \"error\", \"evaluation\", \"example\", \"execution\", \"face\", \"focus\", \"foster\", \"game\", \"goal\", \"graphic_interface\", \"ides\", \"impact\", \"impaired\", \"implication\", \"inclusive\", \"informal\", \"information\", \"interact\", \"interview\", \"interview\", \"introduce\", \"issue\", \"language\", \"learner\", \"learning\", \"library\", \"make\", \"measuring\", \"methodology\", \"mix\", \"motivating\", \"navigate\", \"need\", \"nest\", \"nonsighted\", \"nonsighted_programmer\", \"nonspecialist\", \"novice_blind_learner\", \"novice_programmer\", \"offer\", \"output\", \"outreach\", \"participant\", \"participant\", \"participant\", \"physical\", \"plugin\", \"program\", \"programmer\", \"programs\", \"project\", \"quickly\", \"reading\", \"regardless\", \"representation\", \"research\", \"result\", \"retrofit\", \"scale\", \"screen_reader\", \"setting\", \"sight\", \"sight_programmer\", \"skill\", \"skim\", \"skimming\", \"sodbeans\", \"software\", \"software_developer\", \"solution\", \"solve_problem\", \"sound\", \"source_code\", \"spearcons\", \"speech\", \"statement\", \"stateoftheart\", \"story\", \"structjumper\", \"structjumper\", \"structure\", \"student\", \"student\", \"student\", \"students\", \"subject\", \"support\", \"tangible\", \"task\", \"task\", \"teacher\", \"teaching\", \"technology\", \"torino\", \"tree\", \"vision\", \"visual_programming_language\", \"visually\", \"work\", \"young\"]}, \"R\": 30, \"lambda.step\": 0.01, \"plot.opts\": {\"xlab\": \"PC1\", \"ylab\": \"PC2\"}, \"topic.order\": [1, 2, 8, 6, 7, 4, 3, 5, 9, 10]};\n",
              "\n",
              "function LDAvis_load_lib(url, callback){\n",
              "  var s = document.createElement('script');\n",
              "  s.src = url;\n",
              "  s.async = true;\n",
              "  s.onreadystatechange = s.onload = callback;\n",
              "  s.onerror = function(){console.warn(\"failed to load library \" + url);};\n",
              "  document.getElementsByTagName(\"head\")[0].appendChild(s);\n",
              "}\n",
              "\n",
              "if(typeof(LDAvis) !== \"undefined\"){\n",
              "   // already loaded: just create the visualization\n",
              "   !function(LDAvis){\n",
              "       new LDAvis(\"#\" + \"ldavis_el1001403884381031683930571400\", ldavis_el1001403884381031683930571400_data);\n",
              "   }(LDAvis);\n",
              "}else if(typeof define === \"function\" && define.amd){\n",
              "   // require.js is available: use it to load d3/LDAvis\n",
              "   require.config({paths: {d3: \"https://cdnjs.cloudflare.com/ajax/libs/d3/3.5.5/d3.min\"}});\n",
              "   require([\"d3\"], function(d3){\n",
              "      window.d3 = d3;\n",
              "      LDAvis_load_lib(\"https://cdn.rawgit.com/bmabey/pyLDAvis/files/ldavis.v1.0.0.js\", function(){\n",
              "        new LDAvis(\"#\" + \"ldavis_el1001403884381031683930571400\", ldavis_el1001403884381031683930571400_data);\n",
              "      });\n",
              "    });\n",
              "}else{\n",
              "    // require.js not available: dynamically load d3 & LDAvis\n",
              "    LDAvis_load_lib(\"https://cdnjs.cloudflare.com/ajax/libs/d3/3.5.5/d3.min.js\", function(){\n",
              "         LDAvis_load_lib(\"https://cdn.rawgit.com/bmabey/pyLDAvis/files/ldavis.v1.0.0.js\", function(){\n",
              "                 new LDAvis(\"#\" + \"ldavis_el1001403884381031683930571400\", ldavis_el1001403884381031683930571400_data);\n",
              "            })\n",
              "         });\n",
              "}\n",
              "</script>"
            ],
            "text/plain": [
              "PreparedData(topic_coordinates=              x         y  topics  cluster       Freq\n",
              "topic                                                \n",
              "0      0.046432 -0.060745       1        1  28.984868\n",
              "1     -0.280743  0.107633       2        1  13.272847\n",
              "7     -0.245475  0.038103       3        1  11.915174\n",
              "5      0.160219  0.075452       4        1   9.645879\n",
              "6      0.220662  0.129751       5        1   7.580157\n",
              "3      0.031313  0.286639       6        1   6.457751\n",
              "2     -0.100707 -0.039736       7        1   6.253687\n",
              "4     -0.151655 -0.261759       8        1   6.173575\n",
              "8      0.199473 -0.225725       9        1   5.141566\n",
              "9      0.120481 -0.049613      10        1   4.574497, topic_info=                 Term      Freq     Total Category  logprob  loglift\n",
              "106             child  3.000000  3.000000  Default  30.0000  30.0000\n",
              "660      structjumper  3.000000  3.000000  Default  29.0000  29.0000\n",
              "79      blind_student  2.000000  2.000000  Default  28.0000  28.0000\n",
              "75              blind  4.000000  4.000000  Default  27.0000  27.0000\n",
              "78   blind_programmer  2.000000  2.000000  Default  26.0000  26.0000\n",
              "..                ...       ...       ...      ...      ...      ...\n",
              "38           approach  0.289095  1.724984  Topic10  -4.0044   1.2985\n",
              "427              make  0.169504  0.959269  Topic10  -4.5382   1.3514\n",
              "584          research  0.179026  2.286990  Topic10  -4.4836   0.5372\n",
              "191         different  0.164384  1.086168  Topic10  -4.5689   1.1965\n",
              "230            enable  0.160276  1.217715  Topic10  -4.5942   1.0568\n",
              "\n",
              "[563 rows x 6 columns], token_table=      Topic      Freq                         Term\n",
              "term                                              \n",
              "3         3  1.080517                    abilities\n",
              "4         2  1.083351                      ability\n",
              "8         8  0.819794                       access\n",
              "9         1  0.544254                accessibility\n",
              "10        3  0.757868                   accessible\n",
              "...     ...       ...                          ...\n",
              "745       2  0.955128                       vision\n",
              "747       1  1.197471  visual_programming_language\n",
              "749       8  1.563385                     visually\n",
              "758       1  0.703409                         work\n",
              "769       2  1.932203                        young\n",
              "\n",
              "[175 rows x 3 columns], R=30, lambda_step=0.01, plot_opts={'xlab': 'PC1', 'ylab': 'PC2'}, topic_order=[1, 2, 8, 6, 7, 4, 3, 5, 9, 10])"
            ]
          },
          "metadata": {
            "tags": []
          },
          "execution_count": 13
        }
      ]
    },
    {
      "cell_type": "markdown",
      "metadata": {
        "id": "KSzKeBn6OWwv"
      },
      "source": [
        "# Classify papers under topics"
      ]
    },
    {
      "cell_type": "code",
      "metadata": {
        "id": "uakRIWxeOTff",
        "outputId": "697e90e3-ee1c-4336-bea8-6fd53edbba03",
        "colab": {
          "base_uri": "https://localhost:8080/",
          "height": 1000
        }
      },
      "source": [
        "#Use NMF model to assign topic to papers in corpus\n",
        "nmf_topic_values = nmf_model.transform(document_matrix)\n",
        "dataset['NMF Topic'] = nmf_topic_values.argmax(axis=1)\n",
        "\n",
        "#Save dataframe to csv file\n",
        "# dataset.to_csv('final_results.csv')\n",
        "dataset.head(10)"
      ],
      "execution_count": 14,
      "outputs": [
        {
          "output_type": "execute_result",
          "data": {
            "text/html": [
              "<div>\n",
              "<style scoped>\n",
              "    .dataframe tbody tr th:only-of-type {\n",
              "        vertical-align: middle;\n",
              "    }\n",
              "\n",
              "    .dataframe tbody tr th {\n",
              "        vertical-align: top;\n",
              "    }\n",
              "\n",
              "    .dataframe thead th {\n",
              "        text-align: right;\n",
              "    }\n",
              "</style>\n",
              "<table border=\"1\" class=\"dataframe\">\n",
              "  <thead>\n",
              "    <tr style=\"text-align: right;\">\n",
              "      <th></th>\n",
              "      <th>Title</th>\n",
              "      <th>Abstract</th>\n",
              "      <th>Conclusion</th>\n",
              "      <th>Paper_Text</th>\n",
              "      <th>clean_text</th>\n",
              "      <th>NMF Topic</th>\n",
              "    </tr>\n",
              "  </thead>\n",
              "  <tbody>\n",
              "    <tr>\n",
              "      <th>0</th>\n",
              "      <td>Design Considerations to Increase Block-based ...</td>\n",
              "      <td>Block-based programming languages are a popula...</td>\n",
              "      <td>The initial version of accessible Blockly shou...</td>\n",
              "      <td>Block-based programming languages are a popula...</td>\n",
              "      <td>blockbased_programming_language popular means ...</td>\n",
              "      <td>4</td>\n",
              "    </tr>\n",
              "    <tr>\n",
              "      <th>1</th>\n",
              "      <td>Exploration of the use of auditory cues in cod...</td>\n",
              "      <td>Visual programming languages are commonplace i...</td>\n",
              "      <td>No conclusion</td>\n",
              "      <td>Visual programming languages are commonplace i...</td>\n",
              "      <td>visual_programming_language commonplace engage...</td>\n",
              "      <td>0</td>\n",
              "    </tr>\n",
              "    <tr>\n",
              "      <th>2</th>\n",
              "      <td>Towards making block-based programming accessi...</td>\n",
              "      <td>Block-based programming environments are not a...</td>\n",
              "      <td>No conclusion</td>\n",
              "      <td>Block-based programming environments are not a...</td>\n",
              "      <td>blockbased_programming environment accessible ...</td>\n",
              "      <td>4</td>\n",
              "    </tr>\n",
              "    <tr>\n",
              "      <th>3</th>\n",
              "      <td>Blocks4All: overcoming accessibility barriers ...</td>\n",
              "      <td>Blocks-based programming environments are a po...</td>\n",
              "      <td>We conducted an evaluation of current blocks-b...</td>\n",
              "      <td>Blocks-based programming environments are a po...</td>\n",
              "      <td>blocksbased_programming environment popular to...</td>\n",
              "      <td>1</td>\n",
              "    </tr>\n",
              "    <tr>\n",
              "      <th>4</th>\n",
              "      <td>Making the Blockly Library Accessible via Touc...</td>\n",
              "      <td>Block-based programming environments are a pop...</td>\n",
              "      <td>We present two interfaces which were designed ...</td>\n",
              "      <td>Block-based programming environments are a pop...</td>\n",
              "      <td>blockbased_programming environment popular lea...</td>\n",
              "      <td>4</td>\n",
              "    </tr>\n",
              "    <tr>\n",
              "      <th>5</th>\n",
              "      <td>Expanding Blocks4All with Variables and Funct...</td>\n",
              "      <td>Blocks-based programming environments are ofte...</td>\n",
              "      <td>Our enhancements to Blocks4All have improved i...</td>\n",
              "      <td>Blocks-based programming environments are ofte...</td>\n",
              "      <td>blocksbased_programming environment often inac...</td>\n",
              "      <td>1</td>\n",
              "    </tr>\n",
              "    <tr>\n",
              "      <th>6</th>\n",
              "      <td>An Accessible Blocks Language: Work in Progress.</td>\n",
              "      <td>Block languages are extensively used to introd...</td>\n",
              "      <td>No conclusion</td>\n",
              "      <td>Block languages are extensively used to introd...</td>\n",
              "      <td>block language extensively use introduce progr...</td>\n",
              "      <td>7</td>\n",
              "    </tr>\n",
              "    <tr>\n",
              "      <th>7</th>\n",
              "      <td>Nonvisual Visual Programming.</td>\n",
              "      <td>Visual programming systems are widely used to ...</td>\n",
              "      <td>Nonvisual visual programming is possible, and ...</td>\n",
              "      <td>Visual programming systems are widely used to ...</td>\n",
              "      <td>visual programming system widely use introduce...</td>\n",
              "      <td>1</td>\n",
              "    </tr>\n",
              "    <tr>\n",
              "      <th>8</th>\n",
              "      <td>Accessible AST-Based Programming for Visually-...</td>\n",
              "      <td>Most programmers rely on visual tools (block-b...</td>\n",
              "      <td>While this evaluation focused exclusively on u...</td>\n",
              "      <td>Most programmers rely on visual tools (block-b...</td>\n",
              "      <td>programmer rely visual tool blockbased editor ...</td>\n",
              "      <td>6</td>\n",
              "    </tr>\n",
              "    <tr>\n",
              "      <th>9</th>\n",
              "      <td>Programming microworlds for visually impaired...</td>\n",
              "      <td>The paper describes our research aimed at veri...</td>\n",
              "      <td>Our environments are physical micro-worlds [11...</td>\n",
              "      <td>The paper describes our research aimed at veri...</td>\n",
              "      <td>paper_describe research aim verification suita...</td>\n",
              "      <td>1</td>\n",
              "    </tr>\n",
              "  </tbody>\n",
              "</table>\n",
              "</div>"
            ],
            "text/plain": [
              "                                               Title  ... NMF Topic\n",
              "0  Design Considerations to Increase Block-based ...  ...         4\n",
              "1  Exploration of the use of auditory cues in cod...  ...         0\n",
              "2  Towards making block-based programming accessi...  ...         4\n",
              "3  Blocks4All: overcoming accessibility barriers ...  ...         1\n",
              "4  Making the Blockly Library Accessible via Touc...  ...         4\n",
              "5   Expanding Blocks4All with Variables and Funct...  ...         1\n",
              "6  An Accessible Blocks Language: Work in Progress.   ...         7\n",
              "7                     Nonvisual Visual Programming.   ...         1\n",
              "8  Accessible AST-Based Programming for Visually-...  ...         6\n",
              "9   Programming microworlds for visually impaired...  ...         1\n",
              "\n",
              "[10 rows x 6 columns]"
            ]
          },
          "metadata": {
            "tags": []
          },
          "execution_count": 14
        }
      ]
    }
  ]
}
