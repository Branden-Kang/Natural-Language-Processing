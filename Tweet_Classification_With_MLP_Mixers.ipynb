{
  "nbformat": 4,
  "nbformat_minor": 0,
  "metadata": {
    "colab": {
      "provenance": [],
      "authorship_tag": "ABX9TyPARlF5Q6+TEXNVJnXCySyO"
    },
    "kernelspec": {
      "name": "python3",
      "display_name": "Python 3"
    },
    "language_info": {
      "name": "python"
    }
  },
  "cells": [
    {
      "cell_type": "markdown",
      "source": [
        "[Reference](https://www.kaggle.com/code/shubham0204/tweet-classification-with-mlp-mixers-tf-keras)"
      ],
      "metadata": {
        "id": "p_QX5shVnxYf"
      }
    },
    {
      "cell_type": "markdown",
      "source": [
        "In 2021, Google introduced MLP-Mixer 11, an architecture based on Multilayer perceptrons ( MLPs ) and Mixer layers. Each Mixer layer consists of two MLPs, one for token-mixing ( mixing per-location features ) and another for channel-mixing ( mixing spatial information ).\n",
        "This architecture yields competitive results against models which use convolutions and vision transformers.\n",
        "\n",
        "Using a similar approach, I've tried using MLP Mixers for text classification, thereby using them on embeddings of shape max_length * embedding_dims. The architecture is similar to what is mentioned in the paper, except for some changes in how the text sequences are fed to the Mixer layers."
      ],
      "metadata": {
        "id": "woHVeKLhj-x2"
      }
    },
    {
      "cell_type": "markdown",
      "source": [
        "# 1. Processing the text data"
      ],
      "metadata": {
        "id": "zQUNyxYclIPz"
      }
    },
    {
      "cell_type": "markdown",
      "source": [
        "## 1.a. Reading and truncating the CSV data"
      ],
      "metadata": {
        "id": "JEijKHwAlLX4"
      }
    },
    {
      "cell_type": "code",
      "execution_count": 1,
      "metadata": {
        "colab": {
          "base_uri": "https://localhost:8080/"
        },
        "id": "K_58ITeQQSS5",
        "outputId": "ac52c11a-7fe2-497b-96a5-ecba31c0f8df"
      },
      "outputs": [
        {
          "output_type": "stream",
          "name": "stderr",
          "text": [
            "[nltk_data] Downloading package stopwords to /root/nltk_data...\n",
            "[nltk_data]   Unzipping corpora/stopwords.zip.\n"
          ]
        }
      ],
      "source": [
        "# Importing the required packages.\n",
        "import nltk\n",
        "nltk.download('stopwords')\n",
        "from nltk.corpus import stopwords\n",
        "import tensorflow as tf\n",
        "import pandas as pd\n",
        "import numpy as np\n",
        "import sklearn\n",
        "import re"
      ]
    },
    {
      "cell_type": "code",
      "source": [
        "# Read the CSV file using Pandas\n",
        "df = pd.read_csv( 'https://raw.githubusercontent.com/nikjohn7/Disaster-Tweets-Kaggle/main/data/train.csv')\n",
        "df.head()"
      ],
      "metadata": {
        "colab": {
          "base_uri": "https://localhost:8080/",
          "height": 204
        },
        "id": "EFONqIejRIyu",
        "outputId": "d2a64d47-1996-406f-a3a8-0b9033d5388e"
      },
      "execution_count": 2,
      "outputs": [
        {
          "output_type": "execute_result",
          "data": {
            "text/plain": [
              "   id keyword location                                               text  \\\n",
              "0   1     NaN      NaN  Our Deeds are the Reason of this #earthquake M...   \n",
              "1   4     NaN      NaN             Forest fire near La Ronge Sask. Canada   \n",
              "2   5     NaN      NaN  All residents asked to 'shelter in place' are ...   \n",
              "3   6     NaN      NaN  13,000 people receive #wildfires evacuation or...   \n",
              "4   7     NaN      NaN  Just got sent this photo from Ruby #Alaska as ...   \n",
              "\n",
              "   target  \n",
              "0       1  \n",
              "1       1  \n",
              "2       1  \n",
              "3       1  \n",
              "4       1  "
            ],
            "text/html": [
              "\n",
              "\n",
              "  <div id=\"df-a3ad4f51-09b1-44d5-9483-3223ce8ee46b\">\n",
              "    <div class=\"colab-df-container\">\n",
              "      <div>\n",
              "<style scoped>\n",
              "    .dataframe tbody tr th:only-of-type {\n",
              "        vertical-align: middle;\n",
              "    }\n",
              "\n",
              "    .dataframe tbody tr th {\n",
              "        vertical-align: top;\n",
              "    }\n",
              "\n",
              "    .dataframe thead th {\n",
              "        text-align: right;\n",
              "    }\n",
              "</style>\n",
              "<table border=\"1\" class=\"dataframe\">\n",
              "  <thead>\n",
              "    <tr style=\"text-align: right;\">\n",
              "      <th></th>\n",
              "      <th>id</th>\n",
              "      <th>keyword</th>\n",
              "      <th>location</th>\n",
              "      <th>text</th>\n",
              "      <th>target</th>\n",
              "    </tr>\n",
              "  </thead>\n",
              "  <tbody>\n",
              "    <tr>\n",
              "      <th>0</th>\n",
              "      <td>1</td>\n",
              "      <td>NaN</td>\n",
              "      <td>NaN</td>\n",
              "      <td>Our Deeds are the Reason of this #earthquake M...</td>\n",
              "      <td>1</td>\n",
              "    </tr>\n",
              "    <tr>\n",
              "      <th>1</th>\n",
              "      <td>4</td>\n",
              "      <td>NaN</td>\n",
              "      <td>NaN</td>\n",
              "      <td>Forest fire near La Ronge Sask. Canada</td>\n",
              "      <td>1</td>\n",
              "    </tr>\n",
              "    <tr>\n",
              "      <th>2</th>\n",
              "      <td>5</td>\n",
              "      <td>NaN</td>\n",
              "      <td>NaN</td>\n",
              "      <td>All residents asked to 'shelter in place' are ...</td>\n",
              "      <td>1</td>\n",
              "    </tr>\n",
              "    <tr>\n",
              "      <th>3</th>\n",
              "      <td>6</td>\n",
              "      <td>NaN</td>\n",
              "      <td>NaN</td>\n",
              "      <td>13,000 people receive #wildfires evacuation or...</td>\n",
              "      <td>1</td>\n",
              "    </tr>\n",
              "    <tr>\n",
              "      <th>4</th>\n",
              "      <td>7</td>\n",
              "      <td>NaN</td>\n",
              "      <td>NaN</td>\n",
              "      <td>Just got sent this photo from Ruby #Alaska as ...</td>\n",
              "      <td>1</td>\n",
              "    </tr>\n",
              "  </tbody>\n",
              "</table>\n",
              "</div>\n",
              "      <button class=\"colab-df-convert\" onclick=\"convertToInteractive('df-a3ad4f51-09b1-44d5-9483-3223ce8ee46b')\"\n",
              "              title=\"Convert this dataframe to an interactive table.\"\n",
              "              style=\"display:none;\">\n",
              "\n",
              "  <svg xmlns=\"http://www.w3.org/2000/svg\" height=\"24px\"viewBox=\"0 0 24 24\"\n",
              "       width=\"24px\">\n",
              "    <path d=\"M0 0h24v24H0V0z\" fill=\"none\"/>\n",
              "    <path d=\"M18.56 5.44l.94 2.06.94-2.06 2.06-.94-2.06-.94-.94-2.06-.94 2.06-2.06.94zm-11 1L8.5 8.5l.94-2.06 2.06-.94-2.06-.94L8.5 2.5l-.94 2.06-2.06.94zm10 10l.94 2.06.94-2.06 2.06-.94-2.06-.94-.94-2.06-.94 2.06-2.06.94z\"/><path d=\"M17.41 7.96l-1.37-1.37c-.4-.4-.92-.59-1.43-.59-.52 0-1.04.2-1.43.59L10.3 9.45l-7.72 7.72c-.78.78-.78 2.05 0 2.83L4 21.41c.39.39.9.59 1.41.59.51 0 1.02-.2 1.41-.59l7.78-7.78 2.81-2.81c.8-.78.8-2.07 0-2.86zM5.41 20L4 18.59l7.72-7.72 1.47 1.35L5.41 20z\"/>\n",
              "  </svg>\n",
              "      </button>\n",
              "\n",
              "\n",
              "\n",
              "    <div id=\"df-361fbef5-4ba4-4340-8f47-b224156cb7ad\">\n",
              "      <button class=\"colab-df-quickchart\" onclick=\"quickchart('df-361fbef5-4ba4-4340-8f47-b224156cb7ad')\"\n",
              "              title=\"Suggest charts.\"\n",
              "              style=\"display:none;\">\n",
              "\n",
              "<svg xmlns=\"http://www.w3.org/2000/svg\" height=\"24px\"viewBox=\"0 0 24 24\"\n",
              "     width=\"24px\">\n",
              "    <g>\n",
              "        <path d=\"M19 3H5c-1.1 0-2 .9-2 2v14c0 1.1.9 2 2 2h14c1.1 0 2-.9 2-2V5c0-1.1-.9-2-2-2zM9 17H7v-7h2v7zm4 0h-2V7h2v10zm4 0h-2v-4h2v4z\"/>\n",
              "    </g>\n",
              "</svg>\n",
              "      </button>\n",
              "    </div>\n",
              "\n",
              "<style>\n",
              "  .colab-df-quickchart {\n",
              "    background-color: #E8F0FE;\n",
              "    border: none;\n",
              "    border-radius: 50%;\n",
              "    cursor: pointer;\n",
              "    display: none;\n",
              "    fill: #1967D2;\n",
              "    height: 32px;\n",
              "    padding: 0 0 0 0;\n",
              "    width: 32px;\n",
              "  }\n",
              "\n",
              "  .colab-df-quickchart:hover {\n",
              "    background-color: #E2EBFA;\n",
              "    box-shadow: 0px 1px 2px rgba(60, 64, 67, 0.3), 0px 1px 3px 1px rgba(60, 64, 67, 0.15);\n",
              "    fill: #174EA6;\n",
              "  }\n",
              "\n",
              "  [theme=dark] .colab-df-quickchart {\n",
              "    background-color: #3B4455;\n",
              "    fill: #D2E3FC;\n",
              "  }\n",
              "\n",
              "  [theme=dark] .colab-df-quickchart:hover {\n",
              "    background-color: #434B5C;\n",
              "    box-shadow: 0px 1px 3px 1px rgba(0, 0, 0, 0.15);\n",
              "    filter: drop-shadow(0px 1px 2px rgba(0, 0, 0, 0.3));\n",
              "    fill: #FFFFFF;\n",
              "  }\n",
              "</style>\n",
              "\n",
              "    <script>\n",
              "      async function quickchart(key) {\n",
              "        const containerElement = document.querySelector('#' + key);\n",
              "        const charts = await google.colab.kernel.invokeFunction(\n",
              "            'suggestCharts', [key], {});\n",
              "      }\n",
              "    </script>\n",
              "\n",
              "      <script>\n",
              "\n",
              "function displayQuickchartButton(domScope) {\n",
              "  let quickchartButtonEl =\n",
              "    domScope.querySelector('#df-361fbef5-4ba4-4340-8f47-b224156cb7ad button.colab-df-quickchart');\n",
              "  quickchartButtonEl.style.display =\n",
              "    google.colab.kernel.accessAllowed ? 'block' : 'none';\n",
              "}\n",
              "\n",
              "        displayQuickchartButton(document);\n",
              "      </script>\n",
              "      <style>\n",
              "    .colab-df-container {\n",
              "      display:flex;\n",
              "      flex-wrap:wrap;\n",
              "      gap: 12px;\n",
              "    }\n",
              "\n",
              "    .colab-df-convert {\n",
              "      background-color: #E8F0FE;\n",
              "      border: none;\n",
              "      border-radius: 50%;\n",
              "      cursor: pointer;\n",
              "      display: none;\n",
              "      fill: #1967D2;\n",
              "      height: 32px;\n",
              "      padding: 0 0 0 0;\n",
              "      width: 32px;\n",
              "    }\n",
              "\n",
              "    .colab-df-convert:hover {\n",
              "      background-color: #E2EBFA;\n",
              "      box-shadow: 0px 1px 2px rgba(60, 64, 67, 0.3), 0px 1px 3px 1px rgba(60, 64, 67, 0.15);\n",
              "      fill: #174EA6;\n",
              "    }\n",
              "\n",
              "    [theme=dark] .colab-df-convert {\n",
              "      background-color: #3B4455;\n",
              "      fill: #D2E3FC;\n",
              "    }\n",
              "\n",
              "    [theme=dark] .colab-df-convert:hover {\n",
              "      background-color: #434B5C;\n",
              "      box-shadow: 0px 1px 3px 1px rgba(0, 0, 0, 0.15);\n",
              "      filter: drop-shadow(0px 1px 2px rgba(0, 0, 0, 0.3));\n",
              "      fill: #FFFFFF;\n",
              "    }\n",
              "  </style>\n",
              "\n",
              "      <script>\n",
              "        const buttonEl =\n",
              "          document.querySelector('#df-a3ad4f51-09b1-44d5-9483-3223ce8ee46b button.colab-df-convert');\n",
              "        buttonEl.style.display =\n",
              "          google.colab.kernel.accessAllowed ? 'block' : 'none';\n",
              "\n",
              "        async function convertToInteractive(key) {\n",
              "          const element = document.querySelector('#df-a3ad4f51-09b1-44d5-9483-3223ce8ee46b');\n",
              "          const dataTable =\n",
              "            await google.colab.kernel.invokeFunction('convertToInteractive',\n",
              "                                                     [key], {});\n",
              "          if (!dataTable) return;\n",
              "\n",
              "          const docLinkHtml = 'Like what you see? Visit the ' +\n",
              "            '<a target=\"_blank\" href=https://colab.research.google.com/notebooks/data_table.ipynb>data table notebook</a>'\n",
              "            + ' to learn more about interactive tables.';\n",
              "          element.innerHTML = '';\n",
              "          dataTable['output_type'] = 'display_data';\n",
              "          await google.colab.output.renderOutput(dataTable, element);\n",
              "          const docLink = document.createElement('div');\n",
              "          docLink.innerHTML = docLinkHtml;\n",
              "          element.appendChild(docLink);\n",
              "        }\n",
              "      </script>\n",
              "    </div>\n",
              "  </div>\n"
            ]
          },
          "metadata": {},
          "execution_count": 2
        }
      ]
    },
    {
      "cell_type": "code",
      "source": [
        "# Truncate the dataFrame and use only `text` and `target` columns.\n",
        "df = pd.read_csv('https://raw.githubusercontent.com/nikjohn7/Disaster-Tweets-Kaggle/main/data/train.csv', usecols=[ 'text' , 'target' ] )\n",
        "print( df.head() )\n",
        "\n",
        "# Store the entries in the above mentioned columns in NumPy arrays.\n",
        "raw_texts = df[ 'text' ].values\n",
        "raw_labels = df[ 'target' ].values"
      ],
      "metadata": {
        "colab": {
          "base_uri": "https://localhost:8080/"
        },
        "id": "67yHLrbQRL5K",
        "outputId": "683fe370-ae90-427a-c68d-8f4a60c33230"
      },
      "execution_count": 3,
      "outputs": [
        {
          "output_type": "stream",
          "name": "stdout",
          "text": [
            "                                                text  target\n",
            "0  Our Deeds are the Reason of this #earthquake M...       1\n",
            "1             Forest fire near La Ronge Sask. Canada       1\n",
            "2  All residents asked to 'shelter in place' are ...       1\n",
            "3  13,000 people receive #wildfires evacuation or...       1\n",
            "4  Just got sent this photo from Ruby #Alaska as ...       1\n"
          ]
        }
      ]
    },
    {
      "cell_type": "code",
      "source": [
        "# Print the no. of samples for each class.\n",
        "print(df[ 'target' ].value_counts())"
      ],
      "metadata": {
        "colab": {
          "base_uri": "https://localhost:8080/"
        },
        "id": "4URG1L3CRSfB",
        "outputId": "f199fd0f-d211-48d9-8397-b2e64e296b1e"
      },
      "execution_count": 4,
      "outputs": [
        {
          "output_type": "stream",
          "name": "stdout",
          "text": [
            "0    4342\n",
            "1    3271\n",
            "Name: target, dtype: int64\n"
          ]
        }
      ]
    },
    {
      "cell_type": "code",
      "source": [
        "from sklearn.utils.class_weight import compute_class_weight\n",
        "class_weights = compute_class_weight(class_weight= 'balanced', classes=np.unique(raw_labels), y=raw_labels)\n",
        "print(class_weights)"
      ],
      "metadata": {
        "colab": {
          "base_uri": "https://localhost:8080/"
        },
        "id": "qhx7Wf8VRmVx",
        "outputId": "495ecd56-4b05-4231-ff9c-ab2de084e797"
      },
      "execution_count": 5,
      "outputs": [
        {
          "output_type": "stream",
          "name": "stdout",
          "text": [
            "[0.87666974 1.1637114 ]\n"
          ]
        }
      ]
    },
    {
      "cell_type": "code",
      "source": [
        "class_weights = dict(zip(np.unique(raw_labels), class_weights))\n",
        "print(class_weights)"
      ],
      "metadata": {
        "colab": {
          "base_uri": "https://localhost:8080/"
        },
        "id": "lxCkdbWeRVaV",
        "outputId": "6248047a-323b-4298-f06d-be0e31be6049"
      },
      "execution_count": 6,
      "outputs": [
        {
          "output_type": "stream",
          "name": "stdout",
          "text": [
            "{0: 0.8766697374481806, 1: 1.1637114032405993}\n"
          ]
        }
      ]
    },
    {
      "cell_type": "markdown",
      "source": [
        "## 1.b. Cleaning and tokenizing the textual data"
      ],
      "metadata": {
        "id": "2Rz-WOMjlcob"
      }
    },
    {
      "cell_type": "code",
      "source": [
        "# Regex to remove non-alphabet characters\\\n",
        "r1 = re.compile( '[^a-zA-Z ]' )\n",
        "\n",
        "# Regex to remove hyperlinks ( \"https://...\" )\n",
        "r2 = re.compile( 'http://\\S+|https://\\S+' )\n",
        "\n",
        "# Regex to extract words starting with #\n",
        "r3 = re.compile( '#(\\w+)' )\n",
        "\n",
        "# Remove non-alphabet char from given sentence. See https://stackoverflow.com/questions/22520932/python-remove-all-non-alphabet-chars-from-string\n",
        "def remove_non_alphabet_char( sent ):\n",
        "    return r1.sub( '' , sent )\n",
        "\n",
        "# Remove hyperlinks from given sentence. See https://stackoverflow.com/questions/11331982/how-to-remove-any-url-within-a-string-in-python/11332580\n",
        "def remove_links( sent ):\n",
        "    return r2.sub( '' , sent )\n",
        "\n",
        "# Remove emojis. See https://stackoverflow.com/a/33417311/10878733\n",
        "def remove_emojis( sent ):\n",
        "    emoji_pattern = re.compile(\"[\"\n",
        "        u\"\\U0001F600-\\U0001F64F\"\n",
        "        u\"\\U0001F300-\\U0001F5FF\"\n",
        "        u\"\\U0001F680-\\U0001F6FF\"\n",
        "        u\"\\U0001F1E0-\\U0001F1FF\"\n",
        "                           \"]+\", flags=re.UNICODE)\n",
        "    return emoji_pattern.sub( r'',sent )\n",
        "\n",
        "\n",
        "# Clean the given sentence ( using the two methods above ) and tokenize it.\n",
        "# Also, remove stop words from the sentence.\n",
        "def process_sent( sent ):\n",
        "    sent = text.lower()\n",
        "    sent = remove_links( sent )\n",
        "    sent = remove_non_alphabet_char( sent )\n",
        "    sent = remove_emojis( sent )\n",
        "    tokens = sent.split()\n",
        "    tokens = [ token.strip() for token in tokens if token not in stopwords.words( 'english' ) ]\n",
        "    return tokens\n",
        "\n",
        "# Collect tokens and tokenized sentences in two arrays.\n",
        "processed_tokens = []\n",
        "tokenized_sentences = []\n",
        "for text in raw_texts:\n",
        "    tokens = process_sent( text )\n",
        "    processed_tokens += tokens\n",
        "    tokenized_sentences.append( tokens )\n",
        "\n",
        "# Get unique tokens\n",
        "unique_tokens = list( set( processed_tokens ) )\n",
        "unique_tokens = np.array( unique_tokens )\n",
        "\n",
        "# Compute vocabulary size ( will be used for the Embedding layer )\n",
        "vocab_size = len( unique_tokens )\n",
        "# Create an array of indexed starting from 1 to vocab_size + 1\n",
        "# For ex. [ 1 , 2 , 3 , ... , vocab_size ]\n",
        "indices = np.arange( 1 , vocab_size + 1 )\n",
        "\n",
        "# Zip unique_tokens and indices to create a dict with elements ( index , token ) where index has dtype=int and\n",
        "# token has dtype=str\n",
        "# This dict maps every index to its corresponding token.\n",
        "int_to_word = dict( zip( indices , unique_tokens ) )\n",
        "\n",
        "# This dict maps every token to its corresponding index.\n",
        "word_to_int = dict( zip( unique_tokens , indices ) )"
      ],
      "metadata": {
        "id": "VteI1TOkSVjc"
      },
      "execution_count": 7,
      "outputs": []
    },
    {
      "cell_type": "code",
      "source": [
        "maxlen = max( [ len( arr ) for arr in tokenized_sentences ] )"
      ],
      "metadata": {
        "id": "u2MSomLWSchi"
      },
      "execution_count": 8,
      "outputs": []
    },
    {
      "cell_type": "code",
      "source": [
        "# Transform the given tokenized sentence to an integer sequence\n",
        "# For example, [ 'apple' , 'orange' ] --> [ 1023 , 1102]\n",
        "def sent_to_int_seq( sent ):\n",
        "    int_seq = [ word_to_int[ token ] if token in unique_tokens else 0 for token in sent ]\n",
        "    return int_seq\n",
        "\n",
        "# Pad the given integer sequence with zeros ( from the end of the sequences )\n",
        "# For example, if maxlen=5,\n",
        "# [ 56 , 78 ] -> [ 56 , 78 , 0 , 0 , 0 ]\n",
        "# [ 34 , 56 , 78 , 23 , 13 , 12 ] -> [ 34 , 56 , 78 , 23 , 13 ]\n",
        "def pad_sequence( seq , maxlen ):\n",
        "    out = np.zeros( shape=( maxlen , ) )\n",
        "    out[ 0 : len( seq ) ] = seq\n",
        "    return out\n",
        "\n",
        "# Compute the max length of the tokenized sentences.\n",
        "# Will be used for padding the sequences.\n",
        "maxlen = max( [ len( arr ) for arr in tokenized_sentences ] )\n",
        "print( f'Max Length for input sequences : {maxlen}')\n",
        "\n",
        "# Convert tokenized_sentences to integer sequences\n",
        "# Finally pad the integer sequence and store it in an array.\n",
        "padded_sentences = []\n",
        "for sent in tokenized_sentences:\n",
        "    padded_sentences.append( pad_sequence( sent_to_int_seq( sent ) , maxlen ) )"
      ],
      "metadata": {
        "colab": {
          "base_uri": "https://localhost:8080/"
        },
        "id": "ColB9OY0Spku",
        "outputId": "47cd1d96-2c41-47e7-b899-945b34aeeaeb"
      },
      "execution_count": 9,
      "outputs": [
        {
          "output_type": "stream",
          "name": "stdout",
          "text": [
            "Max Length for input sequences : 23\n"
          ]
        }
      ]
    },
    {
      "cell_type": "code",
      "source": [
        "# Convert list to ndarray\n",
        "x = np.array( padded_sentences )\n",
        "print( x.shape )\n",
        "\n",
        "# Reshape raw_labels from shape ( num_labels , ) to ( num_labels , 1 )\n",
        "#y = raw_labels.reshape( -1 , 1)\n",
        "y = tf.keras.utils.to_categorical( raw_labels , num_classes=2 )\n",
        "print( y.shape )"
      ],
      "metadata": {
        "colab": {
          "base_uri": "https://localhost:8080/"
        },
        "id": "VLr_T8NlSrYr",
        "outputId": "36097da0-3402-4acc-fc9f-7234faa2d204"
      },
      "execution_count": 10,
      "outputs": [
        {
          "output_type": "stream",
          "name": "stdout",
          "text": [
            "(7613, 23)\n",
            "(7613, 2)\n"
          ]
        }
      ]
    },
    {
      "cell_type": "code",
      "source": [
        "# Split the data into training and testing datasets.\n",
        "train_x , test_x , train_y , test_y = sklearn.model_selection.train_test_split( x , y , test_size=0.2 )\n",
        "print( train_x.shape )\n",
        "print( train_y.shape )\n",
        "print( test_x.shape )\n",
        "print( test_y.shape )"
      ],
      "metadata": {
        "colab": {
          "base_uri": "https://localhost:8080/"
        },
        "id": "LHEPKerrSssv",
        "outputId": "10f8da3f-9046-467c-8e89-684bbd82a034"
      },
      "execution_count": 11,
      "outputs": [
        {
          "output_type": "stream",
          "name": "stdout",
          "text": [
            "(6090, 23)\n",
            "(6090, 2)\n",
            "(1523, 23)\n",
            "(1523, 2)\n"
          ]
        }
      ]
    },
    {
      "cell_type": "markdown",
      "source": [
        "# 2. Training the model\n",
        "\n",
        "MLP Mixer is designed originally for image classification problems, as observed in their research paper. We modify the architecture and produce patches from embeddings of shape ( num_patches , embedding_dims ). In context of textual data, embedding_dims could be thought as num_channels in an image.\n",
        "\n",
        "The rest of the components including MLPs and Mixer layers remain as they are."
      ],
      "metadata": {
        "id": "KiUlYbHznSu9"
      }
    },
    {
      "cell_type": "code",
      "source": [
        "# Multilayer Perceptron with GeLU ( Gaussian Linear Units ) activation\n",
        "def mlp( x , hidden_dims ):\n",
        "    y = tf.keras.layers.Dense( hidden_dims )( x )\n",
        "    y = tf.nn.gelu( y )\n",
        "    y = tf.keras.layers.Dense( x.shape[ -1 ] )( y )\n",
        "    y = tf.keras.layers.Dropout( 0.4 )( y )\n",
        "    return y\n",
        "\n",
        "# Token Mixing MLPs : Allow communication within tokens ( patches ) or, intuitively, between different parts\n",
        "# of the same sequence.\n",
        "def token_mixing( x , token_mixing_mlp_dims ):\n",
        "    # x is a tensor of shape ( batch_size , num_patches , channels )\n",
        "    x = tf.keras.layers.LayerNormalization( epsilon=1e-6 )( x )\n",
        "    x = tf.keras.layers.Permute( dims=[ 2 , 1 ] )( x )\n",
        "    # After transposition, shape of x -> ( batch_size , channels , num_patches )\n",
        "    x = mlp( x , token_mixing_mlp_dims )\n",
        "    return x\n",
        "\n",
        "# Channel Mixing MLPs : Allow communication within channels ( features of embeddings )\n",
        "def channel_mixing( x , channel_mixing_mlp_dims ):\n",
        "    # x is a tensor of shape ( batch_size , num_patches , channels )\n",
        "    x = tf.keras.layers.LayerNormalization( epsilon=1e-6 )( x )\n",
        "    x = mlp( x , channel_mixing_mlp_dims )\n",
        "    return x\n",
        "\n",
        "# Mixer layer consisting of token mixing MLPs and channel mixing MLPs\n",
        "# input shape -> ( batch_size , channels , num_patches )\n",
        "# output shape -> ( batch_size , channels , num_patches )\n",
        "def mixer( x , token_mixing_mlp_dims , channel_mixing_mlp_dims ):\n",
        "    # inputs x of are of shape ( batch_size , num_patches , channels )\n",
        "    # Note: \"channels\" is used instead of \"embedding_dims\"\n",
        "\n",
        "    # Add token mixing MLPs\n",
        "    token_mixing_out = token_mixing( x , token_mixing_mlp_dims )\n",
        "    # Shape of token_mixing_out -> ( batch_size , channels , num_patches )\n",
        "\n",
        "    token_mixing_out = tf.keras.layers.Permute( dims=[ 2 , 1 ] )( token_mixing_out )\n",
        "    # Shape of transposition -> ( batch_size , num_patches , channels )\n",
        "\n",
        "    #  Add skip connection\n",
        "    token_mixing_out = tf.keras.layers.Add()( [ x , token_mixing_out ] )\n",
        "\n",
        "    # Add channel mixing MLPs\n",
        "    channel_mixing_out = channel_mixing( token_mixing_out , channel_mixing_mlp_dims )\n",
        "    # Shape of channel_mixing_out -> ( batch_size , num_patches , channels )\n",
        "\n",
        "    # Add skip connection\n",
        "    channel_mixing_out = tf.keras.layers.Add()( [ channel_mixing_out , token_mixing_out ] )\n",
        "    # Shape of channel_mixing_out -> ( batch_size , num_patches , channels )\n",
        "\n",
        "    return channel_mixing_out"
      ],
      "metadata": {
        "id": "mUooFIavSy_J"
      },
      "execution_count": 12,
      "outputs": []
    },
    {
      "cell_type": "code",
      "source": [
        "# These hyperparameters were searched with KerasTuner\n",
        "embedding_dims = 64\n",
        "token_mixing_mlp_dims = 32\n",
        "channel_mixing_mlp_dims = 64\n",
        "patch_size = 5\n",
        "num_mixer_layers = 8\n",
        "learning_rate = 5e-3\n",
        "\n",
        "num_classes = 2\n",
        "seq_input_shape = ( maxlen , )\n",
        "\n",
        "# Model input layer\n",
        "inputs = tf.keras.layers.Input( shape=seq_input_shape )\n",
        "\n",
        "# Embedding layer which converts int sequences into dense vectors\n",
        "embedding = tf.keras.layers.Embedding( input_dim=vocab_size + 1 , output_dim=embedding_dims , input_length=maxlen )( inputs )\n",
        "\n",
        "# Conv1D layer to produce patches from given sequences.\n",
        "patches = tf.keras.layers.Conv1D( embedding_dims ,\n",
        "                                 kernel_size=patch_size ,\n",
        "                                 strides=patch_size ,\n",
        "                                 use_bias=False ,\n",
        "                                 trainable=False )( embedding )\n",
        "\n",
        "x = patches\n",
        "for _ in range( num_mixer_layers ):\n",
        "    x = mixer( x , token_mixing_mlp_dims , channel_mixing_mlp_dims )\n",
        "\n",
        "x = tf.keras.layers.LayerNormalization( epsilon=1e-6 )( x )\n",
        "x = tf.keras.layers.GlobalAveragePooling1D()( x )\n",
        "outputs = tf.keras.layers.Dense( num_classes , activation='softmax' )( x )\n",
        "\n",
        "model = tf.keras.models.Model( inputs , outputs )\n",
        "model.summary()"
      ],
      "metadata": {
        "colab": {
          "base_uri": "https://localhost:8080/"
        },
        "id": "d8C0Tw67S0a_",
        "outputId": "1dfebdb2-81dc-4d34-a2ba-3a8bcbdad112"
      },
      "execution_count": 13,
      "outputs": [
        {
          "output_type": "stream",
          "name": "stdout",
          "text": [
            "Model: \"model\"\n",
            "__________________________________________________________________________________________________\n",
            " Layer (type)                   Output Shape         Param #     Connected to                     \n",
            "==================================================================================================\n",
            " input_1 (InputLayer)           [(None, 23)]         0           []                               \n",
            "                                                                                                  \n",
            " embedding (Embedding)          (None, 23, 64)       1086208     ['input_1[0][0]']                \n",
            "                                                                                                  \n",
            " conv1d (Conv1D)                (None, 4, 64)        20480       ['embedding[0][0]']              \n",
            "                                                                                                  \n",
            " layer_normalization (LayerNorm  (None, 4, 64)       128         ['conv1d[0][0]']                 \n",
            " alization)                                                                                       \n",
            "                                                                                                  \n",
            " permute (Permute)              (None, 64, 4)        0           ['layer_normalization[0][0]']    \n",
            "                                                                                                  \n",
            " dense (Dense)                  (None, 64, 32)       160         ['permute[0][0]']                \n",
            "                                                                                                  \n",
            " tf.nn.gelu (TFOpLambda)        (None, 64, 32)       0           ['dense[0][0]']                  \n",
            "                                                                                                  \n",
            " dense_1 (Dense)                (None, 64, 4)        132         ['tf.nn.gelu[0][0]']             \n",
            "                                                                                                  \n",
            " dropout (Dropout)              (None, 64, 4)        0           ['dense_1[0][0]']                \n",
            "                                                                                                  \n",
            " permute_1 (Permute)            (None, 4, 64)        0           ['dropout[0][0]']                \n",
            "                                                                                                  \n",
            " add (Add)                      (None, 4, 64)        0           ['conv1d[0][0]',                 \n",
            "                                                                  'permute_1[0][0]']              \n",
            "                                                                                                  \n",
            " layer_normalization_1 (LayerNo  (None, 4, 64)       128         ['add[0][0]']                    \n",
            " rmalization)                                                                                     \n",
            "                                                                                                  \n",
            " dense_2 (Dense)                (None, 4, 64)        4160        ['layer_normalization_1[0][0]']  \n",
            "                                                                                                  \n",
            " tf.nn.gelu_1 (TFOpLambda)      (None, 4, 64)        0           ['dense_2[0][0]']                \n",
            "                                                                                                  \n",
            " dense_3 (Dense)                (None, 4, 64)        4160        ['tf.nn.gelu_1[0][0]']           \n",
            "                                                                                                  \n",
            " dropout_1 (Dropout)            (None, 4, 64)        0           ['dense_3[0][0]']                \n",
            "                                                                                                  \n",
            " add_1 (Add)                    (None, 4, 64)        0           ['dropout_1[0][0]',              \n",
            "                                                                  'add[0][0]']                    \n",
            "                                                                                                  \n",
            " layer_normalization_2 (LayerNo  (None, 4, 64)       128         ['add_1[0][0]']                  \n",
            " rmalization)                                                                                     \n",
            "                                                                                                  \n",
            " permute_2 (Permute)            (None, 64, 4)        0           ['layer_normalization_2[0][0]']  \n",
            "                                                                                                  \n",
            " dense_4 (Dense)                (None, 64, 32)       160         ['permute_2[0][0]']              \n",
            "                                                                                                  \n",
            " tf.nn.gelu_2 (TFOpLambda)      (None, 64, 32)       0           ['dense_4[0][0]']                \n",
            "                                                                                                  \n",
            " dense_5 (Dense)                (None, 64, 4)        132         ['tf.nn.gelu_2[0][0]']           \n",
            "                                                                                                  \n",
            " dropout_2 (Dropout)            (None, 64, 4)        0           ['dense_5[0][0]']                \n",
            "                                                                                                  \n",
            " permute_3 (Permute)            (None, 4, 64)        0           ['dropout_2[0][0]']              \n",
            "                                                                                                  \n",
            " add_2 (Add)                    (None, 4, 64)        0           ['add_1[0][0]',                  \n",
            "                                                                  'permute_3[0][0]']              \n",
            "                                                                                                  \n",
            " layer_normalization_3 (LayerNo  (None, 4, 64)       128         ['add_2[0][0]']                  \n",
            " rmalization)                                                                                     \n",
            "                                                                                                  \n",
            " dense_6 (Dense)                (None, 4, 64)        4160        ['layer_normalization_3[0][0]']  \n",
            "                                                                                                  \n",
            " tf.nn.gelu_3 (TFOpLambda)      (None, 4, 64)        0           ['dense_6[0][0]']                \n",
            "                                                                                                  \n",
            " dense_7 (Dense)                (None, 4, 64)        4160        ['tf.nn.gelu_3[0][0]']           \n",
            "                                                                                                  \n",
            " dropout_3 (Dropout)            (None, 4, 64)        0           ['dense_7[0][0]']                \n",
            "                                                                                                  \n",
            " add_3 (Add)                    (None, 4, 64)        0           ['dropout_3[0][0]',              \n",
            "                                                                  'add_2[0][0]']                  \n",
            "                                                                                                  \n",
            " layer_normalization_4 (LayerNo  (None, 4, 64)       128         ['add_3[0][0]']                  \n",
            " rmalization)                                                                                     \n",
            "                                                                                                  \n",
            " permute_4 (Permute)            (None, 64, 4)        0           ['layer_normalization_4[0][0]']  \n",
            "                                                                                                  \n",
            " dense_8 (Dense)                (None, 64, 32)       160         ['permute_4[0][0]']              \n",
            "                                                                                                  \n",
            " tf.nn.gelu_4 (TFOpLambda)      (None, 64, 32)       0           ['dense_8[0][0]']                \n",
            "                                                                                                  \n",
            " dense_9 (Dense)                (None, 64, 4)        132         ['tf.nn.gelu_4[0][0]']           \n",
            "                                                                                                  \n",
            " dropout_4 (Dropout)            (None, 64, 4)        0           ['dense_9[0][0]']                \n",
            "                                                                                                  \n",
            " permute_5 (Permute)            (None, 4, 64)        0           ['dropout_4[0][0]']              \n",
            "                                                                                                  \n",
            " add_4 (Add)                    (None, 4, 64)        0           ['add_3[0][0]',                  \n",
            "                                                                  'permute_5[0][0]']              \n",
            "                                                                                                  \n",
            " layer_normalization_5 (LayerNo  (None, 4, 64)       128         ['add_4[0][0]']                  \n",
            " rmalization)                                                                                     \n",
            "                                                                                                  \n",
            " dense_10 (Dense)               (None, 4, 64)        4160        ['layer_normalization_5[0][0]']  \n",
            "                                                                                                  \n",
            " tf.nn.gelu_5 (TFOpLambda)      (None, 4, 64)        0           ['dense_10[0][0]']               \n",
            "                                                                                                  \n",
            " dense_11 (Dense)               (None, 4, 64)        4160        ['tf.nn.gelu_5[0][0]']           \n",
            "                                                                                                  \n",
            " dropout_5 (Dropout)            (None, 4, 64)        0           ['dense_11[0][0]']               \n",
            "                                                                                                  \n",
            " add_5 (Add)                    (None, 4, 64)        0           ['dropout_5[0][0]',              \n",
            "                                                                  'add_4[0][0]']                  \n",
            "                                                                                                  \n",
            " layer_normalization_6 (LayerNo  (None, 4, 64)       128         ['add_5[0][0]']                  \n",
            " rmalization)                                                                                     \n",
            "                                                                                                  \n",
            " permute_6 (Permute)            (None, 64, 4)        0           ['layer_normalization_6[0][0]']  \n",
            "                                                                                                  \n",
            " dense_12 (Dense)               (None, 64, 32)       160         ['permute_6[0][0]']              \n",
            "                                                                                                  \n",
            " tf.nn.gelu_6 (TFOpLambda)      (None, 64, 32)       0           ['dense_12[0][0]']               \n",
            "                                                                                                  \n",
            " dense_13 (Dense)               (None, 64, 4)        132         ['tf.nn.gelu_6[0][0]']           \n",
            "                                                                                                  \n",
            " dropout_6 (Dropout)            (None, 64, 4)        0           ['dense_13[0][0]']               \n",
            "                                                                                                  \n",
            " permute_7 (Permute)            (None, 4, 64)        0           ['dropout_6[0][0]']              \n",
            "                                                                                                  \n",
            " add_6 (Add)                    (None, 4, 64)        0           ['add_5[0][0]',                  \n",
            "                                                                  'permute_7[0][0]']              \n",
            "                                                                                                  \n",
            " layer_normalization_7 (LayerNo  (None, 4, 64)       128         ['add_6[0][0]']                  \n",
            " rmalization)                                                                                     \n",
            "                                                                                                  \n",
            " dense_14 (Dense)               (None, 4, 64)        4160        ['layer_normalization_7[0][0]']  \n",
            "                                                                                                  \n",
            " tf.nn.gelu_7 (TFOpLambda)      (None, 4, 64)        0           ['dense_14[0][0]']               \n",
            "                                                                                                  \n",
            " dense_15 (Dense)               (None, 4, 64)        4160        ['tf.nn.gelu_7[0][0]']           \n",
            "                                                                                                  \n",
            " dropout_7 (Dropout)            (None, 4, 64)        0           ['dense_15[0][0]']               \n",
            "                                                                                                  \n",
            " add_7 (Add)                    (None, 4, 64)        0           ['dropout_7[0][0]',              \n",
            "                                                                  'add_6[0][0]']                  \n",
            "                                                                                                  \n",
            " layer_normalization_8 (LayerNo  (None, 4, 64)       128         ['add_7[0][0]']                  \n",
            " rmalization)                                                                                     \n",
            "                                                                                                  \n",
            " permute_8 (Permute)            (None, 64, 4)        0           ['layer_normalization_8[0][0]']  \n",
            "                                                                                                  \n",
            " dense_16 (Dense)               (None, 64, 32)       160         ['permute_8[0][0]']              \n",
            "                                                                                                  \n",
            " tf.nn.gelu_8 (TFOpLambda)      (None, 64, 32)       0           ['dense_16[0][0]']               \n",
            "                                                                                                  \n",
            " dense_17 (Dense)               (None, 64, 4)        132         ['tf.nn.gelu_8[0][0]']           \n",
            "                                                                                                  \n",
            " dropout_8 (Dropout)            (None, 64, 4)        0           ['dense_17[0][0]']               \n",
            "                                                                                                  \n",
            " permute_9 (Permute)            (None, 4, 64)        0           ['dropout_8[0][0]']              \n",
            "                                                                                                  \n",
            " add_8 (Add)                    (None, 4, 64)        0           ['add_7[0][0]',                  \n",
            "                                                                  'permute_9[0][0]']              \n",
            "                                                                                                  \n",
            " layer_normalization_9 (LayerNo  (None, 4, 64)       128         ['add_8[0][0]']                  \n",
            " rmalization)                                                                                     \n",
            "                                                                                                  \n",
            " dense_18 (Dense)               (None, 4, 64)        4160        ['layer_normalization_9[0][0]']  \n",
            "                                                                                                  \n",
            " tf.nn.gelu_9 (TFOpLambda)      (None, 4, 64)        0           ['dense_18[0][0]']               \n",
            "                                                                                                  \n",
            " dense_19 (Dense)               (None, 4, 64)        4160        ['tf.nn.gelu_9[0][0]']           \n",
            "                                                                                                  \n",
            " dropout_9 (Dropout)            (None, 4, 64)        0           ['dense_19[0][0]']               \n",
            "                                                                                                  \n",
            " add_9 (Add)                    (None, 4, 64)        0           ['dropout_9[0][0]',              \n",
            "                                                                  'add_8[0][0]']                  \n",
            "                                                                                                  \n",
            " layer_normalization_10 (LayerN  (None, 4, 64)       128         ['add_9[0][0]']                  \n",
            " ormalization)                                                                                    \n",
            "                                                                                                  \n",
            " permute_10 (Permute)           (None, 64, 4)        0           ['layer_normalization_10[0][0]'] \n",
            "                                                                                                  \n",
            " dense_20 (Dense)               (None, 64, 32)       160         ['permute_10[0][0]']             \n",
            "                                                                                                  \n",
            " tf.nn.gelu_10 (TFOpLambda)     (None, 64, 32)       0           ['dense_20[0][0]']               \n",
            "                                                                                                  \n",
            " dense_21 (Dense)               (None, 64, 4)        132         ['tf.nn.gelu_10[0][0]']          \n",
            "                                                                                                  \n",
            " dropout_10 (Dropout)           (None, 64, 4)        0           ['dense_21[0][0]']               \n",
            "                                                                                                  \n",
            " permute_11 (Permute)           (None, 4, 64)        0           ['dropout_10[0][0]']             \n",
            "                                                                                                  \n",
            " add_10 (Add)                   (None, 4, 64)        0           ['add_9[0][0]',                  \n",
            "                                                                  'permute_11[0][0]']             \n",
            "                                                                                                  \n",
            " layer_normalization_11 (LayerN  (None, 4, 64)       128         ['add_10[0][0]']                 \n",
            " ormalization)                                                                                    \n",
            "                                                                                                  \n",
            " dense_22 (Dense)               (None, 4, 64)        4160        ['layer_normalization_11[0][0]'] \n",
            "                                                                                                  \n",
            " tf.nn.gelu_11 (TFOpLambda)     (None, 4, 64)        0           ['dense_22[0][0]']               \n",
            "                                                                                                  \n",
            " dense_23 (Dense)               (None, 4, 64)        4160        ['tf.nn.gelu_11[0][0]']          \n",
            "                                                                                                  \n",
            " dropout_11 (Dropout)           (None, 4, 64)        0           ['dense_23[0][0]']               \n",
            "                                                                                                  \n",
            " add_11 (Add)                   (None, 4, 64)        0           ['dropout_11[0][0]',             \n",
            "                                                                  'add_10[0][0]']                 \n",
            "                                                                                                  \n",
            " layer_normalization_12 (LayerN  (None, 4, 64)       128         ['add_11[0][0]']                 \n",
            " ormalization)                                                                                    \n",
            "                                                                                                  \n",
            " permute_12 (Permute)           (None, 64, 4)        0           ['layer_normalization_12[0][0]'] \n",
            "                                                                                                  \n",
            " dense_24 (Dense)               (None, 64, 32)       160         ['permute_12[0][0]']             \n",
            "                                                                                                  \n",
            " tf.nn.gelu_12 (TFOpLambda)     (None, 64, 32)       0           ['dense_24[0][0]']               \n",
            "                                                                                                  \n",
            " dense_25 (Dense)               (None, 64, 4)        132         ['tf.nn.gelu_12[0][0]']          \n",
            "                                                                                                  \n",
            " dropout_12 (Dropout)           (None, 64, 4)        0           ['dense_25[0][0]']               \n",
            "                                                                                                  \n",
            " permute_13 (Permute)           (None, 4, 64)        0           ['dropout_12[0][0]']             \n",
            "                                                                                                  \n",
            " add_12 (Add)                   (None, 4, 64)        0           ['add_11[0][0]',                 \n",
            "                                                                  'permute_13[0][0]']             \n",
            "                                                                                                  \n",
            " layer_normalization_13 (LayerN  (None, 4, 64)       128         ['add_12[0][0]']                 \n",
            " ormalization)                                                                                    \n",
            "                                                                                                  \n",
            " dense_26 (Dense)               (None, 4, 64)        4160        ['layer_normalization_13[0][0]'] \n",
            "                                                                                                  \n",
            " tf.nn.gelu_13 (TFOpLambda)     (None, 4, 64)        0           ['dense_26[0][0]']               \n",
            "                                                                                                  \n",
            " dense_27 (Dense)               (None, 4, 64)        4160        ['tf.nn.gelu_13[0][0]']          \n",
            "                                                                                                  \n",
            " dropout_13 (Dropout)           (None, 4, 64)        0           ['dense_27[0][0]']               \n",
            "                                                                                                  \n",
            " add_13 (Add)                   (None, 4, 64)        0           ['dropout_13[0][0]',             \n",
            "                                                                  'add_12[0][0]']                 \n",
            "                                                                                                  \n",
            " layer_normalization_14 (LayerN  (None, 4, 64)       128         ['add_13[0][0]']                 \n",
            " ormalization)                                                                                    \n",
            "                                                                                                  \n",
            " permute_14 (Permute)           (None, 64, 4)        0           ['layer_normalization_14[0][0]'] \n",
            "                                                                                                  \n",
            " dense_28 (Dense)               (None, 64, 32)       160         ['permute_14[0][0]']             \n",
            "                                                                                                  \n",
            " tf.nn.gelu_14 (TFOpLambda)     (None, 64, 32)       0           ['dense_28[0][0]']               \n",
            "                                                                                                  \n",
            " dense_29 (Dense)               (None, 64, 4)        132         ['tf.nn.gelu_14[0][0]']          \n",
            "                                                                                                  \n",
            " dropout_14 (Dropout)           (None, 64, 4)        0           ['dense_29[0][0]']               \n",
            "                                                                                                  \n",
            " permute_15 (Permute)           (None, 4, 64)        0           ['dropout_14[0][0]']             \n",
            "                                                                                                  \n",
            " add_14 (Add)                   (None, 4, 64)        0           ['add_13[0][0]',                 \n",
            "                                                                  'permute_15[0][0]']             \n",
            "                                                                                                  \n",
            " layer_normalization_15 (LayerN  (None, 4, 64)       128         ['add_14[0][0]']                 \n",
            " ormalization)                                                                                    \n",
            "                                                                                                  \n",
            " dense_30 (Dense)               (None, 4, 64)        4160        ['layer_normalization_15[0][0]'] \n",
            "                                                                                                  \n",
            " tf.nn.gelu_15 (TFOpLambda)     (None, 4, 64)        0           ['dense_30[0][0]']               \n",
            "                                                                                                  \n",
            " dense_31 (Dense)               (None, 4, 64)        4160        ['tf.nn.gelu_15[0][0]']          \n",
            "                                                                                                  \n",
            " dropout_15 (Dropout)           (None, 4, 64)        0           ['dense_31[0][0]']               \n",
            "                                                                                                  \n",
            " add_15 (Add)                   (None, 4, 64)        0           ['dropout_15[0][0]',             \n",
            "                                                                  'add_14[0][0]']                 \n",
            "                                                                                                  \n",
            " layer_normalization_16 (LayerN  (None, 4, 64)       128         ['add_15[0][0]']                 \n",
            " ormalization)                                                                                    \n",
            "                                                                                                  \n",
            " global_average_pooling1d (Glob  (None, 64)          0           ['layer_normalization_16[0][0]'] \n",
            " alAveragePooling1D)                                                                              \n",
            "                                                                                                  \n",
            " dense_32 (Dense)               (None, 2)            130         ['global_average_pooling1d[0][0]'\n",
            "                                                                 ]                                \n",
            "                                                                                                  \n",
            "==================================================================================================\n",
            "Total params: 1,177,890\n",
            "Trainable params: 1,157,410\n",
            "Non-trainable params: 20,480\n",
            "__________________________________________________________________________________________________\n"
          ]
        }
      ]
    },
    {
      "cell_type": "code",
      "source": [
        "# Batch size and epochs\n",
        "batch_size = 32\n",
        "num_epochs = 5\n",
        "\n",
        "# Compile the model and start the training\n",
        "model.compile(\n",
        "    loss='categorical_crossentropy' ,\n",
        "    optimizer=tf.keras.optimizers.Adam( learning_rate ) ,\n",
        "    metrics=[ 'accuracy' ]\n",
        ")\n",
        "\n",
        "model.fit(train_x ,\n",
        "          train_y ,\n",
        "          batch_size=batch_size ,\n",
        "          validation_data=( test_x , test_y ) ,\n",
        "          epochs=num_epochs ,\n",
        "          class_weight=class_weights ,\n",
        "        )"
      ],
      "metadata": {
        "colab": {
          "base_uri": "https://localhost:8080/"
        },
        "id": "CF-wvlMSS1nz",
        "outputId": "e0f20bc1-064e-459e-be53-60c4b480862e"
      },
      "execution_count": 14,
      "outputs": [
        {
          "output_type": "stream",
          "name": "stdout",
          "text": [
            "Epoch 1/5\n",
            "191/191 [==============================] - 29s 58ms/step - loss: 0.6985 - accuracy: 0.5445 - val_loss: 0.5345 - val_accuracy: 0.7492\n",
            "Epoch 2/5\n",
            "191/191 [==============================] - 10s 51ms/step - loss: 0.4008 - accuracy: 0.8351 - val_loss: 0.5669 - val_accuracy: 0.7610\n",
            "Epoch 3/5\n",
            "191/191 [==============================] - 10s 54ms/step - loss: 0.1244 - accuracy: 0.9629 - val_loss: 0.8739 - val_accuracy: 0.7466\n",
            "Epoch 4/5\n",
            "191/191 [==============================] - 10s 54ms/step - loss: 0.0734 - accuracy: 0.9759 - val_loss: 0.9558 - val_accuracy: 0.7695\n",
            "Epoch 5/5\n",
            "191/191 [==============================] - 10s 54ms/step - loss: 0.0530 - accuracy: 0.9790 - val_loss: 0.9343 - val_accuracy: 0.7485\n"
          ]
        },
        {
          "output_type": "execute_result",
          "data": {
            "text/plain": [
              "<keras.callbacks.History at 0x7eb75ee15360>"
            ]
          },
          "metadata": {},
          "execution_count": 14
        }
      ]
    },
    {
      "cell_type": "code",
      "source": [
        "# Fetch model predictions for test_x\n",
        "pred_y = model.predict( test_x )\n",
        "\n",
        "# Print the classification report\n",
        "report = sklearn.metrics.classification_report( np.argmax( test_y , axis=1 ) , np.argmax( pred_y , axis=1 ) , target_names=[ 'not disaster' , 'disaster' ] )\n",
        "print( report )"
      ],
      "metadata": {
        "colab": {
          "base_uri": "https://localhost:8080/"
        },
        "id": "A7mMtPkAS4lz",
        "outputId": "c3eb2142-0673-431d-9af2-d84e3de82a1d"
      },
      "execution_count": 15,
      "outputs": [
        {
          "output_type": "stream",
          "name": "stdout",
          "text": [
            "48/48 [==============================] - 2s 12ms/step\n",
            "              precision    recall  f1-score   support\n",
            "\n",
            "not disaster       0.80      0.73      0.77       857\n",
            "    disaster       0.69      0.77      0.73       666\n",
            "\n",
            "    accuracy                           0.75      1523\n",
            "   macro avg       0.75      0.75      0.75      1523\n",
            "weighted avg       0.75      0.75      0.75      1523\n",
            "\n"
          ]
        }
      ]
    },
    {
      "cell_type": "code",
      "source": [
        "# Plot the confusion matrix\n",
        "conf_matrix = sklearn.metrics.confusion_matrix( np.argmax( test_y , axis=1 ) ,np.argmax( pred_y , axis=1 ) )\n",
        "disp = sklearn.metrics.ConfusionMatrixDisplay( conf_matrix , display_labels=[ 'not disaster' , 'disaster' ] )\n",
        "disp.plot()"
      ],
      "metadata": {
        "colab": {
          "base_uri": "https://localhost:8080/",
          "height": 466
        },
        "id": "pJOTOUJES56r",
        "outputId": "8462a32d-36f9-4bdd-c16c-5872d579e986"
      },
      "execution_count": 16,
      "outputs": [
        {
          "output_type": "execute_result",
          "data": {
            "text/plain": [
              "<sklearn.metrics._plot.confusion_matrix.ConfusionMatrixDisplay at 0x7eb75ee5fa30>"
            ]
          },
          "metadata": {},
          "execution_count": 16
        },
        {
          "output_type": "display_data",
          "data": {
            "text/plain": [
              "<Figure size 640x480 with 2 Axes>"
            ],
            "image/png": "[encoded data removed]"
          },
          "metadata": {}
        }
      ]
    },
    {
      "cell_type": "code",
      "source": [
        "# Read the test.csv file\n",
        "test_df = pd.read_csv('https://raw.githubusercontent.com/nikjohn7/Disaster-Tweets-Kaggle/main/data/test.csv', usecols=[ 'text' , 'id'])\n",
        "# Clean, tokenize, pad the sentences from test_df\n",
        "test_inputs = []\n",
        "for text in test_df[ 'text' ].values:\n",
        "    tokens = process_sent( text )\n",
        "    out = sent_to_int_seq( tokens )\n",
        "    out = pad_sequence( out , maxlen )\n",
        "    test_inputs.append( out )\n",
        "\n",
        "# Fetch predictions for test_inputs\n",
        "test_inputs = np.array( test_inputs )\n",
        "predicted_labels = np.argmax( model.predict( test_inputs ) , axis=1 )\n",
        "\n",
        "ids = test_df[ 'id' ].values\n",
        "\n",
        "# Create the output.csv file from ids and predicted_labels\n",
        "output_csv = { 'id' : ids , 'target' : predicted_labels }\n",
        "output_csv = pd.DataFrame.from_dict(output_csv)\n",
        "output_csv.to_csv('output.csv', index=False )"
      ],
      "metadata": {
        "colab": {
          "base_uri": "https://localhost:8080/"
        },
        "id": "niqp1ZQFUZhk",
        "outputId": "493c74cb-c3f8-4f4c-fff4-d98d26027b5f"
      },
      "execution_count": 17,
      "outputs": [
        {
          "output_type": "stream",
          "name": "stdout",
          "text": [
            "102/102 [==============================] - 1s 11ms/step\n"
          ]
        }
      ]
    }
  ]
}