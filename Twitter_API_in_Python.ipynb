{
  "nbformat": 4,
  "nbformat_minor": 0,
  "metadata": {
    "colab": {
      "name": "Twitter API in Python.ipynb",
      "provenance": [],
      "authorship_tag": "ABX9TyOcLW3QyhlmTF9l583nF+4l"
    },
    "kernelspec": {
      "name": "python3",
      "display_name": "Python 3"
    }
  },
  "cells": [
    {
      "cell_type": "markdown",
      "metadata": {
        "id": "WQgj5ELcN7KE"
      },
      "source": [
        "[Reference](https://medium.com/towards-artificial-intelligence/using-twitter-rest-apis-in-python-to-search-and-download-tweets-in-bulk-da234b5f155a)"
      ]
    },
    {
      "cell_type": "code",
      "metadata": {
        "id": "1H1yywJgFVmq"
      },
      "source": [
        "import tweepy\n",
        "import pandas as pd\n",
        "import matplotlib.pyplot as plt\n",
        "import seaborn as sns\n",
        "import numpy as np\n",
        "sns.set()\n",
        "%matplotlib inline"
      ],
      "execution_count": 2,
      "outputs": []
    },
    {
      "cell_type": "code",
      "metadata": {
        "id": "I7Fa-jqxN2vQ"
      },
      "source": [
        "config = {\"twitterConsumerKey\":\"XXXX\", \"twitterConsumerSecretKey\" :\"XXXX\"} \n",
        "auth = tweepy.OAuthHandler(config[\"twitterConsumerKey\"], config[\"twitterConsumerSecretKey\"]) \n",
        "redirect_url = auth.get_authorization_url() \n",
        "redirect_url"
      ],
      "execution_count": 3,
      "outputs": []
    },
    {
      "cell_type": "code",
      "metadata": {
        "id": "hGh85vkjN-zk"
      },
      "source": [
        "pin = \"XXXX\"\n",
        "auth.get_access_token(pin)"
      ],
      "execution_count": 4,
      "outputs": []
    },
    {
      "cell_type": "markdown",
      "metadata": {
        "id": "WpKCjQ96PIQL"
      },
      "source": [
        "# Searching for tweets"
      ]
    },
    {
      "cell_type": "code",
      "metadata": {
        "id": "Sk_ha_fhOAzD"
      },
      "source": [
        "query = 'British Airways'\n",
        "max_tweets = 10\n",
        "searched_tweets = [status for status in tweepy.Cursor(api.search, q=query,tweet_mode='extended').items(max_tweets)]\n",
        "\n",
        "search_dict = {\"text\": [], \"author\": [], \"created_date\": []}\n",
        "\n",
        "for item in searched_tweets:\n",
        "    if not item.retweet or \"RT\" not in item.full_text:\n",
        "        search_dict[\"text\"].append(item.full_text)\n",
        "        search_dict[\"author\"].append(item.author.name)\n",
        "        search_dict[\"created_date\"].append(item.created_at)\n",
        "\\df = pd.DataFrame.from_dict(search_dict)\n",
        "df.head()"
      ],
      "execution_count": 5,
      "outputs": []
    },
    {
      "cell_type": "markdown",
      "metadata": {
        "id": "zes1kH1TPJt1"
      },
      "source": [
        "# Language detection"
      ]
    },
    {
      "cell_type": "code",
      "metadata": {
        "id": "pt2bgr9OOGNn"
      },
      "source": [
        "from langid.langid import LanguageIdentifier, model\n",
        "def get_lang(document):\n",
        "    identifier = LanguageIdentifier.from_modelstring(model, norm_probs=True)\n",
        "    prob_tuple = identifier.classify(document)\n",
        "    return prob_tuple[0]\n",
        "    \n",
        "df[\"language\"] = df[\"text\"].apply(get_lang)"
      ],
      "execution_count": 6,
      "outputs": []
    },
    {
      "cell_type": "code",
      "metadata": {
        "id": "radm3qolPOUr"
      },
      "source": [
        "print(df[\"language\"].unique())\n",
        "df_filtered = df[df[\"language\"]==\"en\"]\n",
        "print(df_filtered.shape)"
      ],
      "execution_count": 7,
      "outputs": []
    },
    {
      "cell_type": "markdown",
      "metadata": {
        "id": "88yP7WnKPVk6"
      },
      "source": [
        "# Getting sentiments to score for tweets"
      ]
    },
    {
      "cell_type": "code",
      "metadata": {
        "id": "mS5Lf2mjPUWH"
      },
      "source": [
        "from textblob import TextBlob\n",
        "\n",
        "def get_sentiments(text):\n",
        "    blob = TextBlob(text)\n",
        "#     sent_dict = {}\n",
        "#     sent_dict[\"polarity\"] = blob.sentiment.polarity\n",
        "#     sent_dict[\"subjectivity\"] = blob.sentiment.subjectivity\n",
        "    \n",
        "    if blob.sentiment.polarity > 0.1:\n",
        "        return 'positive'\n",
        "    elif blob.sentiment.polarity < -0.1:\n",
        "        return 'negative'\n",
        "    else:\n",
        "        return 'neutral'def get_sentiments_score(text):\n",
        "    blob = TextBlob(text)\n",
        "    return blob.sentiment.polarity\n",
        "    \n",
        "df_filtered[\"sentiments\"]=df_filtered[\"text\"].apply(get_sentiments)\n",
        "df_filtered[\"sentiments_score\"]=df_filtered[\"text\"].apply(get_sentiments_score)\n",
        "df_filtered.head()"
      ],
      "execution_count": 8,
      "outputs": []
    }
  ]
}