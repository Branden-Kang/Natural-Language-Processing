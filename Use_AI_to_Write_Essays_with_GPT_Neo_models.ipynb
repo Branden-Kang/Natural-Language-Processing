{
  "nbformat": 4,
  "nbformat_minor": 0,
  "metadata": {
    "colab": {
      "name": "Use AI to Write Essays with GPT-Neo models.ipynb",
      "provenance": [],
      "authorship_tag": "ABX9TyNmrKwcPelKtQ4OUu/X1Xph"
    },
    "kernelspec": {
      "name": "python3",
      "display_name": "Python 3"
    },
    "language_info": {
      "name": "python"
    },
    "widgets": {
      "application/vnd.jupyter.widget-state+json": {
        "ce9ebd121f9c49ad9450e785f25c7971": {
          "model_module": "@jupyter-widgets/controls",
          "model_name": "HBoxModel",
          "state": {
            "_view_name": "HBoxView",
            "_dom_classes": [],
            "_model_name": "HBoxModel",
            "_view_module": "@jupyter-widgets/controls",
            "_model_module_version": "1.5.0",
            "_view_count": null,
            "_view_module_version": "1.5.0",
            "box_style": "",
            "layout": "IPY_MODEL_4dfa0a61845e4b158faca014dc53043e",
            "_model_module": "@jupyter-widgets/controls",
            "children": [
              "IPY_MODEL_32234611f18445ff891b5168214388bb",
              "IPY_MODEL_ed00f94c531f4924838f269d06c8fe28"
            ]
          }
        },
        "4dfa0a61845e4b158faca014dc53043e": {
          "model_module": "@jupyter-widgets/base",
          "model_name": "LayoutModel",
          "state": {
            "_view_name": "LayoutView",
            "grid_template_rows": null,
            "right": null,
            "justify_content": null,
            "_view_module": "@jupyter-widgets/base",
            "overflow": null,
            "_model_module_version": "1.2.0",
            "_view_count": null,
            "flex_flow": null,
            "width": null,
            "min_width": null,
            "border": null,
            "align_items": null,
            "bottom": null,
            "_model_module": "@jupyter-widgets/base",
            "top": null,
            "grid_column": null,
            "overflow_y": null,
            "overflow_x": null,
            "grid_auto_flow": null,
            "grid_area": null,
            "grid_template_columns": null,
            "flex": null,
            "_model_name": "LayoutModel",
            "justify_items": null,
            "grid_row": null,
            "max_height": null,
            "align_content": null,
            "visibility": null,
            "align_self": null,
            "height": null,
            "min_height": null,
            "padding": null,
            "grid_auto_rows": null,
            "grid_gap": null,
            "max_width": null,
            "order": null,
            "_view_module_version": "1.2.0",
            "grid_template_areas": null,
            "object_position": null,
            "object_fit": null,
            "grid_auto_columns": null,
            "margin": null,
            "display": null,
            "left": null
          }
        },
        "32234611f18445ff891b5168214388bb": {
          "model_module": "@jupyter-widgets/controls",
          "model_name": "FloatProgressModel",
          "state": {
            "_view_name": "ProgressView",
            "style": "IPY_MODEL_a4d7532f714243d8b8f49fe460b27b44",
            "_dom_classes": [],
            "description": "Downloading: 100%",
            "_model_name": "FloatProgressModel",
            "bar_style": "success",
            "max": 1007,
            "_view_module": "@jupyter-widgets/controls",
            "_model_module_version": "1.5.0",
            "value": 1007,
            "_view_count": null,
            "_view_module_version": "1.5.0",
            "orientation": "horizontal",
            "min": 0,
            "description_tooltip": null,
            "_model_module": "@jupyter-widgets/controls",
            "layout": "IPY_MODEL_5529f9a1367b439995d67edf17cbaa0d"
          }
        },
        "ed00f94c531f4924838f269d06c8fe28": {
          "model_module": "@jupyter-widgets/controls",
          "model_name": "HTMLModel",
          "state": {
            "_view_name": "HTMLView",
            "style": "IPY_MODEL_4cd06c761a494d978bfe01a7fce1be9c",
            "_dom_classes": [],
            "description": "",
            "_model_name": "HTMLModel",
            "placeholder": "​",
            "_view_module": "@jupyter-widgets/controls",
            "_model_module_version": "1.5.0",
            "value": " 1.01k/1.01k [00:17&lt;00:00, 57.7B/s]",
            "_view_count": null,
            "_view_module_version": "1.5.0",
            "description_tooltip": null,
            "_model_module": "@jupyter-widgets/controls",
            "layout": "IPY_MODEL_58db5a38da554d43a6d764875875d406"
          }
        },
        "a4d7532f714243d8b8f49fe460b27b44": {
          "model_module": "@jupyter-widgets/controls",
          "model_name": "ProgressStyleModel",
          "state": {
            "_view_name": "StyleView",
            "_model_name": "ProgressStyleModel",
            "description_width": "initial",
            "_view_module": "@jupyter-widgets/base",
            "_model_module_version": "1.5.0",
            "_view_count": null,
            "_view_module_version": "1.2.0",
            "bar_color": null,
            "_model_module": "@jupyter-widgets/controls"
          }
        },
        "5529f9a1367b439995d67edf17cbaa0d": {
          "model_module": "@jupyter-widgets/base",
          "model_name": "LayoutModel",
          "state": {
            "_view_name": "LayoutView",
            "grid_template_rows": null,
            "right": null,
            "justify_content": null,
            "_view_module": "@jupyter-widgets/base",
            "overflow": null,
            "_model_module_version": "1.2.0",
            "_view_count": null,
            "flex_flow": null,
            "width": null,
            "min_width": null,
            "border": null,
            "align_items": null,
            "bottom": null,
            "_model_module": "@jupyter-widgets/base",
            "top": null,
            "grid_column": null,
            "overflow_y": null,
            "overflow_x": null,
            "grid_auto_flow": null,
            "grid_area": null,
            "grid_template_columns": null,
            "flex": null,
            "_model_name": "LayoutModel",
            "justify_items": null,
            "grid_row": null,
            "max_height": null,
            "align_content": null,
            "visibility": null,
            "align_self": null,
            "height": null,
            "min_height": null,
            "padding": null,
            "grid_auto_rows": null,
            "grid_gap": null,
            "max_width": null,
            "order": null,
            "_view_module_version": "1.2.0",
            "grid_template_areas": null,
            "object_position": null,
            "object_fit": null,
            "grid_auto_columns": null,
            "margin": null,
            "display": null,
            "left": null
          }
        },
        "4cd06c761a494d978bfe01a7fce1be9c": {
          "model_module": "@jupyter-widgets/controls",
          "model_name": "DescriptionStyleModel",
          "state": {
            "_view_name": "StyleView",
            "_model_name": "DescriptionStyleModel",
            "description_width": "",
            "_view_module": "@jupyter-widgets/base",
            "_model_module_version": "1.5.0",
            "_view_count": null,
            "_view_module_version": "1.2.0",
            "_model_module": "@jupyter-widgets/controls"
          }
        },
        "58db5a38da554d43a6d764875875d406": {
          "model_module": "@jupyter-widgets/base",
          "model_name": "LayoutModel",
          "state": {
            "_view_name": "LayoutView",
            "grid_template_rows": null,
            "right": null,
            "justify_content": null,
            "_view_module": "@jupyter-widgets/base",
            "overflow": null,
            "_model_module_version": "1.2.0",
            "_view_count": null,
            "flex_flow": null,
            "width": null,
            "min_width": null,
            "border": null,
            "align_items": null,
            "bottom": null,
            "_model_module": "@jupyter-widgets/base",
            "top": null,
            "grid_column": null,
            "overflow_y": null,
            "overflow_x": null,
            "grid_auto_flow": null,
            "grid_area": null,
            "grid_template_columns": null,
            "flex": null,
            "_model_name": "LayoutModel",
            "justify_items": null,
            "grid_row": null,
            "max_height": null,
            "align_content": null,
            "visibility": null,
            "align_self": null,
            "height": null,
            "min_height": null,
            "padding": null,
            "grid_auto_rows": null,
            "grid_gap": null,
            "max_width": null,
            "order": null,
            "_view_module_version": "1.2.0",
            "grid_template_areas": null,
            "object_position": null,
            "object_fit": null,
            "grid_auto_columns": null,
            "margin": null,
            "display": null,
            "left": null
          }
        },
        "b5de5d250a77447fa899991dad3710fd": {
          "model_module": "@jupyter-widgets/controls",
          "model_name": "HBoxModel",
          "state": {
            "_view_name": "HBoxView",
            "_dom_classes": [],
            "_model_name": "HBoxModel",
            "_view_module": "@jupyter-widgets/controls",
            "_model_module_version": "1.5.0",
            "_view_count": null,
            "_view_module_version": "1.5.0",
            "box_style": "",
            "layout": "IPY_MODEL_1a68c966ca9e4a5b8a65e9820b3d68bc",
            "_model_module": "@jupyter-widgets/controls",
            "children": [
              "IPY_MODEL_d58e2ed6467e4afc83e8d2108ae3ce88",
              "IPY_MODEL_699a7da9070141c89382a16abd1b6c06"
            ]
          }
        },
        "1a68c966ca9e4a5b8a65e9820b3d68bc": {
          "model_module": "@jupyter-widgets/base",
          "model_name": "LayoutModel",
          "state": {
            "_view_name": "LayoutView",
            "grid_template_rows": null,
            "right": null,
            "justify_content": null,
            "_view_module": "@jupyter-widgets/base",
            "overflow": null,
            "_model_module_version": "1.2.0",
            "_view_count": null,
            "flex_flow": null,
            "width": null,
            "min_width": null,
            "border": null,
            "align_items": null,
            "bottom": null,
            "_model_module": "@jupyter-widgets/base",
            "top": null,
            "grid_column": null,
            "overflow_y": null,
            "overflow_x": null,
            "grid_auto_flow": null,
            "grid_area": null,
            "grid_template_columns": null,
            "flex": null,
            "_model_name": "LayoutModel",
            "justify_items": null,
            "grid_row": null,
            "max_height": null,
            "align_content": null,
            "visibility": null,
            "align_self": null,
            "height": null,
            "min_height": null,
            "padding": null,
            "grid_auto_rows": null,
            "grid_gap": null,
            "max_width": null,
            "order": null,
            "_view_module_version": "1.2.0",
            "grid_template_areas": null,
            "object_position": null,
            "object_fit": null,
            "grid_auto_columns": null,
            "margin": null,
            "display": null,
            "left": null
          }
        },
        "d58e2ed6467e4afc83e8d2108ae3ce88": {
          "model_module": "@jupyter-widgets/controls",
          "model_name": "FloatProgressModel",
          "state": {
            "_view_name": "ProgressView",
            "style": "IPY_MODEL_1c6dd4a64aa1407b9c65b6640374e61e",
            "_dom_classes": [],
            "description": "Downloading: 100%",
            "_model_name": "FloatProgressModel",
            "bar_style": "success",
            "max": 526017373,
            "_view_module": "@jupyter-widgets/controls",
            "_model_module_version": "1.5.0",
            "value": 526017373,
            "_view_count": null,
            "_view_module_version": "1.5.0",
            "orientation": "horizontal",
            "min": 0,
            "description_tooltip": null,
            "_model_module": "@jupyter-widgets/controls",
            "layout": "IPY_MODEL_b887b7116db948819b625abfae71d836"
          }
        },
        "699a7da9070141c89382a16abd1b6c06": {
          "model_module": "@jupyter-widgets/controls",
          "model_name": "HTMLModel",
          "state": {
            "_view_name": "HTMLView",
            "style": "IPY_MODEL_34b8a9f7f4c04bfe9dee6c72742c53f5",
            "_dom_classes": [],
            "description": "",
            "_model_name": "HTMLModel",
            "placeholder": "​",
            "_view_module": "@jupyter-widgets/controls",
            "_model_module_version": "1.5.0",
            "value": " 526M/526M [00:17&lt;00:00, 30.8MB/s]",
            "_view_count": null,
            "_view_module_version": "1.5.0",
            "description_tooltip": null,
            "_model_module": "@jupyter-widgets/controls",
            "layout": "IPY_MODEL_0fa22fc79bf34dd9a5906f3e3061fc98"
          }
        },
        "1c6dd4a64aa1407b9c65b6640374e61e": {
          "model_module": "@jupyter-widgets/controls",
          "model_name": "ProgressStyleModel",
          "state": {
            "_view_name": "StyleView",
            "_model_name": "ProgressStyleModel",
            "description_width": "initial",
            "_view_module": "@jupyter-widgets/base",
            "_model_module_version": "1.5.0",
            "_view_count": null,
            "_view_module_version": "1.2.0",
            "bar_color": null,
            "_model_module": "@jupyter-widgets/controls"
          }
        },
        "b887b7116db948819b625abfae71d836": {
          "model_module": "@jupyter-widgets/base",
          "model_name": "LayoutModel",
          "state": {
            "_view_name": "LayoutView",
            "grid_template_rows": null,
            "right": null,
            "justify_content": null,
            "_view_module": "@jupyter-widgets/base",
            "overflow": null,
            "_model_module_version": "1.2.0",
            "_view_count": null,
            "flex_flow": null,
            "width": null,
            "min_width": null,
            "border": null,
            "align_items": null,
            "bottom": null,
            "_model_module": "@jupyter-widgets/base",
            "top": null,
            "grid_column": null,
            "overflow_y": null,
            "overflow_x": null,
            "grid_auto_flow": null,
            "grid_area": null,
            "grid_template_columns": null,
            "flex": null,
            "_model_name": "LayoutModel",
            "justify_items": null,
            "grid_row": null,
            "max_height": null,
            "align_content": null,
            "visibility": null,
            "align_self": null,
            "height": null,
            "min_height": null,
            "padding": null,
            "grid_auto_rows": null,
            "grid_gap": null,
            "max_width": null,
            "order": null,
            "_view_module_version": "1.2.0",
            "grid_template_areas": null,
            "object_position": null,
            "object_fit": null,
            "grid_auto_columns": null,
            "margin": null,
            "display": null,
            "left": null
          }
        },
        "34b8a9f7f4c04bfe9dee6c72742c53f5": {
          "model_module": "@jupyter-widgets/controls",
          "model_name": "DescriptionStyleModel",
          "state": {
            "_view_name": "StyleView",
            "_model_name": "DescriptionStyleModel",
            "description_width": "",
            "_view_module": "@jupyter-widgets/base",
            "_model_module_version": "1.5.0",
            "_view_count": null,
            "_view_module_version": "1.2.0",
            "_model_module": "@jupyter-widgets/controls"
          }
        },
        "0fa22fc79bf34dd9a5906f3e3061fc98": {
          "model_module": "@jupyter-widgets/base",
          "model_name": "LayoutModel",
          "state": {
            "_view_name": "LayoutView",
            "grid_template_rows": null,
            "right": null,
            "justify_content": null,
            "_view_module": "@jupyter-widgets/base",
            "overflow": null,
            "_model_module_version": "1.2.0",
            "_view_count": null,
            "flex_flow": null,
            "width": null,
            "min_width": null,
            "border": null,
            "align_items": null,
            "bottom": null,
            "_model_module": "@jupyter-widgets/base",
            "top": null,
            "grid_column": null,
            "overflow_y": null,
            "overflow_x": null,
            "grid_auto_flow": null,
            "grid_area": null,
            "grid_template_columns": null,
            "flex": null,
            "_model_name": "LayoutModel",
            "justify_items": null,
            "grid_row": null,
            "max_height": null,
            "align_content": null,
            "visibility": null,
            "align_self": null,
            "height": null,
            "min_height": null,
            "padding": null,
            "grid_auto_rows": null,
            "grid_gap": null,
            "max_width": null,
            "order": null,
            "_view_module_version": "1.2.0",
            "grid_template_areas": null,
            "object_position": null,
            "object_fit": null,
            "grid_auto_columns": null,
            "margin": null,
            "display": null,
            "left": null
          }
        },
        "643e4ac9689f4ad49e5ef39086c14046": {
          "model_module": "@jupyter-widgets/controls",
          "model_name": "HBoxModel",
          "state": {
            "_view_name": "HBoxView",
            "_dom_classes": [],
            "_model_name": "HBoxModel",
            "_view_module": "@jupyter-widgets/controls",
            "_model_module_version": "1.5.0",
            "_view_count": null,
            "_view_module_version": "1.5.0",
            "box_style": "",
            "layout": "IPY_MODEL_d6c040e5b68c4049ad1dbdd8ce7d68ec",
            "_model_module": "@jupyter-widgets/controls",
            "children": [
              "IPY_MODEL_293c003c683c487aa7bb79450f2cc23d",
              "IPY_MODEL_f787c3f754f84deeb85d7e2a8ce1d080"
            ]
          }
        },
        "d6c040e5b68c4049ad1dbdd8ce7d68ec": {
          "model_module": "@jupyter-widgets/base",
          "model_name": "LayoutModel",
          "state": {
            "_view_name": "LayoutView",
            "grid_template_rows": null,
            "right": null,
            "justify_content": null,
            "_view_module": "@jupyter-widgets/base",
            "overflow": null,
            "_model_module_version": "1.2.0",
            "_view_count": null,
            "flex_flow": null,
            "width": null,
            "min_width": null,
            "border": null,
            "align_items": null,
            "bottom": null,
            "_model_module": "@jupyter-widgets/base",
            "top": null,
            "grid_column": null,
            "overflow_y": null,
            "overflow_x": null,
            "grid_auto_flow": null,
            "grid_area": null,
            "grid_template_columns": null,
            "flex": null,
            "_model_name": "LayoutModel",
            "justify_items": null,
            "grid_row": null,
            "max_height": null,
            "align_content": null,
            "visibility": null,
            "align_self": null,
            "height": null,
            "min_height": null,
            "padding": null,
            "grid_auto_rows": null,
            "grid_gap": null,
            "max_width": null,
            "order": null,
            "_view_module_version": "1.2.0",
            "grid_template_areas": null,
            "object_position": null,
            "object_fit": null,
            "grid_auto_columns": null,
            "margin": null,
            "display": null,
            "left": null
          }
        },
        "293c003c683c487aa7bb79450f2cc23d": {
          "model_module": "@jupyter-widgets/controls",
          "model_name": "FloatProgressModel",
          "state": {
            "_view_name": "ProgressView",
            "style": "IPY_MODEL_6a69e89ceeb74befbad23c1434fc7a7c",
            "_dom_classes": [],
            "description": "Downloading: 100%",
            "_model_name": "FloatProgressModel",
            "bar_style": "success",
            "max": 560,
            "_view_module": "@jupyter-widgets/controls",
            "_model_module_version": "1.5.0",
            "value": 560,
            "_view_count": null,
            "_view_module_version": "1.5.0",
            "orientation": "horizontal",
            "min": 0,
            "description_tooltip": null,
            "_model_module": "@jupyter-widgets/controls",
            "layout": "IPY_MODEL_a6ac728541e94ba28d5123173f0807de"
          }
        },
        "f787c3f754f84deeb85d7e2a8ce1d080": {
          "model_module": "@jupyter-widgets/controls",
          "model_name": "HTMLModel",
          "state": {
            "_view_name": "HTMLView",
            "style": "IPY_MODEL_702e02c64055443896bb966082a89a4b",
            "_dom_classes": [],
            "description": "",
            "_model_name": "HTMLModel",
            "placeholder": "​",
            "_view_module": "@jupyter-widgets/controls",
            "_model_module_version": "1.5.0",
            "value": " 560/560 [00:00&lt;00:00, 2.30kB/s]",
            "_view_count": null,
            "_view_module_version": "1.5.0",
            "description_tooltip": null,
            "_model_module": "@jupyter-widgets/controls",
            "layout": "IPY_MODEL_ab4fa2fbd404462886aec26ff093fccd"
          }
        },
        "6a69e89ceeb74befbad23c1434fc7a7c": {
          "model_module": "@jupyter-widgets/controls",
          "model_name": "ProgressStyleModel",
          "state": {
            "_view_name": "StyleView",
            "_model_name": "ProgressStyleModel",
            "description_width": "initial",
            "_view_module": "@jupyter-widgets/base",
            "_model_module_version": "1.5.0",
            "_view_count": null,
            "_view_module_version": "1.2.0",
            "bar_color": null,
            "_model_module": "@jupyter-widgets/controls"
          }
        },
        "a6ac728541e94ba28d5123173f0807de": {
          "model_module": "@jupyter-widgets/base",
          "model_name": "LayoutModel",
          "state": {
            "_view_name": "LayoutView",
            "grid_template_rows": null,
            "right": null,
            "justify_content": null,
            "_view_module": "@jupyter-widgets/base",
            "overflow": null,
            "_model_module_version": "1.2.0",
            "_view_count": null,
            "flex_flow": null,
            "width": null,
            "min_width": null,
            "border": null,
            "align_items": null,
            "bottom": null,
            "_model_module": "@jupyter-widgets/base",
            "top": null,
            "grid_column": null,
            "overflow_y": null,
            "overflow_x": null,
            "grid_auto_flow": null,
            "grid_area": null,
            "grid_template_columns": null,
            "flex": null,
            "_model_name": "LayoutModel",
            "justify_items": null,
            "grid_row": null,
            "max_height": null,
            "align_content": null,
            "visibility": null,
            "align_self": null,
            "height": null,
            "min_height": null,
            "padding": null,
            "grid_auto_rows": null,
            "grid_gap": null,
            "max_width": null,
            "order": null,
            "_view_module_version": "1.2.0",
            "grid_template_areas": null,
            "object_position": null,
            "object_fit": null,
            "grid_auto_columns": null,
            "margin": null,
            "display": null,
            "left": null
          }
        },
        "702e02c64055443896bb966082a89a4b": {
          "model_module": "@jupyter-widgets/controls",
          "model_name": "DescriptionStyleModel",
          "state": {
            "_view_name": "StyleView",
            "_model_name": "DescriptionStyleModel",
            "description_width": "",
            "_view_module": "@jupyter-widgets/base",
            "_model_module_version": "1.5.0",
            "_view_count": null,
            "_view_module_version": "1.2.0",
            "_model_module": "@jupyter-widgets/controls"
          }
        },
        "ab4fa2fbd404462886aec26ff093fccd": {
          "model_module": "@jupyter-widgets/base",
          "model_name": "LayoutModel",
          "state": {
            "_view_name": "LayoutView",
            "grid_template_rows": null,
            "right": null,
            "justify_content": null,
            "_view_module": "@jupyter-widgets/base",
            "overflow": null,
            "_model_module_version": "1.2.0",
            "_view_count": null,
            "flex_flow": null,
            "width": null,
            "min_width": null,
            "border": null,
            "align_items": null,
            "bottom": null,
            "_model_module": "@jupyter-widgets/base",
            "top": null,
            "grid_column": null,
            "overflow_y": null,
            "overflow_x": null,
            "grid_auto_flow": null,
            "grid_area": null,
            "grid_template_columns": null,
            "flex": null,
            "_model_name": "LayoutModel",
            "justify_items": null,
            "grid_row": null,
            "max_height": null,
            "align_content": null,
            "visibility": null,
            "align_self": null,
            "height": null,
            "min_height": null,
            "padding": null,
            "grid_auto_rows": null,
            "grid_gap": null,
            "max_width": null,
            "order": null,
            "_view_module_version": "1.2.0",
            "grid_template_areas": null,
            "object_position": null,
            "object_fit": null,
            "grid_auto_columns": null,
            "margin": null,
            "display": null,
            "left": null
          }
        },
        "199c16ac2f494db2aa1e59e7c69807b8": {
          "model_module": "@jupyter-widgets/controls",
          "model_name": "HBoxModel",
          "state": {
            "_view_name": "HBoxView",
            "_dom_classes": [],
            "_model_name": "HBoxModel",
            "_view_module": "@jupyter-widgets/controls",
            "_model_module_version": "1.5.0",
            "_view_count": null,
            "_view_module_version": "1.5.0",
            "box_style": "",
            "layout": "IPY_MODEL_fe3471291ff941b8a9a0e3a24ac349a6",
            "_model_module": "@jupyter-widgets/controls",
            "children": [
              "IPY_MODEL_c72ae74767a840cba437e556e47e8f80",
              "IPY_MODEL_de52aaaeb242429abb68827a2d0c11ee"
            ]
          }
        },
        "fe3471291ff941b8a9a0e3a24ac349a6": {
          "model_module": "@jupyter-widgets/base",
          "model_name": "LayoutModel",
          "state": {
            "_view_name": "LayoutView",
            "grid_template_rows": null,
            "right": null,
            "justify_content": null,
            "_view_module": "@jupyter-widgets/base",
            "overflow": null,
            "_model_module_version": "1.2.0",
            "_view_count": null,
            "flex_flow": null,
            "width": null,
            "min_width": null,
            "border": null,
            "align_items": null,
            "bottom": null,
            "_model_module": "@jupyter-widgets/base",
            "top": null,
            "grid_column": null,
            "overflow_y": null,
            "overflow_x": null,
            "grid_auto_flow": null,
            "grid_area": null,
            "grid_template_columns": null,
            "flex": null,
            "_model_name": "LayoutModel",
            "justify_items": null,
            "grid_row": null,
            "max_height": null,
            "align_content": null,
            "visibility": null,
            "align_self": null,
            "height": null,
            "min_height": null,
            "padding": null,
            "grid_auto_rows": null,
            "grid_gap": null,
            "max_width": null,
            "order": null,
            "_view_module_version": "1.2.0",
            "grid_template_areas": null,
            "object_position": null,
            "object_fit": null,
            "grid_auto_columns": null,
            "margin": null,
            "display": null,
            "left": null
          }
        },
        "c72ae74767a840cba437e556e47e8f80": {
          "model_module": "@jupyter-widgets/controls",
          "model_name": "FloatProgressModel",
          "state": {
            "_view_name": "ProgressView",
            "style": "IPY_MODEL_3706ca25bed940a6a99832af3452c6a9",
            "_dom_classes": [],
            "description": "Downloading: 100%",
            "_model_name": "FloatProgressModel",
            "bar_style": "success",
            "max": 898669,
            "_view_module": "@jupyter-widgets/controls",
            "_model_module_version": "1.5.0",
            "value": 898669,
            "_view_count": null,
            "_view_module_version": "1.5.0",
            "orientation": "horizontal",
            "min": 0,
            "description_tooltip": null,
            "_model_module": "@jupyter-widgets/controls",
            "layout": "IPY_MODEL_c16e539661094d4b91f9ca8cafc09a6f"
          }
        },
        "de52aaaeb242429abb68827a2d0c11ee": {
          "model_module": "@jupyter-widgets/controls",
          "model_name": "HTMLModel",
          "state": {
            "_view_name": "HTMLView",
            "style": "IPY_MODEL_3cb1ed6795cd446b84f05f602371a017",
            "_dom_classes": [],
            "description": "",
            "_model_name": "HTMLModel",
            "placeholder": "​",
            "_view_module": "@jupyter-widgets/controls",
            "_model_module_version": "1.5.0",
            "value": " 899k/899k [00:00&lt;00:00, 1.56MB/s]",
            "_view_count": null,
            "_view_module_version": "1.5.0",
            "description_tooltip": null,
            "_model_module": "@jupyter-widgets/controls",
            "layout": "IPY_MODEL_911b1d1afecd4514a3333c0012f3a05c"
          }
        },
        "3706ca25bed940a6a99832af3452c6a9": {
          "model_module": "@jupyter-widgets/controls",
          "model_name": "ProgressStyleModel",
          "state": {
            "_view_name": "StyleView",
            "_model_name": "ProgressStyleModel",
            "description_width": "initial",
            "_view_module": "@jupyter-widgets/base",
            "_model_module_version": "1.5.0",
            "_view_count": null,
            "_view_module_version": "1.2.0",
            "bar_color": null,
            "_model_module": "@jupyter-widgets/controls"
          }
        },
        "c16e539661094d4b91f9ca8cafc09a6f": {
          "model_module": "@jupyter-widgets/base",
          "model_name": "LayoutModel",
          "state": {
            "_view_name": "LayoutView",
            "grid_template_rows": null,
            "right": null,
            "justify_content": null,
            "_view_module": "@jupyter-widgets/base",
            "overflow": null,
            "_model_module_version": "1.2.0",
            "_view_count": null,
            "flex_flow": null,
            "width": null,
            "min_width": null,
            "border": null,
            "align_items": null,
            "bottom": null,
            "_model_module": "@jupyter-widgets/base",
            "top": null,
            "grid_column": null,
            "overflow_y": null,
            "overflow_x": null,
            "grid_auto_flow": null,
            "grid_area": null,
            "grid_template_columns": null,
            "flex": null,
            "_model_name": "LayoutModel",
            "justify_items": null,
            "grid_row": null,
            "max_height": null,
            "align_content": null,
            "visibility": null,
            "align_self": null,
            "height": null,
            "min_height": null,
            "padding": null,
            "grid_auto_rows": null,
            "grid_gap": null,
            "max_width": null,
            "order": null,
            "_view_module_version": "1.2.0",
            "grid_template_areas": null,
            "object_position": null,
            "object_fit": null,
            "grid_auto_columns": null,
            "margin": null,
            "display": null,
            "left": null
          }
        },
        "3cb1ed6795cd446b84f05f602371a017": {
          "model_module": "@jupyter-widgets/controls",
          "model_name": "DescriptionStyleModel",
          "state": {
            "_view_name": "StyleView",
            "_model_name": "DescriptionStyleModel",
            "description_width": "",
            "_view_module": "@jupyter-widgets/base",
            "_model_module_version": "1.5.0",
            "_view_count": null,
            "_view_module_version": "1.2.0",
            "_model_module": "@jupyter-widgets/controls"
          }
        },
        "911b1d1afecd4514a3333c0012f3a05c": {
          "model_module": "@jupyter-widgets/base",
          "model_name": "LayoutModel",
          "state": {
            "_view_name": "LayoutView",
            "grid_template_rows": null,
            "right": null,
            "justify_content": null,
            "_view_module": "@jupyter-widgets/base",
            "overflow": null,
            "_model_module_version": "1.2.0",
            "_view_count": null,
            "flex_flow": null,
            "width": null,
            "min_width": null,
            "border": null,
            "align_items": null,
            "bottom": null,
            "_model_module": "@jupyter-widgets/base",
            "top": null,
            "grid_column": null,
            "overflow_y": null,
            "overflow_x": null,
            "grid_auto_flow": null,
            "grid_area": null,
            "grid_template_columns": null,
            "flex": null,
            "_model_name": "LayoutModel",
            "justify_items": null,
            "grid_row": null,
            "max_height": null,
            "align_content": null,
            "visibility": null,
            "align_self": null,
            "height": null,
            "min_height": null,
            "padding": null,
            "grid_auto_rows": null,
            "grid_gap": null,
            "max_width": null,
            "order": null,
            "_view_module_version": "1.2.0",
            "grid_template_areas": null,
            "object_position": null,
            "object_fit": null,
            "grid_auto_columns": null,
            "margin": null,
            "display": null,
            "left": null
          }
        },
        "a5763c70df7e482ebd659d1d6eb6c933": {
          "model_module": "@jupyter-widgets/controls",
          "model_name": "HBoxModel",
          "state": {
            "_view_name": "HBoxView",
            "_dom_classes": [],
            "_model_name": "HBoxModel",
            "_view_module": "@jupyter-widgets/controls",
            "_model_module_version": "1.5.0",
            "_view_count": null,
            "_view_module_version": "1.5.0",
            "box_style": "",
            "layout": "IPY_MODEL_fafa57c0074942e9b622c9db1a5dfd6c",
            "_model_module": "@jupyter-widgets/controls",
            "children": [
              "IPY_MODEL_57fd39dd8c8342cb86bec1809e338685",
              "IPY_MODEL_b658c5e1d23b438e8633a9648546d781"
            ]
          }
        },
        "fafa57c0074942e9b622c9db1a5dfd6c": {
          "model_module": "@jupyter-widgets/base",
          "model_name": "LayoutModel",
          "state": {
            "_view_name": "LayoutView",
            "grid_template_rows": null,
            "right": null,
            "justify_content": null,
            "_view_module": "@jupyter-widgets/base",
            "overflow": null,
            "_model_module_version": "1.2.0",
            "_view_count": null,
            "flex_flow": null,
            "width": null,
            "min_width": null,
            "border": null,
            "align_items": null,
            "bottom": null,
            "_model_module": "@jupyter-widgets/base",
            "top": null,
            "grid_column": null,
            "overflow_y": null,
            "overflow_x": null,
            "grid_auto_flow": null,
            "grid_area": null,
            "grid_template_columns": null,
            "flex": null,
            "_model_name": "LayoutModel",
            "justify_items": null,
            "grid_row": null,
            "max_height": null,
            "align_content": null,
            "visibility": null,
            "align_self": null,
            "height": null,
            "min_height": null,
            "padding": null,
            "grid_auto_rows": null,
            "grid_gap": null,
            "max_width": null,
            "order": null,
            "_view_module_version": "1.2.0",
            "grid_template_areas": null,
            "object_position": null,
            "object_fit": null,
            "grid_auto_columns": null,
            "margin": null,
            "display": null,
            "left": null
          }
        },
        "57fd39dd8c8342cb86bec1809e338685": {
          "model_module": "@jupyter-widgets/controls",
          "model_name": "FloatProgressModel",
          "state": {
            "_view_name": "ProgressView",
            "style": "IPY_MODEL_40ea57e05de44cfabfb66d94cfd61ed1",
            "_dom_classes": [],
            "description": "Downloading: 100%",
            "_model_name": "FloatProgressModel",
            "bar_style": "success",
            "max": 456318,
            "_view_module": "@jupyter-widgets/controls",
            "_model_module_version": "1.5.0",
            "value": 456318,
            "_view_count": null,
            "_view_module_version": "1.5.0",
            "orientation": "horizontal",
            "min": 0,
            "description_tooltip": null,
            "_model_module": "@jupyter-widgets/controls",
            "layout": "IPY_MODEL_e1a672138bcd4568a73baad828a0108e"
          }
        },
        "b658c5e1d23b438e8633a9648546d781": {
          "model_module": "@jupyter-widgets/controls",
          "model_name": "HTMLModel",
          "state": {
            "_view_name": "HTMLView",
            "style": "IPY_MODEL_145944780bf1490a94c30d42b432f62c",
            "_dom_classes": [],
            "description": "",
            "_model_name": "HTMLModel",
            "placeholder": "​",
            "_view_module": "@jupyter-widgets/controls",
            "_model_module_version": "1.5.0",
            "value": " 456k/456k [00:00&lt;00:00, 1.26MB/s]",
            "_view_count": null,
            "_view_module_version": "1.5.0",
            "description_tooltip": null,
            "_model_module": "@jupyter-widgets/controls",
            "layout": "IPY_MODEL_1f58e9482f62400d9b9ce510b4590602"
          }
        },
        "40ea57e05de44cfabfb66d94cfd61ed1": {
          "model_module": "@jupyter-widgets/controls",
          "model_name": "ProgressStyleModel",
          "state": {
            "_view_name": "StyleView",
            "_model_name": "ProgressStyleModel",
            "description_width": "initial",
            "_view_module": "@jupyter-widgets/base",
            "_model_module_version": "1.5.0",
            "_view_count": null,
            "_view_module_version": "1.2.0",
            "bar_color": null,
            "_model_module": "@jupyter-widgets/controls"
          }
        },
        "e1a672138bcd4568a73baad828a0108e": {
          "model_module": "@jupyter-widgets/base",
          "model_name": "LayoutModel",
          "state": {
            "_view_name": "LayoutView",
            "grid_template_rows": null,
            "right": null,
            "justify_content": null,
            "_view_module": "@jupyter-widgets/base",
            "overflow": null,
            "_model_module_version": "1.2.0",
            "_view_count": null,
            "flex_flow": null,
            "width": null,
            "min_width": null,
            "border": null,
            "align_items": null,
            "bottom": null,
            "_model_module": "@jupyter-widgets/base",
            "top": null,
            "grid_column": null,
            "overflow_y": null,
            "overflow_x": null,
            "grid_auto_flow": null,
            "grid_area": null,
            "grid_template_columns": null,
            "flex": null,
            "_model_name": "LayoutModel",
            "justify_items": null,
            "grid_row": null,
            "max_height": null,
            "align_content": null,
            "visibility": null,
            "align_self": null,
            "height": null,
            "min_height": null,
            "padding": null,
            "grid_auto_rows": null,
            "grid_gap": null,
            "max_width": null,
            "order": null,
            "_view_module_version": "1.2.0",
            "grid_template_areas": null,
            "object_position": null,
            "object_fit": null,
            "grid_auto_columns": null,
            "margin": null,
            "display": null,
            "left": null
          }
        },
        "145944780bf1490a94c30d42b432f62c": {
          "model_module": "@jupyter-widgets/controls",
          "model_name": "DescriptionStyleModel",
          "state": {
            "_view_name": "StyleView",
            "_model_name": "DescriptionStyleModel",
            "description_width": "",
            "_view_module": "@jupyter-widgets/base",
            "_model_module_version": "1.5.0",
            "_view_count": null,
            "_view_module_version": "1.2.0",
            "_model_module": "@jupyter-widgets/controls"
          }
        },
        "1f58e9482f62400d9b9ce510b4590602": {
          "model_module": "@jupyter-widgets/base",
          "model_name": "LayoutModel",
          "state": {
            "_view_name": "LayoutView",
            "grid_template_rows": null,
            "right": null,
            "justify_content": null,
            "_view_module": "@jupyter-widgets/base",
            "overflow": null,
            "_model_module_version": "1.2.0",
            "_view_count": null,
            "flex_flow": null,
            "width": null,
            "min_width": null,
            "border": null,
            "align_items": null,
            "bottom": null,
            "_model_module": "@jupyter-widgets/base",
            "top": null,
            "grid_column": null,
            "overflow_y": null,
            "overflow_x": null,
            "grid_auto_flow": null,
            "grid_area": null,
            "grid_template_columns": null,
            "flex": null,
            "_model_name": "LayoutModel",
            "justify_items": null,
            "grid_row": null,
            "max_height": null,
            "align_content": null,
            "visibility": null,
            "align_self": null,
            "height": null,
            "min_height": null,
            "padding": null,
            "grid_auto_rows": null,
            "grid_gap": null,
            "max_width": null,
            "order": null,
            "_view_module_version": "1.2.0",
            "grid_template_areas": null,
            "object_position": null,
            "object_fit": null,
            "grid_auto_columns": null,
            "margin": null,
            "display": null,
            "left": null
          }
        },
        "bb952ba775994b7e99082b0cff8d9878": {
          "model_module": "@jupyter-widgets/controls",
          "model_name": "HBoxModel",
          "state": {
            "_view_name": "HBoxView",
            "_dom_classes": [],
            "_model_name": "HBoxModel",
            "_view_module": "@jupyter-widgets/controls",
            "_model_module_version": "1.5.0",
            "_view_count": null,
            "_view_module_version": "1.5.0",
            "box_style": "",
            "layout": "IPY_MODEL_f7da67d2282547f28d02f2d87ec15386",
            "_model_module": "@jupyter-widgets/controls",
            "children": [
              "IPY_MODEL_9ef1259723254e92a958c4576056d96f",
              "IPY_MODEL_3e6f9cb01f534143a06e4b2883f687a4"
            ]
          }
        },
        "f7da67d2282547f28d02f2d87ec15386": {
          "model_module": "@jupyter-widgets/base",
          "model_name": "LayoutModel",
          "state": {
            "_view_name": "LayoutView",
            "grid_template_rows": null,
            "right": null,
            "justify_content": null,
            "_view_module": "@jupyter-widgets/base",
            "overflow": null,
            "_model_module_version": "1.2.0",
            "_view_count": null,
            "flex_flow": null,
            "width": null,
            "min_width": null,
            "border": null,
            "align_items": null,
            "bottom": null,
            "_model_module": "@jupyter-widgets/base",
            "top": null,
            "grid_column": null,
            "overflow_y": null,
            "overflow_x": null,
            "grid_auto_flow": null,
            "grid_area": null,
            "grid_template_columns": null,
            "flex": null,
            "_model_name": "LayoutModel",
            "justify_items": null,
            "grid_row": null,
            "max_height": null,
            "align_content": null,
            "visibility": null,
            "align_self": null,
            "height": null,
            "min_height": null,
            "padding": null,
            "grid_auto_rows": null,
            "grid_gap": null,
            "max_width": null,
            "order": null,
            "_view_module_version": "1.2.0",
            "grid_template_areas": null,
            "object_position": null,
            "object_fit": null,
            "grid_auto_columns": null,
            "margin": null,
            "display": null,
            "left": null
          }
        },
        "9ef1259723254e92a958c4576056d96f": {
          "model_module": "@jupyter-widgets/controls",
          "model_name": "FloatProgressModel",
          "state": {
            "_view_name": "ProgressView",
            "style": "IPY_MODEL_33e678f6c19f416c96df5f116525c40c",
            "_dom_classes": [],
            "description": "Downloading: 100%",
            "_model_name": "FloatProgressModel",
            "bar_style": "success",
            "max": 357,
            "_view_module": "@jupyter-widgets/controls",
            "_model_module_version": "1.5.0",
            "value": 357,
            "_view_count": null,
            "_view_module_version": "1.5.0",
            "orientation": "horizontal",
            "min": 0,
            "description_tooltip": null,
            "_model_module": "@jupyter-widgets/controls",
            "layout": "IPY_MODEL_ae7daedbbdf5429597e6163ee719f384"
          }
        },
        "3e6f9cb01f534143a06e4b2883f687a4": {
          "model_module": "@jupyter-widgets/controls",
          "model_name": "HTMLModel",
          "state": {
            "_view_name": "HTMLView",
            "style": "IPY_MODEL_2cbc52d1f5f14a44abacb68243ee7790",
            "_dom_classes": [],
            "description": "",
            "_model_name": "HTMLModel",
            "placeholder": "​",
            "_view_module": "@jupyter-widgets/controls",
            "_model_module_version": "1.5.0",
            "value": " 357/357 [00:00&lt;00:00, 2.26kB/s]",
            "_view_count": null,
            "_view_module_version": "1.5.0",
            "description_tooltip": null,
            "_model_module": "@jupyter-widgets/controls",
            "layout": "IPY_MODEL_b9fc205a63f74abeba299882aff9f179"
          }
        },
        "33e678f6c19f416c96df5f116525c40c": {
          "model_module": "@jupyter-widgets/controls",
          "model_name": "ProgressStyleModel",
          "state": {
            "_view_name": "StyleView",
            "_model_name": "ProgressStyleModel",
            "description_width": "initial",
            "_view_module": "@jupyter-widgets/base",
            "_model_module_version": "1.5.0",
            "_view_count": null,
            "_view_module_version": "1.2.0",
            "bar_color": null,
            "_model_module": "@jupyter-widgets/controls"
          }
        },
        "ae7daedbbdf5429597e6163ee719f384": {
          "model_module": "@jupyter-widgets/base",
          "model_name": "LayoutModel",
          "state": {
            "_view_name": "LayoutView",
            "grid_template_rows": null,
            "right": null,
            "justify_content": null,
            "_view_module": "@jupyter-widgets/base",
            "overflow": null,
            "_model_module_version": "1.2.0",
            "_view_count": null,
            "flex_flow": null,
            "width": null,
            "min_width": null,
            "border": null,
            "align_items": null,
            "bottom": null,
            "_model_module": "@jupyter-widgets/base",
            "top": null,
            "grid_column": null,
            "overflow_y": null,
            "overflow_x": null,
            "grid_auto_flow": null,
            "grid_area": null,
            "grid_template_columns": null,
            "flex": null,
            "_model_name": "LayoutModel",
            "justify_items": null,
            "grid_row": null,
            "max_height": null,
            "align_content": null,
            "visibility": null,
            "align_self": null,
            "height": null,
            "min_height": null,
            "padding": null,
            "grid_auto_rows": null,
            "grid_gap": null,
            "max_width": null,
            "order": null,
            "_view_module_version": "1.2.0",
            "grid_template_areas": null,
            "object_position": null,
            "object_fit": null,
            "grid_auto_columns": null,
            "margin": null,
            "display": null,
            "left": null
          }
        },
        "2cbc52d1f5f14a44abacb68243ee7790": {
          "model_module": "@jupyter-widgets/controls",
          "model_name": "DescriptionStyleModel",
          "state": {
            "_view_name": "StyleView",
            "_model_name": "DescriptionStyleModel",
            "description_width": "",
            "_view_module": "@jupyter-widgets/base",
            "_model_module_version": "1.5.0",
            "_view_count": null,
            "_view_module_version": "1.2.0",
            "_model_module": "@jupyter-widgets/controls"
          }
        },
        "b9fc205a63f74abeba299882aff9f179": {
          "model_module": "@jupyter-widgets/base",
          "model_name": "LayoutModel",
          "state": {
            "_view_name": "LayoutView",
            "grid_template_rows": null,
            "right": null,
            "justify_content": null,
            "_view_module": "@jupyter-widgets/base",
            "overflow": null,
            "_model_module_version": "1.2.0",
            "_view_count": null,
            "flex_flow": null,
            "width": null,
            "min_width": null,
            "border": null,
            "align_items": null,
            "bottom": null,
            "_model_module": "@jupyter-widgets/base",
            "top": null,
            "grid_column": null,
            "overflow_y": null,
            "overflow_x": null,
            "grid_auto_flow": null,
            "grid_area": null,
            "grid_template_columns": null,
            "flex": null,
            "_model_name": "LayoutModel",
            "justify_items": null,
            "grid_row": null,
            "max_height": null,
            "align_content": null,
            "visibility": null,
            "align_self": null,
            "height": null,
            "min_height": null,
            "padding": null,
            "grid_auto_rows": null,
            "grid_gap": null,
            "max_width": null,
            "order": null,
            "_view_module_version": "1.2.0",
            "grid_template_areas": null,
            "object_position": null,
            "object_fit": null,
            "grid_auto_columns": null,
            "margin": null,
            "display": null,
            "left": null
          }
        }
      }
    }
  },
  "cells": [
    {
      "cell_type": "markdown",
      "metadata": {
        "id": "Y6nLFs_NP70O"
      },
      "source": [
        "[Reference](https://medium.com/pythoneers/use-ai-to-generate-text-with-3-lines-of-python-code-190aa30f3ac4)"
      ]
    },
    {
      "cell_type": "code",
      "metadata": {
        "colab": {
          "base_uri": "https://localhost:8080/"
        },
        "id": "jEW51rnAQJsY",
        "outputId": "e161e040-5ff7-4464-c545-b1d2cc4427db"
      },
      "source": [
        "!pip3 install torch torchvision torchaudio"
      ],
      "execution_count": 3,
      "outputs": [
        {
          "output_type": "stream",
          "text": [
            "Requirement already satisfied: torch in /usr/local/lib/python3.7/dist-packages (1.9.0+cu102)\n",
            "Requirement already satisfied: torchvision in /usr/local/lib/python3.7/dist-packages (0.10.0+cu102)\n",
            "Collecting torchaudio\n",
            "\u001b[?25l  Downloading https://files.pythonhosted.org/packages/a8/20/eab40caad8f4b97f5e91a5de8ba5ec29115e08fa4c9a808725490b7b4844/torchaudio-0.9.0-cp37-cp37m-manylinux1_x86_64.whl (1.9MB)\n",
            "\u001b[K     |████████████████████████████████| 1.9MB 24.8MB/s \n",
            "\u001b[?25hRequirement already satisfied: typing-extensions in /usr/local/lib/python3.7/dist-packages (from torch) (3.7.4.3)\n",
            "Requirement already satisfied: pillow>=5.3.0 in /usr/local/lib/python3.7/dist-packages (from torchvision) (7.1.2)\n",
            "Requirement already satisfied: numpy in /usr/local/lib/python3.7/dist-packages (from torchvision) (1.19.5)\n",
            "Installing collected packages: torchaudio\n",
            "Successfully installed torchaudio-0.9.0\n"
          ],
          "name": "stdout"
        }
      ]
    },
    {
      "cell_type": "code",
      "metadata": {
        "colab": {
          "base_uri": "https://localhost:8080/"
        },
        "id": "alIgaduPQNMV",
        "outputId": "7016d6b4-06ac-40c6-c321-df645cf8a068"
      },
      "source": [
        "pip install transformers"
      ],
      "execution_count": 4,
      "outputs": [
        {
          "output_type": "stream",
          "text": [
            "Collecting transformers\n",
            "\u001b[?25l  Downloading https://files.pythonhosted.org/packages/b5/d5/c6c23ad75491467a9a84e526ef2364e523d45e2b0fae28a7cbe8689e7e84/transformers-4.8.1-py3-none-any.whl (2.5MB)\n",
            "\r\u001b[K     |▏                               | 10kB 10.6MB/s eta 0:00:01\r\u001b[K     |▎                               | 20kB 15.6MB/s eta 0:00:01\r\u001b[K     |▍                               | 30kB 20.2MB/s eta 0:00:01\r\u001b[K     |▌                               | 40kB 23.5MB/s eta 0:00:01\r\u001b[K     |▋                               | 51kB 25.5MB/s eta 0:00:01\r\u001b[K     |▉                               | 61kB 27.7MB/s eta 0:00:01\r\u001b[K     |█                               | 71kB 29.2MB/s eta 0:00:01\r\u001b[K     |█                               | 81kB 30.6MB/s eta 0:00:01\r\u001b[K     |█▏                              | 92kB 29.8MB/s eta 0:00:01\r\u001b[K     |█▎                              | 102kB 30.5MB/s eta 0:00:01\r\u001b[K     |█▌                              | 112kB 30.5MB/s eta 0:00:01\r\u001b[K     |█▋                              | 122kB 30.5MB/s eta 0:00:01\r\u001b[K     |█▊                              | 133kB 30.5MB/s eta 0:00:01\r\u001b[K     |█▉                              | 143kB 30.5MB/s eta 0:00:01\r\u001b[K     |██                              | 153kB 30.5MB/s eta 0:00:01\r\u001b[K     |██                              | 163kB 30.5MB/s eta 0:00:01\r\u001b[K     |██▎                             | 174kB 30.5MB/s eta 0:00:01\r\u001b[K     |██▍                             | 184kB 30.5MB/s eta 0:00:01\r\u001b[K     |██▌                             | 194kB 30.5MB/s eta 0:00:01\r\u001b[K     |██▋                             | 204kB 30.5MB/s eta 0:00:01\r\u001b[K     |██▊                             | 215kB 30.5MB/s eta 0:00:01\r\u001b[K     |███                             | 225kB 30.5MB/s eta 0:00:01\r\u001b[K     |███                             | 235kB 30.5MB/s eta 0:00:01\r\u001b[K     |███▏                            | 245kB 30.5MB/s eta 0:00:01\r\u001b[K     |███▎                            | 256kB 30.5MB/s eta 0:00:01\r\u001b[K     |███▍                            | 266kB 30.5MB/s eta 0:00:01\r\u001b[K     |███▌                            | 276kB 30.5MB/s eta 0:00:01\r\u001b[K     |███▊                            | 286kB 30.5MB/s eta 0:00:01\r\u001b[K     |███▉                            | 296kB 30.5MB/s eta 0:00:01\r\u001b[K     |████                            | 307kB 30.5MB/s eta 0:00:01\r\u001b[K     |████                            | 317kB 30.5MB/s eta 0:00:01\r\u001b[K     |████▏                           | 327kB 30.5MB/s eta 0:00:01\r\u001b[K     |████▍                           | 337kB 30.5MB/s eta 0:00:01\r\u001b[K     |████▌                           | 348kB 30.5MB/s eta 0:00:01\r\u001b[K     |████▋                           | 358kB 30.5MB/s eta 0:00:01\r\u001b[K     |████▊                           | 368kB 30.5MB/s eta 0:00:01\r\u001b[K     |████▉                           | 378kB 30.5MB/s eta 0:00:01\r\u001b[K     |█████                           | 389kB 30.5MB/s eta 0:00:01\r\u001b[K     |█████▏                          | 399kB 30.5MB/s eta 0:00:01\r\u001b[K     |█████▎                          | 409kB 30.5MB/s eta 0:00:01\r\u001b[K     |█████▍                          | 419kB 30.5MB/s eta 0:00:01\r\u001b[K     |█████▌                          | 430kB 30.5MB/s eta 0:00:01\r\u001b[K     |█████▋                          | 440kB 30.5MB/s eta 0:00:01\r\u001b[K     |█████▉                          | 450kB 30.5MB/s eta 0:00:01\r\u001b[K     |██████                          | 460kB 30.5MB/s eta 0:00:01\r\u001b[K     |██████                          | 471kB 30.5MB/s eta 0:00:01\r\u001b[K     |██████▏                         | 481kB 30.5MB/s eta 0:00:01\r\u001b[K     |██████▎                         | 491kB 30.5MB/s eta 0:00:01\r\u001b[K     |██████▍                         | 501kB 30.5MB/s eta 0:00:01\r\u001b[K     |██████▋                         | 512kB 30.5MB/s eta 0:00:01\r\u001b[K     |██████▊                         | 522kB 30.5MB/s eta 0:00:01\r\u001b[K     |██████▉                         | 532kB 30.5MB/s eta 0:00:01\r\u001b[K     |███████                         | 542kB 30.5MB/s eta 0:00:01\r\u001b[K     |███████                         | 552kB 30.5MB/s eta 0:00:01\r\u001b[K     |███████▎                        | 563kB 30.5MB/s eta 0:00:01\r\u001b[K     |███████▍                        | 573kB 30.5MB/s eta 0:00:01\r\u001b[K     |███████▌                        | 583kB 30.5MB/s eta 0:00:01\r\u001b[K     |███████▋                        | 593kB 30.5MB/s eta 0:00:01\r\u001b[K     |███████▊                        | 604kB 30.5MB/s eta 0:00:01\r\u001b[K     |███████▉                        | 614kB 30.5MB/s eta 0:00:01\r\u001b[K     |████████                        | 624kB 30.5MB/s eta 0:00:01\r\u001b[K     |████████▏                       | 634kB 30.5MB/s eta 0:00:01\r\u001b[K     |████████▎                       | 645kB 30.5MB/s eta 0:00:01\r\u001b[K     |████████▍                       | 655kB 30.5MB/s eta 0:00:01\r\u001b[K     |████████▌                       | 665kB 30.5MB/s eta 0:00:01\r\u001b[K     |████████▊                       | 675kB 30.5MB/s eta 0:00:01\r\u001b[K     |████████▉                       | 686kB 30.5MB/s eta 0:00:01\r\u001b[K     |█████████                       | 696kB 30.5MB/s eta 0:00:01\r\u001b[K     |█████████                       | 706kB 30.5MB/s eta 0:00:01\r\u001b[K     |█████████▏                      | 716kB 30.5MB/s eta 0:00:01\r\u001b[K     |█████████▎                      | 727kB 30.5MB/s eta 0:00:01\r\u001b[K     |█████████▌                      | 737kB 30.5MB/s eta 0:00:01\r\u001b[K     |█████████▋                      | 747kB 30.5MB/s eta 0:00:01\r\u001b[K     |█████████▊                      | 757kB 30.5MB/s eta 0:00:01\r\u001b[K     |█████████▉                      | 768kB 30.5MB/s eta 0:00:01\r\u001b[K     |██████████                      | 778kB 30.5MB/s eta 0:00:01\r\u001b[K     |██████████▏                     | 788kB 30.5MB/s eta 0:00:01\r\u001b[K     |██████████▎                     | 798kB 30.5MB/s eta 0:00:01\r\u001b[K     |██████████▍                     | 808kB 30.5MB/s eta 0:00:01\r\u001b[K     |██████████▌                     | 819kB 30.5MB/s eta 0:00:01\r\u001b[K     |██████████▋                     | 829kB 30.5MB/s eta 0:00:01\r\u001b[K     |██████████▊                     | 839kB 30.5MB/s eta 0:00:01\r\u001b[K     |███████████                     | 849kB 30.5MB/s eta 0:00:01\r\u001b[K     |███████████                     | 860kB 30.5MB/s eta 0:00:01\r\u001b[K     |███████████▏                    | 870kB 30.5MB/s eta 0:00:01\r\u001b[K     |███████████▎                    | 880kB 30.5MB/s eta 0:00:01\r\u001b[K     |███████████▍                    | 890kB 30.5MB/s eta 0:00:01\r\u001b[K     |███████████▋                    | 901kB 30.5MB/s eta 0:00:01\r\u001b[K     |███████████▊                    | 911kB 30.5MB/s eta 0:00:01\r\u001b[K     |███████████▉                    | 921kB 30.5MB/s eta 0:00:01\r\u001b[K     |████████████                    | 931kB 30.5MB/s eta 0:00:01\r\u001b[K     |████████████                    | 942kB 30.5MB/s eta 0:00:01\r\u001b[K     |████████████▏                   | 952kB 30.5MB/s eta 0:00:01\r\u001b[K     |████████████▍                   | 962kB 30.5MB/s eta 0:00:01\r\u001b[K     |████████████▌                   | 972kB 30.5MB/s eta 0:00:01\r\u001b[K     |████████████▋                   | 983kB 30.5MB/s eta 0:00:01\r\u001b[K     |████████████▊                   | 993kB 30.5MB/s eta 0:00:01\r\u001b[K     |████████████▉                   | 1.0MB 30.5MB/s eta 0:00:01\r\u001b[K     |█████████████                   | 1.0MB 30.5MB/s eta 0:00:01\r\u001b[K     |█████████████▏                  | 1.0MB 30.5MB/s eta 0:00:01\r\u001b[K     |█████████████▎                  | 1.0MB 30.5MB/s eta 0:00:01\r\u001b[K     |█████████████▍                  | 1.0MB 30.5MB/s eta 0:00:01\r\u001b[K     |█████████████▌                  | 1.1MB 30.5MB/s eta 0:00:01\r\u001b[K     |█████████████▋                  | 1.1MB 30.5MB/s eta 0:00:01\r\u001b[K     |█████████████▉                  | 1.1MB 30.5MB/s eta 0:00:01\r\u001b[K     |██████████████                  | 1.1MB 30.5MB/s eta 0:00:01\r\u001b[K     |██████████████                  | 1.1MB 30.5MB/s eta 0:00:01\r\u001b[K     |██████████████▏                 | 1.1MB 30.5MB/s eta 0:00:01\r\u001b[K     |██████████████▎                 | 1.1MB 30.5MB/s eta 0:00:01\r\u001b[K     |██████████████▌                 | 1.1MB 30.5MB/s eta 0:00:01\r\u001b[K     |██████████████▋                 | 1.1MB 30.5MB/s eta 0:00:01\r\u001b[K     |██████████████▊                 | 1.1MB 30.5MB/s eta 0:00:01\r\u001b[K     |██████████████▉                 | 1.2MB 30.5MB/s eta 0:00:01\r\u001b[K     |███████████████                 | 1.2MB 30.5MB/s eta 0:00:01\r\u001b[K     |███████████████                 | 1.2MB 30.5MB/s eta 0:00:01\r\u001b[K     |███████████████▎                | 1.2MB 30.5MB/s eta 0:00:01\r\u001b[K     |███████████████▍                | 1.2MB 30.5MB/s eta 0:00:01\r\u001b[K     |███████████████▌                | 1.2MB 30.5MB/s eta 0:00:01\r\u001b[K     |███████████████▋                | 1.2MB 30.5MB/s eta 0:00:01\r\u001b[K     |███████████████▊                | 1.2MB 30.5MB/s eta 0:00:01\r\u001b[K     |████████████████                | 1.2MB 30.5MB/s eta 0:00:01\r\u001b[K     |████████████████                | 1.2MB 30.5MB/s eta 0:00:01\r\u001b[K     |████████████████▏               | 1.3MB 30.5MB/s eta 0:00:01\r\u001b[K     |████████████████▎               | 1.3MB 30.5MB/s eta 0:00:01\r\u001b[K     |████████████████▍               | 1.3MB 30.5MB/s eta 0:00:01\r\u001b[K     |████████████████▌               | 1.3MB 30.5MB/s eta 0:00:01\r\u001b[K     |████████████████▊               | 1.3MB 30.5MB/s eta 0:00:01\r\u001b[K     |████████████████▉               | 1.3MB 30.5MB/s eta 0:00:01\r\u001b[K     |█████████████████               | 1.3MB 30.5MB/s eta 0:00:01\r\u001b[K     |█████████████████               | 1.3MB 30.5MB/s eta 0:00:01\r\u001b[K     |█████████████████▏              | 1.3MB 30.5MB/s eta 0:00:01\r\u001b[K     |█████████████████▍              | 1.4MB 30.5MB/s eta 0:00:01\r\u001b[K     |█████████████████▌              | 1.4MB 30.5MB/s eta 0:00:01\r\u001b[K     |█████████████████▋              | 1.4MB 30.5MB/s eta 0:00:01\r\u001b[K     |█████████████████▊              | 1.4MB 30.5MB/s eta 0:00:01\r\u001b[K     |█████████████████▉              | 1.4MB 30.5MB/s eta 0:00:01\r\u001b[K     |██████████████████              | 1.4MB 30.5MB/s eta 0:00:01\r\u001b[K     |██████████████████▏             | 1.4MB 30.5MB/s eta 0:00:01\r\u001b[K     |██████████████████▎             | 1.4MB 30.5MB/s eta 0:00:01\r\u001b[K     |██████████████████▍             | 1.4MB 30.5MB/s eta 0:00:01\r\u001b[K     |██████████████████▌             | 1.4MB 30.5MB/s eta 0:00:01\r\u001b[K     |██████████████████▋             | 1.5MB 30.5MB/s eta 0:00:01\r\u001b[K     |██████████████████▉             | 1.5MB 30.5MB/s eta 0:00:01\r\u001b[K     |███████████████████             | 1.5MB 30.5MB/s eta 0:00:01\r\u001b[K     |███████████████████             | 1.5MB 30.5MB/s eta 0:00:01\r\u001b[K     |███████████████████▏            | 1.5MB 30.5MB/s eta 0:00:01\r\u001b[K     |███████████████████▎            | 1.5MB 30.5MB/s eta 0:00:01\r\u001b[K     |███████████████████▍            | 1.5MB 30.5MB/s eta 0:00:01\r\u001b[K     |███████████████████▋            | 1.5MB 30.5MB/s eta 0:00:01\r\u001b[K     |███████████████████▊            | 1.5MB 30.5MB/s eta 0:00:01\r\u001b[K     |███████████████████▉            | 1.5MB 30.5MB/s eta 0:00:01\r\u001b[K     |████████████████████            | 1.6MB 30.5MB/s eta 0:00:01\r\u001b[K     |████████████████████            | 1.6MB 30.5MB/s eta 0:00:01\r\u001b[K     |████████████████████▎           | 1.6MB 30.5MB/s eta 0:00:01\r\u001b[K     |████████████████████▍           | 1.6MB 30.5MB/s eta 0:00:01\r\u001b[K     |████████████████████▌           | 1.6MB 30.5MB/s eta 0:00:01\r\u001b[K     |████████████████████▋           | 1.6MB 30.5MB/s eta 0:00:01\r\u001b[K     |████████████████████▊           | 1.6MB 30.5MB/s eta 0:00:01\r\u001b[K     |████████████████████▉           | 1.6MB 30.5MB/s eta 0:00:01\r\u001b[K     |█████████████████████           | 1.6MB 30.5MB/s eta 0:00:01\r\u001b[K     |█████████████████████▏          | 1.6MB 30.5MB/s eta 0:00:01\r\u001b[K     |█████████████████████▎          | 1.7MB 30.5MB/s eta 0:00:01\r\u001b[K     |█████████████████████▍          | 1.7MB 30.5MB/s eta 0:00:01\r\u001b[K     |█████████████████████▌          | 1.7MB 30.5MB/s eta 0:00:01\r\u001b[K     |█████████████████████▊          | 1.7MB 30.5MB/s eta 0:00:01\r\u001b[K     |█████████████████████▉          | 1.7MB 30.5MB/s eta 0:00:01\r\u001b[K     |██████████████████████          | 1.7MB 30.5MB/s eta 0:00:01\r\u001b[K     |██████████████████████          | 1.7MB 30.5MB/s eta 0:00:01\r\u001b[K     |██████████████████████▏         | 1.7MB 30.5MB/s eta 0:00:01\r\u001b[K     |██████████████████████▎         | 1.7MB 30.5MB/s eta 0:00:01\r\u001b[K     |██████████████████████▌         | 1.8MB 30.5MB/s eta 0:00:01\r\u001b[K     |██████████████████████▋         | 1.8MB 30.5MB/s eta 0:00:01\r\u001b[K     |██████████████████████▊         | 1.8MB 30.5MB/s eta 0:00:01\r\u001b[K     |██████████████████████▉         | 1.8MB 30.5MB/s eta 0:00:01\r\u001b[K     |███████████████████████         | 1.8MB 30.5MB/s eta 0:00:01\r\u001b[K     |███████████████████████▏        | 1.8MB 30.5MB/s eta 0:00:01\r\u001b[K     |███████████████████████▎        | 1.8MB 30.5MB/s eta 0:00:01\r\u001b[K     |███████████████████████▍        | 1.8MB 30.5MB/s eta 0:00:01\r\u001b[K     |███████████████████████▌        | 1.8MB 30.5MB/s eta 0:00:01\r\u001b[K     |███████████████████████▋        | 1.8MB 30.5MB/s eta 0:00:01\r\u001b[K     |███████████████████████▊        | 1.9MB 30.5MB/s eta 0:00:01\r\u001b[K     |████████████████████████        | 1.9MB 30.5MB/s eta 0:00:01\r\u001b[K     |████████████████████████        | 1.9MB 30.5MB/s eta 0:00:01\r\u001b[K     |████████████████████████▏       | 1.9MB 30.5MB/s eta 0:00:01\r\u001b[K     |████████████████████████▎       | 1.9MB 30.5MB/s eta 0:00:01\r\u001b[K     |████████████████████████▍       | 1.9MB 30.5MB/s eta 0:00:01\r\u001b[K     |████████████████████████▋       | 1.9MB 30.5MB/s eta 0:00:01\r\u001b[K     |████████████████████████▊       | 1.9MB 30.5MB/s eta 0:00:01\r\u001b[K     |████████████████████████▉       | 1.9MB 30.5MB/s eta 0:00:01\r\u001b[K     |█████████████████████████       | 1.9MB 30.5MB/s eta 0:00:01\r\u001b[K     |█████████████████████████       | 2.0MB 30.5MB/s eta 0:00:01\r\u001b[K     |█████████████████████████▏      | 2.0MB 30.5MB/s eta 0:00:01\r\u001b[K     |█████████████████████████▍      | 2.0MB 30.5MB/s eta 0:00:01\r\u001b[K     |█████████████████████████▌      | 2.0MB 30.5MB/s eta 0:00:01\r\u001b[K     |█████████████████████████▋      | 2.0MB 30.5MB/s eta 0:00:01\r\u001b[K     |█████████████████████████▊      | 2.0MB 30.5MB/s eta 0:00:01\r\u001b[K     |█████████████████████████▉      | 2.0MB 30.5MB/s eta 0:00:01\r\u001b[K     |██████████████████████████      | 2.0MB 30.5MB/s eta 0:00:01\r\u001b[K     |██████████████████████████▏     | 2.0MB 30.5MB/s eta 0:00:01\r\u001b[K     |██████████████████████████▎     | 2.0MB 30.5MB/s eta 0:00:01\r\u001b[K     |██████████████████████████▍     | 2.1MB 30.5MB/s eta 0:00:01\r\u001b[K     |██████████████████████████▌     | 2.1MB 30.5MB/s eta 0:00:01\r\u001b[K     |██████████████████████████▋     | 2.1MB 30.5MB/s eta 0:00:01\r\u001b[K     |██████████████████████████▉     | 2.1MB 30.5MB/s eta 0:00:01\r\u001b[K     |███████████████████████████     | 2.1MB 30.5MB/s eta 0:00:01\r\u001b[K     |███████████████████████████     | 2.1MB 30.5MB/s eta 0:00:01\r\u001b[K     |███████████████████████████▏    | 2.1MB 30.5MB/s eta 0:00:01\r\u001b[K     |███████████████████████████▎    | 2.1MB 30.5MB/s eta 0:00:01\r\u001b[K     |███████████████████████████▌    | 2.1MB 30.5MB/s eta 0:00:01\r\u001b[K     |███████████████████████████▋    | 2.2MB 30.5MB/s eta 0:00:01\r\u001b[K     |███████████████████████████▊    | 2.2MB 30.5MB/s eta 0:00:01\r\u001b[K     |███████████████████████████▉    | 2.2MB 30.5MB/s eta 0:00:01\r\u001b[K     |████████████████████████████    | 2.2MB 30.5MB/s eta 0:00:01\r\u001b[K     |████████████████████████████    | 2.2MB 30.5MB/s eta 0:00:01\r\u001b[K     |████████████████████████████▎   | 2.2MB 30.5MB/s eta 0:00:01\r\u001b[K     |████████████████████████████▍   | 2.2MB 30.5MB/s eta 0:00:01\r\u001b[K     |████████████████████████████▌   | 2.2MB 30.5MB/s eta 0:00:01\r\u001b[K     |████████████████████████████▋   | 2.2MB 30.5MB/s eta 0:00:01\r\u001b[K     |████████████████████████████▊   | 2.2MB 30.5MB/s eta 0:00:01\r\u001b[K     |█████████████████████████████   | 2.3MB 30.5MB/s eta 0:00:01\r\u001b[K     |█████████████████████████████   | 2.3MB 30.5MB/s eta 0:00:01\r\u001b[K     |█████████████████████████████▏  | 2.3MB 30.5MB/s eta 0:00:01\r\u001b[K     |█████████████████████████████▎  | 2.3MB 30.5MB/s eta 0:00:01\r\u001b[K     |█████████████████████████████▍  | 2.3MB 30.5MB/s eta 0:00:01\r\u001b[K     |█████████████████████████████▌  | 2.3MB 30.5MB/s eta 0:00:01\r\u001b[K     |█████████████████████████████▊  | 2.3MB 30.5MB/s eta 0:00:01\r\u001b[K     |█████████████████████████████▉  | 2.3MB 30.5MB/s eta 0:00:01\r\u001b[K     |██████████████████████████████  | 2.3MB 30.5MB/s eta 0:00:01\r\u001b[K     |██████████████████████████████  | 2.3MB 30.5MB/s eta 0:00:01\r\u001b[K     |██████████████████████████████▏ | 2.4MB 30.5MB/s eta 0:00:01\r\u001b[K     |██████████████████████████████▍ | 2.4MB 30.5MB/s eta 0:00:01\r\u001b[K     |██████████████████████████████▌ | 2.4MB 30.5MB/s eta 0:00:01\r\u001b[K     |██████████████████████████████▋ | 2.4MB 30.5MB/s eta 0:00:01\r\u001b[K     |██████████████████████████████▊ | 2.4MB 30.5MB/s eta 0:00:01\r\u001b[K     |██████████████████████████████▉ | 2.4MB 30.5MB/s eta 0:00:01\r\u001b[K     |███████████████████████████████ | 2.4MB 30.5MB/s eta 0:00:01\r\u001b[K     |███████████████████████████████▏| 2.4MB 30.5MB/s eta 0:00:01\r\u001b[K     |███████████████████████████████▎| 2.4MB 30.5MB/s eta 0:00:01\r\u001b[K     |███████████████████████████████▍| 2.4MB 30.5MB/s eta 0:00:01\r\u001b[K     |███████████████████████████████▌| 2.5MB 30.5MB/s eta 0:00:01\r\u001b[K     |███████████████████████████████▋| 2.5MB 30.5MB/s eta 0:00:01\r\u001b[K     |███████████████████████████████▉| 2.5MB 30.5MB/s eta 0:00:01\r\u001b[K     |████████████████████████████████| 2.5MB 30.5MB/s eta 0:00:01\r\u001b[K     |████████████████████████████████| 2.5MB 30.5MB/s \n",
            "\u001b[?25hRequirement already satisfied: numpy>=1.17 in /usr/local/lib/python3.7/dist-packages (from transformers) (1.19.5)\n",
            "Collecting huggingface-hub==0.0.12\n",
            "  Downloading https://files.pythonhosted.org/packages/2f/ee/97e253668fda9b17e968b3f97b2f8e53aa0127e8807d24a547687423fe0b/huggingface_hub-0.0.12-py3-none-any.whl\n",
            "Requirement already satisfied: packaging in /usr/local/lib/python3.7/dist-packages (from transformers) (20.9)\n",
            "Requirement already satisfied: requests in /usr/local/lib/python3.7/dist-packages (from transformers) (2.23.0)\n",
            "Requirement already satisfied: filelock in /usr/local/lib/python3.7/dist-packages (from transformers) (3.0.12)\n",
            "Requirement already satisfied: pyyaml in /usr/local/lib/python3.7/dist-packages (from transformers) (3.13)\n",
            "Requirement already satisfied: tqdm>=4.27 in /usr/local/lib/python3.7/dist-packages (from transformers) (4.41.1)\n",
            "Collecting sacremoses\n",
            "\u001b[?25l  Downloading https://files.pythonhosted.org/packages/75/ee/67241dc87f266093c533a2d4d3d69438e57d7a90abb216fa076e7d475d4a/sacremoses-0.0.45-py3-none-any.whl (895kB)\n",
            "\u001b[K     |████████████████████████████████| 901kB 38.6MB/s \n",
            "\u001b[?25hRequirement already satisfied: importlib-metadata; python_version < \"3.8\" in /usr/local/lib/python3.7/dist-packages (from transformers) (4.5.0)\n",
            "Collecting tokenizers<0.11,>=0.10.1\n",
            "\u001b[?25l  Downloading https://files.pythonhosted.org/packages/d4/e2/df3543e8ffdab68f5acc73f613de9c2b155ac47f162e725dcac87c521c11/tokenizers-0.10.3-cp37-cp37m-manylinux_2_5_x86_64.manylinux1_x86_64.manylinux_2_12_x86_64.manylinux2010_x86_64.whl (3.3MB)\n",
            "\u001b[K     |████████████████████████████████| 3.3MB 31.5MB/s \n",
            "\u001b[?25hRequirement already satisfied: regex!=2019.12.17 in /usr/local/lib/python3.7/dist-packages (from transformers) (2019.12.20)\n",
            "Requirement already satisfied: typing-extensions in /usr/local/lib/python3.7/dist-packages (from huggingface-hub==0.0.12->transformers) (3.7.4.3)\n",
            "Requirement already satisfied: pyparsing>=2.0.2 in /usr/local/lib/python3.7/dist-packages (from packaging->transformers) (2.4.7)\n",
            "Requirement already satisfied: chardet<4,>=3.0.2 in /usr/local/lib/python3.7/dist-packages (from requests->transformers) (3.0.4)\n",
            "Requirement already satisfied: certifi>=2017.4.17 in /usr/local/lib/python3.7/dist-packages (from requests->transformers) (2021.5.30)\n",
            "Requirement already satisfied: urllib3!=1.25.0,!=1.25.1,<1.26,>=1.21.1 in /usr/local/lib/python3.7/dist-packages (from requests->transformers) (1.24.3)\n",
            "Requirement already satisfied: idna<3,>=2.5 in /usr/local/lib/python3.7/dist-packages (from requests->transformers) (2.10)\n",
            "Requirement already satisfied: click in /usr/local/lib/python3.7/dist-packages (from sacremoses->transformers) (7.1.2)\n",
            "Requirement already satisfied: joblib in /usr/local/lib/python3.7/dist-packages (from sacremoses->transformers) (1.0.1)\n",
            "Requirement already satisfied: six in /usr/local/lib/python3.7/dist-packages (from sacremoses->transformers) (1.15.0)\n",
            "Requirement already satisfied: zipp>=0.5 in /usr/local/lib/python3.7/dist-packages (from importlib-metadata; python_version < \"3.8\"->transformers) (3.4.1)\n",
            "Installing collected packages: huggingface-hub, sacremoses, tokenizers, transformers\n",
            "Successfully installed huggingface-hub-0.0.12 sacremoses-0.0.45 tokenizers-0.10.3 transformers-4.8.1\n"
          ],
          "name": "stdout"
        }
      ]
    },
    {
      "cell_type": "code",
      "metadata": {
        "id": "C_UI2dr5P6u3"
      },
      "source": [
        "from transformers import pipeline"
      ],
      "execution_count": 5,
      "outputs": []
    },
    {
      "cell_type": "code",
      "metadata": {
        "colab": {
          "base_uri": "https://localhost:8080/",
          "height": 311,
          "referenced_widgets": [
            "ce9ebd121f9c49ad9450e785f25c7971",
            "4dfa0a61845e4b158faca014dc53043e",
            "32234611f18445ff891b5168214388bb",
            "ed00f94c531f4924838f269d06c8fe28",
            "a4d7532f714243d8b8f49fe460b27b44",
            "5529f9a1367b439995d67edf17cbaa0d",
            "4cd06c761a494d978bfe01a7fce1be9c",
            "58db5a38da554d43a6d764875875d406",
            "b5de5d250a77447fa899991dad3710fd",
            "1a68c966ca9e4a5b8a65e9820b3d68bc",
            "d58e2ed6467e4afc83e8d2108ae3ce88",
            "699a7da9070141c89382a16abd1b6c06",
            "1c6dd4a64aa1407b9c65b6640374e61e",
            "b887b7116db948819b625abfae71d836",
            "34b8a9f7f4c04bfe9dee6c72742c53f5",
            "0fa22fc79bf34dd9a5906f3e3061fc98",
            "643e4ac9689f4ad49e5ef39086c14046",
            "d6c040e5b68c4049ad1dbdd8ce7d68ec",
            "293c003c683c487aa7bb79450f2cc23d",
            "f787c3f754f84deeb85d7e2a8ce1d080",
            "6a69e89ceeb74befbad23c1434fc7a7c",
            "a6ac728541e94ba28d5123173f0807de",
            "702e02c64055443896bb966082a89a4b",
            "ab4fa2fbd404462886aec26ff093fccd",
            "199c16ac2f494db2aa1e59e7c69807b8",
            "fe3471291ff941b8a9a0e3a24ac349a6",
            "c72ae74767a840cba437e556e47e8f80",
            "de52aaaeb242429abb68827a2d0c11ee",
            "3706ca25bed940a6a99832af3452c6a9",
            "c16e539661094d4b91f9ca8cafc09a6f",
            "3cb1ed6795cd446b84f05f602371a017",
            "911b1d1afecd4514a3333c0012f3a05c",
            "a5763c70df7e482ebd659d1d6eb6c933",
            "fafa57c0074942e9b622c9db1a5dfd6c",
            "57fd39dd8c8342cb86bec1809e338685",
            "b658c5e1d23b438e8633a9648546d781",
            "40ea57e05de44cfabfb66d94cfd61ed1",
            "e1a672138bcd4568a73baad828a0108e",
            "145944780bf1490a94c30d42b432f62c",
            "1f58e9482f62400d9b9ce510b4590602",
            "bb952ba775994b7e99082b0cff8d9878",
            "f7da67d2282547f28d02f2d87ec15386",
            "9ef1259723254e92a958c4576056d96f",
            "3e6f9cb01f534143a06e4b2883f687a4",
            "33e678f6c19f416c96df5f116525c40c",
            "ae7daedbbdf5429597e6163ee719f384",
            "2cbc52d1f5f14a44abacb68243ee7790",
            "b9fc205a63f74abeba299882aff9f179"
          ]
        },
        "id": "gKzY1CHOQCeO",
        "outputId": "18633201-97ce-4131-bdff-2b70792a3225"
      },
      "source": [
        "# generator = pipeline('text-generation', model='EleutherAI/gpt-neo-2.7B')\n",
        "generator = pipeline('text-generation', model='EleutherAI/gpt-neo-125M')"
      ],
      "execution_count": 6,
      "outputs": [
        {
          "output_type": "display_data",
          "data": {
            "application/vnd.jupyter.widget-view+json": {
              "model_id": "ce9ebd121f9c49ad9450e785f25c7971",
              "version_minor": 0,
              "version_major": 2
            },
            "text/plain": [
              "HBox(children=(FloatProgress(value=0.0, description='Downloading', max=1007.0, style=ProgressStyle(description…"
            ]
          },
          "metadata": {
            "tags": []
          }
        },
        {
          "output_type": "stream",
          "text": [
            "\n"
          ],
          "name": "stdout"
        },
        {
          "output_type": "display_data",
          "data": {
            "application/vnd.jupyter.widget-view+json": {
              "model_id": "b5de5d250a77447fa899991dad3710fd",
              "version_minor": 0,
              "version_major": 2
            },
            "text/plain": [
              "HBox(children=(FloatProgress(value=0.0, description='Downloading', max=526017373.0, style=ProgressStyle(descri…"
            ]
          },
          "metadata": {
            "tags": []
          }
        },
        {
          "output_type": "stream",
          "text": [
            "\n"
          ],
          "name": "stdout"
        },
        {
          "output_type": "display_data",
          "data": {
            "application/vnd.jupyter.widget-view+json": {
              "model_id": "643e4ac9689f4ad49e5ef39086c14046",
              "version_minor": 0,
              "version_major": 2
            },
            "text/plain": [
              "HBox(children=(FloatProgress(value=0.0, description='Downloading', max=560.0, style=ProgressStyle(description_…"
            ]
          },
          "metadata": {
            "tags": []
          }
        },
        {
          "output_type": "stream",
          "text": [
            "\n"
          ],
          "name": "stdout"
        },
        {
          "output_type": "display_data",
          "data": {
            "application/vnd.jupyter.widget-view+json": {
              "model_id": "199c16ac2f494db2aa1e59e7c69807b8",
              "version_minor": 0,
              "version_major": 2
            },
            "text/plain": [
              "HBox(children=(FloatProgress(value=0.0, description='Downloading', max=898669.0, style=ProgressStyle(descripti…"
            ]
          },
          "metadata": {
            "tags": []
          }
        },
        {
          "output_type": "stream",
          "text": [
            "\n"
          ],
          "name": "stdout"
        },
        {
          "output_type": "display_data",
          "data": {
            "application/vnd.jupyter.widget-view+json": {
              "model_id": "a5763c70df7e482ebd659d1d6eb6c933",
              "version_minor": 0,
              "version_major": 2
            },
            "text/plain": [
              "HBox(children=(FloatProgress(value=0.0, description='Downloading', max=456318.0, style=ProgressStyle(descripti…"
            ]
          },
          "metadata": {
            "tags": []
          }
        },
        {
          "output_type": "stream",
          "text": [
            "\n"
          ],
          "name": "stdout"
        },
        {
          "output_type": "display_data",
          "data": {
            "application/vnd.jupyter.widget-view+json": {
              "model_id": "bb952ba775994b7e99082b0cff8d9878",
              "version_minor": 0,
              "version_major": 2
            },
            "text/plain": [
              "HBox(children=(FloatProgress(value=0.0, description='Downloading', max=357.0, style=ProgressStyle(description_…"
            ]
          },
          "metadata": {
            "tags": []
          }
        },
        {
          "output_type": "stream",
          "text": [
            "\n"
          ],
          "name": "stdout"
        }
      ]
    },
    {
      "cell_type": "code",
      "metadata": {
        "id": "LYBX2z1SQCqE"
      },
      "source": [
        "prompt = 'The thing I hate most'"
      ],
      "execution_count": 7,
      "outputs": []
    },
    {
      "cell_type": "code",
      "metadata": {
        "colab": {
          "base_uri": "https://localhost:8080/"
        },
        "id": "dNDdnsY6QDcM",
        "outputId": "71d01602-bcbb-47f4-b4e1-91043802321a"
      },
      "source": [
        "res = generator(prompt, max_length=50, do_sample=True, temperature=0.9)"
      ],
      "execution_count": 8,
      "outputs": [
        {
          "output_type": "stream",
          "text": [
            "Setting `pad_token_id` to `eos_token_id`:50256 for open-end generation.\n"
          ],
          "name": "stderr"
        }
      ]
    },
    {
      "cell_type": "code",
      "metadata": {
        "colab": {
          "base_uri": "https://localhost:8080/"
        },
        "id": "r_DBtsEUQEuD",
        "outputId": "300141cb-3b9c-4218-e753-ac073d81460f"
      },
      "source": [
        "print(res[0]['generated_text'])"
      ],
      "execution_count": 9,
      "outputs": [
        {
          "output_type": "stream",
          "text": [
            "The thing I hate most about the world: How I would rather die in a world like ours. I hate having a friend die to death and wish I could have one day out of life when I got married. But I just love people who do\n"
          ],
          "name": "stdout"
        }
      ]
    }
  ]
}