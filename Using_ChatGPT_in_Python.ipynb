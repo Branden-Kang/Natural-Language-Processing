{
  "nbformat": 4,
  "nbformat_minor": 0,
  "metadata": {
    "colab": {
      "provenance": [],
      "authorship_tag": "ABX9TyNCyV7a7hIAVqOoEs2lil9f"
    },
    "kernelspec": {
      "name": "python3",
      "display_name": "Python 3"
    },
    "language_info": {
      "name": "python"
    }
  },
  "cells": [
    {
      "cell_type": "markdown",
      "source": [
        "[Reference](https://medium.com/geekculture/using-chatgpt-in-python-eeaed9847e72)"
      ],
      "metadata": {
        "id": "-6jhDczDz7Xq"
      }
    },
    {
      "cell_type": "code",
      "execution_count": 1,
      "metadata": {
        "colab": {
          "base_uri": "https://localhost:8080/"
        },
        "id": "Sv27bI11yfR0",
        "outputId": "4cc658cf-9ee6-43a4-827a-b88fb46eee46"
      },
      "outputs": [
        {
          "output_type": "stream",
          "name": "stdout",
          "text": [
            "Looking in indexes: https://pypi.org/simple, https://us-python.pkg.dev/colab-wheels/public/simple/\n",
            "Collecting git+https://github.com/mmabrouk/chatgpt-wrapper\n",
            "  Cloning https://github.com/mmabrouk/chatgpt-wrapper to /tmp/pip-req-build-udmylxd7\n",
            "  Running command git clone -q https://github.com/mmabrouk/chatgpt-wrapper /tmp/pip-req-build-udmylxd7\n",
            "Collecting playwright\n",
            "  Downloading playwright-1.29.0-py3-none-manylinux1_x86_64.whl (32.9 MB)\n",
            "\u001b[K     |████████████████████████████████| 32.9 MB 1.3 MB/s \n",
            "\u001b[?25hCollecting rich\n",
            "  Downloading rich-12.6.0-py3-none-any.whl (237 kB)\n",
            "\u001b[K     |████████████████████████████████| 237 kB 72.8 MB/s \n",
            "\u001b[?25hRequirement already satisfied: greenlet==2.0.1 in /usr/local/lib/python3.8/dist-packages (from playwright->chatGPT==0.3.6) (2.0.1)\n",
            "Collecting pyee==9.0.4\n",
            "  Downloading pyee-9.0.4-py2.py3-none-any.whl (14 kB)\n",
            "Requirement already satisfied: typing-extensions in /usr/local/lib/python3.8/dist-packages (from playwright->chatGPT==0.3.6) (4.4.0)\n",
            "Collecting commonmark<0.10.0,>=0.9.0\n",
            "  Downloading commonmark-0.9.1-py2.py3-none-any.whl (51 kB)\n",
            "\u001b[K     |████████████████████████████████| 51 kB 7.0 MB/s \n",
            "\u001b[?25hRequirement already satisfied: pygments<3.0.0,>=2.6.0 in /usr/local/lib/python3.8/dist-packages (from rich->chatGPT==0.3.6) (2.6.1)\n",
            "Building wheels for collected packages: chatGPT\n",
            "  Building wheel for chatGPT (setup.py) ... \u001b[?25l\u001b[?25hdone\n",
            "  Created wheel for chatGPT: filename=chatGPT-0.3.6-py3-none-any.whl size=8530 sha256=73927924cb7d488fab3b90a58917f1bab913a0f558d0753e8d6ec6854af191d7\n",
            "  Stored in directory: /tmp/pip-ephem-wheel-cache-ihu3cyg8/wheels/d5/ce/3e/ea789b65c87684dd3d8a9fa0492f13b8a3b8e8c02da09f02df\n",
            "Successfully built chatGPT\n",
            "Installing collected packages: pyee, commonmark, rich, playwright, chatGPT\n",
            "Successfully installed chatGPT-0.3.6 commonmark-0.9.1 playwright-1.29.0 pyee-9.0.4 rich-12.6.0\n"
          ]
        }
      ],
      "source": [
        "!pip install git+https://github.com/mmabrouk/chatgpt-wrapper"
      ]
    },
    {
      "cell_type": "code",
      "source": [
        "!pip freeze | grep playwright "
      ],
      "metadata": {
        "colab": {
          "base_uri": "https://localhost:8080/"
        },
        "id": "CjaQaKwYz-lm",
        "outputId": "ef4a9157-4f04-4ef7-c765-2a613968a072"
      },
      "execution_count": 2,
      "outputs": [
        {
          "output_type": "stream",
          "name": "stdout",
          "text": [
            "playwright==1.29.0\n"
          ]
        }
      ]
    },
    {
      "cell_type": "code",
      "source": [
        "!playwright install chrome"
      ],
      "metadata": {
        "colab": {
          "base_uri": "https://localhost:8080/"
        },
        "id": "MYUAM07i0ASo",
        "outputId": "cc2142de-863d-4d9e-a018-96390df9fc6a"
      },
      "execution_count": 4,
      "outputs": [
        {
          "output_type": "stream",
          "name": "stdout",
          "text": [
            "++ arch\n",
            "+ [[ x86_64 == \\a\\a\\r\\c\\h\\6\\4 ]]\n",
            "+ [[ ! -f /etc/os-release ]]\n",
            "++ bash -c 'source /etc/os-release && echo $ID'\n",
            "+ ID=ubuntu\n",
            "+ [[ ubuntu != \\u\\b\\u\\n\\t\\u ]]\n",
            "+ dpkg --get-selections\n",
            "+ grep -q '^google-chrome[[:space:]]*install$'\n",
            "+ apt-get update\n",
            "Get:1 https://cloud.r-project.org/bin/linux/ubuntu bionic-cran40/ InRelease [3,626 B]\n",
            "Get:2 http://security.ubuntu.com/ubuntu bionic-security InRelease [88.7 kB]\n",
            "Ign:3 https://developer.download.nvidia.com/compute/machine-learning/repos/ubuntu1804/x86_64  InRelease\n",
            "Hit:4 https://developer.download.nvidia.com/compute/cuda/repos/ubuntu1804/x86_64  InRelease\n",
            "Hit:5 https://developer.download.nvidia.com/compute/machine-learning/repos/ubuntu1804/x86_64  Release\n",
            "Get:6 http://ppa.launchpad.net/c2d4u.team/c2d4u4.0+/ubuntu bionic InRelease [15.9 kB]\n",
            "Hit:7 http://archive.ubuntu.com/ubuntu bionic InRelease\n",
            "Get:8 http://archive.ubuntu.com/ubuntu bionic-updates InRelease [88.7 kB]\n",
            "Hit:9 http://ppa.launchpad.net/cran/libgit2/ubuntu bionic InRelease\n",
            "Hit:11 http://ppa.launchpad.net/deadsnakes/ppa/ubuntu bionic InRelease\n",
            "Get:12 http://archive.ubuntu.com/ubuntu bionic-backports InRelease [83.3 kB]\n",
            "Hit:13 http://ppa.launchpad.net/graphics-drivers/ppa/ubuntu bionic InRelease\n",
            "Get:14 http://ppa.launchpad.net/c2d4u.team/c2d4u4.0+/ubuntu bionic/main Sources [2,235 kB]\n",
            "Get:15 http://ppa.launchpad.net/c2d4u.team/c2d4u4.0+/ubuntu bionic/main amd64 Packages [1,143 kB]\n",
            "Fetched 3,659 kB in 3s (1,110 kB/s)\n",
            "Reading package lists... Done\n",
            "+ command -v curl\n",
            "+ cd /tmp\n",
            "+ curl -O https://dl.google.com/linux/direct/google-chrome-stable_current_amd64.deb\n",
            "  % Total    % Received % Xferd  Average Speed   Time    Time     Time  Current\n",
            "                                 Dload  Upload   Total   Spent    Left  Speed\n",
            "100 88.6M  100 88.6M    0     0   281M      0 --:--:-- --:--:-- --:--:--  281M\n",
            "+ apt-get install -y ./google-chrome-stable_current_amd64.deb\n",
            "Reading package lists... Done\n",
            "Building dependency tree       \n",
            "Reading state information... Done\n",
            "Note, selecting 'google-chrome-stable' instead of './google-chrome-stable_current_amd64.deb'\n",
            "The following package was automatically installed and is no longer required:\n",
            "  libnvidia-common-460\n",
            "Use 'apt autoremove' to remove it.\n",
            "The following additional packages will be installed:\n",
            "  libu2f-udev libvulkan1 mesa-vulkan-drivers\n",
            "The following NEW packages will be installed:\n",
            "  google-chrome-stable libu2f-udev libvulkan1 mesa-vulkan-drivers\n",
            "0 upgraded, 4 newly installed, 0 to remove and 20 not upgraded.\n",
            "Need to get 3,164 kB/96.1 MB of archives.\n",
            "After this operation, 330 MB of additional disk space will be used.\n",
            "Get:1 http://archive.ubuntu.com/ubuntu bionic-updates/main amd64 libu2f-udev all 1.1.4-1ubuntu0.1 [3,884 B]\n",
            "Get:2 http://archive.ubuntu.com/ubuntu bionic-updates/universe amd64 mesa-vulkan-drivers amd64 20.0.8-0ubuntu1~18.04.1 [3,059 kB]\n",
            "Get:3 http://ppa.launchpad.net/graphics-drivers/ppa/ubuntu bionic/main amd64 libvulkan1 amd64 1.1.126.0-2~gpu18.04.1 [101 kB]\n",
            "Get:4 /tmp/google-chrome-stable_current_amd64.deb google-chrome-stable amd64 108.0.5359.124-1 [93.0 MB]\n",
            "Fetched 3,164 kB in 2s (2,030 kB/s)\n",
            "Selecting previously unselected package google-chrome-stable.\n",
            "(Reading database ... 124016 files and directories currently installed.)\n",
            "Preparing to unpack .../google-chrome-stable_current_amd64.deb ...\n",
            "Unpacking google-chrome-stable (108.0.5359.124-1) ...\n",
            "Selecting previously unselected package libu2f-udev.\n",
            "Preparing to unpack .../libu2f-udev_1.1.4-1ubuntu0.1_all.deb ...\n",
            "Unpacking libu2f-udev (1.1.4-1ubuntu0.1) ...\n",
            "Selecting previously unselected package libvulkan1:amd64.\n",
            "Preparing to unpack .../libvulkan1_1.1.126.0-2~gpu18.04.1_amd64.deb ...\n",
            "Unpacking libvulkan1:amd64 (1.1.126.0-2~gpu18.04.1) ...\n",
            "Selecting previously unselected package mesa-vulkan-drivers:amd64.\n",
            "Preparing to unpack .../mesa-vulkan-drivers_20.0.8-0ubuntu1~18.04.1_amd64.deb ...\n",
            "Unpacking mesa-vulkan-drivers:amd64 (20.0.8-0ubuntu1~18.04.1) ...\n",
            "Setting up libvulkan1:amd64 (1.1.126.0-2~gpu18.04.1) ...\n",
            "Setting up mesa-vulkan-drivers:amd64 (20.0.8-0ubuntu1~18.04.1) ...\n",
            "Setting up libu2f-udev (1.1.4-1ubuntu0.1) ...\n",
            "Setting up google-chrome-stable (108.0.5359.124-1) ...\n",
            "update-alternatives: using /usr/bin/google-chrome-stable to provide /usr/bin/x-www-browser (x-www-browser) in auto mode\n",
            "update-alternatives: using /usr/bin/google-chrome-stable to provide /usr/bin/gnome-www-browser (gnome-www-browser) in auto mode\n",
            "update-alternatives: using /usr/bin/google-chrome-stable to provide /usr/bin/google-chrome (google-chrome) in auto mode\n",
            "Processing triggers for libc-bin (2.27-3ubuntu1.6) ...\n",
            "Processing triggers for man-db (2.8.3-2ubuntu0.1) ...\n",
            "Processing triggers for mime-support (3.60ubuntu1) ...\n",
            "+ rm -rf ./google-chrome-stable_current_amd64.deb\n",
            "+ cd -\n",
            "/usr/local/lib/python3.8/dist-packages/playwright/driver/package/bin\n",
            "+ google-chrome --version\n",
            "src/tcmalloc.cc:283] Attempt to free invalid pointer 0x3bc40020c5a0 \n",
            "/usr/local/lib/python3.8/dist-packages/playwright/driver/package/bin/reinstall_chrome_stable_linux.sh: line 40:  1824 Aborted                 (core dumped) google-chrome --version\n",
            "Failed to install browsers\n",
            "Error: Failed to install chrome\n"
          ]
        }
      ]
    },
    {
      "cell_type": "code",
      "source": [
        "!chatgpt install"
      ],
      "metadata": {
        "colab": {
          "base_uri": "https://localhost:8080/"
        },
        "id": "mJJ7sUmq0Gg2",
        "outputId": "66fb3b21-dd0e-4d4c-814b-fb485be39c9b"
      },
      "execution_count": 5,
      "outputs": [
        {
          "output_type": "stream",
          "name": "stdout",
          "text": [
            "Install mode: Log in to ChatGPT in the browser that pops up, and click\n",
            "through all the dialogs, etc. Once that is acheived, exit and restart\n",
            "this program without the 'install' parameter.\n",
            "\n",
            "Traceback (most recent call last):\n",
            "  File \"/usr/local/bin/chatgpt\", line 8, in <module>\n",
            "    sys.exit(main())\n",
            "  File \"/usr/local/lib/python3.8/dist-packages/chatgpt_wrapper/chatgpt.py\", line 482, in main\n",
            "    chatgpt = ChatGPT(headless=not install_mode, **extra_kwargs)\n",
            "  File \"/usr/local/lib/python3.8/dist-packages/chatgpt_wrapper/chatgpt.py\", line 46, in __init__\n",
            "    self.browser = playbrowser.launch_persistent_context(\n",
            "  File \"/usr/local/lib/python3.8/dist-packages/playwright/sync_api/_generated.py\", line 14329, in launch_persistent_context\n",
            "    self._sync(\n",
            "  File \"/usr/local/lib/python3.8/dist-packages/playwright/_impl/_sync_base.py\", line 104, in _sync\n",
            "    return task.result()\n",
            "  File \"/usr/local/lib/python3.8/dist-packages/playwright/_impl/_browser_type.py\", line 155, in launch_persistent_context\n",
            "    from_channel(await self._channel.send(\"launchPersistentContext\", params)),\n",
            "  File \"/usr/local/lib/python3.8/dist-packages/playwright/_impl/_connection.py\", line 44, in send\n",
            "    return await self._connection.wrap_api_call(\n",
            "  File \"/usr/local/lib/python3.8/dist-packages/playwright/_impl/_connection.py\", line 419, in wrap_api_call\n",
            "    return await cb()\n",
            "  File \"/usr/local/lib/python3.8/dist-packages/playwright/_impl/_connection.py\", line 79, in inner_send\n",
            "    result = next(iter(done)).result()\n",
            "playwright._impl._api_types.Error: Executable doesn't exist at /root/.cache/ms-playwright/firefox-1369/firefox/firefox\n",
            "╔════════════════════════════════════════════════════════════╗\n",
            "║ Looks like Playwright was just installed or updated.       ║\n",
            "║ Please run the following command to download new browsers: ║\n",
            "║                                                            ║\n",
            "║     playwright install                                     ║\n",
            "║                                                            ║\n",
            "║ <3 Playwright Team                                         ║\n",
            "╚════════════════════════════════════════════════════════════╝\n"
          ]
        }
      ]
    },
    {
      "cell_type": "code",
      "source": [
        "# from chatgpt_wrapper import ChatGPT\n",
        "\n",
        "# bot = ChatGPT()\n",
        "# # return the full result\n",
        "# response = bot.ask(\"tell me a story about cats and dogs\")\n",
        "# print(response)\n",
        "\n",
        "# # return the result in streaming (chunks)\n",
        "# for chunk in bot.ask_stream(\"tell me a story about cats and dogs\"):\n",
        "#     print(chunk)"
      ],
      "metadata": {
        "id": "dLjtatj20Jzc"
      },
      "execution_count": 8,
      "outputs": []
    },
    {
      "cell_type": "code",
      "source": [
        "!pip install -U chatgpt"
      ],
      "metadata": {
        "colab": {
          "base_uri": "https://localhost:8080/"
        },
        "id": "dnTcE9Mr0O4L",
        "outputId": "9c2cb0d5-ffa1-4eab-8dc7-3dfaeb66a817"
      },
      "execution_count": 9,
      "outputs": [
        {
          "output_type": "stream",
          "name": "stdout",
          "text": [
            "Looking in indexes: https://pypi.org/simple, https://us-python.pkg.dev/colab-wheels/public/simple/\n",
            "Requirement already satisfied: chatgpt in /usr/local/lib/python3.8/dist-packages (0.3.6)\n",
            "Collecting chatgpt\n",
            "  Downloading chatgpt-2.2212.0-py3-none-any.whl (24 kB)\n",
            "Collecting tls-client\n",
            "  Downloading tls_client-0.1.6-py3-none-any.whl (30.1 MB)\n",
            "\u001b[K     |████████████████████████████████| 30.1 MB 1.2 MB/s \n",
            "\u001b[?25hRequirement already satisfied: rich in /usr/local/lib/python3.8/dist-packages (from chatgpt) (12.6.0)\n",
            "Requirement already satisfied: commonmark<0.10.0,>=0.9.0 in /usr/local/lib/python3.8/dist-packages (from rich->chatgpt) (0.9.1)\n",
            "Requirement already satisfied: pygments<3.0.0,>=2.6.0 in /usr/local/lib/python3.8/dist-packages (from rich->chatgpt) (2.6.1)\n",
            "Requirement already satisfied: typing-extensions<5.0,>=4.0.0 in /usr/local/lib/python3.8/dist-packages (from rich->chatgpt) (4.4.0)\n",
            "Installing collected packages: tls-client, chatgpt\n",
            "  Attempting uninstall: chatgpt\n",
            "    Found existing installation: chatGPT 0.3.6\n",
            "    Uninstalling chatGPT-0.3.6:\n",
            "      Successfully uninstalled chatGPT-0.3.6\n",
            "Successfully installed chatgpt-2.2212.0 tls-client-0.1.6\n"
          ]
        }
      ]
    },
    {
      "cell_type": "code",
      "source": [
        "# from chatgpt import Conversation\n",
        "\n",
        "# conversation = Conversation(config_path={somewhere_you_specified})\n",
        "\n",
        "# for chunk in conversation.stream(\"Hello\"):\n",
        "#     print(chunk, end=\"\")"
      ],
      "metadata": {
        "id": "yAv9cVKl0QnU"
      },
      "execution_count": 11,
      "outputs": []
    }
  ]
}