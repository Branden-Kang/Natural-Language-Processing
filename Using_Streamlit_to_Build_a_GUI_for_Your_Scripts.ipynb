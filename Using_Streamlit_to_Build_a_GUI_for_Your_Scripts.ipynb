{
  "nbformat": 4,
  "nbformat_minor": 0,
  "metadata": {
    "colab": {
      "provenance": [],
      "authorship_tag": "ABX9TyMYMsHckXT4QqgG2lD6wFz8"
    },
    "kernelspec": {
      "name": "python3",
      "display_name": "Python 3"
    },
    "language_info": {
      "name": "python"
    }
  },
  "cells": [
    {
      "cell_type": "markdown",
      "source": [
        "[Reference](https://python.plainenglish.io/using-streamlit-to-build-a-gui-for-your-scripts-72bd8e22ba3)"
      ],
      "metadata": {
        "id": "Z38_AATP8rMU"
      }
    },
    {
      "cell_type": "code",
      "execution_count": 1,
      "metadata": {
        "id": "HuVy7T5k8ocQ"
      },
      "outputs": [],
      "source": [
        "text_to_parse = \"Hello world this is a test! Goodbye world!\"\n",
        "\n",
        "def find_word(text, word):\n",
        "    \"\"\"Find every occurrence of a word inside a text\"\"\"\n",
        "    # Find the first occurrence of the word\n",
        "    index = text.lower().find(word)\n",
        "    # Keep searching until all occurrences have been found\n",
        "    while index != -1:\n",
        "        yield index\n",
        "        # Find the next occurrence of the word\n",
        "        index = text.find(word, index + 1)"
      ]
    },
    {
      "cell_type": "code",
      "source": [
        "print(list(find_word(text_to_parse, \"world\")))"
      ],
      "metadata": {
        "colab": {
          "base_uri": "https://localhost:8080/"
        },
        "id": "qWvA-GzB8uR5",
        "outputId": "5f7d6cac-116d-4d22-c6c7-893de77a617a"
      },
      "execution_count": 2,
      "outputs": [
        {
          "output_type": "stream",
          "name": "stdout",
          "text": [
            "[6, 36]\n"
          ]
        }
      ]
    },
    {
      "cell_type": "code",
      "source": [
        "import streamlit as st\n",
        "st.title('Word Finder')\n",
        "\n",
        "st.markdown(\"## Find\")\n",
        "text = st.text_area(\"Text to parse\", text_to_parse)\n",
        "word = st.text_input(\"Word to find\", \"world\")\n",
        "\n",
        "if st.button(\"Find\"):\n",
        "    # Find all occurrences of the word\n",
        "    result = list(find_word(text, word))\n",
        "    # Show the results\n",
        "    st.markdown(\"## Results\")\n",
        "    st.markdown(f\"Found **{word}** {len(result)} times\")\n",
        "    st.write(result)"
      ],
      "metadata": {
        "id": "gScsRnZC8vE-"
      },
      "execution_count": 3,
      "outputs": []
    }
  ]
}