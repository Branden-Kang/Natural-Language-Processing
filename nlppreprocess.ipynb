{
  "nbformat": 4,
  "nbformat_minor": 0,
  "metadata": {
    "colab": {
      "name": "nlppreprocess.ipynb",
      "provenance": [],
      "authorship_tag": "ABX9TyPLmTnFNlR0F/Xm1Jo6aQ/j"
    },
    "kernelspec": {
      "name": "python3",
      "display_name": "Python 3"
    }
  },
  "cells": [
    {
      "cell_type": "markdown",
      "metadata": {
        "id": "2q9siU54S6cR",
        "colab_type": "text"
      },
      "source": [
        "[Reference](https://pypi.org/project/nlppreprocess/)"
      ]
    },
    {
      "cell_type": "code",
      "metadata": {
        "id": "MDFRs5dlRjxI",
        "colab_type": "code",
        "colab": {
          "base_uri": "https://localhost:8080/",
          "height": 105
        },
        "outputId": "78eb937e-d49b-4c49-ccbf-e7cea7b2748b"
      },
      "source": [
        "!pip install nlppreprocess"
      ],
      "execution_count": 1,
      "outputs": [
        {
          "output_type": "stream",
          "text": [
            "Collecting nlppreprocess\n",
            "  Downloading https://files.pythonhosted.org/packages/66/8d/3a0584b924248c865a8e7ee04a93175551ebcaf156ee9b73346cd62446e6/nlppreprocess-1.0.2-py3-none-any.whl\n",
            "Installing collected packages: nlppreprocess\n",
            "Successfully installed nlppreprocess-1.0.2\n"
          ],
          "name": "stdout"
        }
      ]
    },
    {
      "cell_type": "code",
      "metadata": {
        "id": "T9ZydFtURkw2",
        "colab_type": "code",
        "colab": {}
      },
      "source": [
        "from nlppreprocess import NLP\n",
        "import pandas as pd\n",
        "obj = NLP()"
      ],
      "execution_count": 11,
      "outputs": []
    },
    {
      "cell_type": "code",
      "metadata": {
        "id": "2yqq8ORIRnC2",
        "colab_type": "code",
        "colab": {}
      },
      "source": [
        "obj = NLP(\n",
        "       replace_words=True,\n",
        "       remove_stopwords=True,\n",
        "       remove_numbers=True,\n",
        "       remove_html_tags=True,\n",
        "       remove_punctuations=True,\n",
        "       lemmatize=False,\n",
        "       lemmatize_method='wordnet'\n",
        "      )"
      ],
      "execution_count": 12,
      "outputs": []
    },
    {
      "cell_type": "code",
      "metadata": {
        "id": "4VlgRl2rT315",
        "colab_type": "code",
        "colab": {
          "base_uri": "https://localhost:8080/",
          "height": 204
        },
        "outputId": "59184f5f-d68e-4570-dbe9-d81af072a1f5"
      },
      "source": [
        "!wget https://s3.amazonaws.com/amazon-reviews-pds/tsv/amazon_reviews_multilingual_US_v1_00.tsv.gz"
      ],
      "execution_count": 9,
      "outputs": [
        {
          "output_type": "stream",
          "text": [
            "--2020-07-20 08:20:41--  https://s3.amazonaws.com/amazon-reviews-pds/tsv/amazon_reviews_multilingual_US_v1_00.tsv.gz\n",
            "Resolving s3.amazonaws.com (s3.amazonaws.com)... 52.217.1.206\n",
            "Connecting to s3.amazonaws.com (s3.amazonaws.com)|52.217.1.206|:443... connected.\n",
            "HTTP request sent, awaiting response... 200 OK\n",
            "Length: 1466965039 (1.4G) [application/x-gzip]\n",
            "Saving to: ‘amazon_reviews_multilingual_US_v1_00.tsv.gz’\n",
            "\n",
            "amazon_reviews_mult 100%[===================>]   1.37G  16.5MB/s    in 87s     \n",
            "\n",
            "2020-07-20 08:22:10 (16.0 MB/s) - ‘amazon_reviews_multilingual_US_v1_00.tsv.gz’ saved [1466965039/1466965039]\n",
            "\n"
          ],
          "name": "stdout"
        }
      ]
    },
    {
      "cell_type": "code",
      "metadata": {
        "id": "46Tk3K7tT8NE",
        "colab_type": "code",
        "colab": {}
      },
      "source": [
        "!gunzip amazon_reviews_multilingual_US_v1_00.tsv.gz"
      ],
      "execution_count": 10,
      "outputs": []
    },
    {
      "cell_type": "code",
      "metadata": {
        "id": "noynsSG1UCmP",
        "colab_type": "code",
        "colab": {
          "base_uri": "https://localhost:8080/",
          "height": 615
        },
        "outputId": "cd801872-8847-40cf-a11c-11bbf6570536"
      },
      "source": [
        "dataFrame = pd.read_csv(\"amazon_reviews_multilingual_US_v1_00.tsv\",sep='\\t', error_bad_lines=False)"
      ],
      "execution_count": 13,
      "outputs": [
        {
          "output_type": "stream",
          "text": [
            "b'Skipping line 3231472: expected 15 fields, saw 22\\n'\n",
            "b'Skipping line 3509762: expected 15 fields, saw 22\\n'\n",
            "b'Skipping line 4018793: expected 15 fields, saw 22\\n'\n",
            "b'Skipping line 4280173: expected 15 fields, saw 22\\nSkipping line 4290596: expected 15 fields, saw 22\\n'\n",
            "b'Skipping line 4331421: expected 15 fields, saw 22\\nSkipping line 4340267: expected 15 fields, saw 22\\nSkipping line 4341665: expected 15 fields, saw 22\\nSkipping line 4386155: expected 15 fields, saw 22\\nSkipping line 4388098: expected 15 fields, saw 22\\n'\n",
            "b'Skipping line 4408027: expected 15 fields, saw 22\\nSkipping line 4442615: expected 15 fields, saw 22\\n'\n",
            "b'Skipping line 4519623: expected 15 fields, saw 22\\n'\n",
            "b'Skipping line 4525797: expected 15 fields, saw 22\\nSkipping line 4543519: expected 15 fields, saw 22\\n'\n",
            "b'Skipping line 4587726: expected 15 fields, saw 22\\nSkipping line 4589301: expected 15 fields, saw 22\\nSkipping line 4634393: expected 15 fields, saw 22\\n'\n",
            "b'Skipping line 4666168: expected 15 fields, saw 22\\n'\n",
            "b'Skipping line 4725035: expected 15 fields, saw 22\\nSkipping line 4741340: expected 15 fields, saw 22\\nSkipping line 4749515: expected 15 fields, saw 22\\nSkipping line 4760314: expected 15 fields, saw 22\\nSkipping line 4781100: expected 15 fields, saw 22\\n'\n",
            "b'Skipping line 4792732: expected 15 fields, saw 22\\n'\n",
            "b'Skipping line 4856383: expected 15 fields, saw 22\\nSkipping line 4866949: expected 15 fields, saw 22\\nSkipping line 4873905: expected 15 fields, saw 22\\nSkipping line 4882587: expected 15 fields, saw 22\\n'\n",
            "b'Skipping line 4984486: expected 15 fields, saw 22\\nSkipping line 4999513: expected 15 fields, saw 22\\nSkipping line 5042461: expected 15 fields, saw 22\\n'\n",
            "b'Skipping line 5084499: expected 15 fields, saw 22\\n'\n",
            "b'Skipping line 5118966: expected 15 fields, saw 22\\n'\n",
            "b'Skipping line 5242122: expected 15 fields, saw 22\\n'\n",
            "b'Skipping line 5267808: expected 15 fields, saw 22\\nSkipping line 5272340: expected 15 fields, saw 22\\n'\n",
            "b'Skipping line 5392789: expected 15 fields, saw 22\\nSkipping line 5401043: expected 15 fields, saw 22\\n'\n",
            "b'Skipping line 5558186: expected 15 fields, saw 22\\n'\n",
            "b'Skipping line 5789638: expected 15 fields, saw 22\\nSkipping line 5812305: expected 15 fields, saw 22\\nSkipping line 5817900: expected 15 fields, saw 22\\nSkipping line 5829969: expected 15 fields, saw 22\\n'\n",
            "b'Skipping line 5842003: expected 15 fields, saw 22\\nSkipping line 5876691: expected 15 fields, saw 22\\nSkipping line 5882689: expected 15 fields, saw 22\\n'\n",
            "b'Skipping line 5909437: expected 15 fields, saw 22\\n'\n",
            "b'Skipping line 6008511: expected 15 fields, saw 22\\nSkipping line 6024504: expected 15 fields, saw 22\\nSkipping line 6025541: expected 15 fields, saw 22\\n'\n",
            "b'Skipping line 6065764: expected 15 fields, saw 22\\nSkipping line 6077731: expected 15 fields, saw 22\\nSkipping line 6087087: expected 15 fields, saw 22\\n'\n",
            "b'Skipping line 6141216: expected 15 fields, saw 22\\n'\n",
            "b'Skipping line 6284307: expected 15 fields, saw 22\\n'\n",
            "b'Skipping line 6294536: expected 15 fields, saw 22\\nSkipping line 6343210: expected 15 fields, saw 22\\nSkipping line 6351051: expected 15 fields, saw 22\\nSkipping line 6356803: expected 15 fields, saw 22\\n'\n",
            "b'Skipping line 6359236: expected 15 fields, saw 22\\n'\n",
            "b'Skipping line 6461006: expected 15 fields, saw 22\\nSkipping line 6467831: expected 15 fields, saw 22\\nSkipping line 6469554: expected 15 fields, saw 22\\n'\n",
            "b'Skipping line 6492735: expected 15 fields, saw 22\\n'\n",
            "b'Skipping line 6570155: expected 15 fields, saw 22\\n'\n",
            "b'Skipping line 6657117: expected 15 fields, saw 22\\n'\n",
            "b'Skipping line 6743804: expected 15 fields, saw 22\\n'\n"
          ],
          "name": "stderr"
        }
      ]
    },
    {
      "cell_type": "code",
      "metadata": {
        "id": "KzcVpXd7RvhP",
        "colab_type": "code",
        "colab": {}
      },
      "source": [
        "dataFrame['review_body'] = dataFrame['review_body'].apply(obj.process)"
      ],
      "execution_count": 14,
      "outputs": []
    },
    {
      "cell_type": "code",
      "metadata": {
        "id": "C0xqSdOXRzln",
        "colab_type": "code",
        "colab": {
          "base_uri": "https://localhost:8080/",
          "height": 34
        },
        "outputId": "2789df38-7e8e-4f9c-bfec-930ca901975e"
      },
      "source": [
        "print(obj.process(\"Pass a text here\"))"
      ],
      "execution_count": 15,
      "outputs": [
        {
          "output_type": "stream",
          "text": [
            "Pass text\n"
          ],
          "name": "stdout"
        }
      ]
    },
    {
      "cell_type": "code",
      "metadata": {
        "id": "VWr7sbgwR1iJ",
        "colab_type": "code",
        "colab": {
          "base_uri": "https://localhost:8080/",
          "height": 300
        },
        "outputId": "f4392e47-1e80-4137-e6b9-558b577a469c"
      },
      "source": [
        "obj = NLP()\n",
        "obj.add_stopword(['this', 'and this'])"
      ],
      "execution_count": 16,
      "outputs": [
        {
          "output_type": "error",
          "ename": "Exception",
          "evalue": "ignored",
          "traceback": [
            "\u001b[0;31m---------------------------------------------------------------------------\u001b[0m",
            "\u001b[0;31mException\u001b[0m                                 Traceback (most recent call last)",
            "\u001b[0;32m<ipython-input-16-69e641aa537d>\u001b[0m in \u001b[0;36m<module>\u001b[0;34m()\u001b[0m\n\u001b[1;32m      1\u001b[0m \u001b[0mobj\u001b[0m \u001b[0;34m=\u001b[0m \u001b[0mNLP\u001b[0m\u001b[0;34m(\u001b[0m\u001b[0;34m)\u001b[0m\u001b[0;34m\u001b[0m\u001b[0;34m\u001b[0m\u001b[0m\n\u001b[0;32m----> 2\u001b[0;31m \u001b[0mobj\u001b[0m\u001b[0;34m.\u001b[0m\u001b[0madd_stopword\u001b[0m\u001b[0;34m(\u001b[0m\u001b[0;34m[\u001b[0m\u001b[0;34m'this'\u001b[0m\u001b[0;34m,\u001b[0m \u001b[0;34m'and this'\u001b[0m\u001b[0;34m]\u001b[0m\u001b[0;34m)\u001b[0m\u001b[0;34m\u001b[0m\u001b[0;34m\u001b[0m\u001b[0m\n\u001b[0m",
            "\u001b[0;32m/usr/local/lib/python3.6/dist-packages/nlppreprocess/nlppreprocess.py\u001b[0m in \u001b[0;36madd_stopword\u001b[0;34m(self, *args)\u001b[0m\n\u001b[1;32m    145\u001b[0m             \u001b[0;32mraise\u001b[0m \u001b[0mException\u001b[0m\u001b[0;34m(\u001b[0m\u001b[0;34m\"Please enable removal of stopwords\"\u001b[0m\u001b[0;34m)\u001b[0m\u001b[0;34m\u001b[0m\u001b[0;34m\u001b[0m\u001b[0m\n\u001b[1;32m    146\u001b[0m         \u001b[0;32mif\u001b[0m \u001b[0mtype\u001b[0m\u001b[0;34m(\u001b[0m\u001b[0margs\u001b[0m\u001b[0;34m)\u001b[0m \u001b[0;34m!=\u001b[0m \u001b[0mlist\u001b[0m\u001b[0;34m:\u001b[0m\u001b[0;34m\u001b[0m\u001b[0;34m\u001b[0m\u001b[0m\n\u001b[0;32m--> 147\u001b[0;31m             \u001b[0;32mraise\u001b[0m \u001b[0mException\u001b[0m\u001b[0;34m(\u001b[0m\u001b[0;34m\"Error - pass stopwords in list\"\u001b[0m\u001b[0;34m)\u001b[0m\u001b[0;34m\u001b[0m\u001b[0;34m\u001b[0m\u001b[0m\n\u001b[0m\u001b[1;32m    148\u001b[0m         \u001b[0;32mfor\u001b[0m \u001b[0marg\u001b[0m \u001b[0;32min\u001b[0m \u001b[0margs\u001b[0m\u001b[0;34m:\u001b[0m\u001b[0;34m\u001b[0m\u001b[0;34m\u001b[0m\u001b[0m\n\u001b[1;32m    149\u001b[0m             \u001b[0mself\u001b[0m\u001b[0;34m.\u001b[0m\u001b[0mstopword_list\u001b[0m\u001b[0;34m.\u001b[0m\u001b[0madd\u001b[0m\u001b[0;34m(\u001b[0m\u001b[0marg\u001b[0m\u001b[0;34m)\u001b[0m\u001b[0;34m\u001b[0m\u001b[0;34m\u001b[0m\u001b[0m\n",
            "\u001b[0;31mException\u001b[0m: Error - pass stopwords in list"
          ]
        }
      ]
    },
    {
      "cell_type": "code",
      "metadata": {
        "id": "xACqtFdbTM6l",
        "colab_type": "code",
        "colab": {
          "base_uri": "https://localhost:8080/"
        },
        "outputId": "a6f61b9e-cc58-438d-954d-a7696ff7c64a"
      },
      "source": [
        "obj = NLP()\n",
        "obj.add_replacement([this=\"by this\", this=\"by this\"])"
      ],
      "execution_count": 17,
      "outputs": [
        {
          "output_type": "error",
          "ename": "SyntaxError",
          "evalue": "ignored",
          "traceback": [
            "\u001b[0;36m  File \u001b[0;32m\"<ipython-input-17-011da4f83153>\"\u001b[0;36m, line \u001b[0;32m2\u001b[0m\n\u001b[0;31m    obj.add_replacement([this=\"by this\", this=\"by this\"])\u001b[0m\n\u001b[0m                             ^\u001b[0m\n\u001b[0;31mSyntaxError\u001b[0m\u001b[0;31m:\u001b[0m invalid syntax\n"
          ]
        }
      ]
    }
  ]
}