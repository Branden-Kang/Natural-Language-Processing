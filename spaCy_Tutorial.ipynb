{
  "nbformat": 4,
  "nbformat_minor": 0,
  "metadata": {
    "colab": {
      "name": "spaCy Tutorial.ipynb",
      "provenance": [],
      "collapsed_sections": [],
      "authorship_tag": "ABX9TyP2Gqp5tvePtl6Q7ZDEo1Ng"
    },
    "kernelspec": {
      "name": "python3",
      "display_name": "Python 3"
    }
  },
  "cells": [
    {
      "cell_type": "markdown",
      "metadata": {
        "id": "VKwVliim0eY_",
        "colab_type": "text"
      },
      "source": [
        "[Reference](https://medium.com/analytics-vidhya/spacy-tutorial-to-learn-and-master-natural-language-processing-nlp-db6703d0a751)"
      ]
    },
    {
      "cell_type": "code",
      "metadata": {
        "id": "ll4_O8B20Ul6",
        "colab_type": "code",
        "colab": {}
      },
      "source": [
        "import spacy \n",
        "nlp = spacy.load('en_core_web_sm')"
      ],
      "execution_count": 9,
      "outputs": []
    },
    {
      "cell_type": "markdown",
      "metadata": {
        "id": "VJ1-_Gm70nua",
        "colab_type": "text"
      },
      "source": [
        "![spaCy](https://miro.medium.com/max/1392/0*AifEqFz-2wSPoDIy.png)"
      ]
    },
    {
      "cell_type": "code",
      "metadata": {
        "id": "7nFs2d8w0ivO",
        "colab_type": "code",
        "colab": {}
      },
      "source": [
        "# Create an nlp object\n",
        "doc = nlp(\"He went to play basketball\")"
      ],
      "execution_count": 2,
      "outputs": []
    },
    {
      "cell_type": "code",
      "metadata": {
        "id": "qqy8cQem0vWE",
        "colab_type": "code",
        "colab": {
          "base_uri": "https://localhost:8080/",
          "height": 34
        },
        "outputId": "9e53b601-d3bb-4c8a-a1f6-ba385a881c4b"
      },
      "source": [
        "nlp.pipe_names"
      ],
      "execution_count": 3,
      "outputs": [
        {
          "output_type": "execute_result",
          "data": {
            "text/plain": [
              "['tagger', 'parser', 'ner']"
            ]
          },
          "metadata": {
            "tags": []
          },
          "execution_count": 3
        }
      ]
    },
    {
      "cell_type": "code",
      "metadata": {
        "id": "8cotraPp0wlc",
        "colab_type": "code",
        "colab": {
          "base_uri": "https://localhost:8080/",
          "height": 51
        },
        "outputId": "a46753fe-0cc8-4a81-d82d-77d2ff5e250b"
      },
      "source": [
        "nlp.disable_pipes('tagger', 'parser')"
      ],
      "execution_count": 4,
      "outputs": [
        {
          "output_type": "execute_result",
          "data": {
            "text/plain": [
              "[('tagger', <spacy.pipeline.pipes.Tagger at 0x7fcac965dc88>),\n",
              " ('parser', <spacy.pipeline.pipes.DependencyParser at 0x7fcac94b83a8>)]"
            ]
          },
          "metadata": {
            "tags": []
          },
          "execution_count": 4
        }
      ]
    },
    {
      "cell_type": "code",
      "metadata": {
        "id": "5egZWzrA0zzE",
        "colab_type": "code",
        "colab": {
          "base_uri": "https://localhost:8080/",
          "height": 34
        },
        "outputId": "0234c993-fbca-4f3f-f12f-0324a7baf387"
      },
      "source": [
        "nlp.pipe_names"
      ],
      "execution_count": 5,
      "outputs": [
        {
          "output_type": "execute_result",
          "data": {
            "text/plain": [
              "['ner']"
            ]
          },
          "metadata": {
            "tags": []
          },
          "execution_count": 5
        }
      ]
    },
    {
      "cell_type": "markdown",
      "metadata": {
        "id": "u-9Fvn-h1Hx3",
        "colab_type": "text"
      },
      "source": [
        "# 1. Part-of-Speech (POS) Tagging using spaCy"
      ]
    },
    {
      "cell_type": "code",
      "metadata": {
        "id": "qlCaySfI001h",
        "colab_type": "code",
        "colab": {}
      },
      "source": [
        "# Create an nlp object\n",
        "doc = nlp(\"He went to play basketball\")"
      ],
      "execution_count": 10,
      "outputs": []
    },
    {
      "cell_type": "code",
      "metadata": {
        "id": "wY0S4bCT05zh",
        "colab_type": "code",
        "colab": {
          "base_uri": "https://localhost:8080/",
          "height": 102
        },
        "outputId": "75f27c22-f26c-4c0d-c4d7-486e4a95ace7"
      },
      "source": [
        "for token in doc:\n",
        "    # Print the token and its part-of-speech tag\n",
        "    print(token.text, \"-->\", token.pos_)"
      ],
      "execution_count": 11,
      "outputs": [
        {
          "output_type": "stream",
          "text": [
            "He --> PRON\n",
            "went --> VERB\n",
            "to --> PART\n",
            "play --> VERB\n",
            "basketball --> NOUN\n"
          ],
          "name": "stdout"
        }
      ]
    },
    {
      "cell_type": "code",
      "metadata": {
        "id": "0a3NsXD_07HR",
        "colab_type": "code",
        "colab": {
          "base_uri": "https://localhost:8080/",
          "height": 37
        },
        "outputId": "f9558dc7-f9f9-4b92-d4cc-95025194195d"
      },
      "source": [
        "spacy.explain(\"PART\")"
      ],
      "execution_count": 12,
      "outputs": [
        {
          "output_type": "execute_result",
          "data": {
            "application/vnd.google.colaboratory.intrinsic+json": {
              "type": "string"
            },
            "text/plain": [
              "'particle'"
            ]
          },
          "metadata": {
            "tags": []
          },
          "execution_count": 12
        }
      ]
    },
    {
      "cell_type": "markdown",
      "metadata": {
        "id": "j9DbWMKN1K0A",
        "colab_type": "text"
      },
      "source": [
        "# 2. Dependency Parsing using spaCy"
      ]
    },
    {
      "cell_type": "code",
      "metadata": {
        "id": "bKEC58hr1Eb5",
        "colab_type": "code",
        "colab": {
          "base_uri": "https://localhost:8080/",
          "height": 102
        },
        "outputId": "aa12f011-1911-4291-e93c-4979d8e4e435"
      },
      "source": [
        "for token in doc:\n",
        "    print(token.text, \"-->\", token.dep_)"
      ],
      "execution_count": 13,
      "outputs": [
        {
          "output_type": "stream",
          "text": [
            "He --> nsubj\n",
            "went --> ROOT\n",
            "to --> aux\n",
            "play --> advcl\n",
            "basketball --> dobj\n"
          ],
          "name": "stdout"
        }
      ]
    },
    {
      "cell_type": "code",
      "metadata": {
        "id": "wlPw24q11Onm",
        "colab_type": "code",
        "colab": {
          "base_uri": "https://localhost:8080/",
          "height": 102
        },
        "outputId": "8d8f979c-c037-42af-84c7-2f7f1e8c3b97"
      },
      "source": [
        "spacy.explain(\"nsubj\"), spacy.explain(\"ROOT\"), spacy.explain(\"aux\"), spacy.explain(\"advcl\"), spacy.explain(\"dobj\")"
      ],
      "execution_count": 14,
      "outputs": [
        {
          "output_type": "execute_result",
          "data": {
            "text/plain": [
              "('nominal subject',\n",
              " None,\n",
              " 'auxiliary',\n",
              " 'adverbial clause modifier',\n",
              " 'direct object')"
            ]
          },
          "metadata": {
            "tags": []
          },
          "execution_count": 14
        }
      ]
    },
    {
      "cell_type": "markdown",
      "metadata": {
        "id": "LyABl8821Uob",
        "colab_type": "text"
      },
      "source": [
        "# 3. Named Entity Recognition using spaCy"
      ]
    },
    {
      "cell_type": "code",
      "metadata": {
        "id": "Fs0q30Wd1RBH",
        "colab_type": "code",
        "colab": {
          "base_uri": "https://localhost:8080/",
          "height": 68
        },
        "outputId": "6765425d-b29b-4dbc-e8ae-5b528924afcb"
      },
      "source": [
        "doc = nlp(\"Indians spent over $71 billion on clothes in 2018\")\n",
        " \n",
        "for ent in doc.ents:\n",
        "    print(ent.text, ent.label_)"
      ],
      "execution_count": 15,
      "outputs": [
        {
          "output_type": "stream",
          "text": [
            "Indians NORP\n",
            "$71 billion MONEY\n",
            "2018 DATE\n"
          ],
          "name": "stdout"
        }
      ]
    },
    {
      "cell_type": "code",
      "metadata": {
        "id": "HbsEiCfo1W7w",
        "colab_type": "code",
        "colab": {
          "base_uri": "https://localhost:8080/",
          "height": 37
        },
        "outputId": "382fdb7d-9693-44a7-84eb-089d8363ee0e"
      },
      "source": [
        "spacy.explain(\"NORP\")"
      ],
      "execution_count": 16,
      "outputs": [
        {
          "output_type": "execute_result",
          "data": {
            "application/vnd.google.colaboratory.intrinsic+json": {
              "type": "string"
            },
            "text/plain": [
              "'Nationalities or religious or political groups'"
            ]
          },
          "metadata": {
            "tags": []
          },
          "execution_count": 16
        }
      ]
    },
    {
      "cell_type": "markdown",
      "metadata": {
        "id": "aLeqsJO11cgY",
        "colab_type": "text"
      },
      "source": [
        "# 4. Rule-Based Matching using spaCy"
      ]
    },
    {
      "cell_type": "code",
      "metadata": {
        "id": "QWWUmU6y1ZTy",
        "colab_type": "code",
        "colab": {}
      },
      "source": [
        "# Import spaCy Matcher\n",
        "from spacy.matcher import Matcher\n",
        "\n",
        "# Initialize the matcher with the spaCy vocabulary\n",
        "matcher = Matcher(nlp.vocab)\n",
        "\n",
        "doc = nlp(\"Some people start their day with lemon water\")\n",
        "\n",
        "# Define rule\n",
        "pattern = [{'TEXT': 'lemon'}, {'TEXT': 'water'}]\n",
        "\n",
        "# Add rule\n",
        "matcher.add('rule_1', None, pattern)"
      ],
      "execution_count": 17,
      "outputs": []
    },
    {
      "cell_type": "code",
      "metadata": {
        "id": "4op3E2PU1uBX",
        "colab_type": "code",
        "colab": {}
      },
      "source": [
        "matches = matcher(doc)"
      ],
      "execution_count": 20,
      "outputs": []
    },
    {
      "cell_type": "code",
      "metadata": {
        "id": "dZccCxcA1x3y",
        "colab_type": "code",
        "colab": {
          "base_uri": "https://localhost:8080/",
          "height": 34
        },
        "outputId": "45c75bcb-a0f3-4251-ea84-653024404c9a"
      },
      "source": [
        "matches"
      ],
      "execution_count": 21,
      "outputs": [
        {
          "output_type": "execute_result",
          "data": {
            "text/plain": [
              "[(7604275899133490726, 6, 8)]"
            ]
          },
          "metadata": {
            "tags": []
          },
          "execution_count": 21
        }
      ]
    },
    {
      "cell_type": "code",
      "metadata": {
        "id": "cDtmmcsK1gSn",
        "colab_type": "code",
        "colab": {
          "base_uri": "https://localhost:8080/",
          "height": 34
        },
        "outputId": "42a4efcc-9c5b-4889-a608-5860ff6b4d42"
      },
      "source": [
        "# Extract matched text\n",
        "for match_id, start, end in matches:\n",
        "    # Get the matched span\n",
        "    matched_span = doc[start:end]\n",
        "    print(matched_span.text)"
      ],
      "execution_count": 22,
      "outputs": [
        {
          "output_type": "stream",
          "text": [
            "lemon water\n"
          ],
          "name": "stdout"
        }
      ]
    },
    {
      "cell_type": "code",
      "metadata": {
        "id": "_WbqCfxe1sgF",
        "colab_type": "code",
        "colab": {}
      },
      "source": [
        "doc1 = nlp(\"You read this book\")\n",
        "doc2 = nlp(\"I will book my ticket\")\n",
        "\n",
        "pattern = [{'TEXT': 'book', 'POS': 'NOUN'}]\n",
        "\n",
        "# Initialize the matcher with the shared vocab\n",
        "matcher = Matcher(nlp.vocab)\n",
        "matcher.add('rule_2', None, pattern)"
      ],
      "execution_count": 23,
      "outputs": []
    },
    {
      "cell_type": "code",
      "metadata": {
        "id": "YqAU39f013q5",
        "colab_type": "code",
        "colab": {
          "base_uri": "https://localhost:8080/",
          "height": 34
        },
        "outputId": "f13cdd21-4d0a-4f71-be12-a92de5d21a6d"
      },
      "source": [
        "matches = matcher(doc1) \n",
        "matches"
      ],
      "execution_count": 24,
      "outputs": [
        {
          "output_type": "execute_result",
          "data": {
            "text/plain": [
              "[(375134486054924901, 3, 4)]"
            ]
          },
          "metadata": {
            "tags": []
          },
          "execution_count": 24
        }
      ]
    },
    {
      "cell_type": "code",
      "metadata": {
        "id": "IT1Gy3g915Ud",
        "colab_type": "code",
        "colab": {
          "base_uri": "https://localhost:8080/",
          "height": 34
        },
        "outputId": "8eac0329-df65-4534-f1ea-5967116e48b7"
      },
      "source": [
        "matches = matcher(doc2) \n",
        "matches"
      ],
      "execution_count": 25,
      "outputs": [
        {
          "output_type": "execute_result",
          "data": {
            "text/plain": [
              "[]"
            ]
          },
          "metadata": {
            "tags": []
          },
          "execution_count": 25
        }
      ]
    }
  ]
}